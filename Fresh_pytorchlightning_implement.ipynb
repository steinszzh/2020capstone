{
  "nbformat": 4,
  "nbformat_minor": 0,
  "metadata": {
    "colab": {
      "name": "Fresh_pytorchlightning_implement.ipynb",
      "provenance": [],
      "collapsed_sections": [],
      "toc_visible": true
    },
    "kernelspec": {
      "name": "python3",
      "display_name": "Python 3"
    },
    "widgets": {
      "application/vnd.jupyter.widget-state+json": {
        "63a52ad9318a445bac8b6bc9076fac6c": {
          "model_module": "@jupyter-widgets/controls",
          "model_name": "HBoxModel",
          "state": {
            "_view_name": "HBoxView",
            "_dom_classes": [],
            "_model_name": "HBoxModel",
            "_view_module": "@jupyter-widgets/controls",
            "_model_module_version": "1.5.0",
            "_view_count": null,
            "_view_module_version": "1.5.0",
            "box_style": "",
            "layout": "IPY_MODEL_1b3de69006c14120a5d2f74f72b8a088",
            "_model_module": "@jupyter-widgets/controls",
            "children": [
              "IPY_MODEL_657dea738e5b4fbd8c12ee8a30d7471a",
              "IPY_MODEL_983444a4b56e4b2f85411e9f3abd791c"
            ]
          }
        },
        "1b3de69006c14120a5d2f74f72b8a088": {
          "model_module": "@jupyter-widgets/base",
          "model_name": "LayoutModel",
          "state": {
            "_view_name": "LayoutView",
            "grid_template_rows": null,
            "right": null,
            "justify_content": null,
            "_view_module": "@jupyter-widgets/base",
            "overflow": null,
            "_model_module_version": "1.2.0",
            "_view_count": null,
            "flex_flow": null,
            "width": null,
            "min_width": null,
            "border": null,
            "align_items": null,
            "bottom": null,
            "_model_module": "@jupyter-widgets/base",
            "top": null,
            "grid_column": null,
            "overflow_y": null,
            "overflow_x": null,
            "grid_auto_flow": null,
            "grid_area": null,
            "grid_template_columns": null,
            "flex": null,
            "_model_name": "LayoutModel",
            "justify_items": null,
            "grid_row": null,
            "max_height": null,
            "align_content": null,
            "visibility": null,
            "align_self": null,
            "height": null,
            "min_height": null,
            "padding": null,
            "grid_auto_rows": null,
            "grid_gap": null,
            "max_width": null,
            "order": null,
            "_view_module_version": "1.2.0",
            "grid_template_areas": null,
            "object_position": null,
            "object_fit": null,
            "grid_auto_columns": null,
            "margin": null,
            "display": null,
            "left": null
          }
        },
        "657dea738e5b4fbd8c12ee8a30d7471a": {
          "model_module": "@jupyter-widgets/controls",
          "model_name": "FloatProgressModel",
          "state": {
            "_view_name": "ProgressView",
            "style": "IPY_MODEL_16e3c2ca306b4a979cd73cdd16dd7816",
            "_dom_classes": [],
            "description": "100%",
            "_model_name": "FloatProgressModel",
            "bar_style": "success",
            "max": 6387309499,
            "_view_module": "@jupyter-widgets/controls",
            "_model_module_version": "1.5.0",
            "value": 6387309499,
            "_view_count": null,
            "_view_module_version": "1.5.0",
            "orientation": "horizontal",
            "min": 0,
            "description_tooltip": null,
            "_model_module": "@jupyter-widgets/controls",
            "layout": "IPY_MODEL_150c3e29896a4c61ad299fc3f604b78d"
          }
        },
        "983444a4b56e4b2f85411e9f3abd791c": {
          "model_module": "@jupyter-widgets/controls",
          "model_name": "HTMLModel",
          "state": {
            "_view_name": "HTMLView",
            "style": "IPY_MODEL_a93067c025e34ac3b4341c26c434a3ba",
            "_dom_classes": [],
            "description": "",
            "_model_name": "HTMLModel",
            "placeholder": "​",
            "_view_module": "@jupyter-widgets/controls",
            "_model_module_version": "1.5.0",
            "value": " 5.95G/5.95G [05:37&lt;00:00, 18.9MB/s]",
            "_view_count": null,
            "_view_module_version": "1.5.0",
            "description_tooltip": null,
            "_model_module": "@jupyter-widgets/controls",
            "layout": "IPY_MODEL_d97644052aef49ada6c4b76a55585170"
          }
        },
        "16e3c2ca306b4a979cd73cdd16dd7816": {
          "model_module": "@jupyter-widgets/controls",
          "model_name": "ProgressStyleModel",
          "state": {
            "_view_name": "StyleView",
            "_model_name": "ProgressStyleModel",
            "description_width": "initial",
            "_view_module": "@jupyter-widgets/base",
            "_model_module_version": "1.5.0",
            "_view_count": null,
            "_view_module_version": "1.2.0",
            "bar_color": null,
            "_model_module": "@jupyter-widgets/controls"
          }
        },
        "150c3e29896a4c61ad299fc3f604b78d": {
          "model_module": "@jupyter-widgets/base",
          "model_name": "LayoutModel",
          "state": {
            "_view_name": "LayoutView",
            "grid_template_rows": null,
            "right": null,
            "justify_content": null,
            "_view_module": "@jupyter-widgets/base",
            "overflow": null,
            "_model_module_version": "1.2.0",
            "_view_count": null,
            "flex_flow": null,
            "width": null,
            "min_width": null,
            "border": null,
            "align_items": null,
            "bottom": null,
            "_model_module": "@jupyter-widgets/base",
            "top": null,
            "grid_column": null,
            "overflow_y": null,
            "overflow_x": null,
            "grid_auto_flow": null,
            "grid_area": null,
            "grid_template_columns": null,
            "flex": null,
            "_model_name": "LayoutModel",
            "justify_items": null,
            "grid_row": null,
            "max_height": null,
            "align_content": null,
            "visibility": null,
            "align_self": null,
            "height": null,
            "min_height": null,
            "padding": null,
            "grid_auto_rows": null,
            "grid_gap": null,
            "max_width": null,
            "order": null,
            "_view_module_version": "1.2.0",
            "grid_template_areas": null,
            "object_position": null,
            "object_fit": null,
            "grid_auto_columns": null,
            "margin": null,
            "display": null,
            "left": null
          }
        },
        "a93067c025e34ac3b4341c26c434a3ba": {
          "model_module": "@jupyter-widgets/controls",
          "model_name": "DescriptionStyleModel",
          "state": {
            "_view_name": "StyleView",
            "_model_name": "DescriptionStyleModel",
            "description_width": "",
            "_view_module": "@jupyter-widgets/base",
            "_model_module_version": "1.5.0",
            "_view_count": null,
            "_view_module_version": "1.2.0",
            "_model_module": "@jupyter-widgets/controls"
          }
        },
        "d97644052aef49ada6c4b76a55585170": {
          "model_module": "@jupyter-widgets/base",
          "model_name": "LayoutModel",
          "state": {
            "_view_name": "LayoutView",
            "grid_template_rows": null,
            "right": null,
            "justify_content": null,
            "_view_module": "@jupyter-widgets/base",
            "overflow": null,
            "_model_module_version": "1.2.0",
            "_view_count": null,
            "flex_flow": null,
            "width": null,
            "min_width": null,
            "border": null,
            "align_items": null,
            "bottom": null,
            "_model_module": "@jupyter-widgets/base",
            "top": null,
            "grid_column": null,
            "overflow_y": null,
            "overflow_x": null,
            "grid_auto_flow": null,
            "grid_area": null,
            "grid_template_columns": null,
            "flex": null,
            "_model_name": "LayoutModel",
            "justify_items": null,
            "grid_row": null,
            "max_height": null,
            "align_content": null,
            "visibility": null,
            "align_self": null,
            "height": null,
            "min_height": null,
            "padding": null,
            "grid_auto_rows": null,
            "grid_gap": null,
            "max_width": null,
            "order": null,
            "_view_module_version": "1.2.0",
            "grid_template_areas": null,
            "object_position": null,
            "object_fit": null,
            "grid_auto_columns": null,
            "margin": null,
            "display": null,
            "left": null
          }
        },
        "82d6fc67196446778507330625e4158a": {
          "model_module": "@jupyter-widgets/controls",
          "model_name": "HBoxModel",
          "state": {
            "_view_name": "HBoxView",
            "_dom_classes": [],
            "_model_name": "HBoxModel",
            "_view_module": "@jupyter-widgets/controls",
            "_model_module_version": "1.5.0",
            "_view_count": null,
            "_view_module_version": "1.5.0",
            "box_style": "",
            "layout": "IPY_MODEL_eb08765099794f3d9706dc6d7a6c2a19",
            "_model_module": "@jupyter-widgets/controls",
            "children": [
              "IPY_MODEL_67ca4fb63fdc43e49547e012d1e58bac",
              "IPY_MODEL_734c2151a3bd48e8a0e85dfcf50cc30f"
            ]
          }
        },
        "eb08765099794f3d9706dc6d7a6c2a19": {
          "model_module": "@jupyter-widgets/base",
          "model_name": "LayoutModel",
          "state": {
            "_view_name": "LayoutView",
            "grid_template_rows": null,
            "right": null,
            "justify_content": null,
            "_view_module": "@jupyter-widgets/base",
            "overflow": null,
            "_model_module_version": "1.2.0",
            "_view_count": null,
            "flex_flow": null,
            "width": null,
            "min_width": null,
            "border": null,
            "align_items": null,
            "bottom": null,
            "_model_module": "@jupyter-widgets/base",
            "top": null,
            "grid_column": null,
            "overflow_y": null,
            "overflow_x": null,
            "grid_auto_flow": null,
            "grid_area": null,
            "grid_template_columns": null,
            "flex": null,
            "_model_name": "LayoutModel",
            "justify_items": null,
            "grid_row": null,
            "max_height": null,
            "align_content": null,
            "visibility": null,
            "align_self": null,
            "height": null,
            "min_height": null,
            "padding": null,
            "grid_auto_rows": null,
            "grid_gap": null,
            "max_width": null,
            "order": null,
            "_view_module_version": "1.2.0",
            "grid_template_areas": null,
            "object_position": null,
            "object_fit": null,
            "grid_auto_columns": null,
            "margin": null,
            "display": null,
            "left": null
          }
        },
        "67ca4fb63fdc43e49547e012d1e58bac": {
          "model_module": "@jupyter-widgets/controls",
          "model_name": "FloatProgressModel",
          "state": {
            "_view_name": "ProgressView",
            "style": "IPY_MODEL_ba5e97770608415b983d51a3955c9de2",
            "_dom_classes": [],
            "description": "100%",
            "_model_name": "FloatProgressModel",
            "bar_style": "success",
            "max": 346663984,
            "_view_module": "@jupyter-widgets/controls",
            "_model_module_version": "1.5.0",
            "value": 346663984,
            "_view_count": null,
            "_view_module_version": "1.5.0",
            "orientation": "horizontal",
            "min": 0,
            "description_tooltip": null,
            "_model_module": "@jupyter-widgets/controls",
            "layout": "IPY_MODEL_250075dd61454eef97203355986f2214"
          }
        },
        "734c2151a3bd48e8a0e85dfcf50cc30f": {
          "model_module": "@jupyter-widgets/controls",
          "model_name": "HTMLModel",
          "state": {
            "_view_name": "HTMLView",
            "style": "IPY_MODEL_e3a048f3d418482d8e8f5a92506d2aa9",
            "_dom_classes": [],
            "description": "",
            "_model_name": "HTMLModel",
            "placeholder": "​",
            "_view_module": "@jupyter-widgets/controls",
            "_model_module_version": "1.5.0",
            "value": " 331M/331M [00:14&lt;00:00, 24.3MB/s]",
            "_view_count": null,
            "_view_module_version": "1.5.0",
            "description_tooltip": null,
            "_model_module": "@jupyter-widgets/controls",
            "layout": "IPY_MODEL_e4ec69f4358846e397b2b131273cc9fe"
          }
        },
        "ba5e97770608415b983d51a3955c9de2": {
          "model_module": "@jupyter-widgets/controls",
          "model_name": "ProgressStyleModel",
          "state": {
            "_view_name": "StyleView",
            "_model_name": "ProgressStyleModel",
            "description_width": "initial",
            "_view_module": "@jupyter-widgets/base",
            "_model_module_version": "1.5.0",
            "_view_count": null,
            "_view_module_version": "1.2.0",
            "bar_color": null,
            "_model_module": "@jupyter-widgets/controls"
          }
        },
        "250075dd61454eef97203355986f2214": {
          "model_module": "@jupyter-widgets/base",
          "model_name": "LayoutModel",
          "state": {
            "_view_name": "LayoutView",
            "grid_template_rows": null,
            "right": null,
            "justify_content": null,
            "_view_module": "@jupyter-widgets/base",
            "overflow": null,
            "_model_module_version": "1.2.0",
            "_view_count": null,
            "flex_flow": null,
            "width": null,
            "min_width": null,
            "border": null,
            "align_items": null,
            "bottom": null,
            "_model_module": "@jupyter-widgets/base",
            "top": null,
            "grid_column": null,
            "overflow_y": null,
            "overflow_x": null,
            "grid_auto_flow": null,
            "grid_area": null,
            "grid_template_columns": null,
            "flex": null,
            "_model_name": "LayoutModel",
            "justify_items": null,
            "grid_row": null,
            "max_height": null,
            "align_content": null,
            "visibility": null,
            "align_self": null,
            "height": null,
            "min_height": null,
            "padding": null,
            "grid_auto_rows": null,
            "grid_gap": null,
            "max_width": null,
            "order": null,
            "_view_module_version": "1.2.0",
            "grid_template_areas": null,
            "object_position": null,
            "object_fit": null,
            "grid_auto_columns": null,
            "margin": null,
            "display": null,
            "left": null
          }
        },
        "e3a048f3d418482d8e8f5a92506d2aa9": {
          "model_module": "@jupyter-widgets/controls",
          "model_name": "DescriptionStyleModel",
          "state": {
            "_view_name": "StyleView",
            "_model_name": "DescriptionStyleModel",
            "description_width": "",
            "_view_module": "@jupyter-widgets/base",
            "_model_module_version": "1.5.0",
            "_view_count": null,
            "_view_module_version": "1.2.0",
            "_model_module": "@jupyter-widgets/controls"
          }
        },
        "e4ec69f4358846e397b2b131273cc9fe": {
          "model_module": "@jupyter-widgets/base",
          "model_name": "LayoutModel",
          "state": {
            "_view_name": "LayoutView",
            "grid_template_rows": null,
            "right": null,
            "justify_content": null,
            "_view_module": "@jupyter-widgets/base",
            "overflow": null,
            "_model_module_version": "1.2.0",
            "_view_count": null,
            "flex_flow": null,
            "width": null,
            "min_width": null,
            "border": null,
            "align_items": null,
            "bottom": null,
            "_model_module": "@jupyter-widgets/base",
            "top": null,
            "grid_column": null,
            "overflow_y": null,
            "overflow_x": null,
            "grid_auto_flow": null,
            "grid_area": null,
            "grid_template_columns": null,
            "flex": null,
            "_model_name": "LayoutModel",
            "justify_items": null,
            "grid_row": null,
            "max_height": null,
            "align_content": null,
            "visibility": null,
            "align_self": null,
            "height": null,
            "min_height": null,
            "padding": null,
            "grid_auto_rows": null,
            "grid_gap": null,
            "max_width": null,
            "order": null,
            "_view_module_version": "1.2.0",
            "grid_template_areas": null,
            "object_position": null,
            "object_fit": null,
            "grid_auto_columns": null,
            "margin": null,
            "display": null,
            "left": null
          }
        }
      }
    }
  },
  "cells": [
    {
      "cell_type": "markdown",
      "metadata": {
        "id": "1hHsFSkzpVuN"
      },
      "source": [
        "# Capsone Project-- speaker verification\n",
        "\n",
        "Zhihong Zhang"
      ]
    },
    {
      "cell_type": "markdown",
      "metadata": {
        "id": "XY6YoAiUUdud"
      },
      "source": [
        "# Set up"
      ]
    },
    {
      "cell_type": "markdown",
      "metadata": {
        "id": "6J8VS4prRUsA"
      },
      "source": [
        "For this project, I would like to mainly use pytorch lighting to deal with the model for itsd simplicity and "
      ]
    },
    {
      "cell_type": "markdown",
      "metadata": {
        "id": "hjEnnHvXVMOC"
      },
      "source": [
        "After setting up, the code will be seperated into following section  \n",
        "1. Research code:  the LightningModule\n",
        "\n",
        "2.  Engineering code: Trainer\n",
        "\n",
        "3. Non-essential : Callbacks\n",
        "\n",
        "4. Data: LightningDataModule\n"
      ]
    },
    {
      "cell_type": "code",
      "metadata": {
        "colab": {
          "base_uri": "https://localhost:8080/"
        },
        "id": "facdylI4dlEl",
        "outputId": "6fa4020a-504b-405d-f6de-b3e1c684b36e"
      },
      "source": [
        "#using lighting model\n",
        "!pip install pytorch-lightning"
      ],
      "execution_count": 1,
      "outputs": [
        {
          "output_type": "stream",
          "text": [
            "Collecting pytorch-lightning\n",
            "\u001b[?25l  Downloading https://files.pythonhosted.org/packages/2e/92/078c5524c875c274ded8a0317ef31a2bb86d02c5c74089ab754d0f12b29c/pytorch_lightning-1.0.8-py3-none-any.whl (561kB)\n",
            "\u001b[K     |████████████████████████████████| 563kB 5.2MB/s \n",
            "\u001b[?25hCollecting future>=0.17.1\n",
            "\u001b[?25l  Downloading https://files.pythonhosted.org/packages/45/0b/38b06fd9b92dc2b68d58b75f900e97884c45bedd2ff83203d933cf5851c9/future-0.18.2.tar.gz (829kB)\n",
            "\u001b[K     |████████████████████████████████| 829kB 7.6MB/s \n",
            "\u001b[?25hRequirement already satisfied: tqdm>=4.41.0 in /usr/local/lib/python3.6/dist-packages (from pytorch-lightning) (4.41.1)\n",
            "Collecting PyYAML>=5.1\n",
            "\u001b[?25l  Downloading https://files.pythonhosted.org/packages/64/c2/b80047c7ac2478f9501676c988a5411ed5572f35d1beff9cae07d321512c/PyYAML-5.3.1.tar.gz (269kB)\n",
            "\u001b[K     |████████████████████████████████| 276kB 11.0MB/s \n",
            "\u001b[?25hCollecting fsspec>=0.8.0\n",
            "\u001b[?25l  Downloading https://files.pythonhosted.org/packages/a5/8b/1df260f860f17cb08698170153ef7db672c497c1840dcc8613ce26a8a005/fsspec-0.8.4-py3-none-any.whl (91kB)\n",
            "\u001b[K     |████████████████████████████████| 92kB 6.7MB/s \n",
            "\u001b[?25hRequirement already satisfied: tensorboard>=2.2.0 in /usr/local/lib/python3.6/dist-packages (from pytorch-lightning) (2.3.0)\n",
            "Requirement already satisfied: numpy>=1.16.4 in /usr/local/lib/python3.6/dist-packages (from pytorch-lightning) (1.18.5)\n",
            "Requirement already satisfied: torch>=1.3 in /usr/local/lib/python3.6/dist-packages (from pytorch-lightning) (1.7.0+cu101)\n",
            "Requirement already satisfied: absl-py>=0.4 in /usr/local/lib/python3.6/dist-packages (from tensorboard>=2.2.0->pytorch-lightning) (0.10.0)\n",
            "Requirement already satisfied: grpcio>=1.24.3 in /usr/local/lib/python3.6/dist-packages (from tensorboard>=2.2.0->pytorch-lightning) (1.33.2)\n",
            "Requirement already satisfied: wheel>=0.26; python_version >= \"3\" in /usr/local/lib/python3.6/dist-packages (from tensorboard>=2.2.0->pytorch-lightning) (0.35.1)\n",
            "Requirement already satisfied: werkzeug>=0.11.15 in /usr/local/lib/python3.6/dist-packages (from tensorboard>=2.2.0->pytorch-lightning) (1.0.1)\n",
            "Requirement already satisfied: six>=1.10.0 in /usr/local/lib/python3.6/dist-packages (from tensorboard>=2.2.0->pytorch-lightning) (1.15.0)\n",
            "Requirement already satisfied: tensorboard-plugin-wit>=1.6.0 in /usr/local/lib/python3.6/dist-packages (from tensorboard>=2.2.0->pytorch-lightning) (1.7.0)\n",
            "Requirement already satisfied: google-auth<2,>=1.6.3 in /usr/local/lib/python3.6/dist-packages (from tensorboard>=2.2.0->pytorch-lightning) (1.17.2)\n",
            "Requirement already satisfied: requests<3,>=2.21.0 in /usr/local/lib/python3.6/dist-packages (from tensorboard>=2.2.0->pytorch-lightning) (2.23.0)\n",
            "Requirement already satisfied: google-auth-oauthlib<0.5,>=0.4.1 in /usr/local/lib/python3.6/dist-packages (from tensorboard>=2.2.0->pytorch-lightning) (0.4.2)\n",
            "Requirement already satisfied: markdown>=2.6.8 in /usr/local/lib/python3.6/dist-packages (from tensorboard>=2.2.0->pytorch-lightning) (3.3.3)\n",
            "Requirement already satisfied: protobuf>=3.6.0 in /usr/local/lib/python3.6/dist-packages (from tensorboard>=2.2.0->pytorch-lightning) (3.12.4)\n",
            "Requirement already satisfied: setuptools>=41.0.0 in /usr/local/lib/python3.6/dist-packages (from tensorboard>=2.2.0->pytorch-lightning) (50.3.2)\n",
            "Requirement already satisfied: typing-extensions in /usr/local/lib/python3.6/dist-packages (from torch>=1.3->pytorch-lightning) (3.7.4.3)\n",
            "Requirement already satisfied: dataclasses in /usr/local/lib/python3.6/dist-packages (from torch>=1.3->pytorch-lightning) (0.8)\n",
            "Requirement already satisfied: pyasn1-modules>=0.2.1 in /usr/local/lib/python3.6/dist-packages (from google-auth<2,>=1.6.3->tensorboard>=2.2.0->pytorch-lightning) (0.2.8)\n",
            "Requirement already satisfied: cachetools<5.0,>=2.0.0 in /usr/local/lib/python3.6/dist-packages (from google-auth<2,>=1.6.3->tensorboard>=2.2.0->pytorch-lightning) (4.1.1)\n",
            "Requirement already satisfied: rsa<5,>=3.1.4; python_version >= \"3\" in /usr/local/lib/python3.6/dist-packages (from google-auth<2,>=1.6.3->tensorboard>=2.2.0->pytorch-lightning) (4.6)\n",
            "Requirement already satisfied: certifi>=2017.4.17 in /usr/local/lib/python3.6/dist-packages (from requests<3,>=2.21.0->tensorboard>=2.2.0->pytorch-lightning) (2020.11.8)\n",
            "Requirement already satisfied: chardet<4,>=3.0.2 in /usr/local/lib/python3.6/dist-packages (from requests<3,>=2.21.0->tensorboard>=2.2.0->pytorch-lightning) (3.0.4)\n",
            "Requirement already satisfied: urllib3!=1.25.0,!=1.25.1,<1.26,>=1.21.1 in /usr/local/lib/python3.6/dist-packages (from requests<3,>=2.21.0->tensorboard>=2.2.0->pytorch-lightning) (1.24.3)\n",
            "Requirement already satisfied: idna<3,>=2.5 in /usr/local/lib/python3.6/dist-packages (from requests<3,>=2.21.0->tensorboard>=2.2.0->pytorch-lightning) (2.10)\n",
            "Requirement already satisfied: requests-oauthlib>=0.7.0 in /usr/local/lib/python3.6/dist-packages (from google-auth-oauthlib<0.5,>=0.4.1->tensorboard>=2.2.0->pytorch-lightning) (1.3.0)\n",
            "Requirement already satisfied: importlib-metadata; python_version < \"3.8\" in /usr/local/lib/python3.6/dist-packages (from markdown>=2.6.8->tensorboard>=2.2.0->pytorch-lightning) (2.0.0)\n",
            "Requirement already satisfied: pyasn1<0.5.0,>=0.4.6 in /usr/local/lib/python3.6/dist-packages (from pyasn1-modules>=0.2.1->google-auth<2,>=1.6.3->tensorboard>=2.2.0->pytorch-lightning) (0.4.8)\n",
            "Requirement already satisfied: oauthlib>=3.0.0 in /usr/local/lib/python3.6/dist-packages (from requests-oauthlib>=0.7.0->google-auth-oauthlib<0.5,>=0.4.1->tensorboard>=2.2.0->pytorch-lightning) (3.1.0)\n",
            "Requirement already satisfied: zipp>=0.5 in /usr/local/lib/python3.6/dist-packages (from importlib-metadata; python_version < \"3.8\"->markdown>=2.6.8->tensorboard>=2.2.0->pytorch-lightning) (3.4.0)\n",
            "Building wheels for collected packages: future, PyYAML\n",
            "  Building wheel for future (setup.py) ... \u001b[?25l\u001b[?25hdone\n",
            "  Created wheel for future: filename=future-0.18.2-cp36-none-any.whl size=491057 sha256=d9cd756ba2bc9184b46aaeaae186219da1d1b657a5056e2ecc64efa466b40b72\n",
            "  Stored in directory: /root/.cache/pip/wheels/8b/99/a0/81daf51dcd359a9377b110a8a886b3895921802d2fc1b2397e\n",
            "  Building wheel for PyYAML (setup.py) ... \u001b[?25l\u001b[?25hdone\n",
            "  Created wheel for PyYAML: filename=PyYAML-5.3.1-cp36-cp36m-linux_x86_64.whl size=44619 sha256=586f8fcbc74753fca7e037fa2732a17603f7638cb6d1a042a7f8b9ef5797ea7d\n",
            "  Stored in directory: /root/.cache/pip/wheels/a7/c1/ea/cf5bd31012e735dc1dfea3131a2d5eae7978b251083d6247bd\n",
            "Successfully built future PyYAML\n",
            "Installing collected packages: future, PyYAML, fsspec, pytorch-lightning\n",
            "  Found existing installation: future 0.16.0\n",
            "    Uninstalling future-0.16.0:\n",
            "      Successfully uninstalled future-0.16.0\n",
            "  Found existing installation: PyYAML 3.13\n",
            "    Uninstalling PyYAML-3.13:\n",
            "      Successfully uninstalled PyYAML-3.13\n",
            "Successfully installed PyYAML-5.3.1 fsspec-0.8.4 future-0.18.2 pytorch-lightning-1.0.8\n"
          ],
          "name": "stdout"
        }
      ]
    },
    {
      "cell_type": "code",
      "metadata": {
        "id": "O01ewYTLdw9G"
      },
      "source": [
        "#for lighting model work properly\n",
        "import os\n",
        "import torch\n",
        "from torch import nn\n",
        "import torch.nn.functional as F\n",
        "from torchvision.datasets import MNIST\n",
        "from torch.utils.data import DataLoader, random_split\n",
        "from torchvision import transforms\n",
        "import pytorch_lightning as pl"
      ],
      "execution_count": 3,
      "outputs": []
    },
    {
      "cell_type": "code",
      "metadata": {
        "colab": {
          "base_uri": "https://localhost:8080/"
        },
        "id": "cKRehmBFpfXM",
        "outputId": "a6954295-dad3-41dc-e768-03a1d91fc8ca"
      },
      "source": [
        "# Check GPU\n",
        "device = torch.device(\"cuda\" if torch.cuda.is_available() else \"cpu\")\n",
        "print(device)"
      ],
      "execution_count": 4,
      "outputs": [
        {
          "output_type": "stream",
          "text": [
            "cpu\n"
          ],
          "name": "stdout"
        }
      ]
    },
    {
      "cell_type": "code",
      "metadata": {
        "id": "p0WR3lz_VqmX"
      },
      "source": [
        "## use for the version control \n",
        "#! ls lighting_logs/version_6/checkpoints"
      ],
      "execution_count": null,
      "outputs": []
    },
    {
      "cell_type": "code",
      "metadata": {
        "colab": {
          "base_uri": "https://localhost:8080/"
        },
        "id": "2QoB4P-w-uuw",
        "outputId": "8b69b9d0-7057-40a0-9a6e-43f9f90ef5cb"
      },
      "source": [
        "!pip install spectrum"
      ],
      "execution_count": 2,
      "outputs": [
        {
          "output_type": "stream",
          "text": [
            "Collecting spectrum\n",
            "\u001b[?25l  Downloading https://files.pythonhosted.org/packages/3a/5c/7ab3e10bdff0ca2cea964dfb249929261074851fc65aef01e124e1d1bf44/spectrum-0.8.0.tar.gz (228kB)\n",
            "\u001b[K     |████████████████████████████████| 235kB 5.7MB/s \n",
            "\u001b[?25hRequirement already satisfied: numpy in /usr/local/lib/python3.6/dist-packages (from spectrum) (1.18.5)\n",
            "Requirement already satisfied: scipy in /usr/local/lib/python3.6/dist-packages (from spectrum) (1.4.1)\n",
            "Requirement already satisfied: matplotlib in /usr/local/lib/python3.6/dist-packages (from spectrum) (3.2.2)\n",
            "Requirement already satisfied: pyparsing!=2.0.4,!=2.1.2,!=2.1.6,>=2.0.1 in /usr/local/lib/python3.6/dist-packages (from matplotlib->spectrum) (2.4.7)\n",
            "Requirement already satisfied: cycler>=0.10 in /usr/local/lib/python3.6/dist-packages (from matplotlib->spectrum) (0.10.0)\n",
            "Requirement already satisfied: kiwisolver>=1.0.1 in /usr/local/lib/python3.6/dist-packages (from matplotlib->spectrum) (1.3.1)\n",
            "Requirement already satisfied: python-dateutil>=2.1 in /usr/local/lib/python3.6/dist-packages (from matplotlib->spectrum) (2.8.1)\n",
            "Requirement already satisfied: six in /usr/local/lib/python3.6/dist-packages (from cycler>=0.10->matplotlib->spectrum) (1.15.0)\n",
            "Building wheels for collected packages: spectrum\n",
            "  Building wheel for spectrum (setup.py) ... \u001b[?25l\u001b[?25hdone\n",
            "  Created wheel for spectrum: filename=spectrum-0.8.0-cp36-cp36m-linux_x86_64.whl size=234764 sha256=1f7cab50e6c0f48731f899c29195b95d1f81f79568ecb2aed845e292e7c78e98\n",
            "  Stored in directory: /root/.cache/pip/wheels/62/de/fd/94dc5ad0a7d93803f4cb4a26744d21e91ac4bf0a63004d2b14\n",
            "Successfully built spectrum\n",
            "Installing collected packages: spectrum\n",
            "Successfully installed spectrum-0.8.0\n"
          ],
          "name": "stdout"
        }
      ]
    },
    {
      "cell_type": "markdown",
      "metadata": {
        "id": "60w3WuuNUiU5"
      },
      "source": [
        "## use plp"
      ]
    },
    {
      "cell_type": "markdown",
      "metadata": {
        "id": "DDjF42uZut2e"
      },
      "source": [
        "plp code:\n",
        "https://github.com/mystlee/rasta_py/blob/master/rasta.py"
      ]
    },
    {
      "cell_type": "code",
      "metadata": {
        "id": "EINex87-ujzH"
      },
      "source": [
        "import librosa\n",
        "import librosa.filters\n",
        "import scipy\n",
        "import scipy.fftpack as fft\n",
        "from scipy import signal\n",
        "import numpy as np\n",
        "import matplotlib.pyplot as plt\n",
        "import spectrum\n",
        "\n",
        "#work for plp\n",
        "def rastaplp(x, fs = 16000, win_time = 0.040, hop_time = 0.020, dorasta = True, modelorder = 8):\n",
        "    # first compute power spectrum\n",
        "    p_spectrum, _ = powspec(x, fs, win_time, hop_time)\n",
        "    # next group to critical bands\n",
        "    aspectrum = audspec(p_spectrum, fs)\n",
        "    nbands = aspectrum.shape[0]\n",
        "    \n",
        "    if dorasta:\n",
        "        # put in log domain\n",
        "        nl_aspectrum = np.log(aspectrum)\n",
        "        # next do rasta filtering\n",
        "        ras_nl_aspectrum = rastafilt(nl_aspectrum)\n",
        "        # do inverse log\n",
        "        aspectrum = np.exp(ras_nl_aspectrum)\n",
        "    \n",
        "    postspectrum, _ = postaud(aspectrum, fs / 2)\n",
        "    \n",
        "    lpcas = dolpc(postspectrum, modelorder);\n",
        "    cepstra = lpc2cep(lpcas, modelorder + 1);\n",
        "    \n",
        "    if modelorder > 0:\n",
        "        lpcas = dolpc(postspectrum, modelorder);\n",
        "        cepstra = lpc2cep(lpcas, modelorder + 1);\n",
        "        spectra,F,M = lpc2spec(lpcas, nbands);\n",
        "    else:\n",
        "        spectra = postspectrum\n",
        "        cepstra = spec2cep(spectra)\n",
        "    \n",
        "    cepstra = lifter(cepstra, 0.6)\n",
        "    \n",
        "    return cepstra\n",
        "\n",
        "def powspec(x, fs = 16000, window_time = 0.040, hop_time = 0.020, dither = 1):\n",
        "    win_length = int(np.round(window_time * fs))\n",
        "    hop_length = int(np.round(hop_time * fs))\n",
        "    fft_length = int(np.power(2, np.ceil(np.log2(window_time * fs))))\n",
        "    \n",
        "    X = librosa.stft(np.multiply(32768, x), n_fft = fft_length, hop_length = hop_length, \n",
        "                     win_length = win_length, window='hann', center = False)\n",
        "    pow_X = np.power(np.abs(X), 2)\n",
        "    if dither:\n",
        "        pow_X = np.add(pow_X, win_length)\n",
        "    e = np.log(np.sum(pow_X, axis = 0))\n",
        "    return pow_X, e\n",
        "\n",
        "def hz2bark(f):\n",
        "    z = np.multiply(6, np.arcsinh(np.divide(f, 600)))\n",
        "    return z\n",
        "\n",
        "def bark2hz(z):\n",
        "    hz = np.multiply(600, np.sinh(np.divide(z, 6)))\n",
        "    return hz\n",
        "\n",
        "def fft2barkmx(fft_length, fs, nfilts = 0, band_width = 1, min_freq = 0, max_freq = 0):\n",
        "    if max_freq == 0:\n",
        "        max_freq = fs / 2\n",
        "        \n",
        "    min_bark = hz2bark(min_freq)\n",
        "    nyqbark = hz2bark(max_freq) - min_bark\n",
        "    \n",
        "    if nfilts == 0 :\n",
        "        nfilts = np.add(np.ceil(nyqbark), 1)\n",
        "    \n",
        "    wts = np.zeros((int(nfilts), int(fft_length)))\n",
        "    step_barks = np.divide(nyqbark, np.subtract(nfilts, 1))\n",
        "    binbarks = hz2bark(np.multiply(np.arange(0, np.add(np.divide(fft_length, 2),1)), np.divide(fs, fft_length)))\n",
        "    \n",
        "    for i in range (int(nfilts)):\n",
        "        f_bark_mid = min_bark + np.multiply(i, step_barks)\n",
        "        lof = np.subtract(np.subtract(binbarks, f_bark_mid), 0.5)\n",
        "        hif = np.add(np.subtract(binbarks, f_bark_mid), 0.5)\n",
        "        wts[i, 0 : int(fft_length / 2) + 1] = np.power(10, np.minimum(0, np.divide(np.minimum(hif, np.multiply(-2.5, lof)), band_width)))\n",
        "    return wts\n",
        "\n",
        "def rastafilt(x):\n",
        "    numer = np.arange(-2, 3)\n",
        "    numer = np.divide(-numer, np.sum(np.multiply(numer, numer)))\n",
        "    denom = np.array([1, -0.94])\n",
        "    \n",
        "    zi = signal.lfilter_zi(numer,1)\n",
        "    y = np.zeros((x.shape))\n",
        "    for i in range(x.shape[0]):\n",
        "        y1, zi = signal.lfilter(numer, 1, x[i, 0:4], axis = 0, zi = zi * x[i, 0])\n",
        "        y1 = y1*0\n",
        "        y2, _ = signal.lfilter(numer, denom, x[i, 4:x.shape[1]], axis = 0, zi = zi)\n",
        "        y[i, :] = np.append(y1, y2)    \n",
        "    return y\n",
        "\n",
        "\n",
        "def dolpc(x, modelorder = 8):\n",
        "    nbands, nframes = x.shape\n",
        "    ncorr = 2 * (nbands - 1)\n",
        "    R = np.zeros((ncorr, nframes))\n",
        "    \n",
        "    R[0:nbands, :] = x\n",
        "    for i in range(nbands - 1):\n",
        "        R[i + nbands - 1, :] = x[nbands - (i + 1), :]\n",
        "    \n",
        "    r = fft.ifft(R.T).real.T\n",
        "    r = r[0:nbands, :]\n",
        "    \n",
        "    y = np.ones((nframes, modelorder + 1))\n",
        "    e = np.zeros((nframes, 1))\n",
        "    \n",
        "    if modelorder == 0:\n",
        "        for i in range(nframes):\n",
        "            _ , e_tmp, _ = spectrum.LEVINSON(r[:, i], modelorder, allow_singularity = True)\n",
        "            e[i, 0] = e_tmp\n",
        "    else:\n",
        "        for i in range(nframes):\n",
        "            y_tmp, e_tmp, _ = spectrum.LEVINSON(r[:, i], modelorder, allow_singularity = True)\n",
        "            y[i, 1:modelorder + 1] = y_tmp\n",
        "            e[i, 0] = e_tmp\n",
        "    \n",
        "    y = np.divide(y.T, np.add(np.tile(e.T, (modelorder + 1, 1)), 1e-8))\n",
        "    \n",
        "    return y\n",
        "\n",
        "def lpc2cep(a, nout = 0):\n",
        "    nin, ncol = a.shape\n",
        "    \n",
        "    order = nin - 1\n",
        "    \n",
        "    if nout == 0:\n",
        "        nout = order + 1\n",
        "        \n",
        "    cep = np.zeros((nout, ncol))\n",
        "    cep[0, :] = -np.log(a[0, :])\n",
        "    \n",
        "    norm_a = np.divide(a, np.add(np.tile(a[0, :], (nin, 1)), 1e-8))\n",
        "    \n",
        "    for n in range(1, nout):\n",
        "        sum = 0\n",
        "        for m in range(1, n):\n",
        "            sum = np.add(sum, np.multiply(np.multiply((n - m), norm_a[m, :]), cep[(n - m), :]))\n",
        "        \n",
        "        cep[n, :] = -np.add(norm_a[n, :], np.divide(sum, n))\n",
        "    \n",
        "    return cep\n",
        "\n",
        "def lifter(x, lift = 0.6, invs = False):\n",
        "    ncep = x.shape[0]\n",
        "    \n",
        "    if lift == 0:\n",
        "        y = x\n",
        "    else:\n",
        "        if lift < 0:\n",
        "            warnings.warn('HTK liftering does not support yet; default liftering')\n",
        "            lift = 0.6\n",
        "        liftwts = np.power(np.arange(1, ncep), lift)\n",
        "        liftwts = np.append(1, liftwts)\n",
        "        \n",
        "        if (invs):\n",
        "            liftwts = np.divide(1, liftwts)\n",
        "        \n",
        "        y = np.matmul(np.diag(liftwts), x)\n",
        "    \n",
        "    return y\n",
        "\n",
        "def melfcc(x, fs = 16000, min_freq = 50, max_freq = 6500, n_mfcc = 13, n_bands = 40, lifterexp = 0.6,\n",
        "          fbtype = 'fcmel', dcttype = 1, usecmp = True, window_time = 0.040, hop_time = 0.020,\n",
        "          preemph = 0.97, dither = 1, sumpower = 1, band_width = 1, modelorder = 0,\n",
        "           broaden = 0, useenergy = False):\n",
        "    \n",
        "    if preemph != 0:\n",
        "        b = [1, -preemph]\n",
        "        a = 1\n",
        "        x = signal.lfilter(b, a, x)\n",
        "        \n",
        "    pspectrum, logE = powspec(x, fs = fs, window_time = window_time, hop_time = hop_time, dither = dither)\n",
        "    aspectrum = audspec(pspectrum, fs = fs, nfilts = n_bands, fbtype = fbtype, \n",
        "                        min_freq = min_freq, max_freq = max_freq)\n",
        "    \n",
        "    if usecmp:\n",
        "        aspectrum, _ = postaud(aspectrum, fmax = max_freq, fbtype = fbtype)\n",
        "    \n",
        "    if modelorder > 0:\n",
        "        lpcas = dolpc(aspectrum, modelorder)\n",
        "        cepstra = lpc2cep(lpcas, nout = n_mfcc)\n",
        "\n",
        "    else:\n",
        "        cepstra, _ = spec2cep(aspectrum, ncep = n_mfcc, dcttype = dcttype)\n",
        "        \n",
        "    cepstra = lifter(cepstra, lift = lifterexp);\n",
        "    \n",
        "    if useenergy == True:\n",
        "        cepstra[0, :] = logE\n",
        "    \n",
        "    return cepstra\n",
        "\n",
        "\n",
        "def hz2mel(f, htk = False):\n",
        "    if htk:\n",
        "        z = np.multiply(2595, np.log10(np.add(1, np.divide(f, 700))))\n",
        "    else:\n",
        "        f_0 = 0.0\n",
        "        f_sp = 200 / 3\n",
        "        brkfrq = 1000\n",
        "        brkpt = (brkfrq - f_0) / f_sp\n",
        "        logstep = np.exp(np.log(6.4) / 27.0)\n",
        "        \n",
        "        f = np.array(f, ndmin = 1)\n",
        "        z = np.zeros((f.shape[0], ))\n",
        "        \n",
        "        for i in range(f.shape[0]):\n",
        "            if f[i] < brkpt:\n",
        "                z[i] = (f[i] - f_0) / f_sp\n",
        "            else:\n",
        "                z[i] = brkpt + (np.log(f[i] / brkfrq) / np.log(logstep))\n",
        "    return z\n",
        "\n",
        "def mel2hz(z, htk = False):\n",
        "    if htk:\n",
        "        f = np.multiply(700, np.subtract(np.power(10, np.divide(z, 2595)), 1))\n",
        "    else:\n",
        "        f_0 = 0\n",
        "        f_sp = 200/3\n",
        "        brkfrq = 1000\n",
        "        brkpt = (brkfrq - f_0) / f_sp\n",
        "        logstep = np.exp(np.log(6.4) / 27.0)\n",
        "        \n",
        "        z = np.array(z, ndmin = 1)\n",
        "        f = np.zeros((z.shape[0], ))\n",
        "        \n",
        "        for i in range(z.shape[0]):\n",
        "            if z[i] < brkpt:\n",
        "                f[i] = f_0 + f_sp * z[i]\n",
        "            else:\n",
        "                f[i] = brkfrq * np.exp(np.log(logstep) * (z[i] - brkpt))\n",
        "    return f\n",
        "\n",
        "def fft2melmx(fft_length, fs, nfilts = 0, band_width = 1, min_freq = 0, max_freq = 0, \n",
        "              htk = False, constamp = False):\n",
        "    if nfilts == 0 :\n",
        "        nfilts = np.ceil(hz2mel(max_freq, htk) / 2)\n",
        "    if max_freq == 0:\n",
        "        max_freq = fs / 2\n",
        "        \n",
        "    wts = np.zeros((int(nfilts), int(fft_length)))\n",
        "    fftfrqs = np.multiply(np.divide(np.arange(0,fft_length / 2 + 1), fft_length), fs)\n",
        "    \n",
        "    min_mel = hz2mel(min_freq, htk)\n",
        "    max_mel = hz2mel(max_freq, htk)\n",
        "    binfrqs = mel2hz(np.add(min_mel, np.multiply(np.arange(0, nfilts + 2),\n",
        "                                                 (max_mel - min_mel) / (nfilts + 1))), htk)\n",
        "\n",
        "    for i in range (int(nfilts)):\n",
        "        fs_tmp = binfrqs[np.add(np.arange(0,3), i)]\n",
        "        fs_tmp = np.add(fs_tmp[1], np.multiply(band_width, np.subtract(fs_tmp, fs_tmp[1])))\n",
        "        loslope = np.divide(np.subtract(fftfrqs, fs_tmp[0]), np.subtract(fs_tmp[1], fs_tmp[0]))\n",
        "        hislope = np.divide(np.subtract(fs_tmp[2], fftfrqs), np.subtract(fs_tmp[2], fs_tmp[1]))\n",
        "        wts[i, 0 : int(fft_length / 2) + 1] = np.maximum(0, np.minimum(loslope, hislope))\n",
        "    \n",
        "    if constamp == False:\n",
        "        wts = np.matmul(np.diag(np.divide(2, np.subtract(binfrqs[2 : int(nfilts) + 2],\n",
        "                                                         binfrqs[0 : int(nfilts)]))), wts)\n",
        "    \n",
        "    return wts\n",
        "\n",
        "def audspec(p_spectrum, fs = 16000, nfilts = 0, fbtype = 'bark', \n",
        "            min_freq = 0, max_freq = 0, sumpower = 1, band_width = 1):\n",
        "    if nfilts == 0:\n",
        "        np.add(np.ceil(hz2bark(fs / 2)), 1)\n",
        "    if max_freq == 0:\n",
        "        max_freq = fs / 2\n",
        "    nfreqs = p_spectrum.shape[0]\n",
        "    nfft = (int(nfreqs) - 1) * 2\n",
        "    \n",
        "    if fbtype == 'bark':\n",
        "        wts = fft2barkmx(nfft, fs, nfilts, band_width, min_freq, max_freq)\n",
        "    elif fbtype == 'mel':\n",
        "        wts = fft2melmx(nfft, fs, nfilts, band_width, min_freq, max_freq)\n",
        "    elif fbtype == 'htkmel':\n",
        "        wts = fft2melmx(nfft, fs, nfilts, band_width, min_freq, max_freq, htk = True, constamp = True)\n",
        "    elif fbtype == 'fcmel':\n",
        "        wts = fft2melmx(nfft, fs, nfilts, band_width, min_freq, max_freq, htk = True, constamp = False)\n",
        "        \n",
        "    wts = wts[:, 0 : nfreqs]\n",
        "    \n",
        "    if sumpower:\n",
        "        aspectrum = np.matmul(wts, p_spectrum)\n",
        "    else:\n",
        "        aspectrum = np.power(np.matmul(wts, np.sqrt(p_spectrum)), 2)\n",
        "    return aspectrum\n",
        "\n",
        "def postaud(x, fmax, fbtype = 'bark', broaden = 0):\n",
        "    nbands, nframes = x.shape\n",
        "    nfpts = int(nbands + 2 * broaden)\n",
        "    \n",
        "    if fbtype == 'bark':\n",
        "        bandcfhz = bark2hz(np.linspace(0, hz2bark(fmax), nfpts))\n",
        "    elif fbtype == 'mel':\n",
        "        bandcfhz = mel2hz(np.linspace(0, hz2mel(fmax), nfpts))\n",
        "    elif fbtype == 'htkmel' or fbtype == 'fcmel':\n",
        "        bandcfhz = mel2hz(np.linspace(0, hz2mel(fmax, htk = True), nfpts), htk = True)\n",
        "        \n",
        "    bandcfhz = bandcfhz[broaden : (nfpts - broaden)];\n",
        "    \n",
        "    fsq = np.power(bandcfhz, 2)\n",
        "    ftmp = np.add(fsq, 1.6e5)\n",
        "    eql = np.multiply(np.power(np.divide(fsq, ftmp), 2), np.divide(np.add(fsq, 1.44e6), np.add(fsq, 9.61e6)))\n",
        "    \n",
        "    z = np.multiply(np.tile(eql, (nframes, 1)).T, x)\n",
        "    z = np.power(z, 0.33)\n",
        "    \n",
        "    if broaden:\n",
        "        y = np.zeros((z.shape[0] + 2, z.shape[1]))\n",
        "        y[0, :] = z[0, :]\n",
        "        y[1:nbands + 1, :] = z\n",
        "        y[nbands + 1, :] = z[z.shape[0] - 1, :]\n",
        "    else:\n",
        "        y = np.zeros((z.shape[0], z.shape[1]))\n",
        "        y[0, :] = z[1, :]\n",
        "        y[1:nbands - 1, :] = z[1:z.shape[0] - 1, :]\n",
        "        y[nbands - 1, :] = z[z.shape[0] - 2, :]\n",
        "    \n",
        "    return y, eql\n",
        "\n",
        "def spec2cep(spec, ncep, dcttype):\n",
        "    nrow, ncol = spec.shape[0], spec.shape[1]\n",
        "    dctm = np.zeros((ncep, nrow))\n",
        "    \n",
        "    if dcttype == 2 or dcttype == 3:\n",
        "        for i in range(ncep):\n",
        "            dctm[i, :] = np.multiply(np.cos(np.multiply(np.divide(np.multiply(i, np.arange(1, 2 * nrow, 2)), (2 * nrow)), np.pi)), np.sqrt(2 / nrow))\n",
        "        \n",
        "        if dcttype == 2:\n",
        "            dctm[0, :] = np.divide(dctm[0, :], np.sqrt(2))\n",
        "            \n",
        "    elif dcttype == 4:\n",
        "        for i in range(ncep):\n",
        "            dctm[i, :] = np.multiply(np.cos(np.multiply(np.divide(np.multiply(i, np.arange(1, nrow + 1)), (nrow + 1)), np.pi)), 2)\n",
        "            dctm[i, 0] = np.add(dctm[i, 0], 1)\n",
        "            dctm[i, int(nrow - 1)] = np.multiply(dctm[i, int(nrow - 1)], np.power(-1, i))\n",
        "        dctm = np.divide(dctm, 2 * (nrow + 1))\n",
        "    \n",
        "    else:\n",
        "        for i in range(ncep):\n",
        "            dctm[i, :] = np.divide(np.multiply(np.cos(np.multiply(np.divide(np.multiply(i, np.arange(0, nrow)), (nrow - 1)), np.pi)), 2), 2 * (nrow - 1))\n",
        "        dctm[:, 0] = np.divide(dctm[:, 0], 2)\n",
        "        dctm[:, int(nrow - 1)] = np.divide(dctm[:, int(nrow - 1)], 2)\n",
        "    \n",
        "    cep = np.matmul(dctm, np.log(np.add(spec, 1e-8)))\n",
        "    \n",
        "    return cep, dctm\n",
        "\n",
        "def lpc2spec(lpcas, nout = 17, FMout = False):\n",
        "    \n",
        "    rows, cols = lpcas.shape\n",
        "    order = rows - 1\n",
        "    \n",
        "    gg = lpcas[0, :]\n",
        "    aa = np.divide(lpcas, np.tile(gg, (rows, 1)))\n",
        "    \n",
        "#    Calculate the actual z-plane polyvals: nout points around unit circle\n",
        "    tmp_1 = np.array(np.arange(0, nout), ndmin = 2).T\n",
        "    tmp_1 = np.divide(np.multiply(-1j, np.multiply(tmp_1, np.pi)), (nout - 1))\n",
        "    tmp_2 = np.array(np.arange(0, order + 1), ndmin = 2)\n",
        "    zz = np.exp(np.matmul(tmp_1, tmp_2))\n",
        "#    Actual polyvals, in power (mag^2)    \n",
        "    features = np.divide(np.power(np.divide(1, np.abs(np.matmul(zz, aa))), 2), np.tile(gg, (nout, 1)))\n",
        "    F = np.zeros((cols, int(np.ceil(rows / 2))))\n",
        "    M = F\n",
        "    \n",
        "    if FMout == True:\n",
        "        for c in range(cols):\n",
        "            aaa = aa[:, c]\n",
        "            rr = np.roots(aaa)\n",
        "            ff_tmp = np.angle(rr)\n",
        "            ff = np.array(ff_tmp, ndmin = 2).T\n",
        "            zz = np.exp(np.multiply(1j, np.matmul(ff, np.array(np.arange(0, aaa.shape[0]), ndmin = 2))))\n",
        "            mags = np.sqrt(np.divide(np.power(np.divide(1, np.abs(np.matmul(zz, np.array(aaa, ndmin = 2).T))), 2), gg[c]))\n",
        "            \n",
        "            ix = np.argsort(ff_tmp)\n",
        "            dummy = np.sort(ff_tmp)\n",
        "            mp_F_list = []\n",
        "            tmp_M_list = []\n",
        "            \n",
        "            for i in range(ff.shape[0]):\n",
        "                if dummy[i] > 0:\n",
        "                    tmp_F_list = np.append(tmp_F_list, dummy[i])\n",
        "                    tmp_M_list = np.append(tmp_M_list, mags[ix[i]])\n",
        "            \n",
        "            M[c, 0 : tmp_M_list.shape[0]] = tmp_M_list\n",
        "            F[c, 0 : tmp_F_list.shape[0]] = tmp_F_list\n",
        "        \n",
        "    return features, F, M\n",
        "\n",
        "def deltas(x, w = 9):\n",
        "    rows, cols = x.shape\n",
        "    hlen = np.floor(w / 2)\n",
        "    win = np.arange(hlen,-(hlen + 1),-1, dtype = 'float32')\n",
        "\n",
        "    xx = np.append(np.append(np.tile(x[:, 0], (int(hlen), 1)).T, x, axis = 1), \n",
        "               np.tile(x[:, cols - 1], (int(hlen), 1)).T, axis = 1)\n",
        "    \n",
        "    d = signal.lfilter(win, 1, xx, axis = 1)\n",
        "    d = d[:, int(2 * hlen) : int(2 * hlen + cols)]\n",
        "    return d\n",
        "\n",
        "def cep2spec(cep, nfreq, dcttype = 2):\n",
        "    ncep, ncol = cep.shape\n",
        "    \n",
        "    dctm  = np.zeros((ncep, nfreq))\n",
        "    idctm = np.zeros((nfreq, ncep))\n",
        "    \n",
        "    if dcttype == 2 or dcttype == 3:\n",
        "        for i in range(ncep):\n",
        "            dctm[i, :] = np.multiply(np.cos(np.multiply(np.divide(np.multiply(i, np.arange(1, 2 * nfreq, 2)),\n",
        "                                                                  (2 * nfreq)), np.pi)), np.sqrt(2 / nfreq))        \n",
        "            \n",
        "        if dcttype == 2:\n",
        "            dctm[0, :] = np.divide(dctm[0, :], np.sqrt(2))\n",
        "        else:\n",
        "            dctm[0, :] = np.divide(dctm[0, :], 2)\n",
        "                \n",
        "        idctm = dctm.T\n",
        "        \n",
        "    elif dcttype == 4:\n",
        "        for i in range(ncep):\n",
        "            idctm[:, i] = np.multiply(np.cos(np.multiply(np.divide(np.multiply(i, np.arange(1, nfreq + 1).T), (nfreq + 1)), np.pi)), 2)\n",
        "            \n",
        "        idctm[:, 0:ncep] = np.divide(idctm[:, 0:ncep], 2)    \n",
        "    \n",
        "    else:\n",
        "        for i in range(ncep):\n",
        "            idctm[:, i] = np.multiply(np.cos(np.multiply(np.divide(np.multiply(i, np.arange(0, nfreq).T), (nfreq - 1)), np.pi)), 2)\n",
        "            \n",
        "        idctm[:, [0, -1]] = np.divide(idctm[:, [0, -1]], 2)\n",
        "        \n",
        "    spec = np.exp(np.matmul(idctm, cep))\n",
        "    \n",
        "    return spec, idctm\n",
        "\n",
        "def invpostaud(y, fmax, fbtype = 'bark', broaden = 0):\n",
        "    \n",
        "    nbands, nframes = y.shape\n",
        "    \n",
        "    if fbtype == 'bark':\n",
        "        bandcfhz = bark2hz(np.linspace(0, hz2bark(fmax), nbands))\n",
        "    elif fbtype == 'mel':\n",
        "        bandcfhz = mel2hz(np.linspace(0, hz2mel(fmax), nbands))\n",
        "    elif fbtype == 'htkmel' or fbtype == 'fcmel':\n",
        "        bandcfhz = mel2hz(np.linspace(0, hz2mel(fmax, htk = True), nbands), htk = True)\n",
        "        \n",
        "    bandcfhz = bandcfhz[broaden : (nbands - broaden)]\n",
        "    \n",
        "    fsq = np.power(bandcfhz, 2)\n",
        "    ftmp = np.add(fsq, 1.6e5)\n",
        "    eql = np.multiply(np.power(np.divide(fsq, ftmp), 2), \n",
        "                      np.divide(np.add(fsq, 1.44e6), np.add(fsq, 9.61e6)))\n",
        "    \n",
        "    x = np.power(y, np.divide(1, 0.33))\n",
        "    \n",
        "    if eql[0] == 0:\n",
        "        eql[0] = eql[1]\n",
        "        eql[-1] = eql[-2]\n",
        "        \n",
        "    x = np.divide(x[broaden : (nbands - broaden + 1), :], np.add(np.tile(eql.T, (nframes, 1)).T, 1e-8))\n",
        "    \n",
        "    return x, eql\n",
        "\n",
        "def invpowspec(y, fs, win_time, hop_time, excit = []):\n",
        "    nrow, ncol = y.shape\n",
        "    r = excit\n",
        "    \n",
        "    winpts = int(np.round(np.multiply(win_time, fs)))\n",
        "    steppts = int(np.round(np.multiply(hop_time, fs)))\n",
        "    nfft = int(np.power(2, np.ceil(np.divide(np.log(winpts), np.log(2)))))\n",
        "    \n",
        "    # Can't predict librosa stft length...\n",
        "    tmp = librosa.istft(y, hop_length = steppts, win_length = winpts, \n",
        "                      window='hann', center = False)\n",
        "    xlen = len(tmp)\n",
        "    # xlen = int(np.add(winpts, np.multiply(steppts, np.subtract(ncol, 1))))\n",
        "    # xlen = int(np.multiply(steppts, np.subtract(ncol, 1)))\n",
        "    \n",
        "    if len(r) == 0:\n",
        "        r = np.squeeze(np.random.randn(xlen, 1))\n",
        "    r = r[0:xlen]\n",
        "    \n",
        "    R = librosa.stft(np.divide(r, 32768 * 12), n_fft = nfft, hop_length = steppts,\n",
        "                     win_length = winpts, window = 'hann', center = False)\n",
        "\n",
        "    R = np.multiply(R, np.sqrt(y))\n",
        "    x = librosa.istft(R, hop_length = steppts, win_length = winpts, \n",
        "                      window = 'hann', center = False)\n",
        "                     \n",
        "    return x\n",
        "\n",
        "def invaudspec(aspectrum, fs = 16000, nfft = 512, fbtype = 'bark', \n",
        "               min_freq = 0, max_freq = 0, sumpower = True, band_width = 1):\n",
        "    \n",
        "    if max_freq == 0:\n",
        "        max_freq = fs / 2\n",
        "    nfilts, nframes = aspectrum.shape\n",
        "    \n",
        "    if fbtype == 'bark':\n",
        "        wts = fft2barkmx(nfft, fs, nfilts, band_width, min_freq, max_freq)\n",
        "    elif fbtype == 'mel':\n",
        "        wts = fft2melmx(nfft, fs, nfilts, band_width, min_freq, max_freq)\n",
        "    elif fbtype == 'htkmel':\n",
        "        wts = fft2melmx(nfft, fs, nfilts, band_width, min_freq, max_freq, htk = True, constamp = True)\n",
        "    elif fbtype == 'fcmel':\n",
        "        wts = fft2melmx(nfft, fs, nfilts, band_width, min_freq, max_freq, htk = True, constamp = False)\n",
        "    \n",
        "    wts = wts[:, 0:int(nfft / 2 + 1)]\n",
        "    \n",
        "    ww = np.matmul(wts.T, wts)\n",
        "    itws = np.divide(wts.T, np.tile(np.maximum(np.divide(np.mean(np.diag(ww)), 100), \n",
        "                                               np.sum(ww, axis = 0)), (nfilts, 1)).T)\n",
        "    if sumpower == True:\n",
        "        spec = np.matmul(itws, aspectrum)\n",
        "    else:\n",
        "        spec = np.power(np.matmul(itws, np.sqrt(aspectrum)))\n",
        "   \n",
        "    return spec, wts, itws\n",
        "\n",
        "def invmelfcc(cep, fs, win_time = 0.040, hop_time = 0.020, lifterexp = 0.6, sumpower = True,\n",
        "             preemph = 0.97, max_freq = 6500, min_freq = 50, n_bands = 40, band_width = 1,\n",
        "             dcttype = 2, fbtype = 'mel', usecmp = False, modelorder = 0, broaden = 0, excitation = []):\n",
        "    \n",
        "    winpts = int(np.round(np.multiply(win_time, fs)))\n",
        "    nfft = int(np.power(2, np.ceil(np.divide(np.log(winpts), np.log(2)))))\n",
        "    \n",
        "    cep = lifter(cep, lift = lifterexp, invs = True)\n",
        "    \n",
        "    pspc, _ = cep2spec(cep, nfreq = int(n_bands + 2 * broaden), dcttype = dcttype)\n",
        "    \n",
        "    if usecmp == True:\n",
        "        aspc, _ = invpostaud(pspc, fmax = max_freq, fbtype = fbtype, broaden = broaden)\n",
        "    else:\n",
        "        aspc = pspc\n",
        "        \n",
        "    spec, _, _ = invaudspec(aspc, fs = fs, nfft = nfft, fbtype = fbtype, min_freq = min_freq,\n",
        "                            max_freq = max_freq, sumpower = sumpower, band_width = band_width)\n",
        "    \n",
        "    x = invpowspec(spec, fs, win_time = win_time, hop_time = hop_time, excit = excitation)\n",
        "    \n",
        "    if preemph != 0:\n",
        "        b = [1, -preemph]\n",
        "        a = 1\n",
        "        x = signal.lfilter(b, a, x)\n",
        "    \n",
        "    return x, aspc, spec, pspc    \n",
        "# reference\n",
        "# https://labrosa.ee.columbia.edu/matlab/rastamat/\n"
      ],
      "execution_count": null,
      "outputs": []
    },
    {
      "cell_type": "code",
      "metadata": {
        "colab": {
          "base_uri": "https://localhost:8080/"
        },
        "id": "PzpW4CBS1rWk",
        "outputId": "306bc38e-f1eb-43a9-aa99-b48df637d8e7"
      },
      "source": [
        "!pip install torchaudio"
      ],
      "execution_count": 6,
      "outputs": [
        {
          "output_type": "stream",
          "text": [
            "Collecting torchaudio\n",
            "\u001b[?25l  Downloading https://files.pythonhosted.org/packages/3f/23/6b54106b3de029d3f10cf8debc302491c17630357449c900d6209665b302/torchaudio-0.7.0-cp36-cp36m-manylinux1_x86_64.whl (7.6MB)\n",
            "\u001b[K     |████████████████████████████████| 7.6MB 4.0MB/s \n",
            "\u001b[?25hRequirement already satisfied: torch==1.7.0 in /usr/local/lib/python3.6/dist-packages (from torchaudio) (1.7.0+cu101)\n",
            "Requirement already satisfied: numpy in /usr/local/lib/python3.6/dist-packages (from torch==1.7.0->torchaudio) (1.18.5)\n",
            "Requirement already satisfied: future in /usr/local/lib/python3.6/dist-packages (from torch==1.7.0->torchaudio) (0.18.2)\n",
            "Requirement already satisfied: dataclasses in /usr/local/lib/python3.6/dist-packages (from torch==1.7.0->torchaudio) (0.8)\n",
            "Requirement already satisfied: typing-extensions in /usr/local/lib/python3.6/dist-packages (from torch==1.7.0->torchaudio) (3.7.4.3)\n",
            "Installing collected packages: torchaudio\n",
            "Successfully installed torchaudio-0.7.0\n"
          ],
          "name": "stdout"
        }
      ]
    },
    {
      "cell_type": "code",
      "metadata": {
        "id": "vLZkCpWm1mSu",
        "colab": {
          "base_uri": "https://localhost:8080/"
        },
        "outputId": "da4394b2-049d-47be-b606-63c6064c3424"
      },
      "source": [
        "import torchaudio\n",
        "import requests\n",
        "import matplotlib.pyplot as plt"
      ],
      "execution_count": 7,
      "outputs": [
        {
          "output_type": "stream",
          "text": [
            "/usr/local/lib/python3.6/dist-packages/torchaudio/backend/utils.py:54: UserWarning: \"sox\" backend is being deprecated. The default backend will be changed to \"sox_io\" backend in 0.8.0 and \"sox\" backend will be removed in 0.9.0. Please migrate to \"sox_io\" backend. Please refer to https://github.com/pytorch/audio/issues/903 for the detail.\n",
            "  '\"sox\" backend is being deprecated. '\n"
          ],
          "name": "stderr"
        }
      ]
    },
    {
      "cell_type": "markdown",
      "metadata": {
        "id": "HnOyBzqVSSIS"
      },
      "source": [
        "## Download data"
      ]
    },
    {
      "cell_type": "markdown",
      "metadata": {
        "id": "MPRWg8QDvEIo"
      },
      "source": [
        "In this version, I will use Librispeech dataset only for its ease accessibility"
      ]
    },
    {
      "cell_type": "code",
      "metadata": {
        "colab": {
          "base_uri": "https://localhost:8080/",
          "height": 115,
          "referenced_widgets": [
            "63a52ad9318a445bac8b6bc9076fac6c",
            "1b3de69006c14120a5d2f74f72b8a088",
            "657dea738e5b4fbd8c12ee8a30d7471a",
            "983444a4b56e4b2f85411e9f3abd791c",
            "16e3c2ca306b4a979cd73cdd16dd7816",
            "150c3e29896a4c61ad299fc3f604b78d",
            "a93067c025e34ac3b4341c26c434a3ba",
            "d97644052aef49ada6c4b76a55585170",
            "82d6fc67196446778507330625e4158a",
            "eb08765099794f3d9706dc6d7a6c2a19",
            "67ca4fb63fdc43e49547e012d1e58bac",
            "734c2151a3bd48e8a0e85dfcf50cc30f",
            "ba5e97770608415b983d51a3955c9de2",
            "250075dd61454eef97203355986f2214",
            "e3a048f3d418482d8e8f5a92506d2aa9",
            "e4ec69f4358846e397b2b131273cc9fe"
          ]
        },
        "id": "XLm18o6uimQn",
        "outputId": "960bdbd9-2d13-4d0d-d5d7-80e2be1f411a"
      },
      "source": [
        "#import torchaudio\n",
        "\n",
        "train_dataset = torchaudio.datasets.LIBRISPEECH(\"./\", url=\"train-clean-100\", download=True)\n",
        "test_dataset = torchaudio.datasets.LIBRISPEECH(\"./\", url=\"test-clean\", download=True)\n"
      ],
      "execution_count": 8,
      "outputs": [
        {
          "output_type": "display_data",
          "data": {
            "application/vnd.jupyter.widget-view+json": {
              "model_id": "63a52ad9318a445bac8b6bc9076fac6c",
              "version_minor": 0,
              "version_major": 2
            },
            "text/plain": [
              "HBox(children=(FloatProgress(value=0.0, max=6387309499.0), HTML(value='')))"
            ]
          },
          "metadata": {
            "tags": []
          }
        },
        {
          "output_type": "stream",
          "text": [
            "\n"
          ],
          "name": "stdout"
        },
        {
          "output_type": "display_data",
          "data": {
            "application/vnd.jupyter.widget-view+json": {
              "model_id": "82d6fc67196446778507330625e4158a",
              "version_minor": 0,
              "version_major": 2
            },
            "text/plain": [
              "HBox(children=(FloatProgress(value=0.0, max=346663984.0), HTML(value='')))"
            ]
          },
          "metadata": {
            "tags": []
          }
        },
        {
          "output_type": "stream",
          "text": [
            "\n"
          ],
          "name": "stdout"
        }
      ]
    },
    {
      "cell_type": "code",
      "metadata": {
        "colab": {
          "base_uri": "https://localhost:8080/",
          "height": 75
        },
        "id": "yyhxdKyqsb58",
        "outputId": "8ff40c22-4787-4f90-e640-7716b05ae306"
      },
      "source": [
        "#check the audio file\n",
        "from IPython.display import Audio\n",
        "Audio(\"/content/LibriSpeech/train-clean-100/103/1240/103-1240-0000.flac\")"
      ],
      "execution_count": 10,
      "outputs": [
        {
          "output_type": "execute_result",
          "data": {
            "text/html": [
              "\n",
              "                <audio controls=\"controls\" >\n",
              "                    <source src=\"data:audio/flac;base64,ZkxhQwAAACIQABAAAABrABdJA+gA8AADcFBBIiqJSWYyfbT4mvp05eGhAwAAJAAAAAAAAAAAAAAAAAAAAAAQAAAAAAAAAnAAAAAAAAACm04QAAQAACggAAAAcmVmZXJlbmNlIGxpYkZMQUMgMS4yLjEgMjAwNzA5MTcAAAAAgQAgAAAAAAAAAAAAAAAAAAAAAAAAAAAAAAAAAAAAAAAAAAAAAAAAAAAAAAAAAAAAAAAAAAAAAAAAAAAAAAAAAAAAAAAAAAAAAAAAAAAAAAAAAAAAAAAAAAAAAAAAAAAAAAAAAAAAAAAAAAAAAAAAAAAAAAAAAAAAAAAAAAAAAAAAAAAAAAAAAAAAAAAAAAAAAAAAAAAAAAAAAAAAAAAAAAAAAAAAAAAAAAAAAAAAAAAAAAAAAAAAAAAAAAAAAAAAAAAAAAAAAAAAAAAAAAAAAAAAAAAAAAAAAAAAAAAAAAAAAAAAAAAAAAAAAAAAAAAAAAAAAAAAAAAAAAAAAAAAAAAAAAAAAAAAAAAAAAAAAAAAAAAAAAAAAAAAAAAAAAAAAAAAAAAAAAAAAAAAAAAAAAAAAAAAAAAAAAAAAAAAAAAAAAAAAAAAAAAAAAAAAAAAAAAAAAAAAAAAAAAAAAAAAAAAAAAAAAAAAAAAAAAAAAAAAAAAAAAAAAAAAAAAAAAAAAAAAAAAAAAAAAAAAAAAAAAAAAAAAAAAAAAAAAAAAAAAAAAAAAAAAAAAAAAAAAAAAAAAAAAAAAAAAAAAAAAAAAAAAAAAAAAAAAAAAAAAAAAAAAAAAAAAAAAAAAAAAAAAAAAAAAAAAAAAAAAAAAAAAAAAAAAAAAAAAAAAAAAAAAAAAAAAAAAAAAAAAAAAAAAAAAAAAAAAAAAAAAAAAAAAAAAAAAAAAAAAAAAAAAAAAAAAAAAAAAAAAAAAAAAAAAAAAAAAAAAAAAAAAAAAAAAAAAAAAAAAAAAAAAAAAAAAAAAAAAAAAAAAAAAAAAAAAAAAAAAAAAAAAAAAAAAAAAAAAAAAAAAAAAAAAAAAAAAAAAAAAAAAAAAAAAAAAAAAAAAAAAAAAAAAAAAAAAAAAAAAAAAAAAAAAAAAAAAAAAAAAAAAAAAAAAAAAAAAAAAAAAAAAAAAAAAAAAAAAAAAAAAAAAAAAAAAAAAAAAAAAAAAAAAAAAAAAAAAAAAAAAAAAAAAAAAAAAAAAAAAAAAAAAAAAAAAAAAAAAAAAAAAAAAAAAAAAAAAAAAAAAAAAAAAAAAAAAAAAAAAAAAAAAAAAAAAAAAAAAAAAAAAAAAAAAAAAAAAAAAAAAAAAAAAAAAAAAAAAAAAAAAAAAAAAAAAAAAAAAAAAAAAAAAAAAAAAAAAAAAAAAAAAAAAAAAAAAAAAAAAAAAAAAAAAAAAAAAAAAAAAAAAAAAAAAAAAAAAAAAAAAAAAAAAAAAAAAAAAAAAAAAAAAAAAAAAAAAAAAAAAAAAAAAAAAAAAAAAAAAAAAAAAAAAAAAAAAAAAAAAAAAAAAAAAAAAAAAAAAAAAAAAAAAAAAAAAAAAAAAAAAAAAAAAAAAAAAAAAAAAAAAAAAAAAAAAAAAAAAAAAAAAAAAAAAAAAAAAAAAAAAAAAAAAAAAAAAAAAAAAAAAAAAAAAAAAAAAAAAAAAAAAAAAAAAAAAAAAAAAAAAAAAAAAAAAAAAAAAAAAAAAAAAAAAAAAAAAAAAAAAAAAAAAAAAAAAAAAAAAAAAAAAAAAAAAAAAAAAAAAAAAAAAAAAAAAAAAAAAAAAAAAAAAAAAAAAAAAAAAAAAAAAAAAAAAAAAAAAAAAAAAAAAAAAAAAAAAAAAAAAAAAAAAAAAAAAAAAAAAAAAAAAAAAAAAAAAAAAAAAAAAAAAAAAAAAAAAAAAAAAAAAAAAAAAAAAAAAAAAAAAAAAAAAAAAAAAAAAAAAAAAAAAAAAAAAAAAAAAAAAAAAAAAAAAAAAAAAAAAAAAAAAAAAAAAAAAAAAAAAAAAAAAAAAAAAAAAAAAAAAAAAAAAAAAAAAAAAAAAAAAAAAAAAAAAAAAAAAAAAAAAAAAAAAAAAAAAAAAAAAAAAAAAAAAAAAAAAAAAAAAAAAAAAAAAAAAAAAAAAAAAAAAAAAAAAAAAAAAAAAAAAAAAAAAAAAAAAAAAAAAAAAAAAAAAAAAAAAAAAAAAAAAAAAAAAAAAAAAAAAAAAAAAAAAAAAAAAAAAAAAAAAAAAAAAAAAAAAAAAAAAAAAAAAAAAAAAAAAAAAAAAAAAAAAAAAAAAAAAAAAAAAAAAAAAAAAAAAAAAAAAAAAAAAAAAAAAAAAAAAAAAAAAAAAAAAAAAAAAAAAAAAAAAAAAAAAAAAAAAAAAAAAAAAAAAAAAAAAAAAAAAAAAAAAAAAAAAAAAAAAAAAAAAAAAAAAAAAAAAAAAAAAAAAAAAAAAAAAAAAAAAAAAAAAAAAAAAAAAAAAAAAAAAAAAAAAAAAAAAAAAAAAAAAAAAAAAAAAAAAAAAAAAAAAAAAAAAAAAAAAAAAAAAAAAAAAAAAAAAAAAAAAAAAAAAAAAAAAAAAAAAAAAAAAAAAAAAAAAAAAAAAAAAAAAAAAAAAAAAAAAAAAAAAAAAAAAAAAAAAAAAAAAAAAAAAAAAAAAAAAAAAAAAAAAAAAAAAAAAAAAAAAAAAAAAAAAAAAAAAAAAAAAAAAAAAAAAAAAAAAAAAAAAAAAAAAAAAAAAAAAAAAAAAAAAAAAAAAAAAAAAAAAAAAAAAAAAAAAAAAAAAAAAAAAAAAAAAAAAAAAAAAAAAAAAAAAAAAAAAAAAAAAAAAAAAAAAAAAAAAAAAAAAAAAAAAAAAAAAAAAAAAAAAAAAAAAAAAAAAAAAAAAAAAAAAAAAAAAAAAAAAAAAAAAAAAAAAAAAAAAAAAAAAAAAAAAAAAAAAAAAAAAAAAAAAAAAAAAAAAAAAAAAAAAAAAAAAAAAAAAAAAAAAAAAAAAAAAAAAAAAAAAAAAAAAAAAAAAAAAAAAAAAAAAAAAAAAAAAAAAAAAAAAAAAAAAAAAAAAAAAAAAAAAAAAAAAAAAAAAAAAAAAAAAAAAAAAAAAAAAAAAAAAAAAAAAAAAAAAAAAAAAAAAAAAAAAAAAAAAAAAAAAAAAAAAAAAAAAAAAAAAAAAAAAAAAAAAAAAAAAAAAAAAAAAAAAAAAAAAAAAAAAAAAAAAAAAAAAAAAAAAAAAAAAAAAAAAAAAAAAAAAAAAAAAAAAAAAAAAAAAAAAAAAAAAAAAAAAAAAAAAAAAAAAAAAAAAAAAAAAAAAAAAAAAAAAAAAAAAAAAAAAAAAAAAAAAAAAAAAAAAAAAAAAAAAAAAAAAAAAAAAAAAAAAAAAAAAAAAAAAAAAAAAAAAAAAAAAAAAAAAAAAAAAAAAAAAAAAAAAAAAAAAAAAAAAAAAAAAAAAAAAAAAAAAAAAAAAAAAAAAAAAAAAAAAAAAAAAAAAAAAAAAAAAAAAAAAAAAAAAAAAAAAAAAAAAAAAAAAAAAAAAAAAAAAAAAAAAAAAAAAAAAAAAAAAAAAAAAAAAAAAAAAAAAAAAAAAAAAAAAAAAAAAAAAAAAAAAAAAAAAAAAAAAAAAAAAAAAAAAAAAAAAAAAAAAAAAAAAAAAAAAAAAAAAAAAAAAAAAAAAAAAAAAAAAAAAAAAAAAAAAAAAAAAAAAAAAAAAAAAAAAAAAAAAAAAAAAAAAAAAAAAAAAAAAAAAAAAAAAAAAAAAAAAAAAAAAAAAAAAAAAAAAAAAAAAAAAAAAAAAAAAAAAAAAAAAAAAAAAAAAAAAAAAAAAAAAAAAAAAAAAAAAAAAAAAAAAAAAAAAAAAAAAAAAAAAAAAAAAAAAAAAAAAAAAAAAAAAAAAAAAAAAAAAAAAAAAAAAAAAAAAAAAAAAAAAAAAAAAAAAAAAAAAAAAAAAAAAAAAAAAAAAAAAAAAAAAAAAAAAAAAAAAAAAAAAAAAAAAAAAAAAAAAAAAAAAAAAAAAAAAAAAAAAAAAAAAAAAAAAAAAAAAAAAAAAAAAAAAAAAAAAAAAAAAAAAAAAAAAAAAAAAAAAAAAAAAAAAAAAAAAAAAAAAAAAAAAAAAAAAAAAAAAAAAAAAAAAAAAAAAAAAAAAAAAAAAAAAAAAAAAAAAAAAAAAAAAAAAAAAAAAAAAAAAAAAAAAAAAAAAAAAAAAAAAAAAAAAAAAAAAAAAAAAAAAAAAAAAAAAAAAAAAAAAAAAAAAAAAAAAAAAAAAAAAAAAAAAAAAAAAAAAAAAAAAAAAAAAAAAAAAAAAAAAAAAAAAAAAAAAAAAAAAAAAAAAAAAAAAAAAAAAAAAAAAAAAAAAAAAAAAAAAAAAAAAAAAAAAAAAAAAAAAAAAAAAAAAAAAAAAAAAAAAAAAAAAAAAAAAAAAAAAAAAAAAAAAAAAAAAAAAAAAAAAAAAAAAAAAAAAAAAAAAAAAAAAAAAAAAAAAAAAAAAAAAAAAAAAAAAAAAAAAAAAAAAAAAAAAAAAAAAAAAAAAAAAAAAAAAAAAAAAAAAAAAAAAAAAAAAAAAAAAAAAAAAAAAAAAAAAAAAAAAAAAAAAAAAAAAAAAAAAAAAAAAAAAAAAAAAAAAAAAAAAAAAAAAAAAAAAAAAAAAAAAAAAAAAAAAAAAAAAAAAAAAAAAAAAAAAAAAAAAAAAAAAAAAAAAAAAAAAAAAAAAAAAAAAAAAAAAAAAAAAAAAAAAAAAAAAAAAAAAAAAAAAAAAAAAAAAAAAAAAAAAAAAAAAAAAAAAAAAAAAAAAAAAAAAAAAAAAAAAAAAAAAAAAAAAAAAAAAAAAAAAAAAAAAAAAAAAAAAAAAAAAAAAAAAAAAAAAAAAAAAAAAAAAAAAAAAAAAAAAAAAAAAAAAAAAAAAAAAAAAAAAAAAAAAAAAAAAAAAAAAAAAAAAAAAAAAAAAAAAAAAAAAAAAAAAAAAAAAAAAAAAAAAAAAAAAAAAAAAAAAAAAAAAAAAAAAAAAAAAAAAAAAAAAAAAAAAAAAAAAAAAAAAAAAAAAAAAAAAAAAAAAAAAAAAAAAAAAAAAAAAAAAAAAAAAAAAAAAAAAAAAAAAAAAAAAAAAAAAAAAAAAAAAAAAAAAAAAAAAAAAAAAAAAAAAAAAAAAAAAAAAAAAAAAAAAAAAAAAAAAAAAAAAAAAAAAAAAAAAAAAAAAAAAAAAAAAAAAAAAAAAAAAAAAAAAAAAAAAAAAAAAAAAAAAAAAAAAAAAAAAAAAAAAAAAAAAAAAAAAAAAAAAAAAAAAAAAAAAAAAAAAAAAAAAAAAAAAAAAAAAAAAAAAAAAAAAAAAAAAAAAAAAAAAAAAAAAAAAAAAAAAAAAAAAAAAAAAAAAAAAAAAAAAAAAAAAAAAAAAAAAAAAAAAAAAAAAAAAAAAAAAAAAAAAAAAAAAAAAAAAAAAAAAAAAAAAAAAAAAAAAAAAAAAAAAAAAAAAAAAAAAAAAAAAAAAAAAAAAAAAAAAAAAAAAAAAAAAAAAAAAAAAAAAAAAAAAAAAAAAAAAAAAAAAAAAAAAAAAAAAAAAAAAAAAAAAAAAAAAAAAAAAAAAAAAAAAAAAAAAAAAAAAAAAAAAAAAAAAAAAAAAAAAAAAAAAAAAAAAAAAAAAAAAAAAAAAAAAAAAAAAAAAAAAAAAAAAAAAAAAAAAAAAAAAAAAAAAAAAAAAAAAAAAAAAAAAAAAAAAAAAAAAAAAAAAAAAAAAAAAAAAAAAAAAAAAAAAAAAAAAAAAAAAAAAAAAAAAAAAAAAAAAAAAAAAAAAAAAAAAAAAAAAAAAAAAAAAAAAAAAAAAAAAAAAAAAAAAAAAAAAAAAAAAAAAAAAAAAAAAAAAAAAAAAAAAAAAAAAAAAAAAAAAAAAAAAAAAAAAAAAAAAAAAAAAAAAAAAAAAAAAAAAAAAAAAAAAAAAAAAAAAAAAAAAAAAAAAAAAAAAAAAAAAAAAAAAAAAAAAAAAAAAAAAAAAAAAAAAAAAAAAAAAAAAAAAAAAAAAAAAAAAAAAAAAAAAAAAAAAAAAAAAAAAAAAAAAAAAAAAAAAAAAAAAAAAAAAAAAAAAAAAAAAAAAAAAAAAAAAAAAAAAAAAAAAAAAAAAAAAAAAAAAAAAAAAAAAAAAAAAAAAAAAAAAAAAAAAAAAAAAAAAAAAAAAAAAAAAAAAAAAAAAAAAAAAAAAAAAAAAAAAAAAAAAAAAAAAAAAAAAAAAAAAAAAAAAAAAAAAAAAAAAAAAAAAAAAAAAAAAAAAAAAAAAAAAAAAAAAAAAAAAAAAAAAAAAAAAAAAAAAAAAAAAAAAAAAAAAAAAAAAAAAAAAAAAAAAAAAAAAAAAAAAAAAAAAAAAAAAAAAAAAAAAAAAAAAAAAAAAAAAAAAAAAAAAAAAAAAAAAAAAAAAAAAAAAAAAAAAAAAAAAAAAAAAAAAAAAAAAAAAAAAAAAAAAAAAAAAAAAAAAAAAAAAAAAAAAAAAAAAAAAAAAAAAAAAAAAAAAAAAAAAAAAAAAAAAAAAAAAAAAAAAAAAAAAAAAAAAAAAAAAAAAAAAAAAAAAAAAAAAAAAAAAAAAAAAAAAAAAAAAAAAAAAAAAAAAAAAAAAAAAAAAAAAAAAAAAAAAAAAAAAAAAAAAAAAAAAAAAAAAAAAAAAAAAAAAAAAAAAAAAAAAAAAAAAAAAAAAAAAAAAAAAAAAAAAAAAAAAAAAAAAAAAAAAAAAAAAAAAAAAAAAAAAAAAAAAAAAAAAAAAAAAAAAAAAAAAAAAAAAAAAAAAAAAAAAAAAAAAAAAAAAAAAAAAAAAAAAAAAAAAAAAAAAAAAAAAAAAAAAAAAAAAAAAAAAAAAAAAAAAAAAAAAAAAAAAAAAAAAAAAAAAAAAAAAAAAAAAAAAAAAAAAAAAAAAAAAAAAAAAAAAAAAAAAAAAAAAAAAAAAAAAAAAAAAAAAAAAAAAAAAAAAAAAAAAAAAAAAAAAAAAAAAAAAAAAAAAAAAAAAAAAAAAAAAAAAAAAAAAAAAAAAAAAAAAAAAAAAAAAAAAAAAAAAAAAAAAAAAAAAAAAAAAAAAAAAAAAAAAAAAAAAAAAAAAAAAAAAAAAAAAAAAAAAAAAAAAAAAAAAAAAAAAAAAAAAAAAAAAAAAAAAAAAAAAAAAAAAAAAAAAAAAAAAAAAAAAAAAAAAAAAAAAAAAAAAAAAAAAAAAAAAAAAAAAAAAAAAAAAAAAAAAAAAAAAAAAAAAAAAAAAAAAAAAAAAAAAAAAAAAAAAAAAAAAAAAAAAAAAAAAAAAAAAAAAAAAAAAAAAAAAAAAAAAAAAAAAAAAAAAAAAAAAAAAAAAAAAAAAAAAAAAAAAAAAAAAAAAAAAAAAAAAAAAAAAAAAAAAAAAAAAAAAAAAAAAAAAAAAAAAAAAAAAAAAAAAAAAAAAAAAAAAAAAAAAAAAAAAAAAAAAAAAAAAAAAAAAAAAAAAAAAAAAAAAAAAAAAAAAAAAAAAAAAAAAAAAAAAAAAAAAAAAAAAAAAAAAAAAAAAAAAAAAAAAAAAAAAAAAAAAAAAAAAAAAAAAAAAAAAAAAAAAAAAAAAAAAAAAAAAAAAAAAAAAAAAAAAAAAAAAAAAAAAAAAAAAAAAAAAAAAAAAAAAAAAAAAAAAAAAAAAAAAAAAAAAAAAAAAAAAAAAAAAAAAAAAAAAAAAAAAAAAAAAAAAAAAAAAAAAAAAAAAAAAAAAAAAAAAAAAAAAAAAAAAAAAAAAAAAAAAAAAAAAAAAAAAAAAAAAAAAAAAAAAAAAAAAAAAAAAAAAAAAAAAAAAAAAAAAAAAAAAAAAAAAAAAAAAAAAAAAAAAAAAAAAAAAAAAAAAAAAAAAAAAAAAAAAAAAAAAAAAAAAAAAAAAAAAAAAAAAAAAAAAAAAAAAAAAAAAAAAAAAAAAAAAAAAAAAAAAAAAAAAAAAAAAAAAAAAAAAAAAAAAAAAAAAAAAAAAAAAAAAAAAAAAAAAAAAAAAAAAAAAAAAAAAAAAAAAAAAAAAAAAAAAAAAAAAAAAAAAAAAAAAAAAAAAAAAAAAAAAAAAAAAAAAAAAAAAAAAAAAAAAAAAAAAAAAAAAAAAAAAAAAAAAAAAAAAAAAAAAAAAAAAAAAAAAAAAAAAAAAAAAAAAAAAAAAAAAAAAAAAAAAAAAAAAAAAAAAAAAAAAAAAAAAAAAAAAAAAAAAAAAAAAAAAAAAAAAAAAAAAAAAAAAAAAAAAAAAAAAAAAAAAAAAAAAAAAAAAAAAAAAAAAAAAAAAAAAAAAAAAAAAAAAAAAAAAAAAAAAAAAAAAAAAAAAAAAAAAAAAAAAAAAAAAAAAAAAAAAAAAAAAAAAAAAAAAAAAAAAAAAAAAAAAAAAAAAAAAAAAAAAAAAAAAAAAAAAAAAAAAAAAAAAAAAAAAAAAAAAAAAAAAAAAAAAAAAAAAAAAAAAAAAAAAAAAAAAAAAAAAAAAAAAAAAAAAAAAAAAAAAAAAAAAAAAAAAAAAAAAAAAAAAAAAAAAAAAAAAAAAAAAAAAAAAAAAAAAAAAAAAAAAAAAAAAAAAAAAAAAAAAAAAAAAAAAAAAAAAAAAAAAAAAAAAAAAAAAAAAAAAAAAAAAAAAAAAAAAAAAAAAAAAAAAAAAAAAAAAAAAAAAAAAAAAAAAAAAAAAAAAAAAAAAAAAAAAAAAAAAAAAAAAAAAAAAAAAAAAAAAAAAAAAAAAAAAAAAAAAAAAAAAAAAAAAAAAAAAAAAAAAAAAAAAAAAAAAAAAAAAAAAAAAAAAAAAAAAAAAAAAAAAAAAAAAAAAAAAAAAAAAAAAAAAAAAAAAAAAAAAAAAAAAAAAAAAAAAAAAAAAAAAAAAAAAAAAAAAAAAAAAAAAAAAAAAAAAAAAAAAAAAAAAAAAAAAAAAAAAAAAAAAAAAAAAAAAAAAAAAAAAAAAAAAAAAAAAAAAAAAAAAAAAAAAAAAAAAAAAAAAAAAAAAAAAAAAAAAAAAAAAAAAAAAAAAAAAAAAAAAAAAAAAAAAAAAAAAAAAAAAAAAAAAAAAAAAAAAAAAAAAAAAAAAAAAAAAAAAAAAAAAAAAAAAAAAAAAAAAAAAAAAAAAAAAAAAAAAAAAAAAAAAAAAAAAAAAAAAAAAAAAAAAAAAAAAAAAAAAAAAAAAAAAAAAAAAAAAAAAAAAAAAAAAAAAAAAAAAAAAAAAAAAAAAAAAAAAAAAAAAAAAAAAAAAAAAAAAAAAAAAAAAAAAAAAAAAAAAAAAAAAAAAAAAAAAAAAAAAAAAAAAAAAAAAAAAAAAAAAAAAAAAAAAAAAAAAAAAAAAAAAAAAAAAAAAAAAAAAAAAAAAAAAAAAAAAAAAAAAAAAAAAAAAAAAAAAAAAAAAAAAAAAAAAAAAAAAAAAAAAAAAAAAAAAAAAAAAAAAAAAAAAAAAAAAAAAAAAAAAAAAAAAAAAAAAAAAAAAAAAAAAAAAAAAAAAAAAAAAAAAAAAAAAAAAAAAAAAAAAAAAAAAAAAAAAAAAAAAAAAAAAAAAAAAAAAAAAAAAAAAAAAAAAAAAAAAAAAAAAAAAAAAAAAAAAAAAAAAAAAAAAAAAAAAAAAAAAAAAAAAAAAAAAAAAAAAAAAAAAAAAAAAAAAAAAAAAAAAAAAAAAAAAAAAAAAAAAAAAAAAAAAAAAAAAAAAAAAAAAAAAAAAAAAAAAAAAAAAAAAAAAAAAAAAAAAAAAAAAAAAAAAAAAAAAAAAAAAAAAAAAAAAAAAAAAAAAAAAAAAAAAAAAAAAAAAAAAAAAAAAAAAAAAAAAAAAAAAAAAAAAAAAAAAAAAAAAAAAAAAAAAAAAAAAAAAAAAAAAAAAAAAAAAAAAAAAAAAAAAAAAAAAAAAAAAAAAAAAAAAAAAAAAAAAAAAAAAAAAAAAAAAAAAAAAAAAAAAAAAAAAAAAAAAAAAAAAAAAAAAAAAAAAAAAAAAAAAAAAAAAAAAAAAAAAAAAAAAAAAAAAAAAAAAAAAAAAAAAAAAAAAAAAAAAAAAAAAAAAAAAAAAAAAAAAAAAAAAAAAAAAAAAAAAAAAAAAAAAAAAAAAAAAAAAAAAAAAAAAAAAAAAAAAAAAAAAAAAAAAAAAAAAAAAAAAAAAAAAAAAAAAAAAAAAAAAAAAAAAAAAAAAAAAAAAAAAAAAAAAAAAAAAAAAAAAAAAAAAAAAAAAAAAAAAAAAAAAAAAAAAAAAAAAAAAAAAAAAAAAAAAAAAAAAAAAAAAAAAAAAAAAAAAAAAAAAAAAAAAAAAAAAAAAAAAAAAAAAAAAAAAAAAAAAAAAAAAAAAAAAAAAAAAAAAAAAAAAAAAAAAAAAAAAAAAAAAAAAAAAAAAAAAAAAAAAAAAAAAAAAAAAAAAAAAAAAAAAAAAAAAAAAAAAAAAAAAAAAAAAAAAAAAAAAAAAAAAAAAAAAAAAAAAAAAAAAAAAAAAAAAAAAAAAAAAAAAAAAAAAAAAAAAAAAAAAAAAAAAAAAAAAAAAAAAAAAAAAAAAAAAAAAAAAAAAAAAAAAAAAAAAAAAAAAAAAAAAAAAAAAAAAAAAAAAAAAAAAAAAAAAAAAAAAAAAAAAAAAAAAAAAAAAAAAAAAAAAAAAAAAAAAAAAAAAAAAAAAAAAAAAAAAAAAAAAAAAAAAAAAAAAAAAAAAAAAAAAAAAAAAAAAAAAAAAAAAAAAAAAAAAAAAAAAAAAAAAAAAAAAAAAAAAAAAAAAAAAAAAAAAAAAAAAAAAAAAAAAAAAAAAAAAAAAAAAAAAAAAAAAAAAAAAAAAAAAAAAAAAAAAAAAAAAAAAAAAAAAAAAAAAAAAAAAAAAAAAAAAAAAAAAAAAAAAAAAAAAAAAAAAAAAAAAAAAAAAAAAAAAAAAAAAAAAAAAAAAAAAAAAAAAAAAAAAAAAAAAAAAAAAAAAAAAAAAAAAAAAAAAAAAAAAAAAAAAAAAAAAAAAAAAAAAAAAAAAAAAAAAAAAAAAAAAAAAAAAAAAAAAAAAAAAAAAAAAAAAAAAAAAAAAAAAAAAAAAAAAAAAAAAAAAAAAAAAAAAAAAAAAAAAAAAAAAAAAAAAAAAAAAAAAAAAAAAAAAAAAAAAAAAAAAAAAAAAAAAAAAAAAAAAAAAAAAAAAAAAAAAAAAAAAAAAAAAAAAAAAAAAAAAAAAAAAAAAAAAAAAAAAAAAAAAAAAAAAAAAAAAAAAAAAAAAAAAAAAAAAA//jFCABvVv8r/0v/Nf82/yH/Lv8//0r/Of9E/1T/XLWvkFUIR9oGiFGCGEMAz4aAJ5iAhAYjP5k3KJfjXRgVqUd1MewyKOvI+R4+igknehoUDQskh+6ByREzkeK18IdKCjRowIzRTZqSixcmLcccpQ0dt6YiYRnJiOKi0eQqIBggKHT5u6iHfBV7CikE3sn7SxpUSLqULDZAWg6mi3KzYUMvvMGZ8hHk7nTBGmRSPq4qhkiTZ5MdN4lWi0UnNIipnZosTsyUai2VV8XZ1AehCQSXH5c0XGFyLnKOpourrVMxa0H4jiqcEUoSSxkdRVQgbcA4sKCoUQdV9jzXFXTZaZ9h1mggWpgWeTOsxXJjYQs+Fmsyp4ORhLTu1UCVEnbiBCy4i8SQwMZUUCiacAeMvCv3CjxJ0/ZZI1ReKDUoJY3ss6i8NQzbDAl42JS0+X+FiFngm/VbO7PJ4OEWTAsRcw3d9YbhGzHURyd5kHGjOEwmH3t0TEiWmvxIeGI9H0l59bsuVR78WO18sbUpMJqLfLq1EZiwq+Ic9vQvZLI8MD0QyEdEEzIKpXgMmiMvioxNJmO9KoyOlRp4mkOIXbygFhUgYCEzLrC6sfIxOpGHzWlBnxaNFupCEbms8bflvQy6ckmEGEmwxkWWkwl21pZoL+qY2rNZAgGHuR+NZP8bsCg2nelBhXjkTB46eUcelNGnUueYUKvHRI87x3BkpfIoRzTiCGPfdxkUdJ7fLGVUpQhO44QL1NGFQuWKPszIFxaq704eFRY565QVM1+EafE0F0iO0lW1Ah5WF9neoB90vJ4msvHRv/DChSR65IM39elBN9pGcEMDKp2DjbCRbz+Ji5Ra6cvkNBEu8wpRogGij5T58fITSTuYm8iim3a+ILFIp1OEKlDzf2cpl3NGNBBTVgLvNUqYAw54QR6GB9l75F3Dk63FRpQ8keYFOKo26Trm1GkXCw8oR0lBJRJSUx/nLXSGlhouSg3GA6aVJaN83zNPEkLjBtzK7UiOOD84UO2Xk4odoywcDHBnTAOsnmuosiYQMwFC6VNMeLvET5kLuiCE5inpjRF8ud5FRFvfUyhFhYiooLjWlH/a0Il0SFVG5N7MsrIHCPxAJokjCoNmFHXPeQFe4sQuyhg0kVlvDySFhlbOspThXi3DaXUjFWY+d0E2zFQ8eSD25pH7oS7eBgwWujU3yKjYxyBjetUjklES9UhQOrboHphhNFs56uVVzNEpECTjCxoi+Wgxiho0pqx3e7m/haz0fQlcqLF6oRJDLa7ytxf9gQ0NuZVbPT6gaVlIospl09ozITueSDQRQPvirQnYj4fQDUi1G2yJlcEkWVUGyhMgqaqK2zPNvYSG/UGQUJ+EcrEmSGV7QJyKiMl8iFOEi9/kWanQ0oEkX6WOigjFUtDY0haXhN+wQ0QhxySVxgmIhMIJOmV/rEXmqD0irS4kUdJps4Ggk5ZFOznROgWmcEqIDHhGtbGbQDYop4KcpE8S0v0FW7+MECRBbKHV6LRhYUSStGO4sLnDFKBJ0rdGphpXaRCBgTX1kwbEO7IH5Mu4MpcQHNjgb/ndFYViXUJFKa0UqOJ2IzP9a4CNN5EuoeJ77Z1EGzvpzo28WWKsQ/pqRmip1mZMSYRUH0fmmr0CLeilK3LdqNxCovelo0FGfa5Z0lIIAjLKb6C0HKLn795O0y1w4HPCjzZ8jLy+Pf/JRutPdDs9MEhQKei+h42tdQmJCBQl4oblCqaApkfms6oQCUciizAoX8ZFxxxVZcooISK0LDVIt6twvVidQYzltHx4w2EPQAot82Q1iU3YqCd2TVnE6a8oEz7tGqDDZGTRryqh199t9hssQ+xF1jBoyiUycEwgF3PCZH5IrDi3zjQRVfSM3qgjKOyOBCRxt2h5nC50XgiKHcmxQ46Qim3NoYoNwZmlxY7VXNztwgIFWU4pqIiOXQlxrhdz7WUiQ5EKtDTJrn+bGbMcj8m80honIopo839acyacxTwtNAK7+kPTMNEg2KG3JMMErw3Hx84M6TcPa4Q6eaEumZIVReb/8syGMqFsIPKiWI4dudWDk0I+JkKe2QRQnYZOCRvE4kOoQMDc3s3HeEmFiESUHRuWDvBtShJzvzxRFZR9mcYwYLxHhd1Um8Zd7c4/lHlnF/ESuOR0C8kwgE4NOBdC+p5oh0uJIFRZf67G7eDuFCVSbbYRubMECw2sqn6YRK54hxALODDovvF7q0MKLH9fV64s8QfUTLOfnVZRuVWopJxKdRgqPtOvSSEpnsr7MDzihLZB9sohKDEmJBJR8sLiCwGfZPPOHDBOIgkwJn8VvQ58MLqvmkKuFbDQYX+pnmIXJV6UrRBX6Qv6yYhvkLV7UwXdvmgha6D5jxDD9SIJ7xTASc/tSyevt5qQqQsHwvjv32XiJAEs08+EXzutY4utJt1VSlUPMpoKWdaJRROvsIXu4XMrGDZ3IuobHiggPpOBGrwouZ8TCDI6fc6/HQauf6STxhTm1ix8pXK1kFRYUvc2kg4VXDKzhKk476qvwFHCH5SjSLpxpolBNpHXPN8XeqWIEOW6efLpsegSc1iqEvGjq5UwU4qcFHVypxj3M9EoqghYQkTYGpJboRywtdnEN1GPtpiSbua8jAh3rgQXZFFBMUwZkgG7q+TchwgTnWUltIOTUqNfJ0cXBM+rTK3F4XEyI0ugqasqJEz4f1BmBcYVEhWWqEy6wSoTC48IkSjZN0lzAwJ/ZTw7GLBBArtU+HtPGyIVZqlw1myTHHeHdeaRJmg14U7XZdVDra8tMHuV0U2l67ZQbgU6p+jRMhiogmNyMIWoQJBxBKrMfbLZFPivLWh0K7UGgSWOIxYfqKULsBaREYpt8ihEgYeq20wt6dK0J6ulZayhBAPN1+IB3KlUGn1mUwqvE11Fxqh6pqj16bD5XhGziqKitkBQECoExaSoRNQxZENTrNXZc3cETMJHUSDQUXfQMb+ytosvS7cijbKLpyOXB9tsRKDxnhAMCPsn1Kj77KGZMODormUDUi5m2HiosUTMJLkmTeB5ZFnjbudlpT89SainSlrFpXX0Q5wnG7L5ViAQeC2IJIV0M4m09MUQ9fZ5936SDxd3WrPulhKQ0aDTFn6XqdpUjMEFltoHXkqhB7Saonw4iVFQoFP0pzEPDFSwmKVb27s8o6i5GtgWPslBPJ+SJA/hXC5SLUiUIuYqWQN3BHOyixxKOUGtUXqO7ExGTszpdiAkqpROD+LmTlEVypxQnGYr8co5QEEXrpmZbh13WsnTlRNZcVydNpeyMWJ6osQDqjtovXSwF4GgqY2IC2q1WRqh7DMIhCZcGTUkNV4wmcgt45ElL7kLojRFgN0V57rIkkFEFmBxzvUCxkRFDtHkyRabCzLH0tIN35GSDBol4RUi+0mYd7Ylo9IhEa0kt+X5mCG2DZSsIJ4E08IpuDhNZi+V6MUj6Rgmoc+Zikm0JL7/yPbG2p5JpMIleZouy1yhUlHHq5EbJZqy26IdGIHlXUZ2R/1UuYZgk5pbDFy6FiIIxDMF43bPQFDbyD+dX3qDb8ol22eM6WFNXPFShBAKk7WkhRM68lVzdGP+8kowiucStFYXX+KbEr58yq8M2vpDL+BThpR/9iQwWRBZohS6rR1QpeRs8EnyezBVbSk7pFrpvZIJbJd1uiDhp/00IkcKUJLISjF5oUIsO1qO7HuawIIFjXV2TJvqhEqS1DY6BBPpjomZMPGCzJNqhNRuRx0ikMVJndiCdEut29RCot8qXiJkiIi6O2IWtTxmSt3hMOkA2OoGg8oNMhg+RpmtYC+NtdhLwqS2JvXCNd0SZ5UJ5ecp9TGcvfGzS7PhRyVaWCSZ0INdOL9mbdMlkCXQ9NCMiWQiI5Sg2JNIQQ1kojHpuVhRYScIMHnKckrZVA2p5lcIM2JJ4SZIDQ1X0E6UcfJlPb2SPhYReMMHFEimiTRlYT2qTIZRXSUKEvEC05LZQSk2EVLIjdK8jKNpy3aaC4hk6EohDaYg2qF8MKhIqRo6Q86q28iJI7YFX1ld1vDbJDqs2UONDJl/ZYtH6CaoUXSMBd/l0GcibvASG+ix3RZlt3F0f7mpu8mH54kYqfQgPkCYyYKGoKhBA+WkfygxREg0r8xBKMVt3IIVQtPOVvKpZr7u/qxpyjKmnINJcN7UMQ4UrT3mgUy6ojIyprjg0p5waKm31nXsfmxSzpYIC9FGNErTBJz/+MUIAWgSAMMVNQKhARGGCrZJ0oGCJkHgug5axYlNeAhUiCJQhKLaonE684zY74UMsxP5mitOogLo8ngQFU0xM8+mQdWJ7ooT64dJP2ZXX9/6g6d5Bg6y8G2WHZ1VkxoDLBozK2msqGxFALBeDpVJwLiXb+xNJwu23G7fN1790cyt/GV0lnYCQ+2yFIgUmItLq6KKqT5vtwhAJJdrXHW1iRW+yxSQx2Jy96HeKGzHqlHOTBSUcnCEXz2XrpQEhVLwUupGqC7IgI4KJkNdMaMorxIw0tIp4d09MWH7nsXepZF8YJJEneiB4XsX1xW31KoL9xqBuxE43LJtrauqRb8R1wkFRZH/jPjSMHUi9bYEVSI0n6gV0n8m94+mbMdRZRIJDZmQgDpzSQ2Md/FFjAV81tFRtQ4M51Fa9kWaC7RI2ZNGSjeARSRPimriSoRdJrJnWuINqbEHqkaQX0eLJE0lrkiVCkipwmgUFTFkNrGUhhXsyS6D5B9Ay4eLfIsN6KSJOTFPIRWMaR2xxdYlpZ0eZCw0Zk95O6bo47RrAmIGQoous5fzhPIEkH29CV+lFLqfFrkkyS/6CGUSKxeqQwO8bgutWSeI5LvmxphN9S8ewJKitbEy1ZSDDIRgZBgnNVmyi6raKRFWOCj4R86wzez/iIXFCqawu3dZK+0jlRProV4QqJlteZOsMyXLO9fBg+baZPjRdKpofg2pAsJk0gXS0YSk6bFicUVwSI8SzQY+JULluhMEQYEPCpfVTbQsyk4qjpeNMwGt26JiE0xiiAZeuEO9YKa3brxYamNECMyqFU2CgXKB55okK2GshBmRlDSQ98IYPNIZMIAlNlQ+uBASMUiNU+uCyUKsLASJjTwSInOrJTwedIHoX+xGmmYlxW8daMsll1CAXDR1YQVG1eKSasb2Z2aK9AiIKzCJXALrnQugo6iKheQ+i/StDeSgA68FWxEsbE19M+Mm1gvxkBvP2dIyQJ1+VTXVTJVJgrcTwgE+VIlxWqNWbS6iRDmuYOjAmc8WTW1sIdJgkJig0kK0cUWUyg5AeSXaEBMLPlDzXsmKbEIFihVEeHlwUtXIpASXhok6KvPGHXfHjJtb5RW8ZcLucmFSy/TVxZZEgsEmE3H1CLKz6GtBOgQF2OKPIizW4c3eNX3hOQU8K0f0+VBXFF+zoSL95WrVMrQ4MfZO5s4uiNZy39jf+1Le9M1eLE16flu0hbsUo0qLxGQuZZqbQGyF10YhMubIKlYhQL+Im8KlF1AVMtHUhBdQ20oqcD+Qw25q4ieVoEjZqiO8r0kgKbaYWE8GTh4ylYiBpFxYU0tAWUjs04bREGohCpY46ocT6YQmStkChVQqU4YOEAyYZFkvAJFkOkUkAWNh6+abPEOoai0MJkh8MbxMYbF8NixsUbIG1PLigysXIURRxd0QusfPVvyuxCsyJj+qK47h4q3ERUNTdgT7AvjwVa78sukvHy5U8XLJ0iun65B0SpfbLVmk10liMaErJ63g7wuX5RodJvUdZPQwRRQ4UGZ3fsMcdN6JvI80ZSu7HUSJzJeJRcmIFW3xMcKD6WwXjpuMm+1XIFxUxcueK+zm4Uism9wXGl4xtHGZdk+MF64qIDOCHAicgttFxQiSj3IpLHU9KkhbDjypiI0IkGBJMQdHl3CqASoo3nm0Gi+C1EyiM/TdiNCoQ1dPyDKgoIkt1KMPhRNRT4mOBxkeTivujwsypLCE62x9Sco/knYGCJJeP99xPHe1iECZUkk2quM+5SLKasCruflhXpdg+nxmMfHUGW56FZ6qg6IKjOmomy/Rtbiq/Nt7DlmfC98puVRoPwO1ydwfUEHVR4dWDIrtkgqt3J3QSfYYZfEjtDAd2AYIxOXLmupuUPKMlv8pFCWRJgi0ULkmitxCssLq6FgkLqtHi/mOFAhzQQgXJLCEPXSq1MSPgkeZiS+kPGzUlk2qWeX9ksO2o9xTTJoltDGpcimNZMns7as1fbbwVSW/sqMFcjItpndCLBBUiTJIwG8dml1WW6PniKK3z3mewSET7DRP1hWzK/CapX+fvmceWwDoUKn7WJlH8yLy0VJLjoxCj/U6OE/XorpZLx8KoSkInOsvEVcVVikMhDE53qQSH9tCMApg6OJMuK0nYjYk0GiPCWYoQEGdV7SqZzMOYJJDBmic7sPJhpu2svhg26SWYoxMkRS0oGBkhgsTw04FWjCQ6IFio8ACYAme8pdAtlJWagULw6llAsEyAGja5SOo7aEHtHr1CCobOPmpt7GmisxYntbrwsfXEmUQhlCko+N1elQwDgM+hHQTwW59MwVVR+t2RaZ3+GUFbfI7NQioRNuZFyASERFLI//Iegd4QEX6LmGiKWRtdgXwRBOlDPiBueQGfhYXUgq+YZ47EFwYyF5VKlH3GB1VxtUQwaFTOgzdJdEuIO/sXwQHXykmDNeQnDF4bqzSiQtyVziCBdQatR5N310DVmBT7pZIdQNgU6ducRNJGSAtpfRcFs+HBZNWKuCkgoPdHouKC5yHNBAZW9vtLINaqEdOsAWbSJkwwUPtNbGss8TFsWencmMNvECpwhs2FM4yGeEExLKKQmNETDDrJQVxAFVywxodcOfBE34i8IAbU5BIeZKB8XNLuVmD45bU7r3zdTjpAG3J1PjqBoV64R4d6abP/GwaLH2ZH0cmCqjZWx0ayOjn8MpJp+FGYok2lyBoVxyVhImXcZ6zWZD90WUBEpJLSmRVxBw6YO40wmQCi7H0ixHJ/wWpvqjMTm3HIuoTXRMJb7Bg8x3FtZ8c//iAsVDGjbVVuE2hBbSpdqga7FodahxUo9kuMJ1hJ5dZUSJ3MKNhSqN1Shq1zHf1bIXFmyB99zDlsiyfDUqAjaQjAgJ+s+XoIJvPo5muoGymgVCHeaQKHZYTyVIHclsl3C8LGy5BRMG3lQieimGYi0wumlQOgtfOEya8HRo2RSh9Dr+Cx0WpwrnKQXyIMBXCg3fhN9of1fR4RWKpTqJU6v8KCqy4LdHwqLGj4eeVQ/01Vkx46YXeMJsTgxRQ9xfKkINIdlN09/kQ0XqKKqYuGEh4wqdGho2VWiWqlVhhtZ6ihxchRxCqHGiUU5FXjXjeMmHNuovUuwNN3JN+CgIrCigXMOfIkDnttrfQ6nkgzs0tMTxRhFFHB0msu6STKVjmfbwf3FBnGjpPggT4QcER1QrQvYTcFPkYby2USZTESRmEifSvyVhMogPjCM21qurFRNNpMpiZtJzROEsqm86XSHsGR8OLr7uvI6huSa4hLZdzdakvIiPP6MlojUhwKzKCRPguOS68oMmDDpxlRaKZT7LBAg/IQBUPPC8N2yaT+kagBSFXKX9AoLylqSO+0teAQRUefPWOAoVJUET0EhEePEd7FGauOnBEPDS4hIgTIS14/QUESnBHDzhOCQgN0FOhMeKlZC6g8iM7KCv3NOO6KxbvRNBoERAEwhNgz3paqf21mHUPFZyqRQCJMKdNBHQRCZxAdRYSHyq1Im0tmSiOxtsQZGb/6vWiWE6zT/zKoxGTc2+C5kpAF2qshwJmgoLwKMxgugzZx9VZAv8JCZixNJF9aWRhGWEMTGG7FLrMVKK3hVBJFR5lwlOtSLUURSNYwEAo+8o0udkKZJlHYQaWUQWYesrI5f/usGryXxNgRll9fp8z6x4qrnntUV/mFLodACMgH2giDXQ8CsyFYULC1Mr+l5YFVRfqn+154ZoKFbFdVJI73KDFew2ywPYMraUzOTLEgPf7O2EWtH6huupc7ykBDMGxJNMHQtGcCxPEkQSDPxgJsIBIxPwFNtLqgIioAXvyGNKySKRe2pHWMlImngyQRUC60xrsbhERpfIKwxT4zvyiCSFT8PJ6pENp3WhyFusVp9+EdoFjKs1jd44lRaYFUZCQGxZnRf8voEy6OL55/O2aPiFq5CpIuT0wxUUUc4Llzbv+IJ8KD4suYuUk7OVOp8+cIYDd4VKMni8Suz7n7kJaMFwj0n+s4U0E/iInCuMvYsuga6x8j3rEbbGMFMbqcg+ns0jowfypTP5hNwWnht3x6KPA66rEUmIUuRNd8tJFSZlUavIjKUFebpZuX0dZT7ZOSmtGR5tMvolsW732ckWPuX2qlkLztZmTvSC+Dmz1ip6Yt/4h/quXhOyagRTNHTHnhRFTEndRwUZZCbOXB2f4xbZXVYG1o/R20SbRkzMk9EMy7mMPZDSdmjTg87wsQMZkkSCNvQAYMGdZDxDSpCTHoQVPf2Be4SLCQoYAsyz69pjstGnNbZRY/uWhkp3vu3ztlXkbWyVda8NQ8/OkV3XLQOOQks0F4lj2qT2WhfwjR6MY7nN8OEXKxBau1MnkLDJN0uTjTdeB4H/VfuGO+GSxqRmml3OQ9eeNI9JYahOkYlqUTJhijS9QtfEi3ggSMZOwAozWLE1jwFqFgKs3PIFMqKlIl5Tv5S1CCzDWfMsBgOuk5KWFlNSXV6GqYSyVKE88L5zgj3I+Uuz4JPndTnDcUxI8jTAx9EFC7ejqj5sCQYb210/fRrI1dpyyhRjPrOVcyXvRGP1Zad5FWCMMQiYp+ObXADSl99aekndpPCdQO5Eb/4Wu7HkQdXP/a172ptTIMUK8UcZCVLT/m/9rIvwKR5dLZWQ7QRu4dWEcim+SC6bXJB/SHglPrjhAXJzzU3n05P/LuyQNBNZlAJgSiFNDiV//x3MEq60rNLiD+w/LTtRqSE/eJQ8Ak7rZbKpN35vTe2+swyPuDYGmJUjJhaQXTQZ64mL/3zVMZqeYDZgXb1blRZ4RtQKO34Ftn7cBl+Vnjh1X9WVObFfdmPJ9//jFCAJhRP9MASn+vLU91NUQqLZBA3lgARzXH1x46Vu2GtaGV8hazRoaRuEm97Cc58mcUEe+Hr9ZQ/Jy3MuLPp2cwnsHOfyCJAS6hpoPQStq11mir2nFUJOm3VYKQBVuldOWlFuWqs57e/Kq/V/6CWvWKTVmaY3mSHu2SzRBXwn21ARKfXptqzjCVQrRZQuMpWViAxZeHL4ly70cTpICWdpggaco+iCgeKkJ3vyzWeeApOFtPVfLdtyzG5hkNwNqPIOvLWmrJCHnIOMDv56O3eodeljwofKtYtjBCmHOAmhuc35rJklaFXqdhSh8DnTdB35n+x9LpErs9ExXNMmpHAVe2uJ4nOZngcc/zZVf2kqxknwR28tzJqidPgD6QhnLniiFhFHSuPfHI2bFIAcmdGrYNQ45L4q46g8hoj9TGIuqytZmjeZUDqlJHSLfZ5ys4fFtsqJHbpLk4tpodIOxczqYsp+YLtifcjAgl7jisYDK6/IS+xXTsqTnMvddWj07dNhGKw4V9FILfjQ2z3jhKWzGl6Yo3bfqJW+vKsOldBPb0Dkt2csrU+1atVaUueHS6/UM1iTyHXZzSr2BP4FuQNXGvwtGArMEY41lhHOeYlskvf3FfxhIInlqkeiSftqF9KOnic0UyQrPhcF6ARuCKf4VpC+xCWRlKmH2Rqpb/702La1IougFTW/oCJ9ibxANod9bVfLokNz8iYcEKX+kPDsK3lz1mG16gTV+lbFRdGyV0q1Q1BojL3mGCdN3yFnC8Uz05+nFY3pujoPJC+yrjOTWdJpOQ077JzKEM+Y+kYjaAyjGTRqGJ6JpGB83Id+MmvFndCvC4Emdzmr5ZQ7JxOx09Kqm/0tRyKD9qcIKHVcMMBELnKjTN4cFYPeJ6QnlWHiCVSiJo0FUBh6LuGrf1iL0IJ2sleelKux+TPH7LJkSyAlL3a6pS907NwDO8fBJ1WG81XQhOygYGmpOjdZJ6IoRqZLLiEmTBypG4UIqfXbsv8hp+bRJdta6DKy8qoR6xbV8l9aJ8+TixKJdnT0ofWnHF85YtyCLXULAwm6IiQ53zuRknqfKNNFZ53QRNwK2optj1qQuBJ1KiCEn6PLC2sRpg+E8R5+g+GjyTMsyLRYEfemnhKjdqAo8+x3qK24zxBKemZiI3e9OznI3ic2/CMFlIK7hstSIniSAUWj5GtogQ2ekGzRV4bS0iVMii/izjMWIy/6aHYLceHIqlwD18il7nkIySUTph6zh1unbWzW+cz/GxI6UKytHCdmaW9i8RQjdl+vgi5jMyJeRxc+4t6FET4a/MT8oMiMyiOC+cBKoIrciXf/KqVn63jqzfqtAdfzDRJbQzIMZWFN+hSvitRt1M+Q57YrARsSdDk9KzPymFN9JeIJViSMPHplNs9n9axc1vydxiQy1kpJ5rchxGIU5y7T/7sAey4bDlLQRBRGcGWTJfgqymjMhqSRtEzITPeCWkV1NsQEm0sGkcvq6vVh/VIF6HoPvQ7E6X5Jw66ZftZOUOWvy0aJuryhbCvifZamKGOgnWudcubD7KmwiotCUdH4p4jrFGEsPsEpgHo0yekMDEhnYGt//I7n6cH7Wa2YFOEamJvkWL/eIdr+eqsJVrrWAoLXwvbWbAiWFa+pHdJO3u1L/ieKoF/iTrXR1pWro0OijKhMA+RQxyEKC1QyE4FKqK+VevVauiL5/3hMRFDSGoSvpq6IY35lo6G6Pt9G7LyM6cKsInwklJdHg3tW190XFO9RGl1pt6YQufPIq8CqOgh5bxDUor2+inLe3tCwXBdjDyXRF4bG1NGMSa7iM76ZH3as+GcNScBt0HpbVb4ti+ulHXYVwc8lx5/xVSVb0IuqmMJ8uuu+WrmSYDUDb7opNRW5zZJ4TZ+VMJKgZNTqLO8ylruJIIu55v4NjBW8i1gh9ZvVU9f01X0xpzEnyEjXEtNq9ZT6RSh/L7NxyHr9h2IcF9QUog1J78KKcLnV9zzW303NuHcwTy3XWvcy0roRlk1OTRq3gFTSZDNbIOT8+JuEGh6IM/NFt/jZzpvOumrPlC5OYLCdQmDL1pzYS62dta686hqVY6najKOuis0S1udou0iW9rA/e/JRoVK0GRbK6A5Lw6ZKkihCiXL20yacM6xaWqWnCCpCDmfWKEQgQeFMw71+5w+SGUK2iAVoF4HCRAUaBDniWo6HXDtmTr5+K9BY3Jvtfe3JkZRxczX5HI/PIScgGOmfAVP/zvUWepXgqRKLlUGZa4qxpL2gxYk3zwaoSaQADXgAbUDA6Kv2MxyvuUEwwpamkFsO0QRb2NXsZE9IwrWsgNUnHfyXtci9bhBwUsZMJc2g3cgZxDlUYBwOtJJHwjclnwk9sRzCcDvEGpckEwEsjTCH++8Q8KU3B2AZsAG1ADf6ZgPaEewVuagSjYGKDlYAczZ4JXQsrbnXZ2HDNVSVewsqFI4ICc41QqJV+Iu+peDuEsZKFIdhjN3/Vp7upIwwhzdJM5C1JAoRSEi9HchqwFeDYEeNWAFpAB4xLUwkrqmw8xolGSR2hcE0L0oWs0JVwx4jYu91cBHoejs18aBkvGgsA5sI0V/VfKo1pEqdTFZ3lv+wat5dElwIY00XBVJ2mG8YowkJ+HFr5vhMnkZ0AxoAJePfZdGv6Vaw13ubIxG7IQXQi2eUstYTunhxV1ThB6BqUryLYPDs4LhEyPqnsXtNSYrNM9e41oemVmz+KUrs0iQN5esaQpaCKOZ/0SToUH4gCSAIYVUBlQAakDwjGBm/2EscuUBzv1Nh5EpP4CZOBLSXj8j+qeZuLYwU9sm57waIxvTFaqDqrI/aUwVAWoFgq8YhIKLYbsydk/3UcQlnck9rCKDfJBdyRehGWsC6BUr4L2AF5BP9mOmrVhSXpBkH+TTjfBHgSx9JbeUFFHddRStuDQdfQk69xJaAZRPr1V5GiPL4dzJNcLGpigX24UZW9p1l8IUlXP/AtzXVAjTOUyktAvxZJZzgn4EvC/iSojDSQ5Qu0LW4v13r5thQMkm1rYUU13y/mx7PpXmHf5TfXpJmWqGOSsDnDzW7CL1ocEg1qhZrnxqjOElpIziOo1p0eg0CrXgNIZJPBwJcG6A7QG2BghYnigDRFCYwvpBoYmYbxXOQ6hAhT2wLcPFSmma/CK2PLNY/JQbWFCXBXKVr3CkyMLAn7tQ/airsI+sxXDubmAMBiRTydn5eezcIoYq1bYm2KNNZzsvORvonaPOvWASXUijSuVu3N9MsMTvKe65daqQuhUrDUH63BMHIEC7Ck0xlEUAaQZ35WmIDZRCkZAqBWD8K2gSnwengYgmUBiJGhsPEMepM7JFCDBSi2FSzjZhqsRt0tHRZprZA9ws+dMQxmwQlBieQjIzOMxBBfbDK04oDXyQbG6eIF4mqxNJ6slKfwgdem5nnqzKIVs/tbCILabtPfLM1jS3IJDkG2eILWRXPkb6ROMKpdc6hvahFRWkvmsSTG2++Lyq3VlvzIh99mkz0xL6EdavxavBpq3pd+gk0fq+gDOJFghnaZyJfQdVZ5fXQR4KvLSp3snT+9FnkY7WeXP5Da4OPbM1Jpi35l5WiFfgl2cXyV8NmDE+MR/T8lEggYLBMRWTqnMydu3PlxQdiqNm7Dj3xULQyCBITjd85tyRq0ERnjL02oVODoThYzsg2Zbygg1ptgTo8oJGhkIVEVOpKdHCz+golzSbFM6bzIzOXExQSF58OvSDFwOEJ64cr3v4gYqtXXhJMBDvskyKYG0wTsDipaWNrY8pyL+8UK5Knt/xz51EF5qrPekPt1EMbwqd2xjr+BX1p6KSYppvXZBjaEum175J/u/TWUUd5+1dlGZbgcavVbJqj9w6c1Ve8QkFiwmv03vNB3SeJr85e8K5DJkLLOQbLTKa1HT7rMaRcsqVQgvlP/enIjPZlK5mVWeqTkiKZev6Zqgxt01EKjV+YiYiQC1hory+QJk8mLdDZLLShZPyZw9ZJShx2SEqLJLXxI9JjBEJmDo5NZC3LMUpIb5kEjBk5dk5KX3SR2xvyotcmCpkK1t670k5wKpYMr0071CrlUMiQoioUVzzawxl+Khf+/TDWXfGDyyg+xU1HR5KXltYOdSGg877roEWnJLZsNK5Lnv5eIN6605TbkJvf2383f3xbYOHvqdbaigyTnxsqKyoscMs95hnt0iXDMt5rI+QyxbhxEwr/ectpaYf3rLy/JaDexWZuavZW/9/Wo0klxYP+1Mc1ZCQzJXjqWXCmMrFTaRqm+ukdQwE7yZFVQhrDG6XVRksiJvLnG9mueplpgXqCpiFhBzBQyt2Q/CCI2MZmV6XEbMqQRUyvjwKjaEampcRUwvF8WNlZs8aOTxNHBN6O1JJEKxUOktYZkZlOmndsjYv2pKsPjNZZF7ViVsKlxhfsLcRxoJ71ZruCK3TVbEBaiYrCFFCSCk6Q/+tyMQev/S4395XoHdsV8b1bI7FcyYM++qhiUEai0V/XFttZGWwK1pKhWl7sf6CvVyv5Wqx/mcwi+ESjcrtBKJcSV0D8oC9nOEtb3klX8PQWjgN2JTiCtgduWS/1hWhTV6kgnkaq3CEfvwX93BTMNc1k/UX37wX8dVUMtlUdBQ3E9FX/RVICFst6dTEvH90d+RFhdHKANEAB8HcAJ0Sz2IjtVggvHs/I5PR3GmMCt0qkgEmxq6ITjATJiaXiwFRBXbasqvAwOqGiF1BdFl5Qv52Ud0jkYr2RPSn5ZqatwOzSNPZH0kOG6wOfd5EFQIxCQWZOq1izESk+Li10J6k2uobMS1G2hCUcLzIvXDWm1boUpnaOuYKQsCsFgWwUCHgSuy5GTxWN25uwjGJ+gZzDWJ/6aq52Z+VpTFSancQ7M4RyatAxBm6+DMbrd2YK2ALyZabk7YvZnJQYp9DvYhG8CtrbS5TiojcskuaQXtoq58jLYpLqA1mwokB38VKbG5VYRqEEYHX9B0cSFTucJSlR0SE5eolpDI1N05mi+3Yq7hJ+PzGfKz0qbT0oXNjhTKEzQRqiJsaHaS/fGS5kcsyNgYHye4FqS3aNyEhJHSuJF/ZcVrpA4ckhWxXphA/laqoZsW0xW7SNMVgy6UmTZqWSJGTkdIiUXIqbBYI5URAL4HUsz9I6RkIWHOayJruu/U0wi/otLGLNcFc1w1yYENSUt1qDP64CEdDMhOyI5T/xgj8M1ZfU7duYhaM/4A/4GKUhEM79yJcBzmVrSMF6DwBKwEroEaQLXhPOGcG6UrellRjjTFCUsRYAwlkTIWLOR0w92cS/t5nWdNcBeOotOX76zFYBHcoZWNeJhlH4g3sk3YxuoQhLBFH2ASDmCNXyK4EwrhbrjC10VzzIIuce6NfhesfsXXCtx98ouVqQDcQENXaggIKQgVLBeQFAhfMXDiGvYD3wN5q/irAibDEK6c0BaNIaZREj9GGUe/ArYE4uXvoxbJeQc4ykwxbmNcKParGwyiLHSdimcU6qU4+w+Gl5hbUfNFR0jnaCq9BcQE0H90G5DgGS5PNvcQTVakx/hscuKRIW1OfME9tHnx4xjqkLHW5WZQJdF304tslacmalbCaTFDJxkhjK/GgG432nglwn/DTcGzqkwFxrkor1RTqBFx2dC0PJxjGNcfgL1nUm/lYWhz+xxH0s74BA1B8/Skf2BFCiaywtUmq2nOE+0TFkQ89AeR9DrHtTJzqEKasK0KjrDaERTwi5WLKKUJ79lcFRo/TnTe+iUZK7FDcUD1lLL3PJvfstQUxvDGPIUHVN4X3wNFFjg8Nsrm0qV8r3zld4ijHIm0CYMihatNsD9eR3GiX4mQqH+OI3grgJOApaJAog957WaDSgDlitvNghV1plM9eWZL08H8LBJArBPCF4QmRAEPjCRQsR19yjGlWeWb15enGMhPMEp0icg0jsOMGe0hLBrhnOsY49xZihFG5xcQt5nZvl3/+I1oBAQirQkfsMNB10RkeYf42RNDpDGEYJwrBELgkLSk+XRoShlJMGJGQNBtm6Kq+3b4pIEOaIhmgEgMYJ9xCZGMN4bIX5cIp9DCNMdCZGpBEzRjWlPmzhjgh1R8w74oPaY6E6tHJSwgpRTF2E6KgvhBEkt7O/Wk91PdydEICdEy7lp3BZwR1S8V0kY6xEnqfz/GuONokENsXR6FA82c8SaVIx2UNGAgYypcSqu/ui2wBuweMqpGbwsn8m88TxiCxH2WBdBOi6L9krGbFjf728GhogYQcWU7K0pzk9RFnz622XDyOcTQmBdHmMwkyBOMrhgnUIZAmW9l2eZNLuGzC5khEBIbGIiCxhNTXmjwKvM5VEmaBmGcPgdhXCsCEFIeTza9bXTLP0ZFqSziTillX3a62SsIdhbcdZMGgUARglRSD8HKYRYE6WzpESKwsy4JsnEsdS4wKuFBbUQ937PDhKw55VzOp3rCSK0rTeJo3xbnmPExxSjLOgwigoWX81Kb/+5sSUkaMwqPkdufgVSYZhumi3DvNI5y5CcGqapmkOjdA6RQnU/1GWqcKVfH1CkhX3NGx+OiI2KiLiLWJbQ+guSGOgg3UOk9zvc4jHgNYSr8V80oQc06Nvq1rIk9CYj48Vd0TniFQ22HIRpam6+G2b41heHU4V6jGOAPJ//+MUIA2ZMALEAuwJLBAQEfQQHA120pS1lHf9Zenhp/lCR1tMlZ+QyubJ+ahMERFTBgxRzukEMISC90P6/s2zjMZ6sBHlONpBs8WUrpv5PAoL5StnLOLq73btzhHT/iWIcVSAYLLu46x8HE+UfpdjeRNm252AiNOVxJOsNSfVvy07w+18PaY8a8v+JLV1LtOrmuDTPou1+vWXKYzhIkS4rQiLonG6rj01J6aO67ymxehpzWEyLB6nIWyvkEZYrGkJFOLq6iHIo/1Ws9o3WaN0uXzJuJG2rylEUDQqiJSUMmqSQt5kv60lyxwEaKRcYlYkYZpgqEtKDs3O1VnxWSBpOwM/meoVe4K7bESwBZI2nG8QpzECXS4pFOU2sDMRqD0C1d5ViRWrTveLKjaK6a2RA1ZEXna+G7fyEnw3bYL7OY0SdqQrb/R5zvHo/CgNR5MnNKwLlw5sks+jw+XWlMJv7O1ndlFyAWx3PVWUerKVU5dKZFMFapk9i1IdQGPLOvLZx2gwItaYvuvPDzc7W+spz6LgqyySRYvqUym/qQKPUFNomJhLCrynrix5K41/UViepT6L/S2WqyMpXP4v0LcjLM5QHenVsuE8azwIUTiWSLvyAmthnq1wk0sFc+n5fU0YQ1+CprdNlKqiwWCBHcXk4yq/DdwvlErYw1/yXm0Q1LdocFnCtkc0qGbrjlQYEVzhmuwbjIVBjbIWJt+yRRREEQ3hfo8TZZVIe2h4lP7wfn8CD641qXNS6fwL6pz5lQbVbqVB3y7JjlTKM7bRLjSp/s5cm+0av/NDl6i0PYd1jm5Rjp8CFWh1lHLF0Vuk6hcy9eqYphqyrS1okkjaTL/lEbQW1/9V2NrpWX9XCXatPn9ft2RqqFiT0PEl50q68lIqC80rSFjOSbPnkyVJJ/h2sxIqVJ/9FeKiQYlO3sZlERenFWpJjJJUL4zoIXiElEJo5LBoiBWrDZYgVSpy5syJz2HEMecRdn2UZSSWQtIG2o0da4mJ50xJ8Hj8sD7/6ylINxMP8n+BeTLwSjQ5HZDJZ9IZuPx6UxbKhtF4rmZjZC6j7TCImaIulbsS55Ai5p/1Nbp2CJVSlIK10NrHU2xfQfcq2AsX8i7z4ZfVu4WuuEXfqxHqzwzpVoT+ctr5AKDgVi+0m4ilFcCO2CyJBjVpUIFfS8Hn8q/rydTKVI/bcajvTHg1D3z9bo09Qu+CvlYiChI+Fgb+jma/5xH/rPNlR5k6Bn+E+xrqLzasEbHxCE7mBWIm5qK0QTFYiHBYrmxxisR/SAokUWz6C/YASWUTxzEc55wbSUK5bYBNRUoxzLne0wlYfyMf4MtFjI/t11Ju1NlsriYE+2kUjyCc/tBytOyQWmAtCgnG4uPwiPgnGQaIRoZEhVHgc5TyXao04Al7xLS29bnkdMJ4zE08KpeYVZY7WLxgOI0X8iN0TubwR1qdd3k7LpGxzal5cZG4VpoKUAQg4YheH7gUgeF0CVcHysPRIYBAjiY2jtxl4XXK/mFWAhpAg4WFlQjWfDieBzDAfRMhTLviNvZNun/4LqAS5OfGox5ZnWL7LA/Qqa8pYTRifIQsQWQtS2pi4WwJBPJh+UQpTxUNI9Lt7hxTz3DCXACH3COI7uWSC0l+iEk1Cr8T6qDtrHHCimki+Ao9GVpQ3f//bgmmo7rKPaR+mCj/UMERSqLHyWL1HUI2/MCQTzk9eRKdDNkaCcoi820tQzrRDEEQTCUxt5kcU30p8df/hIQdEGsgM5oJqJsm77zuxFciTiOJB7lIm2Fa2SSpxZiYnh+Svw9RRe+AiJRqKxeIhwHx4EwTAeNg5OhGcHx64M7/LHtteRZexd9iDnE1kxt43W7hioFLooKVnZisqqgY62fzLyp7Y38Wog125jeIh0xkKOMko/CoZtwqFxUPRuahQ7BE6B2mD0rVSMgb9fQPaGHV3ctXuwzf7y752nYrPiQOBCRH1Y50hOx0XQrfKU+n8+7FmyZrGykb+gPdXItC32Lxa601VpQoBvVqaVEVxNqT7Lz2qEt5QL0lXdp+VbbJeFe6BMlGluV5lskpTXgSRr2P5d9PqblhIaX14/EnQ4+3d36/pftX2fTwzaThYvb8tukT0J5NaHaxXWJsIREOZJLLecSERiybEQXVoIbiOKgqGlkN9qNM6YUnS/bIpbcoX7Ca63QSkh29vFx8LIhrJGIzohoGEncOHUOv91Nr05ef29FbRpaiVzqwGUWlkbz4VhNJx2MpDIp8RjoSSA+Hx8FcX3F5TWdrJnfWpOiFZ5ti7Jt6vVGoHRT1fzPhNIJ9PiMWkqhJ2wdE0a1XeyQvmKPBb71zzZsib7lPBUVEllhxLBQEUgHAkFxcLKqQktZRqMUaigWBKN5BFQgLhO1ccar3L0RIf4h0uCx6Rc3jZjYg5oFNMYVjTOiHsFfR15brkiT9IUjTTKNjqEjcXVpEihPCQwHBNrSAXywgaZmUswhsREvS39sbmS3Q0CMUBSEcdCyFMQSxW+b2AgRv/gDN/wdrWBH4RaieQa8VgGYXZ8HYRmi0uYLk6BSlfyA3SKBprDXG+/hdt4s4QoHqJI8xufytDoa4nuEsvKqa1KstDDJymU0cUyIXxsahzGkWzcPg5hTI4GcI1l7LQA1UOMc3R0h1kQCFCwB1ganeQTAAdhKlgSBzCjOQVdipRLssrSNTrrxi9X3ARLCaK4JU4kCtSmucTknosyFX/JaaZQ2aZ6s/aHQVCMu0Ua11U5i5SrjI53EuS5dvFJSRq2qA7/VN3Eg7cKZXYXu5oMRjQ9oWhNYd7rWjchLrZXdUV75+nfdinPwqSaHgpFTVpv1IKrRaB44Ulumxn3qSGROT1rUaWPayqyKX3StYa7/6qRxUqtGE2SZYvcIEvGxqpCyQuoCalbx40+rMm4i5jdH5DlS32IANsFFIYzfsPHUht0yaNG/XqCJlsZWVaykQaM16byaCaXT2+7S7SwPVX6MYDocazYybUVWIzaoDvpN+pxzqchHqR6UN48DEKoQI8W2rRMX3VfDiyjByw8aXHpEikg8RzQIA05soqYYLWT4y/Ubu1nBJc+dZksMur6c1HRDkz52w6NRXhccf/dTXJ4rNaebIzRQrtPSIb204KhRHxQgvOWiK6BDuBqlUtXEcrOMAoz5IcIJ0yLmjCLuoHjM+XlKCM/sy1KHw/JLpsxSKlwHtw5J/ceNFAwrtKjMn18kxykDvcAKpgcnCEvgEPJ3l2tjcO2qJuBALZY/Rk2W5qJ0WyQ6hfWjMta/9N/x6LZJtB1ONBWa0jxGWnlCIyEdGxZAEZyoVcvBBWud0EeVrKUcmDe87NtKZOVEHo9DOyiFb1+DuVBeCCKa8WOw2rgbbp43uvTOVti/iJomRKqYyc3yqJ1c4vFJVvM1ydc8kx7G4si4PYoJHL5iv0i1wPYcpQPJpwXF0zvoALiV9GN08xRQbhQCAPedgw6wKjlhy0yMOSRMenc/heYXyFZCSUGq/J9s/lNq0L3J6sMlwftahv5Spmn+2AklcczWddVkvbTJExWzOTDzXyBvhFUslw11U33WoyFGMdAQ5DOZxQZMO+SU2wO7OKIKdW8sngslUEfMcJ78aIgQ/L5Et3mwTUWUaIjdkpMwXwwBXYUbwQVEFtLXcNE56iU0k5XvKbVKEJpDmMPVhklvi3eELXSrHDxH2R9xts6JHLEo7NI/hz8IHaCKQclztZJ1BFBQxDQBTTdgmwZll1YHUgyDDAhbqMXmWElff5CQBsWgKbZxVBaQh4yksneEY8qwQwKXt1MI6vini+/YtBUxbFLUF1OqPHEOrcBfiG4QKgie+xoUUvFSbWmvxAC4V5p85nIDCtesT/JJ+m4wWiKctrIDZNtuUpAElC+hVvMP+UAnjZIQF/G2XLv/mHjFjJZqc4HEvGNZ9xgUULxG8wwK6C+Ki4dyqvasxS6A7EV83Ea3cdTuzjOkSEI3Lb8mAkQ24oKqFMmf/rGMQidxX7XB/Yg3L5mYchgoJfU8VTL9HcPsrz4NoXq/F4MiAAwJ5QDaFzJ+KdOhcIgAv45yD6nEVUUUDIc8qjohkUdDAHZDzlEIB5kqLz3gkRpyM4VM34wBT1Yk1nKQvJMeJonBhLYrQzWzYHMw9mE1P64DaeWOWX8/a+qDA5ktSFSjjplT2KV2H3J2tPT9IzTVPc0VqIwAAV8A1YCHBJgEPAa4noaqCgKfKCjBF2WLcHVBNEtEcS0fEDIgbRCSzuWCvb8XYcEnocish/X6IrsBKDx4yTqmWjWln3mCtT7GbpJmICaFk1HKNBkNSki28Y9OdLZkIvEboaTb6Doraab/vZUqeJhbsfs/Es0clh+CMFGYqTQUCcgAhaeAQTgv8/WZVgS8GpBBGFnAUyDdUa4jbTLaB610GMIqgHctA8DZj1vBUifkKYFlGsmH7knrmZeLnGdLHiZS/Ck7ihY2JNLkhqFXMLTt/pOl+74h2mo0Mfmxaq21SfMQINv+nOobfq1NmqULPY6jFWYAlUZ3occE9I6KIJQS0yWXXN3yK3klUSMJkLTK4vr3nJOj5FlE4sCymJ8Ln8tEK1BCCLLytLw1xqPTLdHrfPKrc78Te41RF61R9HrM28PhSnFWCL5/4I3yO+tdSlmErtK7uuvNp40V2TJSjCUbi7Lw6LRHcZ4qXP4IloR8Gn4QaIinTm69vm/bexEwhVkIfRmYnW1XLO0dHPEoH5xc8Y2Nt/Ul+XiTXxZ5Nw6ERlFukk3wt6Z46n6/tZtpkI47X43u4q447WtxY9NeZNLVQos8miCeqr1RF02xCaU9lo1yuRbsr6vNwC2RQ0xFOtENuHHD8t2C5C5MX4Nm47e5duxfIHARTiZpldT8mHcFaPs7lqMT8kTnXhtjFNBpIXD13g8Mo9gZrSM9KVxVnYUPpdBDPlojHszOoElOo2HUv0TYmDwWhUaWTD1aCop7dasyU1lHAvyiYvy2jSVeMIJ4iGIRrN9XVWKSFlAlZsA7lvSNL3ZZm5rrKglR5rClAk7E4qEv/n+QRrrFVOjkY5G5fUibRqjP+Qnf/Cq7SBdCzWgo6toXqEKqNrViTfE+MtstOh3lrCEVO/oug8wy1QolPUTuzogsTVqqc6GXNLLTTuvmrbku9skGY5euth1ajBVwf8VUC+GoXlSdSFx60OLqc4Gw9LbWENjCx6Dz5lHI83CvBz3jb6vw84lJrRNCLl3/kmvx9sYtLbXNe0P9N4YYr0Irdu/KEqnsqhvyCQmN1WDdHPU7TWz0bOKlik3+FUSKKMZ50grt2wSCWpVJTPt9POgYByuwqV6jR7wKSuoGiKYUGkO6FtTKUkFP4C8I6m1YBOb+GSMCgpgp54PANaIC8Fz1D1e7isUz77xTXIkxkpn8bjzX19CU69XonWH4tEL/EepsOL9tL+ULwPPZa9WXFWXvwWP/lBvBKKhU7HCutk6dSr5UPTgIDzvQlyrKhgonMC4gh57RhBtEbadsQ06oqQlPGDnda51w04/Y2kgcdpOdp7cVk5e9yDaUVoLT+6nCnZsRItlG9YQfJwe9rSunG6GOW1tblU0ZZK+evIIeqcancuoEmksyveGrd3y2os5AOvjMREYFPoMj04i1sufmQzjLh1lKUBapyQ0JeZER4Eo8pefCMC4qvbCFjjCfEzoNBCfiZOJi+gsUpsJDUZTe7EsdYLzkuxVwCegxNBVMnKSxSqmMkiMIgprjjVK2LH0aGse+PAm0p36jEvI6RGFaYDGOHQk9pNDEFudy9JRykhQuKPakXUZgmJB3CiMpNDYrgpQGeAnQIoA7sUK85QfoEi8hVO8DEAihjjJxw9xCFBabXwhvsDdFS9F+1BiKNs2gjSVjiMIw1FywcXd9/VyiGUSeqChJlsHO03BBvovfMzXvMI+eSrghXD1vNg07+tXVy9zXmnfNKwqOdFH/E3GKrjQRzAXBma9+JMFSCPAsgC0OcDBWIFSDVKQO4+w6guAXrBGOjwqq29HsJMkp0CfIdDTxWUCpuUmdeJpqYlCGMezsZOUY/kyuRMfwjbrKYfZaS2IwZGD6a2as0H4QkUp7jphKJkRcoxp7L/OSo5pp9TAnnRjoIiOYsJAnPZfcW2JMkwhAZDjFDhCPCJDGSFQWWTQxQZ7eEcV4poGNelep/RJwphaS/ss+k0udsZNNaNDjkv42z2l4J/YypEYYM8yFyTEnOw18sWBBKO0rN2Ss32riba2TY6UtNJ3+jtUxJeelrCXYEz0a3Z4aE4rkI1I12k/bjmJI21YWouUQ2jzeneWJCCRW5fCjR5mHmQ2YR9LjjdJS3Qv9qoND7Qm3A/aLMnfm6I27kulKR1fZ3yxnJpI7VXE2cFs/9cuZeCtbtA0335oBVzG0Qas7bqT8NW84oGb2oxNbmwnoT+3NZWR00VsqGV2/jKDFSKm1bh+FHHkMG69oNwvjsU5Efd3rMecUVJiTiNgMKrN2n/+MUIBHNWAEkAXABtAK4A6QETAPsAqwCIAH8AeQCntSZWA5Vf0QPfzIWwTX5ICwDftoLMRQLQVkgxd6U8yq7ea8EpRgEtv8tKCvnvnjhkhyE4WhEJRWYPnqomMhMPh0KjczbKUDMfiweqwtgDGAxs+WDmAzgFsXwv+2oOeAoHEbCwxuldWORUFwVGsokd5SaLfXzIxAS9M7WcEDsj9xVXCWmPRoLwkZeq6PpdOqvZ45W1vPfFn+0UvAm1OVFaIy8VjFERkRGbhAMh8cNWRBxd7vVsbjRSCWBDPo6p+cNIDmLYSynwGvOoQiIQFy4kFhcGQ4LEsUV8l38UVol1MycQ/1FyIRonzb1WxoWkrQ8KsfrvY3Xn5k8EXnZqaECglw5EW9k8HolDEXhUEAoJWJUkyiBiIhusESIgCYVhsWPICGC+fQIJcSxpB3cQ+krW74cy+HLMrzkUrF4MQgDlAl4aumP7zcNjtumwvW5Si32HpF8eE5ZOS7qILmJNcpl/b5pLk8sKroj4lmD98OxcNgaOD1ZjdKOhm2KlKuo3fvzpsYu0SAUwEsXTGW1zODCFc1nNbpDeSFP1QnbaVcxdDRVLTqjmujJ2FgpET8kY3l1QeZKztHTpGplczlFpTXOCKdma0viKzNkjFYXYvWXudmo3G5cSkhWpNCM2fIE2z/dEmRKTNAnRGr0jGFPLJbUzmLIcxXJbfb5ryG1U5GQqOwSngnMUNEl34FXAzVu1CDVzeIBg6ERchXot93gd9Sf6Id1jQGNgz0vGnTut6mJydBY6ChcMU83Yv3LlM7yLsi8mQGBAm5GSwbj0UiBQYRDMpPD39CeVT2jiDzacCpJ+XpnMhZFTHkcVWfiXlBA6ZlhZUIu9YI1J+17l3Bpl42VBS0Vl0kOLcmM1AgoCjEgXvqVKI2Zyj9pPCMm3FFUl2MERJwYePzVefED0wNcKUt9eYppbu2oojm1lMKPJ2yf0PVGmZEitAz0dF/UppiSl4Qjq5TxlmY15IZGzl5CSCgVnglEBc8Nkpk0LCCvSp6h345llFZE/hu1zVNXsdIZCWmxYcmypJhSMMjH7ok/j7KcvjUTYfW/1RW2ZOclZMuIUdEZ7mjU4RIW6UVJEXdxoyFHZs9EYlXhwwJSBhJFpMJkFWRIRSuoE2voS/8JfyKzeRGudDo8ICEjSEKOsLcfDDyS5JHVetu3HbbyLO0sdtXn8qHyrSfaMW3lUCqtIN5RvrfevMn+GmdFuuE2dOz90zzaRJa0xe27nYrtF1gaYRPuO9Oc81lu3xQ6Mn/OrRpuffUqYkTngRUiaiyojXGf180qZDsKPLlnXPebRikyoZfxxprOvXt6RbL83PNKGuJE5MDxJbt6hVQEmFzzRbRSoMVOBAQqMCwoZPSkv1pTtNbp0GTxxzlO42Sm6ZogqComOVTguTdCdtn77uSXCUutG/InqPNmmQlj0kqmKUy4YctYhLKhvsaKfG9IYqs5Ysx2yCgNDLFY0G0j38G0yT2ifzrUvT42XxAZ4ML7Puq9gizCGuEuPcqol6/m3R7PyPknSIM/zFqUJQs9k9T8yiu6bzygJ+BAukpVVZ4AawFkBeJgX8GA9yQBKB0PeUFJDcSqaCmCejPw8jjl6HMVygnLa27FL8zATii6pX95u0nQIL0jBLNYJGJLFo0No4r+MhrhWs8TFFKqQeqCyEpzLpoVuya42SAuEuysKkNgpoV0Oo48LRCdFrGfxCaoNwUxIznmekkKli1AzbLbYwpghybvZyGcqQiHsHIVLqFtNSLPYTRP/3yJx7rT56Ij1ne3wVbjmtmtAJhQtEAYm+NmFULxInoJV8axQDYksHOO6mi4+SxhDTrHJFMs3kBAUENIpMykCuC6XVCEESg4uSuIY9Ng9NJzrk2eRV40Gv6sIe4XriKmIZclncl1Niabz6YabUwGiBFI9OZkPjupiSI8cVKNEpKm9ZGVp/mYHEwD15mGjGLmX64iQIKin3zjLKoYUzeIwmHpOlKCm8lMc0RCKpxa9ZKIM+ZVWhIlfyXwFpjfXUkR0bGv/GP8YAtuljyYiEyngwICO6jGt/vAN+xJeSUvCMTnzsP0byPLhs5WUo6zwMIui8Eb22EoOxR1YxyUjuKJalzmFzUjNH8RFgmdBtOpNDliEZJp4poggpjxcEjsv4to9fBKn6e9GH8+lNi6JyHIPEm5NitG1llNDVmZr3FiXs1qSMLaL8oGrBNLCcXSyu2Grwi119rQxEEdLicmh4iL5WTB0fdyOlQ1nsRENvVbGXbs5GueYwmWBTTQkCAUyTfkEkEmV+UOkrovBPBSIyXj40ATQoHUAngNwl9rSuXxGwt4Uhz22QI3sgzEMjC6S0BCerc7rg8jI1jaM9YiNRZCWXNKgadAqGAxnPVNPNRUU4GYJCIXxtPgtbqqmZmgI4giuVmOhlbEApPcQ6vYRER+EtKqSsogljSiO69CwuE1lm9Vg8H4b6Aw6BQtxsd3GviIrj1CvRXysJy/5h3sohkM7KIvcSiXqL0jFblsPFcqphF5vTzOHgKJiJG96TKRWopVRMwjCp6DxcvkvjtYlrSrTg1MMwjoi4S+OhifmdtpdvKMie0DklHEgffwgI9vSh+GtHJTl2Y27RHuqsAlJPiolr7HBkpieSqt5DgSiMmOcAr90BPeSeVWFA1eNz88xrsBMmJLbJ874znRNCzz9LLZOmTBKZ7669u+K3xmJ6i0Lb0uSctU1wo/p1g0S/YU8ah56YGlKQIAnFuXIy1tMVQOpGUSkCxQIV1s+C3yUIPyXoLZRI3/oEDbtqIPgZTGbAIYj71MK03i8bQXFFNRY8HS/5eFVyAtOC/uZt1SeCDtH6eBsfLZhAM/r3dTqToRBL829NhkDq6cpLhUlO8LhYfkbNwdNCggyJF+AiKh9OvL/iYTndQrAweli0uRulfx8KRYL15yYWby6lQsTRf2GdCsMhgtS8eKXA93dp2xLEgK23qQE2jfUEvznVKM1jeAgJzWquhOYGG8I9kkyFrF6nfB6VIDZbIM7ofs020cCgRrJ4UZuvqJyUrxk+ERWTXHDugt39+/TDmy1Wkhjfwm5JPQ3672KWkSoUUElpMXvXvdgiHbSeVkoTcMOG7G5riacmBMQCNK9vgu1S8voTpqdDQ+dPulIqEN7JD4vouUZt40q4IjQ2IgSGYim1GzOGBhzU3dkyMkdGCcwgaTwjJciSQ7aFKAYCkLlK0kd0KLpuhFEUSkWnU4i8GIsHKmy8E/To7UdjrMfMZCFmUb6+NVuhOxNiDB4pnbXW6EatAV7HuJyg7IPEqE79YO6UcidF10VojNqJ2/KiiHi3JmR8GzEdNylaa9n9PeUlih3kpsh3aDNK3f7H4oF6Q58N9os2naIzYN6ghEsbk0pJoeyaEyhNu3QvS7sCkVMUcxiwemhWTU6ElJ87sl6aOonx7K3k0gbXbEyM424MqBg3gV1oyK4gwWsojTESIsr0ism83PlJtvwT8M6lXKeV1AcejjOgvaVbOjDsJiD0KLa9C+TOlVLWnQnFRFWcKFpYrINcUDXb1RbLw7uZ4qzaR8SKZ36W5p0a7q0Zhjk+v5MhmOLSC80J3TleIU6EociQrVLSl/Gb3G6GVyvVd8unKjNA7kwN0xKvGKbbWsVzO2UnVdCHWDKF1Qx5zVmRbT0fkQhdoXt2KSWM53Wt9KSmSHY6IWh3AvGKItPs9q0Uwg5Zfp4eyXPrpCWasoSa9MXPee/u5YmPnSLKnpCkeo5XK1QnOhE44LpzDUVQaNts2yG1wMmaZX5/5eWal0Sgoj+taFisuFdzlRcwmMG3Hz5w4JXyNPOlw2QPlWBkuQCZ+8bvFdsuzs4fnGH0kf3MDYhyPd3Ru8i76aIkCWpyugshykY/Ft1H67lXL1d48wrYCmIxKCtPWvI+7XNSaU2RrnNpvHep2Ju51+4QqJPXpEcxqrbPqJM7In7w75SC25qvR5M0ZLn9P9qcpglfojlIkJUL+JW+J2hD1hxTX9R2wvgo6TYlSDlYp+/IFxudGev2WqLLDPYqNS45+YsrUpVvkKsGT6oaF5gWqBDlE0Ok1VDRAJCi5FZLlnM3w6kwKL6L6ovKETRxsVaxz0svirQlij8ffNmFZVdEaFrjrzdxV70j2X6NVyE2S/PKpEVNEF+RzwamDvpjaqeip2g2nabfsD98WoMXCD3tVV4WQ+LU2Muu7VQt/9qcon8zFbQp69pulreDXI/P1Rq8LfIyfZJD3SR0lpkvbMWBzpZCvzJdC3grYz0q0S1mjqnULGNf9BLhiPxsSnTewXybTsCj29TLnrBrEj+Vue1nZ4eNFLJWkvTJxGXHcmiN4LsSjHKueUSCE2Sz2RU5QzcMkR9IaaV8sF+ExEhKKlFjRIKJ6oSdOmobFxRU+0voXZlHF9ly/AqqcZIlrU4MRFG4KDYWGTlANzylNP9Rwku/VwqEjIQ3uWjbUJCEcWPaHNPZgQ5Je9GLaUGF7zGi2JvAV3bt0Rf0zKvGCA3MFLiS+f9ZMZ3Eu728zY4Qxw00mRiTP53rYp1vc3osc/HBCmRqldiVmx9O1CnjlWJV+WWrRSr1OCMsW8KUpP6Q5iozKma1/pwUmnKFd1y+3SqL75EOBWw3ylwRik+awEi9vwc39SVLp1CyK/xSQRICLFMM5WBiwhvLj4gNC40TBAhbYTnO7tLwWdDJyMoVFI2uIhM7LI28xAg2YbxoW21mzqQqSZ7bT4UwnCkJF6rq8u1s7SaYKIHFBhGTeRqWbCUtgRFZwqQ9ckMWtsBdXwXJXFv29s4auyF3NoQF1wgPRNmMKnHbM57Rwt+0sghQFcPU8zR7UrVltUOE/5M/YFX/zXItnjKagnRGe3TP/HeixyyYqrcZWu6OTvhDKZ/sc6FhCnuVoHLhrGy97njPZ3NCXbNuseljp4fGSZjP/jZFGuxTFuSldx4i+muhm1VP1Tl2mZ8VvSSdxguSMChNeh8p9IoWUoRakyqyMSNSJGYLfObeMW11r6WzbPyxT9u9JmCsfYJnhJWpXQtEryGdIi09KpMyiEs5Mk6q65piUqmZZogg2WWNIc1gZvDNRjBMnRP/KKpNLOuoFBKkX46uOShDtnZ26PVQriIy343RIz1Cv/4xQgFdFIAGwAeAA7/7v/H/8P/5wAKAAL/97WyyEmIuBSEwF97yCZ7t5eIu+aVqsVzT+ICmWAxdrlldtEUZRDCjZGb2pYUb6K1PfZ8QPELuFaGtJVVlFQVudFUVrKjbv1h7/wzOKmCv7k941traMFdjpPJ22IvzMf9YNMGCZ4x7TSuKeiHUj6+aWL6GLdIouOqWKwg7JFCC0/J0sLx0TZxSFtcTA6geRLyP6G9FTLwmYQoNY7XipkjT/6Z2LFCTPlCvQaNDyYQciFnBNPJQKqMjHp1ZnGiRR69pdc8df0CClvQ6wcU0ZX5wbtM1/izRahU1kLaZERe0Iw0MjqaNFzxM/CzVFOvvZTGTlFfwJrHP/fEDRIyyzchk0CK6o4bYoa0FxJ6gRGevphVAgLBJsKnRdY+JBrlgjkdZXaOPCBMIgnwXAIbOMDjrtyDE37HyKGvx5gcIk1L8IYKhISP4OJ3UmJ0yPIhAYK3dhRbKDyvTX9E/DRdQpAWCPglIyqJECxpEnwgNrrFnDCPSmT1pfcWHzgTSQU5Y8ikUBA7Cwo2xtCZiTiTav24JAl00nQdLS+oRmfWaMZXmLMYsbU58ur2S6ybRRBVYczddjKOjjHEYRKiaBHZnGkz5jJ4MrGCREQFw3e6ht58tBXOLmi3l7MjP0TC3UxWvZLmk1dj6YUSOdO26YLszGVS0BSKy852yMU2simU9MYNyZhCBqyZaP9vVweGTXE3TVCLZhK+SItQQ5tiYvpBDMKHKVTgoIFpNSGnYFlCRTkIyCpEUOGFxFSSxyrRu3ysvCDU+oaKRy9e8FcCBg0vxumyhNazxJ9JOKyEVthJoNiepDCwU+jHRP0roFc/RXu0KIUPJkOfty4uTIlzGtOSSNkA3ksElfNCJkysdbnwE1DPggLGKvuo9IFPG8Li7MfkZuahfeFxo/5Qkd3u7QXLmgkbkg00XC4JjGajLkFdSePJcq2M5iSHrC/Q6zrQUYgLrhtALDBZwrUXu7wIBRERhZ4uceSYGbDKpqCENiUE1hVxxziy41i0kDSqBOLp6ZNIUMLZisJOOi+LEduCIch08UIF/6PBL6GYPSroYEigZkm8koFzhdjgg+m5oghzKSukeXiDRTjjvCZWlG0/WZnmUq3xjRKgRLGnpwNn3UE1FhQQ3FHuKuzQbFDf+GVk7WJZsmeDNmxM+UQRqLuAqNCSVEY27rXp9R3w/AkTR8rkvKnmGDMCJUitUwskK9LtomizGCdHdRml1ZEsy04T1RVQmgme/l4khIUF1/UU43lgxbJZUTkjm1Eixdx5SWn4GMZsW8hAwfJalTRBFrNV2lYJK6aG7WaISRocOthwcS1IZ6ulGzW3AkmtBEGJF0HcQQsaFCq8KV2HCZY+GOlEdb8LAq+uugwJBUeGYcU+YVvawQ4TIHG2BWGaoCpVHBpkDkFtvvisDF4JoSTiQfSIyBs7zy1DVbpWFStmXp1qTFGCC5gNzZaZmRGMEXIl+C588LuTTXHl1FjdYHWnxtyiHy3EcHT0DYUxA0udNCcrKoEJlDYgVtU2QSSa4KEcbZkwyfeRaR4sSNQngu+RyDEFTh4yokkc/tr8tRymg+hEwgk1o0r1WzFUkkl5Xnl5RBgrpEUKNHmUyySx6USkwuyOiBCiRxZNCQykSexA534jEGTGxclfRQwS1uegvhNpDo1SP7lbzoJBgJo5E/91J49tE7R0R8W+qNNuTVbKpZNTF50fCJdNg86ucjGcQlImj6Y/qdTS5eyLywiylOLoqw0IznogYxc/4vMVpstFM02pLoto0ZqNpqmttPOCBdHw0ubwIiTZOxIWSqysj38XCLR6k3fnJ4glIgmUOU3CRA9Qw5UqRITeQECeit6hI41+aa6Yw2+HjHkTMVM+ZaEOIQ2qkVY4CXViHYuUCaNZbsJaXeQOcw3FwmUJ4wsTQTYqewRehwJOwQodTulAiJHh1asl/rGN7iXeykpNlqBOh4n2uS6OVGD+ifCdKz5EWjCzRFM33dpsVRO+0guvmpGx1GxLZwlWtBNEKkkyiDfrGgqf1SFH3PljGBNMQBHxkkssMLVTUgdyCJ5pIVGPLzU7UuVcMHsEa9jMrdgSXCIEiZdTduGCnRLEZrlYMBgSYGDhVhlcNmRKIc2yYqMELtXptiW9TqRaueHkxwoL5trm1VkYQggcoVJP9IC2tli4tI6PTCDgRDyJoLu8rIwZwhvjMlBiBWIXbUXTPBLi4dwgb4e8cyl6eetXTRvC9PrKCBP5MftRuG0dIxPjQsoXImCplYgnVnaKkeVXCBV5Fp3cMVFVGiunD7Lp28kSQvcHq1qfBd7VHnh8wvzraDeiFVdm1w0+SUWxDT7rpiK1VwQ0S87svn91SzxESEEl7rxcaTqnBgq6GHjXlmGaPWnKdrTqWOOR64gp+cgipOifhRIaghwm6nFIGnHCnfnVlwwIWxgQm3AjKjFEHILIIOmFLrUbilbhUmJkHJHrjS54q7C0j5YnlRHSvVDUx0182HF30isuoD3GvXU/bZ3hfIZpxwED5Eng1By2hXHCZ3tspiDTsFb+P54UCaJAtFR9D6Q2JQiArW72WCJ2S4sDk1kajZcjVM87Qsh8U4mF5PLUUaEUoYUxAzvdP4PI52GmGyfyIQFE8MvFBETyZ9j0fnAtwWg+uIZquJEtLU3dp7DchNgZGDWyRJQ+wgecYTB+8ie/FRTYWKYkUghh8WJCWOz+RC35SVNQMDQy/4wSUTCLA5wJIwjMEbCw/awmIMngvFbxQMJ9mgME1E/wbW3XolzaNFLJ2ESGicq5XcuERpd1QdJnkRSsri7StiO7pL/XIokKYRskog2SE5tOPhtdcYI7wOcRbU6K3cLultHYKn7HCD5J/xcvMOF3WTSIoRRXaaL7nmRVDwt0uOEAxg4TeXES9E0ALhhkUGC7rKlxaqAjr7SKDlFA8YNJMuI+4MhAN/uEljU3B1tLC5QgxE4wHGbjvohoY0hg6zdteCrZawohTkzwS7kQmlEZm0W4yKVVHqQLEW30RgTj0weREpGug/ObMwoi6uIG1vxfaWGCt8ONTg/bUaYayMDZdR2DpJeFacRyvlZQXiOYUgyCPr/ouiNMqmc5EtT2m1RNLb7PFRiZBPsSJFYjEO8CVDMWpG2giREgo/UMhr22en8Q3CthA41mhEg34TIaDaRZOoKhYCWkQ2QeNLoF6WOHlcPc43H7osFgnF34YtPMBwwUuhd9BKRP4go6xTYUECoYAVRFmiH0YQWNKmB5JAmKqVaobeBrmSB1MNCkXWguwLNt5iGgwzK5JsgfCNCTtVM1WCza3fWH+qBkgeabFlh9dAxSqwkbFsbBNkFAQXG581gmkdfCS2wmtHqEehWpXyLqQmWa7ogEQUKZiWRN1sG/1ArkPLOndhaiSdiqSWnvbtuQisXHfovE32URyVDxU6JllQnwSgfDB4rwa6VfLLFbjzG/OFwLsYhgoJcNqXM3FjOyEhREhw+6hyTOEQkjNL9SYEG1QeRVNIO6t6fGEaMg01JOXDiluVE9XXqkoy2VR3pYYSNJlFFdURXU599RCBmqIiSNERwJZ9pj0g/RCB3Z7c8XyCxyiqvOS1x3dz640wIGSRnb9/RIRPU/0CAhIIuUDQc+3nx+uO1FvC1qm3nWumQiM3KbH7PBYzI9Otd0xEiUpWFaUHak67tcG1c9/qR7KPBlyN+UB32o1KEeHK9W9ZEJgbHfLW0RmPXTBPlrr2/hySIIHzArnymYCGNsoYz2dRITZciEM1WTeZNw2QfycbYMkUlZ9z4y+2sP2jIFRlkWMcziqusT+ixqCn7m9OrLN5Xo6dXmtdt+gXv3yZQ/LVPPy7aLVVmcpcZozK0P8lKU7FZ0VHZcoS7elEWZ8aTmVOk33WqZla9OY85TPp/b0stuoprsQkkdd68UgkYLv7coEpWwt356NFWpsISdXTuldeXMCt4SlK6lR8DlaifJqer9Fxc8T0c3ybcVLq1mrhTmuYmiGL7+G8jt7mCG49TG94VFffDFnhq3RaCAIW6K9koxauKdmSjUIkjWoPDlGRcvqolJEmV0XG6dZiRcnztKwT4HhQg8ZXnWtPTyDqDiCqNYvl8UxhBXY2wshjR1NyMAqEpaeqnFUhl97RWR1Va1rFJWqQkml3ckdaQOfLe25OfX1IWk/UdSCrpyqhpPqVWBH2n8jMn/rJea/p5/hdhlk+6Xyr0yIVroPzd7R3+hXFUUmFxLjs/ks1kYtENGtm52bZuKZAK5ZeE9N5tJFWi08omd6JaG9OjYzOSQyIym3Pyi5lJN28JGT/FRPcM0O8WZHlO4STO0TLJp0S0/f4YxUGQpsTuaz4SEJCK5RUqHZKP4yYN5MYXAst7hsZvBiGQ8ti7p9a8+sLKSyQ0OrImMJKaXFNSlHP5yqrXKEiBGh7mb4vMvT7ESYLduypJPfIIUh8Mxidn8dh6MT5Yto2sNCxPLKtw2mVdQFrZIaNS8dEwym5tyIg0ERQDl2P/4xQgGfVQBcwF/AbsB9gJHAqoDDgNQA18DuQQGtfYaD5mP2wEwiJBQ9fTWYe/IkHmPoeouRjBlAnwWQWxFGHJzaUyQiC9HS0WQVN0xQzGxojzGb0qr5qjkd24pzxTRcTqiRhqQYkJCS1FdHO9Gr65oKiLBvmxeFmFw5CEIR9lKX5omwYhbnmPINQOIEQCcD/BRAyQV4cwZ4J4CHArwYZXmD7raFSfRuOVJ+oxFsXcm6AuIOUZCmdFB8zkp8opjxFy/sGWMMqHHOWiuhh2Enqo7mb8FQUz0chsGaRBJPZ1FoJkVZ4G2IgVY8gowugvgtA8wIMCkBHBmh1gugf4PMYRBzDyl9ng6kuyc7+26UkTc/9jfYz2Qecnaw+/fumKqOWI2dMRULyDkgoYiK9tG26wu2TkgL6lvL2/ab9HvoDrYvF7bHuggyGerYbpdiHFSJgXA0wnQtx6CqGIGSHsEEXz1mhR9AqZ2UNT9LeD13zEzOLOKyZgUY/mqtFuy4Oj1zrqW8tbfSb+I5KxU6idFfW8f5v1oZT2s1Le24Tief4HA9OSdBskXVmGiZJdF7esqpfTBl4NKJKIqZowRgjEHDPKWZJiA7j+pPlcT7ONL2vOEEFQidURuGK8l56pC+e4NsmHWFLVI/iV2NjN9zu8p553/1cujeSjGJtC1inrxZmk3dC9jaCKmhPacl8kDbc+Qux7ibksP8L2EhDlgsITMvxsQg53AjsBc4bmVcCWEBCgxq7IaOTQ5Z5STv6Ycj7rWV2kIIPM1rFfNUi+MksmU+MN1CqaPIUUaNDVS2J62ZXnTDJE3R6kdpPHvCEsNGthPjilSUlKcBSTFKBFHUJB6qjkhLxSSBMgKOFeG2IQX+C0wK7LLNACpFGDeQ+8i3dF7NO36Yuw3L9Vdx4pRTkZs1KdfawNpY4MCuwdn872mBgp0YvVzrtU5mz+gWR4yiTiVw/AiKzZ1G2soqS4J4r38f9mfwv4hXdU0GTEYLGYQUkO8Kmxuj/oK5BEIntVDOolPbH+mf8o679kn1S+ZsGR7nJmqbdEnpsTWKgV/4JXB8ZjaeIxPLCWSw7mc5b18wYuBl1tejgtuZlIUtXd8SBOkzzKsogfm8mEVNg73NTJgpI9KNs4EyAg4I2Tdu+MCtm7DZwQLhZ0zuEwisX+y8sxSkqdkcIW5Iqe8yKCXZeuo07GBiofK9sxjjhhIaOV7hjmrgbqnVDxcnaY7sRSyWkxob350DXNCnnviojILEVHmQ2gkbSZVaMYgXsuJTi8juB1B/mseURksxV53K/URKGxNmJTbGbqui5qyTxvUwyGgrxIdnODd5UqfKCD3+iCv0BNoLlZDwFlMdL/SrNHwQIueCGZUcQOiPCkcS0hHf9ga8sq//75AnZBWw1b3SGGNaVIeXNOZF3HELWZJ7yFEXNLFo73hUez16nTKSScdwyrUB39uSe1M1/AkaycisYiCp/hFDf8GihN5cqX7P2shUn/KYcJJK7QQQp4L1aq2ywcBhyGqu8rN/5bQfwohO6d2PLujtvTqKmkud8SKWcAqJAkOeYSAl7QLITrmPdW9uuL2tZlU+jdOV1tsViKli9nV6KZJPKlpRiFCleulk+wpZdagui4qhm68DpaQJDoixteiiq5SR9IMGWXqT5H/RXKpPhcBMFMqBEFD4If+BOaQxqxtCZHwvJOcBc23LjKmUYLcFHe6zmNi/sMVji6nlIOVoXipQyqEpEibpdaxslWblATy5eR5evZBPu1OqeTN2IT63pL6zchHEu7UFCUbNDitw2qELyXKDRCImyl2EMvkEeN9Ju3MqTbEmpyrFmOdcGYJZE+knFi8kfUhHbUFhNhDSv6WZVyd9w/cksqrJsPHW7RXAkQCc4krJl/q1v6aH5x+669+2Se9ZK2nWm85S39AMeYV2pVdPvNYZC518OZX7yL1t1asQqs3oPZ7A5RU6HkcvOqGVbnW/90K6g6GnIN8K1EeVpHJfjo7N09aRU8FdFV5LNaDpGnlEPrRDhhUZKmSxhB7s6SutrBU9MJcVigC5X++sa3vGg41Qez2kzZGeb9Nfsv7is7oYFt1Md1MUddxcko8piA4ZjmHIK58shpr7sdZVqFWiTFNoGipykf7GuL+9c9zmHdby5L3yRnrntHB59RIqZNrqmXpq1hFXGGMtQl2cnMEdsMtSqnNl4TNQ1c327BtZFSXYhlsY4WPt1H3AWh7djS/w87MaQm65BqTNgnX0zBo+lyEflXN9kkJXjnQn3jdC6UEZ9UmY+sleFldIW/wr1S2o2NdGx6zwN/mjYv09CLNIjYxKJGKPsmYu4iM157ri7KiGzRAvGPNEgBJrEs1kWOeFss8sHb+5Ytfg/LVwYKpjxz5sj5w3edPbuSAVRo9xIuFC1ExRBdgQ3TL5BfufLJiUm14EfKB5g8Zi9Ao53x4LK8d15Vepr1KCvOoavTym6yamazZf/0vGE/nQ9NxkrPOqMqvNqt1shO7y32wMRZB7ohCylajNB0NLYNfacDK+CVOWtDao0JXRM7MTYJk/9yS8oFdizp+aolNngbCO4GSmtb7jmYoHWfy1QssJ1Zgh5rkHzdIVD4LpW+jXSdnbhfwSOE9SZln6qJURc1aydn7clNm8GX7G3R/CkX0NhhkgzOfsZiflZaKknzqfdG6J0ihlAZCG+Rwr/EILvg6BjKCyaswSRTsk0Q1O1upVSDGit2UQxfXiuWFWleG2liJdoN5hA/vCqjd+fNmUezpyqlvdoTQcEYbizrUrVNli5IERwQjD/2dLTUUs1Iko+pJ8rJN+Jm6EU8tyKN5TF6/iKP3ykvyL7FGHHpYo+/1IphXx/cVSDUrDXUP9hiUpRQp76ocvrTAX6qIZ+aAvd/wn1M9YId/X96+TNOs5yxsaO4fL1LaFzt6vQo+kq5+BibiGt9nrupJj2KudK/uPcKRrbpEc8KQhmG/TIeMV4K61NxV7NqhBC+Y7rxm/KfPMDH/U+1BluIBxtvFv7MbyeIQ/VU8uASTeLstPsm8uaINyOReE1SqJToSK1jNJEJIbiVTFq0PE04EOxhYTeumQqW8QYn3rJr4fNEvETnjMxGsOTiSBXCUvULvnTn9OGsNd/memzxJ3aYGa0NhDZGZl0cDvPlE2q4U8Uxv9jIiq20ugYspfMrmVF8sHnMUW+U7g5kRE9UPwVmoehWJbzl9bGGK9fk2YUGHyOD4AuMmqYrIr+JFSmiLfi3wmZlCXZxDe0ObC/5UtEKwvWQPDS5dumONtLzMTnKelZFfKS0JTT//ooWJMOF/5QolQIjFKFX8a0Zuuzxzhese4d6aRootEtKwafSPsHh3MbyPcKxIbQt+6ECG4g2ZDSJy5yGhucgn/C63lDqwIMBL+BS3YMiaQ9VGcNkiDoVM2QipbuOQ6eKCDht7sgdCFdEn9Z6frtepEce7KKdRZISPusvpnJwCYyNv6qdzzE81zU84JVOCRSbuP8SS8FEdus2kSuyGRoSUjRx5DazXwmTafZVG94WeOqD9RGRBy5/LcNtZTCp4cShKkdJs4d6eaAKyAiuRRTD0R0Q918DK0zLTJ2d0FMgh4gwTWiSSAgwgH/zskqkrg6hsKUzMQLyre+dXJ8dUcHqwrATnrThEvM3l4UwRIPbwwLMf21Emi71CswLsUk5l9IJEtd7Y+AlIoGzaCYkdm/QlxvZLKsjJohkUYUlFFKotHIWbOxw1ZrI48VxnF2Zik0tCs76c4LJXcVcRwPrpnNvIkLCI0bPS2NTMAVMGiAgAYEY2iDxCHDa5UnkWCtpIODqQL0W8u5HBBQaQFh7oIFPLma8JawsW+Gr4YhLJoaXMeQToP/11/dEaIRcTz5heSGoYE1MQsRCRj+yzaFaUERfY8OdUQL6UBF1jtzamZWJ/y2uUTkrSZkbAk9DC7IiXG+Z1WxBep+DR5aamZe9PBEip1ckhRxNUJTCaGpJ8ZYLG7dGhRakhSQhV9pKMETI6FcN4Nub9ihDr43K+I2eUyBymtiWoUJb++lWQ1TtaWAumwCVpzUmAb40u1XShqJrEYXvHb74ZFQDqRfcuwxj1FuvSSKsRwZj9Y8ygvRzkYQwmw5QnwbwNdqkQEGaD/pCnf4pCurVby63eG7ncSKScZdKVHuo8G+q5bV5qbTrHJ17TW9MiZUnM4bjE9vRWGJJtvlW5ShNlqmQHwLowhShGiXTty1lhOaTkQM5RNTwk3NbGjhXOm79mlKvTcGuu/1gs5oAiD8E/rfgNEECYVfFRQcgFurm6dvpEoqc81R5JLZcKpF0ZgJn/UwlDDPtH7GpMZmG03BGhLg27froqxkCfLPhvImGeRRayhYyUo+kZgoa+C4V4/w/yexTIs1QcdySpPbSonHIPLPZqrYk75NzrvHp0/8xNQshqXN3HojUVX+hY4oUQynmkrJZPBDQOIjJAqOWDHFFKIqXYaM4aZKSSckZESMIyo++H2MaphCDtHqKeiAfuCxyw1bCnLGMBILoa09BUTygxI8SdHNpZYYfEhKZNMQlSjHXK/HS/vi1wqeWSqsBEUuxh3Cvx+OaCPBCCHmitDbYKoIcUEX8J0NAS5X26Oed4qSEZZWU9a3NYLEMgKEY97SKwWOBLNOBKRKjMzE8plbUdhvN9w84uZJJjsxCBHyQ3Fajtw2157SaPj9usj3ww1ZZfmdCuzCYIg9L6qdwNcKKwop8jVtAy5u0BPIHBETaXNaplbfVH252+rhRk1Wc5AlxQE4KuWMy8CKw7uFwrA0gUqNhmy1OZLTSKYUOWRk/M5uTD8FtcvPe4Rc3s+MjFCOVs1Dkw0XfG4MjFnp1tzySW9p8h5TYEJijebNSNcgyoDXj4owQLliEt2yS8eHoRhyxIGolohWD/lReZMpj4a+eHoAixET2St//QunNcsWPsLwrog9zPOEMKEgyL96mlub4123L0YtUKfs8yTlRX7m4VrxdrwbcIQLmjg/VgJJRrn9b4UwLEbolXMWUHsMA5/Y3EE4b1BW7FADIH6WQuY7QoxnILFCA+qCShay5TS5zh5R7E9HMqFLNu/8lmbyuCPtSsxZSOkEkTpVm33zKXP/xhSBVcpHnuhp1QDaLVCZIAVzMfDIsXY0B4zVFqIs15WBRDgom0V/D0JOyR/RPjopvDji/hWBPCYxooun+0iEpIK33dUhuRWql2yjSHhSKotEdoIs5xAXtR94LSVs5DOa5xro7WSDSulGLvJlGQGOkBwo9gnyaj3S6USFkaNFaoihkAXrOvKPsI6ohfaO3/FoTNLbGiFqG3XjCUnfbUxUNLEWpGXJQ678DtBX4rcrO+2vEsTE99L9ATBsfBoK+5S5JJE6p/hMLOv0+yPnLROX92+K9Yy0mV3SU8zlJ8RZxAVd2IlxL3fQ5CfHclJs+6Vunuc5xWDZpJkm3sTkTYi7jOQqUiM6vU1nKYzJOrg99yNAK948K2S11KwVYzBVE+SZAsoT54abefS6v/66RpPFUcoRxHMYXk2YUcKmsjdefpXXsEyBFylk3b5QGNJsYhtmaK0XNgpFRZUgUdkivPS5Ar53S8F7UM3u59WkjemYXdOfXtjuRIFAzxZ1ywnmfd7B9ycNM3eKU02NJutJaSRsnI4N+6/v73W8PG4XnkSjpR/elXa1LGD9IBd3WXDfFi9xdsW0hllciiJBHhkhmemS4qBOv4ZA+4cAfQHBe1MnqMAUM5alUwVkse7sauQIUEgscn3JNKjbjRg4JqStoSvYdcJ2/OIyp1xH9epo/pvyM5m5Y8uIpvnjYvcmprXm6S05NeCMWBzfdGnApIubs2JgCGDTqbpMfrCFssB7qvFWAElBfqIDWqlwInZE1FhesyBUzcxVT0OnIgq142DICcVF+cqvneMs6Wr6f9IcFEiHifquz7Mpvb/PgG26olf+cgjYvWMZEdzHrGJ0YRw1MzJckrE2R6xo5HsZ3AJoMqD8BhgK+D/BhnUiggxOjPBxmVkI5EIGCZIck7h3GbJJRcCEkY1gwsmLkBvDs7pJPBwkIVyQRgn6Zq1m47kMvxu4LzOvTlIKwpitHnzHqTvtq141xQBKxQqGiUkY1AWYqezOOTx51ZqoodrjCPbmMU5fvscmSlW0i8Acscizwma5VZmSK8JJFDGKy80BmNUbOrxof5uENfpMiB3eE7Ut+kGyxNnua4qk3t/Lx/C41VX2tSPnUe3J+Kk2cLfUa8wx/nrZ2/DFtBQPWG3B3ZWy9cSilP7aKlYa/r7hgLFlILzpeVt7PWvsUm8ASoCQ0kBggEXjGsJP9DwAgOJDDht4iRtKZ6EI8NXi1LxxMKLoDFxDlMDpxMDB0myfV+4E8pn4RW6f5q0P4obIVt6hvk0X6f45UiApUlVfGH9whnjULbQrGQ3fQlrrtLfimBVmFtG8uKWtfuFISRS0KgolkqjlWJN65ZBZ5QXJRHrCfTwGDicGo/mXVHVIdLtylr/6SK1IscvbmU0X28q3nOvC6haZ9yDUfnQPVrT+Mrq1nSZzTEs1Y9CKYvWLJ4tJVK/xCS0dvL/RpejLOY72SgtFabFqyDiSfDJa19bYrulKo0rW8VBkjWQgWwfD8iYglmXVNeeGF9RopoPY7wXzciZpxI0cR/jJUBBq2p1EbmhQJ2nXsMpF0e+YmTDBFKn69LCEKHIyGSAvbaIJvMDy3icj4sTF9cBs2BKri09oIk8DzVY7uqfr9UShd8398AOKjv2FSfKnFu6063VE1y1KTeUD9q4sWzgYR8eN3K1RxNjMvESj2Kjll/uPxo0FjS6yau5/wEpWWPX5vWWZ3hS2U4uhKTSRl6rHhHD0/2ysBUOQbg3fSIbGnlGXaDbgcLfSh6QRJ3EZ7VGjhfugBcorPYjeCq9qX9L3tjkXHKfZNlHCZtHPnjeiY/XjOnKplFRpRf1lMv5GImiu8QSO+tkYeNMnQoXuYppdSnDBrpKukIFyyRmw2Eyu2XD7J5Kx+lSuiKqTotkbpq8bcWbYpNoVae94k4Qhn2Ck8JGoiSLkSYh0kk5eBVk9K1bPMk6VctGEJ1nlonTsmimpKPDYnoxN+VWvegO6cimszBmDhUch5nTZTdpy57fTa5SVq8jruJH0gagzOBfXzJYdLfeDbNtJen9OUuZmvWyMyVxZPccm+IT0diMBgzIK5E3jZqkyHUB0+6I1gNY25yKA7fXxLLC0eqgi4Tz/SowNWn2vACpAj/inLPFz64E0WobKOewCOw5nopLzHS/pYg+a/v0zYyitX3StdtEHNzqDtJSP7Sj21/45Ycba8YowJfEItOvUENqXe1Kj2EPoJsv7FlE8RZ+ZLoP1O3h8OKXIjNkLdwackSaspQg2xnD6yvJ9v6G70eAyqLECIHbpl0xFfOnRlpxvnP4RtICyn09el+EvaFQrGNjYondnQpHiRPZyHg7sxcYOWccBpcVlt6ym7DwgJ/KRsPS8rX1Fz69dWtZw9H3iINHTrNMRyS2mZb2pAcbt9iHYBnK31GH2QZEG765IKq+ynTjC9hycdTQmw5Lo68ECvEY0el5ETbw5K0/RmaaicH9d+vfsUt/d+6UlIleEjJm//4xQgHek4BkfwYBnD+df7KA2kDQv34tTW07Ca2P5aPExA3PI1kk0IaGemvrRRM1jRqjJg5rSmU4FtYaaD6vnYnuL69OEJF+a5s6kIufDtLUyGB/tfXSyorrSkYdtFG080nc1ecdlC1juUK+jCuJdnKPyB3G+GRxvqi80s8OgxkpZgvt1Xr29tvLh8I3v8avuieV1q8PGX7QtHHbAtdNTC/s7UbB1dzWKkrg2J97ifLTg3pXeQ3zD/XIfcx/xrpJbyF0qsn5YAsOPWUSSqeZCVBgEZ4rSrbfglZfb3LtC3SScVTET5nCFkPvHE2N/z3N8ZjMQOzitbujftjeUTVDxsFUQJqRH8+/ZOIa5LIwo0oTO34zCkArxvz5Sv8zGa/zS3IEXxL/QzBMp437rFm6lFha5cUIxRo7NJaele7WjGm1nsRbqpO0RhzyQVRmA1n5bQqoGJBCIe2ktk/uMWqrONpQhcWr5tOKVizQg2NaLEXL7qvxKbQttGmWmjRzkLDmH4iI/rlTFZPaTcYsrFLRTXJfrAhdOmiIvIdMlVL5YwXsIuiRfL2Zd70lojGeydNtiyq2Zi1HNnS6Fr73HQQ18fBVme5I6IwC1I+0KmmpNk2JZLOZL1Fp1N33IQE7g0KdAaDCkAQvfIcfdEpst6bIF4zjSiMG0IshodMF6k55A9PVeTovHpa2OS9fKITpcJEK19EW3SgpDJCREMZa5hERfDOvlThLpNAdaHGCcT1BPYgrpa9aIIX7rmN+xGunJuci+2igeew89xOaxdgVXHhIjYZETYemY5StADXTCIEn1SxcsdIuxbDUvqx+hwHhEmzPZAIzxINasvQlA6CCE8m4A7ltCQCQf8iU3MSs5tFSw1eOb5AmV1E7aXADqhLK9l02OkbRuB4v9mlpySvfaMk9uie+mS4VwqGcaW01f2l6216pL24u7IinAbWL3Ia7ejJ2oIoM9ZQfOpJK0XiXULzNeYXRH318lz2yNnqxJtBBLVJewhJrGljrgbviyMxkRY7CGi9VMmazxQUR2Nfnj4615Of+SVJkyyLWDqyenbyM0F2iBCeVwLLaQq3SRejtULMj6i29YnbdeG7rKkWzbdV1x8gC8EDl6EnqWcr5HUt63yQYusREqSCfzyH3u+8LN9Hw5CuVd5ybLNvcY9ndt3RRtJEyG3K6otdiszUAgwWGjFBBh6CJWjZ4RBJK7Rf4q4p3mBaan3Na+o07DtILGSe0Ws8SbI4Gybjtj13TkOUREhkBZkMY5DOQIECUAzz63oIKvGmXE8QmIrgRU5wi4plX13jSxY/a5z+mEb0uBUYwu+Lh26ICtDC1gi+yX+4oTmPClNideDJ3G2xhDakYKmmBVyiDJk+cXE2SCRQTd+JbLnLUUwp03/IoFicwlAcIC2TcE+Vbb1wkD2PcCYwWDD9L8EGYwruAIJZw9U2yJKURH/vrj851CKt4p/X4GWmkBMttKruqMU3ht4AijbLJ9FHremO0YxWjWNsro1BPV6eaeljIRlvBIAWX6PAlRmQambCIYj8GtbDWlG0QGIIDECY1gzibN4UNgjWR1lMoV9YC9k2KSJNHqaxzutl3zoj3SvFjufW3m6fjHcRjkozZTcQP8kXwQMDK7HKpNkKoE2CkI17X66IcJ5pLpWHRaoLp/FEeQuiu2R1V/X/U8tMEZBEOiHKduvlvi9USlIVzDF3Ak2O03/W9VzWVRP1IhyFCDJRniIIF7P+aAl2cCraAgRzCJJCAO9gw9O1XY+LcVmvZPdETCk8p06p4EcIkV006GSSs3iQ9puIbfyFPAVS5UvjxnG8XuPtK9rPp+ImdI1Uo20bLsZh+pBtlFOVEeV7v9pbwvK+bZcL1iaqUmY5VnhpjiTowIZw9uErNUdBdQgyBuArkYJrwQgREkOYb5MP1y781pIGFJ2ZCnkgnefN4DXP7CQqKgMG8aVabVEhcu0LM+u8mF6hGvMPHI54Gwol48C/iDJyBHpxC4IodG4cicJQTjODiCYLYMYii0Dg+ggKWCM8gz1vaqA8+YS7bF6Ms+yh44mvNDUhEJOo/9NojwtIHcX8gsT9krlU7UX9BbvB3roqA3Paz3B7igupMv0q2CT6aJNdCFQ4SCUGYgRvrEQBSl602xM2MWety4v6Wme/EipmHCqmDcn/7hIKwu0cSOsu/bJOviROFJYiB146btQbPAkTl+zKfhTxsa8t+av7W9EtPdt8onwIc5jNKEnCKKo4GeL8yR2m+Oco0jO6C6hZRX/f3SxXqMDRjuhJxlTu4djBTiLXR4PWtQU2WPZ2dZExom9p4J3kV9ccc7oVdRXKKAf1Y7+v13RNKVIf6SY7Io9hmDE9awTxuHrTdtWHfIhJkjeluLytLMnHnWjS2Y+HVH/JKop37kRPKu036gx4waX2M0jSO+h0u8l4FUPaIgvS4SmSq1z6/NKVOWuTT28vVIPS7mKzFJEVRxuW7zThauCEi8iZiXNItTpa/kJViMjBn4OYv6lvXOPC2RzKk0TakxDrsFGNiIZFezrVRbRjAv5qFNrX+vya3K+NEFReZmRdahxq7gTO0gRV1GW0wdKaK594O5cwcB6T4ldziR6jiBzni2heXzaZu6r1IzahBuxaTIkrSRSqg1qjRQ28QuphVEoKq6ehgI+EVbUKKhQhgxnzRp8EhpJgDXliDBjQNoQ2ameSRr0tF+NvZbpQOUmw/bFnHSCqy7OimeCdPQA9j6lJNuV14ewWty1C0ZcWIZljXFKKWlTUSyW6D2QZXfZvi+HVeUvkEdi3yhXBHFBXzrBb1yGhiH7s8xtgrAZFuDRTVwi9TNSqG8RjBm4IBFIyE8nThFhI0RdJsv1xFsX0CCBwkeQdA92MvboVowKBLC7mcO8q8nAkxkbL3oLnmxRXfZVBgDNH1EqTNJNub9gCFRUxKbeluEu3wdAJHJyLcO/YtTXb7WN9T5TsVKqkeLLXmB+ow99s0koNHiiNk0q6jcOSqQkcypxbXRsZZ79YTk35VPqu5fmzlbG3VF6u+Qe7uJRhPH+4k479ZaWnBRXkg3J/WBF4rddiIPWlMyD98iXHnlhEZM2kc0mVp5+qKd65LXX9JQN9OUcH5oKXb8kLOWIyc+auWf2ku1VI+B+I5dYvlhmILWSrmDN6+VETJLqin/Ys9kCZQBDq3QPCCCvrmo1UC6QidljuhkQpyWZ59RY47EhwaY9ROBJxMo7U19CdYEXX8VS3N6YxE3uZ5AipeyhqdmqSff2QkjqJuxUWlYvcSdpKn7vtemGo8V7xvDBkvc81yyBX4A6sCtQQsAdJ7qi0KhMoFCp6I4NMFueo6lvhFgUf2oIGE2RKSFrIxsjecL9KA/o28XLWDAT08rhLUZK06MVpEXTg+BkFLC09MyzE9Q85qZNqi32prV1C/Hcs4L+k3JQb8XGAeSAWuH5ADSoyCN9nOHDxe0FbEFN2SgYSRwJcMNLFBhQ2qB60lcSyt/0smU8jAIhCU+6ishGicfEjohpD7bU3PCSbvf3r0EYYyf+l5kZAC0msZGbGnZFLNkzo7/c55N631Qj24L483DFx+YtKx+xS1KiyWSzIsJQ2uK65mCZ6L9XhRayEhIcsvrF6KQWibrZS0wD6f3mO9Z0gqu399NqTGiaoa4onU73UQoO6yq1O7qEipNUm1RF6S1cZ3Uw21uL5UO8Eu9haUTdHZgzY8SLY4zISu1vbFip3xGhalCjUuwyPo8RkVsnXXa1pGGijGFkMH2/Lu/trkkAVi6Uqvk15HNITRtDUCjcGUzM7TfzB0iF/HNtREjYgBxKR0o4904zgmh4Kd0BCZoV5E8RgYLecdHE0TyGPuVkC/WOYEUjnqos18qjsMvx5ivWrqOERdTKPdo2POmhUf2oOkAVbFxLZxPgkXdTAH8Rta7YETe05RkG4LCR9kTLiatK0jrv2rxeTeEuIGYWAQOAyUI0AYBHAHBkEi2yP1OAmRJqMWe6YRkHVEDpLE+ClkiugIEJFiA3qXNfjCYvPkeYqs6ecXJnj6PPTBdjY5YFxyv0yAiEPURIwZxW2LWX103UK2SJdjDsUUwi5/oGggUOJqB+UbgPjFTmEo9p8LIS+1cT/+yoAsxZ6KW2CRqa4hqmvzIq4jCufrV66ief576XHi5yJa8lMhMz2XKEjPT1CVmkTomcKUSp8iemNJqbVVS4KQJGi0i7iw0UBn55gfRNoGqnUiXyJ6ze8RSyl5e6poPWbKjEnok62WnEJTYNOk8L+mbx/RsFLW3r36PkyTfZpr6zdUx3Rmvk2n73RdogLrHAI4+b/C1HVKCyQopvkyBt4T+HtArgW6B0sPs1bTUCGBy5gpD8Ju8MQCo2VvccpBx5iHmUzRxh3pTIRByeZchgGWsQbKr3L/eZLDOSYmX7TnFQj10jLGWs8aaVONsHaa5lIEdyIAGBDHADzSaxnBpuTj1E6gav1cXVwRBkACdeKOk+1NIvR1r8XcCMMT19OE9ak4vTcl9qiyfssK4Zv/MYpVpgO+RLqN4LSmnPdYIC7yf3AbQV08bHQKdv8AZICogD2x4YpDj2UjqM5D2Xi4ZCraokArlMZq0os/EkPlKJhgRhOsnxlivMmaTmmZ+9fe2o6mjg+G2CTXRw3PlKWfDlA5FRyPMY1lGCTqTNcewD5xx4G8APYAmMCkzWEIF8npS+PBJt36Q3uRuF8lakPbkqtHSzTvYhKOwFR+Aw5FiQoftmuJn2u8G0j8bKTBYziUA+YQNbl66rqC/kaW3AiUkRYA9RNINtlcASZcQBZKiQq5m6X3mNzC/eIUVUsk6KJzhV/0lZWn5+LZ0qGtOxVzB1xRegaLmz1viEHw3KZpzi6T5AQrbSfvgmfHq1yx2zqsJo59zMKyT020R6UsA3Y0UHXysI8KDtLMGWjbXOKU/Vp9HEEwlliBuTnxWOX3Yb0nmx6oVd/uaTv4Hw9pGmIRpfnUxgIjDlYJRopZC9YngUZvmHvA0D1HKJATMJ6CVACUFLA7sUF2YP+YgQkPO1yob8X2FNbgdy0Cio6ReRcpwiM3eMXbuptvkAuPKnVHnF0olAy8ejyZT37mgwHICAO8Ccg5jC1s0yLCxOC3sYJ8M1XD+99WsB6/7NxQ1MQ4hpM/npEXUVEZ5mbnB1f6tV7xOUQxnXWlFIVtUFlNWyNkpag4O/vMBcgcAHuBnA9y7GsLs3gzX1+MYnxmKnYek4ist/evwjObDEDzeZQe/WJ+1WD1SRn45Ql8082BoUSfKOlYPHs42DhWDDyP70xyma3dDrixMlM8pDE5kYkMh/NAiBOVhYIYVAwFpSKRm5iwHToWWjodBW6vZKFCZSfLF+OZnKYLWF+Q0rOFRA8QwtUhQU0dnbsE6QSO4gGkUCgbhFHAQl5oq4aAJBC+Iy59AqGbRnOFgdk5fKZMD8k8K+dEfILUiGYg0JSsRKW6Y8NeHemQowsMrDcG1GOovNYkaVayNgq5SaxcSB1Os4UY9tSdxRm2sU1tJsY/DLCOrvT/RSj72oNEr31+K8u8K2WSOsGHc01jCVXNoqx+QTP5spz6r18bJp7l0Q8JbID+IJ/77eJZczfh17UEt84T0b1Oa4p8Xqx4HXG2pve7N+pextwM6IEEclcjNNjo7MYp7tPofmiqnWaDolNTnMTSJkI61NXHE4Y8GxWUoXp8+DhZmdkZFPkhGJYRoCdiyRuwmGVmJA3XFy2cmWjg0PAiNWJWKicxLxCkN3UuYWiw/bXChcVmZLL1Z2mTxEhCU6naSxJJCRJCkQfWt8I8ju0NJKhEhlfjCGJCGyC1ThALnOcmEiiYizRVdEXfhyzYVM1lxTgvs7pvl6F9s8+2smP65lg3RHI+PQtvKrfvnOwN8vzi8YSXO/wbzIUZhIlWGlsvmC4jcCzGEWCqwg8sQj7h5lMqimHt8NOV3/81aM2uuXnZOLgY8hFolWfxcfR1diLrL9aBoTkZ3jvYSE5DwmJdSkVOXNNHX2dt8t5k9LwbKeQqi0YKQh6l1S8BGV3jgJdWfiKIMHqAWQAnAAQ8cVQCGBKjf+ggKowfA2E84U6hDmWKUmD441qIp9oKbpAwaNJBxqjo3liHJbZoglD6LENV+wtVl+ZJeM601uXZyje0ZeUJPU4F+D263VI67NyYUWMWX2oEt5F76HI5h2HcqKKLEIe2FigNGJ9AmmyZZXP0Jk3AB3EhN4ojR15U9fEw3z9f2Jh5u0lSkF5IVesCrwUhhUq6Otd2Nw4nQqQX21nGwg77OXiKvsQhcFLKqDZkkIWM3Z8Clj2NrUuokRQEjPEDcN9pRbJuorZAXQ6YFuZUBFJc7Jg+ZgIFhR6U2I/8ixOkMAdyt8u2yeIdyiSZO7oWVtOD0ZfWxY4EUJk5LazXYfRytXz5Q9zlwEHwtJ/ssGQUHl76jZY4RG8AVNis7oXweHV0gZlvZuOb9fwoWCusyqJagFeYHGRgvnhHuId8N6hLLZWl/vCJkqmL36ZkfjrvX4O4vx10nZn9V5PScYZHkcYUdKo/AU84FXE02NIOBilt8X6ZRVs9NdqAfDCmCLYJaWI+7AY1hlo40alSIiNqcGHZ0H//ctkEWh67yCm6NHTPWw0iKM6fwadnXhXGrIk1s3m8+Xi47G5t+41fwQP1RP9fsIka2+2bJq9PrL5aX2q+ss5BJzMCzN3A3ccDHW0OZECB+15Vkb7PG62/ZT7JUJ5Gczao/IUr0WhdVm3OWGrtLCf7jXfbAjNzuUsZ+BZltrKAMkl5uz29giLrgWJ/gtRV5krnWJ1WTKUz8uwEICcQNiWcNdfFvBIxaImq9nSSCalJISO278NQVQu1yhFdlANfgumi6kTM+oCEIdITRQiS9HkLeCuq3K0O16Oyn9luxYXoI38sEqb8sw7grRNzSCphvyuZ969F1Q6AIPBR+g2N4hRe5UnRExoEzgkBLAxBEXVmjG////JXyPxFgkU586cuJlCYe6VJAl1alUlCokw67MES51gyjmsmDSkJib+lUKRpxwNaStKylrKPHA1PfELbhXGHpAd/ksEKygt3E6zTQT2Z0vrmcUyZsal1bLI4TVRRAGbUh1QjNs+QSdrfK7I7ML7sutLMcG/r3o5xV3YSKZgbJwYHUBZM6fmWqz8/Q9RmuAcEi1d1dYNE6uhuwOEIdzgv9qy5ueKVqAlghmJYrPJuqqT56/UcEo2y1Z43F29G+rQlvnmDspH42Rc77Lgq58gJgBwiYUSTW87mx/JUNT5tWgBxe3AQLErawJEWQqLHbPpMpK8Xb1JnIdf4HG8HpmASF5sXzOgRQYTtz5Y6Tv+Sfo4cWOxdJXCJ1qRBxOrTfMZmvSWGJk2inqCkPG6BRUtUV3GBpODM4XKDmozgu6iMkqg92V1rI5ntt6yjlhrFSzBaODg5cJlNPM283vVrj1p00WwoTRQIh4yLxHMS0Rsc7ogfx2oEIKIIysGVFp4INhNIRlKQBTL//jFCAhXTgHs/HX8GgKJ/v//qv/mACy1NvWAIJ6QAVhhg8eQi0pMPQmFO9qyIjGt8dsbKEnKC1/4u/97CuQMOmfqsBOsAs0A9KHBqEgIIgHoglXsq3QsGBEghSIQ99JAHlCIeg9/pIQrY9JdBD8O4WtEcR9gHGRpDiDi9kEQy7EbyZ8Y79ndNXsf+a2rJC9aRHw8jT6z7J/r7zX34iUdgTgMgMIzq8P7P7x5Sfb+wQsroAhSNQL+53rOuGP5FC5kqOEATURBVaEUkJOlwHLX4QmYOXrkb2XRPTPRoMpzSR9TIw5GfzmxDQaOKuKBVVEsvELGI2JWoksDuhaPLEeBypwVA1Hhmfra77+Ut9OK0LdpwjhtIpgMPhM9xPJaxpe/CpgduHSNDJDHOCMRiE5H/4lqCrvj1EvgrF9Db0EDEgF3i/mMVWIKBlblFoJjM2fz87WrQhRoJdgjMVVKQR+GOFC9BjRTJpXL+FRZALuoQtKS+nTl4LLmTzf/EeaEjmKVgn0dqrzqQYyB/xGPvZycaK0uXnSaD9bGhU2MHQkIZNePYLbFzhDOL+DIisDhikK0Djhyuk5NsHnG+R1KhwSdRYqBdSzrIrq5dr2pQX9GiimUcOFapvWKR4SG1M22jXLGVshUj4L5owskeeE+4wVH5RsaBErUkRqbH8p0rw8fkmS2Yc3feE8NKY0231TaqhKRzOo0sl29X60fj8JkqzKCyvShMXLkP6KVEyarcWt1J5lLsyO801vY/bR8hURalxhPyEH3wCmYKgSHYV3dwi5rA3LsajSTkwrBQHY6LBjLOLOMy3b9WqaeIyZZMlT5nxX0rleg3hfyx6jMxx+HHE4Wnvn61tJSJcyCUGPJR82q86jkie8jiGCWtUlpRCG5chmt03P4qwEhRj3b1Nu7t1Yc9XIvD9dcKzZfQgq6e5jTwIfQkwa1wOVLedt3suXSxKXmSyvcJeqkYNkdd+Ue3/FxhdftUfbt0fZil97mt7ro67q+ZWm1jG0Pa3vBSuQ5zC5qJbSI2S87Z1k7VjUpghltXqboNQugQUbPMPV2z5qAwz6zT55939xCPj7MCgSAhcTbjnBLAwYScHqsQV+8KnDLEt6RR/ubmOwz47JrJNIKYkS3cm2dikwwm0WU4uBsxL1r8kcFDopsqzHb6lenmfR+6TRpMv4oE7pX++/EESu9fCgz5nW9apT9tSFK27BZuSepLsVAkM0RXvqjXil5mOEtVikoq6g/62BY7AJUhswwCe0WcKTXWapy3SWb7WBOyKWMB5i0r8oGDmqP1GbaPdZJHKG0F+v2EQ6iJhHnaIpw8qJ0QSCWg7BYxUeCSIWckoaZjcNRtXLdfSiwpcplVUZcmXRy6r6FH3RFGjXSoW+Fm9KjoPPI9veoRy0pohEpVC8r43KrF22yWtEeSS7oUIBXXhI1IQv7hh/llkH0WltUQOHkf5D8MoS9MHEO8M2p/ZEvSx5PY2M0JYSl15Z51dWLLXhnspzJjboRE6CjXOXqyuQ+yvXEBAei4j8jm5Yg0ViUsvQ1rKDdyBRFhYbYK52UY1Ija+41a93do621krz365RU3geTQCSPYok0cyO3rsMxb3ZqpL0UZisFKAK+mHGEZHpdR5NPukmxruvwPndqfxJegAhyclGTUh8aLinapp9eNFCS8Q1F/EJSk1fms0IwViVORNWkqHT13cZrUmIOYVJiQ+qNVZDwPGbxmJj1OB9idl4O7z4RP6l/CfQBQoHUmt/Ig+jXw15YGQz3ZMd3XdqnNqCim+7G8KlPH0uFX179YiKJg0x8ocP6rMGsNyGFjSjUeVJFRIJHGnkyEy+Cxsu0n80n12TmwwJ52MctDobQkeIZJ27sCD0P02L4I4kCONBEv1aIjiJb1Ewf5pCFgjoUZJwzJZ2OlCsuQvaQcBfVr0/QWGIcTqRa9XJA7i+ubybAnPegxx+0kZjixqTuXNY3dodiEyZTIIRgLCpXmQ/1OIqkKDm3Bejmjhqlmeekn/llpQRv2Vj0aPLpZNIt/MfAbJ9T8zDqlTRSIYHIPdw4Datr8aTdPOmy5ZrzNAgUBUDkXFeNaR48QqIwp+JwKCZdZKrp2EeHsRVNCZ7FgGNrimUpDTkdvMV0hdmSXoDHoQlkdUiLX6Dopv09kGGkWK4zbJkxSMT8o2igN0ux3tsXEjplr6YFk/5m/ROllpiZUn02WQ16kWKPQBotJy58wfEd7nuMEMhD0ZCMJFanoJW6gPaX7RrbgmCcfF0N53Q/AvAqEgPsFSBJNEG+Us59QUSVswwqMuyvfTZo96XpzSzGPheKHIk0SnnLVJR0eZWS3BCpGgVejY/nQXlobxeYx+Wre0z0eDpAk1UogU7rR9PDq4K3apcIVZR7LJ7EOifzScitQROs1w04Sfmnl7ufVVOfnm5Bp9EE+p31qndpPIrkYLb4VGGWiYeAaYRobB+pMO0nKlSIURJXeMONNp6X/GJstsKGemQ92YSIwScEWhH3hMhjfXW6n3tUbJrW07TqViqGIzlkbwpGdGmMsDcHmbJgJ+dCpdyc4JpO6l7AuFSodaWsUXTTEYpIewVcRWY79i0xkZ059fy8+bmSkqxCqpqYhOFw6AF0QhAPpIKQuGBfBqwo0H+bt3fOq0Lvd3l0aZhyikx7TTuXlaZN5o01LMItHzGLdwM/PvDJrcfukeuIuYpoI6iNZ1O5xdSg/sZCaA16bOWLz6fGt5+v5peIk1jJ6q3i13TI+iisfQ0lH2m64UcbpIw3NsZHzc/kYrzlzIvrltxOFY+IMhkVlOzDdydihaqOaaHIVe23/CqeHvulounQIXr4cNToSlufTLy1zaCXoPM5VJaZ8UsMPEnV/0I/6b8ASG8pP5cfwlKZ/YD0KrcsT/MDlebPnr6h6GqurvmZqRi8VA39zWv5Gpjjto5YzBB1kJG701hI5yePKiF4mcjnsiQu3F1H4WzIdBAEd1NpncxJPtXfjBdgQy0jztdMze1NN5pglsZiG0jEewSFNEJK1717Si9cZHpKMG2pIyPq8/qxCUjATgsCQ2DczBA3FBsHY0Konj0winxL68R6ZnJxD2CO5yQ3rJ/cYwirVlX8b3WuJ77gCjCrI5UPfTHF7srm7UEvDMCZ7GC45DNwERBOjcdl0tvq8QQYebQn1dbWP4c2cNvUjj+6lmyKfIpzKhFgnOsBhPQcTy0DWZKSiTM5eI9csl4yzJFUpC8YjYhBW4HTAgGAlNmJpKmQmkO8UbO0luhn7HVbUh70BLLiyIbB58RH0jsBDpa7MzsgdsShILF1MRSEonSMjGZsCUwD4pBeVjctGgShIMhkfQpbmu6Y28RV+T87U34tsi2XZR5xCDi8NGDEvrUCk83VTJGVsgnZqGpSY+E/g1XKQpYgoIhocjQ7MigTCgERUVlM4Ip16jmchZsLt6pHPbSQ5Ywp4i+UWwe0zRCYyDaV9zCPJS70kOroIxPSdav2M+COUFVsYlRiQK3QgXTVuJjcUMvHQfWZQ5y9o73v6m3BfzD+nvoV11vb/aHaa1Av6X9JOajaLag/9e1XsI6Qa5iv59xFje7IBeXkU4Tylo2ehieuhiRUKaoja06Utd96ERh7O62iDmSVc2wGOoUzpQy2hR2FfNxU6y2ZlsoL7dB6TN6FSgFqU1GJaTD8vGysMVQfoAkFwcGPVTMaMwxw9rRd6ryUyJMJlwPNEYeMDTY4szplo95uKSmpOThakWi8KDDaRK6Vlq7hAII7VxOUhUttx8tG7tEBe/FwExrQl5jKqj5XVZDnenOX7Pu8T2sY67Cwwe/hMbUFDW6h56yH9IV05gzy6/+WsqO1dpS8DB+SpB4e2xpf7whk5OPxKMiEzwH1NDq2+SL8LrIzmNWBd9DmM/UFVUX/LQRWi0S6ZZjCviC26JJLPSqUkdJWiLPV6qPYgSyA4TSNsQGjDC2JWZUEQJSsflhsFF2DrUE/uWNJwWxAd8fgKpWBNtvdpO3iYrmitHomO3espOVacJxEymrLklIOi9ArMgEikauxKelIkJkXYZtA1KwuBa7A4EpsnrTPQ9p4WpJAaJi8twkXIKczbcZMXZwxQNV9v/Me7S3aXIZQZjCKBduFA3tzikISyelczLl8wYi5SvQkQtGZeSBkKQlNghNDy3GlGKbmHJ1FR35jsCX6EdZgkO64uFnrEY0GK6mtUD+1LIrpTGVuf4lmIWeqbPaZxr3XfrgJIlTd1tDRN8Vs8NmzUUCIWsDctFugpmukVSJB01O8sbeoyqprKfNdtWbJL1uae6t5FntpHp/Z1ePrpqbjP+vKEk/u/T6dP6p4gEaC2WyoWFYrLhUPAnMQ3Bo+J9AylhvcRO5gkFOZ0EtyBtr7XNcYmi1djvwRXRhqvvUviJ75OaUUpUZJ9dudi+K1d2+tzsnCR7EJaMzY8WhERBe8CMEwuDQMgVDsN1gJK0wmxFukRuMmOWJ+04vKGxvE6/a3L80+xpCbaT+BPIhNSuflCeSQt+tTu9MNrHLss0InVfiJ2Yoeq2Ki9QExwCdsMmwHoRWQBJdxKednVi4M+1QZO6JC7pF8cBKzCZikXgknvoOM94d30kTzsFh5S9nHHfdMVgrOLQs2u4GfstZB/hPgpwAEMAa4C6BTrUPx5nhZmZ8KMfzTPpMmGgdfdRzrSnwrZ060qSOer/dRLEoGDlwyNXOzRQSk2VEtVizzHZ3bIZFFnL3CLWQisnO9rDyloPAyI+0Tz8S6zpPYZS6SC0bT+PDkbDW1Osy5HUvVRGoJBCronH7/93sMb0RDz6Dpa3HTLD4S0x80fWhVqSJREJPo4u1MkX6kE6dm88NXOofDngSoKRWXCKx2UgVd/DCK4zuokiknimjFsBy+i69rtdkQqdkbPoIVcR7UePRf1L1kLjipqDURdGuyL1a229dXUJ2Qhn9Bx8ev1xmGXnGzimz6Uy4VitlPjeiptxQreajdRJLIbAsktypZKZVkLPT+HwiLGzOoEzZ4WdL9asUKfIlveITKnRoV2+3GnDTpfxf3HJiiWPkQkqcp68zr/6acSismssygjDUyyQu8zb1yjlPNhd4iOwtrnThupMIck/8rLLFKS8mQOSbHBiCOA4LV6oi81Ej5zeEqS5o2JtsZaX6NtDubPVnRjmNYr5uA3ZDCqv+LGR59EIo+theVweHoz7Figyrqb4O5F7M63KQRodNs0KWw5GIX6ZqlZ38PZqk4iLyAJqM3uAVQUYlrYnjuv/wb+E4PUogzYzsyPdwkESpEKG0Zm5TzivKoh7nuXJzCvEdxEiav+k7DQEhjwlYrsSdeTyoQygR3owL37ioIU7Fl2ydvxxDXaljDEI/OcWlGj8BMJfL2TVCcmFlIAW+xTEWAlfPge24yKj32HSVFqFoBgLp5AEB8Ne+jWVfhBOV6YoHgJpllP0Rkwz3PHSdZWjocsy2lWVq6ydZiRfFvvPLEkpTlq+Rguj4UirutSiavK7S5rZDESGCj5yJxxB83rn5/P87CqL55fiRMyLFU3sJCz1k64bZsto75/V0meZKzUW7zJhyQlC2p4mzJ/8PNUDJAuBpObyfMrynb/tcpSib69n9Bn0WNGOWXdAXR/k+JOU+Tza2rQ1X3pX58QfqKjosHsL6TKPVuHutgphPBF24IJXW6FDxslWcz6sfIFztd7CkPWosVJ+zqE7CptN8DgLZ4+0+W5BGssajLdyVvfMFJslSVPfkrFPejHgLT7y4tw6nUmfdxF0HzD41dU0+qi4cI1DtUxj8goS+g6NlK3xY0ff8tRRCg4+Fw/Ejg3xEODy9erUaz7Gjkoh7tbffyc064JVxSCLz8vLabUBe0+HL/bpbJsCx2bKmn+s/tyJRCCI1UrbO9K4vGX/OY1RP31qhZgyCrTsrNYzJ5G9kRgWsdltYKpUetcbBPBAUcIqLDo4+HGCAjQHArRJHy2HZFrr3LV7FaKu7KI657F5R82ydxp1IS6o7Ze3MxFT3MedsfAZ/qKDYgV8QRSuZ9Xqqwr6yKvUiQXHtOzkkCW2TBJfv4Zu0Gj7T+XXA8yUjVwluz3sPIUhtEHc7ahNtW9UJqp9UZ0tCyhsVr9Vgs+qR2mxXjLQjjd8/kzOemkesq8yJbJQvWsg6ZEjj+cmPKNbi7lmPbNnqY5fYt02TZ7SGzcNGcIaYyS5rYwlKk+Qx7IKxmEPyC3HDgv9xOWDMENapv1GIn3MqldxyhFRdLkXm6RWOlbJZCDexWDUaPCYNuRvme02xUsuo2lEUaqLLtVKyJPFxYTHOIyV8KpNGUVRtctPlhAjZImhXL6eiXakGVZrU4xDWOEN0gYVuEC14DEnILZBPqw0XGRIOkD/qP7dlrSyPikrKLHbqomcIDmqFNyVa5/2Yba0yjCUc5XG1H0VBX+VMQKZHHbALStwmfX5uR1FnvMzSdRN82b70DoSxmKYxvyq1IQZOF9SjFFEMu09S0M0yX2HlogAQoiR7IGErFLUGcbMA9sv/4xQgJUBL/KxZLcnLpyQSTSEALOPOZSIXGImzyCSg6aoyqzbRE7Zzrh/TKpp5NRec+Acgfc0ynznxcv6nbF2S8iu40V8HIrEGOIqrVhr48YJyJayLD/H6mfVjMEdBFiZWx1Olx91lC8wMHDvRFAr7eBApX59sKLiCMjijHpH4M6PvBfwtaTEIl9m5uJwpeFSKZIlKdcfzggZxUZR2gNQuMCnj+MSUelUiFS7ADWJ+8GrU2rbuZ5CPr/ru25/mO38EFTZbc+1zMK0nlYd59s+bQ18kyS2YyAy8EEnmBy36DVxFYlnUzjAoI8AgCllFnb3UOiC3pPYqSSXuTj2izLSRO2U3N4OeHPNAlKlZr6OMnbEGIStZE5Wq6UGE2IIoff+TQLYyYtSwKP0QqxkxsTtL0nzOdDm5iiuuOp+t0/7nky1NfHYgWSYaNeJ2SyW2SiQXR5tw8w+JfkBP3ILdwGnNSw1HbCy90q5YzSGUQlnyYqm1wBU1wT3AtfpxUgJIU9DutpZU7MJIjypzvOhUO2ytxGVoTDvvX6znDpk+SJTs40Xyi8kPWTFtgxZh8KSASOBE5tZ6TOrjfSauavah2gupgSKN+SKUy5Ies+ai//amv3Rdw2igfjc6UayNFBPlbYDF188+qwrhE0vVPtaN5wfgjSmY/i78YdQZ4FTwHP/E8DoCbL0lKQIjo+ut0TRkUjJvlOgeoho8cNzgMSLwXiajWhuwxeoNQDrBFisX4lZfycAsgYrBFnNKkv5i9ciCimxDVnpQQ1DQUDiuGtb3C0Hm8kEImceyDFF4Uy/ICTnzvg+Vug3taVXdIV5Ikal3R+qjMR7LhEr1QJYmqBghoCYldF+3yRiMh5QVvIBlgTg1TBb4VMo5+AYo6TQJ+YMRGDs0hiI3EhYXk+/eKtaNxYGP+qKFOWAijceUWOVmCLYuS2QaFzV3SY5cCmRQ15D+4lXwQRoqUl6V/L3OUrE9hXxmgiYLeGHKV3LIMKOKFD57qHoL8J10kPNLNBIAghDEK8bo3+mUjxYxMRYRDefmrFtLhYimwREkCTxnJMiKVo0xSSNM11XSODYq/fhsqe0Pn9Fo2Hu1Fx3sQvlAXRCppIp38wiIQ0pZmom0bcizjt70qBvFEcLWFNc/8GgMAabXQ9k/a62maJ/KkGSHqLFJ5xeCknBbqeLsyODGEURqvyUMVwVwLi8YKnfPCJga2QoSrQe7qlUSk028ku8x5D2Vkz9kCCFAiYjmiipKUGKC/xRANj6JCMPcufclBwCaEImEagYl/5WBvKcTYTKfqSMe3NfwXD63KieBgQC9pEs/D8cktGseJQnQmPLfndaeQiKoNSOwUlkJgmHmU9OYpGjTMOHVr9E+N8l5zv7+tP2qJK2eIhtCIJCjno33ms7U5CBLmXvpRqcVRhQNXLxhIMKSslsmCOXm8lPyF4urM9KiU2tpDWVhRoa2oajkRzqyIb/EOKVIp98mqJMdLLrbFCvF31OX8oJXV5tEEVie8lnIa6W7pxaoFHzayXSCnJmR8bXoML+tH7qCQRiQVSMvMG64XcmkxQR0PCy/5yTVJlRMg1n1cNUd4xX/gqEux7iFV6LV+CtS5QPXrpD2vGYhnkwJiMs/+2xJiUQ6zsNSwWlPM0rDm0J2OJURUPLbDGoEp5UOHHei+IggkJc9d7yL78+sWjt0F9JqMMcM8d9GpSBOk3RS1+e10P+oFPr+TMhQdjBYFRcRlbtjToLXBQpLHOJBikuO3nfMy1NKAjESvgEA5clBUmJil0DcagZv3W/8uHh+Vq3+cbhajBLAGkHEYx3F0KYaQS0l/JP8qvr6b+QTGYpBaPQkI1aOtL2BZFPJFgWByz4yGIdnhkFSvaOxCIQrNGgTpPi0vFg4NB4GAVO2KD6UFjUhPTRaE0MYUYJ8bMm7zZOUwzLzkG7ecm9v9ZKIY2o1nIrkQlMm+oY6wk2jC09DBEpWQyjau/cZ3BQ1zU+IpGOTeT1XJ91gsF9rJJoQdBbZH5XRtZG+X5FyViVoTI9dlFjPMMU5f/3L3pMuUrlMPyJibUjW/GshqShv6tMW/rOcUEi6j6hbP5INE6CwvHyFcvpWHNZSIi0gI7EUze2qxlJiGyOS07M6mlrJJNKFWZbjPGb6tcxzXGuX8xHsnT+Wuj+v8MpmLxhIRRI6boLNMdify5+96tDqV3mhalOyK6torUXXYpMIsFpOIiNrOZGKBSMJ1XFbQIRoTEdPTlV8dEdSlSHCJHtcIgT9Od0xMcvUm3d+ryah/IRjsEQQCgxT0z7EI2YrzbbamGojLZ5X0nquQ8G5eJygpCAvLDd8VGF8CASn4TlzYzGBgsWnDSosjV7/g/gEMOJxCyB1BzAriLAbQpqYsuKLh3DJuJApNw7EDOg8PPDnvzbZ2RK9/VJPHWrcgtFJonWApGbEIHK4/KxEbCcTjY8ODlMmK2Cc98oPLby1KMcIfNfYqxml+d+fFZb/IFDxKryCKV3QXHUgksjuiir0tTr+ASUHCQ6a0ETlyKToFlV5eAkMC6IIklBS9ndOKgjG1UqRlbUAjmNjWFbDSHIyuT3IcTIxbEsyVFGLsxZPT689asO1sbxCJppOBEXCgU05+bFXhoPj3rJAJi550Ih9GKt9S4dD+WxhEduaxAYlpgYTSdm1yMbYRyy3MKsmMuFsERYT61G2JfxZohxMmOIlsyve21nhoda329+ZxFd3V0Jr4oMpSXu3NR0vEXEDNRtFuvmYqojjsJKktGQhNTq7JHu+n5+bXkjPhIfWJ6QMBA6aeUEAn3WEibKJY51i1FGUvLDrFWsPfv7e45KhlMKHpkMiM8KDBDVWHfanESEh6P2uqo2ZOHazVFg4NDsUvDIrMBmdlonCE4C4YnJSiQY1BSaof88gTQioYVw4g3gKIOvd5JYRzPXjl8qJS0WBc/F5UfiYuNhYW7vyfc2elCJF8MpZKVZXjXqhW2CAcLB0YNZmMz8UkYtHToLhw+dE7Pg5MQrVkQQsh/MYRwwgjg9g5sYzrZJO5XhOadQWjMYvQiWGRebDkie8tSPDXmJT2sHZHi98POZkh8S8kbGJW/FioITNQUBUTD8/ERCXvSFjxLSHqG0dQkuoZQngew2h/dQjkUcSeS8htrTEZQFKedELZ0IGw7d8ah/9Q4Hj9BqLKSipDfYQ9LcHzATIBKWFSYIicUHpcbjtgOjJisdoP+rB3t4mmkYRFPYMoWRzE9zJJTLZZ5oM7AkOhOQODtYQtysvWptbLqRFyjgsZpqBPoZf2mhLzIy9sKXx6WjAoETcQGhWJjZK+et1PWg2IG9VUTT10nEoiO9m9jWe7uj67aCjWiZM+TlgXhVJ8gpclHOiZsuRZ4fdWQWFm3W3wUGgiVFw84FQWfKnhg6dSk0Vc9ZjET7oytyO7R63StxH2L6C0zamwrX0l6VMT9OX+kKVH5ysRI+30tOC71i04xlgaReCJAOixJ4VHU9XbJljSp6ey4k+CdWgNl+BnMz5MkFY5QSC4wF5kxn5FtHAF/DrYNjObg+ogDs1QhZC1Uf8oQxgkA01oBRwEGvkAesSJkCygWINL/gHSCdRAZQ2xosK0d2wOF39Am0j1ETWCMu1Iil+m6blzETUUuQULLHRxKaw9lRAJEBp4wiNiyFde0bZecRqjGtIlT/OyKOJJZYhjd3byU3lVsr63PFsW+CfhfjLaxUO73ss/evOnQpZaI2mThRYy6dWQsjZCq43R1ueO4kZHKkXre74urWceFUlSfD6bXsvUp8c1srGYdiuKIfkuKYMhGApFieBIBkWnDqwSeAfoD5AHK0YUwDu79As4Q2noEUBXYl83iZHFn1LCFzxPUeN8499Lh9gu/B3sYWTAdk8FksbEuv2r35jXhX8mkDnot4ZKB43HAWHE5OD2RLS1tCRAEqwIZwEwgUMaMBROrChcuGXFbmaF+3k9HsLXkcXp1/MpZ4uQz1vic32iZUJl1VC3ksjFtxbamso6O2nKPRXmsqtq9i032kpQ6v3DK6cVQOIB8mOrqE+i0L8O0djwFL7kcEMM9H0yNNoSnqPdZkZ8RylvyuK1/yk1Booxhh7t0xGMTZBMPuW262Hrcu4pexSYU489eJN6Pv5QoRzTyDb4ii4E+2GPTlU75zCJu2CKco4yC4MeSrJTVVWQSqv0XKZ8GeCjPMiXWQIqCmafaz0EvLRWJIQ00t940COOyXG3YuC9gkWlpcUYus35PtFw91U7ujXoEBA14ZEF6AAVwTcAAasQ0t12DwDZCjj0q2vyAUMfoAl1TAdMUEJ4DqDSJwb8FbN6dgL0kacw9rwrJ0WGCBfIsp3RC2zKQPU/xhyg6Cc9AtB8CQGdIX5soiQtCaFxLfj2E61WwDQlPJLCE0w156Pvc/Ou0m1BuVlZvRM8mTtUymwijpQ0HsoFpQ/a0/lWbm6tg1fxMvjEOYb2n+3tj0eEaPYHgE4vPitnOw5Cos3YCOKjn/wv4R2XbRT1POFNzFxZn4iCmDxJeEZSbpQkN0IwYfpm45Lx5LpSyDutwPz6RYCjKWfCyjhWbCn5oEg6NCXN2ETAixeHCb3b1E9FQJZTq04H9Pyxv1hdReNJGSrjEl3VjG3G5bT1NURneGj0Vn8RiJJA3oJ2JlyE7b4zc/DhVi3mz+RK3MUDbl7kNgWvzD5UJBOjvnOjgS8wfmJRLvJQUsspECdbGwy7I4vqcWlks/qJusMvwx0CY792J1ypKwaKGNIVwBp8qOyVceaLCuLT4QlDZoLm4clAfKlIvwbxibvj/ts7Y9EDhkU3/SDKVfsqqyVQdJ1lUFWEjdGh9FkOp+tomFCVze2IbgRcrguM2Y6bizZEwL8S54TmSgdxReLiUxo2qyoCPjZD8QNIkgptdYPkZeoSpihnGrQDkSRiE2KYSthlBLJ6xhoLFxa6aVUfpMDuSm+1e+M+6JUCdPpIxVkhYTxGQtqYFvSh7/xfW2QiVUSO0WsM+6NIlT+bud8KNj2lM1a+dkb847M3UNEXNiRhNX7M0U5ulFDtfXbkiMqXNe9mn08/Nsx4JDlLYvFjRO61zYWLgTIxXqiwjEy3dSvQPMZX8uxlv2olqy46LsdSxhjBfQ8u3+uWEhLb4qYf7w7UPpY0Uz/6iVxLNYjgJIPsv0H35ZJejQ1KkLJ+ruQtJ7VWyuOFSSbI++2pYlMmcbNOmkYZqidqoSf4cEKciXrnpOhMi9g0KdFcaWFC4NSFNb7TtRLEvd2TckNVi3qIQky22dH7hZbyk22fs5oelglS5kWy1Tlt3ZnxCSHbV4j5nzWiK1zLASCUga48LJdSWAsX7VaIV1KooOdrNbOJYt8VVqIh0naN1VeKBg0yJHmyxEKcbdB4yUyGH13CDTBFcrPCububGBogUqOO6cOEcAcIvSlLmilo+xFg3UUGehRta9jtrCaokSQOiRgMlg180qq4RWPAqa18c3kRiDHVR43ViF9LcnzDJCAVNAfGwKcM6CqBP5AOIiMeE2/a2B8YFBtRr891VLI6kygqW0GfGUbHDKQbwdQef0fDoo39RV0zAgTQGxAfOJ8HLkyojnm2zV25jpSZtYK5MDvEiZEyBINhLgLjVj4YfnBNejFS7ifJKS2zXRVgJdYusj7ZpmWpIlW/lxJQrwctkzuXBY8vLSirciWvUSGexVBG2gn4dI9zDg8QplCX36Lcg5RdPyxXgkWKeObEUnjSejDci0wtsastkaDivX6JQkunKYFixFyzVZRwWU6Tq+kKzFCy2c8P0RE5Riqz//jFCApZEgDUGRxN4b2HFXQjg0EZcQcLkGRvFjxMu5qCOnRYQESpLO/NszGBMRJCqqQfguTyqrR07XJCSXOgrgn4hoVFZNPIxr1jWffVsdNfBCAzaaVcia4KkOr7tx2AQK90LB0mWFG7mo1uJmNIilKoJigonBy8GiKUyuHxRQKHSTAERJYwEXLGhJROhJvkS4KFaU4XQ4HGE2MjWoFCZaqyiSDCt1yC5C9hBKsoD5QJdUCnfU2r77Xny2blNE5zGpMmggLprHT2sJJ++iOR6me+TaR5BNAaMuGzUaoHhWKq1UpkTcOhh+rOVXqCfFZrE11xC4+vo0RdhaSzxcv7Zt1hNHRtPp/Ghuf0R3VivyCB+ajZXKLWkxlwQRIWEUdkRwZI5QfMBtL1SZSI3ont7qtTYmUbjc48zBWFvqoSq4d/gn7uospWrzLilqpat1KC3zpRC0mBd1uFDQsFdQ07PYEPBycRpXtjFR0swwAeKPAAAhhhAAAEi7wAHpIn+FgnmLUCPTek1fjfIFHKUaEjwlzr3s2kNF5LkDFedqiNjHvtuu/32sBTv023oSWdSDXvoQPjFdB/kR/YG1xv4xJU8SjVBV6Xit1YrNv1ZP5pzoc6rKYfolET3rHzUCNJDefdIW16IXwceMPTKTEexPzD6TTOikpg26gW+o1uZBUQLWVA9MmnnngX9JfhZ6SLFzvkIZBB7L9zqCBJw/QqcCT3wAE2GJgDk1UBvQzXZQbIRSDlyqhylRyAmyT5ZNhpEYZYL4DD1vhEStxLY057A4dsPxJvSnJraPWCvQ4UY8GsDKzCTAkiuHKYPUQW9lHBBUKsLJEG/LNEEkxFrOvk4t5XpB/TJI5H44BqzlcRvrXql8+l6PRTJlKVvWloAnMPggriY0NOM+oVF4hMU7mIYFXKoy0gpl3+FgcMiaH0BjmZ5DpffHZzi1I7PO8uhuUh/+JARkdg+xTB0XkTbCXER5iQVox0rLH9dq520+iM4YxTzwklxEm7O5ql43bi1baU3yZOTg6bZHlFVMK6xlt5kYHrEDizfACL4v+EIE3EKzm3eAjqp6JkOLRPv5SSiGw2BSPQ1wmCdx21xVj08UZ+GpRU1ILRlf6lS4RvZ1mekIjRUeu80Pv1fIQSMa+VHvAUJRhPBT1TLL53sEkXcgLlT4Wbu8aohNZs5plUHtHQaeifpR04XqP0AcYc+AZXqgyRzvrB5Foi6ZSNGSRUTznlWyU7jg062in5Y7wp1mLQMOZOjWr5fG4NmjPHNkMy6hT1r0mCS8v1B9yDIFxzcoD0HhiJI++WAoi6OTUWUwxlScbWpJ9V6JbKZ8vyycSiVXpoXAykyHH4lUHLIpRkApEqsiQq6wFbOazdncoGMw4iediz11sNOatxSO33u4e5UOcZ86i8TjCOs8WVQrm8tVwqRK2+dqoGiFbfGhQVRWhq7RfIIoSlj/p1b7eCxBQWlcuHGqlJKbAeDhUci6ViFvD55Z2AZE5gBcP4hzBGCI/aeJ4bxTgDUmBu9Y4+IVemcq79BL+D9wUTyLKLccmolL1OLFRAVdzvayzlRTQnqKnl0SoZ3UqIM7RAc2Vw1nXS/rqfKRGltPJ98tGZTsIx81nr6xIKOG8sFe/mCjEkSGKoVwS/ELYiVlDEmPiOlEcqiMMkKGU1kPuP/tBV+KvTiqsjWNWjcxWaDY4rePCwn/QvgGRRVxixlvcpS8UTlCOqYd39iw1Kv5x5d3ixARAeM7YvbvoNZyfv/Ik5nJdv9GlSqDaOwyxWHu97PE4Qt9xIiBCsic7SAGBqUPFVKjLLE8qFp5ghBaILZGNmkzWSpSiRLpIkuhHLhXnEykGSGaeab6OE/0ptKRrzhmwkIygH6RwATsDPoOCnCmaQMuD+0UPwRw5NPLVbiwpKI4JgzEr0PrRBgEkhHRYD5iksie5Fl9ZvyzPzySCeV44dRBhckUCoLj3VqUEoFw7Ma5LYT2Yg7oWSAPv1ZEnVKwRo8+IVRNhF/nsE7g2leGiI2OuVii8gQ7RwGNKtYJhPCplg0iqXWsZVgSbuccx+DBllOda1cBpEiN1No9g3RqSjJvrRAWxfBQKeAEQQUKUBmUWdBX02/FxzifUeAinzTqGjEfTJYhU/57ONWvsLf+WiVR7Idwlvs2CeLzZzHX/mYanKxlEpRX4QhuSpXeENGEVRMcdiq1Wn3ocVTiwc/clA8rSaoseYYSSyGLhI+PsJFgaeqlclAnAWdQ5SEH5oGlMjuykGVawxLwGXtJKp/RRwOuzaGjW+VRMUeZiEMk5rZMD9u4us8CcUTjJkonYoIzlfXfJxdU3G1RCRXKeNyNbIgoP+pGxvnuyUuYWZEFF6Qzz8yDkrLdXafeyrQaXi4x9ykmxcSJj3mNZ60xw1w3Z/gJiE+VPtipF9leH08AYBe34YunE3GQaOMeyg42deCBppCnl+X+lMUT8LcEfESyrUnkIq5TO4LoKKkRNS/JTsq7kDAodFzpDBuYTEkXSZ1kGpPA09qstmOQNan2J8EOKYE1OMOyuyYup8XiJeYX4bUM0HrBkpPNV1cth7hTvmRvMK00QLLPmZ340frTyzv2+VsQOecOdLaaugxzxRK2FPqTFUDmQqAhtcpvQ7MKwGUlpdPbEgLjd8uXFMZIQb7rGZo0NtIG3JNNWKvRIg3+q5GiZ8+/lR9AJ/+w1Gxw9WiBGGm+YPlo0JJrGY5kDwVKhLlRz1tMsuaPrEruToIRksiibyT6fwp+IlvlLb40r/KnFmw0CkL0VlwUUqAJvqUIV5Um9gVawsOshaxnmjAgsuJ2e96WkA/mQ84TaTE84JUx31klDvKvFm/OMo240grqYsJ7p5c1j9QTtfROgKzsPKuzBTqVHWgTV6lMXYLbhFNn5AuBa+hlcW6Fgymy7MJ3+HuWpmUZ9fURnYUlnLowjoFohSyYU7m6HMjUAuMxpTqiqt+kghy77CS0xMnP6WvxhBt2LwKLLGSv5H5x4kuviZu9rOD81jbaExlwIRQzmTYDZ5TKkJZOiMrUdqDhSNG7psVWpSM5dqX8aOOkHL/ErDu/+VPOrqBCoVMMBZx4aPEL52uRQJLCOdXQ+a0XewqAkHugaHu1yyfLP2W3q/QMBppBEfl4m5Su101QzlzHZ0djG+4qUgYS6wm1zE2EeyNWCMRHRze9Xp1aloH/uNk0lLHshER7qYHNCZ/0qHJRHRu6Ikxv8O1JsSX+BBw9tg0C2dqsO9Bas+0fvidZ6jEog3/eGkDZQo4JpJc5JtJWBZr1HW8R8z7TxpFZm0NFvT+uV/85IXqUo392iU1HhjAFBgu4ZKhJ8RzrkFIo8tvQGFkBa/n+9JVfQuOXoApciQQSTkgmeLDUl2aMiuzWhm5byNnOsidO7BK/SOVQZtlP2blX7y4gndNkWueIHJgKFsFh07zekbN0u3NCqNtjV8VOUoiPoWtJ5ghNC/4+Scz2TCpCiVaRiwtxmz5vt0y7Yy0pZdfTp+wu+mZCPS/GL6FT2XomyO5bzJwHByI4xfG0LNX/LH70/p65eRE+4EUnAQyQibcxWqNtqyy8UasTvvmiJRuGnEoQ0hGdp+xGnJ/h2t/gqPPYN0pBqMm+liEvrIpvDaskbJK8IHfIv/loLT3JdRy5Zieb9b43XMp6sPY/IjK1URlTCdxJiE2Kn8GIsmdq8Ai9EjZh3YaoKjnwlY1Upp2bBGM5JpjMWZTLzvdbP8BP5R2/5qmRAuCTOwEV4MRF+DCyeIYJ3FPQBEQ2Qn/zH4EFqBQnR5htxPK3gWjJEndIsL3ChuRePDhqL+KKbkdCt9dvhmTVF/OtiapTktk0+rezGgHZWROnBvyphHAiJ9k/e4dctEhNuCdDfiEQS1Jz7F9oougo7AWW+xaRfZRgvoXgwMQyBTiz7hUjzi3H1CtAtoiWOH5BjBxRBCR/s0DXpNj4bAKEy6vdhsUAsD7moL3wNwjLoMO2BDVuWUV5OwiMjrgj8/5XdbioA+0EPDOYIKWO9EdMj4NfjxXxKhxjKnsm4H1l9f698ZsKNNIS3fqxHpuUiBYrEle/58sfd5GPTqG0nDZn+iKkAqCVjEycmqsQRrZrYHL5cxSRNYjRFvftcfKmyJUosumeSOxiu8NFx7IMnxL58G3fDsW/9Xj5dUXMemMOF7kAW7orQDDShk0wdInb3JY09VD6DRYleUaOaRu9d3E8VPE9cWrxU5UgseTDEkqJOALlLSLlMCOZbpZ9q94pta1x7Ojw0seAWXZ52wtEQ84+xW6E+ugTG6ArMz4kG/EgFLinC95sKIHzjVHXobGgBMYqpEqvxCwtEvZX8yIYUjw3TsMLhG9DGZedMjrW4Z7FfyMFaJxd03Bd2d2JQV1x5Hk47a5R87aPPiD/thqHiL90CT06keNFuRix35mVRiewv4v2FC8iy6sshB5sg0cbc+HuP5lGkkvHtjkDja6X5LL5eIYF3hOQw9JCaC1xHRI9fmwBQo4RudMkrF5o0pZWKdpmrNCpBz+WbcjGk6xDlCOXmNR3yUUfkfGliYCr4fdE/mTTShvZySdAqMeMSfFSVHPkDebEGaKrwiODTmWOWNZwS5udjAq4NEXuipYRdtrXobuxClBvwnxwdqOAHdGM1wi5SiIlQXN7wYIDUgngQ8xDLpA6LZKT6sl+5VLrL8U8tHz19ZNwnbVukoPuFKkUeXYtOvoOkLCSMHv6AyXYtsjvoHGrkYOirzbOWBgfxuKEAkHQW3k+gQqWUjmJtBXwzviPqE5gpoQOZaCvA0MojF/iwIV6cQi/VJ7jNqQptbRIAXiFlOfbGFKSH/hQy/SmR3XesB75PBb5LGemhizCRydjMy4qlej9SGGWkORmMdC3ik57zi8tT6cJMD3xfVylYllNVTtXOFvcZvDF2fD2oYUGQkeJqOXj5Cyvz+vpKnCtAjvTiopWjkpbgx8Ugdj3i7Ceykqhd+4K+CkzpDqWvbHilbVPNdtVLRxAJumq1zCvXNbzpHSd8G6z96boJlC+0/i1huYnzE/tjF0p11CMzesldGN0RRjyvS4pZEN06cSBQY0ZfOZaTjn7LyQ9CrhosaCZrqpLy3zJb3SVs8EQipZrguGkIpUIBlsIhk1yW2GUryCjhfmq9ergBiaDFyaI/4g6ZrCYwz+lxdTU6WCH8Wr3VzZpF7nx1UzPi3tV/j7hxhY6SYm8GsaVEJb7oR6I8sEYc6no29yoBh1myCWK7KtvLf+7VQmogAblLhcbclP7EtaBNzGZStGQSxpUahteO/0hI+ESZmucEyVPM3K5/+2/X9PLABJXHRCDdMh6YEmNZCuweoicIzGdRZI8rmxjYN7b6ZUT3zSthA7PEMGH1wFABYrFwjTlhMdjjVCIeCnDB8fnHqoxkbFCVTIEmsxfZTLBCz5UfkRf1SDEh86vx5h/dUk1Wjxc/hocb4laM/cQe+ZxmAq0r6z27M9WXShO3DH59tS+2RxXjO6B6wRwJpdWPUk5JKv01VenxTdxseTn/UkUOX+dh6Cq1K8M2pWqDbmmHKuOVnYk0dGrDKalPOHdECM34B9tGjVc9IBR+nZDm7sBLZThifLGBFcJwQV7usSOvZxBb0FgGqAeTK5HADWvxXSFDCrNMWsEJ4PpJI36xe4vO/uo8j4iakmtB6wnHNghh+dk1fbxin+u4EYL8w5xyYYDb2/xTxH7OuyAK6vpnMa5reQ+o6i1mTyAtzSkpaq9EZ+J1iI0lepsxNhhNcz8wzjOkAQxyfChFLUZIl98GXQdeMg4tin2khlHRctul8ytIKcmqzpUQLF5rux1zPMKrITeOow+5lW3pydz+bl5Kj4VYO6Tl7qE8fp0BkIooCDIthGGS7LLUrnZkpSlpLnmK0nLh4bAnbgaeWq9lvUtlFcORNpCTrCDJJ2+QuToyN1vY3U8/JJ2R2LZZJf+RLXR3H4talHOyvXO5eDoveRkKeI+aYw2ZdEeUsZGeoPY2inCSRNHSUeL8wdoKYWRU0vYFeVzntu3NRUE76s29J9aiVcLO5bICgfCBKRT7VujsFc82bz+HisoSXi869OHHsCk6GrcWyovDpNRynWRiQlkt1l68B/oVeA85pbTWY1lkjCriv4QlBFAyBHOM1FdmaKOs6BKiHVw9Zx31SmZ1yjbMiL8n3Q3jxrzZJLFsh6ipkhGqcAQAr1XtmF19bmk38HfXvp4O1ovEE9WEulVlcT1TcMs0EbiSKMwn0ebsYccEIiQ/wz9dFZZcVFwaUYArw/xXNtukMlzmNZvvYh2AVFiXBKijdlisdQ0lrM9m4wrnYzuKoxSQRhNpItY5TfNZrKf71vssWhWRquNSGp1rQwSSIpxPpuqNGPtI2KQj3fZHKnAdvxSVj3hqRaVL5jEIh0Sfi3rqqwqwoQiBSKFVo9Hlc+nyc9OIjC3JscoSJrqOAvJ14lWFmSLnM4+jMdBBRuLstQiioPoTSCUjLebt/UrKG4hEXGp0a6XhNtAJ723GxIItHEdxHw6oVDNsJsJdwIEPcwb/WkrVrlW6SNiyaUAtm8QR2FJC7i8X1B5FIjJOuP9wr8hX/vpcmdvLXtf7cN/sYPQRiKI4RRQKJPMqCvYnH7cHPiFa3hVCKCKfUdt5Ox0R1BNHZjhtyZgtPSdHx9iPzyk3ogP6cJqWcWN3wssGHVSKp+ZAiYJ1j8WUhu2brkhDi0GOkqgjqlYfDM8fLQcBBmNo988TI5WIiel+j5E68CK+Y4dF15FCIqqtwLPdCY571YSl7rsSoxLG0SjLPtEsBLKmFkQ0KWy9erswoeIYlqz3yNdMZBKeI/LmIkLiG16e0awP03BK9WUtRkE6kuTiQScLDcr4IdKVgRUoCHHDc5LFJiOvLP6iV3U1MRBwRiZX3VzW/bnzkYkBoWu4yuSPHCxZ3G5T3zJCdB0ta9RciQNtQ//jFCAteRP9T/yT/M7SiXkWH2Kzb1hQM6/VsX39OTSiqTR5PQxsx3o4ftfCyz0OIlyGVsKvFyGt608dsn/crsb8WbmmFH45+HND3TYzT0Rl3etV0WkglYs+GfhGT+nu17EQZ/jAq2JhAeVKmuNLF1IS7sv6p0RB2NyvtbtGW1qpoS8tnJzfnAptSxHa6wfieK19LCgN5W/U06a7XrKYgLiKPRJdicVRGtviP6IVPuTNy6SrV7OdkXcxU3yfMXuHkbjyVLEyi6Kql5ODrlNCHK6TIs9UlV+F1Y5L/zBMQVifFkuD+6cYMNKXdSkR1hbXmPJ5QKvWZj5vwoiAJeig93Mx9LhnWvqbkjs5qXFHi8nlOVZGlHdDbCw16O0wlR7YdxJ8K7DKWc9Yg5dyn79oBdhWcOP7xJAp1KHHmqFNGytvSo+0Zd4p9sLWnOcO2gzEeQrBdLHA1plpT1dbE4gngx6LrUUaUpEW5KpXQW5d1F4v8s1MgM+JYgX1jHqiYNk/mNRtarDY8jVhzK29I2QnDLyI3OQSr84kQLFykSNuJsmVxMI7g/JKY0conIwJa4sePYuNq8qS0iKpV3ShQqakziTKF1s4YWKd28X3bj4ht1nX6eBDOzCmTEFo9sVxtIFSp1WkLLRXp9xHUvD27V20lafrcZ0hUENoi55tT/+5xltqJ9OjWdcJ9kNdIxMj0lCQGu4kBaUGcnApIBu85UnZYbysSHwMXBmpetWKgFZKHwBq6mC9JeLTAc9qHJTNv6WzYv+7UpTcpJ8YUqEvZEuwhu9PREf4rXAvgJgzeQG5gJekTeCTj+fTi2bZs1KjMbPRQR8guGayILXp/Op9F4HJplIIvPJVQKTiIDPIvHsdUOj9p/GkOBQwlYAACgABQRhxYlZbriqATYr+Uh6CWKd9LzsBq53sL1rd5Odck7pK+zXvxVdTJA2GHtd4FuDJv6FIBVQSTUp4e9Urxir+93phtiy2DplNsU6gsE8bDNirXx/nfbRrfNP6NvyFOXpp/OY/nrLa6dmkP71JrtmxUp56nffwU95BF312yjp/phK9UK1UR3JtoujljK/YhU/aoTiTug9VU/yAdp7HGgd7kcNdRE0aoR4a1goVmzNsg8EwnHGRt0XODpHAfNw1an45v/LqFbB05TK+qN9FSl5XJtQ6ELWbsZ2o5c5lZz3rMn/dU52poZrjVW5LpeJTJfQbd3sKNzBEtTU5oNapDfzNFkPKk+0Mv4k1YZZhKmFJRa14kiZgX1W0EcxVdoRdLNYVRCsGqTgTwS6OXVsy+riWWazKpPLO4gDAIP85qZK/SUJpu36kqW11dRJnpOjyGbMTY4D7W0IaRTsYhRDUkj9vzE6+D8bxlqRVczzYBEi4WrCadx7Oaaes/6cCPIhJbFJ67MBM9impedbSP88S6LFpUE7dx4MqaeXYOE/22y8PA/DSgYji7MjkFWmquBXbo++p7YyoGFgO98bmmHfse11CQYbIOthlHoqr7SYsJTMfQpBzGYy+Y4jmaOIctDElq3Kd/JTa6CLOrwHHR/YHVsab5RjIPbyoEsdB/N1R1vmUTKtTZ/3b+KIOIbAsmohtxNbE9tDdC+5oFBKQSBE2ZYEgwPKsgCuteqApI7Q4zsRo0hQQdjiK2C9RlTlZpfm571M0zGaFSocF1UcJTBGQuFhW4XNymrYt/4VCm1Ezki5CxwXpZ6QYHEpN1aqrO8dOaJM5ApZ/CmVL1GMgMi7dFBWV6LS4TNRIVOqbXgTTFAa0QcZif/Bu10X+8vCyfqa4jr8brETVopqks0vzw63qhP9JxL7YP8Zj2sDS6okf2tlQ0zPZYgLOms5qvlVS7STzbgj7qZPeLGi6wk9gJ7LAPQYyabk1tXkOTxd5lyGuL8Uo0LRfEiMFdE0vMhQREM1qLVKEUWppHn0vvD8z6LLT0fJG9rFctkaSa9SE0HHEUCW1RJ9bTF4YUSJAso7hBjuUNOkGsmZk0jdkXVNR1woJpOzK/qHWSmDb4Iy62TqBqsxStGVEUbo9bUsIUVQmkAsF08QqLEbPnBejDIYdx6yyEDL8wElujqzy6dbTCfGFWi0lQ37Km/MqMdhJZpNinRuVLCLRSkrs1tTa5bz0tQstJk6rjRnpVpu+sdkFQguaR4pfgiSUE4SpXcMLoF8pn3GVRFBRXabbyFJSRZlFK7EO5fOYU/vMMc0+vu8Q2CzLpJ/WKizO9YabY084jCsFG1d3Jrpi3THxtyMTeu1N/Bqb+Gcs0Re+IwjK7zfvvPJlWC41KxQmCMNxlnHWqKuRZ3UP5MxlK7NoONiTdHu/KVd9hgW0Zby0/RXBlSGbMTA8yVXikyJX64VzBaRoLzzXisYNY0Pbhl6Uwq9SHVKTtWQmh7JB/aOEkBGJ4jDWqpsdIV5Dv1KupNCN5SmyUgcRGERgfJzdi5Q9MaYo5WHW2j8rDR4pQ+FUyzusZJt5KHsMoWfwSx0hcJJVKhATLj9eKKn6m3FNHfuMRwbM0Quj8mqjcqPFggtDtpBePwchWUl0ASwBB+hRE2unl8LahSKDccxeG6/aJSUAiso+ob2ixCMFMUy9yr3OnjbW3rhNBXbcImmfFPR7q6+MMXcL32aYXBxL6CwMxpQqURR0Fj08ZkWbw3LzGSjnsnY/EsOCjKUH+JdftvhQjPR7ByQ7tDSk0RD5ZVM5omyLOmwbehcWi/0k8iKoKWstM/o3Jg6SNx0Ai9zA56DF4lonoCq7mqvMDjoELyVnxPXlP4Wj4XiUhK8ytYrEJY4+5THwEsMqJ6wrQRsFisdKeLdZI/CMYzUKcgCGyzk8lyJuEScayAc5pOWRwCdB4pDdJWjgQ4S7h4L4Z0pDLIsMEh0jem6PHGZ3SV0xJcpBp7oM8cJ3FsJywxIQne5HGQlOXoDQVg/FANoA+gCa8gIqT0YYY1sQJBQIsYMTSzhMpBRBRBf2poswhiSwRx6PTHY5zvLisSH0LevAFcPYqpaQX1ZEcE3hS2GuykvxRM73dbnofG2IftTScQ0ZgZSJkiC3FGi7ncUwvCGExHYoqQ4S5HSV/ZULWevE0oFAsSQdj7KDkIEXdHa96P2pa4hSEdSJwotTTcL0ddTbyCC5ZakjGS9YV/VMLpJbOwo9VbBRqyDI51oNHVV+jGkosJEN4yKC6iEZzS/8vEjKPY8iiBWGlmNcO0S7jMuFzMN9+wGhmGdOIssCAnHVwkWt5u7p5UmWA3mo2saLq5LgWVni5cvaNbdvZpS6/5uef7L621E4mVMy/2XiBJPNQ1Vh2kRNT9oVUjdqpTbHUvYSyq7fGWJUHh4HglrpyfoFyC5FG3+58EOQNPbksLbr3fKMQyqIUZ7pKW95N126V8nmZfqto36+uZ/9x0HZutqprkGi07sNWfTv31JDjhJ7b6U0n1LCWefsecpm0dQlom2/tCwssvB9IBDVXbDb2U0hrIYRkw/QTYV7fNOVov5u65nOJPK+MJpQJD6LUj03m503u4q4UhGRNyvV1Lo5MacjjxLemLXRRVzjQOnDKdO8Vk10gQl9UzJPMJAkK6M6lgciHyV0qGNROwHQpFtISU5JWyydSD10o3j+OYkHY7OAj3eGCH6WI5IDN75iKKRuF5LYvQFZSFGpStSMtDa/tL8xifWbJwX44KXhp+2nsILxQzhUiYZJv2GHhYdPVQ+SlGhtsuczr1L5HAyUO2vRY1+YVFjyeHbc5sMpJeZu/qDoJeJZQTi+YyndIYI+T5IHn3/F2Ur/PsiNFUJhLQmgZuuaYndmVQqe41dmYN5r20hm4VLYtNX6yfoe5A+Vve9fNyiPbeUopqjNzmNdysprOG7RHcwdPCyVjgOjgMyljtrGz6XKRS0pX5ROX7xCIKg0BLFZACnUNyECCH8z4Ti1k3JmRycF49N10JK6Wo0XvQMtteycoN68Jjc5at0Ir/o/d5apjHd6buslqCmURB4qBiXmTTOwu1hMJLzbAcXcxUVNp1D2kysEYhnwzLzMgVBcw2iYnB+4NXSIgshHF5Eqw7LIQIzxOi1Z6+f2C3VGRjyfSSp0A4oTLKMZL5RqK2CPt0MQ15Xdv9Y1G58tn1n76w38ZKti52XnUrtGqqWJU+aoaySLmbtt/aosRgk+8b5cJPsuHfhgcqo7Llr2jk+/2HIxNuUi9M7CyweZhPDCKqiChAYIo6d4U5h3OzRuxSLj5ex4d00EWKtpqlfSdzw1HUTlqobL86L7/T8G1YFfeN3KfUdEoeggpuqvoRjivF6Zg7G0aaeTnHM1n0Stybzmepbq/4cTgZiO9qFQSHm1aYzCqp3yjaZ5CIRjAdPGJrMjSdYEyA6yZDUCkfZQ8ETSj2Dambl/BXXArwyTFTJ8WaEWXvkl8KhbkSYjcb1v7rtvzfAtNeJjiS5m/owMIlLpJiVcvYZRReSZc/43l1WkzO5ZHZzZN21NR7FhNatslJnL0aG2KTpRJDyCMN4mOUglBrU0FhDDAEaBSicD+jhJkGz9kLoZSketIXBnEiCFBHzM47YqvUQLtEYTGL64a+NLBMkl3b/40RGJdA5mHRHTNeHN7z1iCrESLgwChImW0kdlJtC+N2oFE3zvRqOV0HvoKSVSIq2POrN/cEGTK7WEtrMKQ7OY9lcR9JDg2wBxr8BoHAFOY9WU66BHDUzN/OOzoD7BnzjgmU0gBKlujBlILotY4yFo6WXTK2iNKxV9lr21BPXrrbAT0rG28sJU8wRQtDZbZETjdODkQKu1tRCMMQ/QHoga41tifrEgg1g6s12JQg36Yn5diMcVJxNwisjJRoIECPNwHgqTfy2ShwijQLaJ7PAxrsNNOqhKWioc5p+qcJby9IPkZ0T3zUfokBTa6pRNz9XdTZf2JX4sXDwydg9JZLsmeRJol3Q/RnTqVklbeup19GELIfi3d17fStZdbCN51ZtzmNMQGqSjGurDS/wwQAJ9JgAdjuAR6AE6APsMQBQeR9JkLcGoTQBatU1inNg3CNBcjrpiaNxDOdkPQg8eMwd8sKq8e45VSyIaTIyGLXykUGnPxJsDwT7frAuxxpgCcRmqXIo80jC6EA2FrBMxDqN8kM2EE0v8j9WKIAQ3Jd3XJMXXBHIYpoVbBdPqltG/aoP1cXB5JIXtM8fhPstRaao1NZHeKZYo9MGfX/P1x7l+ldPqXiyqTbKWUTgSCgofdbpsrFIcRW/Og3K6mQmnL3e5ZRrn5yqJWOp0il/ChVtxp1qdD2u5SoDaIZD5XHeF2KjfsdQc7fKxutdE5rUKZ5MZsN7FyphKdUBvkJCTxhpzahCCNUBLipsWNVIyfwh/vfFjmjCrbh5WphRHXUPIQKPeLSTPuz6XzbK9um2qFdOAIbi7NhJVStyoMObahz/G9tUS/vMThiXzuHxpvkqCFWBUbMl1NWGLoNY6hHW9nNfgjeXBjYqgE0raecJA7YRKcd0VcN3HgdpRhSUhFfHBGSCzK1ojkvaaZgFTpSXeeIYJf33+dCWR2LOTnA3jQO4kmti9KuvAsWPlyJYt1Kr8nX/nUtI9SkDpuwfiqxW/6/KSQGBCaCt+8BZVpYLpBRiLhCWRSI/NhM1MyxlptRDQiXqXCMJY6kd/7XeDvA3QKwAAogK0AZ7oBfmmAPwKLu2AEaSIBMdjbFY9DFprkX9NO+QREACTKnIJYViSUyPJevNp6YEbkdpG86XT0tR/3z3u+mMzgV13v+9zistXig6BSl7MOz/YXnBecZGqIjLqXLxKouQd9BETTc5XjY2VGfSK4IBH7TydCRAMUArQA6ADWACxHiuQBemMATDc8B6gL8QwHhu5hLIk7eKlYcuRPQ9hvhG6um0nkjk6WdOjHAwL7EX/OXMG3E+qcgh0HKv2wIzxNsdiDFf/Kz9cWKwapw4ro9FDiSzv4XcgsWUpMLLkeLYs/RUXHjjjZZ//4xQgMS1QAnQBdAOIBnQILAjIBoAEFAGL+m/uLtd8QZCyoVguQQRW5KQEOyfZo1Bx0zyhEaUZyr27Sr3rw5MPeCti1kJ5bxXiPFac0UK0qTkVyR609P8PWgsT33F9alsCVxWBni/k84i6aR8+JNriLXZAVo3usTapUehhLecVhZAnvU9+xDhMypKG3fu4T6L4IDxud8KnyTZLvpCCgEiZRHui0/Z3VU5oe3xNwXmJOUQzR7j3mEKsXspMA4UABVICVSQAWwZgaqDBRArvAdMAvYGTEvJAYdnUyjM3qc9e5U4yMIfFXpxj7TzHRUJM8APCFACzikv+rrvG9GBGXO0nsmkQqZi39La4SEzDzzT12Z6UUcZ03C+oKzZlxVxOHPIbfqzHZ4DoylpH81Y/A3Am5ElTCiPM2YcE6lZYzFJCzOIZ31Q9AjhwylkwoxIFjjoLpiRfhiaWumxTEqQaXxr4/USUUuTcTWwBCaiGkLDZHY9dfZh+TZPDKaq/KkOD7cfyRi99n6xVsLncKUgYMQMmD2st7x+oITSCUSdWXq2/5YJ9RLW5TBGvjpLqAsg6pa0s6jBf+PCJeYdikYVhY0g4jZsGRpN/7tTSXJCHElbxRmNLILYEFG0EgOy/IUuAOFAGgsdCqBBRlMgc+Dy+1GiA9IEEGmOSOKJ+U86IToNqeomET2MPNbsuplzjIQiM0Gj/QSYoz/sQtbTFVFDCBDZEPbz5siJcTJCDDSiXL9XlKsSD3VqVR7/OT3Msx/jdkIboop5Eu2/yHb/j2zuU1qLufRv0cp1JYEp/SrtDM0dtoVXVJbn+PEMUPuLe6A68BwoAjsee6opBM4fKC5S32JDygnQ8Ag4hxsm/eAWYOIEAQuIvCjzy7f3Lsz9x34n12MevZK14Ilq8vXjrA6gFuEe+L2y9jiFdRiRXT0saRkJiG5ExU9OyxnJY2iO45nqXYVQdYzyCfw0wxhwnK6EqoNR0//asiZbzJrPB4d/V5kJiAugZ6SMnpOciUM9AbCEdroE7T+Geg301tTQv43ZDiDC+CztqgZcAuAYoybrSU20xojiKSEzcXo+/oOq0nOm5Y5Gl0wUtovRvUxZrIC4iWmUXJdN11b4q8/blWLUky/Vzuj3l9V/RDOyRGPLSQQo53hCS7u41BSjjkxTb7uC4B4kkc2jPB5jv3o6F4heCiJ+oOd0gnTmx5ynhKmtlGlw8Ks4whtm4e00RimsXYjJqTANgsuC3t3NZMwovY1JQ0T+qPpXRdIrnqt1qZh6PNn+nJE2yHLXHuweZvad9/c3vWhLi0cLXBjLNjas+RcFkpMMegSBsIDedckFiSlGZIilHcWf7oevsow7BLoh9+oIjBf741xN670V6NvebRC5kgaorQkBak4TU5QVMaJoynXz+ru3LX69csMgFsbl1V6Latj7v79io4J6KCyzUc9sLbK8k2U4qrKCu5gy6B5iMl5HPOPnUSWiZfHm4x1CdOQSg4BOrdm4+8QixJISmtdQ5PMdRbnBc9qkCYR3EwgrhiDi8mXU/ws6ccacXUgOoMEbZ9iPCFDoCqFeLgII4PYJ4mOZBMaZMMJs+VrCpc5w4R+m7l2SCShkC4GoJARA4Bfbjrl3gKTceIiVDwOLm94ZxGheZcIKoYxOUHUXASgumVEQ3Qjp6g3mRHKx0LhH6fAlnyQEa8P6Kzr9hBmVP6MSIKtMo8iKINqoDMEuOUJ0IgUrwTuTokQZcp+rK5rb3+Sg60piyZJzdu3mZHjZHcZnMbFUpVEOElj51J6GUTDQs8/DZSygyRLMmViq2Km9m5y91B7e0/iS8sFbs2h7GslEZ5cSxJMxyzESdYxQjQR4dY0ytfZBkC0/PoI4vnAjOrG1HXRMFI8FpzUkLMx85tuU6TPRNNkkOTb1VuvNdjMYym7PhtE8VhhCIEkSiiTBCFU6LjV+9GjS5oiBIGtk8L2UBQEhxE6eLrxlE/RR1s1SVE5F3SKdGxVQykV3xI5TCMZnW03jLJEeHkQC83s9LzaEJBmJTeYTccSg/OIlFkMRGdylwthaMZGIZpTz7nZI8GXmAylcyvLID0Py8o0bqigwhU3Rg/nP6gm9791795tUHxkhPqIkiZfza2MSVVgspBC5IT9jYTagiy4C+kj2NYPrWZHcEYx9/FEf0qdvQxTfeESsvG/ic/CPEGSb/JHeg6j9XYoUCooP1MlMiVYtpW+vjGs9TJFKRTwJt+usJdcLmyNvfV+phJPu6XZRGsEVNpXIk0kSpLIkPSTWyJEoJFLGCLiMTRghQiHJmWhZXL0VUrao/fLfBCJASnAbaYIcqMcnGAWWktSKfd02GEeMvJkLT5rMelEAnxHUmSyjOFtk92kvJpCeVPW4nnXtgjOZVZNNIvZMHJD5JeSqlIhJGUrJ4I1TEMTDbDKW64K8RxOjCNgKjmCSe9NW00rzoKFXU5ffQvpcE1NQgb0FnQZq342ZglBXxw9plpd0ogzHtjznpsnLMcL4IalUvUicWLR2BDsj9Dd9Hd/ZO5HLF6cJVMxs1ptbl3hmeQeXnO6RNWQJyuUF85d1SnChwk2CJuyQCEVBV1TxsAsReEqFxtHsf6NQ1/x5k2o0KvxAtNb+X5OtmSbyHXJT1ChIOxC3chvhqD7GQI0cAW7iEMMK4Fq8f2KKAMtQCpOo831v1hNEcvaXbeb7+Obk/DOF2RQbPIixrItiGicrXXGJDDTHtVVQEaYCzGIwSEZZLcyEe4kEu0mf1ZZEOPCMxq0eg4SYF2HMEqdVmKDgNcGESZcGeBQHTeddzWa6SpikENLqq6VmahrBVjUIQkNtrYfZqmwoqt8Caag/X1NWjCaXsmPUZ0eAZUNWJoguafckxQdlqxPuejyY3HJRCw1TkXCbeb+cNzvAoDzyqbIc7LNYUxjils8taomGwqBVrcIPfLrVrVFOmnDvscdkTQc0R5+2AHZiFNhcMn9tk4hC7uYVMG1PYaVeiQ3ZV7VHiGrgp9ib/E7lTEqlaPqDMlp7kTmVVoHYe+r+WWey12N18f88Jo6m7emUvzIqmiQqoQ1+BCfsRtw4AR5DBDy5r59BnCyB7hECNdQVp9P0R2bNDDv2ZYfq9UuIRbhZOF3/hntIoVg+t+NriQZ7iLlJL3dyvE9AS5rHWEk/764beijDMOSMpSbBCt+jFJl1tXa0++7cNWN39KBVpHH5cgG66lqoUbkKLUOFNArmDXGTLRRJnoGAh/dD+gDNTUGVJuAPENOBDxQAQAeFplcXhKxJheeAGqPJBZdVPmJbtyLQ2E9m7Jplf+U3VLm9BGIGxp4UA1AvdwIkzflhGy/Sj1hUKcIaxHKi50t2IaIoyAnLoMNjc+3h972WpMiutgTNBOTfmpFSyjtwTsJco49btEgEfpikP/TJBMWHIdtCJ0mfNjdGwqWouZIdpR1p5baERjqqJj3oymvJ0DM//95Zz2Q4G7VuIxpd/g/B2WSIamLsKPH8dUmnhG1eduxvjTDnPqTFenFJYwpgxAlvy/f4zQrUa3uQtemFWOO4ZJVGN/xqyo0ZLu+BSTyIoJGxzqKSdkYaKgQkK0UE+QwOyuj2doPH8s+ukUJQvsafianidLIumVBX5jomf7SsJUh7TUioYdB0enORfcfAT0NYM6FAeftLRsuqyFjVsCKDA8CJx4MOkQR5Zx1ifyWbpYshlArcbHYyyRCakKOiHMNzOzlKK9ZFV2G1tyIhTl5ZzEuxn6EKrwr3ZGIOW39kaJRLC4+uVMd+zpdu4SVtaJEN+RH12uWJLdRPMFc8u9W0w6cbiVUuw8USYTn70pVF0PkK9sDX/QnNkPtaz3ZeYzKXr7VwS2TMt2gfzUItnHF88Jn7zkas0K/ZVdxNaTPF7NIFk17HcdVjk0eE/kZUc8c9xf+61VndkGeigCESERoBF+sEClqNPRGOuDFy0KdljcwXCxQ5l6XJF6pSIZKuJdXSSF16Jc25VLiNeVoVqGNld6hI0t0SjiV/9tHCJ72NJS+aKXZAZFb5oSEOktQspXPJKRLo79HnzssZbfTJcZzaqRlm3dDNHn0DJCEow1RtyPXRpd5RlrCiCk7RmI4+psFtXE5xc6kFwfOxkcbNCuM7ee2ifkin2Fo5klBnUAo3LZhBv2WRHcx1mzmE8sb4QciprLvXpVs2EgSa/7cN1uNkoG3k9XQ98To7+ODDi+0wEcHxmvQ/cdYNFJsg9OaBpiglnSXaSvKpqM0njCEiw3wYWrMxpgdHuoSzumgIXU5lMEKQeXrHjIDoqjE8uOYPACrDEIIFiBsIQ72hhET+LRIrrqMknpzdWFGz59oOXYlke8i11G4Udj8fLB9hGozTjGK5ni9kfJz6BqE7xTbJISIK1vsIlW6xuJotjxaCzY/AFuqhlVS2Apo1lBR1mqbUC+CKOZkZ3u6c96MWxBIf3mfeOkj39WFsJJt8t/WvndUvNYgI8K3mCPjbTbpub6qkZbpF9IonvkX04M1QkQOP1fV0vXMUWJSSMN7EGZEJhqbtCGsMVyjIksiwtw/hEEQVBA+EK4cE1osFNjs3XljyI2gxLD1GVidUfkDcNXh0IAmCwXCMRBeCJkNRmotDMvBUkLCB+G4WI70JEQXo0goQPxgXPnS4TEJo+BSYH5eyLMZHgRwhIiNnxBE5KKGGRiSJHTA8v5GC0gTFtpYdSBPkBKIeBvGS3DuGeRiZjXvOEdmbRCsOxuM/m7SqTG/28BQrF0ky6hBNJtr120j4XvGu5VuYfalOoLZTP7DvEX6IdTPvK6r9ddrCa7lfe0uq3RS0Pbl9Wbeuar/2RHSYpUhSYux0Swu4Sf2188LzfVqBut1okYKvOC1+2HXxYwFEbiB3ELAIjwBRNiKtoPnQHg8FSUhzbFXv/nJmLSwWCIlVF6RlkTzhgQrGijAkoO5yOSESHJ8WBWNSxF8cmbQlNiIuInpOLyV+PHpMqE5mIVDTQrTFRSBUGlt4iiOg2pKWyv8It0jQZp8k3BV9VH/UYVHZQu3zmJxhd0rK2j5Xa9yRj8/M6szULcq6AXm4/ixwme42byiqy6CRCQx0p4D2gX8CMAAKUG8BTQo/I3DctjRsFhKR4yws/C8dCvakfPhHlQ1e5ymDHQ5T67+mAnn60AKGA+9VA2zMB/3nLkzDusbD4RRBoYTE6NHZZnNvW10oBM8e3XXFFxZlFeSXb0q+2AiYCShwwKMB1LkEbQU1QZ7smnzQxmTfdDZIXFLZUriHcUZ9kzgCZRRfzslCCtSEGRqoF2aoROcxYZPFTdZ9Rz+0F2ZQEaoUVczEbGdj8JfxaGw+EPMGBYrPSnjbPmbNHZt5qsx+/4O02nRqwiXTG0mDPrKuVhDxLiQDqhgyYOpTsjpcvC/Z2s2lUXwIR6eeG3hCO2Yg7CXv5XvBucGsJo6O76iUTCRN0wWCjhJz5UFzhyGVlJIKXiTrwU3XnqXYVCkjhH4r3ZF2C/VoEGNrFcswL24txPAIE06IdbQ6vxOS/+zS5HsGh4JTEkb0jfz5yWIUvPfq3o3saySDmhnbjWguvvIA0iLvX4UHtNEU7XkX9bdTYvK8mkKd1zTxR+MN/8HjXLa+irArnPZGLJl/zxtCj0IRY+HCUFZ3AqokX56c44Z40ZKU5S6reQAgRMTasUyjF2tqJcxaO0zPQozaOk8fAtLpt0xmbouGYlh0QPtqu7j/JRnHLPKj1NpHIlf2na96ZxV1UiiuxK7YL5fbXZ4Sb7h3UIDaymdiFepxWBNdzXjqi/1DsunSqBeK7brks7uSgaBxJMat6JDelSsMxzkKYw1EJb0BwD8ikEdSN4DQdCU8DSQ+PQHypHtneVTJryhKIORgqzyC3M9Sv6963/YnzzK51PO/6+xXQIUTZ2M0tbot3d0uchLECnb4vXSF84G2YrUd3cvTbEsqUHnbyLC1O0kh+anXv86Vx7tXodQEJdHqEGbKsEoVVyTZxsuPzJVezRbGVrrcwSdvG1SpGZ+MhXiDK1TxfdUJcxeHEp3QMSjl1yjlCDU9i1bdIaJH3thVZ0+9yPRa7TeLjs8lUjxytnjbFb93KLVd3E2+blo/1t0CkaKKr0axQGqAHmA9yQBiAOIBSASQbklHvyb9hsxO4hDNR9YytRotQkSJXnr++R4SibFMhKjoEkWjhbCsIupKIrfq4LXtMyDwPcolqmvfaUnpH+LiE0ZBznmbpYoNu1R1txk+Tq75TOOIXBpJLeZhxfnbGKJrcV0wBEH8juyCUJXkzbpT84mYYBFEUosTClpvGrq2amLCBn6xHZUD4d3NNpeQ0FNiITmfyquG0riaWTTaMUgp7BYRr2bq8mWwocTPjVLXtN1o8bZR+we6qimMQ571Lz86O99IPmJK7ezeYTWX+88kiGv0U0/sw2bMLvt2/S2jopJS97qUTuZ09xa1XrHyJp3R013NLSqpO2pMteTGOr77ttKgZDJHURNEl/0wMiY7Kia3psiSyGx8vWC9G30+clwkMK3wcmS7yTLG/UsN0yxokYd+dYPmz8RC0ShCRmeaIwJxA4IjJoaN17lWf9RcLhGLGCi3wIRsp12QsPnTMuNURWPQUPFNANBI4JQQhgyFYCsHSTZLhUuQLX5aIhqLDFAc65WnIgkBEyXForaMcIjGL9XXbO4Ml8//jFCA1MRABgAKsA07Wyj4mUeCoN0lqMUDu8cBTIWHaWojuCLOdznASParByMRRsJxPYCYhLQqFq2RXmUCmgwmOAzeshG63Fp8MZRUGRyBuOunOWC9UFtQoCuiCAJgzHspAplVlwWv4As4PykVEZiqd4xGfAVW6p03HxGokxIAUErX1oReHoqUcxxCrMCUsFn5qZjIQS4Eil2/vMulQ5oeKxVUMY7DYOhfHcQB8wiFgXmh6IBBTANpZ0xO+yFZEggq5HxNCzcKCJ/EdbmOnmhU7NhgUiRXeRxKQwWzNup7v5q7hJOjLyILsTSMEfjJdcQzNHomMgMUq7BpChI8eRESsSBl0UJvG9R/crJcetnXf97NSQE7Ze2ToCmdrJuOh3ARL98hqxmWwuc3xP3DoUt9Ku+S1oVH9WntS1eExSI/FITCWsRNQnk90Wvz5Olpa7MV96HsJD+gTQEM2YyGKQqRuUZFC/sh1cKm9AocqkN+yhTJXsqLK0WZjo8UqjTtwYyNCOvRq0YODZHTxa+sSVI9KGEjbEilrrSsPqGRtxIyQ0zJn7YycE9p7AozPuuzDumKS2JOMhdAs1XlCZFpsrF0CHSrqU9wECfp5WzhKJ0mA9FiPy0URhGifTVkyhctGpsGZVSF7SAbmGgwKAZ8Ei+BBnoZmo8OeMyBBqXCHhXBGpU7J7tzJvWtT1saOymVWhugooRv4OUiWUbnCTz4R2Lq5VSutatfYkeUJHnMu3zE8/XKCAvIKV+iMQoJv/l8xCh9Pqpc5IbID/Dz0sIl0iteRFZcXDMujvFmDdLaeCiHQvVG+C2HklKChFSt3fUoTSjlZT98rOjaC505jdGNlDRhELnjxCynISTolEVyixB0qLRZRfB/JJkoE191xQjJ3Pp5qgDRm1fLmyzuTpaTnj9FS2XNFosucu1JZz9Ru3OPmkbZGT/sGRX9prra7oWbnARuyfJwuR5pkZeZPye2pBQrUJznB4/4dK8yVRIQ7pxHAsX2p5RQ1ohEIjhv7+l09pRNy1mylu18ZqbGTe1I8/3l6L0hPaSY2LFudbWXlbAy8nbqvicjZKk62FUr7ZGxqKRBQ4enLp5mFC2OvrIIMuzNZxPl52sX07wEEGJA+M0WEDiZu8RGp9LFpHwSWG36r5h9bXK9TG3hU4k4V4kmUDMRUJ97XUsAimiTvomMJEaYP7UH0fVaM70NDod0MLzYuTX/I3AiO4s73BMQIIW9+MiVzAmOIXiO+VkR975UvYo5/JNSw5c+SrPGNJGX4IUjIyrHOsNMxDjN8+t/IVBGh9CH6dBEQCc7Son0aeF2oUuEC/lTK7T5L46U+iJ/he6XNl+a+FZ4vI0Jo+tSltE5LRxmpkyJ0XSctYkJIKkx69TlTB5IzMX7hx9iwzWfqBpTnQVYO6ZmFaws60oubrXROcfrcFEguyUJS1PctIqqpCK5Ywb67kT5ImhewLCbZGHzjVjL9Cs8/JJzRywY8dlXy+q6lksUFEhbdLawxq4dQLkjphBDPN/gi0k6+kVa5I2CqQtbV3k68rOmpU8h4zIY15eIiE8+LyPfv6fjmbYrYkxzPbsXQC3TdSqJ0UohWMk5IlLUTf3o51SX94vaUjhRFuX/kLIrb48SdFxSmKR+wlbRimcRoFFonnEce6WVvbqyJ9ryqzLKTwVjfld6KEmXTVKxi6p/ILu6soWmtBlWY27xPkhYo3qUV7QvzJJ3DPTfzkSRrVizgnZMRRBAZcvURRK81ITRUtIN2Sa5suY94Vknrgo0QwfkDounR7KOVlFCBvFXkfaiYjW3OKJliJB1NpE42S7oprO2XGyPnb6nyc3wKhB4qjluthlxv27QcDdrYyQqkLPVOSdPXbZzl5aijRx+npRMsgN5KqS6eBTWUz3Ra4ME4tfmG+Ne/OeRvYS4PF5pahICMtPVNTArVP2BPukZkuyA5YxHVyyu7FATua6Wmsk16JXUrSparEa3fmpHSIDVxJhvvG6g5S9TJEziSHnSLfF2mi3LEMzLteSKtUar5sukeKd7MMH2eVrdGySfaKEGWGo4YnabjQuVCKizGBxm82dV71l3lm1t7j9IgjmwYUpyLjDkTiKhrjltGRVvPCAqgYLS5PpVzJ5kJWXCBBzHOTsNu07j0UbzEeEXdsi+iLTVE2mN80L/LOSJCp2I+CJR0UmNyOSDp5IhIc4yWs51qPMKJwjLc9sb69ICNBz/CpmwS+cx/msyDcr8nQZxzWN3sNhkhSKCdTzd6I3SWzojbYI86+SZ7Xo6brs1MF1d/UU3s1NfRtFUjcfpC95744pRkvpdUVV1/sotYXDZruoxiqeLsrNNBXGXR3kxxJJe4T6qDiBgkUO1SeLb75tggJHKxcgbXSAhhZ8ZYuJIiApfcbprizwotbw0oUYiQdVAtzkmjXKZWK3fsTuWSDwKJaXCZHqbsFSILIsGcAbNktQr4eZosBvp8adDSZUIhZsSDZuj1uvjbKAoJn7VwPlRX8fkXak9Gq8IrjbwK9Uc3OCI0Kp8IpLBGKvmz4bjkkTJzQGIPgmiIByyngTsOzKIi5cVykXgHWip7UaEkwaGBYLhOfZ4aKcMQkZCFSwjfxNINTDVHzRAsUXXZLBoKExXwGBQwEQYJsKEbGTTwJCaoYwAh3olXBxZBrI0HHCoS91kOSOBRlawV2wIUcZPPIfAQTVMoB5FQKQHRbKhp/z3yDDr9QjNIEt0OChN0ucqnbAMOIkIDPebgPggVJhm5XaFGjQKq9QGzIZOLeb0mSz7ButCCIBkqNaqdC6D6JkRDORX4OH1hcnO8jBNkmu+ZsgJl6sw9kQNiLoDj6qUZgZB09XhQQZCcET17uOFyIiHSuGg1sumi7Elr0a4ROFQiUCmTRhUVV4KAhe4smfeKnDRYU1nJ8oHqMKCBBDoovW5KCJILW9BI44JXaaUMsgkcwqQcYMmsBA+cECiIuc6eLAWTiVgYXmXxQozAx5bQkJasBATNWsErJcN2uJaPixUs9EzcuCBbNVHdL7GyHMLxCkwyqJZDsxWq6BNQtsn/Y9nvY3UUF2SPYMFQg+RGxOxPOXzSpFATmCcErxI09pskO5kJy5r9NJq1fJwIU4Kvmsl1O6HaoHnyomZB+tCUXrIOj71CD+zNg0+sCrQg6uoZDoCHBS46yBJZVfuQtfQrwYCk+Ly8+a008gWEAiIaGeetO0RkEEQWURBoMXgpUYaXMGsNJIBYFcmiLiaggWFopvZGjFbmQxaqDo1U0cMJKkqX7YSuo4C4CDjiIwdNU41KrCA0oFst8xkgJmYF1Nf39NUXPk8cMXEi6feclsiqsWNIiFhHRQgIvohIL1cSuu4QLupbCQZCrcjouVPTXL5G34msi5WyeDIToENj7Is4G+htvzqlxe+iAq+I0LkPCX7VEWxMWNzZo7ijFYjaqbBxFF6Ge0MuOJIfaZIQA8sVEv0bFzBYhJBvT48XSYIoIIHI9Fhf+FYiE6PK3sOHCjKlpoB40YfHFCB/s0g0oookbMcXCnF0wpB5G+MjRjZHaB0ybDggkq4qYyhgCEXkspYJcEDtxRXaoUBy4nc56iBVIhivxV4bIULfojuVGRp+aCr7NUKlhj4p0TbIB/hsWfsyUnX4rwKo1dXkXMyt8XNBsJ1eMvsOCcPq/WFUy/tlR8IsaCgVRV7wr51PQkoOqkuLbfZ+eKrLpsBdGJU6EbOnH81CT5w3ZJMEMzi2s/hocqiomcEiuDrW3g5w5gw2+MzOjmCw4btZq+ApJYNkDhM8EiA0NPOowHEmSUWglOgkmWwFHRoVJERoUIOmigwxy+E+KosTsQ3kpkgyKKPAJDJBlssJBDapiTYlESbhJs8JpjGlhOapstUwhY6CFxe54ZOOl5CIj0NJk9IytzI2JoRcxLev6+bcEcEArxIfFBHGSJYZM5Hx22QyjHsE9q5b7Z5883CQZazdBwFyaIQmv8JFTI/9uajtj19HTp8RPGAKKcbmJxMigSZuR0QgRUF6jbIIQkpCrD1y0tLH1Q4y0nYQHliGCsgzwsReDToJCd8piSvtPJHgk9ZAcSEhiYW80kIG2Bf0OvD2Agllq8WDRIYbTziroEjJgwUSZL34oeMGKLLS86YjfsC3LEBTa2jGFTeGezMGqOZxBFU+hJa4MwiISZ91OGWj8n4bQ9AXisi5d4qKoNoKjIoqfk4WdDOjaoRWV0vI6upcrkwI2Rq2N0hlf/9vVKeRtGW0z+S4ZL6OtmBZUmT+Prz8u8qoLhoKiDCS58z1tbwbs18QPqYL3eK+sKFPl0umoniZDamLGBIVRGhhjggmRgPUZmIFw1rIFsUw2U6TFAGFAILi1toBoMgybAGpEjSgaNjCRWkDBxa/TvuSegNLfgx9kIGMzwKCczeAoSCAJbOKzCyfuVBHAaW05JoJSZNjJJQ19Ai2io7II5OPDjhVl078oozyR3rGVBv9MIJH14cDbqjBfL7BNFDg2RK9ZCPRGQdqcCvBtBJb6O3yusLODeZL0F85Msjx+nMM1nAVzeM+4oJtJiBmIuU7I/2BOkymjZYwACRn/+MUIDkVS/zP/Gv8h/xn/Gv8W/y//Kv8t/0S1p6exm0A3gnAU+DC+AO9WCITJp7UQMEMGhk4tcaXssulBNRhiXN9qg2808gYu3zp6VSRNAQUwR9wXCn2ASGmqkvT5i5wJCPk1KKYJlhCAUCxYtmPM4KLEGKFQP8mv6Q5YgTJJnOwKXSqEI+BJe5V0GixhRhQVuJiHyx/5X2gz2optTgmdbXKkXl9rCBhCyJshbvI+dBx3klzBe6QXtRL4ymmqXRUE/fiKCJJXRBEiLlZC2cgy+9PNXT4VkYYao2dGYXzFEngWOuC8bnu0imIxwkhkH21Ws4PGtpgJrK4JMDT5zczpOIiJGiT2iuWurMLEKHt0SFQxDsiE+UOaIBwIoZGwz84EhBj+PRh7yzwWWeWNICRbxDV2GWIFg8iNQZC1DzLYwtzQrgoNSlaRRqxbAmnFosgk/0EniBpagVBAmFmUECIWXfCoVGQxceVGt5GwdAqQXcCDkrTqzR34l8dJicFgwgnNjHz5tNNwUMq6uDoo/3e2WdVCYyj74nJGkczfwwiPFfTJpaRFRUTCrpCDjhk6xU87wn0mVMFKYyh8nC7qn6Ojn9jZ+Lotz8YhA10bpSc81bOIsxJWOHmUKQGZw1rxqAkoEuegbSjCk8FFt9WDjChpAwHUUKhxaxBzdj4WUCxEIJjVTJa4IAKFGQzMVyBgu0HrrFOa/ZwFmhd1WpAIXGCDIS+ktHUAeJ2S0GKBpikirAqsaCQsKVNrvl1LkOzQsVedUhpvhlVxpMvQ/x872oYU7g2QOaWZzF+a6qnQwymaIh8mfV1gwG6XFSE5DpHOVzIyVY3ZnpUrvsDxMicFfgjwbDi6GCUfl6mgqILK2LyRTbZZzIJ2mwuuCrDpDfV4jSqsLli41aY8wzRwjkukItJnHAkmSdjWaUxw0PVZOm66FpY4zKgU4KCwsT7xx5QJZJKg9k5u/fvGBLkTsJkB40QUnb9E2UBokW7gEqjD8ifCxgsh4l1KBU6HgQC2DxkfQEOEVGUJWUWIXqC9NBA9tqLw+qfDN12FzCbENszZ8NJcnlMKsPJArIFb+iEDoNAuIDZdPm2dhQLoC7KnTx1eqJPQvW5NhZSoyyIykoodhdED8wXBUX8aChQRSPMvkxNvD0wzMz0oM9TIQjKo/HZ08MkxBLzwrFamvyiqC4sQsRgmsaY2T8eQtH1TUctU/VPqx45NRVn5oppawJFiouIeFDAk0VIDCyyXjvmhThC2jFXQ3twEho7FRwp9v4YV8sHjBI/VkYeb2g0OFqudaJJfBgw1cdAi0SIZEAo8pFLr6UydB2Mw8eS4nq5UXUMybdszjcIyJkxS7QkdE3UlNjRNj/T52kPCVjPVU8Dcdp32FCIRbKZCCYXGUthkD6wqCgGbAOCMUqkxRwxZ0gpB+B0zMoQVgoIgD8ZCgX1E8S/4NxI8JwfEIP9KwIQTD0qKBnEDR+l1H/yXsVaE503/SK3xJfUwEGWRemszsxaKOO12ka//9Qwh4yUq3E3yHDEqqRJbk1i7hpCy9QS3YaLHEapQgpYKtLqCO+d4eJoysgIsJKeVTxL/BhfDVXZKg8IFD62jZij3+YVEE3EbpQhmdEivzffU5VqNh9EROSRIrm5y3kH5IZlF3a1OFA93d148QM8bxpedQvMUQ/hczzm1hDpp8e1SkKar4ljxQqbZ0kalavWTDhXbHto1Ic5sUPmH6L/u+CPFE5nL0HKEW+AFGYLw/KgoSlV61ZJGC/7foXkRGxKBeDAKaCKCODNMpLB4TrWfLHTEXNRQ8VwALxIAmLU5Q4EKAVPSKzUT2pVKkbg6TgmhwYEJSRFq4STC4Ys3IDJ74kJcYW3bYOlDh5g3mFowUn3iHja9kWJzBiImPzS+jlOINe9U8KwuQKOuJrKZkPC39w2Cbig5tGVI6Ebm6w0kvqq8ipoU6aQQ3Ji9vxzybwEuy5NFjRGj2U5vZovUTDemCNfxPh5URa6VMSdbBcQaIwtd0TEQ/HHpFdicj65SFEYi/WU9/wtQ0bDZsCMBKryQUgWDYdSAJtiICTWMG1m0C7J8bKK4HBapAMgqBcdcHJ8PBztOzBWyfDSwFkqsLM5s63CRJAmepKPAY10TIvoMEuKIihQXoLsI/C1SAIN/0UXLYuNDBozRp2CNhYaBzo0/W60/c9bIcKqQMCkmyUWFlYDRxI3y/G3savUkGBQg+qajMySqUXHQKNBZrb4iLvLXFG7dg+CfkDjcRMyYs92r7BvYZ5ckretS1TNrHFjEVLljHj3Ep6uhR/7xtVJHclVTw+0NoCNjTaQV2s6V2cqSQ3fpZSyI+7pV35kqC/WJBJogis9hlU/pYynbj9FLiiVyMaTfWVlXsloIGcSGH5F8iQKsI417jWtMWaxfIBHcpk394iMKKJVQi1xjzuz8tiUeCOnPqi3yUkLmmi/HKiLxAVSESD6ShQzLfmG1qClWgKJ32vGaarzSFnxshgjYRrJM1jJR/T+q/HHvD8mkWd/6YUKLJ7oI9FW9FllbczoFjIakcLZIz3IR4FDE9OQ6MgFoM1FALMwPRECwfL1hfcLhyKwHpQKHhFfQwIw3CERqkMYWRl3Qt7Gf5CIcSQ24fUnAvbpV7E7018ocTzZprxGbfUE60/YjMUOg4XwbTsQRi05RmxoRIUITfh/AMiIxgeT3OrS0YoDDfnDw7JRxBIoEFyBtZK/YkUjM5NlHGzI/tRE1lllErTFFh7p71iuONNVm19KhEWmhwqzR4zuCBtOfFhQo9W1ypoX33a75NkmhmIS1F9kTQJq2Fh/SWL5piSGTW5qViA80jMBAZtNdTkVfW+jKBSIVKRHoVpHPrypJiWRb3rHLCHJG399QoM8//V4FVECVz9KGUMfUELlSM3qD4TMhgyXERtOYaNqhEiVCib7gnZrZVcJDLo/8F/jRCUiwTKuqK+aWX/gzU8m2rwFQRz9zxTu+8NlSBp1pEgIywIsHNlZlD7xAwmJdRZLNkwg8cGLDLaPWnokgJTbHcpIMcRmJBAjQO81kqIVaPBh0JZedEgY1b50WIBIhlgsEuZ6ojz8FCIpEJFyCKl/dFL5aF1NBpAOQHNOyKY+upCRL3iCTgqS3PBDfhAK02r7AHLSVUMItY6E8KBmCQWwNEZCsRnMLzs28QwfPKkrD9zdLqZsH4uvIhgEzO6BkD+B0UJUJ5STLWNlhEMkB0ZZQVChfoE9JhVYd2HKSLmBPiH5u0Kl1yB2IzVAuQOtplus1VERBI0cVBdxW59MPDJR5w2TGJKeLKNorVUTKY+EhYP745tBu8A9Z41NfPzXCVvtLfcWgDAos0EVkmAcMINecRHLkSgY1hYjeghD5qzzAQGHEAUJPD5giwF2hVosFPl6EDBCKy3UiCaiFhp6oKH0JBY4yQo2m/xMtzFNxBHwHzwpzxFhcMPvAR8DKtxzZlQqyQdkQDBQfwuVQzkERYviconVZg7MJibBEVXN0Ca7p812aNjQgobbEip0E31/ghknlE2+d2fDQUjWkWyImDpuSrDx5I+9fHj+Sb8W8asqb8gEQSsIJtKZqkbvJ49QRGiYl0uVLltGAQUUqE9Rt5czYaBK7SLUDDRGEwFhItg++Suwc0MdLKJtCQxCZw0sYMCoNEduBCuSoYaZjKokSuqQHPvGlgQEUg3FnjYJFClQ5QGodM1XElUuSALICFntiBATEZD4iiYSZLF2ixSPV9kGlSfF6USfZZYBFzfGM5ZWq1NtBO0YtqiE+k0QiGzIvZ3omdeBavVwu+6+Nj3m8ErJNoAET/0myRSZhCY7ZUyosj/9BVWAMpxuWCIzeS09I0EptkVBtAvIM+HXwoeCmCRVI6Xam54cAkN7EQsULv20YQIbDWvCono/ZAh5pGi7hiqxgFHt1CJwJeI2GvB4JYYSm+QZeMMLKNIKImd+r4MMDXMQ0pIoP1+2J0MBhSoSfBYOcabARQ5QIL3eekAaPG8BNC1qNBhoWEWBkXdCoPG7gsWyyIjOJu1XJTt+UshOciDuF/K2Ek4422pDEJcVu/o+JxNLshNAMkrKB/RV4m15VZNsJ+XkjZWwr9wvJEnWDShClfjLQZ27HE0ibzeCp+lOjZVZ0xF1kVklsXNEzj/kGgQ88zc410ylhyZUYbIrSGtiWNJEYNsJEiJMh92IS4z4qpg8wgYRBZT10jkdaaMwWTt8WaQiFvEkSlzBeXSxca8XGghksixvAVDBPbulXEGThX8q8xjcdy7RUqiCRUzhwFHlfMjg22yQwGaCXz6RYS+1W/xdZ6oI29VjXPhf/dkwRWaypmN2cMVSiXtbPZijupUeyzpGRWXt67X7O+NBt+xQ6rTVFWsplYye9FsH8HNriFDDZRete/4NVa2tlG1c8Vl1Xhbwpf/q+6yqCuFfUnyRqPTF+RWpL2HJgEV9eGN6wsNUCKlOYbxkggToqN17pTEgzebPK2CmuuCjjq5C4p8/iMLXHSK9Ms10mStVRIQfF30sxEpwoKusbEHFSXhSAV8r/+MUID0JSAIAAcwB5AH0AmgCYAJsAxgCnAKm1rCdiGLiVgY/zAfhPfN9rgqoWXK7tSTUgsWuJ1EDgzgUJ2lFUWtOXTRtrOoa7xOLuX7NXVdB4snlw/l69O4KL+2GD1gVnHThDHCk5LZcu8KrvOjE393+nhklTc3yo+ZJu4L0Eu15HytQv6p2c1Fqhs6I21cylAzRxTVpU5fHI3+gnRWw8K5cY1CKVKfuhl+XhiZ6OrHHQxRINJS8p5cXEGSYXJV1kROzpTyzsnXTxysw+LfsEvaKD2JFRJHUtJFy1F+uznXJ8k3xsmcIizVMaprm0rbGm7FTQu26X1aeeMUbbZUqcWUWdze/d0dLfjZdQsq2xSi8UAwiWU/mV+ZN+9zLFjxWnXzPLf6lfbBwcTK4mtPcsiBncpQ7/YqN6CHLzZq+pccZdx7u3Nm6qPKlnDMS6I9I5KaaIc9WKdfFAjKmNu8LP+5/AqSKVTVXr0susok2tv1t6sn/LYmjuuOW0k5Maqi3ZNT/RQ7nmltJGWx7E9yR2ifBUXZXRINGzX9L8gm5mvmILBIwR0u0sXtyLWKjj+c0sfZSNv41Mu7EwtvHCtBkRYvxdpvUTSrvNhC+xPvmDd9rL99lKp8FrRO2a3Kpiiij22yt+ssOlllrGJL1SJkazq21AoKaG6sksLGLqdDx7vzV+iXQJMrbSxLFu5p16qz7RJblKtegTLI39cUmzNAc7IkZN3HM+/hwOc9DmQT9ErurUjdLuoE12kb+S7fBFD6giQpBb2W4v0SJIwmnq3L21VUiich16WrYMS1EirmVx0QR9FLqXyBZP75GVp0Mp1kqhVS54Q/7xrH7yVxh7dGn/lZl1cXEhND4Ue0OIfWiSYIXs2L4iUopEOZMy0YCKZN7oVSzdxoExCLmZNjP2u8bEK7JRtXW/GpUAFCwBSLR8D5GBmIJyUqDzgbiswNOpJHyuBRUvijrt+JjRRf/awLnTlbltXITkpNHeUVo65CLnTnCqDBqIVyuJucCDpO1Hbit43fRFw1wfhpu3pgrd2LIS9ilGzJec84of3DkvozRGON2wVBbmpYT/r5yglpJlLvqQ6ZG8VzF6fvZpTyzBPqJXj+hereeqrbZEWze+Mctv+9aTwQ5QbTEk/ryR3ivqaanyxKKLf6NLL8KUCmNLzpXZZhAQ+JjOwFhshG5wHRMMVbw/FRcTL3zRSm7B05WlqJVQ3ysPIXBSxjMFbhcRNiHXNlZzViSNBkS9vMm/TrCzkaRq3iAvUUTTnxKMJZZNKYyXy5kmYltpm88h9q6XFGhgQ9r3Z3rJeiPl88pP6JGZ6kOFfZsaDkzCRZbSwRrYdqU+VghtTGSu23nFvitY3EGmGuIv+9FeIomYdE7TL/PcxyJDPrFsT/Szbc5o41atsonv915o1gJmcp7jIkcM7anJNjYiJyNMzRJpkVqj26jckj2QyWmcEWl4+jqIpp7Oa7c0nbBKufaovL1+E7mtZurKoL3CRIqeEazuyWTL5xxFOq8UtxlVJSuE+3BLKq4nVHnRAIsZ2r1RvlnYjyoktSIyIw2Gksls1efHNfcJZmbbLPokJLAgxm/JDuEYMTZL7BIvuQ/1TR9cy2wSTY2Wwsmu3qYiPnCcY6l6N6RO1hQW2/q6US2HGBLX7E2u9ZOZODdOuuYsTuydJZLr87CztpmvX2yICPH1UObNbFU5IYza2wk6hCikVpGt5kEN3iCR3XI/rQzExEjSMp0z8/awqTgVFFOKQxtWxkRMu6U/Ur0s5hGgjaKL3qmy4iXYPmlXsWxn1UTUHyHBBfEUpOuRAs92uuYdpMLoS4llWKVkp3lCoyGjVRjx4WsqZxFBsTcsY2rJlMgJKPK/Vm+vaG6S+r/GZ0wWSJnsObdg6oXU5blLe3bIycs6t+UpmR/WupU1iI1UdW9UcsPsHMWMUqTaZYa9s61863BDXI7Tqn2vMYhQoMmKaLOWYirstYzwzLZaLSjt3grkSe41yeYQa3o9J6eSmJNds4J2M5SzXxvKJn1vUA5spMK1FeVjjJHhypRbbu5tJevUDdBZcceQW83JlNuMaDGa/jFNepizybLiTaCnZyoRUli9dx1oimeW7V2sKpG3HPslC99tSPMoWTBe1yjheQ0KIFmyrCtNUr40vpPkrzpg/fUz/bcQabuSxFUUY3+WWyszGKDHC/hzl7JDc1ptubYp3mHpER8ZOYyEie059X1aE6xJiSrMnMr3lSsnp1bwq8+nat8/0z1WJcE9M9tFk/GkynVkj1P8vdvilBoyp7v4Hd0zaKOVqWZe5qcSO61TznXZnYgrRzJPIGniCvkeBRgaHTvyXRciHi2Eh9nRvCthI9YLXJU2Z9pCySiQ4TOfLhLAWCBYU6QTOCMEjjBZRtgYNiwv3mhQkDBMU+kyxG2lTC4hP50IfGnCJV/3eiB7YIBBwwJP6/ksqJQE8MEKLax13hvAmTBRALPgoXRYL/hbycbC6MfLBm4/vFjJ4tidCgZXS7gXTe1BGL9w22atITdfVDt5kzcUGtnoGEz/aWGSrR77wCMcnkjIMdAkJgVBc8CRdoqVaFfCAkZbJ7fOkt+LEYIguKrwBpVDljyYO8PlC2Ogw93S+5rUVXm5GsmpCj0SPAhAg58ydvUSYRTFvGrMq6bfSQJPVQBQEM1JLDGLcw8Tji+SVwUXKfCAxggSVEOEenDvHVy6GQ1vI5Ft7FEw5oIcDLZB5KClzzRS50uuMkTwwOAIMFxsJk7gOP4YsgrBbC6YomR7FMoMspF0CshL1s5S8bgwusd7K0P+JddMk3ZzBtxkU2cRKgRfFfBadxiSFe78Pl8IarX5UHhdV+t3VnQi1cqEFSMZF+MLkN7/cM91CL5UoL11JQSFt4FFwmURpjGZ7moELNL41dIkhNI+plB6UWXrGkaKEqdyGM3mw+phlZnJoHFGlUilDyHElmY0SsfvFZhJaiRo2xwwWSXPCvtNidqlii0nBom+iL7ASsUHBY8hgGcFDCCMNWu3OYiHic6jRtImiQhpMik7D3BB+KbrpkiNNiTTSujbv/sytVNaTQ8yzBmgrPpT02/ipM3TPhyBlkP8Z3VAjp+UveEY7Jc5AmmUFiugJ8q8n8nFDOP/PGZokyK2P/UMp5gHdNFgiZSdKXmKBJVxdtFdP3XhAkRnlVA5BD2Y9LMaKXJZSNs8WUwlhtahp/iMbQIe8xwFpwNMJIceM4PFkAooopVJcMN3t0UBNNpQFCmjDE6u0F9bY1xEBp59+qQkOZQEmoYcZ+FhqCx8lcZwOIinTZjemg0vkiAy5kksxAwfLshttNUSDCjZ2R1URQNGaaGAFCJsFxc4b0qHrvfuTBs+CsBRPiJEsbWYZI3dPObKpE7pD7igqWJCJOrJ/BFMmtkgbJUfMme/YTNIFKUKgZgEenpLVQJtq8UVBa2B0r1lYcXEDjUIVTOSWbwnuRoQ8suiYidjg8YKp8aEkkirCS6lfWha5ElcIcMWOLVYCyNNMFLY0YOFVElQWM0mHajSfiiTXhBQpM4kESmkQQ79utXJFpvGLE2UCRwJEjRAmVHx3AKlulzR5s8WRFLURi1RFMyX3J9SFQg40Onr2kXbIlVXhZa6RTY8B9Mz7KggLpt+kyrkZoTX5ill/XJs/gM8vtgXRkwaUtcVPiL7OjEE3mZGPlIMtP1TTAzOZ9Yqeo/sqRSRwsFJiWSpsZDeC2cNmGpBAhvudSwrtMoUMKjyO9h7bTYncyWHEuLMiBMT4qISUdOeIBEoaqShl2H0DxwFB5ymQjl6SmkcNMD02RAobgyUHDzNL0QvCZQQcSUFktPO8iKTi4agGALwR8sUZzhwokvJLfyxgypAV7TCJQhRKfon9m0b/KcoOf5EwD5RFVCmejNRvURPElLkqlBABVe50RTwERj9iqF0B1GAu8+OLlExBcv99MTyjrCex1EgOEDSqQ2F4hMmOInBhxwmLpoAbsJs++N+msQaIlchGDdEAtcxJN1XRtQFNEhIicZDteiWg4wgyy33wQMOCCgOMiAywM9JHxT4qEorScEImYkxbJQkMAQVedc6SUBxtjaC3Rt2zac46ICQIVhJJgYV7ceS+yo81cQPmDi9n54KMJyKaSEhe6wgUHoHBkQ+VzqOwXCCeFbqrhJVzO8TdrdQ91h0WES6PX0dComtbjCMrDwhEMamT0MjrgL6ESapFYj+DZxGwZ07Hqb4b0sUngVcwdP4OrLdZBQRNcElTL4nT6rpqSRX4qwJVIrxKcVJhYZdIjLRAyXe4/BYl+FfLBJnF0I90VdlMQgEmhIgJ6NvgQXMYamLv26fNdYLBKQSuS6a2NlrbGOuMLFIGcmOCCJXvSDFc0LAa8NQh8hlYf4+oWPLmiwsyIkSuijlHihxwGn0XLh5wsTg70p1yLwx8TehcSHUj4kii01HH016kwSRq8iJNIvpiJwrnIqQ9bKWVZ5LNGrovaw66tETh5L/+MUIEB9EAFgAZwBota7oCRBIas74Fc2cys7T+d93Zp+baUc0WZbxVHZhzWTo/b/k/dqmSXyZC2vvkReo5C+RftZX2h9RKV3TjO261Qvnf5yuueHrTCO9w17TMFVc983yqfNVXDpIuJu1lCS9DTEv+S8EiRpo9VZWBELT00/YiDrsmy7m+cF0g4XiNj0MiZHqIZD4IlU13QuMotELdxFoY9lBoeMMXMmTZux9cIEEDKCLFQ1gOn2hMeYKyMP2LPpgE0SRcIVO6foyPiaKjbDuSMnOMFuhK1agpdhCQsDiJQuSlKNasyqXf1CYl6R3IOF2Bu37pIame8hzDKi5Sx5JfKWGNyzMnGdH8Em892K1o/MfCsyohVC0jMHNd5X6+JHwqOf1c7SxGxITFRrZW5LXLb7zRLndunJGpE6vSKGsBsUU3o4lduOdFPX9Haa5Eg6Rd/Ml1mxRNdCQqHziMwn/S12zOO/kpdJGloZkFhJw62m4UESLaNVVg84R7xc9Sp8UiiiaeHjxTQeWlE+lHsNivZJKw86UZsmN1+6nK6wqvy6WoZYFmVuPWzWuOWVjPpXlBR7eTzb9W9SUpKEEQXILQICC/oB3ZSHxlPdY0WyH4XEZkXdp5IvyJxUzVgLp3eSNAM9OrsiBc0G1KRaCcNEBM7MOFJLopHZ1E2iqJAKjoqjRTXUpBJImLsSqsXwQdIV9OYWVCopJoYXJGIVIIMAtYgkj783HEC3J9N7HKhyJu0EEglWsRbwYOeIEloAQTDHNDJZULIUTqc58zKIxtAsLwegUqDBlY3ApeuDoUIBBLM6EoSGibHA9E0VuMM56TeGnwckzFHXxBL6omeVsb2uKlcepGyGocvmLvjL0TIv6Ao6jqG7CO0+BszQZV838l8XudEUXfNxXCMSrE6RMiCbpJy6vJLFFSrQyhMVN2HUGKZXyauXbKBtDHGSKb+guTJaT+khLuTJCSwwz1oibLDPjy9GAkwoU8/OxsUeEiDFx06uglIskqIeSTXICg9ODZ7W1CtEyTgFtyW8FAhuLF2gltHSwYX2Wei1oW9VvjRo2JSyQr6yyX6SSMi2kFj2zFSEUdjDIxZsLUPMTPoSQLo441Us2N4HjJAgRMG0zsyF0FSSeiBUKhWbUaiigi+WYRRwXSFbmF4UZtN3XRRVMVRg+bK2r98bqtoE7s8ad3lCAbbV7EJOr7Oonn9dE0mA6Zy0yV9h9ChJVXYb6IZfL73UktKS82snx35A0l5U2Y8WfNeq6lSu2NPHF0ckMixZ094TGthq5nPqE4zIjEvmp2FGo2mErQChIYC3xKouaBCBI8K9sJWvAMWiFASbSFxaH9mzTSoheBrziUCEAJf2QgNWYHBd48CYEtkBtcLSNJOhRe5Q8mivsoJNIM1OG184dXCb8P+v8QLI/34UC50JE7H3BcYi+ID4+FmfCIudzkMCKu0A3gMkXYJjcDwiIvgRRT2m0SPOphE6FGEcm1jo6YDaEZ6j1T1IEupl3wjE8T0gyX+gosNmbsR4KQ67mZCZYZ0Vaq7KbRwS0hAy8GCYsVIUK3Ke+sVQkSTFDWgQUM15fGETTOIlQQaFPdMlBAksGrPFirWCogGEFCUjqgaOFVx4BiHFZcK0jMPFBbRxwTDCqjwns0CQqSCV7uglFDRxk9NI8CNETPLXNDtVMjGbl/HLmepzGi6BF6Yr4FSr3KYV0dpNUdItYamJ2/eXbirqQpFEyaK5+2WO9dhIqdJsiZlHMGwVuWN5xcqMKyCdCdyh+ddwREPBFO59pzZUCWhNclEJtOJlVYUO3egEUSNLte0/0LknSBi42SGorjwMF+Wk0hJBBmYc0pVRXdWWHeFkCKxRrgrOsCQGFVFo/UCCyDwiKccwaeIJtCnzESChRCvRqSDrVz14lAsH3BK1yJ7jsAMMnNO4qELdIO3oNOWTmaee8bVRimQ6leM5oNxbUQviERojc8bQbCK8nyzxO3phMU7BOgTIrshyRE2SSE+GTgdMMTFSzqKLxF+R/rNXdk1JkBBMqOFTcCXKRPrlndqFqI0A+IoPrG3XlK6zoTd1pqxVQIulnPnaA+QPlHF1yFJ/aGy7qC57AaczSBzAje6FRZTroZdU3gSmgnsqs0pAQpNCcSiV0akCYst5238jwlMYCmhQQgmoxA4UcsGvIWZC7DQNUWFFSokkNOLuTEnTU3iBB5JHHF7II5ECBgxchMdGEO4j6wcEh1ryow0c7t5B6ahkrYqxZeDRX/lxmS48CI2wuaUFTrsRgbHYCNRzgg8dHRdzAuRSIWZECY6/IXJhmJ7EDwqBXqdxmBYyKofSGRsE7P0EBzpURWJr/Z2Q7OlifhsjcF1BIiGbLNp0dFdBYtMRSKrUi906liRJJXISCOiBYtybJ4+n56y6g8EJ3mQd1eQQMouLULTx4moaLBAwyhBA0hAYp6AttyzEFgMYW4ZeTKNBpaD73CggxMxHdSAwKIhx2YyuHoezRH2A8q2gBI0KKIv7MhprM7KZEPRFdEr2LoiFUEHCYVWWRUd5/ytBXFd6ZwqM6pP6Lq4zZUJ0YLK3F8kHXS9S7RsrQqNppI5BfgOmDPRycnQV8IPxGStV2JF9yGHUc4uuLp8dMVYXM5BPKXR952kbNpcNiWDKqO+OkHkSEV1wesLnqkJy24ONdG4hZp/qY9hhBzm9mqUTuaaSyv7gekRROLKkAxdkt6K0jBAQKHKhJd6gOZQtYgEBRuwQL6gwgwCYPV1VThxNQIVDcGKTIc+r0kw0EkohJgSuGVtZJSBB3aqTF+vF1vAkIl5YelNkRHWjTwbcFVFfqlDIunf7QeXF5S67RoseK7LvaEzDARJ34oCvARDoMPN1TDLNXkdPk0yiLv3PiOzuxHUe9TQfxgdE1CGiJFksRCRbf7xf0oG8uGU9ucR6F+LCr/pbphZcq6agj+3hQhCBeaIoTZJGGAwGDa6ArBjVCkRaOhdY2BpZqMaN+ZKQeNohQUohJYTCxMgmGCFCgkk2kOHllPY7QS54rI8w9YpUWi6XcPEdEnYOtBpkWIZiygSIMweE/olNCwoqLLNmulExBGsmniIFMwd1xFBnPR8dO3KdhlQibdKCpIqROkaWyGE61gkhZOkFiPOA3bSt6tJwsNzIyZBMe0fJ3IpThq/28q6QBMSFy6x3ghJFEdWwb248QqkQSsE+nedj5MyRqU406EUSjB8LjJA1DgTo9S3niCOqSMCxcU7HPaF9VITWpuqEyinzzogZElTJmMzwwy5ao1o64qEijAwjCaDUnisRI1uJhMak8JfIEEx79lhos0T0glaI8hvnLchiJ4aaEXCXvZEE51YNQOYiycRLtWGGIi6kRAysztofKQu0vVAdaTOiAy6RkIOjZPggTssXWFc/SZy6WYwNQLgzlKTpEnMnlNkTqjJmhutbLuiNQlUNoiBAXEalyCpO1LZ2tU2yRboY2ZqcaJ5G58GelQw203or35JNATZN+3WxDUUCuFv4x6GgoRQUg41NbCx8PaVURUckk0mIKX1pBbwycQ8WtyrrhpJsYIwClThDlDnjBw2EqCKqBANDTOhAkWa1bxgj4zcYvkSwFD9izqRLvpBxtBoocCRs4+jgk1ZYiOOyS2wQMoppy3EqKf4RVJHjeC9i5XM6jf0MlmeYmSEat2ljFxsaJocMrsivSMtTC4nfs7GZokJ9IiLKqux8pciJMvr1VXon7iuE0Sb3BKo24OkTZLjQmVmWCSpmcWFaBEoNn8Jo22YhWZ65cLmuLFSYuYNqAcKT75CPIIySpyS0DRmNuhakMsb8wiXHQsQJFUib1VUtCAk604OdaNYkQKWZop084UUe/M9X0eCxxN8oNABYAzZkFAAH/gAAkHoggVBIAAuHwASyKAISFA3soIoBoMLjSDgPujzogDDI90yMoFxJJr1hmAdHYDBbg9tNV25VMscG3jah8i2YUIOrBMg+qz5WNJJdyEATaM9EYTwOoROm7lTh4LhUVwiQwI2DOVjQvBAyZaLkyLzdmyQtN3HyW5fzHpPUdOEQTeTI8dcD6iLx9gd2ZFseTQFYMVdzQhVDEcvDEwsIxJaGHFXypQoEKpLRMJEMySCBziQVasecbXKvOSyJKKYaJENBDf3m2kNsGB7cq36omOMha+4uec8RBbSTYcb5nEPf+0qOMoCg0bIPXb7gUj+Qs2LH4lEDpak8WLCslnkU9VCDqb6257zbSKRnUxR0bqUXrJkLiBNh9XlCOm9VXE3EE1htc7T5pLYuVbgT+VpowE+yDbgVRIVWoG1sXuIWKdKo2H7O1coyjuKxFK2CSLMZn21ebURwIn1knRlFh4fwQVKKnJU9UkmIVLhaQHbL/+MUIERhW/2H/av+F/5j/iv+U/6n/pv+b/5H/pP+uta0YZgp4BASAWQBoD4EXyf5PnoCcbSZJV6HSCGlDi1HKqdTcoy5dJN6qhRORbkCQWXlf42eLGk+8hRQOB8IRv7uLxeUCKIkZLBDEhTrkLqtca9RjzN6a+ITGEJzPN3kbep2MnmDc0kt8M52rGiLeYehIR21g9Jdc3ZTgVEH2BhxFZ/hv9hKAkbcGD+YVE8WJ9wiZJz/797T8ew8OnSCW36lNMYeQ2E1mwulZlpeRg+KaElT4I5XKmPIlgwbXGSaTY12Q03IGb0xd2AYbtX22TD/M4q4MKpmE6CSuCp7LbjgkTN5PSv1L48NdJZmm26NXtgSUMoCFu+245NZtjVrKOlnqIq508tKTIwQ06R0UJOsMMpxMX0X4lPVvtKvKqTGg8uRIFUHt4ycDLggh02EEViorD8zvOXFhBJRdk4+w0FW8en8T6EOjzJb/hvArCAe5Tja+5rjNGJdO6FJF+CoggSfEZPLcK7ERMYfPebCT7okym26mLIBNIh2suUL6mCXzZMi1IXD44+huFprhjawy36oMnfOUtUlb0LwRwPFyrDgsT59dMRKPyEQ9MxbnkMPz6kE+ODrCaa9RIq4kSNiBSf4ZQdpjLA8wT6rNItirOAYly3oLJuEyGtGx1phHWdNhR4lY5soYbFFXjyThov9J7RAobNBxkgTnBxWhyHOyLHWF8bdJJeXgj9ZwWIg8SPkiiKn2CTqZNYgKKYhBGtERXP/afXoZrRaPf5IzgpuxX98PCtV5MJ3QygizqA+YVIRObVP7LiPSH/osdSI0Z6fWqRVF+30bCMuqJEc+HjdMakGW4WIdYkKZOuDBNmPYSMpNtqJFCbUTI5s66a2ICzS9EoCJNThbVCo1jPiw4zpA095Yo4RbmqRQEkFtmCBEnPi0nlNOIWwvDlB4q4GhwgZcg3cpP6ZRA4+Sue8wn6aMVOlCciH/Z8WEG/TYgJEfMHeKr4JrVQes9VmTOkq+gxMoJP/oLCgdl/gnTSoIl2zCu36nFyz8tvCaJV4y4EIaHdrKpmNqjaNcSrNACFBvV8ItQqdMh/5F/EoZLIoslCBzyJcM4TJ1wo45VVrgZwoY4BJoLvwbZbCygW3zN07UMRWoUvFlrb5ZIa6abw7i0YKrbRtQgB7pxgsjVgmUiUdL6El+KupLUW7vyzJyMeWFlHVIBmIT3dEoJlAsNMa8SPjmctPwCOJnjY8aYYt8tIumqp5mLpc4WJB8i6bMqmuGXNIPlVH6PEisXx00tz0D4oN2d9HwlVOV/FUMrLIZ2VJhvQq0mU6sWs1B/6SK2bQy8yxepQUP3eo/0qscDnBf/MHTLE9IijcQseE+LLuNIkxGeaYee19YiIRTqiQFldIHDiZgtiiKL9izSpPgYJslrZGmbKSS53bbE7eF7TONPUCR8s8HX/TStLLChz1KlkV50hJEj9W8LsHrLa2krllYXF7OYLqjmPSk7RebnR9pwoTqhxcgUBK5VtxBEFU1bdFEHy9AjlQorx0pJ0R+KeIEzV6JSyguVkiIZWItGmxZF5ezR3fFlYEGNKkUHU3EeEf+p6gJFiu1SeaKYYdPBXURhrG7OIauxcm2gMLJZQaVWN3LmzIw20lEm61YtrJvjUcCWOiydJ91QsrxGm0S/0vIHOy5dSXE2bIIN13J92FizDH8F/PEaYg6Ic+LIDuTk0KF6+Hrp2CZI5IwVqWhDCB/aQZWFykktIqmqdYtFJnAl08MGVOi6gsafvXqHuZVnYQLLR0z1BGZZC/SZyayRwiVNNE5jOkuRF56JoNOuEgiDyBtIc9lhMw3qSsCSrtIC7vxDXzeS/aNYGqGvZeiKhfqjE5renHKv6e6x9j9/5pNo6yym4wEVd/m2TfLFuJYIS+iTG/KiHxoyLT/rCtW8/LLDXlviZB/w6JO/Z52qf9SoQPYiY+yvoklQmqYipoqWXQQccFhRhGhEQb8g/dPTM1DRxR4ntcSP3C1SazH7EkiTs7L11Z5xhrCVKP2Ul6qAUTphhybMGWBAlRSRNshs+0ztZTYsJlNCdzxIvOfTROdD5KHsxP68jzqgoPExuDW4h+qX2mFVVeIYTJwJurkejJFr5IQQeKkqN2aPoCoqJPnRcOQNXbs8Z4NkRlOwkIKsdjPJNUbUSixm2v/Nljr5PlH+FPoIljIcQicohEySaOHIQEEjKxYiF7hcg4ZRNMZJCR5jOyQTOcjAq4gbIGQlQ84sFmplpLFyAoSz60UQaJBmNwKcCL7D6gDFBidhdLwVQRD3E/IYPAc2rwBUKMCLxaIgNHR2WQQcIF0ToW+NQ0Tfr3JBKHDRGcS4+i4HJrvP/w4eAyJNUgKARvO5FNlZZYkIvhRIOnNEhoSER1GoZk2Bc3c4OQBI7iBXZ3uRcHB1EgsuoivkpdvTviSTYqmXLzc/gr4SNjdLqk2YKIBBHSShA6SJj7flaI2ojCWiLwpBPXkA47IlHqjPMj1zGaM1oQLrQQW6uH2JplChhje5mS4GCt40HrRSIQiJIijJWiloZzk56SbDqHwpPUxIvw1bzyy1JJhl6CsiJgxa+QlWfpFTw06lo4WPCZvKpzBRAhOt9bXWUkyuIkGMXCARUeUoX+xWpkj85HjMjSXidewaIj0xLrK0spnU7tkkh9HH9bVSdh+YyQ+mNJz0yuZaJe3MSFhOEUEx5HLP89ClYn6G+1uSdqn5ri7ptJ+hHsS6RgIG4esDsgpQQRdQw5gYdQN5MHSxFdxpkn8UuummoogPMfYkNyqh4W2XZxHSZEJBIdGHCVwl9uFhJMkX4QXrkgnJhrulClwxgYKsqF/I6YVdyowuYgRj1oWMjCj2BfUkg08jkJ+SmakmNSowyYJhHCzTfJuIIlxPZBNhhhcq6LupmUxA0pNnxR0MqmOuvWdCqAsLofsitsk0oFYDt3DZVI+YiYEjb/Ul2blNkdpi0s+OG9sN52kfLaUs/1GKTwKGn+EQfNi96V/I0HjU0kR9r6D5E8+HE6Mk3E2lFHFhLocgM2trMy1R4uk+56qE7L0vjKQwF/JECkkQsTyluTzAnKJBZoICilylXdTSGzaik9EpvRu4qYZgjIKQYYKfUi7uaEYTJf4xueu/POtryLaIVJh7Ka6auC6xgwIH8KcEZ4+ja08ER9NhYpVh9oF0vJC78C4g/F1rok0yagIl4LoTcsMOxuwtM6C/zaSyMFesWuZQCtXjWifgtlwUQoVXq7Yf4kb8Pf7vxg4qTPifxgSG8+ggQ3EuouCYYpILnacNEDwWLM3klMxvp/wcJGWHFrjt5su3LLnmrQ9MNRVSs9obkMpwFGEYEhFLOHh9QfDAwssYPGFBBMdv/ntEtaNXPl4lyoYPLGCMkoqoO2Cz8hxJSCkWSPAxqekzUQZrIstaxDe2jxUiyJCjBuR9AiiiIDzD5NURGIkCVNKiKjy2WiLKG00DKikxTcNHyWurCk/KlRnhoq0Mryi2JolU64LLUKp4Ioji1BcIdbKxJxMlAgSVaOCtod6F9GFk19omIJLAvEQIg6hIqQnUEPkhG6PSCUMYGX0daXR1Jawh5grVrWxQutKYTtkCA7tmqnFUkGSiDjbTlVQxCVo8TSzRCb3qEH3iwmtjTvrkrmEnGW+ecLw60QZCXIgWKp5TNLGf5ogSaeGvk57HFrdNbPXOXI0i4K58wQIPFh58jEike1pEMvYLpl5MHQ1RXI00XrUGzbixFRg0vsk8mOVzThTu+BeygzAvfU6YK5zm6xUUCYNgYDKPTcyZwSBRgndDB4+GzKhGd7JF1ImZ1KCauLa5ZfYi+1/bCE1gq3NWe9fwfSWi1KIQJvBEwhMwmJEeHlDqr6JLLiPt+LMIpOJKkVFT91Bo2sNO9RaKFjHqnpRcKlDUlBR9pYzMGGkKRXwLuGP+4KDnNmQl0BQdQzFjnIoclEuZGiRYQVz7lmBFqpd4lGJ5T644L+VeNkkHqz1FVWz1b/IkZFnlrK6Y2mwXm6Hzp0404cQBYzor/IalcfL/m2o3NNAhzOSOneOj+uOiKA+KDpIiUG7NMwAVUWuJrnhCexhAkEVU5PAygEywiDhoFk+AbWBVs+WKmjELvwfkHRAsXeqdygFpY/4j4uHKplm18y95LQCWBLeyFA+R/NLiTwQI7k8DALIQ44XTZFdHRAqaHj3K2DAtff6sn01BDEiAcamENFX9phA0gYJl12hqmUIqrqHgehQ3hI4w8obaNjZ5EeAQvP/+MUIEhFWAT0BQQFCAT8BVQFmAXwBZAFaAXABWgFitSDfQYRgHYKAPIKAaXw/lYUfqYKr4V/CklLk7dIjUewVO+FLRGIF/6jvLOLmNVzdjJouqysqjmFfCmqvnDuGJ+w9sm3kdSW8sD/Ba15JfuWneUPyaoTzNcTedXdwgomi9uf7pJ0E3lUFWKmaFykN541iv7fbG+xbWk+ioWSWfYeq+udymZPMls0n6guJOc1ECeH3O2lMuvIDbpE3Vfz58c7YMIvF/Zf0oWvPOIl3EFfW/k6j5xGj6RQ1e2o/pb8H3/WT7VMUFPFmM0lKNhYqzIiPXyxDJdkZHnhHOiSzTJnpwmh1a3YKUSxcrCSDO5/kzmVqFS1hClqnTz168wzdT52LHCnQ29R2ytVzGC/koZ+8Wyy8IL1CGjm1g36EkdLxqR2lfKWhyrVStbP02Vg1ee051p+O/qLP103BJHDDvD6S+t61TYq3Vru9WNsfKLPKV/jVrLsW/01fSMDE27hR7ZKrSSeJO193RqPkTM2u74voyVWWt32v6LxNbMV+cod2VBJSSa+VJ2aiZYsfnEMxT82tUUyuInd9BOnjQYHQso4afbpyeZG+7/4sUumBhUJqOCoc168v3GjgVIW1eDVZWncQbptGV3eqSVZWsiy0O6ZpCJ8gt4qNV/P9PkKVcxccptnaKy2RJiQyOr/GC9fF3LHmkT5EYuX+FHt01D8U+i0jZQrpkEpPv4nczJuba2a0mXtIiTdxXDsTlWOHe6Ul7hoJpUNrWh1CSVHRibL2s8eb0jc9bxJLmNnIusm/5PJ8vmI0ru1Z28ZJ9xPxsZddURZ2Oc5NKn8Tejm2iVQj/eQGc/VLUmxycdQdsnomXMrYHZ+NLfyYnPuHTWzCS0pgK5BtWQ0EyqHlmirv8bWCpLByV5LbCTF8VT6ECHVCTR0FbDrwsY6S4jqlYgxXNvuyN+exCJLchZKRUXQayJm+MaVygQdqIIeVxlOwbaIZHtaiN9AstltVptUs1idBa5R+LyRyssRJtWCa6xr2UuZ9UBR0gs47oVTGhlrstYsXIjrhw8aJu6GG6O5nctSFFEUfYxgi8R7x6EedhqewTqoKEXfGetaJLqsNcJojGCbQhbou9IEXPwvh3cJ898K2mKMv7KosDEo9J3XMXyazLHZGrX8OouJEKjuCdFOKk5jFmU0bmg4cJLDHOdJ2um2atq2XTx0ePybnSWgpLFxBHFx3aSUk0SbApqd1CZJQRUiOtI6p6odU6clH7JRfNzUzjQzUPmDriRwY7+fSYqKk+GZMYdX1qqFsjGB0J4pfeb2WZg5giV12VpWVk+leS9HS2tRIE0SlDJIjP1Cs/QFp8rCDHPpCI2TcuCOg1/S+f2HUbqGs1gG5jiwP8+/tjdoRIJNhn3cukKOOm/Ws6/kfqzQk2Li2qDlk9ITCNiHBk53hi9nV5spyZ4xgKm5MtYZCzggQEtp2utECbhdNQfb0rCc5hoscOHiG4mKGke5K0EOKjBLgsmLFrhluiYrTLIws65JDXNFokOaOarH8hB1F1RYzEh77ghSDpMnV+911U/4jcj8SdIFogYeHpXxh3DccZkJr8x14Mo9vA7y1ycGMNZHXaq7tF/bWdeZKtEUjM5YL0J7VA4z24KbLEyyE9T6r0ZFwVE9ccNdNEcLHdIW0KVFT65DmmRFL1QRXppWn8+7xpu/tmTy6K0FkVAwKsE67CSPqb4qe1ewKyqcmz44dL+r0aHQ0QOPCFaqhZWCDGDuRhLvNecOmnTRnP1LRNnh8liQUsqupemM5Er2bTyNLJ4dJk9iXGnQgY4R3LfxIit1dzJUBhf8xcWyL4pXYwHkRifo5/k/f/a83S0y3lkCx5SQsbeC28i44915Etv5VN+qvMbmCOlNBqnaFr2zPc0pYoiE7828LaqVUXKvrbXh4p2b+oW9E0XzSXHvTLxEm9K/EXF83tr8qksftiZ3vlrkQeuojcaKaUQspcfVr1G9+D+SqXq6JKILlhEum4fV7l2fPDdUwrswrpTIYPGttrIkSkWdCKowkphmRSU+3QZLoFPWSaKb4uWp2btBgmvFJRxBX4QtdmDhhsv8KdLcNP0HeQKUTCa1hRMhRWrN0/F+aJDZEaRQq91ztpYWmD+HAjn3eNsSFO7TSo2D2w2StvzGZnDOtriKmyHiOsgEyXiAX30JjCM7iGrBZyY7RblTX341lrWbMJpkzd//lOJiZEyhby4LhWnRJ+9rF55UJP05juhYttM0AkYPsare3PDVD8atou2mZBlhiznRQeYs3VDcwkarazSBdXDfp0KnmT9L/z3ritVUYQ7JP6XdEf1xU7479tKCmPVp5pZ2yVHpN0YokFSqxcSLZY5BnlTys76LvUtXuKSXznSLSd2olz0nnWc9UVS+IiK2wnVfyXpDTUmQwx4rD8RO7YTZ4aFqpHwZvApjiDdEdMBE0L7JYjlblcUM1S4nxW7MIcX3d7uifZNd9ZnAl2yu2Jem9GKzCpyI5F6iv9AhcJuES+N7E2Ly1WiUrq9n3VLfgiEZosrlcwzuJDVHg7skW7u6WBR+x5W3tk1Oegq7eq5FniEqsorSix+wsUpqHDWQsdR1/K4BDymvQWSQ3ST0wCiaLLubdgkmaQP9hyxTEzzR5Wi/q6ifWE7zaaiCY+trhbEakmtJLJ1RPHx/mfWz/4xnkryxrgmfQCXyBEbqovEySXdEX4lGJJKsQP0lNzdcVCu9K2Q7sprdv1R/Q90KWxzE0azFxH3muqWy0q3d1XC5AnqUyJyfVAs5Urcv1ukLHr32pvasw5103T24q/MyqapajYTzbQr99Cfdk+UupYVimQ9YtUzRDdklElkNLfWK+FnC+RDr5HnHQW01bQ60WCiypcStqSWLISStnTYm0SiThGX58wcseDDUkUIkHy+hNBZdG7nWDDRnAyUWRZ7I6i4g70MLKtvMN7y5vG5YUzpBBpNHD9jTk+kGSHu1ZSve5xzZLaqkRlzFhLZFBASbscZK0lF+Kjte43WlfJNKy54ggvvHhWzjR/bluxXaS0JTvpGm4rVWxTtZaNkLDej1/Ti1ijTJPEsHszGWd2r5a0SHPbbBFM54RuoG7y/2nC2Kk5Sq67UiH7Qrn6JiV5nPEQepkfjvWrRlythw7jQ8qXtaZlNHqqlQ6CplJKhRUZIv889juo2HCDdjScUTkKYvFXGO0bTmrrFLdbpaopJPIt1CD9v4RWslSbg00zOiTVRrJk+NbSWjTpxzYSVrN0GSFQmQINWbQTx5pw0OLtztPCsULsgr/FC4fZ2UvstxyvJEUShowwU7EXNRbVtUtlJBXXvBfY0oxXlIypuJsiVauEtJUpQHOUdbtmMDIuKn9qNPkvGKEyTRMlZGozOGc06El3FMO8bypDukzatpFLpbBYlj396l2emf+JbNTcTCjFxaOXnNgKbydaxOk6CRgws5LS8rOBgjxTG+PKPzGCiOWx/ddJtXacd/yQxoEiX0vw3XQUrIiqXVTxRQlTYjie6AYYtT9dU1YK/CxrUwggw4ZnSptQlvwqsfInVtcapZbt+nSPpB8iWpNl8ozQFRUmjxLkDUokWMKd1TQyXD8iUIUrALqmeXHolqEVnM1rKJA7hXBBUb21M0li6pOrZCaYYztyhC745YbUpreUCn2PNHwmYTF/8TjNUQHYnkIqw5xTc4PzrKOz2KTBeQt66b4C66Mb0cGPpGwRwwGZJqjxP8QyPhH/9+7Sz4biVJegn7U/+De1R+YEuGa6BLva4CNSoFV/xzFOl8ZEBzhNXm6OF/EwtkuGiM9qWtMtXsY0jU5sEHSKpYSK0LCBy5OEim5d3d1QneNL1wiUOpZuCh29ycSmeZh9m2kIBlQM5jRWk0KNGxAQ04ZaDN5JVHUJHi5VTo3sFUWae2QSCLLw8PxOoO/t0CNl4Jp74zjeWUizFZXHYWmieWEguDctJkE5UIpZ/61fzDhTWRiThLvZuh7QRo2/XgzJe1HsKVWYT5uzNC43p7RSrsrilMO5bW3u4ao512Hxhj+L5VVLMl+RXJHK3XzxWvZ13wGFhRGF+RTNUjYb3fc6otEqXKxSmdu5r1zDd5azjRLL7XVJQvbvuuk0fP8Zb0ghoMmV2ubVnbCTRC53nIH0vS+xwjg0dMkEClImGpgyXJkrJZHMIxUxSkBDKbYPc9ShgsEiZLmRvIUyZOYSWL/aPKcvEiSYzNBcZwJkBQuLRi5YNPJpDBIpVFCAlK0jb5iI3LIRrKYRBEro0IeziSeVWJrVsDg+cJ6mpYmZsbqI29rRbuEZdujtWOmLNnD1DGU2Krc9ESZTQe8VW5sef1+6xBQ1v5NLtUVEqZuW47++zYkrOYCAmSrRbMaGN8kyEap0zTtbAfBI6HJnP9Gl8VOe5eaqERQnIjHhoc5c1MJdqbGpS2Xw1IE7pCgkp6/QV1TOtMLSrNkpaWkHV9V+wXSEd+aEk0naHrUsXKtGl2kx3WyIXXf6EdKKqCIrW7h9coTuS/GQ6vQNmUzY04pOaUyGQTwrOvkgi8ytrQUpdcdtJo6bBVuS371Q7xvkF00DWZDlKswan3US3GrM0XoZXK4w/EWXrv36l2sFvl+tiNjbk4WUcQQoZzPsOag//jFCBMWEgAzFU0na8qFrfURQG7vLa270Rq5hBVnsbPx/5PQxex1RNMCOthzkuTPSGdy68EjU1K2KwgLuVKGi7JfqVMJrXbsi0QKWpfl2o05ystm9nEmC09TO8Lv7JRC1pOjLrGmkSzPsCbxB6WtW1CCAqTseVzsFkfd9CLJjLhDguV4FipAE6xotRDpCKZZjoquWY2lKRo+cDhWJVKIRMG8MbUkOpbFtNu/QMmMs82yyRhmJ8TxpLB/l7AkPEucf6dECC739r20IixXu94cS9dN3JR9YjYRBukaJpEriZHvWIMv1pdu9cO4n2hat6LMRz1AhJFE9rluqjZcPe19ubp7wUK3dzOeme+T3HdftK/WsO6HcnvKzMVzlCKYvRzKLvWo/Y3GSeZ5kTk6uogKPBbq7Y5Mk2hKl2IeVE+cBur+XSKJl8hTeTHUr0xs4MHyBbowjJ9g46cteTLhLFUjFSJYyShPAkKAm/coSxDpATbCP7p51bLXCyaWaCzcLzJ1oIlKNdRCsYECYjXmSCHVEXUe43V1HH+C3pVESMIRrp+2aYTbraEGkjxscv8S4SbqUnZfkwMDhWFJaEU1zVkDAOQSq7FCJ0Rs6SM/Hy7ojFviw9SCxcIy8nfebSCFUiMyMXcHpCUKHYxLC5GG8iatPvhYVhHcIPJbSFn4j9WZCUvyV3KIyd33VFAzWVtSmosWE1ZONbX3ZQi6N2sho6PezzyI14t6X9DBFmxKylNQeX2yyY/HClj5yJzhcWfosF4nZGQisqI1SdicHBozWsWFYaDyshj6ksLiTkQmqgJoUJfzHxSsMqFrt8EECnCjPCiaZt7VIhx8loStTRUzWV5UfQ9CFvS4Ud/kuG9SAyX4y8Vof8Pe6bzoT0w7EH4xYFXSd+inX/iXIyEoT57IosGovFuLCChXo/ju2vkINXPNt91UzPw/T9QKEtk9d2sDjWme3r//lxjnYn150JHDlDk7QmjBXExuRMFCTt7bhJARGC3JR6pQEwicv8nCj2mj4p9WIDxCi8tJnidGREePRF0gi0WQEcCDkQqsuqwWLA8TRQPLEjCpbg/NUQ9AQ8qbViMMSneRI4BUtrixEVRIWBaKi5EVEukGAVXjfQ4FXJBGAobz7heDoVZBgg+3VYNhC1eSGSJEYdE8AmhF1zp9FXhMoqtQLxOs7LIKzSI2c3VaNBOQ+IOy3kfaHaoLgWsGS4usvz1+IptX0EBdFAzKnQ4XJiUl4vHBVI9yCYZDxYrXXCWZfCESgSCsSaJhEernkHLiCVZnlslQQxcgIRJEx5E98UfNnJ4IKJG/g09JjiWL8Nhxo6w13ZHWkQxU+2JFok0OR88Q0RPCA3v7U4yIQd/6yYgVMEf8rR+rQrsjTWSNccgREzhz/+LGwwJu6iQfOxIGSzh8zeu5IGh34QG+k+15h8gEyrgnQRHlT8sltYI9RRJ4qs2VmsLGU3Qso8VBB0jdIYdCI4bTwl1bv4PkgfMEyQkOhI6zYt04RIim+iBMw79QlVZQVIoNWV0pLPk6rI/JZ0gi4RS136KEiIcOBuRBddFARsTHGyX1wefLZLtPd4soI4ELNIT4ZCECLR01uKDwSkIuLjIhNN8pzCpkac6+00IggQOvBr6rhPpZdzE1WVrkWHR7TYwXXKzgHHbwNXJqWReCZCqJwZMUmmKT7hA19wuxhNq9LqSIcflbdJYpxkck/bDqp0Bg6iiwqLEVmphuHSIsTmHibuYifzCF3ZFHaDRN+JAjLzaDMpnSKBCQjreUC98ioJVC5AoVyx4iNnrWyvP6y6NxD/Hak2i3wzgQO2ItwZUGYr7+t4nOsEFhGm/C7z6djAhcJy1f7qCzoxtCscZyTKb8yPcdIjXZxQQLsBB38mlj9zEGirlcnDYoYSYayJOZgotalXMlwcXEDBTUiDPFyR6dUIkInsFQJEdkl1hq6I8wWREH2kXEr6Q08tEJX59ZUotWMsGDdCyaiNFbOdkqrJrZQvbK672RcaYdIuC9PmjImwmEQcVQs6jeDbjZ8SVfbC8isblyg7nIZXk2ZsbfiQTEboq50ZM6XTsMtbGyg/lYEfcqyLsV6F1yRlMnQdw+wkXDM3yxH4P/QSiXwJpI4ueTGSmxjzMWWDqTU5Qx/mtil4oIZ1ktocI2Gx4Ql5Y9Q09gOgpW4Wk10Ue114CjnDAwsSaERwo2HmRYhTRBEOLCUfWYQCzei0YmrkAhIoQ0IRu1pYe2koytRADQXWLTqexLA4h3vDjB2vBccWJnWLl4WYEZ+wvPtn6o+4G3oR+iv5N1g6rdsTcWMgukki3ZYCJFM/svsb27Mz0nAR0MtsDegvnfHRMiYE5NEz8iNpOoAusIPlAMs6mgXK0K5/u8SKTNybOw0E+Ixfv1Lb4aDe+EqK2yuFBZsJJDajlPDC/UOLIFrmImR4nkSmSo2IJEVCBBscK4CDNgUdoLKIMFlJxHAtdSMwlowXUmFCVmnKY/yVgoRhpxV6Osh5F1o/cNUp26MCDnCa2J/FF0VcoKVOwFC7B+kqofsIO1sqrk/NOwKkmBVP5e7GV7wE/i23zYQRXZERzJHzLKUFexJssEx4GRZNM/Z4RVSTKlSRP9CEe1LoKP/EtovpQMpnz0TYSF2oEGhtJujOOOxLO/9RARQsgouggwHfmrPDZREsx/BORgV08Kc0+IEMjYQux7+RKMi5TwtJUKbuYLjCihkxNoVRBZxkWdt4iJjHVGfHr2OkCC2Wku2pJ5yBhnpgRLcbNHbvbYVHbsjHXWlCJZ9fJdAobaommTQXDxkeN3XK5eWGwpEMnLWEXQkEgj52LBcvBRodizJ8IBsayvWM/UaHaEivFLBFCUD1Qo6hG9CFRUILsZIh0OXV1l94TTcQCvaV+TcYJl+EZEZcsEF586sJJ8wYBiUgc+4C2dCWngdb6vticgOqIibFpzsbr4rT6XyjfhNq9D1snExMMibNNL6AxZ/arIxAXM2ilQ+MSdyEw6uroxvJcJZFILS5IyJL0s0VLnzW7Id5ViUnwQfHZJOPIIg3DYZzIE4qxJ6C69baff+qzsSoim+sS+dibmkJQoAiJbhpmQWS4xOrkSTI/EAxm86mZBC9O9+JICdfOGMMEb0K4foWtVCQLKXpk8sB1CKoS7o3ZVVUd73e4+ldLq2DJ4iKhQLheLRePqklX0IReMQlnx4TxshB4BSC5brCBOgNE+BmAS4Iek8Um9tsJta5OECU8gUe6b0ZxwjHJshBCLbUabLEsMrH3CcXTyPxnROW7B7EUrnYZSygjFHigUs8cO4BKgMX6OYEWBopm/bb3iDDrFz0sARzENVwk0UUYjWHSE4JgXTo/6YXwyoSELBxEM8mlspV8BZHkhJiCP049woRsxdaDRG+TyjAqXrWmi78Bun+u6n2c0Xs1GohppE9OE5CEPRaJHmGUQiifD0IpmFsWWFCiaCGOpRRJfmzJwbhM8qRWnfyrELcb7l943RI80THkVUiqOF3M+44EjakwQBGEk7K4HkVykVTGLIpiSY3QzFcYR9HAiNzVeqLQpw+alOkdpckCKclS9L1o5bjbbby49VeldWVOPFVKJmlYsHcQCkXj+NInnsTxwGIdhgJJcF0XxCKyFEeJfZSJ9jNP04xKumYYoOEeOBJnuVdedKTNIzlC+5qwsqPpw5LUPg3kVOmUFoK4wngVDEKQzjMbTWM4VSUT5TrWP7rdKkpAyBs+oKBuC+JA9biUJVleW3rcyi2I5lpin2o1NgaDMwuC9eDSMQiTjOZ6kaJ0m02xWC9HCrVLwPt/f/yaHmXI3v1XdtSVjT9lczJlRa3l0LMTOX1K6x3RdCZVtKEa2z0P5pFCaj+ME5CgNU6y/I4iieIFLaj71R2eTurXi0kHnq3kVXV/3hus9Vlb+LZ5tqJIjpFS2VOyW0e555OmTmndyeSFGHqeSumVqJCTbnmMxXgwdcrppSdjHtCbEcFDS5r7aZ89bpVimbArKHFybfOVPBkIT+erEcY1KjIdIxT/pdtJKNSGLdeHtH9nlTPcbFSFKEUrqZyq57W0TdFNT2r570mRGj8M8vN7p8+qvRH+4lsIMI3lu1RAn4rF9le1ftYox9V3XOrKs7RvGiqiY9pNft6t+oS2zGks+UbUlZBWDr6VcQ7Ct2MdICrK1uNKt41qPs7kHTmKeZXqNi+tERhSpJQy+p22lsCwCclGMK2tRT2rWRuhNxCUmTFxhrwXnP0WQnDRZGa9DNIi/at3BZ3KvsjkZbezanr3hKIlXg9YxwlTc0oLmJxFU08Sb0bZ2vpbC/ig/yOGEIlNG0kN3C5LJ1aYRcQ0t9lnODT0AwkiStJuYI5TndBMoqyCqzBA3gkUyX/vfaGu2BRYc8I8uJqpQonw5JtSa2/WiYzTr70Si12Sx4986ayUHJKwXIrKpBRn4Oziv7WzuicMr6Qj1baauUYVn3KnZFBS9ag/jg00ZwOloX9k2AzNJjR5T6r5unLeCmymRGd3q7ifkXMoNOzskQZXnDM3h1XP77li9BzQSVPFrxozVuwHq7qCm7DOneuChxPBTdQXffLCPWtK2YyZFQPlVaBp61SMeB8E50cEuFnC/zUpIRuI/Wd7xW6FIVWmNfKTfOwekSJnsyBJEtqR9zQGJHJiA9fry/RMBbamiTy1yUl1nPg1owdRHv6c4KotMI0RNhRHNpqwhwsz/IJ1L9IsSw6HFDJQAZtHKQArs9wBdUZC1qFwTLh6SC9lFvIwC77H4L0FQGt/O61ThvAXepy2OotnAzHJEysYo4CQ1bmJwSpOguZ8XSORI92XJL/1O24z+qq/xhBq1OG+ZDoVmRMM0ualAjzEk6ionac3Kq/HBf5G6+S5LwapDzma60oNVenpmrSI1+cJHFBeY9CIU/H+DxsqxOOSPNkHTXbcJc4GQp2D2NNazsnFnM15EpXD1bRLErmQX616c91725QaysrnXIOpX42Qm7xhU4GwXfZLwh/26kQzvUVLJV2tiexLv3JXr8lu58QYqJL6fzK0bKQIzNG/tI5bQ5vEi11qKs0rxEilcRGXexLpFtcfzcQpDwNTncxt7wAgSRrHdnFA4OdzWwPHHIPuszxgm8r9XigxjrJRhdQvyRiJjpu1KmiUiMIVjvwwR5H1unEopRVgd9KY/kSMLA/KiaMBzvQgzXJ1HAQxVFJ2F+OzyKXJ2+zkWcEzNufZfRZa6zlDdmsrPIsWM200nMBqW3eCrdDFmQPc5c6G4Q5YQSSH21bDT/xnEkn914FdU8d35Gaz4N09KJfC6FiENtkeBqajbSrFlx7Tn2s+szBQasU2HtPRRQe+y2hXRLb/mLFZiyUb5FKxM6ZnRGOr/e5D1eC2snlePoPX9Bb3m/K5oS4KeYNWFPKHjLd+oJ3F+eEenyXgusqfbfrYsdWQ0WiyEx4b/+MUIFANW/ej84vvV+6/7Y/ye+036LvoH+8f71fzitgjfIDMA847Z3YsAURF/TeQ1IAlQwp1Y2QSY9bMJ4EydUGI01LCb4pn4Jp3nhCVzhPNpLtyxV+MGPRXwcEuthabsFLBRa2XZrTt1qCzlp9q/InLoi/AgVlS4U8LLXlaGimvBTBBhhJTNiZbtvrWvKNJUNT6p9k4nlFk9Jf9mKyyq2A02OssDUsZm1RoJFVOjpLWy2ugNsw0cSQtaY2/Ohp6Mwgo1KW2O6lyEnXkMV9G/rcK2PkveI/U1QydvECJXJeJx/2vm1MafKEQv+5U2kO5Fb/LEgS7R7shIpnJ2gH5qRqSOj/CmhKhJSqfoU5C4qJi/N25gSJ8UiWud/mFXfkZ3cCQe0k6cMLyvoYxn2iAoLj/MKGrOhhWdFKELSTBR1eBtW3cmHPVRM59e4XF7VRi1ZxeGHiwRpsIECBcVIAnFybxX97xAGJE/r+yAvXN/et4Jk2Nhk4yiAa5KqOOl6i+v9Np1+Q936g/afAWnnWEG+xMX7mppmj0+ftMBpaOLi/QrGNKDnoi4Ud2hPTsqul3Z39L3Az3yqw8yG1Hz55kwieJLzU/07kII9iWkIajCxTcjAddKCfN54gTDGL8nPZYglgrglKpF4vpkEIy7vIPFLxsAb3FADK7eEj9RvRIz7gjxhNIKisc7EW1+M32IpNYkDFwU/Imzun5Vexd3qrX0jAz4v+I8HfxkwWze4tjSdNrIqE3Y5dZwqlUC6fJkT23itr5Dt/8snWVuBQeuDBjzL5BnM2Q7qSwTneESx1dIRRciAQ9JGISo6LglbiSLniI6fkauDrMVdgp3DccgOXPlt+EB1XpJ1gj3HeD1w1ap0wqkslGs4q/+CGuT8ScHaOY9YiyveiTCK/7L4/gTDamIHlZCVJQog+3Uoexh8e8SM64DbqfyM98qt26or35fllxxdExZ1QilMwbeUJtFh+rFTZ3et/YkDiTfcJpnwqv2gI2yQ0Y16ZRmJNzcNMer9K61QkMkb+RV/jU+ZayqBfdr682FGhcqcE60Mmeio3f2V0TeVs4ubsaeiyDc+j3In1aSsar3+8upnZXqQmeooWDIGRklq6X/YWAJDfIZOQ0oXalypsEKvgEQl4bOu0TsEShGQRKbM1POIhgion4nFDeRtAILHyDe3zcijHzGx2xLEo5Hp8Toe3PRN7qKo7opFRzCWWGkrGwfgrXV0/9xyWU3J4NnFlN9QoQAVmaQ82XychQYaIFMjpnF/1J9VIpKsGTsAtRzozBobXo/+0vrS8z5Bv59BXYsJ8Z/R+Y8YU6MELZYksSZ9E/BkIqYqkRgo9nGftorfQOtYsZaFxH9m6FwnBLf4jpMTJQ/nzua2GkGRIhxqnMXQkwb18C6vfo08C/V6Wusd0Cr2VKvSts376dR1CtmJFEPG0pgRzCKQawQi35SKXLuZybcXu7ZjM4enzDsS0BZIxAfq75Y7EvZ6nnF+/EaTH+YdXIEDtp26tVz4sPHPwd+lYeJJfwW+jdxelPYqSuk16uMsH+Ii+r40XcaeKPs5kvYNX8YVaAKptMMy9sQfpg1Kkci/SjWsYE709CNKBWnbo7PoVyW2mq4saZuMrPAiH/q1sjK5cpxXRkCmH2VjIK11EcH4oTBnRehVMnkWhVudFUaXH8BM3oSU/eLO6iqDVzi8qrJycuRb/52zZkTJqlM+mdSvVaNV8s7vaEkuIGokE8Se3p6KNqN+nZl/U8JrVxUYtTo6yObMbcW8SXEKjnsmt0ZoJx6oYtcjD5a2PFJbS77pe1LKwKNF1oWfyU9OmEOV8E+09JwebcYu3/JEZtk9QSRK3Yt1W+8RTeAg3isq0btGSiiqVERLqq3PbkdvM+YtjmF65Y/HihxysV6M5qILKHWRFY+Czwi7kq39joKQymPizJMp/nIl9ymCTtPlD7oSAH0TKVbUnX0Djak03V3f/c5yDr5w9uL6c7LF2HxTyZ+1cj7OUFK2UhLkuVQtq+lXcw6LcAjCHuBnFRCVhMksUZN5NggWjG7Ag6PZCqNmrv1D+mqk9ehwp2lOUiEVRp41H4Zr3EkQef5T+0/DKrDVQ407cI3vNFZ0iMJpnpld1RQs3ohatCLQt9YvMpiqg06XobxV61t+lHJaWYnl/VQqdwe9U0XRI8KAxlh5dNUzQHCSaBGNp6M/tUKmnWQLJpjSDrN7b4ao1/KlekLejGzibOTl71WVXGF5TTRb8gQWDE7r1owXK2C7JXnt4iAYFJxMu/se2I6nQLE5lYkpXaJYZ2M0Ex38Ch2yvgUEe+dHdksrIub2bVovttNKMnUk03REH+iXPlFGyD/1sZlGF6SrBPVZaEOh2oFBc6SkW5OeOurBbJqder0/koz0OxDbr4Xs7SovEQSlRcVaikBLE68eXGtBAUvgYVX+KEr1KioDdnp15fYlx6DTur/I2MBWEgAShP4FpyOBmlC5Q2O1zI2STyM5Kh4SlRifvdWKfrodfY8Rd7Mqbkr9et52oW+3wzPOFXGSiIAktryGcpi3db9d/Y2gxDpVV0o8mUVbkANjlaHo7eW7p8+qTYN9BXgE9h2h5tzLIG5jMhdb+mZusFejkjxWFRm0spYIlE5Flrc5Y0UVkY6j55hO6HLM+tw3FsM2fUkBoU2bBvbWctcn5HO3Qg1xGZbHP7Z1G8idilyLOweuYoQKQM4hQZHBY6qr8jkzSsTJsCxFeFpMY0iZtuRFpFzdBMZ7D8TrMVhk+5n57lA8oQV1JrCTxgDU3tV58r4nnkYZdJC+ml+ZNrCpE+K7MokKuK67biEFby4ws8yDOaoJKuk1KwNhMwM5CyvLLC1RXUbSmkbiLLUumGJ3e69zOKo/UT4JAq05pfvJqD4SieI0UXogBOSGPa07POK+JizHksMCbo25URjlxnXhaYIP89WO7oVL1NLCyRo7pUis0rfNncnMs/bau9eXjfhffC4DLUYzBQiGYCqf16nOiCRIQvYr482CJ4Rvor+aIP6+FllRus8ivzPx3Bu6I64P5aRo51B5ZRKrv6bRzhzpORCdSdFesPaagNrKQJ6IkOQOQBQY/wEzQF4fOmuHHSX9soLGZz/ZJ9FWwAgIUeXruGwBn8gPe77Ff4p5ft3d7BEgWp8N9yuv7VuQnY60ogSiMhCgAKlPxAdxAWbfoLiCEqRa1lUT958lG3CpEoekb8cdws5gSPSVceYqltCaOtk+OI7YNQRhWnstTmUr0UsdAbuMCHVhvYCx1+ABBMFVRppRwMB1hIfddN7k2dQxUOdBfDMjVrTSER43PpV5HSfFe9d0WQATkrOiqgBH4hfAkwMXudwfILYFiBxgDfUMQAjiG9w7FUkP72obeUZPVua6NledEDD09H+TM2ah/G3xeqIeHYSdjrnwJILzrU/MqHE+ZOHeCVCaxUg0IdiDVwLVD4IAf9X3CfxPMIkpqIkH7RLlv/ntihp4IJPHsMkiluRVH4RGygVc/1+/0TODBy+qE/akc3Va4Wte/M24SIJekkD+gQiHKIEWtNr/hxOUgo1KGmo65X+2v+QV8YzCVC4EqkERZLHx581L7Bvd/03M/H5I+kHyRzozlRQ40MmvJNkkpitplAYXarBfaGqP8iXQvRTf9eWfu6WpOcs0KFJ/Nl4qppE9Sc8o7UwHmFXebeL8xcuk4lg/ftTtOyGHAtNgxc4Aw8U4K0FrQkSzwD50IG3Gl7R7vQ2qQuFeGqZbla00vBK5YUip+y0wJH8b2JViFE8LEYtEtRlG1afBMf09nw897EBYdvUh0aDMRHmR91T6CE0zLeTRNFwNaSeRAC1V5lqFnOazEG0NetKn6tp33Lo6KjWrNjgjHhwy8v+tvxXr+hW6DlkeoLds/FTznpP01GE91hIIdSGF11geUI7rJaEpKr/dm2GWxoM++jLvJUiQzvR6zmvElcxNYEJMT+HksV6t3tXUxfT8szX5LNfcsMZsJTHSRtp8WGEbMVKZkW71ta6qUNpxe/c1ZRlvyr6wOQH3rC1szL0kqnriEqapjlDr8hy31xXj6sl6Lq7xqxojShco2M8gL9AwIl+AUxCc6RyBo6nSTkT85ScnK53BEu8VswXeXwShYivDZmyJc3sOb5xbkyA7TfNZD/VZtiIQCaA6AUiJ8K9HNAYIsEBYkGUabYPEG9j1aSFJyme2x9kuvEXJZRVpAhCbFwukZuTzEMvm5DvtEhUnvdhsxrh0dYSZETockbqX6PKAn0TqCZoM4sS6Jet+7SaMbDJUUg6iWhM4QiVG+OGbyEqQdSupKTfugtSejEEOl81gtClKu5fXFfGPHDHUm0iUA1UFKImBssJdoe19Trk7LzdbWr3q1fFUiiO3DKbxbRjIT8bQUd2XCyJIyo8oJibtnza6P/l4n+eYsZEZ+a8IvEqAgYOaJVhO87L1O8f+aVUY4azK1+vHg9uxt6TsgLpvmudzWZmeGXe4dAfBt0oN6XwlTLdP1YaIiKoM8LJEWCtTuw5kMFdHG8T0aXdJbnxJlhEVItgdfXc6hCo0TIIpkkc+r4sS0beZyqlaWjtwoTziqRrbVqUHoJRj+DFhNARUHsHeAooD2u+AikDKS3VF7bQF/b8vkvsXyaL9zkqSW+YmEftTRYxAQcWpqlX+3y0a536mjthMhoH0tWJeNQFxCwjJDAgXMHoE9gqEGKkh2Di/7U1HzaRxZp5Sd30GwVUY+Uu2YoK5J2BwV+VnlNH29m87kjpnttNOyNAN2Lmb47okgtgZgI8SWPJGjkP0XAXQRJNCxzDTZwoMzGLtVM7K5gK7U/5sSIZBL0FTJGlKIdVmiOLoCRbzxJBHCUtE8BJjMBZQ5ZxkSP5JpYXYORKu1BQZQY6sQ2TDvMneqqGf97h2FNaewvSmpYiyJNRtlFW9UFfnHI8zytrw0gvT7DAAzIf4O+5VzvR1/mGCabEF+T+vsg9rsBGboJu6TPXXP+TKmZIsqTbOiQNSs0rs4TQqDjz3+bNSTyQYV03YJIYQIkHXTj7wTiZY4RAKDO2qagRKJCcMzrvosdIn3v6VqxUjj1N0uCdEXKmiKTeCqXBVls57bK6Iekh0RZ6bDueCFrmENNi3v4CheSXo90Tl7tsxiJBdqLLGExI8tgdrtj7zc60+hlFtadt8bxy4mvdZP3JQCk1/IBIhEcP/h67FKLgKYvM7JTye2nF0vKuCJklCk8bGEnmkljhSH0JvXzOr57K+Svi1Z92kYgHZvqZDLwvO9xIe0Gv45PMfZdfCbyMlCjVlEhGlhk+EOGPlBFeoWiYTf2gunHcJF64cj+lZ7YHPErQRSueq+76U7PpbAEIsV3QXiMWFLwsjBRrqEfBdoHUMNX4bdmW6NCQ+Ieby9jdqbcIWGXVAze8MSSQejQ5fJvEiAgDQUXaFj76HXpAwRE9esOVKVBza8tzgIMUBWIGAEX46FYCxzyuOu5KhoE2yqGYGbirpKIB6Kb/1p8s4yNXxMgWqcZmq/fEWAduEkE2p1GuCY8CO8omO6xdLyaQEdUbV7EN6PW0xzhTPzRZpQkCRcrjebTPAED6p7gVffcY/01ISccc732o1z6VqYUfIuMD+JceK6/g5Uz6wVcnzuaoQuLnFhDv8FrC7puo5qghAValrYkTQSVzg7UBYd4ZcWfEEM25AUx5Usz4DcfjbsNy5q7LP2ECtrHjsKrjIOGIMTS/3HG/Ofiea1lB/N+gK2nJDBthsq2+7/6NYJI3RRRs3wVth4XoBU8FmDo9Uogwi27sp2VWaycXYTQthNupucnc3uRWJr8qwsj/uCqVmHCU+KULsqvUXRFeQRfkMhMSNOPFgV6NxObr2TxvuxUVzO+bzSDK5frg5JEn8evHTCf98DqRqFaKLNQtZpQUauHmBvY+GOPEj9fndPEtShxoEeRH6Gf5U1FInzW7LC0Tmewkyyv1DH4RLcLGCMdvDKHe/rmVtWxQ51bPcXQ3rlH+4Qf05xVxRxEngQRZC9mdUCt44Bw+HT2YXcHZ92PePWy29J7OrwZBKfDcIlUvSV6dDiKaOMUwUJncvVrQ+x5MZtFaKW6IBTskxzXsuLMmO4sVYwFAxjDk48uCxBr03KBCIBDEyQ8oK21Ae4UR2OgVveZ8YKt+gU1VuUPpymkzjI9qgqygBF5JHiV/87p8PQ/0QDWOOAuBTyHAw6AFP4ajfQWLigLoD4+VRWIRdvPtaepCF9Dd7UJyzfZXUvNOAIIhwImaT5FzkaySL+kuDPLeU8nQ17E309ivrHyVh4c38jCy2b+TTMulWPvDP74ywh0fNyYF62FRFw9z6SlbdRk9tC6GUYupJJzvHGkxWAn/L55wwrfgcCBpcawJAByU8018KYpTGeDF/RxhRst0M9pZNDtK5kAS5NpWh3fJw1MKRskEOiN6Z4Z6KQq1hAIurQkQGFa00C/RRN60HOBjln8PgOVkcwt81KuWVuxnfWBqqTY7k3f70V9O8By0fOtw7DZsT0JS1mXKSJ01raxPlSDlnCsJvy+81caliiA6yYZeF7/PM2SdeHN6TcQZmgc0GyVaqawIm3dPTGxYqFvMduqldIS15iOvNNf3ackT79FaQl4bZxUkJEFgM4gQ//5tL3OASNCv9HUhqgWvuiTESX0LQctcSr9SX6rCaLO6ZmKAykfOWX0C9JTc7iL8I84rUVGbjJshodEGiifkSIEBDpKRj8hBtUs8s5Lugm2JBEu7tJUsTMB4KUtncvsdBwok1a9qmy5L4wDBi7Lejo8LIO1vlTSe1sRtj0zvR12d+vHfWlkE5Azx13OChqD61iQuGsXzOzzd79dFqz3KUjjNPGfVqaho1Nfr7YxxzcW1l9u1+dcO2G3+3tNek/94mGDCQuu06Lqet4Sn5zJD3X6J1/Nmx7r1whRf1SUyI8I4yd4gtCXbM3iPDaPysZ/akBn5atoSG8DYoQ+vNnVraAnKdAYwWO+jBfTWipP7sTxWm0pq1PTzZLSrtYYhmmLc3FkCx1trHsVWmsHbroWXEvIqaiJNMkFp2/LgVpZ+EeOX+QXzUaEHJ+mSZasBuWhAYiF2Nia8Fygs4mpypiYHBLgGlymFjAjwCaWVhjAtw/U1UPsjGMt3F9aCUG0gtYtADZwihXEt0AoX0hbA3umF5Zw2NY4T07tlZO4bUrQcqSCZEOGOnDUTKOqbUWuXjVkEL6oMrkaOkQgJBd2lc99vppaXkA9OX+k8YQZuicoO4aoiISDfbxU/diK55cqGG22Px2kx+74B99QrV44d+/dlaGGxip92af0ljngqpXDyC0CNQwslsmh0TYTk3d4H6Fg1eTWJj4AnZKa6xcpZmUwE7mKM/UHB2oV+bS8OzitODJfeCQ8vDf2diDbmEzcoQra7xTXocWYkGF5Rrr/6iKQjlQtZQo9L0UlC4yileJOJMMDcBLzfETnTG23Emhsy8Fd73dgwgu6qHov1HLHwKydCrtSgw4jLhneqDPICmCTGZ67s1TConUT3SFJoKF0M8nj+Y+eMR4iT0JHQ5Ihj3WpUScQFSsrQCdUTsK1gHiXUmRKgnxFUhWC8AohuKFc938Akw3y3l5TwlXToLBI54UdEggOWNGUDjzOWshrERVnzc235HpM9GxVRkWGfqM7wW03ZATfGcQYJ6bfC+Jd+7iSCxtguScM3/VSxFW5HPMD8GIq+dD/qrCCJFLd8tKPoFKKSfMOOMjkxbvxhydjL1Fc/ItsdT1GyP8SxW018YP7rEvQ9EFNmCbypHW3IDoURuOoUTImdMvU6rW5cbpLvAiJWyTnF7xeipVldcUgbx+qRVDAEgt1iuOp9stobPe7pJ8qUdZFC4e5h6Ek6MZq/DQKuIRwj8KFC+rBM3LG0MYvyhI+w6bsR8gghEvd03x/LIFYOkuCWYneR/Y2+c54qT7E0V3dW1PdKkReBxv8/EtQFsYKi1cbhdIP+KFLOeu5P9EY4dQ0wv7b/+MUIFQQSANwVx0o9JQ16fEkR/Q+xBkt9D1fg+ARpII5dye8K3QBuEXCO4RIuEX2rpOiPKjW6q6qd6q6D5LSwWxbmNhxm1QtmH1apnQHagzpa/hT/rMzh7o5TslTLA2WN6JWXMBo1CYEGKQUER9PJX5M9dGipBcazQ5AoWGlosYicnfksu/lrka308Q3q49ohVefrRVs2uD7Qr7B04ts7a4+hSk8IZRmoQkJumJbVb4XmhJP1df1okd6B3LM5RNWbEWlDc9k3uFSVyor42J/xy3tjB7pKt+4SpaptGJ10/OxCeMvxQZPJI/xGEYyxbMy77vhG+4lsF5pj0PcKRgEOwCfzvB0VUFfZ8YRi0go2cYuxtvWRZu9dn7AuFHkGkesheuRV9Kis16ycl0QnE40FwxFtdozi2mStp6E+5RBFCXF/8Hk05ms8ImkLKvXhDI+FQmxklgxSHeeGQa0yUCu0KQLh5yjzaZQq2CtPbU0yiK1aOzN+B/Tm2pObLYkK3UqSwjU8SmulzAymneCCLV0Fh0kcX2egxKW6dILMbuyo3Tpumby0T/idIW7JV+/MSWu6oo6aRzq4i50moDiZng5Cc00CV3WwYP0rYtGI1bVFHMqZCV9YqMKNPxGUOZgtsTU0TvReFalSXFbPQrda/OV6f0XKzcsl/9rWj+V3FuQLX1DCoCQMi2RDkrdSoVYlV1CJEkpu8R3sqtm0pexiZ1yLQgDajF6uJSVcJiqmVbrVlp4eb9eog1HTsXvtkTG4lJIvB2IsPJhOBwclw8EtGMKzqt2nhqjtaf2IJBFmaQkleQyZhzavIIKQWRDlaaTAQi3N9gkiHaKeEqvVHv0cojSDNGLXercUTYMo1EJhXyWvEQ0mwRh2NqDrqMkXu1fFib6U+61T1iJRy4sRYBqIbxgWk4hRXbHKL5CDCTE6C7afMsXmUJghEnK8SpScxz3htLjQG4RWjGE+maURsPFuL9H85FYn/0LnOZY2RQCI/aUc2PrJ+Ktavo3x7mu+GqjExWskbjt2T9hYzcdu3JwyZlzK3u6hqMhqP4pi3Z7+K94NIQA+yyaz0QCXzCSSCh+dHZTe0zyeT0NJmCPOQyiNLVqEsK0XBHGueK7PaFJHbFtMa7OKXymnXCqhAR2SN7FIiAECdwrhLlovUwQJUHsEQHUJcnU0xW6LfT9WU4TwGULO034+XRHxcHVglwjplyekFdJPCGEIcomRHGclwijTVSPVZyHjUPsvLzMvJFU7V/SKKXowR8jkPIsCxsa2hsBDxICeqbaCqVMqCaFl6pfD/1EqAUL7rpc67AoB6BRDyPczxFCXkxOmewz6qicQRSFWi9yq99ZluXniVwl8VCSbl+gCOjvCXiRCQvUs66McfIVwXMZMsBcZuLpyH334ClilkOsDrz/+fP8rhppTdXUE/Ewt+ZAw5ezLSBCfS/SJlCufmaxyM5erXVvwiuUE3GTj4iG5DGxPgjAc4ec3pfaSUc6VeMY2I6OJIBSGTtK/kV/w1NrxxqR3B15SNa/97YE7QWcV68BzzSlUtXIqJEL3N4IscUqBEXFLToviN4kleGz+T47wuaKfjY5oWehf4U+GVjBVVPc2tt4pgTKLqEjk9IAKXkVzBb3uC5ZW2txb13MsWUVTjvUuc7Q3d7Ccs+6zV65nQsEReYG0lN2wMRoUTm8J7cIFgmmMCt1waaWbin+I1hLsyDvA4wErAi8dGvR7XDOzm0nRCdj42WklXpSUJyc+Kgmo4pVNllMqqZbJKw0LGCKTqWlozUNqHg4k8bAJVKHXeuLx/DMPu7cco5qkTnAiuDppau2hUgUiVmLpgh6Ere3jOAOhAuwOcbyISkj4RufHChBQipKB8M+6JimayLPs04lSM7lCy9JaFJfzgigL7OnRO3LTGC6lRw4/43lb7eKfuV4fV8BQ7j16UqWXQg2BGUO177KLCdR6yYw+aBY0YBYEAkwAi8CyhGJtEbDKqrXD4AXyM7WGfDH0x0EwGiDDNNa8Cc5RcQhLF3pfeOqCGyg2N0R55+MJzCbhT7jFj+D8XgD4BYBVKQ//VnWG/hrbjx4JjkD+EErDIyaQi+H2RVvgQJ/AcyDjCTiq5tNetzgfWHRnOrFl0RJE6CuLLmleqdD9DLnlVUMa3JJEiHDN2Qv3DiAoYVQY4Zgqts+fNwu4d20RLG2f104+Uy4qFQjCBCcON31MLCMhhrwoafBVtT8ZoA9sDsBTTdJg0lzZocKCcBdiQb04iyc5TrhRoRW0oirTv1nFJmfUzuSJeK4ask1IhkopYi9tBCyylrc+eyz9Uqjt9556dRzkNqJg8EgQMJmk34B3A/JuYIogajHcy8AG6gEDhnLZYiOdxmWM5AuALwVuetFaT8Kefnk2rlluyYq+rYatcf6LcOU+2FKWxcRluhEAiRaSf0E4e+IbkQ+0lHvbt95K4Xn3aqMptcHjwbnuHQncKAO8LOgVVAmn10PrAJuAt1+g1qLgs8mPgfABIhwJVESfFX0gUqCn1IiZ54F7Usa5DXRWqlG18lyFkjNp8408itK2eCHX2FZm3k0oyUnpJfCJdCIqfH6n1kYFBkM+KqseKZgQhCnYOQniTBAF/geCV+L3itKL5l4HcgZwJCLaiK5WeS5CgyUrMaBDo57egeTb55itqQBajiDxLj2ImIFBqbw4dUJHKAIZeWvFGpN5qjYGw0B/A3jth98Ncgtn7V9BnaapxMFk6Gn8rBUYOaPYOynCaVmIgvgG8CznlX5e69kItEZrEEgTyrRPw0Q7PwyQDI/u+23uxFqOnKIZVd/gSmX++Jzb4XHEBCFxAKY3RYe0JunxpHcO7hGmIyg0HPyimoc7LYoJHuDWlEiYrG/AjhA+MKzIyc3tego5I7dxKo9GctuQrrxTrOiOpy5esLJ2vN04RocoFoPNIIZJreWspw7DDDgmYz1d/NmxvF7NaNE9b7usR4IAiDYXnOepWPgdK7iIak/0fKM0Gyic0YOr3ofEKWFIldJ88RRTgSYgZQINuksql6aFlNoukp3R2zdk7Ust2b32F4hvFd4iW2c35g5/p26vrIogqdvNNBYacI3iMChLMj+cCE6KrnUQj6WhZSEjCXCnCYJcmdh4Yv4R0Y+z+nfXG1xO4oZtlZ+6ZI9S1/DuTs6tP2Ur4Iyon/TiGFv1UlPqX1MVUuElgSmUGledRHJ8FAiUUMOqiB4jqIs++GnEfC4o6+YdwIQUbK/Be0mnmkoEQ+TQVkqlWtZWY60wlkitB28/HezxChtHuMiUrC8HpwcLovD/DdMFYt4TWhxAnezXSgHhI8G0xa0jIH+tfDfJq18dK91wwFzcTjPm9VY+f4u1rda1RvKhsYiFOKvNbZkfgSkSq65wXcOZMbUtk1DtEXw9P4VUYufwnF+SayoyeuirEmPlok1EZo9aUhuZ3bjHShYRwcc3cHv7dp0hNIrWNtkSUti2yLG72J3E89tfHJFRNm/JrrbJepVzonROwt5yjAOySIR+wtJKn7CVBTpV5BMwoQnaP4ftWa9UNOJuk5I+0RSOtbSA/AHHAQWAZjlK9raP2JCBkICpyiT9Bxi2CERNJs9ziLAuT+n0oruLfnCFQJYkjt5ock6qBV96j4mcVj3qS1vy/2lVb/r8JVHUuWPeeBLadeOo0dCh0AhoM4A5EDbcASpUB0TTARKCaaNXYjxOUzvhMtxEiA17KEk1nc1saY7hQVz7i0AkzHv/pu4E1eNFMNm95SZ8Qj7eVG7NJyP8EUwZjZEXmkyB6xqwAvwAxwHFABZeyXqmnqCRB+QHNckvny2XmcUJOhogQok7dGEpQvEFmxIn2envh6AmBQTp9g5xXnShZkyLqcQqq/+yRzDwo0rpmueJPaauFEfW31oQJ3hJfrDm1+RMF/PKoek75NdlwkTaGu9ql2G3dGaqV+vyhLwN5Xq9aNDLmeZyC9dKa/B+J3rm7ebYQPWEgtwnXYemeKEhNedoSiJaY1XNPqPwKyxVeb8neRMqjJMpx8n756EbgUw0RF1TaVnjDrnZTBCRjl08hGPxdU3VOkr4i0EA4TLTl8v8RBIN7oY0DCit9QybQEN/WSYjXXa1mg/OA2x2/MwyazCMEZaPhkDY9V24UN4KPpTyK1EkY2BXy9rxp5aWKTbtjt037wZUYGooV3Su2lYCoenYTCJLNdkuBuN3L6/ie6sy9UaxRDKeX1acrpjtorj6EKFiRnx4uU5jJKy6J111JaKysYqJSeeXNkFSC1FAiNR88Fr3FByC9082fZ3imRsNJzPovhfSzhSIpNOPXZw6IvAuNU8rKV/amculUjh3R/djYyQEcMpnzL26EqyPWB4wbT8LjAmwKCwpW4sAhmFvczep1SiW9d/3l81Nex8/dnRuh2ScRrnKiJrPcSSDCVy+ty8KHA8Rk/DE5EoWBcbDea1IbBILXQSwuurFMymcRxTXaTtGKs/avsTwiSig3fYywKxgk8ObrWy9asFLh8ffna3ZCobYupsG4jeua6zEoQBC1FUmsaQvZfdFlN9alC4o+aLOS+9ouETMo7zItPxO2485R0lLU/z7CPv/UE+DfkNhKzVeehmNFrkXJtqhkhGOPWRtqaRU9FrRlSiS3lbompm7pqzEYCYzQ6aya4b1ue9uOQ4alkh2ZhsQFVXW90TDRBeqdEmkBYhTqeEai1eQh+7cRkAhCsGawwZikvYo4BMRaE+P1ccZeStj5FED1+4OjxBKCG1EyPrUdklExYadIl+q6IqrQpxL3iXt8+SNe/Pa0lV45mOFGJF7avZhIs1WbBjEVBh97W/Tm1nmZFPI0OBAbi5h4aaeJigJEhnUY/KtLX+ZFc5K9Tmz0EiqjZEp/tHPK7cvUqfeQ/0rJEUs8XDOj2AFQASSGA2P7qwAYm/+EMDJRQImyj/iVel/jHQ3l1ooFi/HaiW4/NlExKRFkSkL1260KEe5eiQWtFy6qiF0tktdamT18bkXRUFYARwghBGHkOoAQ1gPDeA8BoBQJjPJ+HcS4ZRKglFmB8IYYxaipBmA0HYTQfi1EqBsP4CljX7AqQBtXQQLjOOjZeTwlYikLvvemVC1DaJZVlAj8sav/YBwSMq3MNv1RDy/Xy2hMnEAgkwK0/sZYSFZEvCphSGjlPRW2uiK36DjOuolQPQmtEyDbf/obb9KbPvxUeePquzW4T7WZHJiJK4avS1xcEiAIPtnDTwOyoGCDi4dAt8wwUItWJxgtYIJ3PBsw7nYUR2VJ8wzLchW7OMZRvkk5QgPyEMbEpJCeJ/H1ta/9WSFyL/UvOhATu2Wr2peZPy9MTDVxGN8pLl5WwNqWkTvQtVjCxatcoevt4Dt8YlEEN5SzbXEhRKBo9Z7kC7JcITEGJ+O8MhgQ8dktgWDDTQzNzfPDEsLok7wU4wC2trJDLE7WdC8LKGjAPILchtkbM63kxD6gImZHxU0+xqMiIhZkjpDY/EGqixkaRaLYAWwiWhzQdtrnoMUCOCFwiP49pYvJumTtOuEXdWuGN0dHAgQMdKDi+LLqQq96ZrvHtrB/fP4Nc+ZPssFa020y79c7wh9PT39lkTFgEu3HqPv1M/K5RuRQrE4Iml57CAMRn0qMiLTtlz4L5bgIlzT6Ldq4T9qmII/SA603oCC5VFr/SqxaD01BMCNQCCXlTtoRlUDpNh9JkBiNcnV3z9ykkRFkR8fO9Y765ekU57a+Lg1rCeDr7LHWyf3MSc+PGgLM/IoWyhDNKhlN50J2LazyyIxj7wUB7FCpwLHNHXJBxo7I8Jso6Ii4jfxf2yibSkiaJgyGuhPtnyZrZmF2eQf/MhzBz2KE4cD+rR9HPdruWOrjkHvhbLU26Km5QEpvhrqBZI33CUsIwhImfDbd2Z6hNp8GjjYcAs8vY1qnLwpjdzWkYb5f8SKIisWCYocUUqryE6dBkTelqJGLDfa8UGiFZi/YqfPD70pE/TZfi8ZFPnvt+oqmhTMqbrMUPJFRSo39viKcxRspWPQ520kV+yzuS39BJQofgX7ge/1fjHo0RsCSCKHavU2nl8aq7pDzPpRfezAoQEICXNIrSNrUGIlO4jrx0PkKSIe35j3LG3Ot+8p611RJKMbTvkNPGdLpFS9MDNHdlZUixtw/D4MRSVvzjNY+UKpN0+stkflkVTC8ubNVKbK3Zxrb4jZg91q92vaxB4ZGmcWx4OqFvtqiPRFmtiWvtjy+LDWPvDiYSOFBLaLXJISTtJX1nJIY5js9QyQgeZLu6mosot5G5YfqO96ErXvR8b01V6qS7n38EtgLKeLJ+YmnkhGP65bYhVu73wSHE8O6yuJY/3wqRp/OTDHukzK6g1JR8/xrHASKNy7K3NCzmR2RTkNi0xiBs5GG8AjsjpzEU6iocWpiIKR4cF2KaEl9whIpVNHpn1g+LSmN70E5wmoQbEZX8YeNvIfm28owUAqU6oOVfcuVJaHrmG8KJVGS6wdMheQQ8Cp2QFiBLOf2SR8Oq7cEquSSc5WJXyR+m6XhIKOGJ3815giURAqUgg4TL+JNn24LQ4nCTw/kVUSEY/H+JmOCS2geAmdXW633kvLkpb3Nrtkz9H1izBot2J41T0k3H11hIlUwwK9CpVcx4om5A24pSKJkjRLyPGUDxiavZ+l4m4JYD/9m1qQwIrYJAH+rwPyv9GpWRQMGcbhuAL6+tvo4nSsLKtm/ERcQKqCIcjZ4wG7BmnBvkkpIzQ3IwJBjhanQJQ65K8YsxqxzO5TBsSDooUy1FFXiP1xhSyjXLUIPW2wLE6IuJ2rDc5QUbEBG6KsBXUojxbPgK2a0j3xrLsURqim1vsNGt5DHaI3BIJ5xKO5sbvswZAsFS0LZqt42ThozTxEv3NzpJIm7PmPoqSdnPjZtvmvaWW2N2OEkt0zWMjKJYreJrLd2Q53p+9yW9NptaG+/8m4mmVOlKA6xAWMyU9sHHSjsVyGMojdDoSFV36sNxEhvS+d3ZX6p5Lq8mzfVRn5EvVGh1skMB7+6Puued8CM7g/GEuUOhn1uDDDgOZOJ1Hr3e4/LCKZ2/RH/a0sNs/q5piD6aGn4kmG+yuLI8v12rxvGJlv+yoV8FV+fkE1BKxlLkCCjDqI450XqI16FCGs4065mZfJDAgooQCNYIL6vUiE70sE8JrtkY/6K63q957lMkSQWankMQogqDl4M9VFeF24CTpqhLGuuJaCTp+WEdtX/qwJ8XJ2zVrCUQmBYikFWHWzVUM4sHmp/YIUm13WU1PfJjn7OMn6//jFCBYNTv3d/ib+lP3//Pr89vyc/Gm1OM2NlfchBSfDDe9DiRos2uDSLFh/N7jsnuRj5vBHPcQ6FIqtgs4hM1Yh5x1w80zRdLVN2yWo7BtMTbP+K2JbuYr11/m+5SREHZYeBF1032P37xrtbmJjPenDWkIyLhxLoaa71ixvh2i7k4ZJZvKVZHmHC1lP2GPEfsITZV8pJaGSuxETXrsfrcEqU4yqmG7t8Cs/jTuCCHd0auG4xe9n6KhanKt1ZWpYZEoEDX7iC9Y9eu1skyVPjnc3FhF4fo0Y5vFRfTAvsOPQpXY9eikOobn7/5bMkdCE1DtP39bEyaC+/SIL2J43aNqJb1ZSSMaroNFLbpdIl3oq2CtcBiEWhjjRPDc+BqIepWG3Dg7JCDdgTtdmoxV/N8x/AS5C2XopUPCYqu8pblzmC+/doZAu/dcFLS1Q0wrIjRW8oJbId9ov0lGpziIQNAovypwViyVLTXFbtvuPCS75SICT6l+jwg0rEJ0UM7ywf/slCe3No50ZMYKqw3JcnsGDSPk/1P13M//DnBbcEuliVnAJvzFWrk+wlwRbHX+ao4un82Hj6TKJo3qsvQSSqMAGFEHOdpQPKXUdBTak3muhTYSH232v/yxqdlpgjkmyb783xpSgYh8dK1aSPmuzCT97Mwu3qsn0XsRkPh+V27EhnRLK/EGYQZeHtVDsOtPkIKWH1NJrgYkNyHaYhH1ijzTIdunBUX8Go4+pJAx1L0yypLVZyV/IpvqJbEmRKpTKTB6zpIiTT6pdpjHaPQZy9cy1q5mJRyPVtGmRnTVI818hI+JTyGb8Dgwh8L+0yJIqchWk9kDsosgEk3aLFEXP+Mqk8Y3JmUjotHlCRwA2BN4SpK65e+dgUIzSPNtvUW0Ehvca9kdcDR1R+rjIcJfKCdaZnVO27yXgspeTaaex+xorM4VkMfLrWjjoxK1MdRpjpbbz1ZzZ7+blp8Qvwi7ODnbxrdTioXCt1ASyXpb3EyCa4ClyAkkt+qpZq8aBceYszxTZxz/xBCg/II2OVm5yzltLowULYmKqijUzReNmEv09/hGU4u75pf5Ydg6YjNjzipJDkZwjEwnMs6jCUaGfqztxaljfpROe1TdvEhFXgDjeTXEc0AnZA3yISGTTl0o9pyRe5npRtJ8bFhqoqO/Ih1KMklUieek7yxdD3lTz3smu0t4UyutjRLDyLA+6hEu7KULpBYxdpdmNlIrfVHC+iR/bsJkhyKMOUv3QIICdn8cJ5eUjX6VbmeO+0P1OL6Zs6WrQx1JRNL+FO11qbZN2Q30uIrLDBEUmg2aRYWcchkVUE1BFQECdBAcqXF8RuUWiXtWszRQV7+VViBonQT4OcEfwZ6ZjlUKi6v1w32bAPESugXCJ8lxqOBZp/lFuTrDEnRLHxRSPr2p4ueXrI/HgrxYPZRpRQJSYl5DkidFJIVRWH0wm0yjkBJoMyBKgNNWWS9aI1mRsFx5rANtwKMd8seDdRghuRlRd7Xu/hIN2/bASbVKyd9LjJ7XNApmvkiOn4OKPJkQiQUhRbOypEd/pSKE8SxeDSXuEbAgRBn3TYz3UzyISWWD1aSH012j0FWp5qlURkHXeVoo9YnyHkECg1WkCwrbFgWdpMInJK02pJevAwJsTWOVywRLQmoWqZmM2G0EhqVeA+cxwzcJCvnwqbKueCSOewwusxW6hHr/yeFYIKElZGqeZK6JY9BMoW5rVJSv18euOs4nDgipjIzymvKDQjuplXYva2LWcMxKcysJrpvZkowi8GLJXD12pLfspt8b57RSrW+col2xowdt5+VjymCm0Oi0qSOewE+gqpHkEjXTQeZI7Rn+iOiEsjEolOTTQShUiKRPI8CiViQeGRKR3+OG45iVj5EoLNOV8DG6a5Y7NtEend5RUVpqW2ZC8bTyazKYMOqCAobLIalDh5+gjcaJ7KUd1NXFQSFGyIJLTBNJDM8ggiSbjoJBkXcL6rG5WSNyG88ufsamrYzvzjzLNRCFwCGyfBDc1nhMWyXMHOpZXphiZPlcejCKiL9v/l9T+gzNVsaCMln5hIRFEB4qiEaBONAuPDDigBFGcI8NlQOrtZKhB9oYgiGNpXLr2f+cXrCzCDLI5/IoZRZbV0li6Wqxp9xhPhjCEPE8usJxfGIswIs1v/qsxRm7ITIogwFESMlx7RbA9wxJt8o5893EIQzD3BpijTVcYFtqUegq9gl/RjtkPjrILZO591BLpQPfabgXUKknWsg+OKslcC1Zuph6Sh+TQSg3LoCNbBQDZlaAWFEIhj8O34hEkfDd5Ohldmh5rR/W7kzYISZ/w/45TwLP7VkuCgjKiQzRLx3asjhTPmsJy5NZlBqz2AWhLHwUEsPw/LICFs7BYEC0EDM9DpDaj2YlhDQLvpmTdjOpuR/xd0fRm6qtwXcpZbf5VZ3ucNZoL8qjIgriuks7KRfG91aMNrJUIstwC2/BUAMoA0SwQQA/D24gHwGU7AmBTOA6GMIk7Ohc2WZ4cUdzwM8cjrdR9W6r2TFFtmGf/pCK0qIqr4wocxJJsZAwQ6a+3IpjX/QzkaClomVuYyWB+BR9B4E0WCkRz04LHxgTigNDVwP0Th+lrJcZ/m7ZM8JMzzYCb4Says19ExlZnkkwDGe4ptZ6lXvYbEHJdna729PXudRW4kBK9zvEiPA6i8bFgiLwiCUiXlisGiWQAWlAkEZIgmIvp1KIobrvkhDGvKIgkbbeTvrcm7S7Re3I2WIHbh0DE7trVZd8oYSogKm8VqioPfij7F4ErFMZt6CCjHAoPVyJSbUlvYN7aVSO6HN5S3Jh+W/hSdJ9VGBh3NowaFB3eYn4PGh5SXddo06MtWaxa5V8tzUyEJwoOHQ81G2MOojRLBCwGXTrlsXK/fStJjduklGyIgC1TTEYZ6Kx/l00JVvRfOmrBZ7CWvVR7zedluv/YsrdFL2Ut7cfZG4hB5L1X6xmkSWKGTdfbs3j1iLpdW1LhkulxY8HcBGiASbLFMUtVxikPdbE5hlKHMq88Iy9ESBOHa6ltBt5NKVQRkItjTK7Dnri/vZz/iCfhJS6Sc7Uqhqyq5SPQYaFh/WwXODFc84r4pFpLLtUojodQMt0KrIeFyIFgmN7XBDJtYb14c1/3hwKshNDu+BaVNOWSCtlVgTjinL0qqKXSV7R9SJicGPmJD/QGnERrDq9+LV9f6wiDorVUzGvdwEzd+WFYqDj3+ianKhVzEcezXMp09xFHeZG9qKFIFtcKaWzt7mvZDMdFKtFqyqa5mqmUkFPmK9AEnNqfBr2DYrWMSK3Qq/hSFaOCQfrvmDJbKrq2vN+90kb/LRDh68pDpwvaY0w0Cl0M/3bB3gmARYqOJ1pIQBzkUos3VIaTxyGs/B2Zi5Ob5lY+6/SEKlxMFuNP7lbHRp0faoz31/2fVNT8oVksQ3Ziw7cDVlaaBrtvatqKA8PdiYKDP5qjKGuaXqOJcn01SbAFgAtwPqnerM4YwkySCeDRAjCBvArMtrOjaVklpcL2vWlFoaKcit9sMoxGGD5Rc3LI51wMc0bhAwuTP5eJj2SlkpKvqNJN+21t/XTrL2R1FNaQqbKTLQUWu34mRJJ8RhJhLJnc++R2TfhM2aub3m9GOgEln0FNHztNCsFPEnTMHRT8JsqGH99FR9ZI16Z9Vrx2veh12q429VunA5NJ146nq7ZY+vYs1Flr9fIGMpFOkmoreinoVt3CvBQKvBH0ON5Lw9zAZp4FAU41jTGVDD5E89eJmI9giwLfkJHaIddKf59qghVMWcNW7ar8Hu7FPiVtus5xDEq0qXm3KZRt5Aojnr7wuE2cRH7DepzOGmH1ORYln3FA2BWtpSJpiWO4TBcRM66MFNc/0NHBRO8wHSTiyknOKx9kZJEz8YKka+erGCuIEv301aJGx0b5I9RE6TRFzsZtsa3hfqq8187ciphYd1IciHH+ZiF8tyhbl7FHwNcRGM4VRNdWIUinnSkVLhGA+V40vStk6Sr64OG58CKkzVWggUfV0bzJgt5uOKe2HPvL2jz8/r7DFk3rV5PGk763SwIc5wkJ+HohWpBNO/IQZCEbe9Q7wkBFDDWzzNIR4SBRu47RAYIUSneiVggRxX+xUQKyQsd1lfc1Sre0varAOdlDbnclUsTOarCPOCHiwGE1RIYbNEsNdXEawG3+IgdfQQZnChQMiJz3tztuQ0lbe2ZKM49g9zyuhnIHVej46ky2lCCA2UBtt4KCYEOGgMKy+BRXRPwU1z5hR1kVHLWKhOeyfZTbFeK5ksmfrhCZ41ZEwjvEvFTMbkfX8IPAY1D4ySE35TRmG4WPZl8bht31t2eEaUbMz9sKaQNtbsIVSKny9EoiL7WGKQI55JKnYnhHN+QtagJhVizjo/2BFzxjEkCaIhfxPPdqHChIFrKYqxYUDQ1goFnKNeLUxLvpbnUe0LaMfOay0ZNaesV6d83lo75U/koX4wkQzG8gKKo3JGSie/t9qoM44/gyDKJhvaBJlo4CGK021yW6uf9Ry/s+5MWuXicV45fqWnRSoL08k+W+A5PUevIcCyYZ4SBzW653K6mYSRqUf1ZM4naCHTXG7jBxCi4Fumuj8Ood3stZ7tIjMWTGBwy5aVAIpiv1eFUoeYVyQaI3RVh12QDRSgesf+zOy1fYnCeC9qnF7jUCvI5FWvGGTmI9lmNJIMQwsqI3P7zIcN7Zzz/v42d5SaXfwUqiXqSV1kFgtEoiMj5Gf81hjdwU+PW+YEowefS6gESsPsVo3G6g6AfCqjREceGvg2DAAQsS3e3DkfOVZjVkr4O47wukcWROXsVmoYp7Jl6HTgiz2bSts2tgav4FX4VdfxhzB+At1hj06Lp2/dwdpGe5dyqMjl5lu/HQKduEH60rWfQFWvqmSFKOBjeF3vd9v1OqRaSdRVhxvWbCkiKanKExwJudZs8RFxFEzoyUtrVCNILXoaz7yyLhpbloKmK5oGrf0XfcxeSElZPjEKp+JjMWQeEwREItS6bJ21t8x0ULs+L2fF0kOQaIdZP6JWCoRzJ1g5nOS1az2MMYgcd+6/hwrKehkkUJSN+YN/i8eGMMvVtk/dZcoxYqDZndosmg3tdZOP6/e99rTRuK1mja26P7MHWNVB0/uKIQrdKIXyMY1B4VvFMslFqkhQWZUx7kqjyV6j0Ixvn4UiK6hHlKwxcLI4B6hjR0WJxqcPQbIFpVFk+IxTFUHWKAIjuzFQN2ka68J29jozTcaCNyyKv8bTSzT1h44c5uiTyCXhZamX6zicmAKtl4/jUfJ104JGaI98mcuzVJXLu96Wstkp1XbETasz+6ucT4mRobi1RaiiAckxZ4SEQ32LmuYtdELOTDiIUSVrB/yXVrpSwjT7yghdqvp3MGs5K++p6ZeeAzuXu3V+atEWtmjVO5lQhsrgPqhqZO2lUG9ivwdWaDYapvUeQnAIn1JK7CFpxWlsuyQRwjX2J4jNsnArm+vZFy0jd0swAXgx4gY4sP1HTyELGaSvvFRehEwTrwpMTfOQZpPu/ma0r1lDg5kqtGUBRW87SerBqlyS+XMutCESmJh7oUCq9Rdpg+mXPeR4rKWsYrTSlEMqv/QcKE+6VS7rYDkpoeqfSSvb1ohJGvppGHPLKPyU81AIMTsGfP+qjcJYnOEcIn6f/8pgsyICbx1Z1gThw/sshj3BJf6T/fZ0yd9XS6Sy5iVazvtvsXLMQPJJAkuOxq3SuK8sgB7S0wnYSBgidkTik5huqxCzUBN0rZogn0xH0nsf2ZGDoaZH49zDvj2nJEmGu4wO2Nfaz0XzMU/eIL/0pKMKsVxbyr+VKiFcrG2SovO9ubZAl0XJ2w+tvCfZDPTmm5mX3ZziCZxDeW7fSDUCdB4WjieI00GQ9+NuLXQEOxBoMS3dKdLnMN1f8Kdyjiz4VonkulcXAT652jrRkFLKrtghC/D1mZISRjyKdJfw4a4b/2EQfy+1lm0WZDvMz0Nr2WbkFXbz9pj4cGhpKKbRp7BKjqoz+lraxKooe0hiEeYhss7KhGfgk/zzDzdWaZBNdFI500SxGyytYT58LGi+iIcp0aQ2YOUSKwTM3pkRq9GKwGSIWClgz5+hcI9sVeKLX7fGjjDJETn5W4ioBeltzCfqm4svxJ1Law544UgJ2JDQ82gyb2izpk1Eae/GcOkOQpy9/lT53iKLb7FiSL01QqviJVa8fXJk4V0jWQx0FtG6kjMdrZ2q6tJcjqaNtqAFpBr+OF2A8SNgJ6AzYTg7T2JfoqRtTzo2F+C2UR/Qr9lMQeC8yfR2l6yTwsT54ldP+ZGCG2kiJRb97WCe99ClRzTqmydscRGvx+TO5fd7LpL4rou6D/+MUIFwpQAfX/gP1w/Kb9Uv4f/r3+ff1otSLGrJm/Kwcn/4HYHHjo00HBs9cIwpVnhS5LmjJsWRnWETtLdvwSkTvLJ4HoVIuRLjC207m4E1Hyit08o2RNACIj3FQTXh7Xi9hUXhSMiGE8CoPR4lh9Y4hFwH2zQUUICbAkThK1yFcUwJwTyirHYPYPwsqCxg8epvnCK8gxM+P7C8bNEfC0SeXhTVRHNgII7hHMYmCE4shHfB3SDHRuiIAvqNcpiFglY8YGHBjT5ANMi4P2GDjJZnajIEACaI2enclsBSnGzLspHg+Is8G82JCghuWbLMJ8jpl1h4Pg9ioPQR5Q1J7uuMsuV7Ym7+eR26fZ0gJXXzg/c2kXlZ/TpOQiSeRKFeGEYbne6G8v73L4dTBfzsIW8vFN09UE3c0VTlQpeVTYcC4h+0oA9j6g34YPNEApC1AtArXBOTGiiCUOlSHnMn7fdectLnUoCnA8XuEIJpuijbZezy6BNAgBbNNrr8lC4yEm+tHbIP+Viedp+lChaRnVmFxw3SmlkFEoIhj5OUJh7FYllddal8eBebiXzaovhIRDZJ5prYXz04M+IWCBCDCqg9amKgulJIwCSfrmoiiC/FOWJU/yQnjTvRwxCveIS9N+bBCFZq+L3XCbK0EmWqj6fVq4+m6ZlL4HW7e4vB7ELhLS92uEoZW4XwFazkYjCcbKRLHZJmnUQuUZ0E5mcboiIepE2RkyKOFNMKXDoTF+dLBhbQTVbQZqABKRmbhjMnoiIFinjS59L7wxzUKy0LsshIda+wmHuOUM3zTCc6cFT3rakIpQJjPFiPl3z1pzXH2u+1Ly3ovrljvFFIzSwEBj8qHxdxSVaXJfB/uzkyElKRMEaBuP+Rs17E0mqx4CmTjlPMBPg/YMBIWABmgaN9CiL3APoPa9CVYLsfgYxrfFGrrSIviOCOcIT567f9FY8rbUOzUwBmN6zIFU+ToSiUJJlPiaMnwY2lO4qrgoGVuEwyN3tcPNMe1plqO4XxJOBONBSTnYUDMXUFE5SaTTmJ6ynpfTkzDfZy5Np3jFfs9uQK8ah0X/uzrrwjA4FJuXiyvm/84OY9hnKrLPtdixwipctQRuLaylPsx2qZAUV9tr0fryjoccy9cqAwUGlltU2uuoESrV0MZEZMmMmdeLMDMUEbVTIikI1EuhtDK6hfDiIrmKu2F+siemoH0uoUIsHTHaxlVwpMuPC//TO3LRAvLnGRxZZuXc2Gjv8ZkSH8hcWcszNBYtcdGIgVK2TZ8160ZKJV6kWojxyNx6MiZMUDsLQ4HgqAiCUJEtrGUYcptBfO6j3lkxPZGf1rbDRQkOAxHJ+dmD38o4UokqeFG/Pi8zesurVCTqSNGSNCVqaplbHPtzI1DF9hU5jMuE6X+T2pDoQZ5Ub4SOdlYLBUctRWbtl74eiIXtxAcuw6gdU1ECCGMOKfLKG+OQ3X6WSKsG5ExfeC4f6sYppfMf5rWYqxYQDFOWXvn3ZRcbqjoe+SLYS4J3aTLVw1r9PGg3KTNJ3NrGt21yDJj74a26R07RunbPC4qfuxQLgqJEAI4L7DNDeEc8irpQmiQySccAihF9PjshafnBvockdEWdpTp1jYkKDxDyrfXJSo+5avSx7p/NufTnVRW5kbnZCmQniIsKGhVs9T417FCzVVJvRlh2Nn7QJwuD4cIAvEYIzYZGhZAmkuC7iy0gnxs3zQhkMsZRNZkgOBq2WmyJJJCvstammziLjcucLHNvcuRJnW5DKozi9ns1fCD1zKAnYWqfDZOmrdkQEdBSVihAycPndCmKkAhcv3x+OzksEonFhSUPoI4O/dFDON7BFCuftOZrOsCkOpRMy4UlYzjAv9biWR6JBUy7/aL1arp0oJRu0N9dbLaa0y72Gdr0s+fRJ2Jdvnvq9oXShsYn8UNS46f0lI86kBizJl7lKPzEIBKKSIraCyBfBj7NoSQjhdSz9CqSxPjQgktRIEgucJxGQUHZPc9xrV5sU5cP3lkxNTdyaJErd38+u2a9eWEJ9qkt26ECjAQClk8ViZQ0LNBkamqobHItICY5EwiKXZgEQqGrYfDgZGyoLYLr+cBxbqJbrlJiCclVrFYglUQC4JhKuixmI/Sjd5Ie1V1sBGgOihcZUtL1YoCYlvHXsvoU2E2saTeWPEi9ls0I0jdPapA5wf2RKzU1BfTMyM6cKSZFSIj43PCFOCCA1i+wHEVRdHlNwE1QILv8TwJKs7CAsU+hqDitsZX6M4jmcx+nyZVWG1E0Ppr69oPG71p++JN/cFEY20hmChbqU8KrR5OWvw+pcmdFYr1KhzS0h+diEiZuCshJjM7KBEhE8ApqbI5iawphH2ojNIxF8/IoJ6gcD8UrBKIgk9K8i+pOud1+ClMVOlKKc6mifqk4VDO5RUhGfkB1kJUgRsJwXqLRzLXgmQm3KMwncCYsGQQtVnkRhWFpyUCE1GQ7CwVlIewPpbIhbbRvc0FIS2KRfFAsiqQCQKBk4GgkIqrngIGRpbyuxKyZkQNCqzad8ejDio5PaFwsYGCJ7b2O5Stfp2eTDmqCzVitNu9DTH5CWpM7cvTFJIXlqPsIS0PU0MIBZJtU2gll8Kv+uxJpPrKwJIbVpSoGRXODIe3eWvwKpJOYk8pFyuoMHc/vded1TUlAm66semWOpTUXl46y5ixFR5+eVwj30uDaa9IXCo9YMk8vSCI1PhEluS8bBgEZaRwOZvtfXd1PbngpzI1skUx7vkQvC0QBGHQ63M9Ld8kL77oOC0oCA7eDLRQWTqEeTiQE5gpKw1JXhXQxApM3Bi6KUbcwHi10R4nrksLghF4qTpRUaggMjIzGhWHAwFYvgQVlKFUSTmOtatX2KstjUXzvSQCsneD0wLPplwxcBVKpXzfISgkNzGiknah+V37pi6qEV+Tqsgo8/+2lclzo2DHyQam8k67uXCuWmL33HGmICtG8YFRkMTo+HUBDFPGKYmgljazqz/VMbeQjaHPSiEQoQaRC+yXdHhflc+lGvqlx6FLWvktXOM+F9na2l12Kg8WU/z1R+kt4UFbRCpQ81Gso3NMqI4DQtaK7AqEhU7IBaWAuMBWKAQxnn8SmcxnCSQFOVyJb4tC/XZkIuMvJw0coiNQojQu1imhqkxg/LH6dXgQJ01PoTdnRekCoVk7d3qIEjP6VnAiWUpinErflQl39CaCcfGTAgKy0z5iIEQYFYLTUURVvor6MoihnnkOylr8x4J7b+ulKdkfoSiTPM5Gp8zC2r/FFycJ2Yp/X1F79Wv3fiYJ3Zku7mpz0HWm4Ft8y/tc6PXnqdfz351sjBkhcIbVIxKzEXEJTCSS+xnNIWRRDzNFdxc89SKGFH1TzZkyM2/ZT82HJvvl3S8NQwpWPU8q7GmwE9ZpQ5yF5yEBIRkSRCWCWoYczhYk/tFBu1/OmCZ1QuzV8RCMtCBAOC09H5k7PZ7bJJe2UTzylyHmqQ3bkQd/xGEBeSH6K6YbSYQkyxX50q2NKsLU9psSck6Dtu3ItyUtFgpdly6wVKHSxYZsDZF5QTpGqaxK/rijEB0QGrMXkpUWCotLRpd0leN9YZ0l3ml1HXWFeKKa3ytDpGWPy1QRWtQndFmJA+pPPZESlF5mbkLX4c4JciF2QjBKLt09UWNytE0i19lacT2X9ltYpKiM8rIlZ8Ym35ocQVh61aBKejsGsozFoPTNRKVAS4hus6IN8okatKSmFJZz0RxC2xzA6N8A/bJVZPJXpixWcGFWC55pZvhcVKqqqMDaEIoXVna0q9ohBMCZWPikQFBIWazqPmaA7bWpYG+S0TZ7qOyTqokbG12zpMUY+Yiw8+uYLhlw8KoDy954PL1Im0os2NpOOji0ImZw6RC6JosOMm2WptC8WIK1ERIh67VOLEfCV0z2Ywpc0iHZXdxHCnWGZ8evlf8RqCPyWunGIgUXI0jV0PUX922t3OTMI1T+pPfzFq1gO+n8fhj5m0JaVtq9IIa52czX3m5fETlMWjsVrM6q8Og0xg0LiMWrsmi8sr8YncKqAN6A/YBUgBgDDov1qOgOboOSxXYVUisCtyWUjT4p+1GY3NtoqCkZwW14zPJQhiWtsZc2lpgY/qmISkBcAArIDrBBQW2aNAQZmpMmQKKC7GEPOZ4L8Iijmj3ezqyudshs5KLUnOLaRZOVAo8o/LSKghnWSzE1CxYSb0FJIzwfzdYcqFfi8U59RctrBZwoqMLLs36EIxJ+b3ZeRNY9TU4akqFgMu9ND/ZE6K8rDYSc1dtSsXKqlSMVerI4DoJ1dcX/jEAI/qtF9yLGVr4gqkG0Wq1gZDuPIP4C0XogH0QC1hz0zGgKTYH0Wo4vMOQcanLMhw1PCcRlxYHCJpLZo+Rm/wxYd5174kZE9iPQWr7+raSNjZhG2Iq3mB1IGkJc4oloreSk8iVWPLuQFPfFQa3dxuLsSGSX9Eza+k3mhRFHauWxUK6jP55FQ9l5I/iDe1jAVlVktFW+SgmN0LWX6s3EpP2a43zcCYRBeyyBHnGp84CUoUbZrhJhsapKKQUDvt/LDRPR5WAXqBCljRYZ0EhSxYjtwdU+4vT7RmjIOJfYhYjLiNRV1ZUJSIl4vRBkJ24mYjPRmWFZirPhSNd+G3D5UKaIwNuOWZioxiiqIiAyQ0Ps1TpwpJurkgteCitOAqySWrxJOIIHWqWRLuJfi0K3aeZwpyBkezFnhd31hsU6TEYQpoXZtUHvspC33vlbkViGS2mCPAnckZLL4ossZLEqWw7Cyi0vDNKTjOS4P+aSE/T4d09NwelQc8dtsO9iCsOAouP+aGTEm+hVKBlb1CgUkY4suse+VCWm4TBFR9uJMbDKKngiMtdHLxAc8VCUmy2mcSJcSJuEhGiKag3TEf9kuVFtK+qVVOelBOsTzbo1L01mS9B+q0RiWGxLS8nU4Ix8xVbd7Nf5fpFcp5EkzczMvQk7S3t0jmuUlxQ2uqNjaL8F8RvOTXl7Ka9NzICitI1ExwqPrTE3vUsGQIFwrHZivoVTvGTtOjO5XlMR6QwU+tWSeeNKJGbOkTrs6xSlmAbAThu5zdVSVnShCSt/iDc2CMWC8nIWOjJuHKHVcSpkZCxo9kETlSkawQoIudzPgSkhGOsj9sxSxrKWYhjENY6wYLk3alZnYKBeCpvLzO1FCGl5STMzEsUuE8g8vvhaXguAXgqUkO0zY092aIdo34UBuRM0DhbV0EwliIT6oEAMRU2KVGpNJgWYC/qweObViTyFF5ZWLgd1ivm43f7wQ53bsKC8FEgJauITTYMiTo0iKsWH6DVnrHvQo+rTwS+j6xm/89lFOi+feC8nFFi0qkeyRxgJ7oY60SrjzVDVR2oNvgwSCry3yy3w8EqxjQ+8tQ5wVyUg8VUpV5Xdkal8RmgZupicIDnYKDMsF//iP5g623OZOovPDzZcLStoRio2xWoubzEmOMjovvYOyIxGFQYCklOrcBCWNlZFc6dYK2yskOk/06V0LVy9gj3luxmRdOG4nJxBONG+ioruJ1PxRtiP7MU09+VwjXD9dayTB3wzO1zch1Oofkvr9AnJmS+EKz0syuZkRkxNTtmURkTNwMF6YZxJtOfmr/FryxLmjIgEfxiSJzBd4kVsRbiBoA//4xQgYJxIAPBFFy/yV3+mdDpgnQmIYoj46OOqzU1ZxjgJslYZu28SzgmTu937gYZxpRcYqSqEpbm2edHDXgjKsoTAEIOi9OIB+1DZiKBv+VN0H7ERdyGr0qDEszW3w10XIXT07CyrZWRiwIW89YkovRjNcjnOjsSeI8ynLlte7TMhzeidFnV9BbqZ/hhBEphW2cJR46oV9plvtPrjVIqYnEk05DZQUCrHiIT5XibRIyv3uQ1FDqdH9DO9iE2frLayWmv6i3Isbsr/MslCb7RqYirL2NZTM2Rr7UCpcQMfSlFU651TEZ7JVugkBA02ERcTmUeYNpBNe8IFl2bCLqQJaidqm3cRYabsXZEAquEXShvI6uqQLHdkdESrJ6Je6iARMvKCvAJtS8SGciGB+lQoCad0xSwrXL9QvMJ9eLkC0gL9WInCWNrD6+YmCmRw4LvurDAS4JBXY43QwpmOpfUcMElSSMdeyAoKhClVGob1wYSDF0ERxAoEClz1lCcmtCX7NFw8thcGDN0fNnmCQa2VVFRQYfBjVvzmVMAa8JsoN7ID23Fn16BCmdOfAmUFmhfDQCB+DoiVIK6ok8hHyOgqcUDNgvuA0JoLmeDojYewE5I6AmSEcHWFzLu/B1OzLKh8fbkbt8mMAVzu9ckhPM4D5XD8lh/IioRO7QwY2+T7ZA0IlICbSJL5UQ02uR6wm6WqmJZOnE2nLFehxnnRFgsY7k09toso0UVLoQvwIMWSRYPZyLME2cHm3j0iIcG7A0xQOZPkMMAkYW2PKWclQxgNQUa+gp5S3zRNkwgGskRx9/QQMIuBEcGRRnAjmIpMlpkh2RxF0JSMB0utVccbdQpY8ESRIVZYRKSYFTBOya/+MCqBVJMfF3AqUJwM1VFVjKYqiWMnD558/lj8jNrL4XDKzYwTeJ9yVWIF1G1eio0P5Rn/K6nzaWKsxdG3CYNVMvKq4UObHVll6q4UeimWOpiyaryRZEZoKFzzkGfquASoFwhB0ojex7mcKhRZt6yBAqErLggkb4arL0z2+ENJpqVGGpMqf6Gnavfc+uWqJxCEaBiUmBWnHA1UMhiXFi+iAwFUSTxIIih+xBsWTTkXFPxi/5PvnrKrBQdllUIUsZaN+SJZYXCAvgvREoOi0bG0gRiWsig66uKWFzpxO7xfCIQfgjZfwRic/BMbFh0DD4dHrNu+FT1YUX/uvCbXiS5chkjf6ZbP/rjArss+xMq+cZIUhMI8Id4mmZ0EVhD13e8mfIa4fJueCRtFxF/giucsdsZ4LE0VSBI7EhCbZJaKBvrA40G5jB36UiRbkXf+0dcccanFKvfKEvOtHYaiUGTBoyBCOVSFPe5e3MBi2KJxEGvqLtFCmYPHxxQdHouGyIwvCz1hpsuJEer9AouwMsa9P4SjK5glu655LktXGulEGPrwhSpIabPLMpaqyM4Ryxr2Qv70rhw0K5F0+yWC69HRD+6YsuiOwjd6QsZL6ZOe1itfhk/JP7vyWaum/26ZWz7jvQxcZpGaGxv3s1ZFS2K+lbBQx7jTL+d+9HMOHtF9ce+EL3iP9JvgtdnVs7a1+0hVW34T6I/tL5mG91Sjmc0YuEMCqCdZX5F3nGTTKUGVib5H5JEgUT/CgDUHwbAPwSMsV165SuLuYji6otCbdWSUVDaU3KkuSpW6LRA/bJe1TE/FZvXqWOHyhTqlueNCoQHQUuumCAHwcnMLN3RJZflxjBttFcEARqaUDfV+ufHzF7lzrBUyLG5NS2gE00BfTDS5lOwqikf24VETAHz4U+GVa6k6GxIinc7VIfbW7QKA/c22Ukz9pgDazxuS00j48yOk/EV2UuIE8Nq6QdS8NlUj/DXQiBChkn5hBYp/SxaZ6RltA1LWUlKreOXHFE+1JG9YIbJVCxMcUIpeTIEoJBMEggyOFHRKPjgxnSUk7Bw1rFiIsLYa8oKj2Mq+yXV/7nVpKusnkVqqmqaJm+90LMYFyfpqkWZ1KppWhLTeWJDttXDhOlkyh373V0EsdEeE+/cd6HT/RPK9OKd/mbhi5Rdv4f+kPcyForitWonc0bFHwS1XmeyXrB3FBdUUuIaI2+NUsFOtaG5niSSscsbs60PXTlJP2l7Jieu6OF2krSLa7l7wj0+5+h5xaZMb65ME0rXqxct0LLOU3pBrjwOQCskAdXGgTGyEnGbP0PASFTQMuA3D15syncBMTejsv+dtUiowNKWaTYp95EixpMmpzxUM0BU1ariYsmfDuor8jhT9RNvD5fkoOZWpIWKrwq0Y3qH3qVESxVn8sumtGs3IUqF5pZJKDWpo2mza5342WBQgXPtXAk9auvX2rwbu73Ey5YNqHznY6dHxe68MCPSqdAC6AGkAAAHh9AD+engFIEk7gyOi20oy/uchpZOa07hP6HjaPauYPO0bTgoFFF5mjqjy35XJsRQnKfdEv8bbSwb0+NkxxE/gh6Z0yHmo6VSVxsRv2G1bgKGlb+emJGz88t797RILdOc61CycEJANPjxcrZWjJf51EqV1fMlP7VtSC3E8/Evz76XUPnKvRYCgoXMHbtmUFwkQXqqXUqIOIvsCkoN/8uryRx2llZMyntDdku6Kh8/43KzFsLhQ1aesVCiFh1i3RRWI37e0XrqzYFXSl9XmrtF0g9+sjmPZTqXs0QoulI2Ffa18XDSVlTatxiVqTkqaKxYFFACRClAA2j+AKEFAVDTDRCyCkJwyyYekuLVVJDRklTxE7eJ5IuWvzZ34nfnRuy3crETrdpNdikag7li/PpYJfGS0kpZCYiqnm/oBCK6f1e7ue+gVnVl5Fwn7mg3Keu4JymKl0XzBlxgCJrWo5kySYrJAzzoSxWraSkqZ3faVU/SmZvNjJdPoeIR52+qGsV/fOKGjdSZr7tlVDH4hCUAqy2fRl6B1EThlAvFvMOjiBQg+QEwAwhit8Poj2v4OfCBnloVGpfcPVAFGbxJKVVuZSCf/yMR7ITGdhjDM1LThi6L4hjrhWycKN8LfT/HsjmXBYUa40c1Jb8WUXa7Fkk4BuLjb+qqFx89fJTdp2pb0dZ/9XA66j+3sz6SiZvmbyKqvpBAEnr7mHnZyfZVO9yZvcR2/6AkKklynjkbOx8NBRWJr2HXv/V1HVOlZTePY2FPKZUT4QsP0gEyABUBFiQU7gp1YIfWEMj1gZQC52DcEAc5YdIfwZ/QVzS7x8jOuNfZ6xbG66vlFilrI+zryHgIoOeAg1GZdG6mWjYjb8CVsW5YfNkqpKLtf7OsEOziSUcnzJKtz0dHQCIjtythMdSR8O+MWUl5PoJphk1u4nLoF9pNn3Ja4kY/bSXlRSKplXNOivwrrTr3XY5X2vYaAQ//xiiYne+azQqcaiVYeO4wAO+KIBRCBEQ68ASknzfhXjBbTGmZTGeVshq/LxHUbRV+ilqGbalMcg+ML1TC00AjnAQnkMBaktxMNvsjOD0S2JXob5Hickd0frtdavyOWtj+LypbTncmC1KdHCB+1bMMgkhUTUKmwqE09ELI7ANzED6Zyb39BFlFGXc50WKVkUDnK0GEifIoC7JTUOntOpePZecnr0K7oG/BSbcFOSss91RsbMS8jczLkYB3lVYtRek9SwEEJ4EYmAn5J3MEs8FYif887hnZXlOnyixQSepHIsWiNkf5tue0fzKwIQwEqRx+vtp67GBclSyy8y18L3c+2vSjBTwDohy/wKsrLRmdCAhEzu4VGg0Q60sEvPqGH8wAFWADbPSM+EM3If+fTHIBoDAnQilShVdzAvxC1h7+2c+sX7RwnIkjt2H+/Ks16sYofU+rSv1VfmxpRjyTpmunN0B531TjNa41QLKw4EN7jkqxYX8lsioy8W7xkxoVgT9gjHX/2GeIGCGRKmXVbjYXPoSGXCTIELtEMtB7mP7iuyq3AiHRKKAXmFYb8ltL/r0yhQ4oVwcsjxS6ZbENgN2LqjPiUY4rkNeu+XJh5hZaf+hSoTHIJ/3oGSjuREq0709ImIuxQk8rb61yQb4GTLYyWb6yzex3NDHFSFLj+z6b567yNvYW60o8odXfVGXOWWScupdMBShOzeCQETSPq+QPqPye9DDkVxw9s0JUV8myuPM7+WcS0xr7G+SnxapB5/s02tXFdNoYUvC8bdXIJkN8ZRNF/UZIMbrQZJcRDpz7Q8vkqW7LYu3VvLR833Jj3AdetOsUnOUIYc8xz9pCgL+HqOi5agfN9GGIO4ScpvfsW2qLPNCx2Gr4fApETePpZbljDk5Pyt6TMVkhLwogekRJafx3k6zHuoQRviFTiy7Zb9S5EBkTmssNlWN400C9NxVHm6nCsCTFKXpcCeldJ4ScqRA1s9zHaAJPm+ZcJIhjW5uFDZw9FVZ2jWmAjXT0f5zbYmbEgNalpTPrlSBPQxRRW94v5yYpt7JukzNLEnkIxb/kbKFKBJxUrOMaU0hKtkkrnhhwRihM3fWtcycE4LSQYmbLk4op4RK046Xd7H9Pi+fws0P3a6KKXkTePFEM5ei7WPoWt0mNQ9aLZgkQTZ2HR6mlgt72JLtee9LYGTjufqTW2M0N5OQxfIVdxHJce1HKqaCiG4axknpPqT5iHjLGzSebxh/Doxsuee9WXUsw7KH/grXJwhznCux1J/uxsO3ogZrUSRHkk1k6BZR4FidWgtgRSW3Rtbe+6K3khvM9Oilw5qJGc/3BMgVzR02WruONPiJWSsg7WvAb4kpJiesUiig41g7FqFjnZ3o/LXFYDKQL7Emm1C3EfjeR568coe0rJUnVcdSks8INICsikMDYzCblnxJO7dE8KodLJePaluYqZeaynmKa8jCPYThqJMNxQp4yBMGpXUnZXydm6IevmXZWkOOLewGq0XrzmXLC4wKzDL1wBbmZBSYR2STRL8G5Lq9q3sIhiITFgywQdiX0qJ9Ym5xVTKlcOgm12KunpK2GxmSlH9LtVUVrOFAz3oE9cERg5RjyRsY+JZihkrXBTtVR3pu4S166P/PzWS87FpgxkTeXgJkqscmHIqLXInj7CHOOwjeLl1gS4KSEFewu/2UtNwS9OPU+eo9zbvfDuCWF4lmlK9TXFlUhi0tTbQcPJOKYMCatwEtW8qpwihrWrfbav5SikC6jBnW/LobrwU2H/oWDprqG3huJKeMJK8AqROURQTbmMiIYAjABAgrTiiF/AiAgyvJq5/hLOG1CerCQy/Cch1R/2zsDlEk+Ue7dPjh7AxwNUMEikMjjvHCEASiNMil8xQWxyVaVfvaSgBGQAYERkBQg5iFgacB7Rx12JQFOEgWgSJ4i11cdQBgAEgFEUtO2HkozztUVKXrGtDYhx5KXyCixnxHbOzeC/EQdbP1Oj6wqwKgC4CedrS0BfiOO49FBdW2zlNXFzP0nK7hFQBBwBGa4DIHcT8DDgyfPwkvNoIkf4Xb+Ouk5QAdoC9CvYRAVXi1agdhvWHeEIWHzW3eXnu90qLhy26oMTZRukklC1hTBahTCuIBgPZd9LPKV2rNxWNSdddnsJGHxAS8RFglQrybnjJjidDmLpXhMB5NMsfDQw2QhhOnqzlnxfD06A6m3VFiUL+q9tf7YNKoBaK9sJ7lconycOQyiXUagUZAMxagGys//jFCBkgEgK/GdNttW/ToqHPv22RWGmBghepT2vdpNkDsibHyucoyAgDa/S1zbVPCOHESDURCnU+PeqthyTOeEQZJTqX9uCYdzctILrtdNVF47aoEdMVnHtzsVnJRGe03320WukcvjahgpQ72DOdhzZz1P0TLhwXy0YViaHTo1+bcNhZSKKaiUrU7FLCIX+GQCIm6qLhadk2+Er1zIz0G9fdjMnR8juxoa8JSEokxYWslAoDQCVfYcxELyeO46s5vNvVBJommMRx5Agiz6aGjzM/3CCtCEmBKaKMhrLWXB0/rc+pKrQ05UJpbl72qN0oor2QJSPDrciwT2yZsCFBFTVXIB+uwsTdCpIze9h/FHWJZRz0IZ3E93OIukNvwoJkaP1/2EZIVnxuSO+WCYEzHro79S2xxnmeyReOqWwW0qMrxvhIJnHmZgxICgxhyLibGj60gVI8EJ7mnX25Mi+JIIrurK6WSraWd02VxQVQuRKP4lUaKokcdBKPEAq7+bbrTZsvChzMh7R35w2QzwIjz+emzkxMg4L2WQ0M63qT5rXVhYaYssvk9SUjYWRLmJBDbcZSSGUlFIhq96vbKPtASM8L+wk2TPki2TzteE/uJrqZjQW0FgtS5hUPgwMv1GgvYBpbBmOhHTeC4JqLNYYSQU4vHpkEt/UrOT03F6EK6aLT4rx9DUsrt2eQVeLrM6OgHEY5jalqhBd/JsgJjoXKJbzapJbeIjPVrc2cj25asFUWrGsdfumD7r2UjpVT8a4SWmoUh6eEz8kY1L9IyfkgEX2Jpd2MIr8H2gP/JIdUfMAq2oqpCLaiSkKraJz+aDImpV0jjlxTxwCASxrs/EAhxBARn9nVlZ5NoLQFQtyzaGo7/QXlxultssbBFTi+P0Ke96Kw1pR5fzIJ/rbWIt3pNcMhOyTEjZZDzEepMrDg9/AhrxIQa7v4LnVWPD/hC2NvzbHbPJNFSSg/BetQuv/jTH8aRe9LCS+JyrBpupNuSc+a0BCr7zQ0FupGS1GHQMjQ815X3TRi1Z6zqOnHXyXqRZRN1ch3sCpQqT6bZisKkLpusmacyVT0UurtiojnNC7zmkHVua7n0F47lWkjkMnZcxz+mYdT45Sjy+lSkMRvUubkEeuE65XL6F+QmUR7LIWhbZz6B0QdumTmJ84SF2TdqPk49PCaR6iEKGbE4tJ5koWAxNVreqyhTBaWbRFK5lkXu9UNEaT7hkNoTnswSeU5NOQ7yJagkIw30qkng56uF/kf6zBIEKUYahOy94+hI4Ll+kon29dubNvS6MVVpZnCaDJZl3wl8OsZwTI4DjLZj/vqYG+rLsULKeFcg01snJkjvFgtW+YxLSoFKEUSISwm02IEM40keLOfePXI4He6BQoEVGLu5G2WITRoq8S1YvyQBvgwgMsGJOtYIsQgr4NNENsya/u9I0ywxJwt5NzZqXVGl116BFlVjNb3FeIfAufYX8C4mRCnKPxTJL2sLn/iYph2U0mW02vX7ZXaN6CruT7lIiTgh0Ma68yF6+VHdvppS/PufJvFuQaRQv0qnei3VFRaF5C3mFnzBIX8Wv3DA3KIkKLopFUlPGGzcQDsuvJhWEwz9hdWijWlmQTGUkyqgJyzpBbY+JUl94sUsLTEVJ+yKfj/o03Wf5M5Vj+eKjqhRpB4RptsvIWGArvy8UVMNY5b/Ksys2tvhKrUiWNbTEhBHhUJkqKBeq9zDeza+RCROodHpbr2oQDYOBkyLNqmxFTZEknvG7oiPBekjXg2dTPKusCS/99PdrlLCLgl1RwpdMZcLdBKQWYvhe23kbljWRiTK7/IKbbyWbF8zTPZKiebqTDfnQnEHaRbXcp9F1Y2T52SXpp9tOfCuGD77qXGzRIzXVdTOXmR9vT48eGqxNPDS50fGsqh4nPW2SjC5Dm0Pgk4h10UVeMEskieKhxFH4SFyJoqNyCxe7Ql9oKRMVaIOmjghMwZRokWoTHeL7nK9EbOPzTdOGkXOP8hX0x1i4hV9Q+6IHEyKAJrvj4lB8KPhnSSzNWzGDh0gnBGigTOJKkRUihH8DPCZGaJWlSRNtWm6PWmFzSHR0xsqMKCMAobOg70eC59xPMwitKxQkXGhkEr1SxsquUSgRcZUEUsgn8Fj+BO1iyLzmiH5PJhJQIS0gi0Phr+mNhI2dIIFcZ/51CvDqQED2aHO7qigcQGBca4DQuSPgtTT84vLi9RbpWYoyLB63hMUJYJHGbdjRIl5vlc0c/UeDMGzlVxwZgII5xyBs8LzDUhEYj7JshPczomm28dNCpo3WG4QLC5EmYEFWyBBdLnhcyfA8VJl6aI3iI2DqNbNxrX8zKBA20qRP4KyPhI8bRNmATVZJR+X4JzLtcbJcJCZQN0Hn14BDMiCJfE9DpYFUEdGSgrNA/P0fCE0UDKWVhARiYL1CzSerIYYmKuwJKESwysYPEFVvGLHtrVi4xw5D6TaLImi31Tbi0RYuXFuGkJwGqhxaSSCTR+vTEiTFiUSOtIzoe3GqiyaTS7DGEiKwoVdHkuclYtbqsZhRMVeROsOTv/YlNAQMo0tiJgqhPperr07BtxXudGymQzrLvIcSlQYAqhB5GYkE9Ob/f85N0AimPB91xBmYXIO+IhU5t42bIDtalqBfTdThXdunBMZxD5Fg6LHfUQOvhQ+IFyqmuHdFn5kzJfUZ+HyPjFTOuwJtJbEROgoDh/dxp6xZGBWlw0QkmnHJQ6tNdMocs/I4UWdDEEMaoWKj0EFMvMYHFpGMaeIkqjEjRcgLJkm8EhJ4QtlDAlDbrxSQSGCqLPAiiLCjkj0WUs0FBra5CGWgaaky+pnLASBE4yn2ClTS811gu7QWL/cZ+8z8e4ZZeGATQrgSTZb2SFWAEfO3ZpCZ9s1QMtnbwItu1imMvzuVFAZYH9GT7ozNxdtmdqm7KSJi/3RBZYTVBlEzWLJMbxGiVIc0HQriSomirsj7oiW0RboPGIiXc3vxI9WpJM0C6mGxle+4qIoWNC5guf1RV7JGVStMV7aS6iS1p5L2yXeKYuUn5QzcfxmSVkIF09G2vflOVGihmqfF92BOoSvOBGIE10RQr5eXyWVShEhXopA2ksjGI2SCQHzjxTIbBpicemdOJrtYp4JJl/s/CrINMuCIE4M4QXuoPiYoYDpZEmXeqckrdVhYVhdbTeaOwGkQnCjRIhYGyIcg6hxp16A2tc68ED6lckisUIhKcj0mbrJRHWioGErdcmQUtXyIVUS0qu4JLqNkbn9IKTXcgPo9pAQtsweusuF3ProLHBGC4Khtbmn3eC7yaA74gDmicUqMBFm1jxGGgjxx+76pMJJNsoYFKloauyILdI6oYeQ+fw0zo9iZclSuC4cR+aJf/V04+xkw6eJGNkGu8TpsXOFwQbLYzdZBYEIV+wHGTJR8kkayFTSi3NkgIpDyy/gmiEt2ObEoKLPkGI5595khFUlxMXxwaRaI2uIxL6SLKRlddYin9WKwb9Az4L+aMmyOArvKdkWUi5luIgETi5PxGpMgI80iZbVE4QiaHz7Jj/wZyWfK8WR/d2tmRD5gRc6qevXJRu8zJYUNkSlUGedcXekoyxlgo7V4QRsoPPci6wSOb6NBrUboJ4CGdyDBcuMEGHAyBDDo5ZfwCEEy1mbhBQiPJ2kXUMTxQKaSqKeeq9B58KUIaLF0AosrVCUF/Pnl7RaCwNyaX1oVfLQMklEpDrDO1NipDpjoiVEkwuaP6syvQO6CAFcZt8ZxAuqZbQFyyQXiJ3YD5BMfeXNroWLm3xgrcdJeCck6ZuXKDbbRojjoq8TimjNVVLAV2mcXOnzy9ZIgWZ/Qm4Zhd4/tTBjAJD/fyINMhQRQLIYXsNJO8pE4GLq3NCRssqgUo5DLpiQ9JBaySYElowDRot8hs0CBF8cEMrmkBpr7iR6UiVhAhJsGgmoEruij3oKKjxc5iCij0pl8ERjouCSDrBh2MTICEnZ3rKhMwIjKEibaUaJjc1YK9wZ6q7w0ZdG1lhFwmXmXI30KWJtm21AbNnogU7p9crMTlkhp8Kj8Fm8GiUjhM9gUCosUgEtkEbgUJnNVkkEjOfBDyZAB6HPASk94gQEwOGBhz2B3I0H1eUIQWA2p71iFIzokdBJ4iDasPyv06USpQ2hfTxasEvnghWXcNLr29CX6Fch0jKKxQoq/aIaS3YKUb42os21s228lHaqpPH6MC1l1dFXcjqyRzGPVjAGmnHE9X5KTYMTR/NWkYqhfZEidXRdsTdlydatclEfkw7FiPsncX2zrs9eHlyEBzZDACUBnZ1daKrHAZGK3Om8woMNhFaAMCFMj6Y9E5NYHPkqi3HHJJNzqA/baSpVblINkr78VdeVWhjm++uyJWQNuXIKqUVb/zgqBmJAdb0s1TxQNEmJgoojWalksbwSkHX/qjPE32hZUSNY+qmQBrQyQhYaNh2r1lXAkhOT1N/xJmCz6bKRGQXzx4Ueb7Q0bbpKsIqWRF3ecb+KpKyiF56hoAKO9kOEJk+lsZCyDyJxDGpTmSbNg6dfS36RZeeJCEvfLwgSCIbC/9jTW1rDB+Vr3bjL8GS+aiziqZIFqyJ2ep/GV56CgHg0E2A4sH2o9Fr68ir8SCX/EIxShDp0f/q/29+4YmbdqC1ZnucSCtSnfH0ZJr+EESLHXbRshCTJXTQgkqOAWLFHUKuaE8lG207NrIGhBANKGjA5cm6NYrsO6e4JmpLpQHQDg7f53Sc9gKRuq3UxACpMQmwe5EOrUgzvIqr8Avrv2nNiv1kZPoBOhrY5p/y7LTliFE3Vp+XIcsM7VvZV8k2KUdmlG7EbJRjulIojaAsyGyRPenpZ/XecrFdPfUdqU5T301hDOlhY6REKBv3FMSuFRdk6SDtFnH+SnSSH2JPkt/ccUbtSdKoDz+IWx84lOGANo2b/YL0iqMTljoa4PimutfKJWtlgirtKPGqxjieAs6qYgpraSmklMRTbjIhiuHxwWV6HIPlGsy6IScmb3jHnxscKGb4jDz+PKu6a+3Rc0mU+pzPqS+IzxR31CG2x3VUvfV31bQ4c8dsRBy8t0nU0dLYQ3GtWQA3ZOy9PSkz02Q2HdmevtW0JU9/efcCfPPcoqKLqhx8jukL5z0ujdlbqtnQV70wWyjcw5sq7kV6gRx0AGKAZqsSwSqW4HZsLIBQn6rE3I6q9/qPE8VScLNv3xTI+wotfWBXwV9cPN1DT5Pu6u91WcSDIv766E2DRyub9uONlBxhhruvN1R5N9c73bR/WLTNGfxtMPiqXqUK6eAQr6dxOSwlvRcH9DcPGwxZsYIipXrzMCx73klVjQ3A/1c7Ca1F4b8EbdlDZH8ojWbr7eyLlfGX5SvwwQCSmhIWEq0LLqWuNZkzuFEOAF5zWq28kvugXgP3ATGtZiuxMPOEkdg5fmLgckUzU4d79N3py+nYJ0uN4kxZBLSUYbH/+MUIGilWAc0CMQBm/7f+jgC//V4FSQLZ+2QAgwABtbFIqY6dqQFfXYxw9H/22/PYrQtJGDkgDttTQQSW+f9FPSWRrIgeycJ5i8RlsEIA72qtEq2gosSXGW7FAakIXpn8rYSjm9GeSxQzsET/OKUZYnFZb2ScpDM5NkmhYikfNR2WREchd0Wcb1TYxP+k/8OZpPBcKUoIl1HDGRSYvK1r00MsfXQBQUSpgE2UrUuK5GzRdStL5jTNTvG5o7U147SnSkQTo46VnSeJNS9YP7inEItDBtK7bEfFsh3P8PYg7538M+zw6oZQr8hrEnrdIHCGhw+LS4UYcSWzZXZd/4ZYns1+4Hc0J7Jgtclq3XgmMaBSLLqoFBDp0VRlv86YpiqscRuqUwS0XnFocLELGinHxW/TgjZFEn2JRllGsLaFz1P8j+AFSH5SqtCY4FDMSls4Sp6XG9GhTKfB2m3BrKlBVMW2m3r97RNC2UKsIELulKY1E6oPRhYhlvfUgA38abcbg+VsR8yG5Spy1hsCvdUL9sx9KXMqG7zVSmHFqJclfXoExZzrkqhMt5Hgf24UTSK+PuWYQyHbrPAg4xichu+T/k5Ddpi4EuBay14flMbE1pOPaMEwrNk0kSBCCPBDLizkBbGevloPwCAkynd0YmKXkc76RrpKBJYtVVqxZ55r4PLqCZb4jaxLCyhvSLsh4pM3CNszxHjuCgKg4dVwvYREoa0+uBhDxuWxL/wf+IEAAuLIAAS+CfRwhOE6ChQavSg0YItAXG1cJUxzZRboKDQeaofIorRR861RjhrxRc/nMENV1tHe0fOkPKIYdsLfCd9GcOc+8gtpfBHlCkTWDdiJjVZD0/m+EBfRAwFXy17OmK16VLW38br3EEQ7+4fPSL+9JImASLO4YBJDEQrQpT1ey3+tHx1KIeYbIb7cXn/jqzWBJBKcs6zMWMrd2R1yO5OtWoLlI1SMKdd1CccHw9gq8YPVxRdIPrY+9UlsTccsOQlbhVhQnUA9Z4VYnsevfBNLJkS1ltJFKewnmLATmqkoKxDUOcda/qIKfv8f2TaFRYfiUc3QgIaOXM30InEcBSkdVPfBnTCZ+VX9oVSPObg5AfJFXHySefBUvdhFEONIs15sVp9Yo8Fp70dAdfQ5kbXeNK7UmCBqvNnrVQ1+5vqmGok5rrcKLCEAPoNZH7nFlMjUnjgn+MdiUQRGYHN0rTu5pdoBlR+ivreIZlXpRbt+SqMKVrl2qhItrvZTfyNlh++orzfrjoOnNtpVV7yLvWTaaRAbz0qtZOcKseGWudITEeOORKVfyi4OVjY7QlHnlwy69XU3zarpO5YlpocWprodG/Mf4G7L9QilX/NRm8tQIcRRX3ZfgPSFEe9dHpAReg5cWDm8OoMuVGkfywupGTpqOhQBO6ziDzhSRBfMGWSPI0c60bnc/jYjK9SqOhPwAgldxQv7Pg5Wo2WWSByHTdN1d/cNYq/MjkYbvf4zukHWDTlnKDXtvfXBALAlQpB3uXq/xh27a+D9HNvRJmEdMwBqsFZVrAm5k04jVeki3anrOOdVFHLKjI+03P0VgBDxONf2yWoEWSOKtKNDAmAVdYCz4tJwyHExciINRs7PH/uTsm5rY4IIVIlaf645ssg4cJGEEPujWI6HrgSgsi2Xpy+BCtnGq80EbkaInUVoLHPP18PW4fuVDxYdvmCL/HYGW16W5nkp/211UlpqCX+SYqdaQgyZKK1DbRS6WyLP8Dlxo5OBQwzcjoOwgQpnWNMf0VBhjWlwtLWRW6NEQ+rFjKFORauXyRr77ErVqQ+C7VXallv+UImVEES/kTSJN2nQJt3+pfubspJOT1jWoZQCRgDAB5SbhhgPA2MAH9gAmlOQLUmgiNx5l4nulkqSW+d3JCBvVhkU8K181dFrCx5Ja7THHZe+E1mKTUmXQ7EPtqNiGGU4pPtVHBLzev2cNoid7oGMBexjj3gjAiIAr8ABNY0UQ9oHcsBP/Jjh7CKA/Uvuh38JmzNAIg0frmPSjax6Pet8J8jkRSrMpDvpzxjLdtjX20V9vHSnDiCLq8MgZfKzOIH1HpmmG0Co0JgV1BkunLOUbe61933nPeCxlmFm/3/QYOlDS2Z6kqYe+eYoo+zwCpMthJvvsokXOeSOiBBuE0dY5Swp/EZah7pcRJpEqBsxH6HbO4EkhnBhAa1AxaQtdI1Jw+LMu/OovE+OVIKo+1mbsSOrzy1ElQlJmbt2taqX0+XcQezJhCMk77DILdirKl7CpD6g2BEMFDmFCHS4Ft8wkBDoSbyrBzRSAeLBjFttLaFdu5fT16IzKAgqqCf1c+YTtXCj+Z68SmHonC+ZSNbtE7bLa2cwsbQ9fvScsh22cIF29Ugxo/whB3C8tGvYk46wjQfACcLRACIwBs7nasQ30dLq57IZUSsxs5fu1eImVuSKu0zMOZLdxg5kK7TML4ZJ1ip1M0ZLPzSYZ+YD9CyMdk1cB7B8zxECb9IyOhWCtiwAbQ1ID9QAqsKDgcpEVTNn4QytwyagC51e1VfSG1U765UIfBNJ39DU/2czk2J6mUWDfvlx0gSxyIW++szDNljCDhNTXNWaQzynBBgz4uAeMXoK1Ab+CJW1kzmA1PGWNGWCOrQajzMvUBDu/mxmr/rU5VIYS+V4xNBEnIWrECXmTUAzdMeDZ1glhLofMbsPCOq+ZJzDmeCdhBBMQccFuGWgOzC80GlCndyUkqg2KC9kUKf05QnUtzumS3RiP2HpnJb9fhCkFDRZDujNU86t97g3huyu+JHYCLhdhcTUE2SV0ShzDVDWB4QcEZ4Z2CrRxruymRgqN/gWA4BwkbMH0xLW7vLZSQm61uKJ3bmd2+jj6rB1+iOgwaKv15uKkebZM8UkiFiFfPE3pgxkTDEUfM+AK6HrUWMjFdiRS8zuwttsYtIh6/YMx/Y1bY8bWEukj8NvYS6HN9zF3eQoT+8/ZGnUsWuSvjW7V3n80YkjxyjSkDLAWY8zNqQcouYyYRNoUtkuj9xd5TrAziSJfKVRXDIoHlVNr2CZCK1RfgZFJ5pePe8VSasU/8jrVUejvNDyhJmo0OrpwTGFXKqYEQgZZ8Uj/gSobUNAKajAmU2N6ZAfstZP/0Q7TUq91C3bDqD+QgXByWieT1UhzVr7v95vCQ9oqxV7Gc8cJPPtticolRXxEBB2HNIFcLwlBoDcBXwtoob1oQzMnc1VYfh42nKm7F1LLqwm6nUR8Hfel1Jjm0naq9pOipGwPPbV4Cprzymd8SUgTOkHFcFTJw0xbxhhaiXNG6Yn4LWEqdBX6RWOkL3mvta9ZVlu6UZaU9G6SbBff1q5kaRabG53nfvnO51G9TJ0MWj9MxWVVPgLkUdyWScIkIhwjrMpH/ZzzZHGEyK4m5sqj8lWW+Ugl58aTsvlJOuoHi5lZN/sMgokyMqfX6XYG2letqxl6L3f9lDAOB7WRk0cRFNYcshxkSlIBsZTioKoh1HxMizOPdbA6rdsqcME1HXZVHyDjcmhnyXi1lkvpi+SIedkpthIGMKcGcOyRVYcHEsH+9mrB4nM2MKLsPYbZAHuKITo7xMG2aAQihFRLD14n5zfldMqfNqfi75N7GMV5jF7uN4dHUvQWVxtE3pstI9fhlnWdDqa5JBVDVdBeB7gyhbtwIwGUHGLdYBNgiDveOkKxdFLPSbdV26Zd1fMjF02sGSbrXz2ftRJxH9W20Nt3P3uVuV51M5flGJESRii0DLCYPsV4T4UArjyGwfYRpNICqBXIm+dTv2lKm0tx2NHjLC3HzTxVYvwqjwcXEN/scSp8Qm0e69UQiN5u0JYtyjdJBFmJRtt0ojaJsmUBweDUBPL6JWncUQVv3d1Kxlrb37sT/8+W23xmPkXWOqz8ormyPQ/np+Xe7e3oXQUo12jRFMP1QJPEWnyrQ/g73bf6L7tD8PjeCwNNmRFWtM/i+nj23RGEUFw0zZjzE3Lrs+ptq28u9SgoAwpEZCchFr5jo+mXokLiIcqxqV2LETLIJvReCUhmvxKpmRljQrCdNuzhI4IJWHiqB9OnwjPqUbyDG6lWN9Z2KZHuxTpz+FAg6og5ltTATDhNU65niteIlzHusbYo0UoJQpLRGkgN4EERxZSXgxks5YRH3kKNdgixelmqKpmM54eBTjeRADlzRDLRGyn15L5qxBDDMql9W7Sixnhk5EeomJMpZONmSUtQsEkSVpIv2qp6mrcEQQnU9YqebDUiyLIQND0nKXhi/SCEq15nB3KNvCw7/1oBlo7rn8ifPGBYjK63wP2ozcscKyZbLKlBxaxHFOEEsklFrkjXeJRE2O7mqqfpWG6JFK1jt5uYYufaLkVCRjSU85YwIR+RoOvmXi7DQ6k9lscg8uxJDfQL5jdqtzMiPbJ+Nnmnr/s8nVlq6PdWn1PEOetfIeULL7U9IRGjrH4CYTcVrzNUtyPj7ZbOGTN3KUIPEVmEOlmNjwqUY0Ezvo1NYTzSlDpxJBg7QoWNRF1I9eqKwF540SlKlPZmjtaWo+liaNLzmZTZyxEJfUHtrMCcqpyP8OUJYOJ4GXEhdrCw0ef2QZgNxV+X4x92BQo/YrUVMZezjDNMlDvQCLjLX0KrIyu82hNtOr0zl1nj/ZEbHtWhhRoopY7WEPuQ4FgUy4ZY6nuox30OISbylkc1gvHIJJwt21Ia7y5UaSngm7NDMa0d3JFymmW1RilJRkrJA9NJpK2tWydSuX6zkCZUMSco3IlpYSQySJZL6TPDESeDEzzC29Q4FVxPbipDI9KgHZn8FnimhOqYDOzKkZ4aSQE4mmHXlOLp+srQIBMAKRP0FdwXlEH/7UUw6kvCaIV+6go1BKhkX7vGGszQoVDTR3Al5FRwLHHT76ntrhhrdCWcSsXYbTm3OUtlmDfzvDnZlvCYdlo56fzENukSXJdJEXmMCC12d3ct+WOUGRdT/k8eVwbbR0GTLA8qpGCSxwjf0pNJoEzwf+UVWNte/hFh7WWEIFNiF5lbXo/cT4PpEDHshfw/FyHeEJrcqFXC6XuKreMRjRjUk+rc7NAEhM3F2Jpj6nV/EguAhKc5L8EZijmhpS0EqZ+pPHwp6WOdl/aAXpfopl3GL1uR9KRsI2CjUMm5PlMshcucE7DM2uPgb+lJP4WQNzHNCHSGC/BHIigLFAOKAJDAiwZmV1LRzA5VOT6vhZRzMB3AzKc9a5V6h74QAWmpQgEeQwHuiSwgA81MxCBo6dlFO3u4rI8s0Br6bGPivAkkRdesgsfWZo/QXDUXZx5HHvlDHYnoLDLfYMqxHNMyBYRuZZl15/AtgwAnveJyO8fe7dldfa8dCNoFL2dHkG9DaDYUWnNF743kCa5QsfOjKSAIcCUTOJnCeT9lBBLrxKv89xpcz81hOj0Io2T35NLqtjwg9dhTYihCPgtzdUgmUcGdaixX5gwRqGED9TWhCe1MOKfS44cpZgqBDVyVq/RjLRQgJpC/FgsfdAjNbz/3hW6T6MqFmu67trjb2qLhiQ94TqTFpsudo9Eupd5FTu2hKfETOhIGM3NwaQJrdV1GW9fIghIKMqrkztlsh/QVyWdv/4W25Ao0XhYt8roTK/7f1vbtH+Gkpcgs13l8tEtLXXAcGjisu8h5ZHBLDNmNxH6NxO0RTv6oicpyd2ZI4H6E9ZR1bEJk2PKRHzBeGTZf/GMnImX2Sgv4v3kogJEWzFNtLQUkVmRabsN8WSCu2eDKihCVQRW5QCqufHckOn3G2T0ItPTCIC3hj9824pT4U4Gv/MaKEnUqVuO7AKMBcuT88FOAGUiRBKlEaV5s//IPnrTfuUVndv9YCYQh7gwUwMJ7uaPVY0/6eE3IJExS6fpevmvVaPFDWKtTTRoNeR7VXT6pAg4DVN1JoGq7ijLtTbvJ09YSDTeuHdVZkgZ6HrPaJn+8MNoTYPR+rKm3M6HtSIO9x++SQSppTKOBvFPdwApVqNDaoxQHdCtjFaiVVeg1RcKLmoFO5G5WBvq2OoVKWFlbeyavtJAm5PZFED/Ltlxkg1wst71LcHhT6Sce62rJXJn1N56RqfwXDGUUxPoNFleGS4xraYWXdv06wY9JkTJ66kFZFGBhEnwQXfql7Tb6v0sCcNYYoTQemidDNYngMJixH5/uilR41+yS831ymqSgRCNaB7Izqth15nV6zAejz8wRLGBqZDQoRk1KVXFWKYuMpUWEjMrmbyRz2a0kyTxDdUBOHofYp5ghmuEnOqUm6m1RJMuLxMh8+bhOIWJLUQVo/FNFMR2E66yDWQ9fDA5t5U8iEUl4yapMa7njyLIp0yWqbR1xh93M4UoPl9KIpqbQRhW32ZsLTdUcwJr464woXc2ykF0SCpMTF/sdulqdSyfvISdnSX3a8hc1nuhkvLPJnw5nnLqb+f4+TJWDZIr6TtJaEX1nvylbQioaPX3OTCEK5W7dit8Ha1ArbPIoEJ9lDByt9hk4Kcv3I7FUbrMIDLoqkQtR9PaCL6BXIDQblF+BF8VSPskPjrpwRMUwaEqDxa/YRILtrUkJNCxL/T0iaCX98FJiVOgHHjDqW0ze3Iv2k6hAG3ALIGNLmAaAJ2BywAWAnYPmEMGALObsDMGDFxAQx0STsAY5c9qCABJ3sX7/wgRoxpIIpWtAuUCRUKYx//BHBd0YMtA+iMEmfuaqePZ3vaXKUOc6YR5j7aF6Tfmi6Q9HzdMZRWVHsg25Odq5d1kY+CYv9Wo0klZXyCVKjE0VnYMJ/5AYhp16j9K0G2llsyKZWiZoQ5LPWD44acdtEMbluPDN5rYtnnY6HViGFfHxMu60c7SLOIz6gj0Qx0vP1bPScW+UELVPDfyinEgH+gCRgCX0kSE2sKwZprlIZZu1DJKWOSPSJvvSRAjZrmqbMemRBwBa1adZPmcaCHaVQ/8Hj63/yr2hX69qyZxpB3r3MZ9LAOORxd1b0a2CJOp5q1zKt1ksRqMyf/VwoNy01sidiXV/5WWm2jnteq/JZuox/duyvMogFmd1jxEZyk92VxoEOc2xveiiRxISq+wDYoHAqJBiGxE+xfdrWbjMrGUzKkI6YRRXVzqezKSWA1jYyls2FQ4nwgGctlk4kU+powuSyLjQRBEXIlp1RCq61sSCelFY/o1GGRm5xbKT5ExAk1Et7giRGenyUkTTGJm9yqmk1nkpX5yEb+rGQx6ith+I/7mzN64PI3f7rDEqQDGmAslaIa0tOMfuygu6UrnPe0yyPvGn31H9ODWv7QZ2IVXk/rYxmMyxgacImt5FK8MFnqFHkL/8Mdktiq3+AKb+vBjRUd9KY42YAaZAgsb6b7ZdliSxhFJQIL8HNzXiKNvtANKveF8knTyOPRjQ99hftxHYdb8hVYLSbFPZ5ddBdpfDInZsdB7NLI5Yq5MLxJLhe+pTrhCMNOEImvsne2wEwzVQs3IomO0li8WSlWq63w5zBkTGaAebKAFRETApQBbJQBGxMQfYHsuYfH8ArhwmXE3YgNUSYj7HnIEegSm1gwxYMqqKbHIWbQ2H7PQlEBjybIhsJC5W2iVMSrmcCG47ne7wS+IrZ5LNEL+5jIbEF6h//jFCBsuVABvADQAgwDHAH3///+1AJAA5AAI/8G1P3zYlLAJ7ZG+dK9ljkdQApC1KXcWfbJ64hTCeKNP7LUIu7ASM0CokSFjzJCHdSMAxMkp5tJSqWY4gqKoEN6Pc7iZXzYiwUZxglpraiK9clLmI6fz7PBeKDxydJ2sT2kL3HqBXkpN0NMoVRPiOPr/bzzTyQsuEIE9xxUMHGvdQhDYGX/6CVlcThqtxB0ITa2AgqXYOpIVv76eWBMlQsfN3OspbqvBDVlAw6EQCt6BpGR3cgQ335EZAf9UVZcRrqwJtUDypSpJq5XXWbWbKCV7uDqkqhFsxjXgkok76oyewAvEwfGHvphxTn+7EFDbv+yI1rjGzgT7FCor4xwh42JpEZr2hefplZq7HN1IBBNa44qZOju3uJPBAkS0u+pmshpGKqfDgvvuwd5sRr3FHqFRZ5JXNtskSdxjUynuMKU1SqfiaSXwU9up44nXBWlEb9Ca9rJCGYfEPV4AjftDi+WoU4Z19QW+L6Bikmd9mLNzqawFs5dPRkP5cynj3D/JMMO3CHc0RgKa73SY2RKUi6nMsNm8XkMGzWHn8bSCALmZ4yLgI7Dc1uanPL4xhh6Qmm2t5m6MRJoZB+4QuztC3two8ijDQptKb15USuqWrRbXviuovkHvbkifFt1CO3dRJCWNCrD/pqndGsRI0kbXKfDfp0l7NogpsoS2+lYadRt7UEb6NLutq4ceSb1Oih5PBWSSGbvxxBN1WgbwN0c76K0QTrCBBVHymCVzz8S8Bmzt1n9tR9uzXhosmy+rfFZFnClx58M+gzyU8fNpqKdqgjUaTSZo0t7542D1ZhwClEA43aEAT7GZgpQIw4dQuiHTU/XH0RZQVlSIQyRpKGF+qJiKtiVaKo53WRVVfy+ZMqjnxLNgIOOLwUYprIo3B3IUmmLSp7svRKNUawMkOZ3m1JTy7Glmj0KtRWWmFMLcptLEMgp3AlFWbT1KyEZZONcmSEbNRGza3GgLGs6ibnN1do6t3ZS9ZRVoTR3UMUM11eJhGWiISb7v+v9N3ea06kJNZOHmwMJacN2aC1QlWYJeHbyXpStxHpeeMNVN3VoyTQx6wChb+pzvVZKfv7knn4T5QKUs/eTum2TXbSsfBdWDsH8GItoIFQCmBI6XRc4nZ2l6o2zGuzfNiIRakvZxQYxVoxxF884wj9gSwehjXyUfTslBhGZvSR0H8iXSiCo35jUYRwoXHrkuMSkSNoHorloWOA9NCxTBYhQHBfO2v26MZybeiAxtFtZJwjlZ5dyoK+DrVYubF4+iocyZwHENy/+LzeRGqcJp4Q34nbiAav4IWUTGbcEAmKgrPoEhiwFcWlhzWjv82T2Mnf55QCubjXLVy37S7YUaTHqL7RSMYnBhFwoiCLwK5oe6mSbFvVUV+R9H7uMzuwFyItNlgKVegIFboxp6YJaXYEWeoqBx1a9tsRcIl2h9LqWFXWSyuUb9Pe1pkp/2ru3y04O6l8U1Ibz4g/m+2KhXNmyWKFbkMzuHwtPYZMr4jCKXhlZyS6Bn+ZOMa+mEE/AY1wj1TKQ3sj8TvSEsgMtxozh4BBGxhrTHdORWBDfP40IJGdqBaIDE9JgTKh4Go/DgLmoZj1JQtKwP/hPaJ5DHp/FyyQLNbuxrTajhHejija3ekVlbiNUl3p3ojiaJBLP0m4rIW3asqROJiTaiShC0wkIWFWfy40CspVYxlmlycO2ZJEnHXE6OJdV/cRpTDbrsnhJf1gS/8D7No1WZv0ZGM1ZfqIYaUTf39EOuCnZDvLwj35parA5JZaQicR1WyDGl2F+1o1AnZ+UKtvsVbDDWhj+Cj9CHmcYNUjBi8Qw+ftZ+Sj0sJc9HLclEvgRN38P3aaeU+67hRvk/yoa6OaSZXiMQ0g0p7cX0iazISsrZHIF3msQI+qEqbglco9yMIVGEnh5wuap+poMdGNPT1mmZxalZEIznMp792Yo+hIs4UJrbeuTXmxpR3RZuKMVWApCisSyKxdEc+OfPHAUOWYosANNOKokVIS7YIkYwrdzFZPm73wN9EMl2NMSUWzjtZVVM5KlfXXafZY2mYjwp9M+xI+pIpurUZhG82keYzHf5Qv8rCKEs6KasJcC3pC8A1qwLa4C6vsUlhpL340vt+NnDZ1t0PtSpLeehAVu27lPmhVv6ePhNiTNtrn1L+xmvgd2/cjwdwQlkNayiJIgrnIeCGKtzP4cuf5Bk1JUkiA8ZPkFapNfke3YI2R21tfjynoNjNnrtI/0nTUKPfFDsDRyu9cllXJbeYWW1alJjrpV6Ua0hDUpBWGkYWkay/JBioc6p4uinlzM6hy7pXAH2aQOE3gQK+B9uyfcfJIz46z2LW6e9LBrETTdLpuupAqyT/6fVsHmUQg3gQ7u1Y41n2kiSmUc2kk4CQ6BEFAkjecwLCSeenLKUL2pgw7ejw7EImg5RBEmfvkh3SwRORYLUoyHTiipMovaoa36TXQHWJZe048M6oCgyL66qJKJAEaY6UqZftVREOl3mbiJlEXRkngi6ImPJgCspkVPJGReLLI1VuGpajwI3vqp6FoYlziQcsTF5Bz/Q6dI9/h+1KQiBTDuxp3dYreRtd+mHmbBfW67sJlnUt6kI1LTbczMQ1/Mi2GLGFZMogNDrIbOTnpJjFRRQSnqsTKINebxchASdXbHNq2hMbmmtVoWv/Dk+pSf49sk/rM2Kp4uiXKh2HEURSfhM+qRCxUhhuZef8k0lhbpYYkHSUsITniciv6kzgIqfqJX7QUAInJWXU1KnUivo+C5dXGLD4Xn1EJTjR56zwdE44mv7zsQ7WSm2m4yd6SVb+f6z6RcXSHrInCD4JcJDclWQQyBUiNDakJVEyJKeiPIOWI9FfKR944JSlt7Qs/B8kSqKlVZq53nYO+YgkLQK6XH1uXGPvcrHgNl5uRt/8ud1k7/ICiBGJeqXorlJapJZmShGCGdp8q4e5GmDEXOvtzI2jPBSAgJLI/ZfqlL2/cjHJCMCJMPa4Olp3TOcGrdRxlf5yOi92NOcHYn256TTheaX5aDL/AgS7Z/4bHczGSINxHoq3UXSAZSI3iBi3cKOoJiExkgkNB7hshvTiOTdJGXvkuS93ZCjFC6KqoOiZTSnaXVTVNlvhxTXf4pRV3ZYbh8evoLuPiK8UtnIxAl+6jz5FOCl4R0F4bqIQaPcRVSncctyuCgJgPKIONTby+oIfzlKzTUANrCSJ+dUmo/wbKfCb7tHyB5IqXSkFaU/SnlIfR7YgbYHo97d7AlN9rGOMEkCdkQ2pg5qiVrYYpDPJBGjpaUxnLFALgvhABQLNJTagy5D8JlzjBpNWcucoeZtPKPUDcOdyhNLSL6xdPQt4Ai1QvONIK/Krq7VlMyHUQycOW9McopLm4UBUvKSnLcXyu8o36djnW2lMT32kf4oB5M0pkVcyaqqIWJWr0HqBrPEL62/Niq8RRPtpvEnfTgEPW+96KrEG22Bf0v5R0n23imHD9CR9e9fnCzRoLwokVVBemoqUqo9VF+VssKy5L+c2kOc63QuyKY5AqUqQx4XnX7Jf1OMQW9IXJQfpYxYU2SDW6peNWd2M7mMuxfsCkLjn9zF/IL22y0hM+96mrT/kTxiFmf9YEfKrRX+Ve9EIUPGRXaUf+LrMjNJgmiAJRVz7O8/4QkKP3IPpyoDeBlXhVGGWr5fhfIDf98wD5k9XzU55KCEKaQdZXfqVzgjfEMNP0Ns2QRebuJnzpS1QUU2LMyoomttC7ILUOBUViRSy0ozxAEMQBGuYJIgFCDxhRedEuN5A/AY9bXpzLPKZ7FIMkUPGeqqGP/XowZFIrMCRpOR+E+eOk89W9eN4vPdLZeNonE/qPgVlL1KkUi+Eascu2FEWKvQfXPRKFWMguGsYo7X/Cxg2sMWabEGTInIuvJRlyvw7Fxy0rjceDgpvG0iSPxcj/kR+6l2uMfPisrIqws2/o31xspQhatDDSw2rI0fOceBYubURYNPiLIw+2FmYy7X7DNZsjDH7Bsw673ZTAnumgIOI/qU0MVuqGryjm1IVuu7jZJD/byMvEWpJzx+q4KRp4siDvam0Q9dT1U8pkIjludNoVegixrhsu/k0Uims6mr3XwNAgliUBFivIorn7AQMErgQo/W90TQB2xA8iIgWbcNuvmgefzEUzDD2ahsEs9jmk9PGLWshREMPrSfwm++RL9THHxkSy0LrjqK9toVRfvMn9WuFAnX8NJANzeBNjfIhX1uGc+TFIUOmAQfcgzU1QhdDIgX1kCMIUTyRc/bRp0zNFCKfCH0XVbUozcWX1uZfSWbRHgd6WIjI1IjdrIt8oa5c9s3hkGsik/g1N1sA6UXD6L8kctYg1hGqvj38P9VyNT0BhQPCFwDCK+KS7RvQ79zBMGaKOxKBcbr6VViFO+Qlrpma3B+7Nuycc96kDLGNMLCplO0mttNnWbS6iIu19gpGn0nrkEP4+xwmivS4aBx1/EcDwWHgzc+BPowTKcgHhBSQow+T9zdKwkK4uFOCJXQrdTFkGNUo3jQ3v/dlO1+U2GSX4hA1X5TmeQi95p064ekhtKJRodBujzqTfsNu8SxUTT9IEs10lcag6NWCtP8pG+4YejMbATBFQC8lRDFNkc0xn5FDJi6TfI0gOHZLGqOVwwT3606XZJi/26SWMoCOOnYuwzw9JAZIZSTKfCHq40IbgofZKQkiO5PBaRKPTRcN5sonU+WlTFsLQIN6yxhRA1xBU4XpggHJHvGwDECVyeThbbG0xbCuwPyvZHjxkQPYv6HuNBn5wz0JXkod/akqiXpu1p+OiyaZ3MSKsf377hT3ajBOakhEkhKXyCIdiITfDt1VJR/W0FUwxXyrGcuzfbhhT+gl52h2B2+DcFBELeBratHKHB1tZ8mApgg+/rGjuN0ohN5kENfoSAMSWEZ415NPOF3CXW41JTiA7M7ysqTxFpRRVH/hGcmaCeOrIp9oMu/GLc8nncJCR2IDyHmrQbWh0NVHNQH+dB0hGs9KdkQbN53Fy7MTldmmer2olrbJtbFuvnbIzEv9ZjJWYQgu1EbDvQzYMdcTS9CATMcQT9pBHcrATUim5IFI9ulPdQ+IN0PB+Qc+crmfTofONfIWwr/tLFea0hFfKosLmp7Kuf9q2bwVGeCRnfOCqKjzyJSJYmPTzd5n6VIlbq0i7HJzF18spnp3uKx2jlSYwMyMoQVr+MlI+U6XDiSsMnYoWkpH4U2JNf2xjSZ11FozkNTV51w8nlVy8RlZaoqwG34YxdbBn2q4qsDySSMMq/991+9pob3QukCx1QWY8jZWT4VbpPiklMllQ2sWCQ8XY1F2NOIhkhNlCqIi2twHQd19lbFPazHvhEXHCEm8XW1v53xDSAulI48DSnR1tCvtJ0JJuRh5GrvUWOlyyJS6pIhBfjMsmJQWtyRAbickn49j04WSZ0TQShRdhAKrpk31njXun+jFp2sTy0OqJNg9ZKYV6UwTxid8FryxQe6B1arqpzeok4tO+TZEzhqLYhIWZ6hOjdubmp/j1c/h2V2bs9SD1xWsB42nryVpLUUjWISHWRK8SZl8loZ0TD359n2D8CiJgwxchTz111RpodHrEK7wa4n4psD7+93kIsoCbHlYUAiko0qX2PS54okLn6sdbWaHyQ0tu+2d/OpjiYHVcFHsglN0Iba9D70R9JXXB3loAT1JmEvzDvnqFPox6df/o356TLkvkfc4/scesku3+KiIfSETEc3eFkLBf4dMHT52lkjitOSf+uPku8VHUSLCebPKduwWU7LK7UKbJ1yPRFLGex8XTZLkryy0KejtEeMqtD1Saj1c1lJGhEJSoGjOlMzJF9CU3mQlMZifMZOXouPsiMH70jm2ihFMiNGkF6u9srEpvUBqEBlM2hVgoMagE0mcNhUmmM7odEtcEgWFsG7k0BusuqtRml/gGBuxxwScAB6ABWwIEAj9ABjD85BNV6IfeGnVh2C4mCHbdTTNC1HluiE9BJ18I+kSwGH60qSknRP8Axw5I3hYdtKFxTrX6lqHX1is+7rwPR4/AK7arnAGBZp2YBGVfSZGeDCjERUhh4MgxdXAX2bWWjFVk4iC++9e+EnVPglVxEzSn+Rhcl5Sgk6cI9LVGZfYclskIlkzsCjfP1ej/XZ78EWpr+5AmxNYRmhoUwrAXgmNFwmRWxD2PWzt2l3irqFVcPAPDyxMrja1nacTzqUND7XTlojuyRFEophYmxFzNkVePs5lS4QXevFOU+5HqVDjS9TH0Wq8NoZX2jyGuhFhuT6jrUkWZjSo205ITbzFbqJiXOWeWkwVfl6XqoZoScNj90b2ITRkyCCQpuQRxKNqTXkGkumru0SHSb2gTKTrh/05grRfCwKTHUaUpRobnZGWYoGteQlqHspfAfANyJPTlMOVHhE3NeOJDmJiObOUth29o/uc8QXLS2IRGQmlX+fC1RoL3R1Cu5yjhyJN5grl2Pmrm5pdfwloq7lxpCAvr7/+MUIHDtW/cr+wABBANkAIv+5ASQDhAQlA5AC+QPJtKKNWCX2Qg4X13ywdPNo33bIIgs4g1idFdfdQZZEtEgJTl6+MrKgEasEOBux3NkGP5cED+kIRyh66B0GuRl5GdSEs/0mm4IVrPArsmGEK2667K0pm7Lq0qNYMtVB3O7dZu8/Bgs5714vaQRNkjbA6y215S6QkwJ31cEiWWXxhA0hDKYtcw0tBDBoanFdAo0EzDF5f4P50BpL7Y2Gb+RtVNuFY+jGOqr/6e7Uzv6TJpFMAKjATxp4LTAEWCxTvQIGMVROd9zOoyedQL5SJ+Cdcc4Zrb9MxvqgLoZRdFnmXScRgpa3iFqHcwWJWyaEslAVZQ2de7CeZ07WavcKGs5UktduBuxzUi3GF60OyeNU3+Aje9kZzxK1c6dHsA2N7a0sLzb1Zeg+lsVhpeqilT5B5+bwZVML2PKUtyFpr8NLXYjlaSLCeEOmEEQn6X8IAN/et9basCyfV/l5ggu9mgwzo0Za8GPW0otZOzl8UyqrvuaeC2N2cM6+CptQouSqV56nAsdYrFv8VVnP1jUuT3mODpYzGKGtKdKO/GrkJMGEZ61keOIGAoZmOuESCFBHAoI8TWg5G+K/HFNI8R+jHXZ/Aie3gUdnVRETlTbuvrBd/IgN6vCg4jkiYWF9k5mxkF+TbZ0ttiMVG8N62E0dIWElRJ2muCKxauXr3JxPLoY6UNbNyXcPYIOk0+hN5TD6jlHds2ncgp3zydeaCbcSLohOvOPHjFFu4rvsoquvunQDxRIvfbzo0QxfP99LEh+nqig4jyjaKiCfn4LrREsNdk14XWTFUhazc8tfTLkAWTbFD9ZcPceNbCUKMUgnAkqN/c5cfAxpLNtLZHiKLVcLFSJx8U6+ulc/RrjjYoXvVS9rqqzb3u9COSzzHli1kgfeKOi3mpFkPErQliZWhysaq9tI3E/Tr8qaPNT0ahrumdpjNDdtVfFKVO9QdHqrkSZpMhv2MSP2Y6Y7hr/VtZBgTLU4BB87NeIt9g/3Q1K+TDBBLAUB8rjaUc5nlTNMI/aAi3IsrtJiE+51T0jqIxS6p+jm1pkr7F7Iwu2Z1s2UNFT3ZST1ZNnvipYgSVS/0XhqSRF4MCqw+ikjLAjMDCCbHCA8cRwS8cFjIQn3DDqNqNv/LqJpOcJSaSHISC41rPVaDwJWO3KqxdL25omXV3kzKMyd8CVoBnyaOuUB/ds+l8e6UbzrUbWuKEXLrj3Tqpty1FK5tO4y/JFdE2qgDVJ7F3UIfCG4C2BBwAQiAtQhsFGO/CB08VTxSv3VzWXLWca/uTziMnFWqabbi3BC1y1r+vVyzr1IM2idXEiUmpTKOWn+qErzx2H/68I3zxafjEKplndM6CYlSfGHK/im5H5FSk78UROqL6QpmnkFncopgJZBkh/kcAFugas4M6hl4IjRVMzHf1MB0937+0bFVrtzvEUqw1OWbr8L7ZI5irXTL3IoqBpkiIy+tfURb5WdL8rfWdqDhFNb3Sv1RUkUaEB4UqE9w9F5NGocmD+EGwAWZtpoVXRCI4wN2TFuoaItLqRymOrkL/OdAK6QYArk30VMihAaVwc60LzBSrqgm9oBJd1iFhx7TleI7RcnbEBRiB62cwVBeyLL0xuX+bWQghNMefZjtMoPpr5hK9YJirg1v4908UJGgmdLkv4kKTiQpGRc0xaXOIioBYlkb9zfvRZtcdN1tpAIh95mdo7AvEf82MW8Gp5jGIhiwXEMbf8W9uglSv3IDTL0LMU5UJSI/wKSYCAYaH5YPxaKznRipJBtIoWu1QB9+Adw++oT6OZ5EvbLCPi1thvIZ4wCksKJK+2fysENrngvBSxZ8IVTH8Kqzg56QmiW8ZEcPPEBtif+B+jNSUMl+o8NUTzX7AkRUT/NGf91YS+olpRwsbluu1YZnpuSQ+HQMk6nLQg7tEu3C0bo5E1KRUKmrFzT3awYoqjmrYtj2/WkIzjn5mrz0mWVaNTF8pEYbBrUoWO5SgX+gJGlym9tD2HyqUsK5ut0tr4uJ3KxSTFWxTOVrG+qj6QFZuezFd0zP8T89vuo7wCXwtXZ5/EbqGy9DieWR8EcPgaByFQMpXFwJRskEkl347ef+jXUgKs8iZj0DIlJABGZ42C2HcYQ9HoGEahBCa4DonLbqUKn6CFL2JWJj8xi1lH/f/8aHQ8vgW1MCIljmig6m+Phjlw4Sm+3K4iL2dOsJGawcOtrK+B/OnSkNhJ+EtawiJ3v+drUehnv2NH2vVbxSDpSzj54r1xRhphxo0r3YZ3u2dF/MC/2BHkMVtTJJ1nKUkjXKxGsAyU4sUXPBZ8xz2YQa5IlUlupTHYM2l0vyqdwHWXRh9UD4xajSxk1C750rMnzuCxTxxzqNYc4yaPziN3/t0vTIFA3qLyHHJ4cln9cv9TsBKzjURqs/Z7YpcZtqxhpZG9M5uloEeIhyu7ClbhLJrC5O78gnclipJmQ7oywj4+6eCtMTXiAji9HVhoQ/luO5akMoEScij/EElVlPoDGiHV7j+wTEmDqVzUTBVcBkXGIzFNGekWqM1yYPYsHKa1exI6cdVGwobgXmS1kOdCncWS5M1nLxUmpnkBanAxVYotPe5EOlGWrmXjTBIoTSbpAGqIR0mUs6Z0ZfZXJsyHirkrMXkcWXVmhwvwyzIyRFbdy5DQdXglXwiEzapyu/xi+7pR+9z6Ro9giNUztRsurki24GhP/UER78KVPMPX8url5ZFfXqu3ROHqERkVXl9Zottz80/cQnP/yiTximMGmDhqwtfk7dEmvHRrw6RBeBZ6xA4fZcBb8EnbBE3bj1y2JyOnU+Gx6Y06hPKCyAGfAD2ADhhKkELcAlYAaoAC6gDMRegKuAQ4AZMAY4H9Blhs8IzlvRhVh2wSQQk3F5wPuyECyUPzENuW6lVQUpfzoMOSTe361YirWibplg2m69W70rVTAohKrcznPez0tlCOpYqJGVmo+yl0yjS0L+XgoJ/G9YSoy5EMPzMRi3gVNqoNVXyStZMgqJsiyiVP+wFXjGU5LEL6y3bmlSiNkg0kgsaumXQBwSCOarCN77Rx2SUCajrbu0lJzSIjGpowv+8NNpKIcvszKayzuVLhgmBrBjWW45temNpjqY75srj8KQvo2oxLFNnsRBh5rAWICURwllhkotqGTNwccqkX6EpDG2VcvVNMsoxlm5tCQ0gDlJkLHAAwUikABzSqwHGgbEtMC+WfgN6LeCX58ftQjTebskSPrB9xoKB8mNtR2ZoI4e/x66MYRv2pZBBKNW0IYL9IPZZQiBW5Skn4yVbihqr19Fl1Eo8BpktFdqyattv96qLESCQlTm/wN+0D8DC1D7/JG+JSWXt1mRZAlruAr9IbNPdkb63DLp+CUud4a91JVDZVa4hA1z2hUeDZXqFeWdBi5scn91EqQ+iBPk0zx41dkGasRAd1QEkaydSAKlNJAHEBDgQv2ZAllCKT2AVJAh4JFDeF5is1y7b0HHfBuHKqXWkJC6Seo0Tlb6EV30jf922YniHv76xFXnQpL0i3/X1BTrBnxx6gIRB8jlNUn5AGcqbP7RrbSYWStzVSqLMxq1LgwE2HGNDkMtaDRRlxC6CwFo11ShoY8AAIWACrgqAACgK8BNRZi2CwveCCAX4ZkF5MkS4FfAFxNmny6bQ416kxT2MI5vhI5NsZuCNkzITaWJ1cXNZtfZnmjJzn8uQWLLTu/TBt9Zq3qVkZWn0vcxLE6NDVIiqBN4mChXKcpxJzwWC0jRhFgDrfXHMPIFfgokIV4IBWwD2CCyy9A+FmU6S+ywl/ie7w8R2Q7ZZIR8Reka+VdVXwHvv3orqXt5mQfMfHt6e93Sbpht/1I/VXaOe4lo09poSpPzcpuw6Ibvz3B+YgyWF3XqRhJiykldYyC0umva4lGYA+C47aWmK1/sEYkbC1CCCaK7LHrEakYdEdHrjs2j/T9NQ+EIuTdmCcME6Fyl2SBnvQyD5fjv3RzV7qFkZMtZCOAQNML38nNPPZ6DxldowWJxz5p6haG8xqadZNl0geoxg2zKsxwrMICpQoSlCW9KQpPB8RUItEAhcLJ9gQUGyB7W5tNJXVcyDBlX5z5pE6WypVfxxBCSz8jeF4uCrUv+AxR81II2VOlHO9RSuvS0TY9kGg1Cz//53mG7VAILyioNBx/bKx8j172yXx+W7dUFleBlFn3RNc7eZskTTjFMAcktaKyxyszqSJUqfM86XsQhwLq/Wv++NJD6SXu+lZHeeiXG3TrUlusXO0XVmH3lS8sdtHyXkgQghGQvn2XVDiEzeEsuQJBXKSSoHo7nYsdm+UoJlkMVuGFCrURlDxJ2NF2yWP1wHScBEEHBDQfc85URHhuG6DrWZXOJaUWIi1S81Ux9+R2+5zPUwhFqYi8PQjK70WTwzqwFkVJwxzsU7y0Nb9Ebx/r28cZyAEAkSaQjSvYafIBf6TsO10lowxfqMQqhMUmUO/TcTM2GiZAqoXk1YE9pxCzfFSMUqyQQ2pOCvs9ZF01ZIPWUNS2b4dHp5ztLO1JhA74lreIA18tH3noTpiRZBC7OgKSq+Udu0JoxFpx62+7PYOAJOghmYjVWA8tW4TxURrsxW4DVv8tK0VBdrqL+eUec+7a7kwzOL9/LRIie0dC4G4qbsi0+v88LHUs7IIkgTx5C3ElK7P7Sx6SHzUKLOSQJ9VEv/BwRV8I7aMdC5ZjfJROvlkeBXJaSS0tdUHGSjdKcWResQXB5SFQwfLCp0G/U0Oz139SIehvgoU0piXL3LFdoU3SfUL7RFhR6pv9vXO7M86JSiv3xK5/8IH4SzKu0TCf15Cz45lVaKmQpHR7suVpkrQbhXUqpn5L0hIi0bI4QxTmMFQjdIWJo67bCQWg/CBhY+CGdLCeWjmuGqLozEdRpZ44kvJY/ssLZEl6uTmO+6EysKVtXwBJTHosWnan0EhNw8fmlsIVfp+Fi1RXnvo+3miQA5mj+SoIL6Pnla3ZaogCXLM5xBN9qr0qaGJw6lGUsCPoSBy37aNZs8ZosmDVhk9ikN5VNYyU+8ytuMDymVUKs9/yrCSeIk1Wumkpaia3G5SOOLcm/mJcYAxNDqilo5BiXWRckauv2zKKIrAo8phDs07hZEEepAkRPQrUsKlpwQ1mw5JN0l9BOn6EC6JNiJzi71mBI/U37i/h48Ter1rls5TOzD3ooOWwBjzQXfyIR2nLOcZnsOPce7G52STXiiJ49wgFAcLyd0mXDUy0kWL9tgoRIpoDhFJCuFkkQS65nhecD2kNQmBD3LIF0bzfGUeOD42ER7eUZnEz1M3YgLoSGiMQwaBsKoOLVG80crX/EGgPJPwOiVB91noytx6JypmmKKM+30ZJqqmRRu/1Sblxv442CHSVjwHkQ4jHKZMBMyBgz7koffnWJIWayFKkvtiH7O+oJASO/Nb2lbRUV2yYgh95kb9hVBf0hpoSWE9rimGBLw5+S45F2JaNPUFWdGIV+itZqIHejysVHEy9ts29XB3UEIIB2H4L8lGBD7guI8YUXVwRalOZRkCJRe1fekoG6bHlDE9h5n04oODSLrJl+3d0gbl1hB21u3JoTCLDBnaa8ghJaAamVITF6Ux0HHmfBkDmSRrFCxkSW7RZIZjHDLO8YoV5hDNA0JvQKm+Z7SBLASJzCCCARwhCCq5Mbs0dvflT7zy5NQoEXop3G5eIIPDXx0GLjf4m7hIJp3KjNesyt72KomrsYovhDiiECEKXAj2YL9WqJpGYc5ZjiGuGkDOKYbMA1JHQVEla2TU3DLC7FclEMpEBp1gQlr2545B0RsXzW6WCQd+C8H6ov235LKxjf2agL7gGAyLrET5q9kd0hZ6VE2EJskRLu4dDmnwhWFU6Y/gRiUh8sEM5KwBNXNAbEQUvt6OteCwfxZE/RQh8ysbX6E2KbiYpOmcVpNqjLUYd26EJHELImUONc9n0ccHErk4qIU1e4AJ/M0BadZqKTRZKoTRyJO7mIWMVAoaFFSp4RYoB9CtAgoFbDLg55891mwlyCjsSpfKz6aZbqrG92NzZxwXbxia0khyeNNw5gWX+Lmjanq0seAiBH2ep++fCGKmhBuWqd+/eZ2jKIoNYU6iGAdLskS/1LFiZwOMKEIkm4GrJ+BTRd40446m6dwVZxMuylcuBXvPgINbaR9bO7uzWMticFefLK96B+3XGdzEP1aDN7Ku5O2okk6ahrbFUqHkHSSIqTKGifpCC7YjeCgKaPh8CyA1V2asDRnpBSREeejp2o8LsjBEvHgt1cna1Nhd1iRycWJq397jZqL1PphcYq3OYEpoUV5N8KLZajPrzkuzPZ55YXNaYgXiJY7z8dJTvJjVoit0YBcjXCLF7Aqb9gbUopJ2RwkcekVzvKPB4n9Ee+XrnxezAlpJyFLe9C6NF4fN1SiHDkxVc4g8xVn1sKhsm78R1siqeisnxVTHNgTAziNXYsydQskyvscVCMBaJWCNlnFTFjKGQWWJsx47xE2c17QiEQJTkS7lCrxoe4FlZ3g3+1xRoXYiWgTrPrltrVoEp4esTNBPyh1bQTYXBhIOe5kBfj9PYUoiC7DONdShiEqIwEWg85vSnhHX9eVba43F8JwliTYFDmgThaEY7ikaecoyZnYxOdcBJZtMqAoazRxooySix4y5b1wP/eINK4vHbpvrIRYsRfhSkMMEaqDhDk1KQdThBgvIbNmzihE+WClyapqmQLqodj/7XvJfEqvSVJEndNO3y+ORvNNT8YQlPTW+J8uZZmOXGdyeh/Dsrou7NLTIFfjvh4XsRb1dRVOQ5BSamLgTz4BdEKI8twTYkwhwfpAuMsadfnSUIT8mn+et0Gdi57R0fFh8qVW525JulaWr3+2byjRbxn/OsT+dCbSA/v+chSLMLzTnBZElXPiZXy6CimQaEA7zIFq0Bh3e+l8Dlm7FXkPUEvl46TJyXvoGgTEmmuXg80FhsdeCzIZlx+HF8U33Qf1dVTMREOKRogBfu//jFCB08VgErAPEBVAFYAW8BpQHPAZoBdgFwAaUB1LU3vXyeFr4EP/YAEJL4UHrxEGiKzAHCk0EFWBvYXJa6MquvNAaFKoV7mlQVbXwRNlpBKvZak+h5TfVlM5BRbE9c0LidjNnWLKxN8CM/tBKgiMKcOUsPFE0eZDQ0EYnDrBY2OsZMueXrEi6dEkqlHSUkG0dWY23yoldoepbfznRqhVOLJjjNDIxP+wXwR8IQ9hnt3bQkfSlRxqTdrXQ08Ow8p4eLCOF7EVfKBl7sGlppUzrXnP2JyqPss/5G787AQq/v6TrkMzwVuEl7u8uVjeYKlW2zH/RArpY8okFyK88DzYiU8W0NMXHJiiiFmPQx/CTo91FbEzrai8UuFbsRuJfP4eMkMvvoaLkZUh3U+5jxjTwHuYqTye5ziorODNxZ7e3ihWgrzWzZKU4ChZiGaS8SrqWL8cKEXBOtbdYVKYyDemaTi+bauUf7jYTOU9loZ2D5YsTbZSOyVRr1Euz8isla+4UepcieUMFhcb3dip3PNDJ1P9PQpkubCPUInDXejaXvJ22feQxVkMUa0ySUvNNgb8hKMXQ0aSMOXm0Ix5W2qeSVh7PhskjC/KphcHpaVo7XI1cag70aiYCMQu/n27GZ+AtybDeM0rnfobGXZRjzksfAWpxBWhzVudo9rIfZAIWtZtbXIRrxkPyV1jI+UYr8CEX+u8xNFXtsU1oyXT5WIXHdA/VNKplZkEEmbFG7ijQkuvPCLLsQxA2gnAq4E8m7tbXGKQqRLIVJTL5bG20jXZl6iiBKSjyM6lbTlyaR0XezXZ95Xozh4sTKkJEn2w2qtyorlq0qMAs44UTbOYYOYLwixvAkxECBPTskkxnjiGOFst4+ybBf/BbT/+quvFmz8UZ3CPOCfYNR0KuVaDzaSLZUnJTV3NV1pZr30tf22xtmxcgzSY722MwgXWCUGbz/lg6GPLd+0gMl0p0/CliZ8uklLUa1/GOrGD4r1VJOumJShqah2y86+PHD9eapTM9W88tMqVp1EDPGqRodTl86k8Sc+l+oU22wUipRJBoFoJpSFOwxaUdAVK6zPBKqT8UZrdA0QnavoXAnWQ8xVR12uy/RxBOJ+02uhEUxZcpYcgF3Q6cHoT5GlG/FwprktcFgISpsiVqjkf9ouHFdCyaf0umJrobvMxkTGXcLgdjJBeihW2JmcdatIohPYsd0xi4i7F3Yk4gkK47caYgD4XMJMlWITxR/WaoUwQjL813gHFF5yHtiouCVREU/pJOLiGoTq1mmfkiJShZwowRrTG8x17YSyi8TOjy/SgpkQj9oJqgRvUySVIOjfDdjuZlr20URZu8cXl71dO9iys/u9bEWE8bfhVIDN/JlKtYby/J0+qjeKp/IMA5wzxYE6011bMXFeiYEqpDGvrNiFRZNVoF2XKbVKOiPGPFysVsy+1Eq08qqMhy5aT4IP4QESXx2ykbUiSt+ejSjWZ+CWUIjnoSDJACNNkVwl/9JbcTYlBLi/IoY1wgmIRyoa6kI9oswUYIsIjSd7BK+Vrma0BEvRA1rh3pVyCU0ZxOLV+IxIrNTDkg1CrqJCWCukivF8EtOCLAO9hmY+dF5L3EcEHPvkQhKOBTPQwkhO7HuXr7ZEe9bB+mbNUdvBzhchPElM8yffhsMXiNLnMhANFJRZbMhH3xPJMnoU9wwMsIwxAAR4bbKTKrSnFDwfVc5K+KwTEUyghJaBtZv7ogRvGSmO0zbT+PAOxUzHs5uI/K/yYITW4vpGfyvtPKiU1ln9CCWLARvCPrdLQXABagCFZsCVNibGvR9G6nzi3BtdBCO6YlG/+EOZ6Zg6sz9kOV04aLtylfF18/FBRUX05EVTIL5RKgQGC1FFa2GwqcRGFP5ehICmApwCxCDNgXpojIp6iliirMxOHsxlUJD4qdPe6Tpd+le65OiFYLy+794xaoZscqRM5OpQ3s0ZX+Mg9ScUioeUs0EuRil8vfdYF4LxKHeAaJ+j6BssgIUDygUql7M2kyDKKsNRXCIVe9yGP6LUnD3PYINWsGlkxxmxWelzW7vRkWDWSjitUtuL5zKJZFhgJLd1MvyUNRZeQQRegmShYz/kSzEIao0B1+kAimcmyI7BOU+pXEX2WdvNuZosbbaXMBjbuv4+5hnx6PvAYEq4qNCAfkCwXiA8dsqzEPwRzdlLxwCefQTTsCy8f94kD2rFtamGHw7rRm+rxd9OvzvEYqB1UC3bL+Oyl+y6gEtBl4H1ozptwiGUuTzVEwex8K6hTa3Z1FS+Yi/zW2FeMsfw5pjDudZnGHtYL2NOd7Hd55loq1Qn7f9PFe0PPV88Ps0lXQWOzP3qoCrGeC+DOSdpEOs8BOZZgAV6sdYeCsmNhlhWJUFoJs3c7aKV7J2EoSY7+JBQuwn1dJqtTR6Al+avpFUl8hc1tsZdfhuBcrCjn0ol0Jn30vLwHcoJ1XQCoYiCifDSuPyubEejmEIiErChzyAScKgcGXRibosRtCUqjE4icbRWOqUJ8skL8l5LLa1BJDmUIJ/8d1XsrvUL++M8Fav+bZc+ETotZHwlRjZpNFAVGJoGMcfRM//SWINyaxp87KRazgahfp30WMZdhRLLcMZfjn0Je2SYT6ycz+2Z1Fw1qvMicaCuuJkIvZiGOGpmL0j4vEgRNyMD2tStxNZ/5vrUsvs2275TJt8G8gZfTjDhijwOOYJqAEceRqGnPRiXsjqiPBNjrEr1NmuE5iEKgYt7owBGeN0InAzNhG8BbyhOW/7fjRSBt2sL0dVRyaufM0WXA86JUQQ+kgx2RNIZeb+6ZrShaGkuJDexePTlR8jdqTmTsblyYWhY4DU4vgLzDQwBECmJ4WPAppTKF8hLx3TP6qiTRUQbhhERBzyRLLCCJKcWUkOqgJ9RVWV5DMgzo3yWW2Jwe2hF/Xz9OYrbFNUBK1FZ7JAsBIVsRABT6p1Mim8kuJoTX9Rw14MjFNX6rQsndD6BHzqwugooAZ1vM/osptRKRJUMInti0Y/l7+YiORtmik2T0nPSF+ctYMEIQOgoASSaQFI7/SStvEg9/1wSdr8+WcsRAkt6yg9yyQjiZfYn28FUxoiZmjcVLalxkrt+56it+QsCxsROhscCchHTWC8J2gEb59FPWPUY9m06II8CLg2/v6xUFyOJZ0fnkynqu6qbwn9RTuzu5eHtEJxkX9xIE9ioM3JTL6UCE9eprcboEwQD4TJDQKBKKwdkALRJC2uDE7q5Ju2jAabK4I+KEcLiaiyT05i+RPokpoShxDG7Al1K7WWWKPbscWxDMeBkJcGshlBb6UtlxkrSBoWRYtOUgQqAkDg+hjaRMyub24mc1CL9Q7QXTJV7pD3BdGcZXXcohdueAygpvg+sbyEG91Pm9L7bUV3fzB7NKGQHsyKcJSpNl3a9PyQiES6ZioLyYXjOO/BCRSvBz59CTIKJAF1gZP2VE3WdZd2cgyhZBkLwANIocX9DKQNZIPBXLHkejeM5UCwZxTGa+XoHY2WlRaWq4NjePwoPiY8BIEIPhfZDD8Um1itxkchYZ6gm2XBIbtLs0h6UWvEKv1KhqwEVl5LQq2jmxLnqB+48FP82L5hPFAsIZEuMGpU4KxSbi52FhYJm4ejgVFUcZ71ZY9BxZlffZEIc1OSzVJ8jqQDqmwGX2Kokl6cDSG8SlcF0aAw+HwrtoUH2yc6xMfw1kY7E0gIf4nQqpAsUjRhNRcrsRiNXh8B/wIqoI7T1GEq9/gjxz3FqQqMtqT/P0T7ecYT3ixAqvPOUguJTvsD/Un4M4/0iNfNbhRwFZpZmjDUZmbwSvYNRYrqQUuA0OXEirup6FVM8CHKRFOlLN/DxdVl6JIIx5mSYBDdQ9xA1LIfyeVFeYoBDFR7VkZgU9RVbD0U4BeUFKE9GJcmOGJglPWgjBqxgkIQ8GJKDmSXILQyraZAssGllJQ5vYyLUb6Uo5CP9hDpCK+27JCFU0zHszm6qfysw7xs9sv4SUIhFVYeE98aG0VlXEYpPAdFxAE6RuBMmjFWawqqFjCsobmIYaBrvEngCSzZrbI/vCbQRyaiirHMIglVyeQRahFV22geV4hzszOzUNrWgSazTFdM1WN8mRGCqsLigRH5ygKB+TkzCFf4iz7u07o74JLsWept2S1KPCRuNRNcb5LX0NzfXGNnbwirGgKIXjDBdpiyRHmNrZLyAgtRKisEagLUkrcEIchS8EISkoWAhXxYC7IqhqD6tNaCuPhnhJdfwmiphWqBiicPfVfZN0FFRTyNZOLQJMdWzYUrpktlphTndgpKGxaaFBqYmMbO5+9ETkJQUuReK1UIgiG6cTS6zNDzdqnNM4fYbOx+1iC4bZz5Zo10Nxusf82llGiprOL8ZbKznqMIpP8ydMILHi/ck0jSMX7vSaKS4jKUATCp8Yv1keKBKRRNyxNLmyOqncjHXm37Bliy9FHRn9KMk+8CivnnPpHeqoxxzvlNzN1BbR+DTqs+eK32ts01WUem7noWKHQibC4tFjItQAxfxatwCynYB1WhTVdl9D66eqPiT1SLsjrEp1ydYn8j4TDnn4hFxEm5HJQrky31uX2oi/F8TkfYSEsxcoDs1hamBakjl2ORIGKMLEM9PxObinNXIrP+4qfhX1snfrtIE1s0YDYuk6Xvk0XE9lDCzr+vdfoof10sXd6d7tztv7onrXITmcpNIkQaLd0eiI3JhIJzcxIyQUmAtYxXvXIqWpmHGnI91xoCa3KqpvbFNMyz8f1JllU9pyiK9BTb2JPIl/bzyhoGslrgt6lFCbVqPep4ykvrSm/T3BurLSkrcuS4nm54kS44kkxLQyvdYUlsDichv4M9CJ4pkc2Md6u9tq4KcIlxHNVIN5LX7qDmS+DffpR7O2/GcrqcQE8oY4J4ytDZCOBAMDMQMRstNxsam7NrjSConqOz/VExneH58rpRVZM/FmqqGsj5GdibWIxPuejPWLjaS/h4fGldzJqrlEfPpC1WNaXG40P/EFYD3ACqAMEDceqS5FR/R5vEScVYnmFIJLRj5BUYevCY/hq7zn3CLCGBXg0ghT+vf1SI3aYvwi4eT+YW7+7m3jEv5L3O07RA/y/0EjcZ8dTzUl8AyRDgAOABTgKAHH4T7BoIQdmYAgg9d1QiR2ztoYmObDMeeFxW10hwF/HGXc7ORkuFrpG3HX+71dOCHKOctHGVBt5xRUVe429eT/H/8SjkdE9Mg4jt5LooZ3bAhFkJlZ2xehAhiAvhYvBerAH8aWMMTyeAnij5D32IUUjBGAz8MvYjgTCMYnlxDO3Sh8ti2beYURXPcINTqjGiWzaoZ6nX9AK3K9T4EwvG4muyyKdYOBcBIJLX6vEHMhnohaTUCgQdkPE8H7Cd0maBDObZzVq7SERGMgiaJPhTKuUbB3MImvh3eGtZVLpR/uKqu7WPYpdl46K+/Gx4pG+1xf/b+RKmomdu2KNxXbMArHwIuss1QAjFq0uPuyvr95icd1ZC7vRYijesMXCckFcE74Yh8v9MBGuTL0jQehSdAhdKexLNxbHO1hsyQlZ4S8L0XlBB01DWUhHu183NXOUSS6+yOEdeNyDIMlpYd45rwFOTe3aWpUOfSVSLUQ8yHZ70UzXKtV2Dj+tGglEJF7DV0lHCpDPHfFXVVHiMJYThRWzEdU4a5apyY8mq3iAXy0qar7fqnqivUwo7qorchllCcM8cbbh5pXitOq+YJVRvRAU3n9AgoiZfNb7NuOQ1GGa2PI4bjTrgQMflCB6Bmh+QvLqk4MQeD2jqnDJkL8gEG4+JIe1xtnsY1z1fhZiGUYk8tPTyroWpUWRtlalyIiTCksqc0/DpTDa7fsQtjvNPkRRqKSRVNRAF5tDwId44vsvK/xALPfFbfnXnuCsGRHvCflWF2LxGQ5Zw7kDIOwWN0eDQFIIYjDnlLhOYZ5bG7I6/JBqyzB9QIur/+MUIHjVS/63/iP7j/ez91f4h/j39/v1b/LO1LN14pPAJ+0hu8ugudVBzBursf81OM6NByJrAQZ6LkjuqoWPURIhG+i5anvzCTm27lOBigjUUHk9RDANMR43w7hoQkcQqGahzEkVPTNlAZ2TjDZT/mIhJkStfl50J33KJnYegI8qJKBVNl9xMYjCIgtRMXpbLJDSNlZfWHw+yXg2Zy01JgLRQI8AnSDQAUlwR4NUIMijIPBZouFNRYCkTPrwvAsOaRVs7hResepBkZgSIpzzz8ZPJO3M8aRfNGmfdKmFF8W2aqCasmB6XKSL74TizmuhMUqiresrPzHNQjQKOWRwjukcoYZUlN3C+EK9sIsNwkk7GJTSNKsX76IXou6dtxfspFKfZK1Et+apjqAlK2M//EoquQqPGQMzdM6kmE91YTQ1cJSZ1fO+6iWVGxNT6wAXoWYlBBCB/QbYQonPEbztab0/P5POgg8xkR5PETP7hHxkmyUKrNDdLU8/Rl0mQbON5JnmQPnuXOukpXvQlDlK7RWjCvXlQZv9DXtx70JxIHEIBGrSQAW8fxCMLM4xxkWWxojWChUTA5S++MDJ/KMhE0a6YQf/kfJMoRQkpniLq6vDr3YEG9pqtunXFpifzKDrjic20dnUpDUCsalFRob9fl3AwpJSKu8oTYrgnSDOQ/hVpMaKdqqRQLOWThDW78mkiaTMQHMRd9tSXPYL+1Wn/DyLdqNmvyqy1wOuK1qbbVzt7FgmTEpb5jQ24wNbwYUzS8ENsayPUUG3JJeaJlSh8jpSw4CnnDrcr5YyFTDwq6SLAi20qcAoEZGot+kNO0S1ivVPdLLWhm9GW2/indN5D+2DUvF1XsqzmbvfT/Y3FUMzQ30hW0PlwobjvsH6x3525GplRgSJknAbgsYkYpBw0pLzZArCYnZ8oD7Ojczohp0aoXNXNM2BoXLtW8Pfkev0ZU/N9W1tMlajIR/1cSOJJ3qe6JpAQEMqr+PjNS1/JTqsWVQ1CGhG9pjDYZKCsCN6Bz19AuVIu31c7EUrTIJc4kZzIQ5SMlK5G+dNQ7UZe0ertL/a9bxjqDakkzbJbItIiUrqTsvMj++tTm4EdGSudccEIR2PuY2NfExbsizDdbDQPoI2PfbPWxJkpv3ZINfGuGRztxjSks73p5Z8RG5NdOpOu0Vs8V3De0ws9pFx6SjsbP+eCDjOaAnXRfbFtDUCo4/StmFw/Won8baSEdsb2uiAeagdB0Ai5wgzx9kDTR6VpMPOaJrCpOpqRMq221CRjpgPHBl/NL6acWKfvJvvJVNTtYUv1GzkLU0l33SsOwLDaa6CoNirpLadrt9rXMdjVU32ENh8wWb5FM3B9yhpqWL2chi12ijrjTaAgRdIhBVrnOjBUhC0Wnm+zpQ0P66LFkKTQQPZa1Fgh/KTveJGRae245sbGtxUHBzW2RaXFp3r6uuKxpRCMT1JfBCoMJpmA02AKWSiqPk6beQ3MCGaBOjq8E1a+JQSFz60eVp1mjF8MlaLGhnuzBgtu+SfGRiJ+HslJoTFqsKTg4JiRYykvdbMlODNmGYg2ZLT2tMdgpxehKPowXOTNW0dhVtr9VJPXNOkClbi+e2P10bIo1/p+D3bRQ1U2/+X6LlBTyLkYFmyODbYSBp0RfVNxa8i8k19T+d9hTOZbT1PlVdV1pRKaKOvL0PV9heM4EL0HnHEXEUEe1V9Ly0F2FiSDi+q9LrZKPXfo63r/vWVudeKaanqdLl1J9P9upwZsFIsaqsNyS8kRJ+kljrqlkN6M0rF9ZaS214gPFLdizAjxyFZ8jjqsFbxihZyvoXNn9yyQss4CcpcBBm5lqXD1v+65YeAr+G3vefs5kvtZe30lN27Wv0Oa4oP7WwltWTU1isawsNTEp+zYo+qfVF24KN5BSkyEkRQgSrRq/r53RJhnyP9FQLgXrkJxAavbuLipTuLAdsRmoPPpp58yjZnorU7cxu7yoJ328boqN3EkLjYY0XC9Xr6TUHUpqb8uR0rK7R1XOM5Rgh8kEhFB++LnqH/WWuMh+KGgcaIWZgP74aviouJItus5anlw6wm0muiPzOlm63YsY+/oJqO7dqOQk1qTSYw1FlUMngbFhiZ9ZnoaAzJpPWd9RJwJcZYeAtg3S1Km6w4C7Y3LE+kFLkIWb6Lbgolz/EtKr1A5XHSfqZo42WduR0/ELeSbhspH+tpiMondUVFsvKhWQnVDalEvsXCqMK+SFDNLDQg15UDlC7BeCeK0JlR5CP8GWZ3W1UyLFMdggjUKQFgvt+oJUUUVFu+zgylJHVcKvDJ6E3jB/K9OsydH0ofBGUlJ7G79HG5Gz6Jbhj4TStyrXuwiENCbmwC2AD6AagBEAugCWs6yCYgulRLjIxKWQ3CeahMCwSXHOPm4JY1ye8wqrMgok1ddWmpVaiy8sOn4+KawoI4tf08vEjmuJTX+uIWjj0qQ0lYWttcjYpYACGPYBOCEALYdzeUSJxaycYzQjN3tWdS4LTNwHduzOw4v5v7agrkf7IJtYOtAZiaWcXjvYbWBe5OyQmNEspGDE0Q8ZOkOWH1FJnvWWC4gTCEhUwA0i2C4HwRwVRjB/CgyJl7ZZCcwSF0pGIlA6d58jGXE/YEPk7xYRHL/XYV6jZHbMjGYSZdKyRdFC2FhCUBQtPikrTVC6jIHKgnKHU2WUL65Mm9pAmvOmkJkF7EMm15wgZBoQKlhWZrV5Wl+jerd9Ka2jjLFmz5UryjD243HY03VLfwVtThC9Yq61Pg/9lmure0atxxS1FaUUaf6sohIX9pXI/97oPtJn5eUChxU9s9w4qL0r4+hVoIaWirefyqueBthK3GBZt/62+RbQ+1ulFvIZQy5J19Ok/o36XLTICRuTvCNYoRzBWZHYYcA8vcrXbq0bDpFkI/2V+3PWaAlWNG/cS6iKixiqjacrlM8EC+hJuKdP7YbGrMYJ/Rm5LbplZASFRC/UP3KYZI5MStSwialonJgpTF0oto/rmGqoIta5PtphN1MkaMKzCXNW9N2u8XbAQ4fnqsJZei5LhlQP87TUS497I6afkFRbFGF8pWIGrG2dtpcs/HTGxUaCEWPx0ZcZ3FU1knCu1FdEu/bajzoQqjNvZIcnrZe2OSVdP1jq8aELLqX1xno4Usj0OuLdJ8Oqgr5ufz3ylcoEKIgZPxijrl67nRK6UlMHovSzqxhBJPH7TfXxNZKM2ytsnjxEod0hMVdDn569+vXLlUKa94pu3+lTW0+Ukv0loWJvK5ciz8l8jKWx0il68VlZSQETYqQlbSLzsbhWz0RhM5rcWy30qsk5Usc1WekXnBywcOESPX0LepfnrLLsqLyl85X9s/WhabkOWuQFLW8MsWphUkJ4StWKIjaFL9XOX0iILFhpGKiJytBYSGPZbY2HdGRSst2O7mg6e1blsmYMW32T5q6k6y7RT7ltI95taHhW7bLUqbXDvu0tcdRtWIKeleUxE4XJuaZBYKvihaoT3yCTOHDsLfkKZjeUm9vyeIs1NZyblidIL5j5YKNVzSV1DlvcltQItJCnybvNFXFlKj6qFVAYYMGrO8TtKUiKTxk8VMjleUO1jpaIEUnMi4aLRGM65g5F5/VxaQrCcaHKA5vVMhk8iWJsGSvdX+SuVa02RCBxLAtRPdipCg0e+KNGjkUOdLjhCERt2GiS4FEYQDhyKMIQ2sCzoYeGwYOEQcj0Dc3FITKalgKS4EcR6jUGRgmOmKKn8alopI09i1n0RvruGLuUetjl8SiYZulqGEjgQ5437OoRlW8QdRtoOqFknT5mKiTMHWZk1BKAhNQQ4+C9mds/CMtfh7C4KvhdPF7iFo5ahrGJf2bd9yFxSWCV+5/J9l83fzfx/hWpUIfEAXbC5o1Lv2iA0dCbp4wRXBQvOCRMGiSsDcWgTodHVd8MLFOWinZEE1gIKSrKZOd2m9TGvnRYu+eRVadsVhCWciCiV1vVORLQymbBByChgkCLIwINjjpgZEAYbBg3CDcuCJQOAn/AzYhGKiFNZa2qHMI9zGHR8kRcUJn4nO8VdKovpZGrTtAUvGbMqJ1GcFxCyxVzYtS6CwMiEeFDc0IDcKI0xJeQQdZZeQqFEgRXtQ7IQBWcBTNqT4MSNOCFGpfHXVtwhulGsITzCW+sxS4kMejVBJT/yhR0y4oa25H9pCIFUCxx9wMnYkSolEpF40GFgWDULhKuDB0IDJ6DN6Dl/7mVCEyZ/sV7NyQL4cfGGhGJg5j9Z1yGuexaKkbDKW1Jm6swYURUOT5bw+7WHWh0OmwaLj5MhZXOg+vAqeiAsahIbQg4dBEWUMQIy8fv23SS9XoTqchWm0GlQ6ymaaqV5KSyI6t/ZIja8gV2K4L62ztV63aNUijd9iyHnoeVtRcMw6rJHDFJ6yVEh1wYXJRImRBUfi0egjDmA/5Wj3WcfuAvLzJOHlDAl5CVOFLtOtqpd3ry9S9FczVlPTU/kx0G7YHOQlJvz7zJVOipimemz1s+SjAUiLW0WMRJNkGyMDCcjFYBGah/Uoh7N6ycjQhCt82GmTzbfz0Yv3/d7bdmXC15HPdI095n68cVG8FjMVTEXEQsmHWwmwNE1ygmLmxsULsBtCKBxMOCZkGiwSE68H4hlvOrhm6Od6zddUNCQqqaVOKvxGvvQGXrylCVNfqWowLwiJ1jJeQIfyJI5Eivrw4qZCwnEEth9EsJu3TYjAk1IDDMTamTr4NLXIRglEpipyHpvmT/0jExVRhhVpe5g4NyN+L7la/fdoTkCEdpD8jVZtWmeuIn5LTPIpHnwXKsDYbsPWbRyyWVGE3449MnV2GDJ0UDioSjMDsxBiiQlqvPtKnB27CUKBwbAmS1/Z6sokGUURG15MjHZ+zp/X9Ootl65ihL87miY/SpXInThUpq1cSL5Kh+ETchEaImEK54Rrr9WLjwgFwQbg54DPU0JaJJiUv7j5VSc4HZ60WJc/I429+HxWToMDUyuzbA7KKNgxcFhJ+G34sx2zQ0JC5U3bEEiKLNHvJyhuVkyjA8f1pumGLg6L07sMryfx7pMNrgi+FnS/u7HF2EhOWo9rPlW3N9pqu6DpRmmW65W2ShR27nY77fKa3x0WrckuUlWvQusZL+pSuSO3Jk0+JcCPsQfFpQcjYnYkMK4mj2X1mtgww22AL9l5JJaonboUGdkOM93FeMtol5Cl2kv+k3UONqdSkwoDBDp7yO814HAsLiISo+6/w2yOmoiF5WIE1M5pFhMzbiUhC8sIUofTSRSbxI3n5Gzoqu4pt9iMhCGxMROXd7d1FlfOnx6W3I+5ini1oSlRI3NWzaLqCx5ZGgyfic0XWKLA5JJAvmR6IBIvWLlbFeTsWQ4PRuMyyLYUQtiva2KWRV0GHKVTyr/lIVDgkYPMA8kEro+No+TeTXsa7tcWYxNmWVatOWHOyR1NVp2VyoVsSRjjJtiDewMzd2WtC+uKuqXQkIBINXptEcHEIJBTfWSuo3VcS8I8yqBOEAkKXRBW1kb3F1ooyt2px21Fys+nRR//4xQgfMkz/e/+u/6T/uf/uAAgAK7SdpfoYX854qKr4mK+XvccFU08toYEktpaRZ1PJeWhKk9afTexkM1JsvqVHOatMRqKpKVSZk1DC1vZP2spZr/dS73wkjdRs1HpOiUNe44xa5WPGfyTXHvM9Xrerlm8G9GFwyt9FLupid6MPLkIwmENzdH37WCSLYoBADmVwpLC15Co9hAA0HUIoBUgAjQIH5MENqCFaC+mvG9e+1bw1A8RNktbvbnLpD0EAHg+hez4vWb9TzJKpObkRcn7ezvDPh9sCg133dgr5CuRLfZBvb+K7Ov0wt/5BK9BxI8r0d03CjCjZZVEc8yb1ZtJtgCcVUCKgZtbxyOSvX+HnZcT90Q2ASqGodSAlqAbq/XimdmG/8yr4qEwuhvsDfNAXBs2q4VUpSBqbTT/YSAVe9rzI41soJxEX9m6MyW7bKOXWXQGA35rP8ULrUKnoMz0Q+opyFtxZ4uCqhtTyhbkpZDCG/C5r8aMFGHwolIqpcz6d5pvGydRSXo2Zn6TUSt8VJlj6zSyNvnaLSSjn69eD3YdHqegv7/WoRr8Ztu+pAMl4oHYZtcPsx2ob5NoUUJ0tZllYvsxEeYh8xumdAuIBTSLBcr83CHmVHNcZyQL0DWG7fAj5hQQKNwrjspGpvoeWe5Po/9M1Vdg18Ac7WvZbKx3bK5mICNMmVe3ZGWI8oClyjKuCsXSq2r4cpg74KJmvZjliSpiNxKBLjkwxLG86Wga8B9wETmAD4GfYzIAKimOp/QC4DIMe4alqeCWIBue+KbRiRxm0H5s6rn960i2uznammmo030jErtoKqmkQNDc4FOS3P/ac6wdBJhz4Br1rx1HOssiDz200Yk3CPJStleBCpU1y6J4nKjcQonRxHi8q9Rjpp+sHpGJYGCUa4HAdrbQQ1YDee14e44WkPF8X6vpd116K6ixP48UdFOyQfm5PnGnaOhVYCE9R9albaTA/OL7WsNaGe8HokpVQjSm11WtJSrvCrqzqC9dn0IOWQnyWsgokwFVQZsZCjD8zU51oJjw4r0FM3jLsunwdtzPQp1jLB5snBUNC+nwckStLVLx1aGL1WaUkBuSwAhB0cBphF9t+l7PdoDk/JxVwWbKp3DoI+EIRwoVUZhgskIFvUGZgjb7EUzSifUEhAccJeEKAux3/j0QFzUy+AgAFUu5y2DhR/BYqwSN+RK2ydH+SAcfUnb9Nk4i7ocfHuhBPYQd/iCzgQCwE7UxK15/352hehMe3uapqo+3+cjUvJxhSRXzqGakUBJAsxL74dZXSfKS44ASEJy5EAEkDg8/Vg2LCv8QIDrOcFdYFCE8FIbYxpJVPi2f59dLKtrCsHPpGsJA78/kQ0rrNygo/VovVJMLQ/xS404TO0XlwS+SD8zXpqNvqg2SJScyCoE2kNILZ/DmiCHwJmWhtwB4QMiDaAWAMq5wlYKz83KHQH+D4ByX3qQhQtCnTUEJWZPiuqVfz509pWdRaQbGGCO5AKFnio577hGli98RSJW9ombIEUksKDMFJXJDGxkMosjKSNMiHZgSazQ9XhIu8iIg0vdjPHlNqAGdCMAWoRme8ER8HDBziPgtQdYKXB9W5gzGimQo+ETLmPnZ1bIDQDTxBSDIlPlSRGiIf2mRl4kjQPiwzB+9YEH0gjR90Y1MmnHcdmeMK0U94ZlJxxjYcD+mWbTlqRUC7FiENko3YAsphgEgEV0pGQ5aUuZ+QUxDHx6exKUXihSU/decqHw5MkPykO+OjiZAQekkZu5tN4HjYhVLM2Hj2s2mdsqVJT6y7FCIXsep6/fNtRXZ2kmOTJrttU9caqTYgnGQXbWwEC3gpreAF+BwdC5JGxWTvaBshGDssacCDEugleLmgDyWXn1tY9jFFrYWsIiI6UJBp2SMhCe5y7kyd547/sSib9xIdzLvkFMS3nKASHWWSWok3lxzgt1taxfJojGYGWiDJlvbqAb1HAdCGkp/rChIxTMuQS3b5I8o62ui2+v+VORTl/tTAzFDmFQXW+sUUU79C4/iZ+3WH+Z3JU5fUs9GX6FK9lSwzKMPsytYfqo5jcOUDmtYzUB0ygaBapYSDJjeDKsMAOG2QNsva2tKzr8oRo8oyRJ0eivYWhhYUt6yJ5gid0Dwp+nDjvveGxjDLsqm3iFzpafTykNfILlfYdGSYdcMBj1Yhtr4S5zu4IhwbVbbSxjhUVTPiWC0xc7HA/NIGlBR3+A8AJ28ZSc4luIjlr1zn9CtqB/Co3S77ImHtfOhZWXUN/f/r2BjaOL6xcE1/m7W/wc3qWxv3dUTK/agZRgoJ16t7Ef7EIq3e70LaSmcb6YazFYJaFA56JJQHbMOxAEoB32qGzQNzO6gFD1yJpxTo2TR5aVr24cztVvwd0gtgKVKowraQJNkPo76WqrTckGTlSkTanBtro7kqXTI3olsLcvrR4ZlAUBgYx/eR+WZhcgNT9S3mAAl18ABLfIEOFWlgsw2BGtzVUyhyFlxQVHhoEMxeqvJ1p9nDJPPJjjbLXNYh/v1nePybwVpDHmzKeBNUZyFIb4XCtTkDboSC2NiMdE85DkgGwqGJGsByCUiRAM8LUaQAUgBigQbpWhFzVgdbU800l63kbq2eKAMAtzxRltXOcu3+TNqSKZRwZaRK4g8eTpj1/EXF38HRJpkQPMRiT2zId+YmFZ1iMSTsQCqMK2ZSbD0nh7AqQCLEOACoSQBLhL0UA2TWTearmftQ3cuy+7c8zmo/6Cmpr1bq1P76XRb0XYxXMwGLX8L4KVUEKnOBBxltpVMk31Fkni2UhoGogSFP5IKU3yyL5utCgTHMVZGdFJmIZSOiKkPcjxpHnP437VRKUTybY3dVi0rpPdEkqMTDj05AcnO5SiuIvTsyBMouYUgU2w6u7K0zixQ/UfqnIxBJ1iVspFH1kiR5csBiKUY7nvNx1wqCAMEd8JCrAJQQMbk0YlTw1R/UoVlRI1e59V+tp47c0arnTQd08ohOwpyzqVMVAXYi1+UFI8wgTY0BWkXZ22XhqdVSpQIhMx7Wl1gTbApW0+o7IJw0hHFrzE8bkqXoPMuQmgE4AGuBvk9Arci40tROKXDQOKlITp2C1HB3kHqVuqs+lFrfjJHbQ94fYjH7aLVLJc64mnLwUK27SAUWg5GKTndEqisXVQJ5+YncFMkBBfpGDYamgBNn6/HABJADxNccIpHqjnP67y+4b6PuLpxYOe8mB8ujLykTL37j1iVTl/476+r3k84x4ZYv3hXqK11MMvDAm2Bwdjy2LTWQQ6msgCwaQihoP1nBsXAjgXI/9gASQlQXoHWBiDzIgIEogwQKYSOck+rBMZk3VE8HaWRMspTsuWJVfw8ApSBzJ3ME+ZRhsZalX9d86vSGTK40szvd6Qfxy/SCpFUYUKxmURxLXJNZAgqgEOCNCUAUwAkTpDfCGDHyCXWc/SUBmsuJrHwbfMiHPYW9ZcipWhXstqlymEmI+G4pE18jFx0WVMnOxMnXpEsO9oECoklgRs6Qy3FMmN40I47CQUY8rsJ5/1ICdfACAVYPsBZgGMBWpg80IOMOATKuMnmnziMN3cKyhqO4TQt2QhbUeYwnJmWDZOB8OelXbqwLIESQUlNSOZK8Q0t3BaiSbCrc3QrCKfXQWAlHESjifkiBGYaiDJboFMPoA9xehUD9HAEyzB7gvByjWEbCKhdV0fEFBT83aVjzXX7HHD+fceuUbxGUaK4YvNXJla+EbS/HjJFl1dkuolpY7D8bp5NgRivH8jDcIr7+A7uVIK8I8tgIIO0zwbYUgTagGG/gw+6lImKS7I94ihhbpCM+4hL1ZxR/pO2ZZZq1NYhV9sAiC1tRdkcQ6kT8bO1hVNWG8IlVLctlCmFtsLyJZQ+KqrnheYFFWg6T0EdeBYgHSB+B75w24c21hmFCze9dePLkf80gMuvqauUIusMmV6yZshynRi05S7Woy1KZ5TMPOjfD7GMr3YtyyqXUh3NZE06mOL3C8dS4Vy0WxHPZdnfTC0CsBggWYRhR3zpYAm96pNAXefthNGSSCZOJqsajvoWY27AzW9HkTjxSIp/DxopPPii7MBimcoWRkuhgX35SEdKtxMQxAG0QycPRkHkXC1Px1OopAb6e+wBIA0xinvkDYBvhZAvxbBPjuQJx2XESydl7i+qPNTf6CfqeHu7uPPd5FpS0YB+vVLGljH7EMlGc85CSpAKMhk6UBBmhIz3QmianjS1j2TF1OnIjJ9XhWroEw+wnR0oniJ2uTqvbvXnev2teq5+1wh+Qg0PI/xE2Zy/9PFvkkVC4EXnE7xov33XbxFi9H7yY1f0TUBAxCK11NavpMFheIgtF1eWBmIaQ6Rk/i8aw3UeOfvgulfWLvKm1zsdkMglmt9lgbhN3DKl1SYFeXLPsEwzFqkrCLaLuzLtxz42MoKngXlMhXNIxTR+ghkbB4HwQhqCw3OANVQEgzZdxNbm0wdf++XOqlQisElVtfE1MIRxBkcfTO86OwmwLd3juEtcnVolpTWfz3rlLeZYwrxEmFC2YoR+dlgmBiXAQBwKgXD0ZmMgtFAMxM+kAMrxl8xzrMsm02A3tQhhDeEMniwLcidAIMoQz3+DzT5m+XPCzmJv+Mv8yaq5T7cI92wSULzuwLKxB0haXVYKiuDImHQzGKCNG4sHp0QaYu811JviaXVAD2eA49yuRS/JPaCTBpUPZn2lUW4A5rry9pPMW0Ye5FAl7De5yw1l4KLL0qPJuTuLFgIoLDaKh0iBKNhKD4QhiJAyPA/HgVPFxl3t7YR6q3ATZD6nouUjkYor2THyQBbGoT3kgCqRXQ4zkp9qQe/bFCL7A73VJV7JXpiSPjRFHYxhMIXkDV0JAGJkCgC8gBkMRSDkJArAQC6pOtFnEIiktuIaCShpSCPmK7Y4wlRVYO/xlHSmpbf/8vMxjS+xdRIc4t2zjbSy2eAzj59ulbnmvekkieoBg/LA4GgTjgIS0dkI3PARGwu0DOZ6iy0iHsG3vBEdDP7K5r/fDhwpt1ZLc8Fd4AT8hnPMpVK/9NEE+Al3BlZQkoww5J/fVdQ0BHuqm/QSJrkrNREEYlPQtIheLhccgyN9xhn2BPZDG5n1YB1OQv5BHmBFegURge9KdVe2Q5qtc9prL9f1QQfiD5YOqLrXYIkkgv9FbqRsi5gJkkgemJ0dHgTD8dgTC0IAXFAbhgCAQAEAezUkmHYpP85VsEfHeR4Vx1Lx3K0JElLC6yO8ugZ8dlb+TeNy72guhvSGctojLMLDKHBvNkJmhxHguhqkmJ+eCMHBeBQF5uH48TwTnwYgXt9/WazmJjyQUh3IushpdND9qAwxpaLArX6vATYI4mNTK6IW0R5EmE+x+NUyvaubeNDLBcNfGStpRjFjq4Jn78jBI0g3XjYkKikISIEbGWSa9hxRFkIKwSxHnjyY6B92vwKrwmnmNUG02DChknu4k0oQOruLmepUDixBX0niu4+DS9lixkxyUu9F4F3qWV8stRXLjMf39jGZBMRpJ5cGFS2i5onXVSXryvYufKtWtbzEKQUcoW5GOkzG3Pamnk7zTi62hyWI8ScUNxRUqBmoNgrC/pk1B+zM1W5va70lOBPMSWKBgLx9GxCm4pNohkIQjsZ0FbfsouWbLJPJlx92J6Kw2HksEtcYvMJMIObSQVJpEUvC/gccCTQX1Iq8XWyrkN8RVkXBhFrGgckYinBRuHxdCM4aAzE7wGBHH7yQBoRheGAp30sfSTbUTzykleY8uJrkBrRDitq1djTEkz1wt0zSO9IQTfiS3OYxub2QxXUy29y4xtIyXPbIL+Nztm6WCT/md0tBIaiWLBSiC5UchEcnHBveu3/slRtAtdjjoHrW56tz7ZF+iFspWDR6wYcVSEzSfZNpRg2tNww1Z+6ydxWPpMngiEOi65BtaXKL8L7i4hNRkMWAhRJdBhCicjifiI3mMWV4QXKXNezXnKQSSjFtdpni/SVTxntLYk84yvVBORz7k2ftwT7x83fdZGTsNoL2cQ7pnEDVZSUjiKvLbisraQ6oLWbmmILqXzGaXIR183lNFFBGlEoCqsJ9LnrrhN8iFjM6ZWmTETQi1kduJR6v57K08EugeA8WDSi7hNdnzqu97Kic6d1xNyDl00NXwbetYxUe8hDIWkmYH81vDqQis6MRLTHlc62JgNz61H7/i1dghG0yN+ZBRaqKlWn/uNy4uzs/lrGOZOycOdPO+TB8VKkYbqr9Kh10WnTR1DDi/aTij2SZAZVtWqxwrTHrkhufBsdTcNaUaSOgpxQbXYcyKS0spyJsQ43Yx5e2cyTIKnz5uvbutU9Kum5B0X+RkKn30hR1S3+6q65IJhMGqzfOvncnI6PRaPzSdgBUL//jFCCCPVgIUAmECewKaArUCkQKlApcCvQLrAx4DTLSixeaXlwcDgJrwePx0QC4EJ8UGyUG4nCxsBs1C8NjoPyMBCny2r9yJYSEVt3iUpEX08tyGgyGkYRKNPBLS66e0rQvnNRzvsUg8et2yR/go/gllgq3E/eUGlg6LaRB38uRDCgSyEwaBosERCLSgRkT4ELsYK/upTYggiU5irp/fDTbHNiCmUgnk0R7K2muZbfdZJ4jy9iy0kNjTQs/jTyJpT5D/SXbaaw1pchAwzY3qjiyb0Kt2FDeETmFKoSC9wEaaGbEfCtkZSc9G8tNr4PZOqnIZ046igCSPA5qP+EVS4P7odfzezAi+GMg15fu3NRzk7zUB1WLEynqRmqGTixLWC1XGRFJRYkBWYi0cjcOB8KAqPQxFQIjQEoET0UvRQFIghca9CUqGosmTazL/StDEtoUZ6t1UdjP6kGVlr77SnOhzt65NzWF14S9ix5Knc2TixAJmHU2J2zRqMTY0FBmJyIbl5GKiEyCtsCYlv3UgJRjIRxSAojsYdK3fklFdVWF7GWCN8lxCCvBtS9Yyq5xEvYCWTgy1z7LqBFYgzztZFnlmz6NOKCV0xb/1leXR51pP6FAjm57KDyOxrHAWRi2Vyp15E8kK6fUIMIp6dTO26zLSF/cN5nlkUq6Wv61raGmves4uOVPylV2Etgz8eDGVFmTF/ZkN+pqzpnYrCA8T27IwOCUrCIhJxAMDE+QR8mCNWOjkQmFBpBmEMGYnrRibytvJHktf07ni5lgdTAQ9GGelNJ6ENeid7XGB92tFPYinxdSDoZThZ3YqLRiQs4oRmQkYtztu7NUZ4WGDAbL5oaNI3L564rjlGUOh02lSpXdHciP/aAxpgkiczv6cX7RF5qpfpPdFpX4zb1iCLyFmH7INYz7nfCgGvhxv0SXEh8fcG06kphv7vuCIXzIPZER01Ef3RPTX4RSUiyc9+1hpzKOeAlKqUVe3/LFa4TbGUYzLzk9zDcWWuWUcDXC4odPzqLdSm5wCCxOMrDxWveLLPQkOZIm/uaFJsXu21qXy53+UIrh7fOl1QvduydkWNZuQqrV+KSclViNOJV9ItPUqeVkURGs+IaQxMZc0pW9on4OXi6Tld0czZxgpC2QqsVWuR2qO6Q+p6/pWbRm/ZuXSMRpV8ufTwgzHymfk3ocN7onEcPxJbJXpuqQFp0sky6jTJKZptZOsHRN02ntOa5jngIuog00ubwFtGKOWkIsdtsr9V55LazD52DD8cWXIT7S2i0CexZy+oGP9rJa8aaiXvnKuHXKh2DKwMsrA73sdCfM3rSWnOPBd6N8+zzrkchF/AgrqYLM5VU4bPda1JjiLbKTBjam9J4EtGU7mfMosxNaIDe5IebwmkxTdLEDhyxpVz0Qk9O1NgXJpipLGZO0ihRZMxKeNZynE5CIHD0hZtixvJUa4lSCJN2LHEmLaduUSJIt4CIklw5j48rVmAsNb91+Kk7ZMnOiHg4VMFO8yOhtH4/jRB/ceGbgrK4xCSGDT7DELovZaI6D6EBAIIkS8BY+jI0rl5xZPqL64ycBJrTr8At4fhzsFFHRD+8Ff3uJsemdZN99ShJahplXDqrFnUY53v6v4n1SeYdMk4lXcYWwZyQ2q5MG0TD+UD2gVMFJTYCOdorWemlqxYSYJpca88X/JbZ+VDV2A98inxoi+rFPeyowlmQ+pSnplO9++bUBhvJK8j6LDfsx1q6ewMpCgzpxUcT0r1khDKmHAWJSkapJqaoIjTxIuhClFRmEonPB8cK0pkTdoiT4TZ9jDgr1PxJ8JKYXxEo0LR6hRiAqko1u1WUULpQez4TTBtbLplDUdy9QjFKm3RkBsT2aF8Il0jTTlRaODwRMpcKxcQjwQrAJT+BAfQzF5SbHHabh9g5PothaD2TE1AKakDC0H+UOpkLqMQTcv+WoK+Au+asnDnTSbPxrojm4EVYFmQwLqgNKsW71xrswYjWrICLOV1jy/e0x+xlS+IWArVfZ+YloZth5PJZGkhseYCmrE85qHA92gZbY37iLfne2l+J83kE/2PvYulI8zewR9wO8x93p+xLSIuSZ1iw0U1IJiZXYluQHnvU1zeeHA0oghGFeHBLq5SXhSXggiYJSWELInWqUKznPlVcPSX1lS06P210ly0sN65ws79zqAlYXBvOCoUS5TaxTacgp5ERVtMGV9vZQ52mkk0tPisipeJ4o1CJsqKcnGB5FhfuT48isQhaRruKYgiA4NgCh6TDbqC3VMRdHR2O5s4eU20VWKyP8vVip+XwY+lKu+IG+gm7hDZ2AjfpgfaCQy75FGuFH6TODlSNMznjsoNF9aA6VEv1RGXT273YkSemmt7LTO6LSwKbWu0ODvI8vxSxaEXLJrzZjJPy/dgmSG3eBL6hjkPj8+fGrcsyxXKLx+lB6rRuWSJTF0TIL1gI1qf+d34Sx5L+Ox3qgaxA/Syq6j82nJtFVcML0IB2fCE3vjkcDOXBCPUSYEL/tH5WzIcsPXx/UpmJyIKKf0hN4DBJXvj9Rh1y/artQDJbjFehWepGCDCSfq2QR/I8I41b3eR5DM1EdXvfLFYaWOynVbmheCQVhLeTGJIrJc8L9SF5tJzpHNUWy8ECCDFr+65ZE1DJKDbqoJj0iju+bJSIvjJNQvW1uNtdBG6S/ZuZQVHq5GxbR+TIIhLtKc0CZy+9x2NdO/cvv/iFTWHSLESSa/PpheX2wNjFflN/yd4RGpO8COSc8ogJcHrVotJmM8qVmhAsLisM45GSecBuEydu2VJIkKYWWY/jlmXpsBF4C7bheKO8vCla6DUSZgqB9o9s4/hHsNiTVrvX0qo1A+laOZPQDETOggK1LQCEWV+M7IvMbCfWgaBAgJkImepfoJ6PdaDVZGMq4RhBCj6iG02uw2Ta45WS+CldtkoixW1XMwookEml3DBXmg9PxnU5Ar2JnTU2rGydkzRfn6tVsV3IOhQ+ka6FERS+pWJNFQY2CWiSxuIXm0WU+BygXe00G6H1mcZ9lE/RqS2gcW4QojEG2xV1zBrXlGsFArGU97dmLttMsb1w2U5A8KXZl76O8lUs2Z+mj8Boub9q4FS3KoVJ6QcRJZE7rKjgr9q+KKI4udkNyKe11AKzABpgPlckIL0WgQgWeyseV0NqtTiqNtaQ5zhdxeaRPdn/JtpNf0jHufbl1IImn2o19h0tl3ql/pda5nKg8D16UeQBs81ws1IhcpPJOc3pFTS7USc8tMjIxPDi3yobC2h5MgtgqwBFkqLY/1cHY9xhuS5eEpXE1aWfgkHuHeRjppYT2W7vwKT1w9lYSRKSInmitXlqQvZWNvRRPRMVRDqxVOctJ7XhdRCISLY2cmN8nEdL5z8/i6ymVL6BEO7NdhLDOXE4xq7uBsjbqn4oVEKIQMXCldY4RbajS2MlBCnltNIKv/sJfPoaRa+eOITUokxworY3/K3uYSkR/OYq0QcCtMWvZaw2ZTFg0dc1ySRclEyfgns6A0MC0ustXJZGwIsCCk29AZpWBCgItjqYS6IIwZe4mcu0IgwTo7r5ru43xMz/yZsPLItrqe1XbFULmw1Alv+/WeVQIVDIFZpHq1XSJO8VTN1jbl1vNpy+X9Bb6EEuM+gTViSUbpI6tX2CosqigxhI8bm6bCQJoowQI62wUv8qOASb6j0wmJCIfB1N0YBIv/Js6GJi1D9Qe/Jrn5KiiVyM2LaH2FRpoKFRyUcuysKFVtC/kZBqffdOyBKSMn9OT3Ip1abKxm8kkY1qTaViq1I/ieSAO7KHA2EcmskA2/XUTI7M0o1tof1QjYvaCSsNpSC/w0F7sVz5yg71Icvb/ol2NJK0iujkpl9AvXlhSUibsiQBExe24Z/UnJJHsGQSiTwYmSl3clLWz2pFzavhvyDUlysKdAr4nlhVZx2PrblQNcMeaUPlfJ3JpJqZ53PMto8vWOUZrrZikngsdquRK8oiWGqmumL1B3iY6yIMu5jJH56EPv98579LdWaC0ZBS3/nEZMhI2ao0szA73xd1ZGWelfXCElrbzXmlECU7iUMQsCMtx6gqSXSzeRvX7Y2NzM1loRAHYdlWQKCr6DlfaB9pBBVRCombekQ29LGShNU7QWONSMZlFnZrKW7Omcv5S8rIZpy6e9IipylUhGtuXmMQhRekrglEoIxoRFfjCMF5CpKqG8SA6HSLMJFvsaWuVHiKYjLBis2mJZuOhJqdSKUYxvnvOzPRRMGVcdxlRSFQ86WmRHfcahKao02LGw/jxP2U00Pd2/G78Gqr+ow6ZDWLwXdtwcJtSOTZLkhMeVuNVFWVr9IZIQZhVhtEK5QhQh2K4sYGrcJZ0Kt9uVt01KH02ybgYtQEuUZvuLT57lf/KhUkizTfaUmjNXtzqGTppQye+gmYfX7aOA4UzfkzY0d5KpXOTkTOSiqtlBUEd56TQu35b5mRvTRJVRnT59LY0EhZnePcHKC8VhemqXhVGwFjQ8ItBSjifhMy1MNCtMc+xRcd9ZTfnGwhdKn1SZyaxQFHvK7y0mc52e+M4lidw8IWRFxKf34uHgkt7pEe2JWcSXMRjYDwqKTUeia0J3QJJFk8+NrGLifD6S4SitaP2D95w1FCHi0iyJYtXjuvxWoh4Mvm9kSMZxhznRyDJLBRyPG8zElArVs5VB3eYuz++lHmWxX8T3dW61aqIhM/HG+kEqzbqALc2unKg06kqi8iKbC/Nihe1bowzeTKwmsQwLNJLx6S46wFKESF90AxVaqhAWISrsZJB3RJZHukWWIReBvqNvCBeBZ1UQLV2SMoIFDx1Kew82RJskgtr9PXgiiUerHdi/dStedwf+fCeSDe5DfF1n9Kuo00xmBis6XERiKcokqdWd0Pi0JLmKqcfDow/EDTOcI5XCXOkTRORSjulClLEWHRivH8HYvBhp8wkatILhw4qFEUhyhgfZ5eBqtqUSoysZA5sU5vTTvWZZsiHXfke+9M43LXp7am0dB2HElF1hfWUgis5paNaHwRkx3VXgOTK9RVQo1g1wEKZYXjwBGucgDqtx1lw21jPNTO0gnX8FBiij3Z36VbjdxYquaJ5jmKQ8oVCRP1xJ2MvuW+fL9PZN3JP+SCiSTVLzT7KGhgMsu8S0wG/kwVdRxuZUks2TmjF6gNBdWKZIhTdb4rXtQVJ/BngRIXIKQhgKEibQLhMjL8iFzCTRRARQ46AFhMCR7/9EUBLvYh1+6qlZHuaqkLJnrvg32RQ0vchffCZVBO8fMQ22gfItfDvgWY64JsVpBPP0RmQrPUU2WvG8mvauTRYYVh+PQtv7wRBwPJIaItQapYD84QsUiIg0NsVLUq811RyymiTG0EYj0/84QqPMmTAUN0SHynG6hUYcBqy9hCCC3VHVXF1+QC7mvx9eRH3HphrF0GamJPLfk/Mw6QrOCth8omNsZShRxCe3UvvMnk1zMDKRhPMwnx7gRZuH0PkZ+eL6eItH9M8a8cjJb5FeF0byRLPrrmkadbBO9NSstYHKu0liF+rfvKrqt2rAxerfc879/FXIQfyzghWoZtrCnmkouRwdnU5c5e/78bLIuIVOWLsQFnGYj6p2pJop1KQiw0w+ziSw2Tvt3payIj5RSuO28/Ih3SE8nun3IV+WdbyoFWE2JKxnmmhWxloVWoH0+IpP23LIdiJjG2rpJLWKIYqA0exQ78NrlBW/GHkLCGopmMQDiWmpxOJuPz0tGYkDQ3CaSzyNLnCXESE1+G6bPgKaAZ+wsyOGC6N9JKtUhtLKPuZ91Wn3aZqQq2IyJz5wyWpn3X8qQQ1jDT+PCvh51QpWUcEX6o8pJWMiV7qFa6Kyyon6TTm31XM6CSoo1QXL8YTIsquEJhkR8MmnUUi3GGLvaJLS+v/4xQghiBL7uRYJrp+93oxgrNY39Qn4EoUxJBQgkB3F0/k4xvb480uublf2vC8lHVlVSxm/X1A67buZzrpB4RD8LDlQUgkxBHsfzlSCa1W45/VxCeYTJUSQ8FbUjUXn1OqcxPlYS70eCRQ+swHwdaYKYoVqckKKEzJ7oyMrvNc0tlYoUfVVEZUiSncRdhbBunwVirS6P9WNT3O0HeIJE1Ndf7uZ4co7zdUNv0LpAQNb4cLV/yuFsMA4BODQWlhgT6/64hHKDG7Nqdbr7JUmX3b5Fw4kYziS8LSar0RVaSwaD+WIHGAI8Mm1LMIsh/7srWpHNUW9yVBgbCmBWAKoPYmthFY/WjZLT4eh1Zi9FWT7pHGPkQr745hBa1WyU3C6jhX70C0G4Uj6YSgwrKHZPjzGcV0noxLyRCmK+WH85rSXkBqeBjKDh7bV4QjWaTQtj5ArQFGFykzDJ/5T29DfXOVpH8vgbhXH0CCAohtLi63L1f6tRnRX05NZZmCLEYIuTXdM/p6yKsrsyzF05f+yiqCCCSNIhP7lxYyD+t5RPJ+JqT6SJZpPpdDz80QBFMiunKOGsYrKSjgMoqk0rxsgEmAhxF9zvOEpDKRjsfxfY+y3sz2F8LQbwNgCqJyrz7z3YaWLSk1mAWEqMkIMRZVniUOzRSVJlMU5T1jbKIri+HcMQ2GNyY6LikJmZzOMg8ujlcatXLxW8/G6CiJrw/V3D3Urd/DyQTubjY0zPB8gCJDhlZBk950LwnzZeZlhOqE8gYwlj8DaD2FxOrmzxa/WHUXUnFWl8IcO8YpYvNSxqCp3Q6552+KsJkiZgbQuhpEY8nJc6rH9cIwgzBYE4jp2LWpYiJVOe6mc+JtXyaTV71x5IgiAKxcaG3aQqNF+A2QPnTHcwmr3oxMgozR+yRLVMAMYH8a34XxMQyxjk81iIHkOBNOMaevkkGKVI+nhC8vGfI9RUvUl2CQwsj+XymyKtR1iGUDwNoIY4mxWXvv+x89rbyMtJ6Fcg3ivZCS4PggmZJVN920PWVRSfoEGA+xTigVBAn7ncgqTdhcoSZSh+ANIxCJvh+FBJ2hwODuaQlDYYI7yJ5rT1f9jPa7LK9niVClMl0CQlyzx2U/pPDi8RRbwkCeYVXjE81JFl2JFMy4oKZSulNxiCQ+7CEBrWPvyyfRE3SQUVmDFALsCRNAYScCnRvUWIeYWL+YCjynByAZVsJW/dAhOZYEYPIruqMZpot9V4RvE9kjPP8kXWe5v5cV8ouXi52ph5LmplQ5vJ5Ib4rPZRJbK7nIR2RFINW+uvxWU7GX05wufHsqSwzEQgrm4UoWID/ApyOAmgUTdBzhgmq6e3+PImF4wE5/I2N3zUDMAphSVAoT9mUt/fioSF5UqkjxzjZ4eRoYUmu22TNi+wlPRSQXQjmVjUcvlPpxJbQr0Sg6ebxJWgJhhcp2h5kiTg9gQAnOszRLjraZWBNCgISG82KJ8m8/sYhdKjoUIwRMnPer43hLM6LcogSrrVscBqK6zKkpyHSP0dDyeka1TjItyoR/Go4oXrfJAoGiUiolNKOSKPRcvcLJQSmL42MRLJTcmrO/n4uTrKzM7uLBVGDk1LMFj6L8Tk73w2QZUkaeaZ5k5mPQKzlLOMDZ/+HYbhq5mVriGCWO8td1jiSRF1OzRKBhoUTCHPUVkC7JU2coz1ecKkQssrmTrdcSQqPGChlMpdltnRZxVtC9/9QPCJEphLHhZkrUvO9eXKS7nvdR63alMb3jy5LIgvV3/HCxkwLmV3VuQkcEWSKBMmSVQoZkZZXumWXtombH7tAwWJIHWErnZrBY+vjRseImf/2Nl1y+kXMJark2rbCiGB/+EKf8tJ46eWsi8jNeU0ZNBlF8Qkj5FpswEl93BGrDn1oVok8OCgtj/akHpfWzuQKkArk5wuX7rs6aYLR2kzfplkmD+9N/gpn+4IrFr/bJIkTuVLftOUyodHIklMzFEwr82kn6RJpEWDyDhr1ZNGTdYpd2dNVtWlpDDrGxncIE/XFSaLtP4JgASyHvkojXACsNyHtnxps/z1ZTHTHkEfgp8fyJkHmLsaW0ngpnLnoE0YpTtSlcIUAI1IJFWBgiixAq/yXBLhhrNSzkBLFZXoz4pJaCvZGj830pwNETC1PQqm5Oaaw0CdZusyD1N9Wh5F1NYrIclyRNcoV1YVlY7VUS7XBKEpU41G99J+pHrchx6+pNt2MJEqOyaqyaSYCySntLsW8NWpSZeLr2ELaiaoIUoGfdRsmjmAkPRbHkGE0sxeEoVuJTzu62LA0D4fwRUkK1Z9xxvIhozVHIopsioU5y1xcQhkIIxWGsIJYBAS39IQNg17yhkEn2kI12qj+8G6dd75LDLvXlKUUXYWt55vqxYR1uR0M7X6dkdD7SuKy9MbPGqLs0RoM9WMEwiueTY6cMzfCmqe/8/VCapq8QCFqPgicClehWE1x0MHIviGGj+oiLHpe9RRM3HijM5Emnp4Dw4EbtwCRXmmBlq3uNHsz6stWuYc5VsAqXmLpIkXsz5t1gR1FCgXhEOEYjAhZ7FgInpfGiRUTlLMCJs9HJYcaHMk2DwyYByVyBIEr95j+1OdGSx1MKAnlIIC94FiorY98JAwWIBmxN40jcUOAJQeoRoXZM1oJ6ZHyfSBmwUlLgIPG5bhySzWe8tGxjOzL/KQlCADhsAjDX51HeJBN6W+ooZyy7sbsXRKnEbAbZG49ISheeIodkLEwJGawkoVx1UzJmiFqY59Zbr14/xE5EHTYcodCZxPTPxeeryQmFCZikuRTUEkTFy0qwfU2mr8yECJGRdEZ61NnCUmZnUseDTtoMD8tdhUw6FLcdCjtGhFehYXE3FDkXrgkuWUc+ZEOjxBTX2nv2VREynAbo4BJnm5imp+EH2snLtYQLTZ3S5vGLcwTI5UHZTqqJ1t2uGvWrPZ0i6+bYPUtzmhxBYXjtGSbLtJ2ZnnLZFCY6W9uZvHy8xZo5XGKahOb6jS/2uDxSZlxcgLSdaqrxNrMVhuh+Xx/VIbC3ZUS2JjeuFkybkKWWOqoXVC+tMWhwCxiDTdlhoWAo+TjbRQbDy7sBaI7qt3OlpWzy6YJBx8TqKjAeBC6jYn1UDWkAXHsfxw8AkL5iVFgS4/WsQCyp5svHf2twoVE3TAx9KSfAe8jlAop2QLb+hlzxFcWJo0KX6uMCfUQKsYgORFTv1UipZexM8F6rqlCAZlbC+LFMd8fsoy8CpT2f/ZNBeiqpa+/Kiq4E0RJaJvtE5OGwJWG5yCoVkYJoFScyMCm5dfNMpv8IeE6tO+yUDsywTS94yzTQWBmYJFB/eUU1E5GcqsVc2LBOwsC+xZox+OyBMMK5g3sEEwpwIubELF4hKGFk0NBE+PDUxbcjHUcFCD3NKhxoUmEVuHcdEAwiFEPXCowh+otJrH6sKokRpBRDsoiJR4plpZwy52kLpuZFln/Ut9PFChWRkk55C+isEJ5tAzMSEdBki1rJAq8JhgDPXePthz7guRawFSFYWZO/ou4iGmbW+VN5RdzARR+J+GbVqFhsg3D/cRMquiHpBlV4IpCm02y2ROXoEezOOsIx8zwyJnC6I8shMbkk2u4CTaKWQycPpCyt6NETQ5JVWMRBz3/EAiFOcySUEYFCWH2rLhkaRoNYPnT0siws4Vxr5BYSLPwFHOK7JY+YdoeYUkh3AkgUT6sUiSPAygXcSigvfJY7hiHv2rBYU56ieKKlGcChAK/xmJQzxDQjEUIEkaLjLkRfiPk9EhEq8R/ooVXTsVRLXTsSn/xUEu7cbVZZvdFcQZVQVfdKxVVVfT+4V2oFXkq2inD7AQAjv7IU+dU1JuTazK2iO4wHccEH41Qt/b9qHTr10mzocJDZ1JtZor8qSQzCSUNCW0S4pM6SNS+1e1S6z7i1ZGzxrUTGdCERoR6sUcR6/W3GOikqf8cRSU6e8MtMLx/wLY593gMNLknZniV50WPkNrmNTFIIizCSVG4lqXVSEmU9ESyjLHlxIq+KJBbjCfEC7NyBiR0g2yiKlv7ooYbzIRRi++tn48oiE4f2UjZGm5EaSqTe9lcfQ54Z/UwN6JGZoC8x/WFakBemxIKh1pKoUbbC7igdt2hA2Vq0kkAuVFCKEFyWqDcl/hB8jtck+2j7eUKkIkuFyHSp5tM+Unk5rnEEmVFJob1oQVCIWawQVORfLO44GRw9sZBLyycBhpZSnFRZMy9F4KRfFkFHSZhpVwxQQg8dqPZJCy6ht3ixQghydyZYsZx4wmMLibCyRkmWueRKYZ+QqnlIExybRDIVKHIvEboC5saOtlDK6QjuNWNyiOGSdo+ESWXS6q3PxqwKiT7RnMMPsDtBAukXRtsnjr581oz9JIZV0FUQQG0Q8Mrk5qCpJ1EEv9bSO5MBcUO0/I4l9QndzhkM/JWJkqBMWT8WgbLqmSj+JbGsbtfTScIbwcH3NuijDjahs4wEYjDYECe3utkBgVpmyDhfBK5bx+o1ka8Mi1oJSMOElNKKg5nXiPFkw9M2isCSaT80JKrj2abtfZQ0LlmkRKSbQQfDAfgQOpYka2VBA67QhGuoTWdSIVk4CJAaAmYkgQFwVGpHpl45DpjcUYSg+x5s4HSo4MkrSFAXVQK3GgmnJc1S7o63wm3Amg+K0BUBqRc0Oq4dwggCNWqlnxFrML+CMSzLYseHUhdwv7Iqk1Efjioqkl9keGRoTKCJcaHYcUbNi2mYUbCV4ggT0HLluuyxlic/CSGyoeEh0ZUuMYKWSRKiyM1orMB2xKBBRhg2OEhEISqEEvlH0PRGqIgohshRtxOPCDTpi1BsYNG9YY1YzcgdPBAX2Fjrr0SJYc3NxNe+kaiCCbDhMFKB11i1emOx8ZfKE7ay6c8E/cE1t4LEWqCfVrN9XMIpyRZvNPwZFjARFcYhKvhFe6EA2cD+weFxVBBdDajJeKRI2j1fKTmPMxzdMZMN9xWzBdGfRBPt7k9yPAyiSywOjTBNUiqsXyx1tI0E5MXEE5QMRIGbkLrc4XLB1ULJxgexjpjSPaLjXNGmfmjxEVhVQ8v6TdpwNEoiGrKAEzP/4xQgigRL/uRUJEmFiZhajIo8lE3rIsILMG2Gg2GEdNPESDXojBFTe2mKO6Qy4YKnPW4KHckneacylQygxLMpjBfICQi+xCQQNt0Ipl8P6yvIqY7taS4nx17VicW0D20Sw/D4qW6nMlQULh9CFzO0mUHRkuYN5YPiJCRF8zLcSMnkjJVGrqoxELlkLClCO7kdTKizN/Ff9g9wJkCY1kZNZZSMjwRSaNldT82UJlRSn0vQWyhGZgnosag+egUpBYnJazxwv50aCKpoweC+RDoSgi7RDeKqJKsL4UPEDbyVgkqwSR0UiiJJtGxLuS0eiGTQn8WizBYKolBqX7GmdiRIVsJIbeTNM0Y5UbCkrtB8KMH1oqT6WyZ6i1d/9JkLKskCdbydozNT7bFkxoJuej0gJnxYJoGjQCpAg6d4J+EeFhtcqI8k+ImjZP3pT2XEB35bykQ6EicIXL+Z0KQ4jUERG2Gh0x8RJQ+PsJlH4rGSDBv9CYjAcXmdQ5ituTM4z5Rr2FOuI2FG4ysk5lUtls4J084S1PzrQwjLqK0KsRuWT840Nd1h1g90lHoJN0Gr2BKvRyC9Rim6NYPWWfJOBFoQHzPSxJJKnDqmoLS0QsXeKWwI+xdrZDpMGhsoFDsCwqJaMpKiQoEzC5VBuLa9I/EjdCvt5Re8QbdKx2gs3WpUgkz5cEZiitolz8SwnUZRoyI/ElYDfhCJ9gvXdhVZtdHP0LBmrTg2ixYoRobGzh9thFA0Z94TOFyC/DP6vFB254Xto6aFhW5CaOnA+9kCkCpMlSU63HkQlcb8CAmCXxsHkiI0liAmTUJYJ4hw5RNIEzQoIgkm2JMjXLKhBw2kFtrJBEGhAMiiB0MI5UfPEKqYn++mOFhESTIgU4RnU/cc9PpMa6zMjwNJxqRkaLrISQYOhhYC6kFZpwAguhSzv6FU9ZfDgXeorRlo7xD4o6xrKAKwhZMZHlScDmwv0cNkm3zCvQ8HUqk1eiIoZV5m5/t4k0HAiQfacBFeqIk11Or4syJHVUa3JUyffMTMu0b6nNllTypAbKaLkcKLXS6lxMvBJjaLm0BoreMOeRUceRQiiUrUURpimMy5IQEaCDNh4OqBh8w4+wgVDy+viRSiVBy7pgYKhBhdlKx6CbEC4kfAhuCPsXaLdlbdiRlp5eS63vDzJAk0aQDISV5R8W2+aGrkQgg74NxEBeB6MiNlDwKqeBFw8dTNUTHf9EOpq56NF4W6GSQnMQ/tlOVQgNl2i/LMkJjcCpUSoMrg2YUBNZ99ggG8sQSGXX7E1zTHXVh3gUwL2ZIkB1xJe4rotorOipJd6B19bJRQ6oydXarfcnaUOVO60YpsjFJaqbEl8DaOfBJhDvY05m4whvRcc19R2ImZQqnxtlmUIsZaLcr0Xn8BVewubS+23aINLbybfBcn4QQK3ntXnFEGl8Ntb7uZDpFBZLLVy+fKS8DwiANypQ0EwJ8QOBT2UG5Muc8yYQIkZMjQukMkmh3+PLwCN1YCZ6ir3bQJ8VgU/9B9LqeoklmeBdAkdZ19ye9NESa4Te4C/tH+X+MkNUVE2BcnEknNsq5PRNNASEfsEUdMGQuGFi6nHT5QqppMqQ2c6RVffxNklePhl8MDukKJxVSnF97nzmOKDdQoJ+bCQaXURHAVEnZDGc04iMHzkSLySjiIvwTOBT6cTDXVs2LZ2IDoUcoIMyJEyxj5jxUNOD4U/YW6arV4obSUP2W2UNooEjBdYgyWN++ooYWOj20Sa3BNxaoYQ5gHAiCkEIcQ7gVBiJMAIcRFijDqD8X5NrTltwhgaEVP3oVBzSR8R/4O3NcVQ9I73KSUoIlLlw1zROtZ1DxVRrGtjXv1QaGZ5LGlTgyqIZCjwJrooCE0sHG+coEWsQ+4W4HDTkXaEEf00JNZPg9sYtTAtyaUKz2W2fJVgiqFGSA6h3Ad1aGT/nB/5l9LJR3BmxK9JzyDq9i0iVveoNP9B/AllQeCnHWuF94XqLkLKSYfaxgswdayk9m5cmJIRYP9YNnHgKiPLPHExKUm+qDq47PkRenFiSNVZR4Xe3pSRCI/IwEqcbVqPHnxBK4n5VcivmVGoRbMtJYIpcxBw184pMqIsjI3n+7NrgaLOjxtwJfjL7sds/GWNcqV72Gdn9Vh52zR3E8MF7bJppnq2pg4ZPqOVlV9D2Rt5YwiTe+hxpLmOSjlOrW9yS4EjD2w+V7oCCAG0A00ALrWSPmHHVGMhe/luq2ZxlwYMzBw9NN+qNPNEJxp94PTmVATGpcwLxVLS0SFujUwmvHSxNfShdLxSKpreQPtEaMFeb+76rYVAImV+V4oJhu+8oH5GgNL69EnxEMvQBsChIHpQmur0KaRtZv/Ds1dXPqkWmqRdGvqURtqLGHCpfEc0tU4HJllkYli31f9KfQutDdeoUwyRMoVZtQanafZX1QxhfzlqxsylOM0XKoZAm70mJVRYZ6fQmq+WfnLtixgF/kxwHORhEh8KURALyqE5L8fTmyFIXXgpNnkl/D0ciN/ZJIQqXtvFXkxqiKB8Tt9EZKxD5Yn5fFe2oWbkmrw0qffVfrykc924F45aCeHxkuJELb2EIrLJTUsOTTFWZKAR+MEAURBZnRh8LjT8aqdHVWfjqqcyq/jayisqP5Ww/l45bNg3sBoBcKNfe5P2mjD6TUXJ+qq2z1QslVZv2qpuP79e+mV4uw+2OWY4qVUTckFKOoXPIJCezIon359grcJCBnkCEaTJph8jvZUlGtO/baoFIyVdubN61/I2ejxSwiIJGPOQgM/JBtNuyaCV0Jb7EgcmGjvlOjmKJH5ndTVTzIslLb/NF8QX2w5sS5FaJl8Ec0zhGmfBl0625sCnl1AetDFaWxjKyRIlYviqtd11bOcaFiHMnHNXCORZyYjMOyVzjOSuWhUD4R/OxpB2aUOkt2ccA8Q49tlbNfnE/IkUpP/1h3/jRUQqEcY9JUHkzc1LoAOxi4NQgVeeQCgYdnYVJYPfIqvUsVoQ2HUmpJWodtSyQnniwwa8XCQ5TDlAqsaMVoVvzzemAbyiIyUasqzN00eIzXP3StajvdL7VVpRwAj7pquGjEkoqTLXy21TLFBzE1KzcELEBgrGGEaLkpO5LcptrX+Pknyq9kUbPTg9zPl/g11+78Kjt0CPxKzP3l074cVgvB/Skzcbo6DtQmPoxK+srqe1wVa/BNbKcoLwWQ2QsMhBEOSCUEnGo36ZniMi+gk6d5UjqjxqP17V7yRvAVIlMJr1flVNl1AdkMyL2ynL37IE1Q/B4GukYvBUMIcQsfeMHJ5qchrNin3sr5nHYMAYwVxoyW0WvaCxnVT3MHdIkZuDWS/wEuBOgfKAt8Mpg4y7eCGTpxkK9S1nDXfWCzI3w1GAqoKi4z4bsiZJB8jlMxYbOMNbHUMqS0TmLB3H1ohn9M6k8NS0VcW9xTP75J+KCdcI2rVoaEQaCZ+BuA1whkGsgeCduSAUlg7kxuY4f5igs2Iw2pMsEQ0bYG8S1T8ofZOtgp5c2pefPMysJYnCSPsvMzJpR/MfwSxQ+c/T+RaRVyFKFrv1jfD7Lcj34w60IFEXBMkIDOwUGFhptgJ/TAhNYdijNNDriRmqUvUNOfkcMLoEIcE1XwUqPsU5YFWWyNJZKga/qGcKYil9EsXIe7SEJ/s7qE2No8Rgi6q0YMp6rvNDjzvxSxEnkkRhOoqlXPhx0ij3y6/jwnKytDHPW8bUdXMcGKFOL0njvbHhKjUAnStA2o/KMsveq037riWjwo+1DiF8LJhffxF4CGCzFCGAWRR/WT0ERISbo3FrGLASUFJJWW/QEWaFvVbYXJ0JtgqgaDpOqmggz3CGCXJRcWjRE+j7J2xq2lBaGq4+x33q7+gUWLLh5JTmN1/k4miWy+hepjq2WkiMB02Ky1DctV1DssY4f5kM9zchxlNrtav1unVCrHW0kIhUEkmwgTP/PogGk149E7y5zPmgw9ic8DAuUr6DJMANg1cxDFswBSEA2gM4a5JA6YRdCih6xD3G6sF0LdMGxmHsp80BWui6aTIUoKK7kIgTdjEqFLBsQFh6avKwdBocxB/m4vcriYq8ZK0iG9pTnRySzS98URS5exlOfFYveKim3uMluwI7JimqNpQgUW4HlELQUiAGlQldjhkadld7oTHX3YqInJW+CIsO7Z9hCflkMFoE4tXdFdplB6pQPhEwweL55PVgILjM5CNAefjv8UxaXLqI1zYkYGEDIYaktVdmb0Slu7vLUcyh+atPVBF2UFRS7mSBIDyo/W/JZyySEELDPPTIVxVVWclRUnYRny5RQoqc+etrqkxtSxxE02lnqrXdZhNrbc/Xqu3Tu6R1ZIrNEJowSo6jmZr10QSzdIhW/mUY+bAqMSVR7QcDAKiQfJzzhgVlzk28SHLvsavZlncjrKNiXZKFNvIjR6JC4uNFxDRtmxOnsLTLz1LTZ0ev/hoRQzaIX4iL2hsLSdV4+2JOUG86/Z1vLtJbu5ovXEsQF0m8Cs+WEJy4ETd24cO+lC/d319oX6klVWcsG4XDJCOrSVjAam6Pnoy25Sjd2cwpOTEnkN7ZYsLC6pd7cj61bHmSELVnx6LitYtL5FsasebudWe8xWFdhigKCYsnW0igGyLdPvOIj7otCcjJboH4ehua5vreeTN6iJFk9F8NJcodsEW7cro9UWnNa0j0fYXMtxJckfHjwLtE6V1CKDti1IY4iFfr6kE6Oon4s0JEqEgpyGXPt+xwVLz9W1sOLk+jsXmCY0IulOC3GhUWfISQoFgm6LVsST6NPej7LYcY+2/jJh2c2HlaqQjwE0UfZHswP0sm+VBG4VnmHZEZHW2oueDKuztwIFHBGxI15YMko3GY76KCAUoStxG2jhZMTlcyU3keVqaMp3rXep/O7aiEiWTW47oXhYkgVW+R1NE0pHnjVio8EpilZNZxihbo+uK0Ltu8vJk5jzxz42xRx4Iiol3iT4cS7yTNhy5MHWrVLMuINqJIoV8EHVZKV1CoSsSEV4PFJOrkQiFcPnF5exEwVLigc0FihlhpDvnJ0uSGaHfQqLI77LfFwJNkJA7gEF6xrWrvl/6x5WwOmThyRvzIin6wiLmBlRxC6RIknLSp/euzgsc2wHBFfDrRWKki+xNA4r7GC9v7uwypV2Hddjorb+9UduGmD1E2NL6vGKAmm3WxOe7u8WL1HwkSzfNdixxRXQ2uDomVttuJnjy7bLDkE2VNz1J/fXlzU7U3HgsTOGevO14I2ZB665NK3z9AAXQAWBAQynvZwAAEEGIAAyHScA2bgK4HkNYOgUHAIwzWAK7SI6vde0ofpAnjGu3gSREGKJ04pAxpGqzVjGz3lsZ5qv4SrVyevTb+WFQYNDR8W/0HTWVEChOWtHYX5324IUzlKXKyYR/vmaJ4hUHZATVlGaXImTculnOKKBgVRi3K7VcOoozBf0hqMMrV/fNjLjGX9jEzNG9Zt/mSZo6Ii5BF+uUc7sGwXkn1rkQVlex1lrCml1t2pn+tMq/VsaClO+P93xOhRLv/+MUII4YSAKoVEsKSPl1pVIjFUOuqymSTey+Lt2CroJArLyYbaGLi6svSsJS3MrxPGvuoPfPu/aEQLvKpOZD7wmWU+ISBW5dMITmIl5o9fTzwZIESlSNdrCWldYYFK/Nlz2I899CHHaBBGO05HzTgSbE2C3yIxnZ1E1CmoH9FBJPxKXkrOEshAmGipRsClI3swkHCKAE6BhleB5KQQTSjVoiHCg2wo1UoZZLGRKkS7mFhk0PReEzizJ41KAw5ResdpmFSKlMLkiauZbzoqhowTTSFaWEQuGjg6HcEy8GKF0eZfxc6YXTNsUKFDudMP7I9FSMDpVxhd8KkREsS+aB8QcK+J+lErx3MmRd1q8x0IdEyAnbjRd/nInkzwTSUkVeTC7o0lS7YRHBAZCvvtYIpaICibpgNEyaMTMf6d9opEpGEVhEUglFEggwqEC/A0MMA+0EvoNiB9aiwTiohRxyqM6mjnEmtKnlBjQNCuCLCk1ZrvON/UEk2xai0pYGGP0YFbjyhBE6gXKRREJruAsyzOaawjgaRu1k9GTTbzWXAyEjI08rYzkZexNJC0UNOw0TM1ErFwWDSOsABJg3AAADcBOgN8AKQeYFOCKCbqQKgX4Q41rgjWl9kLG5eOQWlO2KlglDFEZArnqqmLNpiu5YKu6ae0gJSdt4aguYPQxG/P6WBNR1ZKZsFq9eFK31Vtw+dp491ZIuLvIubwoLbhI/lrIyAgYappJeCmFUE9JAncadpvyG/JUFD2/B+7IDjpTf4UxjSZu2P/h5C3GFaHgn8PBD5uzECUscHexdaaWTPGNoqFrgUDkIu2IfVhCaBJ+QtrTR69fYyG2TENGatpz/u2pQjZea7fSbut3KJRs27j6S1KuRNM1WLYRkhGqpu72S30idD0WXsXCPN4r5PK5yQpfxQJZ5US/vTG3fG/g1wOjGhdHhTXjKzddxtmOLY/hMC9yspbpYcmfE80WLmrpb0o+J0vcjQtxJyRy904E5UkJbCmqF4nKNeiVF+yoZuafvlOk8XTNTVE1mXDsV41SL3wSkiPz9Y4131hgM3mTKnX8EGDXQFOh04bPKf2gW25fVpHjGuiIv8uQmglDTpDYCHOKzrXCoCiTh4BpGrATyhix8QsCnfHYQezIR+ATA+mJIFFkIz7mahjErnrNBlhCUcbYpCbmKR5KyEEc1PQSRa2BZICo4iJ3k8uvVUXfgwdpL3GDWZXIsumcep4l2f88d1CfmRgYpJOfXhTqFDUQtM2mZWl8NtYcoMM+fImNWH+dUqGe3fPXZHinpkjQJzHafOTErqaF8sKl1Ad+Rby3doLVezNSipK6q3J1FBoxcJZSgR4ig1tTyuAm6wLpzUMXXkfyw62cHRBOAMA+8oTW7W9CVjAyFm3E/gl6hR3hKal5sURNbWTRi6x4U44j1XAcQrBEOE4CHoJuGiRKa5AlpMtMKEKtG0xKX3tJLcYv7t4/cLTTJfkcYJIEy2mTSsGPM4WmgGipy4RJWdWqFFblmSJp0gZMxIuTHhc0BXAi8o+K1GnuIi9Pqv4znKxvOaWKpoMlTAxp/jOkTpwyZ82IF7R2T6FhWJdmxUKnokKSk4IhEKbP1dSVQF3ERV7afksBsUU5ncxHWZvNu5urCkr5cGUkLED7Q2owLXNilyKgQRzDAsVKQrSOTi0xBdBUU4G1oESB5sQWxE8I7OM2DxOqRla6CHlrhrogx0Qj90oUEF6qBYvupqjlHIobOiQ2LDmckoIjC2iL1SBCZnyiLiiS9fvPfj0YiwrBDpaum2DZE1jvUDmxkodz4ZxX4TYELFdPZuNBmCwiUZESoxw2odlmGPsuhRBPv9FW4NCIrWckthXwvNwrA+eEVJGxIGbnLdFgq6suOnkU2gmzvoUOhlZHZJCB3rK5iogVbbdCoELt1T2UI6yvfhMk4bHhlQNK5CAZCxgdJMY4CpQalZ9TennRCQXDFDIWSb/RjSuh5dAbKFl6TJMYrDS2xJAQIIGumuzGGSVtEZNMeRysPdR3RyibVU3jWJLk3j3zp45EUTk1DRfhxfWqKVZcrAcInuomXip7aSjO1myLgsRJnxgrrwqmphnJZl3xlRnHirfE4XkPE8n12JSZ+SjoBkMEDbqpnhdGifxBMvIb/thccJwDJFKYzNXbhfMWtqJwFT2rYLr66nUQOCdwfURnEaGdvOsgk6N7+zxb8OWvnuy2lJlSJTEplfeo0UBdJwSWNiReIhvaE6c9/2IkREsMALG7JCgTsoiWeTcmMEqvTOhi3FkUjeHDiGRaEPijVupSF0lFlBJPpxqdWD48V1t2Zj9DFjRHYaT7zppiH0cLPNI5JCo7sEpqXRPtQXRLh5U6YyhkrjZIXNXfrDye9BY2X9jg+1XkbSHHT7xmOP3NyzZOQmmJ9mL9SRQ4F8cF8nBGeriAromGfKwQLr9MZRETXJrA/3HsoFbRsK2U6E1QUk4XkmbNFdf+cbMMtHTKDwu4qUe7skgyMX0RuOEUwpYgIHYGnG28KOT2Qsmsd9JxwgdwcPXFKlp/cXMLrnIolH416pQJN0gFhANsIgQy4RHjDQNlFt+zsDQr6mi2a1HQkUgVeSFn7ueyo4BtgJFULIopNaIL/drNRDveLpp9iMCNIHf+n2szBR0dVbovM75Zt0pERk0IiEOLlwXLSk42qgIhEMJPqYRvw69BNQfr1QmgzlMQTXMILBPm1m63JlhO66ghpnKowG8uZ2RZIbE3t6X5JEgXL0aqHzFC41RE12kZmG/+WSgto04blYvQIdhGQ4YwQBUZgDQuWbGCxuwrU8LdXurLxLidw+YSKYaKdYb2gsMJJoiRRst6ZYMhT5kCCwiPVMFcWlG2PiVmhn730R7lxGjmiosgXNHBHTpph5x/QKFd860lK1mkBPoIKss0it3sDJIJ54VUTbHJfyaDJZEJCexMtSoyzJ5dZMyN/UaVjB87YwdhskqRHx7fhdlNJf2h+7S8V4q3XS8L5b/zC8mH9CL5w4+w6WLrmXWIEVKwZosjXOW14N+DA34jZwnwnjpAmpxOmRDyDpbQgj9/U+WQrRk9DIogy7vaDQl2PJopJITPnTA8sIKlsKIEKBIhl7NsMCQmFC+zzkTWQbDAMfVNYfQwnWGUliDOCHYhEEhorVFUNFkFu2bt08mWVxL32m2zVgXC13klyeM2mIqmAdCn0VfpCK4g0ZQaJvGyuIqJXJA2sIlCNCw2mgdSWdle8toyuH9Ni5iEEBWyLTefkSlCZAdhD2Y3IixNeIT3gu2+Esgkj0yJlK9NlFX62G3tOeFavq1w6CBCUjK/ckcdFLQksxmUXIFM7OWF1nC3VDqJ5NPYZYE1TBq+JrYxiWtxwSUYfGmUNBjFTCBuOLWLMaVJLQQEJWJZ9VQdUFHmGOwxFKhhgPkQwcfKatzCZL6wQfRWl5PQoiYX0/0wwVElPqG4oJMx+t8ZKUovgnw3oIpV+0hYukiSs6is+TtlO7xEWJt1h5sUN9O/JbTL5/oXcV+qgMsIn2uG3kSLWW9t9ZwQD5D9mTNg8CapDrZhuflsEzK+LUvmvTYYqkk2ni6zN/lb2YTTXiwEj6lLzRHKUJCw6iNJJFlspseIDKOCCVS1UWOSa4y1J4zYUUFQ8ZqHvzY0oUZLDEZaWscI4HOPkCi6ZSSRx15W7BI3IwBQXETj0+BkoCQzmmR0EDJSSjxphNNpkuRGmhW3guB4kMmMww2ooLlnhtOrkSqdK1AGD8JoAwpgLA+CsGoXwjiJBmAkAIYwagbCaBsLYNwKgrBWEURYQQMhrBCDUPYKxNi/AKPWKyxPmh/ZEXdqjjq88UMlXSYYRWiKMrhIbPqipFgkmuyb4YLqm458ujGgF2/dYLSJbwuXVPq072mXBtL43UaajxMASUAAAHBwAUkAAQuAEiQHLQE4s9EOgv+7KGRjmA4icPP5O7Gu/qkBpfqhGjTpotJ0Tsu8j0JATGDXbaUzLy7yjWj7xl2q3FTZtOO5wzZTLLTGEnTUQInkVyKnVaIPzFw1PSDE3IKxUkbbfYFWbG9Qh/kNSayasbP0Coz0bmCtJjvBOyJZTzkNJaa3DfBVWyJvXPcKeKanKPy9VIzh89r3ZcWcUXqj9tOiEU4mTGmsr8mZumruaLtbOqpCOa275CUJVj2mbgcGGTyocXEliDXJUHbH757dxC6qAiR2lk1WQSKxT6slLZm2bSGgTGKdKITTRCUHlwfRHsAAwcXhAH5XiVKpmZoIEZucBr/6/UaOInJAX4ZSBCN7Mbge4bGT0TnYNYzjekxaOcOPSnIhm9nZ9XzgkSHD3p8wqDHoGZqAbAvvVIhU74V+mdYe+aSN/iLSDSAL/bpcitjQnUnv3C5sMabBWPz4PQAjMI7gWjJ/slCMRTZyhD6HM45EeqJaCyAgsv+PkrIkbn8N+LZmLyt7GvwaIwblChef1LDo6NwbK9lYDU3FqBNQEdFJl9ok3Fm92ZNy4KeeF1j+JyHo7NXWaw/c63Yut1Pup1de1RUkmONXsNhRQHyPih08wHAbKCwhugvwhWRZVRn61QIZGEtFifL/PalqvBXGkySJLxqspMJIVLkPJ9/Mlj0Ams2xxCQFMeAymcYYc7pW6wvxbE2O7lqTUq8aNs66CbW4JhfyMJMMQ+29x7FCLFcmGwpqDSsLwFQg8YOJgruV7gJYgqME2j4SZIn+sijgaqCDxaR3Efje/XOXwifOW+pEk4+0vypOKU0/MY/t2rVsugemlxOpIye/P5xJxM2RWWvpF/wuF5xJMSTYxVriPcDnCKSFlcI6wPs8jJ0CLyZHgPyjnIF7wleOPARkQSHKwxaVJpKycF5g+M1E5ye/0KRgGEhd7Qx9ETl8XBmKsKK7f/Onnz8s+e90mFxRL/RbzjUlBuYEnn3PSkE+c9279V/3KQ7QaBdhL6VKhxYOk8Iv1ENnGMhQK3ZlzFc5+sIpUcVjIUhkMBpEaHDSAGgO8BU8bbWZg0ZqAmkBFJ0IzGa9iQpMTgNUZONTjlJn9eW59yK8c7LVirK//4xQgkk1TxQPFb9Er27Pkr+rn9YwFvAs0B7QJ/tKbVN6O+VhHXbn7w7mxwuv0AkqGQRIDnY1pVCmapV5PpfXgqUFcczqeDaQmQoTBaKtp+ywPxieEkMeNodIr/TuEkhzoo4ErEei2wvO42lCrgc5vJGtXRp0z/OCEmM9Gq9ex9WSM8jgM1XtsrIDahqp/iUiQ12M+LbUUYQ4HxK/Zin3cUVXbmSs1OkXRNbpZFjwQ3rYtokXOtW3KepLrqcUDuWx9J5YBQISq89EkOnDa4L/NJR8TYZsK40Xqb4ryreoYsg3vYfMFovE7Fp29opiSx9gldk1+P5bYM8gwUOk+k21MC0tJbO136s87O4btTyoBpNIkcblulfKqtXRY0ltwycuX7+FLmsKDl1IANlZ6GX1qMEWFeBIIeiqgpYi4RRbKW8cunRoYk2hUk8Yi9j93GZ0CeZluwZcX7goopAjg7QdgYriZhww3PyLi80SXEUrGFzZmyrikELpx72MTgSicNObZLCYwwsZGhzExU3KtKQTbC4Njsx1QH9UkTqpjtSkCo6y2iCAiSfZiK90VPWd1kbu5hZcj9zI45dMUIlbC3xw/M+JsfU+ibCGiDyJ7y1H0RGP6stfPEUjPUriqOKTZ6/iEI9rTFeJ+pqckePZLlnsdClRIiGRfIEfJ6BH2N0GgAVhtRvyLwsJkFqPAzak89O5HmXZ7p7rnJ1xV2nnUSJYJihJkSUiMW61w3ul1qBXoPspn42ARB5akShEVCX6Ysu4iTWxel9uTLIWvV0YX4HY8/CforMiPEZaqJXVQRsCDy9Tg4jnfEdmSyQSILBrmRltSaMfVEM7DHyWubTsSkpE87m4h8cE9MzQB6DmGHF9J8UtxCrKrh49oXyU8s7DI1A9hKJDscIsVhRTY05ToiwOcIsjyZkospkxCM1Yv5KcyE5gEvfufJ4b48h/2T+ZXpgcpnOb4yitfU09iJOPHHF5ubI1z/KozK0uSjSVUWMpaTswHLtkr7sPTz6y2zMy6WRfzno6u0lYaF1O7WLCURsc+S4g205MArOv8gWqkFrulQB4QYerukMgRCzvKSW+hyC3IDa42zKJ8ORkTk06davLmxsU70I5WNJ+g5ZoSv9TI8RFdINaUatHXYRf1nLY1O8u6KTDgL1npV5LROsV0cx76oIlNKPPNquSUMQ/XX3iVCoi+h63arb1CrQYoeVsgh3w77MeGkq+qNl++kWSYzHO2yJXaoxX1sfIPCGqUQDotFRbeGcuzi/RE43LtXjcAvVF4qTTRjkSuXQmColAb+p4qHtgsVt8V57IskwQCfbFtk7HBEpNHZyDCrUxEW9kBcv/JM9IuouaZtH+4tUxVi7qj/EPmqDwv8KiEpXAGsFP+8uNuOBkZERhw+ekGzSEwu6YKGVT7tJTtWj0gqsMSxQVsEJlBhJSZKaLvNOg22CxqGm+WwMOGxCT71OhaFu2ZqfKXrjSpAVKlcA7aXtLV+Ra4ba0rTKO7/krTsR3PKLLzFROMaIJfiJBVC8WsgdxQPJSO6x3KEysUt73srGy1uAh1qZZwZ6rDDHqY02YjilNdQ4lxo8FBDm9glvmbwryc0DkqQ6ydxZRr8w86+64yWNVXyXWo7yW5nwSVI2PzJFjCI/V1vUSeV7FbC43eGR8sclcbDeqOLI3GG9dAvUXTq2z60Kao2weJGlcKr1OgiDARHISn7gtba+dfTOOJcrNeaztL1Zdkjin2Oip7HUtqcUm2LynLsyR9hc+b7aEK9oQiYkTrdoiCGKaxeBClQiR1q9eeSsqCWc2xNyeJh/Zle9CrHCPQSldQpW2GUvmBNXSjBggWYE/tpNbDGcn7lCjcQnClyTIJPR2xGvOn+ezVYK7FQVszSIlUjxQ/QBVCtIklhfmcPAFSUEgeIzD/CRklIeXxAvZRMSlddAgk8QFWX59EOAqmg7WgO0SwmCxKx/JguQAtwMWJqDucGV9dZveypRvlcPAT9vSJffdrxYEiptA+TG+9oPt9gklwuHaM07G8TLGiqU7u1Ipm9h/RyahiHZfWStJqrT0+eCLUBzd4R3kfhF7I5tJvc7CDYZoC3AT52qsfxuUCY01kVyfUrESlGp7CU/4MbacSuN3SihznZ0aoKNQB/mQCMeAicYhzgGwDzEdOwqD3SHKbWa2NTigaDvxqk3qMhcEEWZ8YswJZ0PD3QtkCG7G6QhUgLkDfGnAvawPy4uIlmZTdheP0iRF4NUkSTRe3qwqPemHQ5Cd7AdoO+iAHEqyHc/MUHAG6V1MTKYNfPXbmNSId/kGh5dI00VeKLwmtgorTfdSuR1bG1Q3CD+KUKsDnAv5h3c256OZocf5FLNBP2CQqdIxFiLT+/4aMBSxTijOlsjNc4eklJ/MaMR/6vMnqzHIODSWq8I6AMT+HU/86+ruCebFE+vBeYwhPsSSMxeJEHprBOhYhBrtHr8iH8SltsG0/1R6kcv1PeRKgFbOYe3SwUl7QNaqDTkThJAtHWvSkpkNr67y/E3jwSBdz9eUayHIfkwp9pOXFpXpBOP6seVWXDQSibM5fbb0kA0QdIJt7pRMkp4fyU0nc+VgRvkxZ1X43HbiL27qWoC9TFJJ9H/yrE8QV4JomPHQI0miMED3lQQ8iU86SWbyEk6UwRUsnn/zvKqI4pS+NxglAlQWgl1UW3uKQtQa4W77DjV98mn1JJru1hABh7OcXdpo1xF2dCUdVPEPUEYWflAYE+F+b6/GQmvUsSiK6V536+OOnYtv6eSysYh9JggiN8tU1saonmknnJNWTONCOTSEtiAfIKEL02VnAxKjFUVTYuyYn1HLZRoyLeTcjQn+4qtrykyV2OnKFh8hlmidW3DKSB9CILVbEM0Z53kN5EuNjTmhcd5dI63yPhUTLgQCojQmJNBCG9bo9kAqkwxQIUINsm7ExC+UQnniKQWSPTKXpPu2dR8mTIkyunHZxWgk+ZVe9pehAqUTWrONebL5fFL3jcc//+73h1WsbvPaef3nW3S82MvyVWoVVlZeAhC7IRbRzGoBfg9TBFjBplf6gkPRziEYleZt6pZOKXskmdH1TdWVtHCTc/gIGs0EeKUfL+Y3fUr9TBGDjR7OubJf8KKdSHK4rS0QLMTkK2WgblOupQuOT+x2w6kxvQEE6A8wQYuVaqaAqRHKJhSJdGkYfUqW7WTMZSpvOTM8md/TtuZDkYh8Qt2i0iIYeSxxYYCVsyIglvhXLI7L7GhyutGZaaNg8G9wp5DPxcIDoWBCMSAIRpRSk1iLG6CNsHfQiPNginA8TuGNBs2sJF7aTpwYNcH76Frj3UpqwKyvoleG3w4Dr484KtYCkXadGN63PX2OjBSXBEtDbX2frQV0xJpxZBTayA6IA3IpTQugzJw/Qmxqv13otxoTifjNEcViDgX/YqFlK2xZvEweVCon7jFPfY9bCJxt05n/eJnTDnb4hIMr9VEWVe8y4h+5UI+B3NXT9nSbV2W16gCATyQxZFHCK+4v6zuEOccIn1TQh8kYgNC7KQhITHKH8dLyI2PmKN36BM86hy++Uwq33QUidq2rdjNhypCyEa8Gv9SLZznFfklGo6sJB5o6SuVhAr7MJhtZTmJj5JxDYBzEKJjnvQQqpHPeHeWry9IZTRIYiXh326Jyon9XKrIdzxjbtdh63SIr4XysCvQEr9VCvfCHLZ53GhRyOmyOBfcimkX5tqVmsDBZDepz43jEcVupHJ5Ew9RDWSsBxukWMTFAW/phCMEevmMTjhllTQKzt7mfCIDHKOjdcOsZxM8DtTVv/37nTSJ9IQ8Xg/Ddwkj1IY21QgML+q/J0kg1WA+UAhtT05pgqvEYjxZnRNLxUhBDxpAXq1Ey5AKlELNhLuteUbrDFQFmso9+ko5fC9KubLGWafLRcKP5OEk8fAURAzcg1v9POtdIu6v59XWCEi0NUQlCuEKymSMKvLqeZBBXPkQyqm1l7EUzxEAzaQIegixeqteKw8T0foxDvSS3dlWtI3St5yqI+DSdI6+KNlF/BTCZT3u0Fqjq8mvNadsQjr/CpFBlISHVCirN0mmCaUctnJrL5AGVaQxNNSJSD6edFcQ+uDtlRLDrfpsjsMsjGjSTSQIdMTiItdL8xcZgxfXrET8xSeZt/p3z9rUJd6XLkthFQpol0iXsQaolu5GfK6tJrXSXtbRzMpHNyJjhUDSfCnVT4oyUc7EA30e0QXADjliXIRd5xOxN7LLHuwNZ7uZK7kIJuf8fxkuXWtVyKXkYJ1EmRcCfxk8mTfROPrZqqivGe8G8yc6YqMCiwODw5p/QF501caHkzawhuqkzL05Ra85iI8aeOgjNu9NDCtcTzypc0K1DyeaulXDxidQT71mHF1r1R+2F0NmdZUsuYZGWVm/seA8C40a/GZk5vryKaWvraycoW1HpbQK60TJLPzayyaXXql7x0FGeihtWmezHSrzTU1YtlpPJyG/J1l/LoJw0kQgH6j4yUXdS8I8oWxOkCup3ruNjktJP6trlobqQ9IT4nqBKUmksp8nqt8Zyo7FiCEQ/MoD0LmKqGI1aCqSpqpzPNVAoFBFz81sY40bEQnemWgk27L4zPK30pihIcZROz7dRBCwttQNmw4N7ZrV13rhMvLpvIS0kpt4auVhXjWVpQIrpcU4+rj+9EDqLc1F+m5e1Efpe67J2iZtIOlxP2nO9yJOHpZuAJvMhSdy5zCN3QhKuDX+cwU5zziZnW1FR9ZsLb1dWHsRCqkpd1RCExN7Abk4tl8ntt+Zg6ihBGNPa21kaQWpmEbeGmSD9U7jXHOgSfQi/x85Yl8cZCUOnQ+pWGDgrbPwWGP47et31TFKrMZFo86ImYsy4sJNVYlRyTjmgZBbNi/QzoR3hSjovLNaGxtQY5JiMIs0s6HLUhFyJF3V/eEibTjjDtj8goZq6hMF8nM5/3bbzjTtAglq885aItkuYud42QmhvxGGJxWzfyNBgwTKkPNUf2hjwhub601ycSSfKZeVsK9D0L01vpv4qWdQXq46V2WLQIsrfnYJV7q30MHvhKVS6C1Qwq0dJ6aFZ+5/3QrTC/XXhSGqcpoIl82nJnIWcW1rdsyDlrCTYl7Zl1QWvc4kwwT4olNkvpVTHkXmnx/YzEOVtsqg4054FaQO8iaMw7hT8xa9EvC98MgDLmnQx4lpryx7Z3qJF5YiXk/uqkGwr/siNyP8p0gImIPpqvR5MlLihKz6Y1StHooHJvnEvp8RXdUQU+TlvkJm+berB2Czb9wn8AcIkhC8XTErAo0FMySx5qTZ38VZFf0WaCaau4ce4afhLY8EuMGHtFdZSWx/UvF2U0b8MySSUGrpfyOy9SG9uFBd+BXA/ADLCHAhDM+wKtpASojBx3jZOAwQEq0jDNzaKs3gTrkHONSPsYqdSYKcaHnaCTqlsecQ80ITqSSJNC7jEckfpGjivbdXkFZzj0l1Yg1ZPQGgV1wRjnWVg4GdoXBcyIY4ENhnKEThtgD5UBeJkZcMrbstxJI402CWUZKm2FJq6NnMOGMk4RmxamJFnqLjr8ZlkkCHDEJVqcekFYMFzI5IWaQbkTGUAsFquG0miAQL4/jO0J5hGsSggegp3dYEpwBFhz+HoHmOishBr6GC42cnByC3WKOfUF7nxZugcJQCZbmSuIMoYc1dgRlu+TBDSGSglWPzXiyA07ReMxWNt/JpXKn2aR8I1bWj27RMdi6kmg9vElE14Ac6zAJJgvUA3wEUBikyGdLMMEqEwMkhyEEcnB73zlFFp1C83YMo8hs00VV+ZB3ijwYuExUbDKElSEIjtIFyNj7kSOspHDbEruuyJaijQzujJ+CJw9uFhk1fh/CdK4EWqfAYE+ARaEMfDNcpFwOO5ONLq56JDnMW9ay5PBTtztJmLLXUUzBrWmTugZYivdP/v3jEq4EBaI/s3vMookTRLybITpkcaMTHrvWDS3EJpLRYQvG3A2r3l8D3DbDeAVAfoBXmo0WirwaSDBb5SLQuIODwdGj1RTqwySqqCgF/hTtR/ew36JH+UrN9mGpbhUsRJmV2/0dWFYzRERSwRrmxU4ukOIxtm9DbRAZk0/BAJ+5IQShCCNCQAmZIUw3jPAJMbBv7/eLCLB6rLJx6cwHgQ4kUQazRJCeVh9z8hGLNtVLTY+aqXVj7hr8m2ZZKeWI12NY69MclFLbcdfX02vsHlI5E0WUUkNJ2y6i55DH9e7DJnh+0ADAxwDbPXq1hQie4AQJNyNcUbGMSTDnM02Go/Si69MuZyZdq+2DD7zBKYhfZMwiVYDDZJJhVStTIYsH0ik4/xMqpI96wiPjA3+CJ5mJNpiKIr7ukgXkMnvVWkmGt6E+PXF4h4jMq0+P0wCbtcsyJdvufSlLDYuKNmw3Yga/8oA8Nf/4xQgllBT/o/+xFYx5SZVPhsG3uik8+DxApbR701HhcU2dCK9Q+QkIgKaCj51iJi0zFWKgUJsakEsM60Fa6b0g+9wOB0DzdmoDQqqRYVfDB3IP7QkIaDoX73ziuY6/Aj3jUR4HHjsaKvLNRIA2ortPTTAEM8JXvRiQzES6WO/eQmXd7jLW+/yBHYvvSdWI9tEIoIxaCXZSvUvkkfkF6eDfCtdMfexiFG4SEWk2Ks2DNvQyewM78dhr8FLf8LNVCv6SYzw93rvlgCFzScT7wTremvVuJH2QLYcxeKh5sxpuMNnA7x4j1uKY+VE0VmXfCjshCCrQ9PLCZLdrxeX+e8uUP7fsnkS0kt6QOuu/SQ3jfqW/USPTSt05T33N95KxudCWmNj2VxXanRVU55BQAUKBRWeDERi+ISP7HzYPJOXSp8ILSSBhcJcOgsJ9NzIXLjC6rpIJhPoLSb2V9W1kqxGGi1bCWjQX5R21UKBUvpZJKEqaueaY28yohrfYh/RiSJGtHaEzK2M1EUeN6vOzWRmElJMhRgai3cIWRDSZTVhtozTjOkVTi8MaFhtZYqZ9T0S4ppLVHck2N+SZaYb/XpbfOuvpPLO2SglYzqPAsYMxJZFErROmfklR++6qkW0Z9Vr7GhSvBFrIzWiEYjytWngm2WTv8o4+5Cv0Iirb1V52RUGdZ4rdqu0OxXoaGfKhc1Wo70aJi1bi49Caqt0rzCRbQ4QGMYi7JQ4LbSK9KsGYaCOUWehyAYBqSGOswUB+fByNCMi5nJHZKPBnMSeuNxOMlzvJi5OsmL/M0DFgLhT2dZErXcm65zJ0SQkuNUCo/dg2f6BEFrqRKpI2OfLZiQciJkpWI/5WRCZao2wWjAX4Fw9OpC+IGQ3KHvqEkIkuMVTfKO1sV55fysQmPWbDrrau3hGy092v7fM0EUqJ+0d7hApLT7nOjpCmTQqa0jM+4J7lcZJe1bf4aX/lppHYjZi5gZoXxinFCnZZMUmzG8s9zxdyzVqrkJtYQzGyOrM1PtKZGi+PhThandEayN+0YePz5m7fFMVpI5ZmiAvZII5GdkUyviHyyTWkkFsyK1Sy7ysSkxneQEIyPVSeXk2sZxPI8+mJEjbpMclmRqIO2wtruaNcnzXBXKTyAQnjVgzZgwP0j2WcXBf4IKjdRIycwUeCMfdnaTyh7l97sL7jLzi/cpHwxGxry6yQ9KEeah6xFFBSJp+U1puKF8BYMXVy3TAtVUtRMIQmXoh+GzVSuthx4UuKOjsVGtbBygv4T6jj2JKtWXFwrBf2DBT70tEkSkLBqcn0ftl2U1/1gjFla2emLHtNF7GbJ5xwdko6OZkXOq4xiCaUncTo9lrl5CUlHaxQjban4RD9EkY+9dR0KjdM+jfxQquYm5hGh2Zd35oRI5Uqh+BIQu2FikYDUSGdT5CtwsggWMSIlx+dXEbC9B1CvAPBRAjANBNAvBDAJBhArAxB/BXCtAlAbBzATBBApBPCFBnBFCDAFCNAzNWsZbZDioc9noLVo6EjgPj8JybRgARmvPWDxVh52VY2vLYroEpuU6gStXudVhtUpVWzsyE7H+akmOBr5D43B2bM+rFbABCimOXkODXZWFNzDrFbBZE5NQ1VGI5Cs+PDAT7aXh6Opipw3TqAfTiJ7E9ibNiatU7jZFXEIVFkqlO/aUNKwtPu1MGGuKPYvF6GJLEHaZ/G5ncuV4TtmA2PZJZ6HppPZdX6+SmEvOyCjwuTfTRCmT44yXDrU2uzP0SSBjGOgqGxN6KekidAvwhH+y+QzFEL/Qm1YQXbON3FH4dHElWcM/FwURiHNNpu/z08vMUmwqBbymhUi6N2yBZID+QjztukKw3JdC6FEmPKHxrCtrpfVNeU/jIQ/fo0HCwNYw90Oa44Wsy39gMSllR336h1ahSRxTZhE396qQxhhOyWWDtVryUy/HkB++Wrtee2nvOv1AkBexc8rE5QHSGjcsDm1ligq1ttQ2gk1NoGEjPROVSdjSyZrzNJZEw4o/om5EBu0DrwnhaTj19x+P6NTWvXhnF0ks+mLkaTUSiFhlh2IDBhAql5SuyGJ2l4xMHdDS3srktpHhD5onGr1RfhoNSK1NzbNvVxn/jNPaP3546IPVOUnVYY8oKV9JpzcX0JZvBXNve4QCOEvscq6pVxI8Lsw6zLa0N3+cH8A9UY9JTo0jMbRhf5FhYd3OMEEtktToeUn+bn/mRE6p4ZgTu0if1c+xL5sf5BWuSruuI4N1SYkCy8cKN4JDe9mf2sePpaQg8ipWhLsGpP4KToe/ya5prnJnZ9Z3k8ybcE2/igBVPvLuJVYZeZB5oH15Gu6otnb6qhhqwjTiCfJ20nZXdN/BdsiSV2Sm/0afkXWN1Muf6/aehJ6xFBqOQFZmZtZU9ahK7vrEQ+gLEajl6tp3lLB829WmuewXNK5sNNLOpRtNHyj6OUI7mBsy2SPzbKs6rOdfA7SMZ5EhAel4PLIEgke/mScxx3NQp9mPyqxqGX5CzkA96Cm3PcWw/Y8BNfasJ1hM5cUQ0QtcUKsCsjEdnUShCuqekb4ha3UW5zbX/ZvTsHPKlJimrgldzLlOCX5LtUn82xcTfZfESglfa3juk+KGXLDrex2jgSOs1sZRujSlustXRQkZFLfMLHzT+DTxynH+OqyGaeXkI7DzFhopXpFjAgIaZ97HDSkhHCgtpDLHpUbUTqJHMzWBkwzQqfpFQVFkkPhZqyNRqS0i3pdcHh6qTfjOCOpJ/thhln9uWgd35neSXSI0bXRdRCdhvtPqsU9Numq6kulaiR+iqDz6JXyRFJIpySOfl7VO+NtgVS7yjMn/o/C3t7ECYkzFhlHmbniuNmYjd43EKtT9BTJasSo69D/JNXPAh2wyHnpJVzA3UIZjFDEFeyO59/PFZeqNiwsCHoNUgIYQrme8PmXtkWG3C6G7muX/TB7NHOzsxkt9WJJPzc31W3JR7/HcRl5DfhtriQu+CdnXl1irVnderrNRdd8uq3JwgV3tTn1o8RFFG5U69rJoR3D9Kv3/UBMW7QRaHSg0nG993gn5W8ipe8zGnJ70QAGXYcEOHYtiobRkhmGmykR9YApAIYoRBFpCwuJS2+kcQRIH8ERMZp3XKVyw11EC+0yCsuQ+4yHVTCnSVH5WMoflVjb4bA/kNUQD57gGxBhDfNbjOgBOZ7VLCjCu4jAb07mjYj0/ivucCCtIkwjC+wR3V8K5wQZTgS3A9jBbOfJJ1XGW3hCkqF45uOaK1wwoeEZvrY6avNv0Inj2FBXn0S7eLZArIrBMXiqpfufwumKyW/iNKqNA0pinESKdxDbEg2q4tFXpxgSp3CEiFFMoK9xg+NaPOSvmlPI0Qz+tuTrWMWIafF44AhyDc5v2e7orROfTLkj67naNgIKm4MAyslB0Jpf5Kise3cqN9P4mJjXQ4W19nSmIg2kTNAhpVtRMyfhUFO5/jPWj/JVoB1nFrvJypB1tImD7kntRnL11Rt6nKTXRxqIeGHSkR0hztoPKykS7dHZwlhv7q3g97RawpIYKNDSpNjGsrmxzFzzs6XRWE/nbm1PofzZHFeawkLXlvFQuDzBv/NsUbHnxJVjtf31Z9xlb63fzbYCeWpTAWZPRnhxa0cCLdNQtBbMoBKUibCC8iuNcIg84NTpgUjqEwulYg4b7SWXwop9m9CKZWMxntn5QPcR+mllYOUyc3WrrZxY0hTKad9S/EhoMdoiZyarqFZbXXxV5mNor4ySCw11MzPlO8jnpT8Y4jFL2lC7eTc6oZ1vcmkW2yRiDOSJKT3hrRGWUkSBKP+Q6GgQVrtNLKlNy+SWIFNjmbO/PCkE1D8qG537HauNJ5WjoCrMPEIRo5Y8Q8iomKbKSs9lTfpfDf2nvN/U8n+prxLqKhHgntuITI6d13KhkFc0ZODSOkNRzPBpUW9M2Nt6bps9cXGDrt+LLAUykzKILOXGViPhKA4XmaIXm0jV5LGqI5AM7IwW+nlVpfSjtlGmXRyJCXKRDKaoC+4InbE+Yr16wjUj+iduaSz4o8aEiyYcjUZXczV/9VeRm1wFIjnUDjoEZ7a0gnAwJ3M1JyaoIetsuVkVebk6dkH3q9nVFaW/PHjsiHyH5fINY8aS+UzIDAtmEJB4XK99yMpnaBfvm89cvaW6KX/oV29KcVV+4lI6fVcauw/gM6HgKA4rIJwSgoO7kJXwkqbvht1oVkgG7tZwXfJ5HeGglXz2RCktSUoiq6NjU54zdKY9JRIr1zoMpRV8jW8345ndBWMTn1FHSxLv3ENXWqCU3tmz9xUiTGvGKiF28MbQlpyhjMDQfqrgLPWX1DNNL8hd/tgUWQvb63ENj+i2nsCIetbwRxfscrgmJF+kwNBECDzYyAde7NO1CMDI+YfsziPaswjnGi0M4P6pWU8lFHhVr183O7SDSQup3XL45kwp2XmW9v520o8UUG0jopTkQ+2/rrG/v83ywuCBxqr52ek0aRIIDWzhME1Z6uBBJnD5e+Qp8BMe7tGck8AJerGMD5OozwvPl7WZcUS7JI0bpz7C0G/76dvod3p4rgosZ72tS7PXr7mhXb0i2Jp/3kixatuys1y02RDwUnAU87+ynL7mFZQD6Fkr8rWwGj20MJm79U8D1JHLRn23biK+9/2aWrGuRkViPqSmx3PjvTHI0KNnKP9RjSy3Y5F1Vmr4ie6zlWRIGhzwrwRha7MQW+jW7s5twz4gnXpXzBx0TP+021Qoj+lN0olldlLjohsqNadMjqO8pC180BXFHDRjm0flXG57xqah4m8htSHM/m4xQvfPLUfjafqWDEjUqz9r4dS67+9ig/LBNVJN3V+EjO3Grf2mh1bcv32e2hxBnoZDhoieBKVDtS45k+a9/0ZqYQay9WusEmvyBREbCo1ZNCjrMSLRGGlodN5Q5HejbyeIM8RrpRu6o2M65PAnsHpLn6TT7ujS+im3MxoGSU9cQpb5iF+v75+G0KeOsSHqYqipuEXRlZidGdKLnxqIfBfHcF/PwTHkXLb4uY8f5JJRBw1xNROcgUg2I3mor6ZIAyyBRnWCvA7RMAcwjyjBQF4bR+jr4nE0bJPhcBNWr2lSReW2BDwPq6M1Z3jG1GiX8TiCvQpyUGQyqaADMthCwxwYnS+W8Ryxpkib76Y4q1M20UKgSsk8lDsOXBJZDIliRBhOod7AdT3acxpnSX+PTX48li/clkIq5Qr+QRyz7igcTkkWi3ifWqqPdBmoxcPmVOhUmPWxeFrs27Po7O/zKo9tEiapxRFyotGg7GCRuM71Qv16gl4nULDdUVw2VRuKyuitiXY2GwZ765U6+bZMvtbeizKizpIuFo7iswOqjISk1IKPp9gi7ydx6OYgbAn4pULVRp79RPGmFZtzxNMOgQXDKsMBPUuaZchqN9YhC3oQ8SKs11bLzzTjVWLZQY3qYbSQJBFwUaJXQznP3SKvk3EBDyqPpKpk0pGj10jkKffn7fsrmqqmfVsMtlqGtPkuS6YKKeL19vaEOM0aYREaX7gfztLIZCJPVoLf3t0iJkhT1Z0hT8tSavRWs1MmSCTVd4v86l79zPxBfthL8vAlrDBNsG5JbK/loS6O1IFcSIWmKsFtMef/KdGeyMmKhRiJGHuiQ1lwnzaFnJr4U4aHypxIVcmXU07RRjVudadOzkrkw8E3AT4FIuoE5Uu4JqBMSWGfSUoPF4vm55XKOepdxwNVCFraOqwSvVGgn0BIDsbJjFm8xR6HYYcuQ0FMCNI8GuxUzn0qlLFtko3JJgoBmTguueN2ZwLzoMW1ruFg1UWLJA9zdcicUNQykViYwMUo4G8uThX9jIXRkpQtapglYAoA/CjopXUDNkq96qFoaF9u2iO/TbNdmuH4ko72OjH//jFCCadTACbAJoAuACkALAAxgDhtS7d5R1OyBAHK4LgrcmIiSWZGePDkkSm6EhQkSppzJfP+nklZJvVVVWO+t4X1Pb/qD9mrMrAQZKTnt1WPp999q8unTUZyfbn35EOstxtKvZVVpX5CagfddTfOJfAqsGeLyRI6glqmax8XkSNOyd4Hfc9/CTaEO6NuMw3SboONZQMcjcYuW707sFaxXlj+8erYG/9Ams4028p/MoFjYonCBiEB+WenEfT7km6MFy0TIRZOJBl8PAioBQgCQZAXHwVDIaPAovWFVKRWFA/YRk6tmrr3R1c+bReZLdlSkcUln4kTnBSeeNSycIF5ggp6XOmnhgsrBArV1tk2hQdEm0Z5JLqQRKo8iwuMHB46WGBU0HD4REUySRXAraCtkI34vEp6BSWkr1urtR6hH+csSWw7FgRmBitem5enPbBOXKca5Aj9PZ2utSGqZH3IN4BO5zI6WJ3UhMeWN7GQUHLKhEu2eNO3DTOw0CsqZZuK+B7gKavAJMcj/dK7dQYijRo74afRpXa0PIxoBBgzGlyoI61Tka9zDaxZOYmZyVRKUbHgzJ5yWSVxGJvMGrSjasIkXSU0KBSqGbUzfClKEDWEqCali5YSrVDNykMERQt3LlWPsvqlDhBcsW9Au7Obxh2fsJQQ1RUeEpqCJ0oKOxD/PAowdQJcCcEWQH/F3iCvpCzEQ8bBzGS/Fiso/NFgea+QT5MI4xwCxO7LkNivwO00jBOo1z+H6dBblEVZEItDrIzUgt5G5+cZfystOkzPTjLhpmx8UzUb9He5+Pa+87DzGiwfa+HOPAfZmEakhZjGE2ujRPIYrketPyL/UXbYcKAWJ1CxdDRZxFvuMDvvXAZa+6URH3LARsLGJBwlFQnWNgy5vwqVvsZ9X2/yFlZ1T6lTAbuxV3qDvJL7+vPqUpQPNUOsgK9bnVy2zACnB7F2kxOPEumufh4k1KxWilFJpoDrNhjiEEi7jGS6kJMBQARYchFtZqZ0VZMyPTpNfTOJMMgTZyK9QKk3MWiibq13LjB/EfJV/tt41VFcztQm98TFwHlJQFZY0N89JABGm3WxF1BfVGosaxekBnUIR1JfVJeVWtFK/ZA5U6+Au1uuPe3yBee/o4j62J68TUsdl2MXcmjHvAzPSMi1I+w3YkS38jswbY6uqJjguXTtD7I3S0FoH/3984OMqPMROq6h41oW+t1aO0BaU+z8M48xpc79nhs2RjmM+um0dwn9zuyIoxq/pi4z0lnfc8qJUWA36dYjSppK1aheJaMluqmXdzbAamhftbfGidbwek0rOQXRfH+wan9PMdqC6COTLj73FlB5ricSER64mtE2GlfDsxeZX4quBDxbN8nZovozTNu0whMkqoFm5CMdywWzjGUn6RV1smC51tLyANvTS4EEB6RcjbdgMqdUv/JxROj6MALI7F0yobV7hSEKsxyD3IjZxX2vlL9mT2lmb2Cl6bL15TbgpUlfJ/oWwjq5s2r2UHORBKWAUg1SiEY11uU9TTIW8bJHuTWjPFHuQvdWSEQtEVGcgg4xGdBU0tqTKtQvw8mLAcVPS+sYvydTl5pLiS53K2MmolhqD337TDnOUzFZf+iqLp5v/rdI0al5yrOeZM5iUPaVggrJMX0/CaUmXZI4WdfVC5rGSI+amf0E9JwqyFB2YGg3yLQtgj8lp60NCB4wUtWWzHMCKBGJS7Gz8gvY47oAbxeIP6qMKKasY9+2xNBuY0d8RN9339ai/IQg10vS9EM3fkUeBrhTuUtTmsrhORC8F8jMJYmc9tXtcCFKEpgxyhC5gAb8EHBxhxgpciG0gJYwdUQ26FkHwDDaewUAhX9MXNwM4fRHmhtJ2cQbtE761W7WcI6T8nJsFFivTMhJ47rd45B/uIdqzZQulMzKETohhDoY/1bh5qJyLgpibZnwIkQJ6BhQAVUL+DvDuD2yVxlHYkJSa1VCxBqhKumpPgdSmJD1A5Qhn4Rc95obFwXJlUBlLnm9DB3dDEESGnoVjJAz90cYQpaCmSXtO5G4Rwew3hkNHOec2yPGF9BTtNwfoWr+bMA5oBQ9sHAgKQ4CpBMxkzyva5AfQdwizItzElMcfnC6DrPBglXCcnHRmFJfblJYOGjPjOmFjXa1+tbGdogsQr80+QXzFOxRfllr3zUUtTEOVUNtknbdq3/OPHieiCJ8AEtBWTEiMUCtYXVIWFNBI11Yg5gQYi1S5+Er7Z3wwQ1xTOx13/NKI7lZd97lMbOJWV05Lz4j6PZkLBUd6puKowhwljcKFtqbAqjaSZIoeJzK1L4pG8xhVsSoUxjKSA64J+/pSqBsI9hO8LOC6nTkY9x+DJfpisNFHITUXCE2H8aSbpv7zh+8gKyT59Lm7ZVWlYvL1VuEQZKBI3rYf7kubZkCyJE4VT7du/3eIU5CPIkqUK76z8xAhkM5+TWmDMWm/90aiI4lwibNin2O5wt4i9FMwESlb6oVOvNViuLRsFBc2zr3d/nVrrmpzV2jTntKTE2JKUqEGvkC1WhvsnbYn0XMSIEmRkXHO8+C1F15qYPADT3JDGBaBTBBPRTL4AG8zPT0A044xDdSGlWO57ERXwSz4gkFISHOYa7pDZxZlz/IQwASR4CAzBRLUMQw9iHIrUA/Yfo3nfwRaGUKzlCYN8ni0rl3DYEDnRL3F3dT7mdlh1q9Ps5QXIzhHR6kHcEJaRiUuZ9PBmFd66Doe9a5/a2T0WcMNIpRob0UmT2OQjFgVidIbMkJAKg7MSR0IeI1NxQXsTyPokGiFdDdXCSOgaRuFLPgP18pjkytHgvMEwrXlJysSfvxYl2NGftqomd1SPkmmMAosEvrsqOjSLmXaNFCuelNHBG5tpuiIsEyBtNYidW0bM4i7vwU1sDMAu5Q7A9vQNALIgFABZPFdJFihJLSW7tm52buiyYaf9/lulQnVe4DL480Rhopt3fo/wlgi3kWRg3mG8YCq0oQgjbdrrUEQ7CIH/XqtvtEaGGqtgQatt62s4JaAXc9UIdVBfjEcwkT27yrR20qyC+V6/GukkvfRj1iG8Tri62r6FKVTNZhEPeUTAn2g+jHWEjqXCe/dTkZ89vaE0NwMd9UGST4fydrVxF9id09SvqMge4sP8sitJrmP3gsBZWeuUZ4CztRoYsQZC/FqCMtN1Z05S/tBQ1rNQWVKmqPWWJJDBuISwU8yn1yuSwFgQLDJ/4FxLQvPcWgrZsELweW3VBh8J1DOttYlHUqZ+moLNpdJalh5VngqPRit4LTMntqjGGYY17HDn98YHHIFkmRr+MZlZvq1Uef/Edmf3bhU+V3hj5/EixnN+LIZLHFKXPoalEI0FtDy3bK97yjexyC77hk7etFnyErpv2Nqc6NYm7pFfU5XF39KNr99hU8HJ4dakKVaeu284UuXZW4JtotDjcfEvOkU4LJ/jr85Q4nWO3VMp+DXVZkzF9lkNFQNaaP1INbf1cPX/1zvSuOKhL0qtVaKOLVudQ9WSyCDeSCsLv/PKSlZOPpcffEo1RJiUuZomCOXQlZnDqI+IajJ8hD6lEAKnXwsOTsYTKUFYZH4jot+tm2bzVFd2HWMK/l/39uKIvqyVq6TeJ8S/7afvz4rU1jX7EFwZ3Fu5WNXcWWHmF66knJNsbcov+gmtLl4POVgPoYNhuZxYKth/zheFbUHszO384uQRo40Q9MrgKrJMZCnJY0IQ5ErPYJurMyhrfqXAo6IjXtSXKviQbU8fxlVdHtmZrbU73shYsGe3OMlrWScCo9HGZwK9KxByFrRC2oZUAlQLOs/9w8mkt2sxagSWxZgrQeMe7p1YuZ1I8o5B2UobByoIIfG8J6rOFbUJMhsQUom6dB2zGUwnA/75el0g778GSCD9BrsKlsIc8hyTuGNUjLa3tukd5Z3H9WAyqKUiqNmw1D0SfwGWQC84V7jMiOCtwZNCjps7EtHnIZrfSQiGZxQeWt7jLwiaDOi+h7Vkepb4YgcPwTGRo+OSZ94BEDmDK3w8RO0q0u2tlMlSWlCxLEoiNQI+Wh/GT/DhvMb89FnWEpCk7idjRCKou+UstiHaRh/vLGcVzkU/wpA66rE43Kw15rLLdl2UWVVO/Q10ubVdxY+pqIzLI+i0jRRIZLsU261NpV2nC+4CZOJB+3SJ/GIwTZNYhHc53NbcqTO4IshSkV4ep8lQqTYJPQPraO1VX8hEl09SQvU4ZLloEqahqiICH4DtSmH3RRz2TxlvcTDbMON+7bdKoS9ipd1KWeMVPEzYv0bx50UfneirNKFk+djYF7layA71xoJ5E9jOUtXX2WuXpqzLNLlg0oscMoaKlwTbnPAeqa0EHBbGCr2o9afuWWPNQKlt5j5zYCFl/mg8KxsIXwRnw3G8IBBPiFESC+OZhGM3DI5ivErefoEaOVlLkdKrqEK3iXae9QCD5lhB0g4HpWpIVQpBVtsllMKkuz4uN3PwO7ZQ6PweP9wi8x/oMgyqI6ApD8i3c+hcU/EPZvFQhBGHBDhKlHeBNgDVtoYM02W1OIJRImbOI3WaTzILcZw1IRABjODngeN12AwQr1VdDJwT6I9gkc/W7/QCXSGA6gH4YSMHINZheiYW0g0IadTxUcWI9pMPcx3KAlwLWGPEG3hXlHvPgpyKVRqr8wNn5NpzYyQEhR5LcM8aK7L8I9A/Z8uVxES81RkCP3LFLwpJVrUFga0gcRYYz4nNCGeDjsU0IpGt6oCrG3QgrwDLUM+BZ/MHKpYmljhhhN9ruD2XLiIKoXBxbnjoRYRfTyh/k7BnqbrkdWqsguQw0YqM+KJyEdAxiwSwzhIdDeIBUXTqp4CaPRST7EL8Tc0EuA5/G3DfP8mtDSLbFTAhEM1ymQV84H9MJgOBde6Gjk/3hiipehBh04S+Wutfa64J5QyRZR3gKriLQXw5FsWhZOBCbGVKi026c7BBVlmXZG8oYoFSRtaMMiSGgVEW1Y2ndWTBRcNiezgh1cNTaUT5Kr08UL8MHNuxrhDl0skbfsTA0LyxgXtEZhRNBFBAFoktYuGAT8xMN7LJcjhOQWrBjXRLTAZYMHwPkKXWkYUXH0eY2CiJGQTDHqDKR+yYjsrdfldtkMcME422ZpPl2gUQzln8vxEaP3JXRaQsovBCFNdPTabm46afUlImSgRIKjmM8ItlGCAW4TaWC5JXh4N4nImccYVym/iJMFzL6Gx1c6m8q/FBxghwKdB6AtRBtKVXmpdJBOUOCjkQvyaKS2YQQBnLBdEIsp2cu3d0TdsfxWZDEcq/vzbAk3irznZ85iOI1pVvPJCJF3ZdruMKexjqc2pXV2XWkqGrn3wTq5NxWoQ/KKhExM8ryikSYhZJEbg1m0sj6UF9mc3jzExd6wrHwoBHSjiv0LsC7CnsSdFPGx/Q0GZllgoJGhRi7hVVje5HEdFS2hPt21JUcpUyuSW+Glmpj7HCiMZoykeyIZgEdiHUXld7f2VvIW5cnlZS+IN5jbjrKOwP8EaGDlk2ea/wZQkrGNSGho0qPY+dNQnO9PiogL9GqtMhLp0kXnPr/72lAgZLDR3PDJGeelapOowPRRO9KSAWE3Fcmq5lIrWEUDKTEQR6D7RwhokC7S37X3CPic6UBEIC5j9XCjEJh/igYHQQqIv8sNWL3WHx3ideE9T/lwwfJPd9ooEYsG9yGIaiE1CgckzVY0Kqn5JpovEsnDiqH39WZUmK+U+mb0pZp8fi/a395RvMk1IxMHcS3J1ZCzYJEa4SckonTG7XWxGfMsdU95H5f1hsOks8CkHJSICk8MRiXTEldGBGmcBuDEjkAEq0a38Y5oGMdSin8TjcXkW9pEXMMbga89UlR8qVLaRDXRNZfYnwIaH+rvt9VvhRxuAu6JHo7UkZIUFhfhakVS2Y15ZKV9zP012GN0A1fhbEE18X8DqcTmjlsaW+L5otaK1Lwfz7Ra8ME+0Y9phSTLk7Fsy2X575Dz4PmsbY6l8cMP0wDcRfx2EyNawaz8XSAWrjIPhUo4h2R9qptcBuqGwcFeiT0MO5XU2/Kp8sWSfguckKUmL7EbHnmRhow609AYbppPX54NSNcZEByeYBcJXpURgsKCwnEQWFa+dlgiTD0gNYZuXVL2LGReVRmCFeJbZ6fnPOQHLogovuIY+ZVIkvThUKDYXP/aQn3CKV0G5nbUdoiXTLoQ/j2gVtC1F7xbW9krU1agnYVP6SF/foRRYI/rz045yLxwEFeeWd+7k9i2kaLK+ikc8gMNLp3En0RhpXR3CbvzpPZgWJhHA8hfdS3rP/4xQgnmlb+B/3K/XD9q/6D/zz/Mv72/yn/pv+n/2G1OnUhKTVcpH1uGw9rCG+XBe+zAOj1z+V7dX6e+M1S3d8tiLmUasNZJteLworUv7lCbT9Wb64Nn26a1zMv8SplOvgTMFrLyyjTjEtX6MFuM5A4CvziCTjnoIVpvpCaeyKI0wgB6xniGEQaSL0f0Zfkq9J8XTfRFzfIEfxpx5AAvnGk+MYnDSr82m4THa6urJ2EMlirGJckspyKYnJVad2IhHwGW5qtHQLyRIjFTCIPZ9hLTxYiM6O8mSo7eRKlURCJfpcLAr711Q+ZT11TJpMZmcJcdleQdVmryHFCEFXm0EuCMOMVu1nMxp5zQymmQKo14yr8ONosr8FXJqqziI1d8i5ghcjGvKgw5T9kBEke7lRWU5SuGHYUGfJRnImD7fuRtcBuqotyeNvCL9AWj2FugN5Ysdu/GXSJXIvF6RKsv1jW5F5Wmn1Iq5hcriA2QSRJpw88hQFQWJTssE0ZJbwJqIGd/2wfpEPs4liZolFobbXjAtO9CtsMSe8yrnlJwj+gdmBw38CPP7WGMpjTQdpKyIgvuIIzETqF6qpFOLrTxsMH52PxMeEg0KlAn+MgklM9QZhZ9b1yiQchUXkJlBIhtGqLg3wdyxLBvo1Cd1xDGlCHdwpnN6SWHEa8I0DYFO0n+DoDlBYHKJoIPdBAL0nBghuJhqkeWIHMY5Ge4VWwD3bhKi6IcxBRV4yZx3E3W5Avo1c06mijxS5XG1hvHSpb0qy8Wj7dI6LcyRvg+LoJnlWQdwMdiw5kMU39b+ZyRMknrUVsVUpZMsqEFSpBBllBiXmpsEoAyRCBSgoBE8JXncUNApfGRKsSTlXAj92aQeSwQZwXawU5KB9rNnH87QSq4HB7iPVHQtyByUMXf82BuBYilUg2BTggX0PhoBX5aUaJhjqjMkUILjNCXP8tgEoOUlekG8L0M/0PgRQw4YlIFrmabU8ko+owysFa5PV1JJBLmQGWakcono3krRL2DFWa30dXB/4D5xEK8iK0Wx7QzVepiZBCS1ydxFojJnU0aw2AWJIQksTIiCuTHM+1BUFe0M4Wgi15SGsTaI8QjAu3hwEN7LdldtAQ5BaCMJhSxLxJzQYC1my0b80g4w9k5l7qTmJ0SyHtcHmhH6VSXLg0eFqmVn9jHEc22GyVwVQq8qqEYcoo4vmJgpbd0XH+UbJc2gqcDFr9nAU76IdNtx7s+w5MBj/fRFlWgaZsL1o9GYcpyEyugSsCto7//WokU6pb6d+1OSTV4DxTV72m+TiW2ZktyKfsu7ysq4+boVAbNAZ5ua8kjykHXra5xbxw4etOLlXdLA/4SThbXU8ZxDY1zMTkwuijqkNv72K4q5i8DKndFilYmGQ4ZqmdCjn20oSwepbSKvm1lIMYxTAEpgotPiARtHehQbBSyhifZCygL70OM8IvEZb86zSSY2PxAB0ltVkAgSAJhheMaeY1oubVx7PF6MuHJif1EdPa8KRU421NseyzOKGucN5lciJoVzfjKJgls29iIc2si7FcPMpl6lrxTFXi3xrE3CoLQWckX/ZLoxraCFKGVGAFOTI3Jx2e6JyCp/vS0PfbCqJEs2GFch1YEq5NxFBSpp+s6SMQSb5y30lTB/uRzAnWEw29ma5psoTLIUZBlcS7ubq3R95vsXImnXPRUiiVXQRHoKlEd76Env0yncjTK6dNUXomngKG0RUeggrVvqcSVH5xkOL0oHOhNXhP5CDXvWVafLnIxp2ULXYksj4Cte1svaFtlBgJBBZ/S4GcFPIdRALmNEMbwx6jY7T5HgdzwK/GFg7whRqCiozPJoOYJ3IemvQdBuW2Z4Yhv050BsZXWhdSTkFppYwZU/i8OZLkViwIyC4IlrXJH8RvfLciBnd+AMEhhCb8eLJk6tR/jiUN4mCQuyBSys+5feIZkQytqdWaEJCEDSm1NUQu1MtoiuRK4c6crr3Bv9qWgrhC1D/3d5xLlafbTwUjikEskux4xb57WK9DRK5XzFNu0nOuSSS3v1bWK+6S7pUUqo8huumGupanLPEIVmSnWe+P/Uy9hZiJSZHph+2toYgz7ldXqNd7DfyEVObH4tmqJ4UtwjLu9wbl3Id3kM8a222F44ZdZa5CzyxNK3zDSlCtudtrceBeL82KLck3rFmUwBL0DIQ5kaOJVtr1eBdy2qKxRqd+CoorI2d4rRJV972bjiPI6aeydWrJJJD6gnIr5vVohnI8btGZ1p6JhEPTrpdVQlciKCFIpMfsneQC2TRRkgs2dzTUlBoLWV89RENV/awhF0k845+aoXkeRQs3ciKpP23F0duzd0N1aVSL8syWs3eUFNMPWYVv9h80q+/7AkPejpe4oVJrqtYSCbRDPQMHzN+5kraz599EykR5/VvnrGOu3jPZeIrXUJ3IKlFbWSoc2yT9Kw+igZhD6qPRtt0oXV+tqJIWMj0Jl46hmmS7vll5+YezRz1vExOPIIbIb+tn/BT28rOctr7cWnSaC5yWaTUWvdPgu0M6G39/HWsovhQyn/tVoI7p0qPgnWFZmw89JoYSGRPxnkkoicReNzEdR0CkJbAYXm2IrI7KlNs78i+jDz1NoVkxSxstAdG7jWyK66CxxraygKVFQ3ZqLtPRTG01tCfmtrWnlANToUG0sEF4KD8VxDR6yfzs8lt5HIfnFqIMKMveowaN3Q6S7Iq1Ul/Tw9g25PwJvLySzTHS12YrYSQsq2oPMXpZNpH0nGrUdlmLlJv4bEakUG7qVqbeoxF1kQSQhHs3PK7SB7CapQwQBJn+1Dr61ntCIazJ7ePXoPAozZ9u3vOE7Wq9lzClunVaUSDVsVvT2kXJBkyw6ldOez4kxQzAjbzRrre++ntlK6rakB9c19KYS4/CYPRWGd9B4gB9kK0jhPjR4CaKoQoUgl5rQcBk9/HPcTpaLtbzrV1C4aFPaK8ilmqioz0i5XinNZO7l9wJqFWuTaL7kX3g6CMaSQQVV1KBNXQiCoTH8AolAvhzgHyOUZxYzIoPMshJWHq/l2TC8qAt2AhlCg+dokJ4ofEqVWLS2pI2mo7gYfSQCWW8d9tagisnRUKeSlSo+Z4Ep9TPgTFwxptNdk8tgnlbZAxCmkFEADLAYI4h+ywXwiSEBNO2JzdFWj8OPRI9iCtN4ECzbaX/U4MfJdGq+nsf6UiQiw90DXLTEadpYVenXi/geGSn/G2KpFa6WRvsrOSJ/GZj7h4cLQBuQ0hVAAlwOd2POxdCDL4cBF18PRs8SGm8VzbCXZAz1nLXcmoDjouxlmEzki48go2WyaJIqZO62sw8hnCLzlfM/kYmmcioojr7SQB2eRqI5BLsPZBL4KT2LQXAACZBU3qkIcM4sTMCOlvkZSzboEMXbFfJdGeMYEns0x4LckFK6QguTlKhMt4+ghyLQvesjOc/9wJT21CHvpFPXOsoCMIbMsk1/FMdSiaFcFwuGmxDmaAIo2ntzgBrg0SI2S/E1bEUE4h1wUyxywyipI9P+RB8Ql9k/knUKZbp0slOiKaZcS+FaZcwd/PN0f1DSyo0SdzkTh2tJoNTXikJDJxrTLKRDY2jIKmwKD4IYEI2EsBKgB7njvBF6E42jCdCPXWa09h4B6kulnymTzf942CXuuM/83km5+2qTcLFxiJKMP2DcyhZ5wF2fB/lDdfcRJRMko9ZqYOxVlZpUkc/qESUh1KKcIQPBoIIMkAGqRccCH1mVwBqEopXI5crGShNlXrMfXQ7jWTCLkmnGlURjxCqUEe0vsRtDXKWBb59mVJEZdT8uor+f78BUEZFoZfcxTOy2QxIGFvOLWyBiMYzA7AgOIU4AUJc4ImUxMimHw/nAhusjLJUO0yWNjp457GUJpKkYZtXJdV9iIRMGMQOuX7nh1CwnalmVqUEci28l4FNYqk2pJbSxSNbmW2HNH1mNJTIRkHJUgRDC5PgAM8Ai0AOVISsGbAtlpAtvQz11fj94GnV1pkr18FbsI8vZHCuZCHk/hXM9Yhc+r5EiJEIClL5m/9lp5pRySRvHcvUygJgqN3B5J7M9qyiJpWHEpiTMQVhOWYDrAHPLRoTvYhT4ch/GzQUKKuqcI+Bqtm/EqvfLcOm2ZfjtSpZlMnSmZKVR+/h7Y63cXpDXc76drylkjVIXqJ5eor4STCTXBwfmEWxiS7wFBxC6luAMbiOoKkATdPUonXW4M6cNJeFeJCU0RyD5rG9Nxx30TAvFfCFqXW29kGmoIXGpchv7D8OfwIdYCyfZuI+3IqbX2bDrZlUa4oRwTrEXkOVC8ay2yDWKInGlFHAEBvH0VoH+atFuifunoNallmKWUyViB5CDc2TqmS0yWUemsc3V5mHt3qG/JInZ5TrMoU/OTU7F6aOIfE6Y/LIJ48zDb3OhIGLRFXsUUOd0F5LytOZvM9SJxjDAJUL8BxkETo53DltogBG01vnO5j5ZYwTMMkzXH0IdTiVmDr7lbtnCkES3ihsZdgo1LtPKv3mgizro2BV87AJZG0nXxMZUkJ7ziM4q1mNB4UxATYjNVTFs/HAQjBBmnDbGiU6lTTC78Flfm98ZL0L81rlF/cHC0bxm7lT1Dd2WBXlBQeHBQ14boaHjEwDlXUFniOK8jE5ingRYoviXX2CVjCtTAQzMWxQL7uEYXhtS8QCwdAgnogB7hd+h9jFRVSfyvSUC9LD2ilc9xzY/Dv3mite920pE2DlvEeVkiwMp4TEMYueM3vNbz92QUY9gz09sLscRoiAQdNqSuj6fJHeNgRUSIT9JQ3iQJhLqrQKB3XXADrOWZC1MErZYmjj0luoNjd0PmHXG70nPc6JqvMk481ccS8r11Gh811EuAXKn+DfeAlVmwAyT0O9PmMa4RwrUiTSr+HH8vhvqLKZolKsjPihIBlOyubnaUEcJCZMAUY5UW8TVJ+upfnzUwnzG+a5eFCOxko5iwdkQPv/utBFLV0ZpiKX5BUVW/lzE5m74RpP8uAQHLWdpDSuopfiVLJFv56l9pIDqpjqW1xvIg3kAZBhVYjJIZn4/G0KI1W28aArffMVa8MNQNtXaojHGTkE3vpirjOgdOl8cjh5m3GWkqRBCuTftGLiTPRfYXK1OdJR/OhKCksKVZLV3JFMdUEgERdkBXuiyJysUyoXnsYyDLaIfApliIIGvEK4EyvAscarGbm5QtRUH2srXbEA06+7gcTDKchC7heNgzqJldda3cXv2Za3K8NdUMdsiIE+olP0rRI0ukxWwZdRFLl/OnWyMHKl4CTVGdUOioZF5nklnHVMroqgSMbOlK1Wi+yaDRiG73vmj3C5ylkxVg8VRNVvb4Q23IxSx4JpS0jHvs+EK9VRJjk0aLS5PchGa7MLVKRznVWYbS90ZjapOeLqh9hPQ5EaHYpk8QiAWDCahrQQVEcM5GpllKuHo3PI9tat/YZ5aFqVxWi2eK8q1ttIjCtHVlltbpTfcnXxQVH3wdblxaRqNqiT5of/FVYE8ilB2fCKQ1YiPctsPAkGNb5nlNsaTaVAwt5/XhZXxpeQ0q0Io5dSt/6XhKF2BAyKtIVO0avYdMzSAM38U6u3dicS1bWY2feUujVOuLhlOtfFc5bpljT7a+kQMlv6kw619DwdxY32jR5yPlPHK/++hhP+/n7C0zEVWsioRTCoS02utyozDI/GEOmjXnR2qQLuMe7ZU+bHE7mIeLQnHNu713sqgw1Bx28DW3MRzpnJsUfbyqB30ccK+UKchk1cKiiYX2Q1FkIy5uFtT91NNc1d9VvAlrhEJz+YhALpsPouNazyNaYnoiNieEsVg79XL2BHmQ8+rBvoPk6O8lk9acBOQbS4ol+a1xcaSF3oa3q+mBjk6iMXqnq9FSKU2rbwS00Qi5KiavObmpc6oqUtioTHQCgmCKncxWMxAF1eGpsJOZJ4i6CXSN8n3ahVOse1l6pZ3CVVsjnx+pnoTqu7jEuqjElqmpnqenzaNLs1G175U/2hdm54ZfdwdKxoYGXhtGyzEj8NHQ9aHhiIth7Cpvlu2lihovKsXxJJpDOqQ+HLwVf7lqeee6TPXeFf4m/NCJvOFat1eOl3IGzelXD3GpwSPJYz+NzylDs584Ue4QdOlUbP4T/dGjToS+nd6kRkFxUsmIhuyzwN0Wz/VyrSzAEqDcBrgbwa4PQ5RZVhHHGV//jFCCi3UgRTBHgFBAU4BaMFiQSlA20CsgGItKAWRBRPG4dXqv7Yg3wX8QjkC5grTobcRBWtFrmEEiNQ+RBGfgGMYYWBdl53IizfiTrk0QJoG64M2NkrVKY/v4VstQZM3vnoQNwTzfNJC0LC1ZejoYitxqm9dSPSkPytiHg7KI/NqZd0gR20suZzZpvZ1Kkhar3hgROwHq92UuV+WiTUr0NG0yljgZcK0K6Xg7asWeHFsOb5yfKo49ifWrKdN1jrP1moNt50JPWSH3PomZLJcMmQ8fgs/M1bK1torETacgZ20u+qaqV5BYT+0yKoKc+nSaBltEFXJIgIU4T0HWCuDnjg6DpiVkeJnCb9m8ESfCSzUUVr0WgLVnL/RUgWZmSFyxELWPBhrL7/fDs+ZifWVZgkLlGEETHlUdoRQbpRPucOVBrRYorIcB7jMpF9fyQlrOFmlwSEL+P45EaEBLJh4FXqgEDjHsLMIkPxigUgq+ECsQJJmcKs1m/JHweLmPi7QAp1cYAFPtViHEsK8jhwNs+FWjORZ0mUvXRYT03ix2InVLOIBX38CnMT36sNlOnUQxCt7R1O6dRlsj+iJT3j+byGQ2MtuZeEgZIxnmyvACJAYqLAYwP8CDBsbYWQiQqwEVIAywohNo68XI7Cne40p0rx6ywnAJtl0Z8LYYcMCyK3W3+khgizOrBPoIhPtrmeqP4I9T5DcKcUe8VRZwEXPkMV7OlE6nKGUYqtaleU9XwEgkUGVyOVSDtRFciBFhIbCyIRBXoyQGqE+HNlgZMGCQn3seKwCCF/llcp1lIjiyBIrAnGuOVmurjCXtCiPp51Kios0RL9O9r6AsGGnxRREefLtE8iWrskskMZAsiLr1KjLi9E9Fkwt6gpqs/eam+CdVBlIrHVDo8oJuUHsxOIeyYShqNC0xCCYYYoAl8EDORIEmMYLJoRh5l0LA80kOZsqIxj+LEYKMF4PUMm6OKjINLhJJxoxnZIwiisSKUYmH4WJBsKaap88Jacy/hcr8YYw6lOMPKfFOQSC59Ys1XyMVupF8a0e2WovHDqwrKrNx2f1kQCS0I2kMRelSF2AqxVgR3iBDvYRCFcAbOeDAFTbiMhFScCYMcuTZcFeD/T6WVh4o/CVmSwZOuRVvzISYUii1zx08OoKsj0kqItJysVBEaw2WQ47ujIlldWqwrTfSkejaG7oS24YtDxEOtNfsaT4b2t4PGMzUpEYST6ZVhgEKDJB0n6AknyHyCqLK+5Ev7hqCtfB2ea5BfUE6KtDjQOUWMOWyaSd2R3lf8FQxus2mIyG+MSOvBgzO9IdOCRyqtk7VkHZQc7yVRyCKcx9u6b0n2lbt3cFaSCzXlFVCVWnAJqoZnIfRSTt9/PDmNTH4NMO8DnqxNOADJJT2T2EkWuKz9WQ/DFQYTzoZY01WLKcCJRKBOpduGgklituPiTP4KrFSdq8KJLm3MJpI7c9nJOKQOyXZfoZwKtWlQ0k2TuhoqVyrzGyVjuUqjKPegWPI9xCJnAkXBiJdJYLK0dp+PzJQxxIkKcBwgJOqAJAL0Q40lpxr4e5JlEqR0JQ4bIG5bEKBb2BdO1nlW5CEsydiiDqJjYQ8m4BFJQV/gqHQB2r2gYF5++EpvwFTkjBeZSdlTbuYoqVGzMNBwtOWmboaiIySDpNq74XQ+uxNaC8supCIa8chAE5yN5BUoiwWo7U4F4lSHPRdfkIWvOYyTCOQmysDKO7DCXQjqs9n3/j4XMRM+cxf7HY2SSGN1JuqeG5rkarMj4R0fQQ/jyuXFovvGg1FYJ7S/ddCUdti4DUZ2nHwfJ3rVFRXAQVeXlDJfSEvIDCFAkoEqw0wm7YIQlQ+RWK8xkKYu6mFGdVy/V5wCwO0x6krJLJPOPbyX5bNsxW/wKdhwjIhZQg7Jocq72ar06epc6TxSTVRL7mbizIs88o8Kc0b2g0PXU95OmWmYiVvXJKiYvqan5J9c2dHT4fm9VNB0fyZYFcHsDe0hCqgvglLK1zPZbVE8xCMNIXFAWsQ+oYpLZgCubIDZIsmO5KW1xvbLwEDej2xaYfn+FwLRe+nCDBDHrgyoHeahFZOspxHcPCcs7D0eM3xGLzyXu5OVj8KxCQKh0GxSyDgDlXlN4+gEd9ATGQA2rC4JhF4AogkCCEpEZSlCBiJQ9kMVCVCFO/QdI0keSd3zyUYLpAVCYQUMcoEEjsyT6XkOS48J9AkhjqcyqbzFvtFWpn80cO1FVk5g0kktRWRjokb7mRMYhN36kkHoghgCWWwGEApmAdA3jfQxMqSH0mBdKlynFSaYNTKF09hq5jis/oySh8TSu+ael/FcakxTFcxXeBViabLdZ/N8nu2tVCSQ1DwOsCXkS/fwp4OJAf6jpqEIuljCdENo1bEp6foRIcjJ6LDc9Sro4iCGMwHATRTFLupVSuzF06ErHO4MwNTbrgBGmbZrJDUCUtzqalYzF+CWitHSywxImRO+lpLDRz8pp83NNGUXuKwZxiNr1D1SEsOCiYnk4Jyx6Zkh+avBC5LRQbD4qNgpPixLGsC/TLxGAI75e/ebw81hxB2cY7G/HYdj6utz8ipclnUJJOZ9qivEMqinuxJaTR6dYuwY71Dk000VUjHMlysPXmw8VWLmMJ1ny1o8w58OtrXNfto8VEnwrJEHN5MVFURjiNYF903H8EtOeZOnePKkG8bhdhm0yMVPxloGbj8N+oVSZZ7IKGoQ6AWe/enz+utbYkYV9YQyQ98cAjXXQTyFp3dOetohn4ay9zMES7USDxnFhvFrYJDktjxqBOgClnfjgcrgdQon49Alg5AzhFAB0Ae3ZCE+Y6J5kF+GARIZjCl6P10qG8zSrROLgzlgJRVZiryUF9r9L4hcTxdaGESJj/IECHssbS09X+kXWvUoE/YrPVdgWSBzaL6I+RW4iajtiJ1siTixkRNcoqoq7WJLfG2kHb15orv8FVYNbVKkLqhazzJaL6Z8k2zVSV42xFO+v6yjQeceWJTmwtsrDZlzb8ZZIivHUHshEVOXavVGvy8eUgDiYuKApvTI0lH1refiJKMIs/ekE26q502EPtVdZB3eOaBlXMuvHFr0jW4J7Ek8uktPRKKrWSZRvKEoiqnaXkZFdS73p1DKnViRhZNFzdUXmUiXXrAsblJGUrzNteuT5iYDkxmKU2aVK7yWy4RSxrtU0KvmoX8XFiqkDCneob4pjBZwu2tqzunStatVKkvkib/E1g7cy4vr3hWmar5WUzdXTECkrIZmtkq7i1XLH6XytaHBBHBvMi2hd72GNRQ+3WKk40X0041XHTz/ZDnurZ+dpJ2S8NuFZ1KMBl7Y6zrWks9RpZhvcn3IV2zXp98iyyLNT/G4xdnFBuKrRD0JjkRtEfQeiZiT7Xr4tJe8o0qi0jIk9AZigOTgTkFIzCIKVRL3kX8J7EmelcvY03UdkIQGoqlIp2rDrMsT1NikOkbzPIkydKlZI8WQFzswJGRFqEVp1YiTSiBGw2+Kujavo+lFSENGowVJlRREOkoksMKzSUOjkEBCfLnkJBi4rOEEoSJQ4H4ZcoiRMjHhqXOvz4jCQh+WXzqEVCGx5e6/aI6LkDfxueBKOmrCZTzXZdghHo2BiGQTmwIVHRXw37x1ynzEabAWnwWlgShEE4gHqn43rsJ7RasI6zGcxasYDN3WndlaQZyHqoxL0Wp7xyyP2+JHa/T0hadAhOB2iO6DOgTz2Hvin/A38VscBucBWocqAvC4LSAdiYMeCwLTQaigJwqGp0QkAzGx+SdO3GszaW7D6K7QjHH6bCidBmFDkYPSStF4RTwm1EAqoKNQwaiA49OE4TKrDJsowCqQ07Pohg2fEiDBsJMBxSREWIVblzTgUORtWYHBKDgrDSEsq2+NrNgmRmmkxAiLFi86VjRCNIVZRz8ozLisZI/XyVwgscljlUqRuFZBoIRwKyhaoJV3rAXmxDkt8KcVB3pijzgKgbhAEd//jlYM+jmgjiIdbQl+IzUsEq+BDYSzlfe5/K3wN19oUngelwjL4iV3kEZMCEkCnJeW4I5xKkGKheh7Y69Z7oWsZmwcqC9vsX6vsyXO5vNZGTsikiLSwxSKeL3i/LnI+LVSASjpSiurVCBu4vsiEFsSaKURejoQhIdhQdhcVuvpjayMo6ieYl2oiQaMIhoThh+bYMLQybmDacSeiLdRoXWMNiCJQ+m+hNOKnESRuOuldxdcgpIv6uFlrpuWQIzDcQL6yZKuUKhyFwOwcN1VaMgFrh4rZnBawGYbHsZEKyYKQsFsREP2yO7QEIaC1eXBiaHKFYNSQpg3HL4l1rX9TmTqhu+JSdsHOlBDyVuA/RGNtpDUjdxmaV+mCuy9rBYI/yV6uOToFpwJ/E5jEW6TO9vTVQIWBfkRDmxjirQGJgH4QH/zH9ai/JJj3Zr9YneN4BIY8VdU8Io4GjFlGokUeSkWvykJLREpfXoCSHRVWHxiCAFYFQjBwnTCAnGBJKykSJlDY0Th4VjIyWjpmNrnyAROz6oo0JIhB8uxYKLig0tCJmaEZYWRgmdiJeXSPF4SPRMuahI76g2GkSTdwPwIBaNF6yz1KQQxCQJSIQiJfxnbRxnmx2c0ZSHZ56V5tyg3zGw9w5KbUr5tcyW1oD6mF2fYrtQ2uRx31rExvq0Y5hXklF9F8pFuaWZGLHDqsfEvtBVVpNdNW5aemlRlhWUll+uy3DiwpXcytG2hDh7XfJWk924voyLgv/LNmbjwwO2pLrtzDS5fjuxNijiok7Ko13qg5hW2VS6yaGErBCO61WqI6pFZmBMwTl2ttBuMITFdCFs1J4uUDI5iZ7fX7ZQRghIhfmrkD8ap0I3DCpIAwN6dimrTJ2R2DpmUK0tY9EE1ErzjLTrWcDhZt74jFkUGLy4yi1BdLSIS1KamsBwUL8ZdeUrydBG7zSvT1kKGvOIlPKrU1zpn5BmYVnUuzEpGe9hHZWI6Uvp3NkOKMkutVUn/lHCa6vZDhoG3bXd33RCaXbE2sN9vENYMx/oIxLE9XvnSbTe0trw8SUQZug84mOa4vGX2e2RFXiOq7O9/NXIcTmjTT+1devT3xl+nHIVSQTbi4RbjaKiPngR77U3sSPUSCPLSFTAvrF1DRvlTF39UljrFYQlJ4XDWs6FZpG5RXNBDNi2nZP36RO/UPG1+Xq7VhTO5KXoNx8L7teYNxM7lj2qT3wlfkP5MlHiEhIG6jA+LRikOyL+LbAvDcelmkaU6pQZAnPSfCGHBfBKCpps8aw4k4kORimRhvWOyKsPR4pl+AII1eLUyh6JY4lBOY5SjnlqQ4NJwIcRP+8CcykWjOKBhiApikTFwYWesQRDLhmfnE+hjKYhCAp767TYCHXpHCCRXGuPJoReFnz1exXG5SOZPZHIzgqqRcsyiGj5d7GrvTVSkh3DWMAQje+7VkcKr+W/0cIJYCEE9urn05l5aRk14iiGgvI4MxPpHYg3CXd9B0gv6jwZxAgEkpNDAMorUa2FO0IxSO8SMclp9ntSNqZRCfhbgEqexdM0xSQQyOcDKMzFhsWlLIxsoOzxMKohRVMlT+4+DlPONQkic/EqpTk3Wo4QRLxZCwKhzQTpXvVq3qDUXuYWgI4rSVC4zpBEN4SjOpjAOq8XOrY7D3PMJKDVxbW4PuBYBtqf/4xQgpsE7/mf+H/+QAIwAB/4b/Xf9ytSd9XKIuf5FHnYZIZ4jed5OVyF/yYd5lFmVlaJUGv0O+W5O2RW2tfzJPkksKcseX/EYSntlo8aYtMm2Cn4SvlUrDM4/SWjZ5ZqcbLkfuGlomod2eXLMBXLTvUjQVdegc7bJW3XbBSIhGNBng5PbWTWRlWms4O6nTQ5s3oGY7YVDoUDw8Fy2m7u+xTIpMrUdX+PlREQJDtqQfYVnCMUoPzoNVou4Izv1WMRNl0uyA3GqRTLwTp6PGKaONhI0ES2bRLxj0yIz9lVX15vXX4+BGnN2IEkAyAAIoABiAA5gIyCCqGoBhERwZVorlZBEPgRB1YXM2dhUNNvqkEYw6C4UndzGFMnUXdRw5yHaeXge+O5FN1KlXwszGVELMpGwRd2l6u113XbqTkX+pBsee80dY40jc+3zhJGGYKKj7zzc/2S85SGCiF+aVur4BXKbXjqG8XWc2dCGL1ART3TJCpbPUtPQUJEO5bxsmmEVfVglqy0vjnyZjR/UZNJqhLvMN1nV0xmCGqoGDwUMThSc6QIjeQ5clDCXUHh05KPFSd6HahoS2YUkjsr9mfBYGk0VmLRdk+n9FGWC1Tyi2ci3Wn82FMweezOImZuWXXhgufeO5J4KaqFPBvWWSSSKJTklLY9hExRJeeWoYnVRVdyklEDOXvfcEhzJtYVNQ3nbdpH7fyrRs1q9avStJdqFIUJfT/NCyaoQEwztdLsoh+X5uc9qmW6EqyHbjvgao3Ii2r+MQGJVXFRsuchVIsc/wJ19sm5u8C5n4yCScgkaRkdSsm/anRk/EHTjrgkyD48BVL9E87WqkDtSUlGRWe0UVTzJy8iecrd1dj8p4yb2uVZ1rYYrWQtzcISnTbOUsdORCnVT6PmWQrcSrK0oLkcvIVZLLdRNzr7niy6pLNt8QeisIlMcsaaHp+ti7xtlT8WNTb2G0VJfws1a/lqVjagNXAdSCt9QkoyW5BKqh17sDZur8lU9naOxL8iAJLCnpJYOPlTKqN7m9t/k70CwSjIobhiL2SRsVu3ZuLKKyqsl0cr2qZHRDIWxITlhZ9IIx4Ixp4/QtiJIljl9Psn4b6FptPD00AgkZ82G45s+UTJ/mivP929JBL+CbPWQS2X5I1+53zewgbm0izN/JaRvLyCzVS7aeWLeoqCKum1OvHVzYshE9xkhglTBMWCPesQ0nCOF5o9qwoQkSjc/A3OKy9MnjsVDV/EKnD79ebJoraWu6E88/L5E/KOxEyrRIxAXUMdBRxq0nMaCwFuXJqeWuo18c121aiSoKZi7bsSn+T6sLCZ4cOA6kt8qn2G8VsTWEpoLMgnk09u627fcfSqJFTEMmU7PPakciQRZrrY2keuE8UXeKHypsYg1Mi+dhuCbWDWzI92NhJ2mTFsQttw71wxKC9o2+dE1BzmnQIJQdRB+TaQcjqttAJMhGtaZOzBp74kZGuzUXl+Jm9nNiZ8XxOm1Qx3BHuui40cTutuVfY6mUWugvZm/F20sKyk0kI0oJby6rFATJ3qDKLH1JVypQefNUYBwotzqy2nNrXV00gE+hvi2wqWahkf6rNcI9diJY6Hc60u5aFQOcgFo+KDHpWtT2y/nUfC07ftWzEvNU66euqHYvCYE3HsbmRCSxT9iLwpp2tckwb9+aKk76osMGbLpFR2bX3bc/t/gfjFmyQf6BW6AI5VuBYxAmtNOtC3sCwRqUW110x9Vr5SL0/l9NYx/gwPbuuNZGQVOoOi/lYfJSJ4RpFyJcWXCqlS/aRcPCWxXdba5DNbpRNxWE+y0943JFU9lVswlK+nXzOUlO/DXI1/E4UfBEXLR1a+6uPj9vI2wtt19oQyH6IlAdrrXZetxqNVvppBTShYKohUd5rX4gNPqQDuYh24DBg+N5qvV0IJB0svCstE3ZdL+X+t2zzmzSy83oxOvlb6OWrds9W2voMvXIQ5bGNQFe+PCvp+wqWYpT9Q9WgCdkk5nHZBO0i8DY3pnDVbl90UqKOUX5/1fcz2owWwcjNQFz4d2i93xVVkulUpWq+gmMaMQsg6q/JnVDCxDm/KSc8Cr7JFNO7kpGrAQ3URyzSsjCwX1HzywdCfpVQxcj2aWrqWy4n6tY894cFfUx9hVQeZRyuW+pjL2EohP5CXF65ZidQSDf2GQbQLLHet9SRkz9vpqSC75TpMw2NdSUXV4RSALyjrW7qL5Xz8mvsVfvcJ+tijQY9HMvS8ee9KpSH58dNkKgJ7EsJ2YlYNFVjzYA120sk/8/SlTpLncYzfWn226otaFOL6XXkxB7Iu9eKtMm/GDJqzRqXynkAr5AIKrxsZTpdJzSEPOgl1GYNxrk6tItLpa/KQmWmUTi7DUZs+gUXwLN04C/i13mPHP3GUq8P7EYj0d9lvEX2yKjtU7dIlKxN9cbxDqxx23AqR4LriiVtD3e+vG/90HoWei4NRfs05pzUNC90rF7L/8+PRTn2gKzpLUuOzptMjvZdxm9ZaBiVeUnKcwNrgyPjyv6f8FjGctnSuZGZq2n6OO3r1HYCYF9yQhJk3fX3o8M/J/iRUv1qPAjlUh7atwWxiaXVDHUh+ViCZbp0sKKbgfXJvmk5u4D9UVLour2duxBtNx6Aa79Yml5C0lgDvG9qfNRbAPW8wgoFerklW1AnT1ErtM1XMp/mRndXnnw+iCRmQjrFUjnkYv4miCELlWHeuWFcXRnRyNfIQTbWZaHd4Zb+RYj3DhmcRDbx88F0ziP2GsNeg8n8FDS+1hCJ23LZHwqJZt4gWyaLGos1c3UF00ZjvhDtGEhjzy2jCfROcnKrKXi6ryVD2WERHwCqchQx0AUhUUQgmcsVvl1x21MKEby6cAkbFK9crDGbm4XE5SuiBSUC9NUFor+6yoFCNrrN7McCs4P7ORwahqNjE4xofT9IR6fRZrOWaclDhXIFgxDuj9ojJOot0w7ZRIH59WmBqITYzAs5ye6l5iU2RhYSjmJXV4p1iX2DGK00rpDo5EoZzYJJcxkx6CuHNdEsmTJOh0Ur5trXnowBdoV3rWUWOAEWTSNTv5OO8zngqpcsnENLNJ6bqeEU4kignJOdMMd0roYkqA2JfWS3nuBGyFNsRFYwEWn4+/6R6ax5E1f+VlMeUUdReFOcQSBiS94sGTXhhKNUnCGnQjQHfgbZQltiPJdnJKEXDoMDlRjXXFIJRUrDYU7r2sbSpSdzEiKC+maHbxpy+C+RbhEMwdBFV2aLFtFwiFhlO8SoEIX2HEKACEgKoUOH7tmk7ieCLSndd79wXQyYiGKTwOCS1HKA3/yxeSAJevP9RvhRkZXIejdm2FbQmeppAtsByJibDgRYbcyFs3vciOp520ncFfXYJAxfUeTIKNUcWZcpHWG5pT7OJKpXzGslitwTG0gxK1N7V9fM0qTaoeE2rbv/m9KpF9x+hFIsoj5SQ4yFt8VFAdc8rJHmE5VLu2KzujXc5Tb7LxLcEpJKSN77v8hHlYamwsIZCbXh3jnY4fC+JafNq7UGjtaYvSHWhRlz03duEjpXY+hpSZGsUE92sulHTvMlxeY4PScsFf2nCt0Ya3LhWRyZeFAgyvh6VUrRKFYzQ90ArbpCtsrVKDUQVBUgz0yopJVglOdpE04ntTgZAyTiBkxwNirRJ0VF7ocs8BQEiBdzt/8wWUNCp8FapFQ5TWI6oE5gkKC87ZDAQcWSciCekQxLAvpcbPkIzGPZyJlrJ+QOUDETMZzY7Hr4HLwvzCf6r4hKY0hnya0oNeiMlWi8a2B8IWIfoDddv2k0nIwt6Zz/30UfYrluB33kSpQXvy8+VCsV5BOpMwRj1y5Zx5FxCZXozo+XWuyGM1hs9cCczO9V1wuRnnNSfRhK6i6taT8Fy769crUV0W/bY20uDrl0rCZGobOTifeZICZAIu2XlfFJQwPJ1kOUxksIFUGmpJSoPjgJD6UqSsKRJ2setRMYi6JFvl/eZXHBUWD5Iin4LlAgFBFoYO6iksQixOuzi4TllFRJpVPzodiA7FUKLRCSlJS2I2ghbK0TfJrRI2Rs4pC3WCFhjx9qmhL3jWbAL0QMYh2KTMRictWl6oNetMUxLt2lQItTLnjtCN0AcwH5GvDHk9XcVG3qiN4ISYRkkVWSeIfqAY4Dty9MVLI3zQ5oMOREIx9Xtt6RSOr8Y2da3ZXMWrWueyaIJCLwLl4bQC7IgRIHkaBhRTojkLcVMeNGKild8kUTBESjb11sXKnTrxkpSkApU2FpkZnTE86DAsPjI6GiQ4ISCaNQbtkspFOilpVsOya3DQmJjCkJqBYpExO0ckWKpgmnbSbeQmF4uSgsGYKgxFhOi1ROYSPJPsY9OfErtLqi/StEtVk0qh2IH99fJH3IhTI+lJfMVwr9hTUMYhDqpJ7RDMpbthmNBWEAMXg9KSoStlc8i+ozzbyfzRW5yuUBS3S3kbbtiuK2RnUlVwEuxi7j72X5t0b3oYoivZIQ/P0xTd7AwvPEp0v6wqQqN03pc9OHJx6oeSlCdc3OCEVErJMzLiN1fMvKBSZWyssTyI8nCZWDCBQ6lKvn3pc1fIJQkpLmCgkVPkWy5QWORtiTdPuEZhvBUopFWZZYkWcFzzodIxt2u4eljki5NMUmDr4QKmxI0ZT/TOWQR8CX4toQqmIkLzQSnhiglVTMFUkkSNevbu0963lwQigxNFM8reIR2Ccpnf8ytWBng3Qj+0vM17tqpfxFcNPfcd/P6fdPFvOV9N3tYQrD+pK/gzZojOw5ye28p7zXRelZreRHCb0sUczFNj1Al4VwsdDFw5wTYsMOFFjLSr6CKHBG2xPpjKoqQElNVWDDf6HgqtLkyJYo0aXli7qI7FkLJJ04wCjMmofIkAkUmkZEjFhGNnYJGI8VEniIwq6wi36z6onVQJGGGjhWOMyyhMSFmjqGxtU+QWFFCTfBKstxcHZ92qpIl5o/TY7I9mf2+MzHQpUIU3YgKSq/STHPWi6dPHyrr92VtJ/cM81an9rjipx9pX1BXeF/JrWX71frCv0lUvRHaJU7VPi3yrRwJkqylrERqBX0M+m/AjqJ3ApGAXlBzGvP5S9fjaIXgvNhS4b7ZrEOXePghEQ9FBSIP3mR81C5OaYqorZV38U1dFynZmrXNRBfAeM1jV9GORwvTMEmJml3KHqNsRki4QJrpaWonqFo7Zr2zFyTMyFQSI71tImxsTmS1wsXqGS5WnIWDylMKI9omte0iRNXMEGtLjoUFIpVK3tCV0CukTPHChcTu+KnTwfUCtsQUpFuZV/l38PvxZuo8kh82Iir1BZPBpNRj7R9+xfrWlFqP7gY8S7dR05l6Iu3CZef9nvpM3fCQ1tEG0bBJSL+O453EXatyOaPkK6cLb1RRKAhkJbnZ2kTjGcGVeuKNefcqVMxDzKK2gv/hvdlUyK9msIakntGKz+t/kG8F85EPYqKomEkQCW+JdbjJIxDEgumKHmlYeU0Mxl//jFCCq5UP+4/6//uP+3/7H/rf+F/8j/p7UwVjSIuDz5eGEBMBz4eKxEf4qw07FmLUX6DLcIyrao4Hv4nadroQyVbT7C0icRicXQyyilRTt6VJzG5VbsqYmOVnxHSH6e+oBiMiuhfCUlkimkaitEQhoY6xEpvGleNSUSM7pUKE6wkE6w7KiAlEqapLk8gDUupx4RSdDbvZmsGxAhGB3ZOOEepyYiY2Ft4XPJam7C5am1CJ53ZCSFbBUt0+HrVaQUxmay0KJuZ0ptHC+0Rw8ikkw2d8qvDQMevhFPN3WRCEQ0w37KBJHMIB73X83wYTgE0iBHnVKGV1rLNw37sLLRCSQAknquEU4GHsG332BbJX9dlPg2zR5PxXJ4yu1/gK5xWkN53lg8ugy3exFv3DrEsSdAgC9nyQO/2jCReSJWLaT8OoDZwqGhp43sTpkELlkQpf2u76xCf6OoaiRm5aFhKzHTEJD7Vl2xf9k0jCpEEsWJ7LVEJFBTaa1t8R2b1lMQY0Ct/qzaQEGgpvqyJhlIH2Ymybi1UEccQsTYWiB/kRaujOk0poQSoz0d/YfM+0jGI1Uw6GCVR8jkTreqq6RwFM5W1wlY9zSmbX4ltlUKFvd762fbW/4bJT2ehvvMWm8S/A8yMqyNEY01dW3ZTisdOISoqhlta+OtKVBCnAbbuNFoE+STxRJNCzOQcJTJsi3oUPYkZd5k86YuVbZWCNTzvsOEt2UaLkRK5L4Kt4ff3ZO+hkewJE+Cv2fQh+V6E7Ewl+V0KHFtYLL+tGEN/bjJ/D8vU5L1lNwl/u2fiNnntkSNZGHR754DF1D4qsqtD9DCsBS33UYhB/0EaYVkU41aQQ6cRiq+LZ5XCRSiKqJYcsWYkOShnI1qNuZEcu+zDoNQK/arF13uEHDdDyjPOWmExvqMIz/kkRVRMjVmsxqqpMyhHR2BHVqn2G2pCBhQ2hoyaYloCzj+NfcXckbCwplEvn5H6CXhfl1qH0PGbhJ2UiL/DJghBecF8tTXcI5B4QqRN5etm6mZIwpwlt6MhyXBIZoDvggQYV9O14HZsgmgbc/0T38XEODDnMrk3LKGMHzPsTPmRPnsIlKyLas2bmM5T2LNwQUkTbomPYdtVyZFVtSoG/FyMXntM4KTOL1pDN2ZIwcMuCH/NdPbv7XrRCgKCCuER0uaZl3jJk+GpNEr+9RTOyg9LXgw1UGkwhUsn13JlQpwKFblXbRTADMf8gTmaignIU6MtbIm+VM1RE+XEGREK2Ig6YCCytGboXbxpuA/1ds7xtUEM2jUSfSYieyPCHVPX4x3fsvYgyVyCnZVcQT29xWMbOOLXMIIBZduMxUlNCA/WgbIJFXaUcuk/QeaTdpb4CdWscvd2tNLbJsbNCI0eLwe2lqOlakwY/qLeFX3AjStVTnaPd9DtlO89RUyjAKvFHp4gaatXWx0esljECukg904q4gGpp2lW3IbSl1+sRPWKQLjReTMrlwC3VGZ6n8RYODHQOr/6pcj76E5TtCz45VtLvF4dl0W6fxks37aVvEGiik5prXBp+VSB2aDNhr6uajWk0VSm202TUMTNuvswVxWXI15kZQFrnUTMVWiCJ1WsC9ev3lf76JBhF6Td+4pjplRj/ceRmKqU9EwtGvcnMsa/7Em2U7fmlslk9RrpGMpGQjWnwMTsheZDRI86NSN7LOVvjDo3/IRk+m6XT0bS7RDLwCa0jSer1vxF8ZM8KRKoSDm7oOlMjFeGt/4jNxB/Ypwh1Qz/yYGH1V2iVW2hDwjW5i2BWpgWV8DUqokS92m6RsWWzMzllTxf/i1VxJ/p/cMKkq0XbG6kObPNu22dAd/NGJfESKnmtXfHVN2NHSs760akpbNN1bmxpXrgOJX0iVOk1dXKGJZItE8PV2TASvCUTcCK60M6FKmHEP5Y+CuXxlXQJOv0LDkIiYvX3NwuCWpSnOtzGBXeqOOJFNOqm+6XXlcO51lcO2bBf8I3m1Km6rhsix6NLbgtV2im0GdT0CAIZLLNobLlCFlR4hia0EkoyxSnTnzTks62S51vwlabr0RiMi2FBlQcT1GybIyfvMnQ+6ZhPl/ApwzFo39MHK4NF/wh0pI5M7IjtdyB9/9ytJ6OQ0YiyDIbbUYyHkGYqiQjqkrrkxPf0j6k1NME623ISgGT2ejTjeUdH8ENONJCYzc0sqdZszF7XfwpQxUpHGa8KpxcsmMEWT38aW9REOyP7BWJQCZ0Yk2OD5hY5kCib/veXOisDCfTTh1uI7wi18nnw0jBVpFxNOkZ4+ctRbdYl4FUv0Wndl9+5i9NJIXWUB9Zl4o4jVi1QzpiJPkLFg8ViL5MhqW1+6bk9OPtaWwPoGFEALSUqX+NLHIdNrtn9RvBtwszPt8sJOhXS8EXRKmvQZZSz0bNfZF0aNp1e6oIV5e2mWioYuY5AQkYIwAnqFFeSe1IS/EujLIL7eWCinVPIIH9tuTTkrsvbvIiu12OOZDhDnm6YVHH+0MrUF+D2hTA6ojRSRFvsd/IRmuZZ52Q1S3JWTuEbSmKXknLEe+7vLjUIk1qvpdDiChniuplE3WugM3qbrE8AwkKRGz5wxLBDdhKmnUZJ/dl1PRQfcVoTuZeqnE4Q+bNfdMyTXMP7yxNMvHiqKz462zahwKX1VivbJehhrFKiAu611NJqkD2lwqlYh6r9aE19Xev4yVcVuVgxDmJmgNQ+OYurHlmshAyeJ2giZ1mdXRZEJkHTiknj7dPKvmBRrVNOzyt6wi5HvibCGry/lF1tHRV3SFcJZFhFea5C4FqK3wtEKD6Y56CIe+LLF+jMNLOphH0kt2Yn4sqDJqXkMJYoJjaygZrBJZudET7XIQHnEZMyZDdOhG9l+WhTjCmoKiTfFoJ4dYmF4jlRdIzJWegimihK9QM5GozUkIzekUz1ROWSVUQbo/rmQm3ezOzRSaHJ6DQhNzyhjmAjSScJHeKHWeG7zJM9NS6bCES6DXp9xpMy64JbyvJu5LFUiFVMjB4IyMwnU9qvNlkG95SliDUzeaiMkmec23X5SxePCwXsR+qlMlDDFpoKbx3tXEvTHh62vsECx8ea+fNesOONPbfOf27f2kZp45LFlqH7w5Wqvbn37UND3zDbRYbzKuxOOTlrIyZEMIpzBABFGwJ5YPiJ0/UAOyNmi7FuGjz8VykfImabvGcFA+lV26HA73kSRVyX5V8dq8Ez4BYsqpcAV8cHiIrry9dTMfjbExT6a79kCGK0cQbb8KgsldkdSWpUhThKDLCQCdfiWg3YBTzQjit2IsHIIch0MHXEBCvitsWthUAyAGOZpZE3ENH7U2JLUZInieW41ou5mQRk9u58iPGQc7Bq+Me4qSwpNifCZOkfL2Y7ywHAzLPSbovrpNarbAIyhhQkYMo/hyoU+br/ZJcqiJNijqcGPkLobX2p1x3bL0OgYQuX2/TKflXqo+7xGCZUB6aVKTj3aY7VUhZlPWx3rm97zHg2CdFGC1sYmWttI02iv4jGuPCoLGdsl+iWrIk7ZfCPMAwkVmC62c4ngZAAnhCxKuBjPTWbju1hxiB9GGEEIfEWrTSvAPlCBr4q64RCpNrM106u1a5Li8TiWgor+2f9SorRBitMGR7VNYUmuRsCLtS5LHdRk/KdiVs3JCxlWvUf1k3UWf2GAptTho1iBG27ix09lN9XCxen0HTIUvXgFkkJ2e4b8HgPo8FRpa5mP05JUCgF1IZ8u40oo9j7GOOW8jKAZS0nbb6XAv5ny/ph0m+L3phC2pf1EDlqc8S7FsKU9RewLvBUMlXdVpJgbYWyePsJ0uM8YRFyR1k2ab2DXSqd8Jw35S3uEZvTkxFJMecFfnjXeWz/ej1vFSBJkxyN4ormubLvZuSHN28zSP/tfoIwobcrihFAl8Lyv5HSDPwM3A1s9lXjnLaF1bSN1CCa1UupJ5GkJuy71bZrAoHqTgGJLopIw0R27f87IO8pUg1IZTb1cq1ibNEiC/6v7/Z6+9aHl9LuqefaC3OzCEN6w3vNLtWMWYWc+pXEk8Vq3LBF4OrcCPmWtho4Iq8MTF8q6+52S7v9QFN/9Wkj7ET6eYtXCZr7e+J3UWqBNy3nmlNkDxar9+z4OX3PHdTi5AEExAoyB9IQJImJJmoCRnbUbCMJTFxhkHMS8sZHUqMU7MHHh8o1IwbSOoSeFGiAzWoLMQkycUtrKkayTikrqVdQe9s2v3KEE5rShnW8ZuJ5JzWl48A7hjSl5fgGgkScLTlvY1qiHqSt8iaqJkQkoLja+57jV1E0QFEhG3QJfErYYDPwLPe0M8l6iTULBPIsHRTwnRUd2/S4ZNELNirX27OFuZrlqBdJYOv9BBAyiyZSlb1tu2IEQYkEmGek4TQmncqSmrPr81aUIkWV4UJw7m2QpI+Rc0PwRW2tPyjF4gTqDUTAQIiewWbMQ3c/l1o9jGlXEnlEpSp7IKkQcVvLwoKEqcfnOZKMzamQRIhw5EK50XYDKcg0SpHe0EZF5PxoCyiSEfctSMat42bELOoScLi3DglcTUkQZhqyNvQcKBMJ7YPMM+emt15oxdYI9aMrO6Fh9IsUnL7ytvrpNsyfOR6XJFFzIjlg0Ka+3XLf10fuLTqiGLVn2YqwRHsnZWVUzGtU8q3GHXhKChkhTjhjlk9XMnqNU+NwQKCfxwIMYKmnQbX4Qol+LqGiUovvF7Jb5AOCqahiZY8Oy3+M5mrNAPlrmjSHPjorcUG7fLecSTSuOUBlOy9pXF2QchhnUIZVARpPkTK0fZVyaCXOgSqFUkSwPcBqwB1S0gAgh0gp4OvAl3FHOYg+KPe9sGHWxpey2Snp2ovFLtdGLGQ2TGsOWrzmwUWl2Dtl1U6flL81OtOPxiKuVqfoTR9oae6VSTLCUJaFqsi4VBplYe8DrgpoCMBjjKgGt7Orys+JLw9LkQqeARrIxx7E5FjLwm2oUX3jbyEQTaDD8GwqPZqUYVy4VBU/o+t7P2XCMDFl+oXcczQE42T3TR5iLWoWqRGssB0wNKcMAGgKIB2wJi+VQLXZW9Qs9DOi6xf1UzXps0/ZKM/0yQdFz6pWHoOcSkJbQMtN9F68bIryxPg53J1JGp0tYrQm2upjZfrgCgPEpBnjKSJ2h1nzB4WVAGCEOApIPOL8aAqqopjzeNoD9tWWbpVWApajPyKNiYioyjljfMFoGEFZCQz4dbfr/mc0uDjmJSKCnUTt17NxE/ThehVvUlHCe6+CxCwIHOhFjxB/QIWFWAHmc0AdvLhGMkPqJynXGco2oamiGwtpnaDd4AqSH93d/A6picQHwQ4GdP25jNUEr9/TzYFXKGny4Soh9hSJvoHatVAUsSjvWRxCNRiwL09Rdx64qB+lcBiQ9YjA/ggYcGFZpEtiKyakcYxQ6IyMwaKXKT5UZz1Fb0V2YBHrYO2LCgguDGiSyguz6QwxUpUJYZQYYOt+AzpNRyAkEyiW0wDCExJX5tDYVRkpcoA4CUCrLMqhJCVJc5jkI/lfNsRRDMkh65nQ2/vwdFsfIsWqXVEEOOlakU1h4k65EXS+glfEc20INSiIh1UiVUdGw3mxoFkObiwgexyOIKBrcwsBvbC3jBZf2+LpUYvoRzFTKusINaUn/ltQzn267u4eYTrx648Kb3Pv1O1Z9a+X7OMtv/qSOUGkwScbKmbmYLoQKGxEiRmHwvzvII+hRNs2t4FegB/4QZxJdUmQtMTKgnYyf2RjK05B7VV4R213W2mq6T1v7vKmJOujMCy+VW0xM9Zwn778KI0CbWOpd7o6SP199E2WVPiwQ73J8njoEerWvwOSXYVHPu1UUHIMhpd2mpIte5g/jzdqjcInujSWP/N1XNKROp7X5oapKv3VC4Ht2rQOPz3HyKkwb9Z6cWvdeyp/pSMYuiUdTDOEWBfkaLVXF13S8Iqy/4ynlNp4BAZCVo2q3q5/VzZKC8a2Z3I/ve9BvTcwqYpfVs70fLcJ/3UlmNXi0SsECQDsWy0dy/aRcORqGwWBUGuW5FiBN8WYpmC8NCWJZCBxVUp65ixMGp5fmtYHOU++u7GL9FFgs+OGvbYYZ53y1rflyUZWI3hYpYiFNxhu9lW3QgrpaEU40cLa0NwQCjCOD+hjCGcWgUw/tZ8tb0egYKLFUr2E2Bfm+GocINWOvWfmf9Z4NkucU+7dqg3xc1TPTbLKEpemRfbHLcu9mbgoX9jdhYWs9Te3Q3OR7OB/IYVRVDIdw3CmJ3Fpi4EGsb+URRbCXG+64VALsqaQp7fYESV2GrzfEfl6Iaok7swTBQzrKtbvGTwyV9xS1p/EayTI+50kO+ibTCnhaWJ8CGjj8DIVg0A3BRdBI5InrAMHWclqFJOBnyQhBeiP0phm5iNem5Z/5Ct9REKFuj6tUpWcz63Lz6x776xrvZPeqAd3MlrKgNJsKYthJOwmhUOATgQwyBDBFApFLunQfgtXn+SgMAMYQpFuQqggWDXaGuvKSuQkPcj31OgKfPjWmnf3C3hnyCCiinVw5ewRUO4Skhlw4r3CE5ouwWjOKIT1WOgXjeNw3A2AtDDJEcSiEPipv+OR7CPTel2BMmfOQiNksfA+GiJ/zUa1GiJFu1rLJl6+h5tm7iRrypn3qm32LrTKCpCVTDiU6CK6YRAuOlFCsUjwc3jAL5cke9k8Hfq8tq9GIMsz2pbhpv++L1M0ObD2hAnaR9yzQxxa9qpd5CrXpfbtJQJFL5PiLEVCXmummX0gz1cS3CSxBXppBOKNvDuNB9HAFAYi9oy+TR78OhfMQVRgnSW2sP9cuh3wKmlZZWJ1plbyU46xA5FU+yxUlmqYn8K/tZx18ovOr7ZSqcWcoXoc1iKwjA2iX/+MUIK74SA9YV3kaWjnmY5JqrezKP0DRPfGFiGmGi6VPKIkNEOcgCJC7RRobfsUAjlkwEwlbYSTFEyqBSP802Q2m7VpRn2Lib61FcQmliJAkK5EuIS2UWl15nsVmXaN7i6ItIPpYg+RZ2/uCPDxRr9cMgOsEGousI/hQCURFcZA3s5bTmC1K4X8+JSHZf73Imb/IFE5yppWEdVxnN53pGSiUdRNJ6U6nk7O7esGJ8aCSML3PseZUxI6w6yJTZOz67BGkrQsFXonoaUgVAjEx1MDLuPpN7qe2EDm5kM0WpB1+lIL1aEBKmsQUw7v6sIBBMwmJ4gjAs+BqSfUTmo6thnn+d77yQUY18gZ5Eo4JMPWmQJQ5O6hikgSGZ3USHZj+Uhsy0jfsbp3cZRccM6s30a1lxOmQUE72FhxRCGJDqlH49ssgiwQteTHUmkJBP0UZi5gdYc6lQoe+twhhhzy6LpVjEXKUeBWT7yOJN8qqzZy6pYWrnp9esh3MnvJbrgWRCLgooj04JMkNSWbC8pt7QbyU87hdXykfzp62aYLjC1FTYuUNewRoSr1UpCxid2ahlJpOZpiGsiZNbeug9knZSm68uq/Ep4zKskKae5nppRpAILiTXR1LaYqkcrvbCQjQmMpeeE3ctNtrkOsrUC+xu9y5FGIV2o2CUMDSoZaKyXEcsrWorr9BaMojIFZ8V4isrOwoiai6AniilqEtuTi8vZRJzmipRrK6Ewm1PUzkSX+m59KH+BQ2dI7wYcFcNEN1hidUFsiRDvqEyu2fTJapR5bpPp5ZbJIqnoZ1bEK4dC9Gepu/2CwXqAV/+bCyRfRZhDKf4cAh1ozcrWDxX+RpN0GPY9bK4WU6tXlyMpDN6jWXLa2s9aRJ/kd4riPytSuBD6XD5RI4+jl9R/EoRG6DGUC+TLgTGKgPwIYE7PSJIDbYsIOSAGi7QVlWQ0QmAxYtZRD/MiZHKCLaQW8I3BQ2BBAZUDVnMCJC8yd3SRymfC9zW3YF7WOUjBbkPMUDx6jmlTJ0fzwdrnJRbyeg5NrF2qtSgvqaWa5mW80QQOUyD4KcATeB/i68zPeGD2gElBCbXwE0HXnKwu54UcFfp22r0y5AslMRWhGtg9GupZ56ZnzKCVbnljGbOQfqSZFWylL0Xx1QvcZ5QKe4faJ3+ITSmlIXSZWuFxHLZrkjoXDOiFR+Qqz5C9WrV2ii2jtSxquXeP+Q+B9IHXT0iNukhVo/aYPXqhEJGhPd3knaaxldf7OsJ7JfaBEkorN8FQmDMvhRs2TslwBUVoZ3x+GV5NmtIVkNdkYoDm6ZLAUdwbeXEXllQxFoxyAo0m7kWuh7wwFHoZ0Jr6ivrQLoB2fkA96RgW298B10DAN1DEmns42QZmghKT8Zw13Dp2NdJMy4I3goV9BLJ3uoeI68UVW3ARNvLFQnMK8BNAOXai/Yn5twEc9oCnipUMscEHkyDfAGF4oBcUsB29Q23aFgkGxRnVFLgl8YvNB/w7cPuBdmg+UsrEdmiT3Lkh7Qm3y+nmEtLLV6x653jH9TSQ7NSJGR0+fxs5ZmjMYfkYw5QCXNc089oOcKjzojW8GdmyR+MsSXgnHYLpxKvI6lx+ITnUVF3Hc1mRSxxACH9AA1Jg+YQUzSuG9pRue+fZDBIDVQFpQglrfuIWaHFSMowpEH2OPpVE724OYJC5rIXhK5HQHN2lllJnJbx/2RCuLiyc7GyNk1d2d1MomEWMnCld0mURZPTCM6VVUrCkNxQoh3uwF7fJbuG4Svvedxs5qCEWJyVXHxETtAtRd3NEuclKJL6qmEZhQ6gHSqKsVxSkghz0bViUF+jFJqs6s6gme5lWmam04D5arnTFrzENxuzEy4eR/NTzT8+wWGFN9ysZBFBw+z7QibyeP88l8jH13GJYPuh2DBkOEHZujNj7VLX3DM6iDq0u6WvGbJmZ1OX6m1SAY/B0yTWRD5A4K8EYuPD/NHrBOLcGp6/pNFBpeicJyjq8iAe07KIfkqfakdap+6kyxDu1W2U8HGamhVQSvxpuZsebDaciRd/8qSEE5Yplyo5c9Ig5w5ACWwrtqzYRdfuvhMKjicncyxvkwJdFPPJnLtY2grWxSSfCp9mBct5WAVL/XZHCNsN6lrYVIg8YNDU7JiJ671TAm5eYc1HoKIgoh/54UE/mFB3iuEdkIc36PMD1Bs6hwTV4GiVIofVtvOrbYLGmgmHQqf0U2co5GpkmXKPZm0RN5M7GIXLIHCMp+DDxRE+5JSucyS94e2cJEf8r3lFalqFwmrW4PxBIPbei232EmsbHxI89Tj0C0aVwXi6/8kXpa4oECgdzJGQqHJYC+3q4rmGh7OLRhmy3My5lvxTSsKxWciGfQVa94f8ZmvXrpiwY+Efxyi44Ikq8U4N0WzE98bsmdFUnyylRkisQ0t6Z1Byo79Edpo1eJPX8fOH/Z7cVfxCngjRu0/jFaFzw53zAgUgbmivcevkNEXZd2Jemyuc2L8VuUkenM+SVG88KRhr6RTPodIR+sL0YPFpmCcVl6+wXB9qmaWsP3LjiwPpG3zCX9yW9AOx2gB5xIIH9hujUgf+BPmph9YMkBs4o4IcASLOwqYXID4WVhLXwMLOHLEJyLbf+asTwEY3QiBUSIy5zvLKTbwrrkF2PW16aQZ2TJqMv0VdlyqPXZlXX+WpiX/6TmwEvqHXppqiKe7KWbwyWl325D0bXslmfqqnyjEE6RfjRU9agl+hc6tiKFep8mmF50k2VPL/rVvjqe0PYoXK/TK6YrAFvQHLEywrT0sIBTFE0uzy6NN75Jok5sUwQ4uiB6KiUTPSZ2aTLe4RUG/xoc5BmAKsQ0SiWIu1cUptb+opUyeH9KAJEC8F8A9wtor/dUy3VScjCHmcRqioUev03wzCjLUK4/UZbS6DYXcJUiHMEeQU9qw7QEjmigONETXmnWJ60i+PVWIZorG6ZH7lNVmZs0o6T8xVCRl2+fZrN+veX7O/7krZ803KhwBgnZPqFXNFzSu65zYIQJm6iz6Rpv9BrOFU4EZOE+cDJeZZLnwSRy5gsDBnYhRnd7pvAlxFBV5jc8ZudrvNdIHeU6CmDfHoRafORW8Ms6CHUzRJjqdrJJI7A6SumZQjj1aVXhxrWSb/C2Nvp3ImiXSXbrensn1xE9w3GfjcbK2j3JCTkdiTlZOZSGXuvZ1b+U7PE8cLCysvcbau3FKpKnBm2B50KGufBfrZgFuluRP51Bu1UvolQ+4silfdoDNm7bfS0Ndev1t/HqixQOeY/JrlWIvFfS9vF6UaRx2xZoK9QuUksJrz1xNq7rfsUXyR24Cbbn2n9ibYTzsFMlVG2pP9kOqiMNSditQC3SGUldZP9HqrkvxtppZVPy3V5OO7dvPLkPAGfIerpRZlZ/u8pO1wfUHKfC7LuUSsSxnBWV3v5sRUts2E2fkhaF+w8P8DUg6yoz6yo1tJMU1ESCHqlEUUBppCEXaLhUJeqngITz/n9tDovm0nME4y4CM3lZpy1ESkSyc/oAoEXxqIbMmGlDE5JMoBRAJwAHKuAFu5b43ITo8IfIcI/a29z7XE8mk13qaX3OZsqeW5I+zAelsiSXdZ+tzZUVfGrjA/rFX9fN5ur1+IJcrXUF7z3hB7hPPByw9YcZU6m00xFNOKoqQ1yNO/s0B1I+5xMIKebNeBMG3bWqstW65EgN+Vz25lAs3ybUa9OJyNdxCLRnaT5+V5e25a4lg2Xjk+lEnDOY8ZTDQ6jXHYWlDmi6QnqWKAhmYH5xKf3QUFjsFSY15P9iO9EAjteWFx6NygT21WZFesnVGTiokUmHfOqkq4TcAYWDOJG7YKDgMBKwW2tmF1WIQq4PnGLBhgOHmIoY0k4oqOIm9em68eBBQX/pikvKoLKUN0J5+aUC+KpFh65lLc9CZFKvG4lDWYd/9tOpylXj2yURPr6YJVUmP+lRlpQT9qf9wovV/6luMCzH90gW72W0ifv1wpe//d3hMVfBx3uxx0qPnApKWZ/saTXtPFMNbxCm0Ve4XCHZXr49Jyjkku4/1T4Fp4bUPDxNesU6sjPCk0U4q885Sj/HSEjKi0yQBGdtwqYYjypXCzHa4PLTKH8DIXZFs3mTLvGIdRAkxDUWfOMInFsYtkmb+mqUkU40HF0Qdd9sP9GME0YAxpAU9w/LrJyOYfpWyy4tDyG/WvexRkcr9rXO1uziUGpy4I8qFo1q0waMsHslEdQ2VTyi4oWKnrMsRZEnelCCsuUGVQpnEc7SCTT4812/Nk4ISVE8Ocoj/WQYbp2YyoPmXbIy6Uud9yqgycgiJvFM8/Kl2eP8UhwOP1KASPM0GYRiopnuwFup4RCf0fgfkpShAm5Zd3QaFAmVO0Fkjl9G1FVGu81V25w7ext45p5C9Ll9lPRkKqJCuRS+MqO4qx3Pa0ljv/K54E8cFGduQpE+6Yy2tkF75DR1Op2Rr1EREG89r6QqU9ToJgYjG6uL7aZEvmnL3R+SJZJ11t/ZnXkFfESrDtpg4EQ9Kxia39EL57cu26ropOtHUvSus3nQvfJcmD1k9zT86mP7RTF0MRDU9StIWpNiNvtBaepDnfKKMWbXJlWqfj0i1mynTuSgcZG+2Ad3phFQnj617WdTnAmUdTOyGekU6XU/vlNnX7UNmWasibhDrSFcXtTriyf0V1W/AXWe2LaeXb3KFolGKWAO9ismQSr9K1oyz720fFkFZDgSzOts6ZQ0SUFBt7xsaqhZjmv37e3qDTOTgXUnLRVtRrqgXisRlfxax3d29uXCWiXIoCPGC/4Eb4sTHTZ40+ulzVNuHS6DZMZYJxCG0ZGkQCIJh4DjPDE3pl1VEf/7z2KdX8NLe4MtQ0K3/I5BZzsfHtCUhKM4wCs9v3AZiKXCcxhehSme5wnxMxz5O9IyC9ECYLFlO2kwCkdgghAMBPVR7JbKZRqaU65NAr8v4bJzyk86ZqcRMWZdTMUV8tHIMRPPwVFEhPBeNSYbBQE4oGlICJAdYFvAiBBvy6OEad6NKULMEei4lMm7zCMIwmusTrQiefQqSVTR0lGtNVoSGtjNZXkd/PMegNb36c+PL0HcINQk6cpFEEXy9ST3N4tSjVrJIRW6ZfEdChhneH8SXvLGW7JS7PPXcYHfo4tyOc76Fw6GCapXMUpwjD1Tq2ItCNvHOiWlFd1D1dcX63tN1Dv/FwcFUZBq4lDZN4sy6fTEPcdpuoFWLdCrtWEcSsHZBAYu6QjuvjRijndRvSnpJ7Y2QJs2yTLsT7OP4cZjucXgIMkCF5xBsqQO00NYUpu9/JWalA4fx3txewqlfTBAECUIQorzELYsz3EmbK5IxQpiyCHVeuhJwNCFrjiLlj5q+hEysvSYF44iwh8C1MlWm4RTlC/BFHMLkKxvr70ctxNXn/um7RvO7Lfm1bvzfNS8rccTlEaRBAidDBHSS5EGycIxT9QzyaUHN+SxWvaN6AzIDurTrnFUP9hfQ8pAyrszSHgKQFM+njaxqtsHcBbjTEuK5plpw9gxK/JgY8aV6TEiBu+kvdv+be9sbrT+ITwiyTEYPUUh+HQUAlgwBHIXheg3mr59Yz77gXsA7op7gGrpenBswKaUXU0XgEsKUIgvTFtwIYRgGIAmShIUYbBY+toqkjzNeLmZkQ8Ylc2ZOKs8HurclriqqLs8zlSgjXkvFEK0qBQjGFgXddtcbhaNWT8k/I6UNtBiosVkWjeHjZeo01ld48wly5F/PMjbW+UJUI2NQEUblb+qeZdGA4ykbbFgk9tfJ7c/kFtGOsnperZ/vm+WbdRxC8qghUrI7xsWYekxzdkAbLSPLJA3+jCG0H/FxoERn/qb76cqtKJP1PxkVFDMImzQmJJGw+0zwmA/g3j1MFgFfGDQxsNxRMgcisoF98G0+ml2Msh9+0pUp2reCVtaGrbMmwrYzJRn1RJ+S5mHS5h9i+BV6V7ny2M6jCtQQGR3tlrZY18RqIDwmWFNUw0hxiIs/tZOBQx+huyAsxoZFX+Q5e98zHoKJyU22/OzFN+VqtUzbFEwrZs+qwT5TStkcIyJOft0F5XowZA20b7Tmpzh9sKK1m6b2xgsE3POUiTdEBvZgq85sjqtmYPUQ9KFUxA3YwQ857U41DsmBSPXcSuhMEYcJ+GvH7r6FEXIq6p3eNbGLewtjFH2usbFSK4FIG4pti+VWXy9W1XcXfl9J3H8TGU3A3IuPDarrcY57Kkj098nHEECNlGZWhaVF0NMTjbVnNRXsuLYlYriCvSXtabHV+LZpWtnBxMnIlrF4wUayyXTRtkzbCe7S1+fE5qxznLQFY9FUdlBIjVESK7BOdVoFnuHM4TzZ3t6MxayApsbDDRUXL4eaGjt9WEVPmyGEEIELnXvKNQ5OilfXlVRK+Zg6k6IFcbygZapOUmL3YXm8JiUCUFyqTmBJLGq2bDKN/8ux6YjhbNJZGcZzmT1K/tWWnlK3dF5mJSMyKkzpinLLnlOCERRlUWOttjOOv87srIoDBjklpNPAvflZkVmNUKthRJEBiJaHp6oJLf+/1zXR983biDKS1izAuyUBCYNWvpSV40bEjS0dJIqGzZZ+QllFUtYGgmE5DzoWQbuxmuTVLPL2SihZ/6+vHtDvOq57ke/aUoJ7hs5IHNIrJ+7hl3bmORLU23lY7dyal87qhyr9P+L2sXhWVkx0QiYSRoFaLOhzBtiiQj9DUmFj/pK0+eUaPgXCdhkEnDJGQD1Lp/lWhDcPXJnaSIbRqaq6KPMFWMHY6ComXEjNErixfQozcdmKV3uTlOQ9I1mBDLULoiKIRF0BlAfOH3M+cz0pXEJKtGpKJXX4tZi9K+BRI//jFCCyrTP8d/zT/RP9Y/03/YP+KtTjU5TClMiFWKozwzV6URSeSYKotEMpK60n3v9nG+4bqSzuvM3scYUcp7cgnpx1sCmkScsqvnx53o3mI6nA2twj5v+es+tmCS+BRKgouSrr+lVYWVqeiNtD9hakVA0s3tGOJ4KKQ3yF1Fdg1noY34qyJRLJWWqi7P0J46pG38jaJZodTEaStMSwFWk8z5JMPQfGNJQzQEBRdBsBQfXEK0VWlW3pEcDaBYuiR7EGJUOCrwFxLgHzmlAN9ANoAQeAUUGEi/B4JmAm95FCK4U8Zi5o583JNKsp+K3GWCRRkA0t91VQ9pnGnMoHVAhwdsLwExKErj+sk8rraGKEGM3fEstP8vyY+7yupX5leKv5s475lnfKhz8qlSlkGWVGpCsZSikvc6Zbi+kyLuwSgpRWdkisthkRi++y907gwrCyfZWGJZvHJ76KLJclt5p1aFpPWkknutRkWKrf42cbaORWD6YObzFE0lhCCyiKL8ydVIapxMQ2Q35cRRA9oCOHNSxD29r8T4r/6T0Nk9wXEiQWGAJhaqYWjDHsPbchDyY5MSYeQp7onABAyryw75AJyEQSvNjSkCVmx44jwSZpyCJGZvHke6LPdd+qO/rTrDOlhJxMcclJUGfd5yjcOp0Csurq8ZpJGiuCWeyzs23ntmxXyjNyWntPVeEPcJoTyYRnXaKlrTnJfsSGjPlz0DqzF9FO6Aa06gJkeFQfSpX1M8nEU/dmkNE45OkAjUhHIxiUJUUdR7I5yKLvf12mFihueY0U8jSiTQIVjFCzQZDXBNOt3a++63GkhRCiv3Y436eufezQQGY3C3m26HlGS4K4icsChO0bvyuWoMmG4pKlERYFcvzz5KY3a1ferI7ekqITu9FqHMAQgCfzcBHcAHl8gjiLWgPYw8RCunU4PlShHWRtsCQ8Rbb4+FLAslRX6TSqN0TpJt2vN2/6jV8PUAbrti1ywBjCo0oGOqjSo24KX3p+4EtYAXH+hY8yvrWpGmMPiW460Sn3UCrMU3SKZK4Udvemrtsf7p3lnBCjOfnMlOZZ0v7lJkjJp0V4LeYwH5DoYNBoh1pW6hqZcSnaG+sKUN+83juzi/LHsZM61Fsglm1rJKyiQpdsHcutGfgvMbsJTIuizGuZJsDY4/mVmymagiDlCSF6wyzMUBBXSEjYD0z59CjgQ0qiXI7X4U+FQrJvTOQRp5PERQdIUGGIBVyjBUzUy6Ap3NcZWw609X3SPVWGcBpt46R5NtZI2Ro4p2C0efu06vyw8SZ0mwbPGdlWrnRUVpnQxNiUflJzxszIaPDZZzZvLZXJ6/EExBv2UASau5wQIZWGimoA6zZuWCzTs6v4soS/uiIkAYh+3BPBDMdn6QtSfoHwdl6mSKXI9RiuUldtaMBRQ2pjI23av5IJkqIDTcei90GJGerPlWJSKlraW9bPjIzlmomgLmRfuUzdCT2GRTgXlcgIsVOEcYCG4F34OqZ9oX3DW/MhgVrRCLYRhfeCyWpmL0d04eTh3NE42NnUIRlF6vFmOIoSSovum9a7VjJmY9QT0xOhGjqUJPICKaFEdkMTowra4z4Qh6iE5GLBXOS+Wh3BcQVpO8CUQx0a2SoDgvg6AQw0DCcp2LWhYtDRI3Tz4jiI1VqmI5gdQyCyLAhmIlwufqA8FpHtOI/Gn1zw7x4YXleFcIQ4xFXtkuosX5B1FNn1ypiTWRZ9LzzQ6BxKjmgOsd6OVVcQi5mtsZCj64D7xmPn1HmkFjVMPgfvEYakXthWWe/q/sdo/zRaShyHTnJHbVHfaKuVi7+bywboAB0gDaAGwAJkAMo0QRoBlAO+DjHcAo46wwjNpE88bGkFdYhYHBYifitgf0QMBxFeQcZi34FxK7sxXSDnKO0tysyt8M4b2HCOtCgxwlm09qJQlC0Pu9tbRjDSCeoe3zLZRH2p5a8PhrBnlICuMYmu8YsZEQlGL02KYPpjfvRiqa9QuzFiCZRCbeZOVCVFbawZ1cUwKZ6kl2VJR+vCKap0vxfVGM/Vz0pxuKpIEE5oL5vLhlY1K/pJL+S5fO8WLkELC5gBty1gCPIsE5C0BqCiocK4j4GNKKD6VQvekOpBUEjJXz5kdQtIIURVsBvj/T22wngqXGUxETRUpxSKYrNdoc6l8LDfdOmGSv3C0+op+pFbd2/7OkYdBoLjKNUmnWGkXvFweYcLXSST2uy5rITrFxpYlY4VEbZXngrP1P+V8D1gDV0EAOk94aEARY/AI3hAYYYUBBYsgDkOyMeLYZ42sXiQl45bT2+9XmouICnCqeNDUob8ufJgQWdGSBSpPWEg0gvyrxiETdHnigFjm6KNGQ9Jcam8BIJ0JSqxeMnReNXZEuWQ3k6Nb2kdZlnLRvrsm7US41s18LhMhDghWB8eNicItRWSkiIXCWmGHCTBwPMmXYBAloeWUzqfFeYj3+YBJcM43joaKnyKd35dcfM0M0q0oN/Pqk2dKwGXMkmjZYWxD6k9aTpnaF4t7JPlaSzOMXYxKt6TXXncW03MkYelMsI0YyHStrbeOlCUeCB8Vdp5b5ElucBwvetD0cYVyiYVW8o+zhCASIVD7LP0Irthb+nBQItOzaurAtgz5j0btl+E6I+du086AfVXU6Up3CuS322XjZxY4luFYCZf7YuuxfXl/Le7hJGFPABX6MACYYAbkuiCyMninWUD2lNBXA0gU8UtUSaeiSF3drA4PwzlkBG816ekUUm8xmnMGda5Xlav9+hRR3nNJgEky/EzrziqZECKakKS7BqWbIiVzrasklWZxiZoQpRikqY9NF4M896QffMbebSAIRDlxRxPUISLs2wEKbxXiQbUCuyeaR83ZU3wAgxfXxXHz4RUWx+NwYoojLZq8FmoRWxhetLr/jemlOcJhOOVYNf7tJDutPjDIBvNmwtGQq+VornAbZhp7KZ77hMgha0aVXg1Wet+KeQgcJVr0VF6eud9JDklYS6aY5X20ORkgnXMv6DM2Z5T9473fxwWkSAj5BOlIYhHdoNOPWBGDdcpi+LGDfnRWS8LKS+NfindrZJB/PjS16qGkyMwmJgGCgyxyrtLdhSEQp4odRhyx/wQMjarNWLKIgBNg8naKyLjg7SsMZHx2YmAVpxjZhO+nO7JQxFw76HCTbpRTNqQWzoRyx5zLzVPnsRFhVmTZRhUWpiZLsBuvnLPAUKg/dVSDfBHIB3Fob6gVWW0RBGSrNa4uUFnHNBDyImMbaA+ZKH2qWiu62xv1VHl8m+LNkN+5IrEWOeM1Wo3HFUYldSnYiKhtgwYpTnFESyWriYnlK2YoiMx9X3ELTqFs1XBEDSczkvBxG4MKZXhUC2kCGKAfhKr8DrDfAtxUtoVjXc/ARAok0l/h7UFdt1Xj3QbiW7dQ8IGWcffAWA/rCZdxWUhfxfuZe1e4GagvSZ0UUiXtjmJuF1UrizmJVBTR5NwRjKJ4jC+13JN4NJSfYJIuKroBHgboD1AfpbOW1ZwnC2dkMQS3R+Msxe39Z0I59zwQMeG6ZYarpu1Alz0XW3wKQ2TfNFL7MHIxtPEyc8e8OgSUp30YB7SyCp5ZxHMhMyEaxvTRvdrEWHw9KhI7AL0EKA+wRJn5l5lQxhDy8lL3QCIasS5c+aQjBU4o4AoxXi3IPD3kBIL44LpPqJTu5flo19U6Qsl26M3wxru3LpBu6qqkcujWvCoNAYXcUUESzGRCWZV8HJXhXHM0iLASIFmAgQjSCln0QymB3SKi0rNARbt0dExC4cdVHZkt/RshcfGJKYg241nwqYpRWfMp/P4EhYl2PqvSLM2r1hjbSfGGsJLTSKaqyhU5WmCgCsexVJxZlIUpCIOs1gIVOO2Us+5xWZJbkO2gDh2Tx0RekXFuRqIECQW7qz6F5egcpdiZLUUfDbFmPhSdxZDFf0OCRMIMecXAWIUDFcIRQ0XpIC7BaBO1l5vkU8qMdVgb2pJlgnrTGvo+0MSzHPFcMyuJtQ7I4Jt1sT2++pWEYpkN+l3iMNVfw43sTGJtrzn/1rpqquvFWOj0FYkYunP9Zbiow1X2jeBkcH/H5LZhcv0jHv5wlLhlHTaxHuOp1yyRqJnvrJ+Hqz/MwmU6TCJl4qanObCRgmaxs0RmGTReCtRlkvdd0soiFydOSfRzTzGvxT3umpuLTejbfakq/yIJMzpoJXCsokfUnVzWsgios80C3msZnsOQTtskJYZysmxC3IweyNfqMEW7kD7V4b5RCeeavfhRzjiZgl6eI2vvA35jjLMKKwiqhPUSNUGP1jbJzPIqgcYon7B+9gZojswstQGeed/Mwx7TCV67XCKmKIfXWWEhFwbmmOQ5qfRpgySLas1osrgTpDGWnXeoPwTKHyypEGw00cDZWgR8b0YUVWcFDOaoEWUu1q25XqN3NgalMk39lLce8wHU/8s7o79cdmmunj1iKs86OW7Bt4I3ELscl4hD5ezxcTXN/DXeJqQxBUrLQ0KxUjRihSlDuVgHkTFYPtEEbickIQTdPkUsj52wZWWGFfe73VUHsbMVjRu4hkajKucUkiiziO72wr+2eXfnS3fh1THdKQEmgb1dFT1A8ROU+Mq71ENCJERVUCmF/PgiMbsX4SMv0amIyzimeZ6Ei2WWrEmRIkFrupuBKru0UbgZCQJyx/gHdhqR4AjGxIwSb0iDJljWyUk20gaX4XfpwE+9IJv+5A5dNwCBfjichJtZCG8sjW74ME8aKIKopbCnlWgSIlOLWQJECelcsv+chPRZIRZiUSTKKFhCXXuWvY80a/CZ98vIEBuamivqbS6qnT6iVUall6kV2SRKzXK7v5tGhU9gSC5cu6QoC2sNl/YjsXoZRo85c7JsievUGM4Aw9ihrgs8iMxtBDRGF78K8YUhFXiZtvSxS+XlLqOI5a/GiCpEubNVucS0yYMTJWLH9hKYEpbqGXFeUFRCzT6AsVPSzFP4ls7Ksp+lepLDaXnWmex6JY1PlMhVVR6OM19b2gSl1ycsS6jhrtH2xeqz276NKIpheQylkeTeJYRKGwWqfuAuHExSML0/kg5jul3PypvfFFcNniPlOLCThZLU6yUTAX7glClkqcxUbvlGpvabtfES90awxa5K9dSdRliqRKiAbmJ/zh7rT5tpkdimTjk/yQ469aUhluRhIkoUZqlG3jqXxTNhwEw8UfItbn6IXUT+jTpEFHeXT63wEtrJXuSu14sTpXFersqbvQ2w6+45Xzn/sr6om0Mx8sVyBWDQr1xYInF9uVvmVi68tzy/3BVchf05UD69dLFBYKk655pUkC0dC6IxFSUe1ZplaS6Ra0rIf0oYobZ8sMXdZkfXuPGtEa4aeTClRsuNKKZzlqTOeS6YvXdSe78tO11rjx6o2zJ7VCkGEVOJUaDcpWwlLdsYYsOe4DBuEeP3agrpNJVnE+sBPkOm5XMZAiebpdpozlCNZwy+O0RZhhhy74KkMuO1wty2CTFsj7l9Ic0lUyvQJoghjJ8THNx1JDqtciDV9aQ9c26/aZvLiEckfzMGhRtwsHdaK7WdHClmAIUpItiRr/xfMyJNhadyqez4ZghDkTCsBnUxTRa3CJ3yLPkdepxjHaJe7RmnXkOHtZElpPAunZACK7qyhnIBIp1PMXDR9WIHCCLngm/GlMl0T9JnStfZePsZWTgPLlICTSgxvlOe2alrHjkrOVQSnLbDzEFwXCYmEsWaB/+FW1fDKn3fmGwxGskR5eolS7bv+n7wFC2rd9+Ij4iMksCIuurNQtS08g18V/uVbCxt6tgyqzUbmNVKWyTOD1djG2RWecCQWmhKwkQmivaF0QpVaMXKVHtvY4suXCktieZflfHEk2DG49RLSw9oayEOFqF12K6FG/GZVUjleE7QelagLGuUpWyEZ5yt1UNmPfWI0xKCRuKXAIW4eKQnLgpBcElgKTmkDhT2YooiGMD8OoCp5DFsDpdXmbpY3i0tip9q8XPObU1VaSOux1G3RjEFuI68hvmd8oJnFGm5pMPTNn06lJq+JFya0S6i/NtjH9viEewzB/9L4QQgBfVkn/SV5XhlRpii3U4div2v7pE1ZNQ27LDanGGg2k+aRW9dIsx95w2O6mhkPebVdbbV3SKKU28/qbRT5ex/3Ri2SBdPgm5GRD6KN7TT+z3GtT/P6NHhJXtwJ60p2r5IRWYimTm2SdC4ZjqxY+dWhVMPEpggZMlxJGFRaeGZZTWtLilROkWKRpiZGCkQOqhh2MoxgQHFQsjaclkhpQOqjoJHREzAyJSoZsSciNyk7NClaZsTpwfJZS8mbSeJpqiGSgUEzYbqYjMiQWmE/N4uIJUWSoplhlIjG3JLgjsSSoLqUsmRLVchufwq5GJfaPREBafD08J8j18MzJa8LTS+GzGpq+Pyx3R6v2ELoRlQpTM6+CNB2365mexoUsW6UjVAIWghcBeuELMjzF9h7UEaUpcsQhxGJCel5fqPZxvmI1rtC/UoW7QcuhSuN8EzvYVshmYHLYbrnfsd2/TtsP/4xQgtrBL/+hkGFi1yC+Sb4sTpIFgY1jlhQn9Y8dTWOh6RljNShcjqZ8LtumK5Ej2LrChwpNEesLEfEjS2GiW6ZTBqxSSKZ8NqmGCLj5uvpeoj+jhc1wh3oqQu/f0c+6Jph0yrebrX8ag35k3So3jderjnklqmhtYy2TIcKCUkqUlXOQCUICADkIOz0gZV7dLU3fa/By0O0L7L0gjwSHd3x7yXxz7J4Jkq0d6kTpqiVVrI8L2ksB3fsz/9mxmXfe76QVeKNsESWqpgxQQ6oJ9OGAs8O/PP2op+YFZslNmTsCmTtCTSxaE9pNkkWxaeg04QwGUxq3ypRvljlFQMqJ2Q8KVVs0lDXKUJ2aSR9UPDJtbNMpO2343CLt4SIhMJk0+tEVXwRNJJS+xU73aizIGW9Nmeja5whqpj75furh6ZBSrtW4jmZxTsbf5dCY1h6xL8Ay4DlilAAEUOCAb/PFiAr4TAAsDzAUMU98kcHRbyl8p5HmeUiOXdj0tbXju8FH03WRtiP/pXjDTQz8/yV+EpGOyDJFIlc1iIItWEwktSj6hzICEv58RRKhVeGgVbpmeX6+7hFTGu9aFIIXfonTma3ppltF+YRAQL2uudbaRtpoxRIzBSIf+P6QoPNL8eIWPRfKGmE0irRbB5xS4t0pgnz5W1v5HUK8MJTqzCPshQYdD5HXWXyUnN5sEpbEkzlLjnMweL+uBJyg4gX3nNK38lVlM5fOq7p2gdXYh9ENG9ohSiHBGUnFu9D1oscV6PwpnzLHxH6sGLMK2hCEjcW/NYhqGstW1NlTGSFlc5I2E3MdM5cjQ3xYIJhYvnOAXm5QdwNsSnXWOaOcTXHSVEKWVQetE8tzX43UUmDokTxYuRQ5ruLXthpQUduokxU4KJsetjzdcKZbMukqk7Yn9Zoe22oB8xMrStgusNU2KZLiJ3BbtrM9k6FLJziUUTKOW+wdiHSnBeSDUtVptXdPZpQTEecb0cHwDBRYoJPSvlPXn7OgS5snIfK9uHdhlBTH8czcMyTvRy7SzqvaxCyOwYtySI+eiL1xtmRcIG6JPhBCmCwWrXzb2awgS4Kcz1uWnb8/3wD2FkuL9ta2sf4GA3Wet/5S9YiMRq+HDAIKDhj8AxGGp/BCSgi6InmCzeLDCYQXJnyhpFmpEMAC7LANGIG4qM4VEniUAgIq7JuG7vDfoxFgo/NEHLeQgN4Kd3pdEtDsWcOcykRrl637c3+wTKpJMlyivnmYLAfUQJ7OSt9mXaNST8fEHHFtPIH2dRZQyYOSPGggXIHIONcaZjvnfCcESaoiQoWGLuMGVm/9xflQhpwwhJkWN1vmW72c/WxC/t7QDBC3FWKVeNi3sjMAXpUt5NWnLjORzJYUvyfEkQ8jc8kSVHXndZH850/YveLAodtotkafPhuTRvWs8bOFV66QIIMLC86b+TQfRS1FKUdoy7tCyfZVDuBx33lafJdpGrn3moTUwSpV3Z8rGvQuRN0z2k5TiEy+XJ6uIqCbG8Tx5zDsbT8V+NBA1zbu+/LKdoh1I9eSw1Z3jHUzVgs4BoxjRAhRDrEWO6AzYNawY5wHyCREIkR+zBq4KEVohxhoViKcNiyglBqanFYcQk4XsIGce7GyOpcFZZtxai0DeI5tN4gyIJ14oFc6MtSwSTd7lk/Pku9nKage5zOwdRttxW5HGZ04xDNtvRBwI+Asb4y+J6yMq6d+N9ERxecALKJq66mWfr3y4oR4CiPSuyyej5XzbtjnUFVSErV3LeWhwuzhhElID9XF6jxBPXWUZLmwdxhVLVBQ9r5wnjmKz5379PpHBuKi2MGwOhuFgQZlrVt55qkcZijJuKuBrQaOMjCHubC4gsICcjOtYDCA6A32qJyK2lp1gnBcjFOFdVnW//6/8w1OPAm4iJxytqbaiIUJUZba7/RL15IRSgo4RJsKAp2GwcY4k2jFTtN35PXrMQtKO1bgSCYRaA9JHu56L5J8ZZF9B1wEJEJcoRIeQwAmIDqgfdqQmwCDA7B7ExDki9qUEQCRCiEmva/snV4n2F+c99VpWdk3NO+pPuo2GvUwrOxSGlNcthKCbMBVYfWKgjymcC2Wfm9Pv6e226sVms3G3wbrJsh2yqef2yoMJPh0wEPBZ8eZ4JQLpIYBqQHDCEukDDASYNd0D8jaoCXAbIXA5XE6aR42F7theblr1rb75TxiVqf/n+aLiUFpSE2tsDUP4plioENUb/RyNUnVIBCvrA2BTG9od0JdLa/NAyzN3zIqvCVaXlbGIx7snc9dzNJN6a5eTYRIZ//rv2F9HBfJjrc1M10+4kRbmdUHaN3zXD9Q8LSdGWNTfNqXbKh2Fd8WJoWL+D7vLzA3x+nxUJKsI3cd87hUt1V8Ho//+YbD9zSeZGE5T+m5jTMMy2c2cAwFKTieBfQOuEJo5sghRHCSg34HLEJL8BIgXQSCniQjKx0V4MweJpoNw0hzdghbBovHIlEdhbtiwix5snRHlGnCoiBmLSoJwLcsmmxL748owrjwRHT8PwoD6EMzPpsd0sPtsVu7tCJolmhUe3LFuM8hIMiBfxlWGDNBRMoEJA1oE1QME4AaQFUhri7j9mPUgEgC6GYsy4ujo5liqeqaWxnDTpJyqltfOANUYJYuqUFt4z1hsBqGMs6r3G3Jw/xjpCnaX43CzLVZSz/u7ySiRehczlU2iaSeRePZmtqG/BfRK6I6Q2TsErB+QJe5YjAK4CpCwYMcUTWWCiBXhUnAlZDSA1PgSPKyuA4n5piQEVtcUmIssVMbcQFM2AGoEYYyiqOnteLAYhjoYnaI9mIKh0yp99l9/s+LicGhVy3mOqmfSH4EI/BmwSsMafnOn8DhIUEdArIcHOiqA4QMwzxYxiXHaQTIcwYTKPOSnL2qdXmG13y0GQJycESVQyDPx8LJCSnHcdUhTjeN9rNWkdxVIkjXXKd6/16GacyYQukQrK8WjSSa09BFCzXZ4OywXDWs6IQ83cNKAWKEHpCKiU4cZoNUZrWdtr7y0QuxylEj/3ftp6D0sSnbMHfKU1w4Q3cAwNL60nyJcigQQ4n8grCKUQ0jab2nqxc/CIbQ8+XD9KLJo9CTZ/a3Fxd0Cm/r0zwFmAf5yooZA+MSDyh2xM7YMoESLlomXb2lu8K0KEoU3/PpvsQ5WgzP75KVv7qedZIht0pcVPdYdwzkayO78seMIehyI799/c5ztGq2V37edoeViCFJJSt3Cb+ORWTTcq/Wmes6I2Lz0dpnqlRyqn1LfGC0G4QiMRPCyVDC0E+/0oi1R4tz5ms3/RhaglrS1PHEo7RvqguPxzmGKnSv/+fZb3PQ4WWjo4fOR6N5b2UjfzWpSLlzLKZim82NYbG5uAzygXSAFFCTiXw9nORVe2zol5R0cEaf7md6X9PBtQcQjnatEYU9iYQ3DYR1K3ZPSkb9Po9mSJzmSU+8COC2tzN4ZdAOoaQis5Nw9hmQqCKZOJ+lRlFPrx9Sj7ZaGY1j0xXlKUs+McAzQ6SgDwnxsiHE+OvhFIMbS82U5JnrIBwUAwFRV9N6sWYNJWGyG6V7GKTdStS3RNwR3EZn66unHnYCwOTSia6ykb4hiMpkbI21LPJomNDZTdrDy29r8sBDIXt3xTh/mO6YcpHrVOrdNrNO7RnPSgjWAotorDgSXBCSu7gZ1sVpN8mo43fS2SLfOgfUCRuWytyv/mYgKuRzr60XCEoo9g/SwQFlzxrrCEt5DgunKQ9chI7hycErx4i5tWYsSTqXSXvK/UATCmwIGWlMr2IQqt64l7ixmffGXC8XZ6zK6rnvdFhVF3LorE5Kym1HpoDk3lRORcBv3LCdFhp6iysulQm2GwBdDfBDzTkmUyi85sIGiNUP3nGg3CbHjJPxTjhb7mNpgN1JxFCkiMxvMoE4uULNpgandC/w9GoNybrhl+6Cg+/hUiqziV7aMWZLUXT4jSbtWKNm1js8IPJ9nri6maQRUnCoXoyL+TwnPoT3/Ks7r5hJDjiuhTtuVdHHMCN9JKnRpBAobVe2a+Nrplyke1lOer8WxtkW7F9/cY6w2lIKHR1Wz6Vsch3LuKDam1RenkoOfNTtF57o8Q1rdh9FNBWwF6NaWc8i5671qwSoUuUmCOaUhp56XcGmHM+VeGj2PLpmRJ5OYjBpwW7owbYH22cGuB8vyhMSQTPyqsRVOkKQc31NJX9CXXJbwZGbVnar2qVfKTwxN1AnFu0ak18qccxGxzNXFeUKPtDLkFuTKeRnLSRThc7Uo4E7ggoE1hCkxiZRV3po7I2Kzro+IX3pjcCxyBnZs8tXF/jE/PtFqgoibRfqkDtgtE6RDAu92SpFsy5LGV9B+BfduMQQQESi0sTLnJs/Is1RVQ6JktyVIGQqDXadMklnc6QmbCo9nSEGb0QflQlp7GiTmhWsj2YuwQxtyspJdC9OBLlnxU+aqm2w8G02WsLopCIaE8zABZlVbzx4ERaZlzuTuYZ2+xFT3e+Ls1LzqPSX0zDTPVSDWLPCHl+1Ebhqkt5Jw4OEohAGE5QwoLupagZXCPhAFE8XEHLXnOmHmxLpgVHEykRl7VC5BkiEVlZ44fJ6Nk/9TIK3k3Ik7IBSB8FNCVc3ap7o3XQLJzdb4nV753wyR2mopoAfjo0hkbtGGC78ESSgjKZmQvUBEaDbdWGon8/8SPrD5RNXRlpsa4/Wiwy3eYmUDzaQOfFnI5ka3dwvnD2VULZKezWI/vSlnJ791b+u5XOGi5bIhYp+SwpOchGI8UZP4MvUTnSYoAgz0KR95UPO37TOYDcJjSH5FMVEFAV5HbA2SHTCVq8Y4MXjtOvssy6w47UxbJierE6KaSBQJWaxjfuT1GOHLRqwNUk5iD6XVB5S0olVw9CRb1wBB+CaUVFQRgAVnu4ZiKB1NPNDN5ghJuG3BmS31L3kDRaQRDR2fYCMo152szaCHgLXiUkvifpnB4Hvkz9RptfP8EiKmdh/J/tvap2drqNIC4NcpQ/XKwNp1JemdLnonon3WipGdaDVKidVN0SzDREOLDfhXskEqTMBSo9GJ+Me3JQEtnQGm09mCS5xnUvsIGigBGGCJHAQXKXU/Qz+ZjmtrOTyKNE3dSv1COpuxEnE6ZGR9js9Mc/AvTWVbgyiZGRJ2mRgKSuaUyL2yveWPr2onVWfyjTLYDY7Knv6osENp70tMiOgNmOSm9n/X+Nhodk7m6afckVNZWbvYatmjKvZyGZ/EJ05B3ZlOaE26n++2TFRSYz2W+cxWGSdQE3zPZNowKuxSAQjCPuCOfalOHN4drsJOxJcAe/U64fJvyi8qICFBP8jcvKmw5q90wWnRumCa7BO1ADMSPfip/23Qmz7z9xQnS7xO/u67zPfsoOwgSbUggNNGaOLES0rrEoyuzKY3ulmA80xppxwPREmDcWuGjB6I7ZKZBY84tHrRIBT96QWkchi87lpn+qvq+I8E3lCFpFhnsFqvMUXv136Ar16yWakVOKkHaioCb09ZLiSvShBIYmRZdA95aPjH204UhLM6x2X+2aVjBECEcc7JTyWrK3FuWyKFuBncDYbEU5eD/s/OiMliuI0uQWMcudcp7ZlmFWnkN0aF22elbUVvVxWmhe6s6npI5eWnGDst+EY7JCMjw4R4cNa0VRnHEiRgoVQyX9BOGfzN2Uu2OjL86tbJJyA1cldFmkddAOdDAht/RGyAukMUnNzv7XI4t3zy2NfzFLLDHSwFL1CuhkK6kOw+pL7eRWlnt/W/irRG4lPDiSFPSl99GFaHE50+4Z+KyVqgUSIGujJGo+FFynTwhtoiwx17GwpJOKFhjLCvUTag4evvCPVDphY6fNK+W7qJ41dWM1dUSi1/G8iuBGZCzAG951rtrEAkrYn5q7rvm+UIFW08R00t/z+2RY+n8iwLhDbmD5qIwDfRzToewwZeqakTOJqjDGCkbJT9MiRMO8QSu9ECly8vbUibs4/pkn0yT0+VUUSMlawrlF3C6i+r0YRqSFE989j88ZH2emZDczLFc4qo7W4VIoenHiIC3ywljwG0h9ZRBmLTrBcaKAIf2rEOxzF0xOZmjj4H2TJaRWg21O1CN5d8iXCLHQi8hi7Ct/UOy7c87LkO5OkROudn0BJQ3CCoe9Bh+hki9mKUdIL0cknRbREn7hqMWFH1uXtCRbgrp8LEEDByAnZNNqgJIHni6Ycxja0gfa+aHWeMX5f+ohMJyUKSH6Tj8poQtEspqXN5kzlAVpZcN/zSynaxOqooSAyYX1xP8hifdnfzQf8l6koARoa0kBlgY084WSQnzJ5ayLh2/boE6HE+2YRh+iSBInUk1cpkis4GldP6jpHI6ZYohMkY5SAW96ViC41y4hIiEmHKVCxSyBVZAa7M9+VCIF2c9XFSfBF7PVfmJ5tGRKZdkI5YI3pGLWqdFhR+tZC2LDYHlBMkBAGNWOyAN/v0+AjcTCkHDfRwD4EI/gV+U0YhzMG3n/B9hj6E7KLK653E8KpMXpDos8qbAxZFAwFZPWdxmzrrwcDgph2pWc7oTN6IPsQWj4LLcRE9hNSWSy14qjOmKxWzdCsMsWKcqAFCGylaIWJu2alcZSkfeLx6DclXkMK2em8K4ei0sFy/J+wzfKNn5TdJMFej/EVZ4CLd4TRxNH/nQXS2jRDBhPJ9WareiEMJx/TinT1NO3rL6ElMW/ppHfRA8roN0AtVC1Qs905OYVI2RPsd7gRQKI6CuKz9v5gfgYQdSEqtUap3uvSVWUvRMiBCLabjYj0jyfSK4MCOYRsBBNhAZxdPRREgkajuwW+p5B1WLDivdv7VAoE8ISejA4X6KNdFmuRyxrRB0d581nDlHhGL1OdT9sBtjjI5kdBTr63A5inJlTqSW1NefIpJPpmtJQV5c3n2hPK5MruuONOhqKw+hINRf9W6n2uBmF//4xQgupUQDfgOrA1u1N6VAEjiurt+9llQQS7ji2UZpqxwF5brZVPLlEFZDGQO//kuF6ycdRjfQpQsUF7OKYqQgowrMlbbzivhQGwoKCBJnsIeMwjPUx2nGJPDa7HqqDLNVoXLOJcOZxbJCVyW2nBifFVpNPZVqIn1/BZiZgdeYTI7lxgucYzCrrAfGw+gkSbd44R007xzwQNuFyAYIA8gACvAC603+43od/uTqYwtHULIbI1jJUuBMw2cQ+67x+7t2frQedI3WEXMTvL7IQVwbkLUlVAZyaRlj0s7Hu89xQFQg3NdzNw1uwpspFLKoDmU42l+zgTKFHLJm7GM2dAgd4FzGNUxFZKEBsqThVx/E8aAkssjDhEkX/gkOJm8Q40cNedv4pfqTVV/PDbEgvHERUCR1M0PYTj6D6wzaVM/fML1RiBaz9s2En7g2r59Zl6KpQhFRQKpdl4CLmgoVAC5EguzzJN7gh70VIrNnisCCEC0EmNaSHYcmNRbEXKFGKrqetUu2OizDtYhb6CXOXLwk6l2oTVfsWTGzzGmCUzVYsFjg40Pf5tN+wjF4kDA7SctfhkTrkmzkV2cJIt8NosXfEDkZZttE5TFYC2YdZRsftKqdSdCLxkCA2HT2TDz+eEKYtLdMe1NnpnEYAq0dYebhPXqrEcOrJSmMiOWDB9Ik9QSY6ZxhEyDRaq0VOVp4yIXIOy+eis+DBi4OswItQXUvoaxL0gkrov7iHuUJVNPtsX7UKQRLpwutxvEaHCdGbzhnMNDqxZXLfQRe7ZSZ5NWolZsyN65jVzFxF9YoVd8wipY7NBTFYUyg9VwlJygVh6xiULmhugSSrOXW+ef5Qtl0nnm61ot6so6EmV2wNjVnJBF6Fn0kyKjygNZXw/7ZdFLWNJcEXmmk6qV8bk/o5weBHHh8FkdoIi9bcRR3JJc48Lv8jEPWvEBfCU2IQwMFZeKki8EMkkEcbplM436xdF9lMrmjk1J37TCbE9obNJIJqg+nWIUZfOGqLtQ4ogjrDrX9L3/jPXOUEwcvSc62KbwRSItSBUUcZi9tV8QPR8upxGcG5EPxKKRMJyYKi0he4qIV1mIb6ZfJYl4hBe1G3vZ1Y8kbhCIyJSFR1pkw6pU44u1KqOupDKzM2tDQAXAAAAAAlQAAAACKANGPXITRzAdZHBMfsLnYVjYIMRzVJyTyL7+lu68S42DFNTgxk5mdmV+ITuUWAFoRqeu8aLNeQ1Cjl3SqSjgly84SNQPj11WPp/2tk9lhn7+Qr/meoJaZm6p24FTxwHyhLND8FfeRc60omm8uWTxPnAueiyoPNBVtTQUsYxGv1/jBQ1rnpI6jkWtglTlCw4lnMDDWcwijWogkt4K7v1FdVxnnbZV4a5+lOhBaE0t7ZjnnwXORjwq+u19ZVCrK39M4nCKMUMmYPcrqJhbfKxw2VdpKaXDnyIXhShEacxM0E6CMqCMGjE3Gwm0J4a0R7exLNZzK46qpR61iSSflEwsSKxaIjA6IqkrvMo8gWl1LEbwR6KyjWUM0I6lAlISkeP4YI2Apf9mBCmjVWijskxuVrNMUExy+FBIeJxuxFY9CQNy8LiYy47Jrf+hxGFdFcNL+Zz3RIYQREBD6LNv86VjRZ2byy87D62N7pp0SU1H4mNQXbl3ryj7aJKpRCIvrhNzMy3EaF+0R6z2hwpN9AiEJI3iInsi1YCwuC8TsN9CFMQzDl+hpEUohDFURQZbzqb9JlT9AlsJY7JidHZiDXFVXjSJvEzT1dLMaBjUgKoETCEcPQVS4JTf8eu4OQSSiB4HmKFoqigXjWdl2WTmtCfGLclC92aHgiegZrgJVYciwus8UdTExjnrogosQRVOaDnK7pztxdd05fF4eLBoVhTSL+ftq5fhyJ9B+cby7oQuFUbjGfFKATlKEFpXKGVktWEgpRzlESoqUjomR+zgsdRUKXTkXBIGISC08MTPtG+V72i2jncWyaCaEFuGnzdS4mgP5MYF8MmeEfro+8BBRNaHmMzvwK6z+YyzH4e2A2sdFVkloWM/Nda418EgSyQjebVCFDhJuWGrSYQoazNm4GCoK0INVFaQxBMcojjC0kUUTSCeYQ0ygrqcmwTaJdVPhjCgxuAjFdpM5GMgAxgEovkNebVhOBTF4FHfq68E6EWFn1CMFgmJYrEs1MaqHa/jEimwcUilVeLiUkHw0fD5eFw7MAdj1GZA4ksn1s5f7opXDCkg8/ZRzYzUqy7/Wc1Yi8Yn6YKgP4lC64a5R85cXhdiNMXjP/WiRG7IxKcGEdmzCVIDhvN392LE8gYMTswqF6QaI5s5DYpEBoFQYlQaCU3Uzay+W1OCbF4msfRPG1rMKW5qluES0UlJstifMSJGEVGJdkvyHZ3YGyE+I7nGehE0jczFtVJtDs9JspK5NK4ttULauUIqR3nbax6BDMxoK4sClnCcbNikKVtxURNHnMOOo51zSE0ugrnlbhi+YL95fX+WPYgbiZj8LauolfSU3TbchtTXhcS2yOeJksuUEwNZgrOyS2LFrWflvlJZolc7QcEYvIaxbYm5ngjGYYNgKXQQh08XGk7oIt0Dqr7DWSzGLbqR0GWlMSVSZIrtTPSCCddNnGwistVb+qFtCYjD6d5TXsh2HYucQzfkItITcsMF47Z8j9MnuTFRVv1rRm1KlsI0M+EgtB6LAzCEjpRBNIX13AN6KrAS7I+jafxL8koUxCLiPTUkHZPZjU3jQ8t/26BhGui1cgYKl0lPDveOUfbjYXOkEhLzNxyXtisoWNS0bZ3SLQShqENEw1FhRMjao7N1FtqfT0xvCQTjRrTh1V2m3j7GjMq9wl6Q6jm1vJpDy2YpZK/srrNGI7JQXfKTZH9s3jqe+oG3jRpqso14duO/id2KQE1ikBX4qumBA3ICiBYtrIEiEc9SSovCZIYnn+UWlVmVUJLUMJ6PC4a37dkOLOHeZX6HKy4d6nLtlvfyXCpnVITxQM9efkWwu5gJinhNgn5T/i/WMQnXjqQv1sStm1GGxnJNMpnSTGuq5SU7k1ohKb6e0aHQiLHiUHD3XHRZeUgTSKSjSezALxn0diarTqzxneNX677IlVttuzfuhPrQfq7qKDoP7GVkwpKyUlf/BI+97V7OY67np909vKufT7xnJOJxyd6c0JlzcqKIJHq75x/gi4e+IdzU8quHCSExhpxYSDw6k5Mr1T9oaNoa7lgyNQLtJ1dk2RtHG/rwo75aLslMvxM65tDKX78mylRhc5ugZbEXv6wjf2ao09pR0pCIXoOpduz0k3defDnspyGbW73aM5ILlTZiDYlVLVCGUkNVGo4KMWU/c9aFNeWf6FhZA2UAX5b1QnbCscp2aWOZ0VG93ZMMq4PjDLTS6bzxy6zv4ozL1l3s3zj1YrEpLRrOKtIi69upbMDyJ7uaGpavi1pbbqkrBLN5Qr5RZNlwJQ3FWlnYdOGrTr0ifECJQQL1SgjVCjX+60TdWIKLnHdV1vRgRa0j2w+nClNQzYxG/aoJeCdhcz+McNskV+RzJpxXEagmtuoiJviqV5KOK/c3X0ez9Iix0yIi454EK5oTFVUUuN9upl7m2VKfcrLtGOUb3ZqNLMuVNJSEUjkNP/F/kS6YUUrjPrFp658oqRdcCujflrFCkzVpvgIGzcyphlNt3Ho9SuqFJFBLIxvNK63Sw+KXIKiFiRTQWilNqe9LOneJEpN3jR2ce9WIh95Phq9362QliHPzohx1J/PE9JLxoUY3IHfskanPP1RVbpcd/zNVR8xwv7vSZHXqGTjtOKelRgFqOYQyfHpjeQSThNhcQR+KRSi27fLonoMmrZVlyrzhrQqQrUYHEArfHn2hOgeYKJR7xDRLTTHBGE2qhkkXcXaY/su1dr9korq25SFJ9tYwmoPLNv0Yd9lrrkRoatc9l0gRq1z2tOlQcpwMOpHchmcoCRIpQtKh0ClU0YaJ/BXBNTA3Ekv/NyUkQogYj9NGhw6IsPxMmWQiGjuqnRFhNS1y8Ks7XPz9Hdv4L2rrOJW9PeEpfec921yRZTof9i2U2Zmwn3CpxrPArWBecSzQaZ3IxTGQVHa+9pfhFhmVqIJPLiWvsc4BvRM9XtRx2TZbtiisXXyNiKCZJAIY+AlnkdEQQ3S2FglXH7JYWhEdVORdcX0p6kpyMqR0aQ1ixsEIpkekjQmQgXUE8JYZvgK8td4vcsQoPfE/EIK+CnXhboatEUUwLE4koFcxDfTy98sCxgM6NYso857+hAwP2GnH265dgSxkEQpRThNNCOUBpkcxpRf6gpQbdYT1zAqyz9XMyD6UsrRyjFpApHNnzKMaF71Z317Cdpciv2IPUOjNDscRJG9a33B8kRpD7VvCRduXPRD9ySs6/BHmwi8Qa7CpmxKJ36GKLDBzZfI0RLBpjuk69a8JxS4lMCJm6OVbzMdHyLkVDlKlN86Rmd7JpG2MFXkQrrKAWtQn9GgTloyrfQLgIe9CCyp7eptRMYXnlFBG7qzrCWGTSDoHRZ7yhLmu3cIOYAi/f5Z8h0C2yQQwKjx3JJ/OFqjyeeOauGiyWsaJx+II4fphl3NahsinmGtbjdeGkEmJofpBf+Y3Em0sNDKuFoVO4RRGmz26pm3tZ04b1G0wggLN6soe0/xe7lFEUvlEARQoLTfAfJshBUcZq3xplaZssMELi9RExWA6kVn7HmguGwRjyjkt14vbj+5CVh60YS46SDU56UXB5RBqjarLVUfTl+8n8qI2+kVrgKMmaU+Km2OpaAR4uK9tOSNncBrAmCB77RnQPzyyk6oexgGU0dfBCfuOO0z8a2Gxeor1nWcgQ+O1CfgiILzBN/PY6F6zmNC2gm3GXic/noScNE59GLkEfaXgByEFiH/pq5K/H042Uh/nY+Wy0WAL4uizPvxzZmBKIhvJEjJqvae6Sx6EqdrnOZrgfT5Dg6j6WjysJv9RgVkbmqrmLG6DpivQuUhcecvoMbMJqkmMi1BhPCeykVeTyHa+EIgZldsRMwqC7XBMiVWyPraunPMWKp/zdf7AfipVwsg2th2x3Y6TcKJ0zxOAXFmmIYLm6yLUUDOUmWbnsQapHOGoYtzX8+e9kiYdoE4ZbsbMsaB0onkfUEYBD4J1Ug+0t9AR0m/iq7sadN8lCSCJEd069xgkO7MSx+6+ZSxbMbtj4iV696c4TOSnjXiejxbdrF2dlSpJIpxFz9JSzdy1kTn1FfQzNuEz9U3ZbmUKwTwWU4YtKe4H/rRM+zlhm+hNot0f8JeFWhSqO5+JtSQX44E/HTirobr09Jcnu02W8qbO0cKK0119hdddPe8mtsg+DamkdX79bR2LPpqzeG985aykxTYjz4M/+yTkYVJTNyw9PeHSxAkN9bJyeJRgrtosl3RsOQVHvbe+FqlZiqDCnzgkF79DeqirnihyT4jaEkab/mRZi/mMK6TIsoyquc9p7MI87umREB8jHiA4AxZVzkskwjcqvUl2oJKjZdNoqcYpNkJEG5W5nCAQKrUb5btuSbP0Y1aCke/y6Ifidua/jFgcELiDsBcg04AyZ11Iv+0sB8Q0aHBKHcU8phDrkjAmQh1CuDxQFVWCSDlumYvKuSz+gbEvIg8Zl3c5KM161KERxPth0lwfpik8Sp1tnWE4szMRrYdWTrxbrl5qF6K/jm2Ih1ZqQxkRXqg1quAi8MvRYnRO+oce8v80SFfSKgdr3QQ+npxSHIfkBYE0zKgrHF40fleO6iumhoDdKq2GYhni77vlO3tiQ5SFJq+yTXkUSCiSqJa7qMaQ3yA47hCHfUmHoU8aV7uMpuR9NaJf2Enn6seHIaeB4bmX1Zk7Gc8JIh2lvhFjMc1d1YWfdctbtO/+Jc2zwOjiteh9uvcq/15Ka51mpm/B2nc9N27gkeuKul1MxyHqTTVYori7ImdaXwRmsNqKb/3shX/exJ5xos6xUwbIFjDmifgToL8A34DTiMi9UhtWVCQ8mDBEqYSlVEQJM7jeGClfKMB2ph8q1va+iMPmZARC358kaDdx1AZCg+B0UX1L4OAgYkFia5vrKO1tk1HojdoMl13cyNlM586UcxDSLuwrWuQplzigQEzIAXLJAGfAPSuQd4YHSpmdkbEmgMdCjiBqAfZfCJFyeJEVoHgQLaupfuTXbmyznnnvxDxz1w8jtgs8YIBxXl/CWKPfhsEYZ01yBFE7EsHi89HCwVyZzT8HATNLRVqhx4hiLERRFfKHFAsYM4F2N6APqDlgkSOCqtadM3uzEaEmF5PGPYIMhCwKw1lBcQLwgMnVKcT7H2WvrnHV/Aj5tHIHzC8o2dpwT17b5Gp+xqqRzYuIESBJ3sa6vuMTy5AGq//jFCC+iUAUbA/wDmQQSBLcE6ASkA0QDnrWwnvT9WmmP32mGz6JrQNKJMJy3XFHYtDZq4WKI3VMPSk0QSZu7NRvrPAqxHvipA+rdmMdJVdKJWT5Pnw5LhN509DjB2g5zffX5Xd5KL9d0RohO34trG0aGgvCaWVMCdTB9nAlN8iyYEAhzSLFvUshMtINAZOvyffSE1BPiFW73g64BTVLHEBBiFgVEJeT//P8XqslzjR4DDM8VBKtsRo3zyRHH1eARGrz90YM/ZcJSV1BCXxa6aL30+ZB7fDiFbKNkufJBnuViA5xkDifzSNg1yYfyPS5zkcz36+igcWsHuSZHpoJmATMJ6MkCpXsHhFXMKVcjwx0HOjgy8PpCMEgKZGVSHKcSHaGt6bVQ/QtW2dplFFYkMmJ7yEgTnmrnBPrGGsiaErMTrVJR/opeLwTZJNa3RBuEkyVSCeWFvm69deiOsyCWLwuICMgNHCHBmibB3w4IpInKTm8QgWFk1o0kXRpeKfKhDhgNm28Srlnh1j/7z8mZedx2hEpEj0nwf836U8DN9fQ1/f54oCmTnpTOL3Z4nkuF+IcoliQaFk6mEgPw3lfeZiPDpxTwL2OWGuDKDngXUQOpm3oxmljEZkpcK5F9F4J/9huCaevT968YaqVdUdbXIjqeLzzI+efSh/+bc5zZ5xYKTUcsrkcJDFi1CEeZ8uQ2DYEmTImS9IsjSKeRJnE5yaZyXgX0CtnwAfa1gZET/fpjMyvUIY9uz5LVpWOSxUfidga6CNCoC6Q75ZxEcKi26RFyaB2Mb14uad6elVv7/mBVzZyT0ZCP36pIUgSIcj9KwR5dEY/xDH8+U+7iELNJXW31XMWDIk7DfBahgwfdl9fuYOuSiiM5ddMRf79LWDqR8HkYEntMhBotRP2hvxU7Pfdp6nGE9amI7DI+tO/umOXq2byMJ+m75s5wV2oHS7yUaDSYTwMxkvNJkmS6ySjBfCTC3grp3QMwfg6YKqVnury3XYJq4ClyxnQSCgJUKNIh5CodYb7B/18wpoO0IeVEI4jhIkwfOgzMta38D5pmUQ67iFI0pjLV+B2GI7paDfRhCWNj4/JZrFkJRhOqYRUfLOiFhEVuHgXq+uKNmETeoUxRNKvblxNRGAf7AOf62mX7jT5lX/7KYNZFkxQOSxJLPhjUdvN49VywEnzebmyyIFdSEXNdX46EAYyCX6It2HyD5MQzFu+C4oqI7RUH8JALBI1hgNT8NAoUu3jmndkOsKbWHg2KKpiS5HHT0LtDWYaqSnvZbV9Tmhu/eTiRJMdkm9OlWVJNKafNs+bJha3OnC38NS/rjrLFE8oqGmQMMqMtfNVbegoXK4nYTCm4lbVlz72vzZKokr46v6b5XsjDsJx3ZtTGan4lp/U5FvNEd/JCOxmEJK1PzsRvfWMrkVqYTEiRLnFJ06KLDDaaQWGwYDx6SUQJBFi3Fc2am5AdILUjQWS3MYE5EsK6duSnaJruXOR2NCM1SoSQ6Jz5U9MVvjyjQkaTpv98lnovS1giNRKE5SIWJeBE4FATHBZMyXGlQUFk7w4Xuh1U6PIXySESOunXfAQFgsfBUCwmRKnhIFQqKmeM8UhNHghXqMV3JGTi1Ssn1Rd3fG1vLBHUYelN8mctxq7g7hKrf1o5E/K1DOj5KzvgIe0CtvidqRqUqqVCAVuRC/oefxxRtZbR47LZ/UbvMY7ZYXQ7Pd5LNabN5zB4/NYZP5nIItTZPJaXIZPG4JKhpw84coDVFZEKEoAkoTWhTMyBWkFed41nZwnFcjnvMX48R1n2njH7m/mjGKHNrQPOFy/y/q7dqQwxez7CsP6r87eY1EnQqKHARTPXSbDgOXL+VhAqp2v3v0i1FwNRNfpRnVQrcIONH/tEi3fuF6Nf5slxiNcieCD1yn/NNhnwJobN8S6HFjAj1uof8VFd1UuShlSQa/WNt3eV+RDoMbMTUCDs+OUrEJTy+CJmmNE/7DIwvKSeTB6tTpEwmmRttlIeuaDqP3TVSLinoQxlBQ3C9mtCRzt8gSD4Mp8+abSN23FtKki847AJiNKmQvqh5OMv53b1DmiCxV0wIVm01z6TFtyUtimN4zDauZpKJo6iMaD4+uQxYDImHDYHickFnKnPoQ3+Bug7ffK1h1xiss1tD1BcuCXm/pxvIWnLW0KsYLRuP7ZHxlTTe7Fw/p0fHGalCblWYjMqh5dizl+iWF9CnWamxil4SRaNRQtIVhwsanzAfAVsK7IgbL2Bt3TQ3FIH34xu+vOOYnfYm0Ez82Mo4iLuug3Su0V8e75m2pcYR/dejspf/iHUGq4dLJp67REYnHQzUvtl6SBMsrDloV6vKs0zVJRzv87B4PFPUeNsnTwhx1XAgh3DejZ32MIWtN7ySV3vCR+kZDF2/6L4RLoll2y/UrA9euotP5PE+HJ40lNTmCybtTNBb3Dr/v57XuZe6LMJbTrZToejSJX6RdwhiNQLHOw1iDVmdKAllQHZCBkYD/NiEJIHs4kKWpayKWVGI2G4qU3+JyEjYrDQZPHrBMbyq6podqGjS3o1+4eF29bAsxJ2r9dS5f1vs9llX0MCgkbosniGCQisQDxKQp1KlOuep0JpFstiupcAr4t57BTFdCvvnElfGdfQLY7x4u/m/IB29VgjBsLkIO8MKRrRIyR3Ntc9lzRTQc+K4oC/VqnYSEJO5rIRVc96XGVEZGArBFLRVFY9hbGZVlE8ArApG5+OOIUVVagCXeoBoHMH+DTb8yRYNl9CuFyn4KmIjVV6skTGHESJSlEdVFKFmmiq/UntSMX9GO+4BEHk2X7NfVTv2LSUTxJb2ueTQvEtClfbWa5xnuQa0Vp2miZ6qIFplWTa+hjy7gtj1C9ic1unsmcO8KkeOs4S56LNqCi1+ib8edzdEqmvS1BY8i3r7MwquHi35Xvs0JMOy3sJi47267H7R5VdNTODZIHHtFSPdfourCTXZTILInOfDRZWCLgvjmgteHDle4Yk8qc3tnzB9TyFf1vzQVdtD/fVm9Q5TMvf3MxI8uweQwENLFI6gs5oDU0bjuG9mQZup6Gm3JAZl8kNiWYxMY9024FK8jMVS5Jk0j0Y6mOEvFsQhVKcyyoBaRIz9D5d8bMn6Pa8U2UJAgPtmN8jUVeBKjn4guMwJVADAQjvdOsUE6YNhYX0l+1Noo5BMRk0iGHW7SuXHDPKiuvk1qEU+HMRimIo7CANw7m8RAmh7Et4MIOYbw4QBwpUA4nEsH6Ha9+kVZQsr0PHFx0WTmZm5m6dw4hbiFGIzMldt9UIAoUjbW1htljyq3FzvTzhvNCz9Iop3l2qeyi4BSa2UUnAgD8IR0O7sxYGoUQrERkHQSGyAcYUoEQG8IEDtFO/0KE7TxQTqhpiTtUZ406NQQ6mePuNak1wn2nUVvt96oGP4yvJ/BjYGhZrXgsVU0klR677s3mI/H5I5ga2YoP4TRZVz85NYdBcOqc4BgDmCfACR5wE8PINcDNE+5SdFbjVw7aPTLNzdyr3IowhfCTCHbTkmc8W+89s2d8Vn1KRyJYdDGmpflvUaadT0fuKqghU5CcS+myKLhFFdnEEGMJh+FIRgxgujg5lAVAVHEAKUfYPIBiO8DtGfANsZ+grD3rae9aTMksP5L4PCxccdUJpoTZN3ao6rzxZNHvVpOodmEptpWBmKVQySijcHCqGQ7IaRt34IRILQoHUNBzVRHN4VARyKVBAHR6BtgHrRAKZvDNAXplpEJVyFuEmY86aOnL0+I/7ANgggjz1jlZ5EW3dO3sdoq3rN/qnGi+VIQT/EPWqVNvuk6lnU7vfOfFzi97AE1sVbWPI4FFRpgpBPHk6FWggBRZoAUoK9bAcVCBYg+RVtMa/nNnqtSVee8ZDPVpLsgGhhBPruWWz2LMka3lrsVf1cy8y7h5N+IN83t9PqFM4CSsqefusAnKV4xnG8IpkPA8huDCViQI4FAWlQ6lkHMzBagNNFhzBEN0HCFqQe/SxHyu80ndYkC2iWnxBOBeXxbs97FARH6fdOvHxFvXWypGfsaf+TcZGcXCAb3j8rkdTDZ2Qr4llylEgThcO8xiieZkFS8iHFiWT3QzDE8apMwgL2pQa6kE/JeQ9k8T0LFi/+WWf/JeN8p6to8VjrV/koTxL8+hdp1UrN42yAlRFmes4h0Sxwnvc+Hzd4UdxWPTFa3FKX+w9txVbXUMI3m8ir4kj2TCIxzgQzaAS4/ThKRXFOFeOMEifuwlsM4XCTEHcigLhUDz1+Qzmtbuc3czp5u9Hv0wUXPUmiRIxU/eNpkF6I11ysKwLK7n5Gi5kBfYKTRAhnItIXREsSAxENd4h9fAiJ5ROon4cojRosce3fTFmS4XJX+2gX2EFSye1cB/PJB4BAwbaQ0bEEjWzumSkK+/+EmnNB/KFg14Q24odqz6Nboak5j9kqSjyWl67Inx8DQmxcJbKShXLQ7jOI8ZlZIBNMBqggCzJ+8QCWem6jShLlWp6EVVCYq5ziYOyShmncsUgGRJV7bKnazCUQxJpnpp974n812LjyF90aH/ww1NP9BH/99iMJFsiEy0depAhJpUimmOcuMEH6CKj9AjKAH2AjgESBPZeOEXtslki64yFEeP8Ypxe4xtc+Ru9r9KLYjEovxyM9CXRe6KywKEx6MXaXr3P+/oexNNQ4dzV+zJG81pJGjyni1jtOntDDDTp8qCs50kgt58DljpbtEqAMCvzzq05ThpIydlwRuGbNYIvENYiF8poDxyox9Qb5IoCy/He/VlQ1UVoKouHaFGXbqTEwMHWEoWKfTW714blYRMIj/F5W/V2B+JT6kn3d/kwTpTVoYm+uLyDFJ8RpZ6dDc1hmQMoTtgkmFXqHa52WBYAm6mckjp/OCLpt7nUcnPkYCQOuSL4k5WaJsB3oX6Sp8D8NcqiQF7lpeUyrRglcJ7zijwIiTEXL2W8dNZMzXRApwvzGr+8g3KKAvys6C3eopr4ypKNou06FmNp0+6VhsN5WvMkz08u54od5Rwp2CN1vMhVcRPKbMFMkRP7dINnEhFdugiSIZv9nJNz0ZPCm8KcPzTITAIKK1kbH3OQHZE+in4T/DPao+UQZnSMMamNoeXzXLtyzV2VJSJM3yusaP3IfzSAPOxye/O/JDQrpsikiBDyl8IaeAbkpEBFXMsRuxrhA+u6xNZyzG5zkztGQqYiVzr0PHntI2h/SQ8YK6TGfeWK8pSfmk7LZnxKHpxvNeF5JSVxkSPb4S59jY4pM3gRKcsUr7EPTZ81F2Ek9GCi17YMoVknE8qtJAqVIiyRdVW1M0uyWCuWUgBlUS1lnJQg5bjyqVbKdxxlidw4iQhItTTnMIG5Gfr+OWix2JnNzQe8k5IlRYTPwZ2hYw2QjIiX5m7FDdhhCP8hqOzyoi1dU6aMaahT4F+GIf9dOobE8zsuAyo0wY0+m/IaM8N6IBXVTNcKuTju0uedr36hNCjmsM7ptYY1pLbfUKVVfFLvJchTSCJDhd01YiA854E/8sKEosygyU6Ku0Pot4aUkyXzGTUxI4H8PnlzbAooWYjJSQRoOWapFXTfAuqUQRKc5+0NZxi5NgpGScV4/5JnT7FPJizE0PKJETHRX+G+Y65SJXBXyjflK1IcuXLg5sqYzrlLeLhpDzHCOS11lvL2jQDai4E9YRM0216tIL/K62pgHxVxJiJuFACLjNN2pUj8tc1v6h6MZBwWYZVBFwwqQIXqY/n5V5VIAiLrGvIFayuKSTQicv+G4TsdQ59eVRq0uJ4d0MQL/ykaI2XSkW74mydW5vF4ZP7vYxb3SKX2g+wkr6QNF1W7SXnoeVEPyznNXbLxVo4k5FlZbq3wlSPegolDE5CyUb8sc4p4CVmQN6unieckkSQlaheRzHhtma2grYQY/5brHLoJtYavpglzacfocuvhPhwVgybXCFu8li4zBPCEzO+HbfmWB75iuWp+c66ZqLGnap283PV6L3cMsGrPrbMJFMOZL1mJzPM2toaby0q/VSrkfyriXHGloE42xou/OleNKqGe4hJ65vR5JZBCKNiw1nVDSMlSiKFChzbhAJfRrpSDxa+jzrOzvywf6Iv75PyN0knIHM30gTR+BV1urbyjpzM/H8Nl5vMimg2UJcILxXUpAaWHYBWNyD/gMDGubUUWtAlQVO1SKJL8tfns7ZV1MImRCzLsSNZFgYHFHuxlIx0Yo7Fhvp9dRCVtrbfWWTzbsYT+lJbKj84icaDJ/L7o0VAc1L+Pw3oRmSjSiyjozkO+KdISosekf1cA2/sgimJaeTLlhcgINklOKocTv8+ltV40QHnxgI1rGd/4ThOVc/YCfLWiYv5ZgbU7STXq4hiUUCKq9QMZBKEQEYNjFjJcAT9NCULO2hRI6GgVuJnFG71q6ieOwHSA66H0DJ8gk6uT3vv5yFi5qsjUZVfqtgMTgioYzolGE/gq+Qyr5an3IxID8YcI7m5CYoKyrLKF1TPVCqpLz8abK8ii652add8gVH+ZbzI+qoJlYTQRZ1qiMF65PzkWraYYF/hjWttrtRrNOok6ls0pSnB+UmQiatllVPFKSFdFFxmI8ygdSq08CdwueJZ83Uc8TA2AigxcdVS1MooJpEKy90Rx5UsTaIp0PhnAI6Cpo+hzMnub+Le+6g9eydSItPV+lrfycfIsfDOwmqoTsDk0Jgti0U0VNvqndd5IlmJn//jFCDD/TgJlAu78qP/CAkoBX/1iAHq1KccYAk9fk0cQEP89jVDX3MIcdoxXYncdrNBXXR1dER6D1pLoYmFX4x8w24luS4K11qTk74dZ7M+42+gF4AdBPmfYft39G+CUJutPPmVjLL0UiZdk7xkK0B/3rleUkC5AQfqEoiwRLzo1QEdxzyhJsMRI9aJUg4h6UDhYOxM5DRP2qmRki3iP70P634fRY6amCEgCbLsrs2qVVqLCSYrI1TwU7N4cadCRXeBpmzxXJcPwkYXnVFEsnDV2sDlfTpj4geH7cKUUp/6noOWHwO1kCTVBSepZ5qew8/RAfUdhO6jMHiUG1GMTkexGSZLaO3MJwnd2omMwu9ENEl+p8f+ouQpa7GY042lu0pBRkdCkXe3EC7K1gbYHR0KzjBAfOnYiBuNnZHeffyEOWKfOT5G50LLnrKdID48VUnIIrVKeE8Y01j/pd5+U9m+oLCBtGGA4mwimr6gsvmEBOX5nSq2Swg++p7LjLYZ0bno7FrK+XE8u8pJ6gzoEG6zjayqFyp48L4wG7xLfOTZ3gRI2LFr4EoP6st6ECVN5UcvCVMnpoEqC8xSdvNGyNoISryxCYP+cB5j83UoifPjIOokIum1K/AxUPY9Lo/YcKVFld8R43T0wrd7MMRwoKerYxnbRAtvyJxbjiulKbUh3lz+YqniTlfEZ2k/YxP4jF02vCU5apaq6x9Wkv/Ul5ybLOz49iFHtshioylvqXT/qFN9hhSHOdqT0gRB8+9xSl2NxhiFCRBiKUYok+pSa4aqXgg0BNhI3JfaCbUAXrgNhbBK8SGndpilZGom7VFL1EXCqrmNF4SWCj29MeGzkW5NRRZxXlkszrvg0zu8VNqEw+C28URUotWX51xU48jUMLjeYRH1FV7S6VDU0qHNo0Gj8v+VF1iq/K446C3ulqcyZ4yTCQfkM+W0PctTElVS2GomDdaQzvBVoRRMGpVcqy9UzSd7hZlnnA0knQxDOAyt37TZdAePt2znQ7TnpaVkIFMvq56E+DeINxUVrLLUq+a7w19cN9qKQmMIZCXRm6eiVG4ya3+qlWwKF1+AxzxJYpqh+hUK94onnWawiwIdoIr8KsVqSL1M4k12cTBCMIV9SSHJ10ijpGUGSJxiuCa87N0NhnCAkHyu+fB2Jbn7m/wwmhg6LhQjqFpkkqXIol0yyx1VwQRfijx2c4mmT6NhuxMTaNT8ALqGEUv+jbGgaRbXPvIDENjsl5v5L4G4ZoSZpw3AunIUKES46c5aNUHueKpSm7EFKRJgmQVnjyvmYaSMUr2+ShWicl12m8NaFm42OYx50Lnoy5+EHdLX9gV411R3bQm38dhnJNhM8wDycmM67+X8MpUJdrvYtqqxEC80HSQTIDLAi98iHHshU4KDptFwMPlmE0okZRal9Fdw4m7Nf3dWoIy8M5oYk+dyrE5EsnQjfVhcTobwfPXlGYKTQLm4F8IQkuhSTj6JwXSWpec+hEdCSjOFZAmkIRYU7JkjA2e0R4S7fI50HGLNa70M0F9w/bPEkL4RQSOoazCcYns1UOl5jyQg5fMgJ4YKx9Iwz8TW5xD170dXfxqT+nqwTWJz5oam55IjuRjM/nREOeKDaTwn0KkAlFRLiNaYKfjwTmOswwVfqcKeV8I4S6lS4uOW9cLIo6pgIq7RerWFF2oVJqmX7TPR1uW4yV2JUnFEuQo/ubj1VjrWWSHQhvDBkHUsKsmvb9wHdgLSGINtNrstNZzdnRbDYvSbCFD3faUnl8cIClEK/vN+xyVIXcT1dN6UepE0kr5IV+uxtqtQ/0y5WJrhI9tZIKsxxskYEJejjTnHMIo+vbwq2YeTvhHoY4ER3FUuMaVWBVYXxxpBHO5eEM0e4wjkjG6FSZrPQykbAwwQJOkB1QtfU9KYnhLXFnLjGR3B4Jq712cwFQ11bK20xpvtyDnFfw6DoEfOxbMlUlbvJnVyQb3xRKwmLZMQCG5L5JJyFQ9YbCCw2mey6n/hvG1yY5ajTGSYbeJBOhrjJIN5pD2jiFX95pLx0asri4zmJcdtXILxOK9Bv1O9cXZDdELSOoQOquSJZNt3IBdsOdOrSi9BmX+43NRc6L8VkciMORQsy0msoXupjgX1+tHtGOp8ljhfgr+0+CaGGBD8uKLFEhwZ73L1SHBsr98GFD1amdCVLcmHhS/eDBu9m0ZIOUOckR8I8EamgniFIXcJyOxcIcgpEfvj8YyvUQ5HxirzBtfC7oPaZllYIxGLfxF8JbATR0KbwlFCGiHWyzGPiLIse5lvf4L49v1I8l1IJRFMYTSk5lRcoFcEciLLT42zS7VoSZSzrtqXTIg2aM4unrX9EqsD4NLyrd5jHcnp+3YHf3EEgmzqwOR2ExxW9u+hrHcocA1BzbGmeII8GurRfH0zwVIzTBRsT9IC7PHIY066bQzyJC4dlET6J+DAXV2bqtKFM0DyLsEyXZoTJMm210u0s6gr71BnQKBFQtBDyCsUGqSdXqdUTFF6gUZEpbWVfeIIlDGXiQlnyrixHmFiXav3WsoReizFqI9ZNxF18F86dCtHswshUU0rw5aEUV9v1a1KP9osh2pcxxDuPK1VJkFSR6EzEcRBiMpmWUnTqBIP6NaSQvvHR1x952ZPQKA0kUhBQCmJxPGsvtTPsgqwlz15H51FOeo/x89eIQSWr8uCiNiyOgujIYyavayBVz43paM6SDy5K2fTO0zatfVuiJUp5EYjWpJgstb4ZxmTlZHPRiciPo/y4+nF1k+tWMXzQdCOrKdrFwE8NR1TG+8yvDXG60BVIEiRVj3CNYN8bVhJurftK7SuKwylxeJ6Az/MgnpGLuZ73f8xV4rSdepqilx3AoT/e+xhSM0oDsjqnmJCj8/Z7ZCzt0ZruOIQHW6c1NJRA7y23HkEEUAoje+pApQcocpptZ9EsJkEqCbO0r6LuS339tPnZagdB8GAxOWjocVLNZOQKVd/2kbm4jl6SZQivc6S5iNL/tmpBDGM1oTEfmTEcnkIklsppX/wEDefDW7UvTNCy4CofC+joM/AUgxFRFNkHWCnqwmDw6CDE2H+EP4lEXyK6+3nROyaQzBhJRdICyWqaOQ+F9PPHrVPyCCQGUlVe53ji5mVrl7VpRhQDqeiYgV4rlp6JzsLSs9pPwjp6G7LzHg/JYfmk9G8QE20joD4d3wKsMEHfcnkCSRBxhhuEGF+7UkIDg5zBQKtpI14CAKSksbJD1Pc4HZ1b7z+0fVWUfYuMUpf9uOhpl7hHnXfCsaWXxw9Sq4twFVMVsF6ZafQvUvItGvaziT3bh8eUjP4COKJHNglkQOEChDTWQV2Qm2+JUF6ChbpoGd0nScO/zu3KJ4VUMgeNNRmrMEovJRb0P7YcP5L3jTJUy6GHpK11SI9uqZIMbKjk7TplAOQQCQlFD4U3hKenhQQMtgdiimaJrMqk/vxJE01iiJbHHWfuqWByMy8IMowpWzEHouOJ9tO5p7X+NZjkvI5AlO0NgaAZmBMy3Z69YUCphkF2clCQjqzrvpjY+KVe0o6JBEPQtIZfxuFjNkiXBE/x2insJjVZZ3YaHw8MmsS4vb3qmxNOzImMUVHhEl75qN7Il8Ws+7byY4TltFJavM3Weazte7ttBQbSrA6pdRDhdbq3PSeymn5WtTkgG4vi0DeRixObTfRy5PT1TmupVkfT1rdxLbBanXuOGEnVeMDP21eUlrcvhQqyHpeSt53aOZeszuczNAzWG50I57HwUrIj0uTL2Shb19+uCEWUcamlSqN1RlM2fKLBRdwTNCxUPqVzANEIWHXBEJgkUKeFhowOPlRhWLMi7wu6izmMNxFY0TMFDwiLKzrE04ToQui8SIFgSZftjxSgKEHiSO5Ni8In599XCr6Um6osw4pVOqCptPsPG764ku/2Lisit225ZqHtn0efj+knzlljqakgzlMbiEkPUgX4yKRCgMVlzGfP91fJjzMD22Wc72FaMvxcsWqM3b2rXLOa4lK1q4KxIb/QQHrD/yHPOgSuy3SuVypJeuUITqNhnAzodiIIf+sca+ZYrVedOebRLPMmk5qPFtlUd7K0k+0gow5T8LoNP+FSDdJkeSOk1a4ZLVUKkTjBZQFkRwzJrE2Igl8mMH7yJ0bdUEx5ZgQLDCYUSFgur2NmywuvCiBIZWLFBM6LsxdNYfeWKTHH+woblja/g0T4EFCRU1LBMhQC7zUZdmFkiTxpfpxE5cIdVM6JW3qNncNfDUiJYJeb+2DtBOq41gczyJ+YLilfz+Sxds6UJbHaN0A17mKRa0cr/35C9FuaMRvbBXaa8xWBKXL8TmMWxtfC/FK1Rp8Oh9WouBtmjq8AR3Qq+MFRHkTZIE9IG0eoG2m1J5f7pwlyl+aY6qDFnC+TTBrebhIpZZtNE03/lw2vIkAyhVWC7R8hWfCadY6dKOBoWi7kRRnlw8iC5ZKIiS5cUSBgoKpxRL0WbZCZVh4TTqUbH2TzMIN/nBJOJNTJsUHYiueJ7sEiJuYZKpnhwjZb/bjYpdeVwvDlVeY8CgQ5mRi8gxeuCmAtKGa1RN+Nv63WS4HGTQrqvKnkd8SLFTbfWTjz80B/1xEejTey6hgAUQRzMAB8F5EE2OTj7UfERvFELIbUNdmkYIAWtvOdVzW1ZvYLz1b11zmiLwuusrsU+5Nu6YaFRcgZfmNXbGaK77ln7k3W5NFjz2hdT8nx4rrnNJo2TtS0wRTRKIiAQtY7emjpk8xCZMC+4XHQNR7KfbtTRN3ogDoRMnZYFlXmmPANHAgSnCH8HiT3B4gQil8zB3DV1OwB1pLkroo0eD1aYmCHTymfM8X/SC4rLX7FGqvWq1lqOD6iI6VIIqtcbUh75sWrJ1OcwvLbtccX3N+ZhkCGshe0uW6Wc36MyLVE0I1iLvYYQoi+upyWBdOyZeRqXozljVz1+1q2Y+sHsY9eFlqu2TQtYpDRa918V3yi++hCh00T87+BleQOg3uvSWP4z84RSrhWuWdkM8PHO3hv5FuNLF+vfT/u5gmHeEFWXXmJUzKOkHXXtXBEGeUqCivwIksWptaqQ8kNNb3zh0VOKuX5FpXa/WV9Uc5aWYVDZ++POWbblP32amOlA8eRifa7Q4ShA4D7snLSUdFkMWqSS/w7yP5s4kYeiJuitMdeJNYK2ww3K1EKiOqOQ+jkEXlSshYWbUJNMMLZUzP6BkHjj9p4LxtGJhbBSK4iFfZs+lxpCZQws2PqllZUdGRKZsRHzzCpjHqZuZGt+Po/YbZM8HZnHYRaDVNemxMiE+Nb8lpP4jLDFa6mqor3ExwdHtm8Xmt02Yiko8E6wsvTkmFiLhmC5EexWlWNHpY4VVd6gmAmly6yDuSmVtQRDIAB1SAPg2q9JAXFU1kywBrVUq9LyolsXxhYmF6x+60lVEnQ26CesViJl3jjxiqqpEOWZxpLaAQXiQTnzTKMliNPEtJWKPIp5kLRYY/+J1dTbgvZ37OoCLfs3SQPKNquPunH+QoToq1sdedxtg3z3hWkSR//sex5iVtkrDUKRRbEQ5oeDau8q9bWw+k8scR3RX34z3Fe6rbeebq1pfn+9RPhnFQVyaIbCv8rCnIw8jbYJnQKmBdxI9xXncDFF0uowJVUJl90J8HSCzPlM8P+ygiE7E2hSPVvUpaMUM5PndoGQcx4HwRCFY6pL5nHYMoM5NJdKslI0tB9U5aneIUkS1okcJgWwhiK7oyXwGQfwkCkZkr7q+TSO9MQzCc1hILCGSHw4juBpCA64AQkD/t6+E/3wsATzHm1TNCMWTfhBmghSeQv/oGEbEnrBGFU5e1oy0mlTv2TWAJkIgQSnLvwc3W4itV646571IWdW+CIVhLFjkY9LS/PkULRRxEOpVvQfu5WxwLPIdeqBCY9ccrUEgjWI1WCs3q2nJAWUAJiWE4GhxQYAIV2Mu5r9acKrIwXITREL9mRMQQ8+MA3k8Umzr1zzKxi9IXJBLDvQUqP+lFUNWWa0Lesvd64rJg0DntS5CFMUQCj/HhYb5zHDVSO6HC33jqbBEiQS3cjjYDkY7hdrzQrrQmJUOMRnIKUhV+JaAK2A9q3EyiUBYANwZI33Djd4bEE9NgHOXaHyQyo6ItpXZtyoH3BjjGdaM86YQ1TDDJkriClV2ddLzU9KjMN5U+QzhSrdN5OiSsMx0ourUf1INiZehqgz8JAsY3/+MUIMfgSAEAaawqeXJbkbpKipr1rynuJaOjSwYdg+3bNu2Fbggqi6XGSgKXEwntCEBgAR4iTFKISCh5mRP7WVhOkjCsyXzASIWp6quTzMp3wgBgXCRjOkqSxklpWhDchaSgzVre7QeHOlW6DEM9kZwzlvW+G6aV5iW6ef/Xu6BIIxaNVAJrQrxQKxLYAni5VGOyWkx3LYD6T9wZyjXM4mWUsB3QADLgPmHuA2ANBADiDoEwbZ0XKKgC7hFS4C1TfMiAhORCTIq2Jl9MCLQHgLMzWT3tgisdlrRkHM3qbJf8nWej/iCMd+NNA0wwR+yGtlrIAnFL7un3vGaq611HtRMETNQtFxJMlUXlSE2TxG1mwZI0hwhDkeV7V9h0BuyZrcKTA+UDsYHCaBmw34U0oRcUJQpkjeQmWzWseRPeeljrzyul7k4TJ/ePmdNuFGI7RPBF+0/e8GhatTozI8FIOSgz0JhG0Xysit0mscV6Lg8dHK9E6FgGaTqeTGkk5VXaIdKYDzus8ypQ21kJXnbIZKOTdaXtqRjfwiyIWYHNAAGNABjREgHIgDaAKsDSCNDAXfJRcDHgPKhgmmy/JFRR0jkkM0lmWsSQDREAqkJdNB627qckRELjpiM9CPlOqMsX8la59PVFQSTsv6NyKLo2ONgvirOoUD8Vtc2bntc7mCtpaheyMAuKwNitaGJ3iSVLX9ejbYlyHo2g2HInsZE37KNBZ4HevxOMLmEIC9DQjEmrVBMRzoYOu1D1+Urlfyx3GEkSNM2t8kdY5aro+tmZb1h4X5f0Rfrl4ayLeJcvx7p71ULeH81S3fTmYaDwLT4nDzDxMQtXKo+VTlrUNmyLcrFeBBls8V8zKoovFkEmqe3e0ZpEkm2X2QKMgWMAAcGQIzVcKcEtDGBARXxjlp3tlIVWNh+7qoJsNA997pKMl2JndolsF8YxN9/wJKnIr7+tiKZb+TVO1TeEiLkIm+HlUJrZiBXlvVRg10WDwKM6buChrCQ1e0Z+vz1K2xYeXOIrHYRLtVjPQjNofq6ol2+pOZzczptbnc94hcEQDugAV8A85HgYwWgOIHyDyD6dikc8BcwIWkDAdtR1DpBFobY+Zt86OAeKjV2/uYxGBRg8RchNnyyDCRxLBaBhEMzQrxks9fxAhn4TRXfSfMEZuT1USSNwhuxAfJQiRYKkPDgVhGG81GxR7KbTebdli18Yjpq3mWQiE9FyISCZgSEKKiQ8wgQsQZYYQzSFJadUVc7cgrCQ8Oib7DVv62OvaQ3ReqBB8NHs2QEwbh/Wkpovi1JUt3KU0wKcwOoyepIM9CFfqXJGw+z5NjfDRh5BaOyTRppmXNrRraG+hjqelTeqnZ+0v71k2ntTZE7w6IRIIUWt2likNAfAaBYKYhLgozHJnvI82a1hSFrVQHzOIBYIiCQDkRVKlz8qPV75ZKQpksXX0GKFPAlUWzGfT2KpM00uaIdNlJpK1t0sOB8enkjUTBKtgqe7WEo9igh27oxl6wa1HNiEW4EGARILlRulHIEwB+AEAH4aFkJsLEYJRrcmW3dHIppyhgeJcJ5WQNonP5Dki6/X9rdCZn4jbYNg1rJZNQ/BNYlbjluO1uttByEi7gpDCUDGTkRCe5vE2Cn0WgWWaJRasbvenKNRMkC4km33SrY6YDzgQ/OFwI8LcP0CaCucaxuiEtL/BoHr2XsZJusi+9l83WpkFE4EL4jASci77+OdxeFxEb1Gr1LiTnD8gsTUYKK8hsKt59yxJEYdGtTP5aoBJLpeclC7PbKRZazG0+UDusLX7Dh7/L5F2kuYJfqCn7eh7QKK3bILYRgwQiQ3Vu8bwApRtyOpJNUgdhYCTL28hE03pdVa0QJIgi9ImAiL9ksmbVXsyL5u8uVRXOf6CWJbFxcXfv6PB1UrVFE0Gq081OR69eKUR0YTebKmVeNsGCGgS+WEQSRTGcO8LhgpJXntcfjcyktajaUeol7Gy2U3jqJszkbqhLESW91cnW4BI6l4JzAaBN0dzMc6CIUhOle3VXtufdylCt6K2rkAUCwjKubW6JiF0qtJCIaRi0m2yX48BueUtnJkRon1vcylgSh+MaD5q7RdKFSDC2bhZUiN89vpq4vErr7QXDH6pMkrDVcy0pPHMuq5FSXomWuz4gNxO8XctpHdXf6g/cTKl16D1USCxr/2TaDWGMXbLxwuK025g895ogITMqybbIao24jZ/ypD0rGzpRfQEgRMuqIke6FeEcJMwSoExEsM8rVMcGMa1XhLAlVu+nbcPxyWq5qeF3/UwnKX0twFwJBRay88dPHHQizVPl7t2V5qFbI4ZfKZ1v43rvliMWAizwxjo6nLE7yJYY59/FCyJzDCf66S+WOfFWQKnCgadeSQT9VrdIqlnS9NrVVurEDIz4aQdFNucTxIYHSxIoN3PIlzvNFHThM6EC8Tq2d3t7TqFSWOobjr21Crb/u0siO8RL3SpD3O331K9KNZy/RUOGiS4xUITW3j97pqg9XVCgsRjkLywoLvw4FlyO0aA+BXKg6L0XcZ1UhKekwdM5fbZFAkK2975ROhIMrjZkwQVWS3bCRPRXKvURKfLcUbFM8KmiQ0sciN6c872Hm3yA6W7oVPJbqsqOqDBPI9raqxws8fVpVN61UdAiJlTanZPx2uXsVSGyBOaPpECCrLHmziH48KPEGvPd0E+iVkSqKEe0VZUuceaIW/9bDWNFlUuIgpxc01ak9caXRESvSujQgC3L07kK7oFkRk9e+FPNN73VUT4R6YExhBEICpm2FESyWGgqsVERPhUXA4sfLeMkAmxlOqErQGS+rvi/qym8TgQuN1dv2zxMjkbTLm1MEkAgqLp+QEUpEgIM7MmIF1etjtvEjbDR1Br6f7rHxpGLgRIE8wHetE6nh5B/2Ki5AXwcQmUJlLpaSXVizwlGKBbRFM8pFemaZ17j2GhASZJmME1ikilIlnxAlDJdDmaRJAp8PGmohwLiSBtnYR8c0yXDSCKA4aJVUG5rsd8GhPcRRAoJDrAIdkYIkGTB3UJG6RsMoPEZOm6lxzWjl0+T22E9Aito49OQib1sGWHfig41R3Wn+ZGRW7AuVeI0mXu0sPyJsCJJEAiLoMJkyIUJ0VVT55Ty5p1Wn25dOrK8kZBh2U7HGy4RJckJyWPhIKhDZP0n/xdgUSKs2KJ0uVyt5ppNpKJaHEy4WEk2WgzpbmXl6qPVeF+OU7bb2wpNdMEFIKlRxHZg3gNQLHwaBQ8M4ZfqRGqRHEPZGsdePJEUDMErIjRxfsIpC56XA5+ocbZKYGE/AmQVfzdTROIa74JMTPpHDfqu8RRUQLBUaigdagIuqn3Zl5YsOa6NdDf0gvBkbCAKu2W0UJmLaIAyj1XJ0vBxKozRVFcgbCS+V00F7SI3CME5eWMo6CJZDLkVXmBkROxmEy1iSZp/+oylMXM5DETYYvNAztTVkpA6VKedeQp7SDh4KqsKG0nYOSiYWVrNSSm6KbmKKJhqfOkICOoY6ej5LeAX4MQ4m3lwzF0veSLp29gHn6AAQlC94VwmvAMw+urekoa0Dug8xPiQt13pvJFNR1TOhetI0tdJRfyKyN1IAksiqeXSSPcnksIhyY31Pkoz9Hu1/xkLjPFlxClRt9Xsn29dYkOZIwQGmcRP1i1+nmmLgkOw8f+qtO56DT6imTPYwwxItYe40eTnoNHphACC+HKyNBIA/vt3fORj5OmFqvGjGhxahxe7LEL0OSF3ZNplzK0CjvA/sRAkoJPFRW2MDBchc7yRxhcNZBbcbZlIQ+Myr0SCKUnJiLqyF2566cneg+8QadFFCQsbGhDwJQCOr/5b5VuJanzK9EOFX5u/86jP9zAB0lOKrSgZTow2hxQq+NAJD2pWC9vEOcyVazUJEA/GUbtFYSjOIhYXfVcQeLclHlo+SLNsUernUrkZbeO2zdT/KxCtf3LDLO6Wwk1mfsK53+R+7LCWWM002FHU5Ek19kp4xQEkbXyz/rFC9FSzxCtg1entTRVFIZYkhERFdIuvd/GFSjRbJTFRf5e8WrRkqbrnakhp6xOnfvKaqbZMYx6TM1PjtGpc+6WNvO9mmjp97IWjCAR6cigoDMNWhvtxZEWrKYG/YSxWkVc+810dmaVis2UMjj3hxlo6YDOuysuKp010n7cypurq61NtdFmav+nT33Gb8eb2/rk6D6CRpUu43al9YvErHBTs00YbX+pPln3WmaEfRdYbV4pQm20Zds+kVfISEe3LF003nAxHoaRFojH6BkcvJ5onZBGmc4qgn1VyB8lKqRsOq33DgEqo66QkV7nNtozyOnDlJ9ZAG/7DRcV+a+a+ogAIEvbQIMOibxn/+iPC0O1qTJo+u4TtSv9FK38gZ1Xk5HK9cYlSYGe9ypP6pcEZEa+Tt4ph+Vacz6ZRB2ovYI7EoEmsoQWhLxYBuqElAkhGujtBzKNGlCRxtgzM6oxkub6YaViJuElu86fJOnfof+IIKBrBTi8U5ZTFXgItg9YB/J1n/0Gnre4qgvYX5ClxyUkp7FB8gejBSqhMIICHVqgVoUH12sc7e3fJ1SETWao/fsmRHchLwYeRNZ8WU2rpzLUPhjNdzh9ij1rATmDJA+Ebot2W6y4Z1KPLb6xX5DBjbsEw994Lxiu3UTRKz0DachcoIUmccveKs2XGVY/dxiAYoojNYsgGvJpzxUMCE+DjQ0YXSxxBw58IAOz2RNz1XqcTMuPqeUrl2eTPcdoL3+K28CudbCy1bElljHli3DM04SZKh5aUwtXwur6CEmAmOHkmVOf1Knaoqpn5YRWPLNUHQh+gYGS9Qa6SNlW7iaQdm/zO5IQCS4ZOmavEjraYenRIvRINbw+0j4pcgZLNraOkDpVzDdQUYBXoEkBOsu2gaIPXVsW6JKNRQNWmlzVRlG3Hv5gTc6W6yd2Us8/vHkSG7n7Cxx/w2M2Rc9dRbhVozVSCRSRiS6aesMxCkjLb8sac+4KNEtN7318RnLnpCWq2rQbtaRLZZ+4FX2YEWiDD4eGTARuWI8lRE704eWFADMTUEZ71teGVb4pMBUrnJoIjNke2n79conHRpB0WBcnLwPdFdCyzfmR61i8veAjFujPYOwDa2LE1mACiw0YMRksBaZSiz9wsWzUYP1fw6tgURqnLEI/46KlwnqD2wnxyuCzB1zBeQekPVDkj7YX1D9UdbLJnYK1MOFnmJKDgiqJl+AxEKmDxx6TBxA4J+GgvAkVM6PE41kvAyeRIxL8btGFQibEXphEAEsxwhItUirv4285q50h96QvSExgsIHIhIRL+QRnCVgLzI4J9Y4tt2zFSLjxzgna1tA/EF3jPhaLsNKLjLoeWnhsIwoJxPwV3ZETyv4lnyhHstvz6J8o0lLRfa3u7lRghcZ/x16tLoeuQ9W6L0LQmhObnjGvuWJJO0FXhdQbGGLFKo7I+JJfQ5N0Ddyqjs3uWPuLOnzrep9mbDLAwOGMcKzHyBQY4x6q6q4jGtTwjWSeTLgT7Ja1BCMHq06OF2mjMjGhhUON1kLk0H/45eTWLJkVrXqtkEG4d4fcISv/McshPIvNP3kmkJ4H5+7riar/Wlb3HmjUHrt5BS+VRWgwPAOAMEtfqmUpHQBnYmG5gjPTFfgkuQCSx0Vc5e9mJrdrJD+TmIOE+ouDefjGtaYc0bzKOG7yX3qaco6JmscKExsu5kvJU67EpMIW0U+AUBJTIhwsTWfzaw0ziVIZOPqERKg2V/xIhsuKr1klvOnjjJkz5lPEa8MqegPyfuTEeWM0IJYQ6v5JE2nmpKIJPsMVSkt9OVupKL/MmTjhHusGE5hUx+v5cwhvjPj3fHtMmb30jJHq+G986VRRFJTUB3zeEabN5nXxFyJO4yTiFFtGkCui9BeTHFRvRSC4vEV+xeTIwyG1V9Gr7zVmEPOMMZ1qFPezZoj2qPOYds+pEUbyFnxKcQC4rr/NAx7eUmPuxmvgZNbzO5hksJM+iRdBBtzdEQdfBoOoao6kOYIQAKETgkcoQAQZjJmQ6cY3n/VNjJZdMvPKGhCIGu9p6By/rMLlIeZsFHo4iDZkMi+I4QnsehtN0eRHjjUmk34HEK10ND+K4jV21hLQ1S5BzlmsF4JZgukhSAk3lwof7FEvihETUjQF45tN8xeqsJDx622N6JYtP6+g/EMtNP1CJwcRkMpsIsIvEmWrJPgtmQxoWNMc5SyLgmvF7RTvxtlyixEsrO+FkZzIR80tkmZu5ZuPKQ/NV3CIhyRqtFqKRvuuwijpJPTqYYReWSeTRRaZnEopEyimJOnNV/De0vD5SCEuksYvZPPmHepMMGibsnW9UyvqpOKADdD/+MUIMvES/7EaKBjlAIVd+1IUcwUmslS+VAi4qKTvCIGctGcXZmrEnZncqi1n0fYpCNIto1SG2KoYQnlQX5PVPxlMiEHJyQ1bWbf+vsXRrG0YREXMPMBOCPxJ/UznaQVaAbg2BzvaLPPGOLlz/GTKPDLi32GeNdqmLm3lvif7dZAiyATECGg1a9isa7sR6BO+GVPvog9w6QoXvLfj9NXnAGkCoUo9pOzn5qBIhBRlXI24Iy6d3ChtQLp/wmKUrsxn2IMS5GMevvBSw1xWFWJOQGlalg2eQbObslqy6L/MVNnbTQkUICCq4OQriB0IQUKKKb667W3o/RMwQ8ZngGyhRhaDjWh06VrW6GAHqI0pZSe2q7TwVdMV1y2n3OvL1mPWyJWgphqza0kShsE8YJtP4rUZysfNEdjhiNp+tXnQODzqWclbcLnO5uKwm+C0lQi9sAVqJYMqoSkzqrxm0qMnOpE9OOmZXDfFseTsYWV1RZiwGkI5A1pZtRZ7R4/Srmurusyu8/7UA9frkBEnEvPyZR1KpjrU2TiWy95uDQx8NF8/XzG+uUqvkA7I6VlyIWiuhuAQRcWP1BhugXIsS5Pc8dNJDnC9Er8fR0BVD8VVcfkZrCABQMbZ6bc/RkxeAvxD1NYIMQs42r6LWlBzlU/sUvS0JNSpxyIMm+XS2VcCgetUcftpXDUmEqOHpQqEcGZKkFgjhy8CQzAD62UJ47wS0ePJYMLOdNrG8K6qMoTcuLBDXO8oKoGok5oXhRWDOdti1H2J947dlXy0iwS7xPaRHBTLFxOCooyKTzj9YbtRXpR5tzMwSb1O5oS0pYIiSYzgt+ys77ikibfpqF23WAQzokl86fDTBKq0rMMbeEwDVP3fMBxSSempJgqOe9E4ikUlqCIRKMz0FzJa5sefiv+OFxNiyz80g/forY5lLj+6dzipKxrNZpmCbhVdgoR+qdDO5XqByal05MSa7C8sTR+FBIKeVjriK+hvE8pgriCGUR7BNDG8+dO2I0BQLQyKgiFYjIVXkxb79ZHY2iALhFzpnNlLiI76DQqPEkbhegOiJfTWSVET3DUw5+3gssbto6uku1QZnjdUITc4tv9LNphDeMpBI4xhTCj55hZYg8oEW5SRoQcnJCFBEizSvaeE/WhqUOpMbOZSxfUs4SNuIqL0L5A0p1WbTypEQp9jFaqIyJDRZJeV5B2iuLNDhe4z07uX7V5hDSKrObVc7j+E/EtnEv9K/llp7ZJM/XiEUlrykrgkEUskYvUSwkeygHi0RcC9sW4DZKaESuk4GNC2q7j1DmpicQJBSRKdxYRVVOeO7bqXq6Ih66WmOiJE2gzmP2qpIgiCiPYyvrCr8Yzy49/GyaciozWeHa5dYnV3U+Cc052o2GDB4t/+35prFIsU2F2bo1B+ZKiNYQehYTKflGREVV/Sougnoql+sx9rEp0uaMVEUkn111GtgQzOU0E6nMY+L7yI83+QqitSKC1HtGiYqky7Owb6HtK+dUrUj5p2XlOjEBCjYma1WvfMcjVH4smptRNhX3tGj3Ju+LRR6CF6WpKGg9EjNPK92UYzOP/kvv53KLWjiTc88MWrXxPUm/a9cPl0pW9qtCslRoS8H4rYo69sV4JK0ZgYBJRGVCh8RM5xYlCD3zN0jXryyxGL1FSgyRziSgOLZMDzRWdm9A1BOXha5SgOwLbZTkE61oScN1FI4aMR1QyBkmFpUifCRssKIQyOFoVGlbLN4t2SQ6hY0+kRI62A4VMFGk+mbCTl90LSXTIEceZGLMvVxwaWP08jcSzhGISkpCEIxWHIavTNiQxlgbzZXJXWZMsHSPRqH0qpuXMkzBFs8n/kUc/4l3Xg+4lhMF+YCEufM4CBPWXDeGlNSKz3QL0J8I3p5CR/Ips5FM+MJOY88r3I5BCMQpaqTnkSx6Sp6ry4MDFwVabKKjr4sZESDj18cTE38Q2vqDJDREmZZF293mIodcpLrt2S2HbVJKi3Gc9XPZWUY5FWdrroYIVAyWa1NXUWJw3P7wvWrTvM/dtbvSROV7B9swJGiZYVGifYZOtlZoqXjZa4EUbPD/SF288vhaQdJCKhmtEer+GJIpfFqPKo3xznX0HHcZMIcqI75ltRJ+WVxIrZyIrdm5rR8IUgzMWLOx2dzlc0hIexoPlUZiuwu3eOfm20UuU1pXPHGUlHNZJEeiZDepj+0tckRR68enPbpyYkyMFeZsCO8SCFabO6RFgZj0Ei1Dt0YdrDK184pbomKMRIq8cGKBCMoFMjjz0gIFhwxUlSqyLFPmqP/UVnbRWWk05/KaQ3E3m7JYqPZZrS6oFX6L5h40eeq5GieZAcjIwCM8MieMPieUUjdUKCVCNcW/C5mbpQiNVwLlP4UDgx2KlBdZrKmXNPKSZv2iQ5OKwhdrfr5taprGm8wtxVQISAsZwA0VMCF4U8KRFzZqLwRbgE/JKDmlibnF6VeQA5JBEjVqYhYp9Wvqm0J805SSLZHLXPhzPbilQ1v+GuscUpagLjCWFs3GpiNirwwjiRAUn8obuuChFe5FDtfYDEb5DouWYMi6FKnvVjcK5Oc1hRAodEkhS/fqhQQlZzIB4HTAs+SExS1mP1ZPsaBAhEzhiX1wVErF8pMpdLmyTKJCOc+vxiSJmxgoFGj6C1AnISAewULnE4QJGLFRBkQi121QCJ5TeRUpZvUK0gyZfkBl3ERl06j0DqUWm8/hkxhVSi0wi0Rh8QiZdTYy0rQvhUPAUsb0c02bhBSgVIIEoTdjQhDRffKwwhhlEW+yDozzQpO3USVBtsQr6lAY0G3WVfAGeA7gs1cU+CSHdrwuX2VQSfsLiqbvqi9atTRDCsvD1tfxgrON1iCBWVbPMDKKZzqFMpzOekFjwLXokxTVqxz3hu7EaJNmgydUqlU2smd1nqvU6L25jSucVF3NOKM9El2N9/igzXgDfhikSwNssypEN4iQiLKv2D2Q3XBPtgJxD+e4GS+UJk6sc2ZhZUQpMPjN274Y3ThIusJv3Ybu2WXgWXqCgGdbOqIXLeacE6eC2340RK/igpo+RE0Uv8rW1bccHREvpV4UAmH7ZzdS23YY5EnNZDDbihIVz71zn6ZEWlchRsi2ZOyeLzPRx79R+//iepVRefV00V+SA1z87cfwfE//JO5YWqZhwbjjlwRX8Zq8bqNJhbuFMEIupbWKzS5s/LYOWIFpsMSOoIYhlpKsdAqcEQNBiIL2Fgt6CK7FMKVbrykMtcROomOVz3PEUDpqoRVhC7wMpP3Dsg7swSsCPyVCZyBifcWkyC0MjepzOt6IWec8taDsKTjUhhushWkkErI92QNuWjIDTRnxIKcxJnrpVQQjuS6Y0ZtrUM2J/as6/aHbILl7aUAqYVmy4vpoq50EwF5iPkio0pAoNoDwZhfMzc1Dm+dUA6FVSxzHxmWaR5RlUpJgLCURJx9HILTjpBGCTys+4+TyOmL0b9Mf4OSfhsj9itKimBRaCsLWgiW2sRJV3QIhPSyB8Lz21DTVDlfK0wlAhA5L9MRdq3UF/SEjSOmIKm0L8QQUtHvLkeWnqDCQmiQyMtLgWbJly/+5xHofHnQpBbxInQl9Ca/3+Wrn61KGEwRfgqOj3lnmRZQ4jc9x++CYmniQXQzXJJL3UlbqPeyLVNxVECkhXtfyVRPaiMdpLueHLKxsjOf6AN/YKxx6Tqid/xpKCXUDbYyIEQrwJs2ELbNqq1DbiNhjoqpKWsW0ptOzpGCt5bip7BwV28VZBpfjKVMAiCciDLKu1GCxHQ/CMEDXsQTMz89Sg/76hUCV697pt70huKCQ8Bn61PAxG6h71dXKuh/9RnH2ko5knGq6Bd6kWX2MgOylziDqdi5nKVsRz5rVCrP1qsDctMfUjTxiVW1nBmvR/2kS6Sk0uhKeUEWf8k7lMSDkqd5synxYLBahRJcGigHRxHayvneklYHDW7BwxZcBaonEJEGSmQQBsSCceBSwqP/CCpUkym9IdMjw9qFIpsFDyqyV8UxlbUQwmEmDYx+hEJnHcRMXyhe0uuMx71lkDywL4MCrWqjcfKLIPDJSyBF+F+T6racuiJHvNnRL0l5ROGRwDqSVXm9aeLYVQ2NZwNkp9uv4E7kcj3r1b0rGXdz2TeLJXEBIclGliKaza3tvRsY+3Sbhl9vATnxDoXtgx/gG+AsxzjDvWMJROsc0Rc7j8HMCeBfGYXTko/1Tp7AEsPLHvwQIKseIsZFTR3Klmev88ahtTJ4SZymsSiLROWcIiTnNcoVO3KTp70dbx9PSUEkrG6PF6HNxJpi0QoREJuGdHhTcxgqDCbdHSRlNl7DEuOQ9BdCPYLV81XY094Ik22mZ10zViCunvGO0SKVKLo2msJxyMJkXg3CeRe2zaSpMthQCAZCfLmSdMVBmvAWZGp8iaCxxC1J4GsN6NyKSKKKHZVEJBPpvee3c4mR5hGjKCaGiIhdLbB4j+97ArokqDkbNmZN31n4jJVKqXauyvJa56nYL4TJytVTqJdOoiyNKZlkZZH9rH6ZPkJhvIhPpihqt021CJh/Q6cHre9ahbDAYElYwa4xsnQeIIEIIQRnkA+HP0Os4Fkv2oT8akN2OS8KK/HqItt09xSYf3EJsYJrBLDZLlNsveEyVpPF2unNWe85lhUbuMkmPMhLq4rLl7m7I9LhdQJmDwhv6eK8LQR6hipjBry1xpBYBujhF4IsRa9elUbL/F+dTAG/BGw7ZiUfa9WZv9lTrq7QlcbgyxcBHj4GuX7JRVYFC/iSMVHm2/vrKDu+vcZw1hRDjYtf+3TIpgoAJ6BxQL2IDDxFhNCBdwb8SPkpcSwQgXQTgTArT/a77sfPfMyjbZJzxxw94lrCrehOtSP1z5Iu1gcj7GWgoQjghRQkE6CpNoxyBd6gV2dTnVrXudLacpkpilfHrcry3I0DhghoClhBSy7QqAwzIIKbso9hkRDBQhkBQBFjeEOjnxUWJqApDRYZvRdRPQgozMd+PrCktOkFX4O7jFE2xcBthBH4XxTEIQRCmI1Eoj0q4M/jKJ+HT4G022V1uEyyE0TdQEqILaDbjmpivBSjCepbyclJglcSImBdhRj0DlEEiQtCrcp7HyYCaLKe8VtoWddlh0PanHolzqd3e/R8oUIRAszHZ7/IstDCXqr8Po1z9Tqi3lHUxu84gV/jspnu612Y0GlLKK+f8jvrsjWOdheaJan2JU750uBgAhgyg2D2o0azXmk5L2ZU5FLs7xbmKk82IlqwpKDJ9I/Xnk4/jefCKWnpVwqmz5OP2J5GW1RtynzUxVW36pQNRKzE5N9mcGkWXmC5DoIGcjiyEkST3Vto88sCsLBEtFUT12igfCJdrZ3eO58Fsg4LikfD1+1cuiI0VDgLx4KDJSh70k9Z68YFrpJVvmx9hoand1fDYMAxBeZmt9BRFdpa0p6g/V8K5rCeCuOJlR1Ibjdq0mE4oO1cLjYYGChBSxpL7VWDIWrCssWlLJw22c706JCco/XvBtf6FVel/qeFRl6uSs6FRmhdzZ2wL1XbXv4y2QyaYTmS6sNlJqiRW82qF/28a4ZJiRfmjJUxI0o4PJknynW7MPOrxQs4sSPVvFiD0ZS8abukKbUJiYdLgYMBAJmSKzHEnJWawkTtiThrrGi6f/l6rYqKOFYxzeoWYrUqdYCpRJrgglwr84IknWEJt1A0mhdkplGqx0xwGmzo4UuSDScNnHBQToXEjptuvMRuIzNna8QUVY4J4noQYfPFFzsTmKGqGTwjiGJubk53WX0tGm1eV/t4rXhjUwJNVSOurfWd1qLlBwQMJIu7/e8VTf9DuUi/d8tnSZ0I+Y9lUbJ6wgTsmU+TN9BL6L2WalpnY8FJOr5gOfUbNj6pfPesZsD8gZVdIIlGyyF+ikwxsUQZ4Wkl+5ZiqurakkxEopdEiNZnwhAYoH8BoQZp4ZJpg5aaUBmwjyFYj3B6RQXIBE/NiMBBPJUhFFYX6AhkYztc2MhxJEAxJahIO7Q//jFCDP2EgBoGVdQr4LoKEQmafX7lUCowv2YsvUFWaretP+TJWLLMw0/dN5fWZ03ZOSFUe+p+Th+hW6t9HqNqs5TEgMcNJS67jhS9XOkyYj83wnjZ5Q+L3D8MgYoaU4XL5bId0aFNpKrJJOWLLBXqdpsCE4PXT9Y0znumbAjKTTIGI3KsPRyn60bsrh2tcK8M9NDDRmVHpWKnogVbPXv40JhyOBQFovMnhYdO2Hl5J9kBQs7/deBwR1EpV4RF+eTVJQv0YJscXRUYgr3Rf+7oJj/DVKRrcJSr8gUt6KDYm8EpcOxIVBcdhwetpdWyo5wlamzfErVIVNWJ2FSs0X+EaFaXhEZfa6UARlSvgeF9P3oiBik1TeYcDrESZd/uooW0QZTzhgH8AADiAAAB+BW0uSZZ3kzTzYqEcmrWSnxUlGQnoIh2QTlIcjXC1qy9bUEi9pMYVWi7uyqrRaQ0AhPpOo1fYV9uKRILBWqM6LDpBhgvRCi3gS+CIe9OMK1e3sH8XC4kiCEkb0BNMtXzSY+CQ6S5YpfqXML8iywZScdlYQq5IG3FAoFQyN5TqIqoRIyutSEQ+FtZvVCmwZ2ZkX07MxCP0pUZIyCagW0WFP+scoRbrPK9pDY9sYGoxECLDWB3HEkzXqKwtCRpoEC9KnoqkJBW9FdEPgbcO0/WLNj8c5/hEhlI5dPNzDeG6gmdgzKoMzU0NVsNXLZ9sWNJVIRjRuFbZCzmQqEJZfLj6lDXnUT+zdiqb7W0xByoE+OeLMOURRCaxVs8TZyHFBVEiNvrT+XUmhN7LRb7rhaTNNEeWmOB/CIiMoctVk/ZNboEVW1rNQ8vz6Ss+lL38TU/YsrTRjUc2nEylrU4MZKCXRmqi0AHlDEEdKVJVKDjnnFmMyfA4x+xzjXqYWSRK7mQdWVx0G9vvIncqVSqnU/lu+rNanbMuqSAbC2BSTfmFIGX4s6esqkyg8Zre+4ri29Zsn1EtiwrElZWhS1ER878IBBKZvfTqcOIFrL2We98rGBqMcgZAeMQASYZ9olhthcu1OO5UYV7yKyMZKDKDNter/M81glxni9NSwuzJW3pPxcjJlRLsQZiEb1P8un/LHmrUBXsKe+pea5qwTqNWw61pbGggpsLVIPqIvgKCN0vw6E0lVsxJUM2FhOuewYwT1JiNZI1KHSXAzNF/UsTSTKcmUq/tS+23vRTZC7HEbBPc41ahIlY4RsCKNAm6RJRpH50b/HMl0bVbl/ujYHYFREMLQSRFKgwYaBOpArzUbHPBaCho/KBOvuer1cSIiCBlHHMGZbhjKR3bkj2XhLqErdCQaS2eCJnaD8ecWZISbHoVFcHiSFMyeibiknFc9a0kb3b8P1Snm/5mkOWK+zdDOcyH+TBvuRBhwnkDjwaO8+531BgEjytsMBOpJLs/bCwB8wgZexKRf1SqfW+5dycY+wwrcnKmHmziETsdzxK9EQbBxHZXBKqKNcjQogr5nSHkFVvptF4zHce4Lc8oXDHNneL19B/pwzfGNeRKfQMBAVOM5qtIg/YEzLUeWLvPpvdDTgBcg2hojcDoE6eKvUgFvOz3k6ZHSCT8TuxAp9617ESFd26espbrI3pzLuKX0dwa97k/VHrOgw9H0Q4nwNDxvD8OTbKX63zJAjoHCJw70OTAJJDc+fS4I2B5x2CqRMIsV4uuOEETBxRYiLiqF1KtXuml+/m60tRZ0+mWi/T8xZL8+EZNjyDFebhkUb1x3nSaodkIMRxmkvIVZLYMNTZMJUXSNX1fJd2obnX4kaNcfMshvYGVgNDHH662IOAB1TWCcRmIw1MvSGjD6gih+CwCdI4X21VqJBNnqIfR4iERGYzMZCNRUasR/StHHeldcDxXVXrKYJgEbEldBNicCtVQcmzxZ1BQR06FbzsFAek1YnZdC2mueEJpAJBA1188jnmAVEHzR8N9CwxNMcsKGWAqgVIkJmS5vJcWwNzq05UY4S1nRRolseKEfip4XKobYipUzGJNn+0p0aYs4L8EyFDbtKnVv1UnKHJQ5FEJ3j09W4Wh+17e8B0xIy2GVgViA90IH3l/QK6AlQgwsEILH9pb/IQYG9BTzrkaEPRk6Vu7fyC9xS8TIqT9zcx3YXGE/6yUkRZLtiLPE8Wt8+1bgvsJqOWIIQ5iX2vdYPDuhYJxlRduq3Z6PwmabqU55HbPwtIMrAX+DEXZ2oPGAqYMUu8MlCYzEb5KwBHwJsOe8JHGgJbbGm1QKf4EbM1yOSl5FIhjYXezl2RhBEyKrorTT5nb0sjHiCC7HHL2mbM1erTzXVvSuKvtNU3rfUqHlnQuOb0zr3sLDcQHfgpFNKUguQDJhDHvhCoZiWX1hmAW8CijEMOS5Ry2V9q7aHPF4ktJIFimRjlws0YnsLGjMicsgh2HZ5hVXiOEmFQE2NgVVHir2opRofeEKbxF6X1JpH4eOaImLimqIqyxAoKnAW2EOrDZ8CtAKQKyaaGYghVsKghgAMeBJDXp2moObV35/GproO8Etbkh8TaEYj0z95PKyMYSdknnTbb+yet3DOHXG5F2WZjP+kLsV3ZWHBatm6hUi8qq+L+OpqfCDiFpOLhAuMDfxD93nPAeYDKtcPLC/Q+1MMmcBYwN8CfkKRnHy42413qqN5gSciaaiEQicceZy8XoDHHFaZ51hQrj1NZInRjxLBiz6JR61ZrZ6lRY1rypcXa1VcqeYJ/hGWKalp2YP5BWYKnE6s3ICBSwKWkiRqoViEhtB4QKeAkILCYdYnjvxSrZsWwrI2EY1RZfolUSGJPcXqRNDLkLYJJ8xyB9zWHkNed46biJDwP/0EyzzSdO6lH+V4vZabL/XIuUR9WzQUINArMPtko1AJ7gE9BdXYFMhwIZugF1gY0BtwUAnSTVJnBsjkKF5W57PKA3U0kK/GVkWpBdcbom6z/ZUnmbMHvGzGrJEtxBFIY/T0FwzPGtfpk3DvVWGzNg9KOM+byt8mb+LGrgSSFArLjcWABWg6CeDuQVeFA6WbADbgP0GHWJ85XZ3fm7V53faFUW6lRn8nAmdtpk9NhSC3opxXn3FzAbkKqO0KKVRqK4f3jzRPCTYr7gPn/nrWKmMoTlFX7LucImapzpwJrB1ZIvJkwAQMC3NQf6OjD/3xrICuAJmBFjEqRQ2aKUHEqSNCQogTHWEkUidxDru/fSoXgzzQJTZ6TnsbghRw2Q7pgk9sHYreOoJAaEzjJJH32UMszKnVbBatCAnBelQIvMBS4P5YvBAjwCcAzaFhDoWuOXqssgL4AggIoqZNvekjtf7BpVxUJU2RsnNZNJMpIVld2hkzAK3am8lX+XCGB5xsCgqASak2sd++7mEvTzUlRrg6dXxtT09Iymv+UhFRI4OTBwpasPrGHtB9SaDGQnkTLkbogkoE5BHUaLLUf/vl5k8jfIdhrF17vxFCiQ7PmBBRxDBHenas3zvkhWg9ooqtETqBojyNEltjatt4vpLY6mk+LLh59GHbLMaF1p6oINBvpdasjEhSw8KORtIXuXDxB8gbAGIHPYqY+2fC8a+R6z4pgRqvEkMndpKmbMS5LECzWj1i9J5on4gRpCFKUg6KJ1hBGrf4hSrK3geZdF4+141neP5jt7OIUEShrp/LT7FMICFlcbybOMPR+4Q+gZ8FNbo6tdun5fiBljsqsUujf7VbpNx+srd2OLu0odssrQ1AWBNAc9q0SyRqB4lSLsepeED39J6ejvMU8tR5d3iEAIOBiwIqUvOpULAFSw4y416Yl4H0CCBVBnnJFtq0NmxCiGer4PWKajrEl5m5gGCo/DbE2a9qAR42T4Ry+rQZsvw5QxyJSqzqPh7EjHeyRCXl6KTxn7bpKQvoFhHZrWEMgMhdh7R7/PehEA6QlzRUUuJRWEUC4CqPoyL5sqdti0yYBmNGQkoKDy2svASaMQ38hhqBusJcchirxWefNZulRJFaTF0yKkhnSQIBa0vzLRj3hMZKpW6Qy1+F6yZ30UA5G2ajAEj2bRKB5EQt93iErhu+r7V03cp70063zxs5zkyua1dBRBVPjQX0LWtAzkEjBCR5EussfP73q7h96yVK0mz9GDw/mPLHc5wsdenVA0kRIiOXhoqFkNI8m5ASVhqvvV1F+9uQWW2fJjEWW8mWBTLDiWQwoku2pOKBlEYy4cIo7w1WCZScuVT02IvypOo5K1Mo002jbcSgwigIk2bbSnkiGEIT3HKNENqeu1RGTcMmQjodAwtjXeV8oe4cQirEU0aVN1W6L09jvGRho6n5LZNx912X35hBOBSIgOL7KJOYQaO0n2hZypR2dkllDzppHLsR+Yaw7QESmknOA/Qh8Hw4qOcJeeHSvdqU3MZbFTjkTgZn6G5SfyK+TiXq0Q6lZYQIZBlfpa60N5O2OVb3Yrpkljf3E1KwrhEU9AroaE2Opb8z8Th9YRIIrLylFiARW59cuOIQMDEFaixrR7CKEzA5WsYRor3tpVwbLCLhpWYyJARRcmG1H1xVUzBlyUECgsOaeHkjGPeelFBRCx9gFA4dBnDtvi88kMy7hjwvOXHPVc8LJrEEqfMLZZ/aULiuBm/k8Hndd2TGwrABQugQrJOUXBIYMqEj29Kv4QtVDLvCkAazKQhjyyPz17UNlniQ6hlECwdvCSm2DJ7TIIWI7sasSyKDJDvL9/4pXLJezThxOo8eEMlkMXGsUXIZtQFXqS0jmSBVkw9/HdYrs5SE8QXESOMUlNSHRISi5o2/BSuqT11uqa2Gf4oyvil6s+7DbF/tP1K8ni5MLgabaENabMpaogIJ7HmQSPW43WyBWKSXJLLRcXcGKekZbc0l8UqbTqlK3bvpvJlo8XE6aYzVUzFGjlGL4+cRFxlI67Zzca9ck72ckZK0qeShfoS415ZCfQsRO6ObcYAqUCGWy9cbmNe0VViqR+8v1ugVNygsQ7k4GQiRmr9L/ajtcfN78omidgGWjU8LE4RR0gxlYLmszB9Q6prh+/goBC3P6aNEQl/4ECUIX/4Eh3KMM+yMwlb+X9PCh5AgKyJB2/LEIXbydtOnpeZOfGi31zyykgwk9Nd15cmIBO6c7/MlOiNTcUd8j3VD1DBrg+53IivGG1lw49Mot4vNGBFQzNQGAW663/ibBzrO0oyKaqyoW9xb3HQHOtvSb0SDZX7Le4ioZ+3itrCu7QiBn2b0eoo+7QhWkEDufIcrCg2QHbsTZKExRKG+h0TxpNXZhAU23bOJrHd5JGF/j3+DjfuV0VDBGa08y8j/c/lrkvJkmSiRj1nF1IjE4lbNtcNi+zsLSbUN+hJasJDKo/5f7jtaysRZteMuFWyHwNVo+sGY9xkSbBNtegFr44lpxXx5XTnIv6z47gYovTUcBn2nSRN5kwUzPwfzb+SqYbqdZOrjxwrM0XSEsRsd5nCxM/vCSCUL5bxlEvATTTPQ4TI+/R6XlyFjSf/Ek+O4n8NN+Pjktv3uAamtOIkzwigHxcI13cykw/VvSKaGxaSE4an1CWMJDEywRjqJoOxjsCNNNQaUEYu+KRIgyDGso4PFgWni6SW9+2/k6t5AgKEYI+AoQG6f0RfN6e0NpSOpBU6iwXFHUprolz1pYjaDpcXuyNvIpk5CM71VQmNRT8nwS9/aIYj6W+QVpBxizf4KTinDKsaZn8+YSYCGy3Yexoes4LHqhVHiAM6yU/sHZxOgN5nbBEQvU3t2wZe3ltIaSWzBm7+SaiYq7TJgAiYr1CnM3mwUkVqTawLpjG45P3o02IkEuppeEzRnjOGVnDfcK1iT1+CPCnhbTc/S6BMoRlFpWSUpRuGNcfLzUg7P2QeyCNEQvLiUrp5MQBwxJnHu6IpwgMSXjDnQYEtWnLAtvY8dtKV1CSqGKwjEP2SADA9OqecGnO1WmiaFe4mXusC0DS1UUSarpsKGzuhjSpJ60LLZpP1xvk3PLNKmcl/KRJsbyVwpIFtkMeSNh0MI4etiJQQeuNKrZ9oW1SpoMVB2fPojl9mdMclvRhVw6wvTCaVfV8Dfl3cf3iFzFNwuVjMraavNHe9ucmq75AnZViMMAnpHVG66hOJQgUIs8Dq5rPNJ9f3VxCK7o7FV3nezuFD+JAiePyUZ8DylXwhKYT4RXvTEpryI5YTZitSnHKqRn4WNyzfyLt3PCJGUuzajjJOU33RBfsZLguXfmMPZs7KbDGmkwgAZY4ipAIOW7JwksXRZkmikuY1L4r5uIwcynwim56HXueWxO2iUPPxxi0cO42iLgwrjNJrC29C90Y/bb/diztWP5ib6CGsdCMn2bIhwf43rlcypEgHH/RzHuNe9tTAFXRfxR8MvU2qT6YrvqksnSyYs2/cL+nAp0MGpKMFrfZWW7zJPWPbWxL2iTMBWs2ATLYYWl24j4S/e8X/XQdtCWgE4Rtx7QOniOSDqbTk67Em0AdEXivbL1BQiWcCIer7JU9nPGMs1nfNn+nH1au06C+arxrFdcR+FGREQ4Wt97wyGakI+uqLC2i58T3F1Drq/nr7/U5WaJn4UOfBFs1gvel5Ect+Grh+/+jARN1ub2NrXAG4b5Z+I1iDjful3BM49r6pLfQLh0jyTQsPQytBl7MEf5uxTo4hrdXBE5CRYr7IZYvkBGBitCJoxIVGJmYrkWyuCVD0JGjmVFMXIqeTTiLky/1g+kq4WXxUnxJU+9OPPaOvgIvJ3t299GlP4DEJIc5OpFWIuiLQZxn9CRYxogxlbcwCW7NCoEacf4tNSq3pZLp3PVrhe1xLkn6MGfHYBAw2xE19FYZPhl0FNM4ytSwLtMTOOovbLKn9M7QpHcYaIwPUap60m8fq0vycNbhDCr/OJ36MIKsV0R9SsvCKPQq9wfpO0B8XgMiUpQ1C2cMS5F4VFoRSHNMZ27WzC7oxliviaNTmyvPX6lTMQcWEGZJobSwWttmT4VDqfWTe7KcnN8h8mWAXMZJycleGLL8+dNIcqPVIwlsfomGRmWdCv+VOqLGpKnojx/7c9yjpycD4sH0keQ+eYyx69PndcZ6MVndrNPA5UpqefSTBjuIVYqKoieTEs1WI5NnSOaRChMZkC9J79kFmtkUI8hlm1kOXY6Fe6ymvBzuBKWq/eIYXmFaGBHkvDHU4q02HUUIhRGPwI1RPIbLAq9p0riH1UGokP1XkWh+rPZhDp7Nk/DL5SEKl3SAlYqCWi23d9WYJfsz2W8H+N9MVNf0ur1zSGl3JE+njOybckHX8DAArQ8qgLc9MTHj58ji95E4u/7AdpkaLLIidhEagk0b/Q6P3zrJSprJtFQlTtsJFz7eItDKQsTSIX6pKf/c1vw/0WFQz8n008bE5/z5cyz6yuKtAbOpCT7uJ+vFYe+BEUbSybOxrPjAWM1xWsmnRnGWj297sjzeZnXiR9mySE3p3NSck+nYlE7dBd047MSNsV9UrXUQRIETDjw6NuAvDJxUd8hIS9DrxQ5PBc3RkNygtKGUZxfSFvRfQcSTdn84Y5enly4i9GlwXqlm5F0TP+6JccYxPLGY/2rchsGf/4xQg040j/ZP5T/5sCAgJLtKBt+xbfJAT4tLTmhO17No7dJypp3ENXLxr4UvZ3mf8KjMIzDQURTG/5oBSueCTYgNGAdrRETMW0Zxz/XjOCm46gH38LtmWS1BmEzHqkCbw/j7dFLuHVvmrN7ca2UBwDAAzQEvxbAWLLiROM6p3Wy1a6sHBxGCeVsfG+WSRIQXRM3i5jafU3SOavTgvUC/fKvhTvJZCx/cM/iTDTYumcKe4N+28+icS8mSJmwYYogMi5kIxNqDrcUI3hPYcl6QpmKyN7nfZArILAAEFm0WaPsIVJ948FpCp7xSqBEAEW5AlI7J+Id6Ahg/MQ4Cr9+DVMLCrxB3XmcK1NlFzYfL/00gO8BJfFF3NVeZ57XVPeVHyR+QpWkrStLRYXSVhctqakAos64k0urbYgTqqDlpH3WmLirkrIqObkuYXX7TqxRb9G+pW85ptheVWFF+q7Sd0WsuSa0TA/3lNJmaf+lD84gnC5IJ3r86KwLpuv51p2K01qDU14VUn2EeWYu5JoylvgTd7iAr43p5HfomKtkIxd/jpNLC29hLQU1rPL9VsEhIMjCCpihUnhmXVEWo0a1O2SbQ8/RW+DRRhzSLPDsjIbeUASf/EXPIqfYxwTsbxu7dN2XKZqUx/ys1CXIzwF5Wztqyvj33jEL+lhCyREhRDEvmfgW96ELpMTkGFjlHgNr4SQ2KQTaS9O+ROn6ye8/xRPHy/rOQMBfZS/hN3O2/wkSmJdjN1Scp+AuQ4CZIYj2Ec4ehoqMZjXv/qugPYmxEd8NVb5ITzzbSQcJoM3krXJNp4pRIKtTYsKUi1giwMMTzrX3KZydxTsdehVm0q3M41AWjT+FeIKGUZjJvCbyzKThqpwkHqxsLBT3IkchGYqOWIiBXnx4wiSWpbOt4e6kQLuZZAMUmnnCREMj4N1DNBjDhXldG41IQosGPGU16RxJ4ktoShKm4l7LtQS5eBEupcpwuU8pGveNU2GX7sotTWLvswe1+CbaEwm5rBxEvfrp64kGybajm1O1DZ8JhB9M8hUUo6/P7VQU7cI3NVTt4lL1pRGrlOImvqC1EESMZbFqXxc8Fbs8RLqqdfriLXw6hHnQYO1gOJ0TSHvdGy3l/AcHnS9SlRkix/qK0CL/PZwu5qoaDn6S/+vIToSQpREdfH7S2hKy9ohPNZdfhovx3uaU82lD9LOVL0z6KQ5J6y90IuneUSBzMjGhfKEuLS6VzFdk+lKyirLpKY/s1CrGUx9T8ooBEZp5HOYGf/QVZvVW6WzzVXMxTYX6e17pyNdPPcdZZE2uqXsqMfOjraX+MXC0FCSEmvXxc3rAzcHMUR4l1v3HDDaSxcT5xEo9bzwWNVhFKfBq3kPS2mzt/3HUw+Yj7PqSch4HaYydQrUEyajH86aFQstM2L/PoJExv9xqj7vaBuvIx1MqZu93mvaUjr/tnDjMPLq+Yk38UeJk2V/7wPc81oiUqRSXZ/PwjlQy1E4XxkHF0WU45iEM4iNf1IjJ9MmFdGt2P69plyqKYn4sFXMgvzq9LZCEEJD7VLTG3a6xsEMlYoiODYBjBaIaQlbyIvlCKzGEdGkwWU0NgkuVRiRRGEEIXXM2W3yVeSpyQvI7oucbAsLK9OUKIvGEXo9Zc/SyRnI212yjIZSlMaw1Y7iQha1LAuRGM9c340niDsQWqXwsoEc1D2KlqlR0VTQQ2S1B7jULLtKrRpMrY8iQuncHQH0epYonhdRIpDJzagjgG8oT+tAilQxwD8Gl+h6eeCGuqiO2mAbUaQW0iIe37O98m29EY7DPHhqMjatyJJLYhV4PbEJ+ZVRjPHu4Xkc3LoseaVd1K/MlY3sRBetFZ0kup0NoxGrMTdIp1Mt1Mu5y0n72PhZWVuv3g24i2lkeuk2jpfdUVfUoC/rsJCtr73JaC3JvGoIhBJN0af1nrDHuMSiqoxBd6+o9KJS1zkZFFiSlxKd1pBJif5Kbur0xXqiFypj2i0pVqi2LkBcgAABwAAAA9UIAABTAAA7XAANIB9okEkDFAXYAASA7xnCVczM6tJxfWVq8fAmESPI166MQ60jeXiawQ41PNvdqTXBophDSSyYcyPgyZVtJslPf9JzvY5TOOmSce7XYaOlszXX3QcT7yOxMc8tZJPuuFCoH/GWWv9bNdd6V1TpqTukoXz1BcKV9C88sJzfbBK0CzAdpTgQIZ48VTBWzuIgRCkMQ0hFIGc8refod5+j06+S8vSaeVvyfmcOkxImEpayjIUceEn3DrJmWTEPwBAPSyJkkHaFiyFGia9tyHMm3LcJDUVQ4BsYUyHkHRgsFSTLckCQFTjTBkA1frge14qy67mNVWbt5yB45pvxoKu0vXEVQH3Z5DLuNMET3MXBnrs7dmJPFbpbmyWnN0sSZF+7ouYQ4TFkD+YwzoaKdtBtpu0h67GjbPJ3sALDBmIWwuEf+RhRKIJDbk1luDzhKMKBmy+bvoBZqRqeOlgnNROceqAsOCLC9R/2NbmjaSP/rDWqF52bcYUEn1KNGbQxdA17TXxWpaEvabcD5i25a4yk06cZ1CJI6mSL7jb5TmWy6AuceOCOCuTjWjEQsUBOC2TMCjhdKjAzoitOOGrpTFnJhPA8mbOiz3MhyndrAYR4U57vS19zpsysWo8ZfmQ7b2aH/mheb+y22UmzXhpfDdDO6pLJmJ0dUAsrWkDvmlcROd8tAgGKwFtgnUPkYeOfOuZH6gL+oLiiXhhrLBjhPrE89X3pF0l98usMi9NBiyUa/aJ2ynp4YbflRsr5SPCc4clyDZGSym/+qc3HopWkGtlcX1FuD+tQ01UJF+peltDYLh8d92b9mexq/SSeASmNlEGJfYP4XQlRBDkov8SUXmugvjB0Ls9n2ykCstVWhH92vLggOpkQIu+xPcJVxb8SWUmG/4xCKuVITdxMpWNxCeK+5HIQR1tBxygP5Vu5SMgxhuEkmEHFIXMj4wT6Is3wD5gAooSFwuxJVnIcG8DrG4RD6ELTIEWrI9JXaXLz7i6kRTVlmaN0/S0tM3zQ9GSfnH7aW3+GBg7Yvx40BLQT8Qaxuu6mRrZ/p1hV8njIVyKY0ixKumaaAsSOIxJuQcjY9cfoAL2AATeZZvmKQI+XwCVK0boeAY+jjBMhb5+0zuLdJN11G/Wj8s+6DUURn6bRLJZGhDe+JaVhbW7xIfsZOBKeUIGUSqSAF0pK2WPCuutl/wKtpTCPnubQKGSsh6o8nSxRXD951GUJamsMbAQmlN+lx1BAlYHHJsm4l5YKPT9Pk0GMTU/RnFtN5zGlXiCZKOqCPNtRoixAaBUqQAhlH3Xlc9Yq+hnYE4wCZAxvQETLdQ0rKFEaaspfhEQYnBq1Nv1h1FWqgiaIyMd2+Mf5LApQioAGBAHzt7+Zz2NBbhzhQipH8F5NIDkEOQk7I+5SyvyLjsfFWGOUzTZwHIEUNgieZQW4IYtooKw0H6JVxcrvkqsy2ceQuY7CGIpqdSymSs1HtjrVBOrQrBMmLO8ao1YrgSKB+wAS8AAUVj0aiobBHV7DRN9FgwCA3EBPHGV+mAb8KyjR/7rMD6zoqH9rU3+JWBCrPfryIHH2UOSV/HyzngEKMBoeYbrbdjWzpKjfltkmWi+npiromhDZYUQ1eFtbYidTjgtJy5UULy0rEDJwzHVJL6JqCq7MS9wJEzTmnl4GXWvBblxN8K4+h/tGNufUdEuV21hOJFDY1U/vpV5aQce6URHjGpdHdDZ1DnDV7jygmE1cRlD9ZQ2jvstGoe04whvom7SBUXSXeowy7y6S8bbSVCcwGKlQyu4j9rEpft7c/YkJEECPAgC1WlvQrIovxtqzX08K+9OwRbfokfo4BHPsJWdExglyJ7cTMsbDExQrbFpIEMNf/9bUYOcVKSbacqW4C3PD9MJfhxrheVYgQLE+AQ8Fq1hERggHHAB7dTUvAFMLiIiik43QEwd7MA8jAVv0hZ2LWjw8pVR9yPkrruY4moKM8HHTXVahPLCisrNif1TLiksfi1EiFHphMMYzxBE50UIzKHSll3SnsJFEpMpHsSguCuNqVBxJpIBiQAYcKKWzAX2Umf0KH/QO0Qq1B+C2SRaRm5rwktegR8GPXExuzpMwY53lx0leYVPRnmkS9PBUwQ0r2TwZsgrsUdIMyRwnCjjMJEh6KOCtiTdCvylSOOzpEiLeKabRSMqvGCEGzxHQwYA4PXB1h/9AEsAMHD1qKCBNjKVkCrKGqrwHFVZjOHkiAhyWP0uRq0Snax9m2nQxUF+ZgjppIEHBFo5gjY4ixhMSvDCqOG8ekjg/QndgOEsoRxrCgiOIf1yaWRLgu37ubrKGQRsGSECPSCAh7RTQhkC7NwGrK6klzIEPIFcEkQ3If/ru4WJQI0EtGhVkgKiS18b1QTT5M8mSLMailQZj03J00ieoQRd3V9R/TOo1HonVNnJRksb4Qqj9mD4dyjgdU4nPVHTdVrns/hZF5I6EjAHjDRBOhd06E5gCs/rHzsAySMT41wxaohAp+sBYnbUk0IFTk8+2+gICKfzS9u8LNSDQcISGORijjbeN2VjPumMv3ahUap/ffwN2lKcBHMQoOhchCIE7S4L2l7ZaWdDKSCd+5HxZQBRTigVbKlZ7YOOKeskPBlC7TQUhcRiRJDvfhBIc45nQTshfWluD34Tt5YyvYoBGtWFcXcXMIYwclBqBB3P6ge+FKMTcjEO6cSgFahRDWOxssJ7aoW62COKJnaN6W6IAm52iLKblNuCegdOtg0zCvDxwx5ldAT4BBMdWjTEXkhpHcMNJ5/PAwosdmkGljLAiYvys4nBorJIHQ3ktujGOcj1rUdDXhr+AjEgoUp7sUTY9XuX627DXKx0DGKApG+tchIonEzOtqlhnlCAvYCbkgCWPK1ZEwR2vzsQIGyYLrtc6+XDXG62bOa8gZqRv8HmIU9Fydho9vNIijQqD1UlpZihRIJCkDCC6vqqJM/ExSPw5T036kEZh+mGgLI286Ggbp1KXbpooqrCQJi+GhbMkkXCzg5YJKPMYYLOf055m0N/AdAjEhpFaw3gH+WCkVNGTChDSCpAqbTvmNaavUIoilVQcUhwiVpBeEEZanX9KyYzm65uToQvaSxqbJdPsg0l4urDYxYjYL5lMFNc4RA8FpusUGlb6zB+wGtxoqWpJK5YSVyfs3QL4SJZScbyChKnSpmEo6OkxEjYFONKaFUxGXLYyVbgXDl41gFYRorWIZL/o/24PPrvOJU39RoVHWBHuhkEYq3caQ9jRNdftsW6JZw4BqCk68v1j+JtATcBm1PeqkUQTMRnc33DAKEiSJigZ7Qi6L1+C3Mi/MtGvZ1dGvLf1zxtruMZwIE44nAOICdrYfJuTUQ4xRUML2uJLte2fyoZ374tmpwibWpftTBxLFOXQy1QmLpUtohDCYxJaPHg4wHBA8JQzjTBmxUxL2nnvuD5Fq0O8Zyto8EQoSWcthTCl3I/plpEZISTU89XqcaEooCO5bQTB6v0z2MISs+Zo/JTxT1jRnK8mhyjOJ1GpxMFWbgkhAuomiUUFLBKPIof7+y7Im0YS0Cnsm3mFlw5IUVx7MUQOJC1VXzLtMD0Gm9zRcFjXfIiQ+7JGYVSxaSN9aw3Am3lyjYK6JkIAhJbuMqPwlDMqlNGfzcreGG+TKrxNLR9PMrxzi0MshxVCKeKXFibLz+bgQVCHXCJh0zznWgilkZOK56MrkB1hZib849lLLoFuuhBquUXEouL+rUuHF7K3ikxOlaxvFh5xotXZglkXahtt3No/e46rzw0Ompy3f8ksHRqL1nONpnyMI4hDkIVBBNkkyhZJINSqrhSsa8M+CR48+h1c+aEKm9vgHcN4bpdc42UNEYF6ncX5Bg2zVsltL4ogJOWNP2pMCnRDJrI6c35sj1Ksi0aUec42W6ytsvr/2b+S2WY+KhSuHab6FoWAlDAMVSkaQR4EAr/CmnRmZUwNyG1kOaSP+hYRnyj2oc4dC6V0pECV4QYrmCSyi01rTwvn6YS17fiICdNF9j+LsILGg/mY4Yw3vtTvKgRKFk5S18nlTtPlfMXdpl+UA96rP9wmAJM3VYGMIB/GkcbeSakezER9wQIaFFOaqn7ioqpnxSYs8g+zAdwmEsPQpRIl4KRIVW0Zr25bFD+D3zOsWdVXa68kGUJGrmzjZNExT5VIi1xt2nqn7htQ4ar/1Ic/sswnUNWZjn0Y4lzSG4U41hOrwwUQmKr5pF/DKgSk9PUbu4s2IiGRYUvBWH0mhvmkTBoBQvZZHYWTFPy15Ky5ktqbAtqcFs0FJTT0mUahZxbqfkCNLQUjI4aiSNB7Nd25y6B5NS9TnYDLdMzyceRED9VQljgGM51Ke7HQmMy4R8GzHXSPSin/syZ2QwMA4WSzifFcSZHnOLVW2qa5pq3h/qW04bZrysJH29VM9p8a/utagzFaSLMzUoLtRtUQRfLvcpY16iwL/82kpPJdvX+V1ES4htFwdZ2iJdD1Gw/BDkIsC/iej7pi7pAdSvJ7S5uPefrPII3hQFQEgexDNkQZAl0TzSX21s31UTJiQvwkj+tfsqo/WOzn+exsFAS7zEETpDMQhEa5GklkfqsGt8Al9a4l2zBKKsuS2KAsSTLIRL+Nh8tQ0qwqWp6xoG5akvSyrXx5C6d7riaguAlCgCR4A4LxcF6D9iYOOumLZJkCTYFUVx15ldWxphJwbyZgIWBOET+OXLd8RFCQ2EBw1GC0rZL85P8piXE8pq79Lso9xTOR5Odei6zwkn6UdkyAQaAqqobdYF/uBPJY/hxIp38inEss/Di+WmRE0TtOyMIOZrOvcf/7iJZc//jFCDXkSP5W/nT+rv7d/rO1OG2snxXrDTitW7GDZi0W1gnR90RmXpXumReWl4r7UL3clFKJaurRKuK0ZArtqwXVxPWhH3vMb6u2ZdX4pr3HZV+LJA/kBT4YJyct2GmN/eqdS14caVw9YnouWEBCatmgqbCJBeFPV9ZJpewtzmgJj8/I1aiRJhiaqLkgqTmgK/KBqQVmOIIyxPRItbG62doTVNHNR6hVedsbQluRFJ4WqCsSj5OZEDIbWqxMUjba5YojTFPqkq9Ls2NwnKEYs9ET0RSevM8EuLBXCL/gvMBr4I0MISsRHILSOlCcC0djEvm1pIQ5F5/6FMZOsP4F4tIG4UNUHaRX9r5A/JEbIUpenqKHI5oThIhUfQ4Ox4MQyeusv8KXkxA9QZLGMDP35ErhpuvTErXfD5zgxzDEo8NH8hTG78wVONiBPcu2cnzBYiikimkILiiOd5q6bNj6l9w8CiMiZNsnR0ZasPEVPTRlo8HiGxbvi4iTCzvD+xk+4W9PTS9OqWvj9AjTPGIVC1dWuKepOjAWiYlcE/0cej1x6lJKGIuGIZPzZViWS7KJNG3OlSGDRzMwqXBvPMymp2Zw2rsMvoSOuXRPmdBHCXwqVAnPAx21Y+jPhLQQo1hKLSNq+V1qMbTOZykUmaqFxmTsH/hicE7SrfOtbIdEsF+4gDFYRhYXrPZoEMhFAi7pghk84KUGrhA36kIoYlI8KyBrOmtJqNuyGiZV/E9s5KGwpUTrq7oHSqh8T4KmBo3KJsH3ogr8lu8MLzzBkxMrwTRjJqSKvEVBokuSfaFyN5wJL02Fn3Is5MHUzJi0YJt0lqhx7cTllRk769kxcOvcC1cYW0IyK+HpicH5gJywndU7SyCF1SqaIb0ZJjFXMRHZAPSJuMiURApNjVaXOzgIU2smpbz46S4Gruv8oOZaEpQGtw5IE+i5qTnt2kVksStbUI1xLocp18bxbfmG5sO1ShHerVtcrooSkgEMamFFcasCUgGooI2BbPJdWuI5c0aBGiosoZ7JqmuJFecW7ZHZxbISVeXlpsSibEmTyNu1WrL3qZ1dquWOidJgbJs7mzKSDhAMKq1NpyDEmhcQFTStovDByGQ7H06MQLRpJde4lbVi7coKTDB1VY8Z4dmiypkartSp+qaRLhDl1YaNyrPGLS9IRN4GZNp3/IqUoBGozYY7vxwTqha4a9awYkdT1N/UxmmIeZF90aQQlNGpA9xYzc74Lc1zM6CVVOJ6VLAV1qWTf9LAU7DM4J9i3nWmfIT9Gfkr+9Bmz570a48Z1LbjFTgkxr1bBG6KSLOzviE9u0zPAnMkaVkjdM0heo9KpWxjV9lNxaVZwIWEHFii2HEVEOkhF79RVEsUkzMsVVUY8PMFwstJqy7NBo8SQmUFxBMfXRKoyQTfmAlE3xsTCFxCSJsIumDJqbdfl3FSbkgIQibggF/mTSBJ7QRUIJKuooH0TLnTar5Hsw5gtxWZoELh3Zwr0/QRMC8yLyx+h+ZlDlwL3xyMheipZuO1/DmG3JWqJ+qJd4ZeCeQnRK27JvSITINRACkKDn+EncBaqS76oApLCtDwdqn5UEqov4zvQ041wJScwEN2qt8n5nJ25ULRE9r6GomK1TdwJzSJKgV5pueKEviM2csClUwj0xSTLmPBFz5boYM3nbgvJpBM/OmvV7YoVi2sy8kKPvqIfOi6Uuo9aRk0OQunkuPlXHJZUucKNKuTCoKBeKGJEqwLqdK132pdc+wzZXuNTTk0vXMaiKMif9XcTPmrIpGV6BP8gzZF5ZVIrqpRRJ/FMaiOdGqWqEcUjedB3FffDY7t/JD1VhmQNYCcoFLZb5/qSzZtBT9bqK9uZpG6VjDhila3zexmL4px4W0+3pZt0Oy+npnfV0l5/sxYEbZuqL/mJYVpOUZAW4f0oujUdAzGBO+2nYxQQqGD8iJz5j5aaL0xOUbnDNVZhBCkXbLNKO1kSKYqhGWIXnKcZKgCPoUiiG4miaA42lXnV1U/iGS4zJCuOdan543a3uOEa1aqisIr9NLWSS3mtDN9Qk6aVJ2FTshA3gL3W+GUFVgX8BGpcZzlT2svYVOH2IXNrEXCd/kYsznOG4HQlndqusqZzKLq2cOQZlqWTbnzycvIsVc0SZShLX6KtJLvfQggVGlP/CZcI1a1C/luIS/ZFoMBSpesssabHxFzIF26Ucn3TC5wlV2+I4m0hSDDOa5s1wYspX2JNEqX0I5yiG3FaUZpKJCu4Q6+XMujCZLCHkdgTLKRr043Cdwm755tcI4+1oTrVEgN8nr011Ucd2ewjUwq+Z4BZmgKHq0kmKw7UY2VUhj7X0LtEMw1lv3SSVb0i40RSptFdAFdb+DeWKKESsVY91XvHbaCbRTpm5guY/T57FDOUhDTXzwoknnrN6PjIVJRMpEp+yEY139oqlaYdHxRnBmZDYkQnoU1uxbURYIJtC6yQpcWpcc8kibDFNwEPo31oMmXHPWy5rFGWU0uxhEJdEVTKHkY151eEysTYRJVY9yVt+l8X2nkXAVSQMooisTiuQCmKS+Lg7ubx+1ypC7nbPjBn9wUb/Z8OG/IOtm2robOJ2TRJP0MKRe26UCeRSHGYRc+upvRxfE/++7SO7Ne5HlRAji5tJBGEqxNCCzCgNwgkiR/Wv6tLqFKg4YsLdTlT3Av0yJ1WotMUCrUVaWCuMTiUTPOjFc1YRTrYCVmsm1Rpak7opfZ/03ZzjaPDkMZHdmYZRKCs+giGN0GG57lGr+r5QFDhBHkqUP8D1uxI9L3ICj0PaDfznUd1EGMKM3tw/sk/MWHhejv2d85WWRtETLQLPCqWIQRzZhHOpdOR1BsGMXwiBMbwrWvdjP6fQ7w17QGuu1LCh1xAixA4WlgF01pwLD8FcSwjDRHVgk0pBdIlLNnDx8onydVIx1bY2kJRZX0aBHH0njQpigEoag4gshcLbHDXKeyBUtQ4RGgl7wF2obIxQ81W4xwhHYrGWjii1G+vjaLVTuDztNiu15uDkbDt7Dh1Dd9C/uoPaRn7bVIpg1S1WjrMxIEyIAxDIMU2inJCopt7KL7XEN8Z+44JqmOv7rZ9dC3rQSKuh6FyvxZsQS7WJUwusomdQZcJg0ODcdQeffU/LnvSG+6t+SnMV/y1Vp6LcU7Wuw0DsL84BSLJCDalhY8vKT8HuilyI/LFx+5uGR2ck9aDVPtHGG23ozHSea3EQIPjK5GuBlvwlOZLmjbx9Ul9Bd22yy3YZBrBeliWxelSXpSkKLQ0xPl+WKpKlVmjHBGhasz8ltWdLupJ7a77Yyi95e/rNkewXoUL2dpkkkR56o+ncJ5rYaD5PHRReV/cXMlt4unUnlMUvXgSLP5J5EqKwzxBvEY6JCEOBko2lVfyMlBSRiWDGNnalQkSelhCejTLrUImsH4IRYwAxBen2SV+qcvCAKE9dFqayzaPfUSNCwgbCpfq2d3GJ0JivlOnwgOtdJXmAFUIxmlyTqYq5nPXyIFt+d5w0YY0uZ80rYKcCT0UQVdVCRiCcTLoGM4XQTQpBACnlkjTUQZSjx+tscjkZ6UV93TF9YuJZF29xu+OQAtWIVTVVW7EKWgtShWjlI9Vd1yPjlarNIwpGq+4PqHZH1pEIOMRlcW+PL1q1PxtYEz/KIQGMIILtKFDsiTUH0akQN10dQhFs41Io4b9l5ZTYxXqurpMFkF0u0X6OFQAnwqHE+lNx0BKldIKQdNUzdBeDxUqPKiMWBYylotvyOV5rBJSFJOU5VaWpemoJoA6C6HGsFA/aFVnKs2n+/gGK6Wb2pYXhKf+4cudD0RypyUJ6L02O6qOCRR9miSayVxSmtrMaPruH+kc7j7LEiVm8iHYwHFAbkqImHqCNBmE5CQpW+u4V5c3F7eNFMAxQ8Giropok8HZiKygmJH72Jo9lUY8YkK6cXWIt8qTrs9bl0KBKxSUB7KwMMIMg1pQ/p4hZ5mxelLa1RPDPeBbJppWEoJ2EKESAQsARNvwNtHlsCSCzgJa6e32jyCfkT7zBinAGoXwkOtJeZU6xHMouaPumxxFGK3oS8K2R2YWaUkSMi/c/suDKq02s6WSkNOcU9oWr/bP8MJ6v35//k2NkjFLVBse6yzFXpIG2aV6Cs55D0icgQCA1egRGRmIzwvBIYKfWsr88pEQu275ObqSkAtiUqi5OhySTLKT0pt7oV5vedh5GJrrNxa/JE9fNqPZz6XsgBrC6lZiF69ZIwxOFLURgtt1cpqAy+UZ9PEk6GAStcfZy5fmvVVJGOpx8QiIyzuPS+ej5ouICYTn5ZoU4M5BS2kIxO5i/v2+IvLxFKTHUIgIELEE5gk3jft4JD+laKn+M3nUx1qpU7kz+7qHsehHFfk3Jkj6hE7FJoVv5v1QVElOHbj1Gn8UWaXjOsYZR8CVIQoHI6I7y9IfpK1ok15Vm6Qvsdr3Tl3qSRT6Ew2MJ7EBCzCm1/WUusiVg0xEOIJEbs4dBYzyDoGipJWDMFtR0TXDPQ93DDRq4cWl2jZQpnSKe4ag7KgZwSx11J2S7rKjRhMD6dvwm/aF/ymrm5rGI4QqJEosuQxsjTvNVIhjtdRNplm4rX2Tz6Jwv0PN7q8gGSmBb7KAxYaUIIBLibjvWhs3vR3kGkFzB1Q7xxE0EIDIOOxYkauTRIRpesrWAYA/niHZPnQqIlKX7DMQpvg1i5PGRvEIfC5ATCSyVADNJwobmsv3Sg8DDLjb3gYhWvqS92cjGDWECz0ULyL1vkmyKosnoCSKdiNdReRblAl8r+I34BOy5gLIF2LnJO4uac5v1KgFlGNB/gVTrI8SZXxI0RIpGxqT1tA53YvpGEtExddzroU/+luNxOlWKhGzutuUj4ErdNNMREO4nXTGVMD4EqYvI8jrSxpi4ZgRd94T8K3ivmRU2fgPFSCMkXtHvqS2IhY1tZg6C4YOgSGV8FLE8jLz2rhY8jdNgkI9+oeCEgSWgg6xXMzw4LZaipBGp6F704wgRLeQW3uqvsFYh8wirssIX6bSnJ8Fj48vUPWvdvoYRZu9NuKlcixmJKXg0GXrgRizvCw8tRaTqClqhM8SJNI9o2L0aZYLS8OAJkmyKVR+xp9O71JlsXn0gVpEkU2apxHvaj217EbynfikI6pOrZSyUCFphuPgn3gomNZIhWdSNNzemRdJHEJiUBTxW5tqXFZcUegJYHpCY1UXVNtsP9J/3NB8R4d6R1bFqqGxUOsaA1CUkbpUR0joIBRpQhGprlXp+KnONevfXxCcZElC6P1q3EfR0iqKBjQPL63LfIHJw7844jWJ5gym/armI5PyL10x4Fg76Ba9q3ma/V92IwqzCyaZs9EKT0jUMwiGxsWb7dsxyfC1D7r7XedGW+UGyfKcevKTRdH4Wzmwif1rxEn2Ud5zfmncr0q13S6LTU/oZyQT34gI3WoqND+fQ8Mje9ahuqVVrFz/qexm9JobIiKHhiKlAdB9QnJHKajJVdiR5wKNuBDAjCvilwmMVO9ilqc4HQOioULaQSv07GIO9QD2RXNjuzXsSJwChHHKisNJ5eZeV0y/O2uWr6GQdk6rsjuavn00a1uDe1omo8uYRMdS932kFMzM/MZSHS7LrKuzTn9FyM0ysdjzkfTQy4eFTYICaXeR8krRk1uppDUWfK4XPfqUUkwYineBUMQkQrwYrDdRdEzqckV329GL1k3RpbiG2iG6sDLZcqXKigaB6zqOsMFqsl1+NQiLNptUMTtBK/BVYeBQiSvV24HfqGfG6/6slOrO4LP+zCp7nzCbqxcVWVCewnGE0NIoGkZLi67z1rq8QM6EXqdDyj36Wgle9JXeLucYVKdwprE7jKSnAd0koBiEdG8HqGk3mHehkqqXq8BQTIpRtp1e3DJSBRcmJ734Nq8gkiqUGamqv/4xQg27UwBXwF8AZwBoAGAAZIBfrUlJr0N3zcCyCcHQK+hD6zkWjOdxfEEwoq33YrJQ8vA44+QSa/EuBFgjSRR88sjaI5hEIdj0nqYiCqJ4jmpuRF7ol+Sr9ROTBUsxjYG71s9Q/99oWi8WyAnNar8XHvwcvVUUNmsdYlGx3/ts/Bk1AmprVopPokv7mzGI/nF4IiozKjUicWRx4PtUKVXvym8tXqfhfFmZimfomfjD2vHIejd3vV2bJm0fOYnG9gvHSgRWA0KojlEJ0+qickrFW0TsTn8pLX+yHHxlDqb0CVMzoRDJQTOqxqsJdN42gRfCRlgqrQDEVJ6ogkrqq2KreLDgZCpF8muUKaVOoYWFwB8BCGA1CAblQvPV8NChmMslLtkivPEG4ieE3v6GdOC7gNugwKhVf/ij4ZFRgmIl1R2FYM3ozJ2FRw2GXrphKwxEgsgHy738TwgnEIj7oJxopmKaKX7fGylwo4RarU6kxxb7ufv1/cBLK3dSCpRpW2W+BCXinMJfQxvekthbd2ty27npTTHTEPWIpFK9yGIjJa+P8VOPLR/lZSsHxITRoLypmiEau5PwpOT0vEfoI7lPPxILGiggcIEGRIhKoSQbzmdgrO7TMkW+Jt5kUaTQmJhsfC4kCQgoQEtiRL7InRPvnpNyVFnA4RBoyEy5cq4mR5/LB6UoUOZ7BBSJHDw4RBpSqzTOnEjA0eLr139SdNI43MquqhKqiY+E3QaQGzBRAj+V6ml8d5FC+EKM3oJX7c7K66Ne/EZBs8+XfT+EUx9OiTZJeX4pLwtYi38rX9i+16h3WLRNXINGFC23rjGe1ccqqJ8zF6ct4mPRD0o40S8JYs1kN/KRGmGKErbzl72JvyW8/59s/FC61taqI1zPr9HcicV6fzZ5K7OcpM42k+MCSCKt4rfJ1C+PbyCXjcqsrcY9ZZfknm5BogtXNMsLWFRowRHC7AcSEBiuL1aX4Ml4SQj5tdfCTPTRG4jKhYmpRNFFjqUgKEAmxmYYprdHXxVs0qcI2HTGdlVMyrfTIu3yhgqYUJuLE6dr+p0hnunzLLVcSjsk1cQWR33wJfyHT+H3WVHhat0hnTTEkyW0jmPcQxuFMfsM6k9KcpyL49UKdJVF3FVmsU8Qp3M+7ta/NXPf5OzY2Y71Gti9Bqhtx0TEN4rWG/bN2YkAn+99so00QsqfmEah20ok8fxpt5oNo3GbiphIo1cSrNV6YtvvvS2Q/EkcIqWHjd04TCafqpcTVkydTpjcssTQiKVo1HFbi/FpQ0kx8TfE28vD5O4g0JpxRsyUfUnD/h1UTRVnyiLTyXrXDo6nYSiSkwe5TYZouyZMvKty0mU7ivTmySauGjyvJKQVKxFvlNVlHdv93lnbjChIdW9TVPqX6fo0/K6pZI8rI2C3pCniO71dPeq1IjUD0iK03bNNuwJ8O1LFPid/E6aVDHDBEQsdd05ruRt9W6VO3gVqlMUu0MrRTxeigxbQ1k2+8SD3SJDZcr6bmq6bW00hKsfkSAzaP+MsEIoxYuJjjOissrIrImVQotegdIg0dh1Qkt2k0Xnkoj8BkEpu0+gdIo0ajdCq8Mg5jQV0BtDeikGtIASBfOur61dNZDIl8T0Qp40of3QX3PUe33qQTAfNiUCerQEYYB3rNpnDmvtqjLIZJJbJnxrKo62SLJdhFSj3Lvz1VnKLY+106trj/ZjCDIgilYgKg8NEbfMK83bLpQnZY5AmUJKcolNaJNsSgN4ddLqB7iL2e0jyVw9O5guFv9dao0x3Zf49K2bppL66Mnezram8S31KAyaROPHnrHb7dwUa0hROszS/5JxEX+Mj3t0JxJlfKO3jFDQIvv6FHXdg2U9DrdZdSNm1czY9PPvaaGavQQkUx7XJQk0rZ+qhlCu1lnc+V+IHemqKf8/629K1LLTVx1LXbDxP043QlFHaoWQbSgYcGSG/hLri04Gdq2db6RKqdiE3I2zU9WNkoK+SHRVube5MjaOcqC2bdkqiPvSuO3/Y0w8fDpyTSnOdyGtMRflYJpBROTJtKTTDPl8mYpcFGQaNuEtToVSUewoiF6zw1SVJi+t3QqWKUimMmetJPYgzLTDQ3zPJqJLchtb7+KRgXRE3juet0emEglllgJA0odz+TkMbW/4Kclz5FCf+UaE/VZpCgcy8Rw/poRDcqi+TWTybdKeS6pVPxwGO8cLBz+ax+oluP8cvp9Q0FXO7eeSRXKMRvS0gzMfT+nyjJ8RLHmdVQENNdct4rCum7evPdDrWkq4dFJ7kLWzvktR5XWOuxa5s+j8EAUhlrgGIFAw97LaQUAsM3QMIwgxpjBU9Ii/uhDcsk7L7hUPv/vPQmMhsbCGYFnS0tYEIyUnYIrC8oKqmyRLkuTliplF6PiIVBwbMnRdzobF6kXEyeA3dgif4yCZa/ORMEAkoKxx12+XQam8qJ0/pUrTdYzj9CnuJGD/N5cu6nTPls9eAhIyeUZk/KuCiemhfHyQ/On/H+uK279XmjuFtXM5S7VQ68IaOCvNXBmvW2P5TFyh4E+80vfOamFHU1V12t0sS+xnSv2ocpLZOLKLzBrFDh+ucstUils3aM1YQKksiBY7SatdssqILKXF1iaLKIUE5hHkunVIOCIi96mbSdTWiqM0WMDhA6dT4Hl7Z9KqZJGkHFziiK6Q2wRTmyYq7KIT7tliKnV6DSbI2c5PI4pqHXF+iTht7Mnm+rr+kwmI1VaWpOkjWVFPYisv4T5pbY0XfcVtkJLXvgY9Zx1UPyIIXhOY76obhD1v0zTxJ+0aFfmXkh7nuzYEukflbMmEYqN3dEfx3MXkiczta49msFMKNX5jCdzPY3/d8qHglYMen8t/KuBbWmI3S2vhF/PAi7bIbLY8RMVbONsuK6vBe9y/O4bRJXSpXVPB6SQaaBwgUB4k49aBSwkZNGvcQKYc3c1QcEhcFqAk9GyCaUjXRaQHLWBDI9QWqUeBJ5R7BqIOGVlLDXplhCYa8oEhULbC0JMcgNfDgFeRVPXDTpPfTQrUtprvNJSh7OvbxTXw74JfFdtEUOM3W0xjglhCHlza3Gvm6mdqjmU28p0b9YzusLbin8tLyXcj9tsL856skazrdrwS5uULEmX9mJ6tz0N/oH+R3KUxJUFGInf0JrCWuEqHLyxZLlA3WTcE0PdvhpJ+lUuBBU/7vfLK3KcLLVArCkwAg8bF/msKCEIrHH2S+GBiGAMlQOyvLYKikICw4JWhA0RIUpgXoJmRo+yJEAuuDIL45x9TSaJwUEzk6zLZFJM8OtQUViEZAkvmgbfRLPrCgdduzQGU7sC9OxGferArYY17amFBKZyZswRhDIB2QcfIk73NxnpTq/r/chJXZWOU18ZIViDOp/CKTKJBuuMZxdzTmt8NOnxk7z0CesIDMLbDAtp5NuERBEtLkqcdZpZjHGEQtp+hiFxCcXRyDDKwsbj/j4U93KnOSoiPOJVv+0Mquxw1IciitsQmci+z/9/WB8+11RRcbA1Zi6b2ARBNQoGKhq70N8UgX00ZHIq2X9U4M+FW9mmLAs3lMkIWrR42Dc7FULJi5Er31QuDmbKP5AzGCrbnsTBKpdkAnal+8orZMJExLQwUFgo1cQVLvM3p8Y+Lsb78HjuYhA7JbMijsVp9aRSFJpfWEw0SFs0igpG0jt7UNjM24WJe7K/sbDZlfYmU9Yyq3kIXAyiu1thCgbeF62tzi4Kngv7a+5wU3++RRFODtXqhLwmq6jmqHIGwbWnisB4HMIvwRjyHEJIMwUhneebL+jtLxCuGAo/1QqmEwCxKDOAgjWWFbMshzjk4uYzDN9CVQMfg2KP9V5EF4BJ6zI1necKDjl5SxvlpK/9g+U5lQiXxurNGUrD0MhPxODdxynwFQ6nDIRrDSC24sNsqkgkharhi88RJO1XL7FmxJ7QT2EcvKZhvPAwU2tE5xPZS+ezHUMtxfCHp/SGjYFrLyApFiQr+KSi8o9E7e7yLGGuGlEJvpFd7OWjqEQU3jz6R4fzJoUBRvjR+IkGHatueCWkSRyWgnpNL7zGnICtXlHX4fzIGVNyt6lrdTQPbTt+O11xm+5PzWfvNokI8TqbdRJQKZLqLYsQRHZXp2L8USx1+usSMV/zLrLQw8Zyckqdb/uPRSaXNDHOROCMShcpcoZJIRA7ahxE5NyO1AMSQGHyL7Pv8JHpdHpqniYSbJVx5DjO5nOV9duIRWMZr8Jfq9cv7EqyhuycIVgyktiQ0zLIi6IXXSBieBMpX7Z11v1EgiS/qNorDxl3Q/uNTyFayJxEvq2X6Y0OVCWDHMB2o38t80mHHfqNeUiQIEex6EascQQiushszd6hJzKQd52StCnrQpK7rSFfEzDHFkRTJebu935x6H4UOIikBdzPk9+R/k4mUIsvR9Ji/IBhzWBvuAJbBCL5m4hGLVWBVJdM2Ap3gfjnlf4p+IUz1bH6KMWhSG3K5hbRbhRNSzMVr4KItjjxl0k3RQY4rCRW5mEOrCaW+MS5kk8kbXXXfthFDvPZBLYduPykVot9LXh3o3PE99FrFw4lxhSotegtHZwgoeEVU5++OEnmKs3lAI0iHeKNygQTX54PTCeb4o2FCYFOIVCmEr57V2EYkEecsEBQVwRYNvTEo6nuZsHJoZQ/HNATJqkAOSIZMo2QijDJuytG1kPFVvemLrmMozWoX7jKolNDYEXZRI2T6U19QVYjZyiV35nkO3nhIZTq4EZouX08ujiOMtRAI5DnztDe9GeePkJD5wTOVB1Ev/psjHVIt2NiFc/Fk9TsNkyykNTGJs60ETxOPWaQiQ5RQZ+ahqcQGaTaI5Hi0vlZ5FgvDVxF12MJ5psisdSfBDrrRus7po9953UtNNfd8igoUWSzWsHuuL2Oyc9sMWXgTXaaUKYnhO47gbJRaZCtbNg9Rprw4CleclTQmGKcfhYtciGbvjAKvLNSP1hOn3kCqcQU5SqRNSCbQLqYv9sKRS/JCscKpGHDORNFZvWsIdEJLZgobjQwh/i/Qtg0ltskLGIZUtVeOgmgvcmQ0WemFca9TLYEvPPDnNMpqxhn0pWrEr4RCbEe5i0LdmxBRGuUMaNZEOXHJM0hhU9q39K6XSpXjaON/yRvIRaiLnopIZgoiHJ1oGYvtGCkEOgGNcyKznSuiL9EMDSagg3sTMUzd6otRVhRiy2z7fVpB6SvJ0lL9CmJC4ZcRZsuZ0QmIhSOlc9mrQxpR96tFxEpiU9i50uVDkmkpRKfG11nwGa4gln2FO+wmBCFKIuyM4vmgqxesyyxtRe4wlesHgRT1XYO+aBuTybo1ek9zXckZ1drBZkn2eoj7DGmzSnSHTahE9AkuIQfKtNCCLwrQTJ/OkG4H//hlCDdPjRL+rAHNoiocucPk80EIojCBFeiWo3GdRsVnkrweVUWVoH+1bc2jK3EIkxYsM2hhWpl69xs2pAGsVpHrwbqzFA2Fc5hQqcqTjBCD2Xk4Js9cmrAkG0IVgwCIVLNh34EUuQRIXBU=\" type=\"audio/flac\" />\n",
              "                    Your browser does not support the audio element.\n",
              "                </audio>\n",
              "              "
            ],
            "text/plain": [
              "<IPython.lib.display.Audio object>"
            ]
          },
          "metadata": {
            "tags": []
          },
          "execution_count": 10
        }
      ]
    },
    {
      "cell_type": "code",
      "metadata": {
        "colab": {
          "base_uri": "https://localhost:8080/",
          "height": 284
        },
        "id": "XukECT6NvqKz",
        "outputId": "995e2c6a-42d8-4f46-b576-42382ab3a435"
      },
      "source": [
        "# show the graph\n",
        "waveform, sample_rate = torchaudio.load(\"/content/LibriSpeech/train-clean-100/103/1240/103-1240-0000.flac\", normalization=True)\n",
        "\n",
        "plt.plot(waveform.t())"
      ],
      "execution_count": 11,
      "outputs": [
        {
          "output_type": "execute_result",
          "data": {
            "text/plain": [
              "[<matplotlib.lines.Line2D at 0x7f7d333e7d68>]"
            ]
          },
          "metadata": {
            "tags": []
          },
          "execution_count": 11
        },
        {
          "output_type": "display_data",
          "data": {
            "image/png": "[encoded data removed]",
            "text/plain": [
              "<Figure size 432x288 with 1 Axes>"
            ]
          },
          "metadata": {
            "tags": [],
            "needs_background": "light"
          }
        }
      ]
    },
    {
      "cell_type": "markdown",
      "metadata": {
        "id": "sxVATx6ev3Zf"
      },
      "source": [
        "### Computing the mfcc features"
      ]
    },
    {
      "cell_type": "code",
      "metadata": {
        "colab": {
          "base_uri": "https://localhost:8080/",
          "height": 126
        },
        "id": "_VYKQ8DUwCRZ",
        "outputId": "63ba2e8f-82a4-42fb-ca3e-78518b087377"
      },
      "source": [
        "# compute mfcc\n",
        "mfcc = torchaudio.transforms.MFCC(n_mfcc=10, log_mels=True)(waveform)\n",
        "plt.figure()\n",
        "plt.imshow(mfcc[0].detach().numpy())\n",
        "print(mfcc.shape)"
      ],
      "execution_count": 13,
      "outputs": [
        {
          "output_type": "stream",
          "text": [
            "torch.Size([1, 10, 1127])\n"
          ],
          "name": "stdout"
        },
        {
          "output_type": "stream",
          "text": [
            "/usr/local/lib/python3.6/dist-packages/torchaudio/functional.py:318: UserWarning: At least one mel filterbank has all zero values. The value for `n_mels` (128) may be set too high. Or, the value for `n_freqs` (201) may be set too low.\n",
            "  \"At least one mel filterbank has all zero values. \"\n"
          ],
          "name": "stderr"
        },
        {
          "output_type": "display_data",
          "data": {
            "image/png": "[encoded data removed]",
            "text/plain": [
              "<Figure size 432x288 with 1 Axes>"
            ]
          },
          "metadata": {
            "tags": [],
            "needs_background": "light"
          }
        }
      ]
    },
    {
      "cell_type": "code",
      "metadata": {
        "colab": {
          "base_uri": "https://localhost:8080/",
          "height": 180
        },
        "id": "ZP_2H1ULjIh9",
        "outputId": "7d51a162-bbdc-4fcd-ba32-90ec8ced52e8"
      },
      "source": [
        "#torchaudio.transforms.FrequencyMasking()\n",
        "#torchaudio.transforms.TimeMasking()"
      ],
      "execution_count": null,
      "outputs": [
        {
          "output_type": "error",
          "ename": "TypeError",
          "evalue": "ignored",
          "traceback": [
            "\u001b[0;31m---------------------------------------------------------------------------\u001b[0m",
            "\u001b[0;31mTypeError\u001b[0m                                 Traceback (most recent call last)",
            "\u001b[0;32m<ipython-input-32-5ba7bddab1cd>\u001b[0m in \u001b[0;36m<module>\u001b[0;34m()\u001b[0m\n\u001b[0;32m----> 1\u001b[0;31m \u001b[0mtorchaudio\u001b[0m\u001b[0;34m.\u001b[0m\u001b[0mtransforms\u001b[0m\u001b[0;34m.\u001b[0m\u001b[0mFrequencyMasking\u001b[0m\u001b[0;34m(\u001b[0m\u001b[0;34m)\u001b[0m\u001b[0;34m\u001b[0m\u001b[0;34m\u001b[0m\u001b[0m\n\u001b[0m\u001b[1;32m      2\u001b[0m \u001b[0mtorchaudio\u001b[0m\u001b[0;34m.\u001b[0m\u001b[0mtransforms\u001b[0m\u001b[0;34m.\u001b[0m\u001b[0mTimeMasking\u001b[0m\u001b[0;34m(\u001b[0m\u001b[0;34m)\u001b[0m\u001b[0;34m\u001b[0m\u001b[0;34m\u001b[0m\u001b[0m\n",
            "\u001b[0;31mTypeError\u001b[0m: __init__() missing 1 required positional argument: 'freq_mask_param'"
          ]
        }
      ]
    },
    {
      "cell_type": "code",
      "metadata": {
        "colab": {
          "base_uri": "https://localhost:8080/"
        },
        "id": "wewv0Utxi8TD",
        "outputId": "391e401c-0d82-4e18-8976-13f829a4c928"
      },
      "source": [
        "class TextTransform:\n",
        "    \"\"\"Maps characters to integers and vice versa\"\"\"\n",
        "    def __init__(self):\n",
        "        char_map_str = \"\"\"\n",
        "        ' 0\n",
        "        <SPACE> 1\n",
        "        a 2\n",
        "        b 3\n",
        "        c 4\n",
        "        d 5\n",
        "        e 6\n",
        "        f 7\n",
        "        g 8\n",
        "        h 9\n",
        "        i 10\n",
        "        j 11\n",
        "        k 12\n",
        "        l 13\n",
        "        m 14\n",
        "        n 15\n",
        "        o 16\n",
        "        p 17\n",
        "        q 18\n",
        "        r 19\n",
        "        s 20\n",
        "        t 21\n",
        "        u 22\n",
        "        v 23\n",
        "        w 24\n",
        "        x 25\n",
        "        y 26\n",
        "        z 27\n",
        "        \"\"\"\n",
        "        self.char_map = {}\n",
        "        self.index_map = {}\n",
        "        for line in char_map_str.strip().split('\\n'):\n",
        "            ch, index = line.split()\n",
        "            self.char_map[ch] = int(index)\n",
        "            self.index_map[int(index)] = ch\n",
        "        self.index_map[1] = ' '\n",
        "\n",
        "    def text_to_int(self, text):\n",
        "        \"\"\" Use a character map and convert text to an integer sequence \"\"\"\n",
        "        int_sequence = []\n",
        "        for c in text:\n",
        "            if c == ' ':\n",
        "                ch = self.char_map['']\n",
        "            else:\n",
        "                ch = self.char_map[c]\n",
        "            int_sequence.append(ch)\n",
        "        return int_sequence\n",
        "\n",
        "    def int_to_text(self, labels):\n",
        "        \"\"\" Use a character map and convert integer labels to an text sequence \"\"\"\n",
        "        string = []\n",
        "        for i in labels:\n",
        "            string.append(self.index_map[i])\n",
        "        return ''.join(string).replace('', ' ')\n",
        "\n",
        "\n",
        "train_audio_transforms = nn.Sequential(\n",
        "    torchaudio.transforms.MelSpectrogram(sample_rate=16000, n_mels=128),\n",
        "    torchaudio.transforms.FrequencyMasking(freq_mask_param=15),\n",
        "    torchaudio.transforms.TimeMasking(time_mask_param=35)\n",
        ")\n",
        "\n",
        "valid_audio_transforms = torchaudio.transforms.MelSpectrogram()\n",
        "\n",
        "text_transform = TextTransform()\n",
        "\n",
        "\n",
        "def data_processing(data, data_type=\"train\"):\n",
        "    spectrograms = []\n",
        "    labels = []\n",
        "    input_lengths = []\n",
        "    label_lengths = []\n",
        "    for (waveform, _, utterance, _, _, _) in data:\n",
        "        if data_type == 'train':\n",
        "            spec = train_audio_transforms(waveform).squeeze(0).transpose(0, 1)\n",
        "        else:\n",
        "            spec = valid_audio_transforms(waveform).squeeze(0).transpose(0, 1)\n",
        "        spectrograms.append(spec)\n",
        "        label = torch.Tensor(text_transform.text_to_int(utterance.lower()))\n",
        "        labels.append(label)\n",
        "        input_lengths.append(spec.shape[0]//2)\n",
        "        label_lengths.append(len(label))\n",
        "\n",
        "    spectrograms = nn.utils.rnn.pad_sequence(spectrograms, batch_first=True).unsqueeze(1).transpose(2, 3)\n",
        "    labels = nn.utils.rnn.pad_sequence(labels, batch_first=True)\n",
        "\n",
        "    return spectrograms, labels, input_lengths, label_lengths"
      ],
      "execution_count": 7,
      "outputs": [
        {
          "output_type": "stream",
          "text": [
            "/usr/local/lib/python3.6/dist-packages/torchaudio/functional.py:318: UserWarning: At least one mel filterbank has all zero values. The value for `n_mels` (128) may be set too high. Or, the value for `n_freqs` (201) may be set too low.\n",
            "  \"At least one mel filterbank has all zero values. \"\n"
          ],
          "name": "stderr"
        }
      ]
    },
    {
      "cell_type": "markdown",
      "metadata": {
        "id": "KFTdwYbbjVoC"
      },
      "source": [
        "then"
      ]
    },
    {
      "cell_type": "code",
      "metadata": {
        "id": "DNNd58C2jXRV"
      },
      "source": [
        "class CNNLayerNorm(nn.Module):\n",
        "    \"\"\"Layer normalization built for cnns input\"\"\"\n",
        "    def __init__(self, n_feats):\n",
        "        super(CNNLayerNorm, self).__init__()\n",
        "        self.layer_norm = nn.LayerNorm(n_feats)\n",
        "\n",
        "    def forward(self, x):\n",
        "        # x (batch, channel, feature, time)\n",
        "        x = x.transpose(2, 3).contiguous() # (batch, channel, time, feature)\n",
        "        x = self.layer_norm(x)\n",
        "        return x.transpose(2, 3).contiguous() # (batch, channel, feature, time) \n",
        "\n",
        "\n",
        "class ResidualCNN(nn.Module):\n",
        "    \"\"\"Residual CNN inspired by https://arxiv.org/pdf/1603.05027.pdf\n",
        "        except with layer norm instead of batch norm\n",
        "    \"\"\"\n",
        "    def __init__(self, in_channels, out_channels, kernel, stride, dropout, n_feats):\n",
        "        super(ResidualCNN, self).__init__()\n",
        "\n",
        "        self.cnn1 = nn.Conv2d(in_channels, out_channels, kernel, stride, padding=kernel//2)\n",
        "        self.cnn2 = nn.Conv2d(out_channels, out_channels, kernel, stride, padding=kernel//2)\n",
        "        self.dropout1 = nn.Dropout(dropout)\n",
        "        self.dropout2 = nn.Dropout(dropout)\n",
        "        self.layer_norm1 = CNNLayerNorm(n_feats)\n",
        "        self.layer_norm2 = CNNLayerNorm(n_feats)\n",
        "\n",
        "    def forward(self, x):\n",
        "        residual = x  # (batch, channel, feature, time)\n",
        "        x = self.layer_norm1(x)\n",
        "        x = F.gelu(x)\n",
        "        x = self.dropout1(x)\n",
        "        x = self.cnn1(x)\n",
        "        x = self.layer_norm2(x)\n",
        "        x = F.gelu(x)\n",
        "        x = self.dropout2(x)\n",
        "        x = self.cnn2(x)\n",
        "        x += residual\n",
        "        return x # (batch, channel, feature, time)\n",
        "\n",
        "\n",
        "class BidirectionalGRU(nn.Module):\n",
        "\n",
        "    def __init__(self, rnn_dim, hidden_size, dropout, batch_first):\n",
        "        super(BidirectionalGRU, self).__init__()\n",
        "\n",
        "        self.BiGRU = nn.GRU(\n",
        "            input_size=rnn_dim, hidden_size=hidden_size,\n",
        "            num_layers=1, batch_first=batch_first, bidirectional=True)\n",
        "        self.layer_norm = nn.LayerNorm(rnn_dim)\n",
        "        self.dropout = nn.Dropout(dropout)\n",
        "\n",
        "    def forward(self, x):\n",
        "        x = self.layer_norm(x)\n",
        "        x = F.gelu(x)\n",
        "        x, _ = self.BiGRU(x)\n",
        "        x = self.dropout(x)\n",
        "        return x\n",
        "\n",
        "\n",
        "class SpeechRecognitionModel(nn.Module):\n",
        "    \"\"\"Speech Recognition Model Inspired by DeepSpeech 2\"\"\"\n",
        "\n",
        "    def __init__(self, n_cnn_layers, n_rnn_layers, rnn_dim, n_class, n_feats, stride=2, dropout=0.1):\n",
        "        super(SpeechRecognitionModel, self).__init__()\n",
        "        n_feats = n_feats//2\n",
        "        self.cnn = nn.Conv2d(1, 32, 3, stride=stride, padding=3//2)  # cnn for extracting heirachal features\n",
        "\n",
        "        # n residual cnn layers with filter size of 32\n",
        "        self.rescnn_layers = nn.Sequential(*[\n",
        "            ResidualCNN(32, 32, kernel=3, stride=1, dropout=dropout, n_feats=n_feats) \n",
        "            for _ in range(n_cnn_layers)\n",
        "        ])\n",
        "        self.fully_connected = nn.Linear(n_feats*32, rnn_dim)\n",
        "        self.birnn_layers = nn.Sequential(*[\n",
        "            BidirectionalGRU(rnn_dim=rnn_dim if i==0 else rnn_dim*2,\n",
        "                             hidden_size=rnn_dim, dropout=dropout, batch_first=i==0)\n",
        "            for i in range(n_rnn_layers)\n",
        "        ])\n",
        "        self.classifier = nn.Sequential(\n",
        "            nn.Linear(rnn_dim*2, rnn_dim),  # birnn returns rnn_dim*2\n",
        "            nn.GELU(),\n",
        "            nn.Dropout(dropout),\n",
        "            nn.Linear(rnn_dim, n_class)\n",
        "        )\n",
        "\n",
        "    def forward(self, x):\n",
        "        x = self.cnn(x)\n",
        "        x = self.rescnn_layers(x)\n",
        "        sizes = x.size()\n",
        "        x = x.view(sizes[0], sizes[1] * sizes[2], sizes[3])  # (batch, feature, time)\n",
        "        x = x.transpose(1, 2) # (batch, time, feature)\n",
        "        x = self.fully_connected(x)\n",
        "        x = self.birnn_layers(x)\n",
        "        x = self.classifier(x)\n",
        "        return x"
      ],
      "execution_count": 8,
      "outputs": []
    },
    {
      "cell_type": "markdown",
      "metadata": {
        "id": "KDyqI3-OzZRj"
      },
      "source": [
        "optimizer"
      ]
    },
    {
      "cell_type": "code",
      "metadata": {
        "id": "TkvpEQx3zhoh"
      },
      "source": [
        "from torch import optim "
      ],
      "execution_count": 10,
      "outputs": []
    },
    {
      "cell_type": "code",
      "metadata": {
        "colab": {
          "base_uri": "https://localhost:8080/",
          "height": 231
        },
        "id": "o8OuzuQiza2u",
        "outputId": "d12532f3-4e2d-4c5d-887a-8b12522660af"
      },
      "source": [
        "optimizer = optim.AdamW(model.parameters(), hparams['learning_rate'])\n",
        "scheduler = optim.lr_scheduler.OneCycleLR(optimizer,\n",
        "\tmax_lr=hparams['learning_rate'],\n",
        "\tsteps_per_epoch=int(len(train_loader)),\n",
        "\tepochs=hparams['epochs'],\n",
        "\tanneal_strategy='linear')"
      ],
      "execution_count": 11,
      "outputs": [
        {
          "output_type": "error",
          "ename": "NameError",
          "evalue": "ignored",
          "traceback": [
            "\u001b[0;31m---------------------------------------------------------------------------\u001b[0m",
            "\u001b[0;31mNameError\u001b[0m                                 Traceback (most recent call last)",
            "\u001b[0;32m<ipython-input-11-8a6f490e8dd7>\u001b[0m in \u001b[0;36m<module>\u001b[0;34m()\u001b[0m\n\u001b[0;32m----> 1\u001b[0;31m \u001b[0moptimizer\u001b[0m \u001b[0;34m=\u001b[0m \u001b[0moptim\u001b[0m\u001b[0;34m.\u001b[0m\u001b[0mAdamW\u001b[0m\u001b[0;34m(\u001b[0m\u001b[0mmodel\u001b[0m\u001b[0;34m.\u001b[0m\u001b[0mparameters\u001b[0m\u001b[0;34m(\u001b[0m\u001b[0;34m)\u001b[0m\u001b[0;34m,\u001b[0m \u001b[0mhparams\u001b[0m\u001b[0;34m[\u001b[0m\u001b[0;34m'learning_rate'\u001b[0m\u001b[0;34m]\u001b[0m\u001b[0;34m)\u001b[0m\u001b[0;34m\u001b[0m\u001b[0;34m\u001b[0m\u001b[0m\n\u001b[0m\u001b[1;32m      2\u001b[0m scheduler = optim.lr_scheduler.OneCycleLR(optimizer,\n\u001b[1;32m      3\u001b[0m         \u001b[0mmax_lr\u001b[0m\u001b[0;34m=\u001b[0m\u001b[0mhparams\u001b[0m\u001b[0;34m[\u001b[0m\u001b[0;34m'learning_rate'\u001b[0m\u001b[0;34m]\u001b[0m\u001b[0;34m,\u001b[0m\u001b[0;34m\u001b[0m\u001b[0;34m\u001b[0m\u001b[0m\n\u001b[1;32m      4\u001b[0m         \u001b[0msteps_per_epoch\u001b[0m\u001b[0;34m=\u001b[0m\u001b[0mint\u001b[0m\u001b[0;34m(\u001b[0m\u001b[0mlen\u001b[0m\u001b[0;34m(\u001b[0m\u001b[0mtrain_loader\u001b[0m\u001b[0;34m)\u001b[0m\u001b[0;34m)\u001b[0m\u001b[0;34m,\u001b[0m\u001b[0;34m\u001b[0m\u001b[0;34m\u001b[0m\u001b[0m\n\u001b[1;32m      5\u001b[0m         \u001b[0mepochs\u001b[0m\u001b[0;34m=\u001b[0m\u001b[0mhparams\u001b[0m\u001b[0;34m[\u001b[0m\u001b[0;34m'epochs'\u001b[0m\u001b[0;34m]\u001b[0m\u001b[0;34m,\u001b[0m\u001b[0;34m\u001b[0m\u001b[0;34m\u001b[0m\u001b[0m\n",
            "\u001b[0;31mNameError\u001b[0m: name 'model' is not defined"
          ]
        }
      ]
    },
    {
      "cell_type": "code",
      "metadata": {
        "id": "JkpxuyIkzz1k"
      },
      "source": [
        "def GreedyDecoder(output, labels, label_lengths, blank_label=28, collapse_repeated=True):\n",
        "    arg_maxes = torch.argmax(output, dim=2)\n",
        "    decodes = []\n",
        "    targets = []\n",
        "    for i, args in enumerate(arg_maxes):\n",
        "        decode = []\n",
        "        targets.append(text_transform.int_to_text(labels[i][:label_lengths[i]].tolist()))\n",
        "        for j, index in enumerate(args):\n",
        "            if index != blank_label:\n",
        "                if collapse_repeated and j != 0 and index == args[j -1]:\n",
        "                    continue\n",
        "                decode.append(index.item())\n",
        "        decodes.append(text_transform.int_to_text(decode))\n",
        "    return decodes, targets"
      ],
      "execution_count": 12,
      "outputs": []
    },
    {
      "cell_type": "markdown",
      "metadata": {
        "id": "XCHPatofjgXt"
      },
      "source": [
        "last step"
      ]
    },
    {
      "cell_type": "code",
      "metadata": {
        "id": "0OrRMn3njiUe"
      },
      "source": [
        ""
      ],
      "execution_count": null,
      "outputs": []
    },
    {
      "cell_type": "code",
      "metadata": {
        "colab": {
          "base_uri": "https://localhost:8080/",
          "height": 323
        },
        "id": "-clt1lRhC-WD",
        "outputId": "882a1287-4494-4ee3-9017-764dd7e7b854"
      },
      "source": [
        "#libri_data = torchaudio.datasets.LIBRISPEECH('./', download=True)\n",
        "#vctk_data = torchaudio.datasets.VCTK_092('./', download=True)"
      ],
      "execution_count": null,
      "outputs": [
        {
          "output_type": "error",
          "ename": "NotImplementedError",
          "evalue": "ignored",
          "traceback": [
            "\u001b[0;31m---------------------------------------------------------------------------\u001b[0m",
            "\u001b[0;31mNotImplementedError\u001b[0m                       Traceback (most recent call last)",
            "\u001b[0;32m<ipython-input-21-117ec99664a3>\u001b[0m in \u001b[0;36m<module>\u001b[0;34m()\u001b[0m\n\u001b[1;32m      1\u001b[0m \u001b[0;31m#libri_data = torchaudio.datasets.LIBRISPEECH('./', download=True)\u001b[0m\u001b[0;34m\u001b[0m\u001b[0;34m\u001b[0m\u001b[0;34m\u001b[0m\u001b[0m\n\u001b[0;32m----> 2\u001b[0;31m \u001b[0mvctk_data\u001b[0m \u001b[0;34m=\u001b[0m \u001b[0mtorchaudio\u001b[0m\u001b[0;34m.\u001b[0m\u001b[0mdatasets\u001b[0m\u001b[0;34m.\u001b[0m\u001b[0mVCTK_092\u001b[0m\u001b[0;34m(\u001b[0m\u001b[0;34m'./'\u001b[0m\u001b[0;34m,\u001b[0m \u001b[0mdownload\u001b[0m\u001b[0;34m=\u001b[0m\u001b[0;32mTrue\u001b[0m\u001b[0;34m)\u001b[0m\u001b[0;34m\u001b[0m\u001b[0;34m\u001b[0m\u001b[0m\n\u001b[0m",
            "\u001b[0;32m/usr/local/lib/python3.6/dist-packages/torchaudio/datasets/vctk.py\u001b[0m in \u001b[0;36m__init__\u001b[0;34m(self, root, mic_id, download, url, audio_ext)\u001b[0m\n\u001b[1;32m    207\u001b[0m                     \u001b[0mchecksum\u001b[0m \u001b[0;34m=\u001b[0m \u001b[0m_CHECKSUMS\u001b[0m\u001b[0;34m.\u001b[0m\u001b[0mget\u001b[0m\u001b[0;34m(\u001b[0m\u001b[0murl\u001b[0m\u001b[0;34m,\u001b[0m \u001b[0;32mNone\u001b[0m\u001b[0;34m)\u001b[0m\u001b[0;34m\u001b[0m\u001b[0;34m\u001b[0m\u001b[0m\n\u001b[1;32m    208\u001b[0m                     \u001b[0mdownload_url\u001b[0m\u001b[0;34m(\u001b[0m\u001b[0murl\u001b[0m\u001b[0;34m,\u001b[0m \u001b[0mroot\u001b[0m\u001b[0;34m,\u001b[0m \u001b[0mhash_value\u001b[0m\u001b[0;34m=\u001b[0m\u001b[0mchecksum\u001b[0m\u001b[0;34m,\u001b[0m \u001b[0mhash_type\u001b[0m\u001b[0;34m=\u001b[0m\u001b[0;34m\"md5\"\u001b[0m\u001b[0;34m)\u001b[0m\u001b[0;34m\u001b[0m\u001b[0;34m\u001b[0m\u001b[0m\n\u001b[0;32m--> 209\u001b[0;31m                 \u001b[0mextract_archive\u001b[0m\u001b[0;34m(\u001b[0m\u001b[0marchive\u001b[0m\u001b[0;34m,\u001b[0m \u001b[0mself\u001b[0m\u001b[0;34m.\u001b[0m\u001b[0m_path\u001b[0m\u001b[0;34m)\u001b[0m\u001b[0;34m\u001b[0m\u001b[0;34m\u001b[0m\u001b[0m\n\u001b[0m\u001b[1;32m    210\u001b[0m \u001b[0;34m\u001b[0m\u001b[0m\n\u001b[1;32m    211\u001b[0m         \u001b[0;32mif\u001b[0m \u001b[0;32mnot\u001b[0m \u001b[0mos\u001b[0m\u001b[0;34m.\u001b[0m\u001b[0mpath\u001b[0m\u001b[0;34m.\u001b[0m\u001b[0misdir\u001b[0m\u001b[0;34m(\u001b[0m\u001b[0mself\u001b[0m\u001b[0;34m.\u001b[0m\u001b[0m_path\u001b[0m\u001b[0;34m)\u001b[0m\u001b[0;34m:\u001b[0m\u001b[0;34m\u001b[0m\u001b[0;34m\u001b[0m\u001b[0m\n",
            "\u001b[0;32m/usr/local/lib/python3.6/dist-packages/torchaudio/datasets/utils.py\u001b[0m in \u001b[0;36mextract_archive\u001b[0;34m(from_path, to_path, overwrite)\u001b[0m\n\u001b[1;32m    245\u001b[0m         \u001b[0;32mpass\u001b[0m\u001b[0;34m\u001b[0m\u001b[0;34m\u001b[0m\u001b[0m\n\u001b[1;32m    246\u001b[0m \u001b[0;34m\u001b[0m\u001b[0m\n\u001b[0;32m--> 247\u001b[0;31m     \u001b[0;32mraise\u001b[0m \u001b[0mNotImplementedError\u001b[0m\u001b[0;34m(\u001b[0m\u001b[0;34m\"We currently only support tar.gz, tgz, and zip achives.\"\u001b[0m\u001b[0;34m)\u001b[0m\u001b[0;34m\u001b[0m\u001b[0;34m\u001b[0m\u001b[0m\n\u001b[0m\u001b[1;32m    248\u001b[0m \u001b[0;34m\u001b[0m\u001b[0m\n\u001b[1;32m    249\u001b[0m \u001b[0;34m\u001b[0m\u001b[0m\n",
            "\u001b[0;31mNotImplementedError\u001b[0m: We currently only support tar.gz, tgz, and zip achives."
          ]
        }
      ]
    },
    {
      "cell_type": "markdown",
      "metadata": {
        "id": "wqYHoOH_Z6sB"
      },
      "source": [
        "Then built based on the \n"
      ]
    },
    {
      "cell_type": "markdown",
      "metadata": {
        "id": "tjVokZoIgkRE"
      },
      "source": [
        "speaker features:\n",
        "https://github.com/jameslyons/python_speech_features\n",
        "\n",
        "https://appliedmachinelearning.blog/2017/11/14/spoken-speaker-identification-based-on-gaussian-mixture-models-python-implementation/"
      ]
    },
    {
      "cell_type": "code",
      "metadata": {
        "id": "2mtPNYWtaca0",
        "colab": {
          "base_uri": "https://localhost:8080/",
          "height": 129
        },
        "outputId": "fc72dc0e-8dc8-4f9e-b076-3536d09d69dd"
      },
      "source": [
        "#GMM\n",
        "import numpy as np\n",
        "from sklearn import preprocessing\n",
        "import python_speech_features as mfcc\n",
        "\n",
        "def calculate_delta(array):\n",
        "    \"\"\"Calculate and returns the delta of given feature vector matrix\"\"\"\n",
        "\n",
        "    rows,cols = array.shape\n",
        "    deltas = np.zeros((rows,20))\n",
        "    N = 2\n",
        "    for i in range(rows):\n",
        "        index = []\n",
        "        j = 1\n",
        "        while j <= N:\n",
        "            if i-j < 0:\n",
        "              first =0\n",
        "            else:\n",
        "              first = i-j\n",
        "            if i+j > rows-1:\n",
        "                second = rows-1\n",
        "            else:\n",
        "                second = i+j \n",
        "            index.append((second,first))\n",
        "            j+=1\n",
        "        deltas[i] = ( array[index[0][0]]-array[index[0][1]] + (2 * (array[index[1][0]]-array[index[1][1]])) ) / 10\n",
        "    return deltas\n",
        "\n",
        "def extract_features(audio,rate):\n",
        "    \"\"\"extract 20 dim mfcc features from an audio, performs CMS and combines \n",
        "    delta to make it 40 dim feature vector\"\"\"    \n",
        "    \n",
        "    mfcc_feature = mfcc.mfcc(audio,rate, 0.025, 0.01,20,nfft = 1200, appendEnergy = True)    \n",
        "    mfcc_feature = preprocessing.scale(mfcc_feature)\n",
        "    delta = calculate_delta(mfcc_feature)\n",
        "    combined = np.hstack((mfcc_feature,delta)) \n",
        "    return combined"
      ],
      "execution_count": null,
      "outputs": [
        {
          "output_type": "error",
          "ename": "SyntaxError",
          "evalue": "ignored",
          "traceback": [
            "\u001b[0;36m  File \u001b[0;32m\"<ipython-input-26-85f13634c570>\"\u001b[0;36m, line \u001b[0;32m15\u001b[0m\n\u001b[0;31m    if i-j  rows-1:\u001b[0m\n\u001b[0m               ^\u001b[0m\n\u001b[0;31mSyntaxError\u001b[0m\u001b[0;31m:\u001b[0m invalid syntax\n"
          ]
        }
      ]
    },
    {
      "cell_type": "markdown",
      "metadata": {
        "id": "8z3mamkE16Ps"
      },
      "source": [
        "Authencation process"
      ]
    },
    {
      "cell_type": "code",
      "metadata": {
        "id": "9F1WQl9B196d"
      },
      "source": [
        "from google.colab import drive\n",
        "drive.mount('/content/gdrive')"
      ],
      "execution_count": null,
      "outputs": []
    },
    {
      "cell_type": "code",
      "metadata": {
        "id": "E4qx1LPl2ZCe"
      },
      "source": [
        "from __future__ import print_function\n",
        "\n",
        "import argparse\n",
        "import os\n",
        "import random\n",
        "import torch\n",
        "import torch.nn as nn\n",
        "import torch.nn.parallel\n",
        "import torch.backends.cudnn as cudnn\n",
        "import torch.optim as optim\n",
        "import torch.utils.data\n",
        "import torchvision.datasets as dset\n",
        "import torchvision.transforms as transforms\n",
        "import torchvision.utils as vutils\n",
        "import numpy as np\n",
        "import matplotlib.pyplot as plt\n",
        "import matplotlib.animation as animation\n",
        "from IPython.display import HTML\n",
        "\n",
        "# Set random seem for reproducibility\n",
        "manualSeed = 999\n",
        "#manualSeed = random.randint(1, 10000) # use if you want new results\n",
        "print(\"Random Seed: \", manualSeed)\n",
        "random.seed(manualSeed)\n",
        "torch.manual_seed(manualSeed)"
      ],
      "execution_count": null,
      "outputs": []
    },
    {
      "cell_type": "markdown",
      "metadata": {
        "id": "zEl1xYqh5fDM"
      },
      "source": [
        "https://discuss.pytorch.org/t/how-to-save-model-weights-to-local-machine-from-colab/33318/2\n",
        "\n",
        "save models"
      ]
    },
    {
      "cell_type": "code",
      "metadata": {
        "id": "PU1iYEEO_UV1"
      },
      "source": [
        "\"\"\"\n",
        "You can run either this notebook locally (if you have all the dependencies and a GPU) or on Google Colab.\n",
        "\n",
        "Instructions for setting up Colab are as follows:\n",
        "1. Open a new Python 3 notebook.\n",
        "2. Import this notebook from GitHub (File -> Upload Notebook -> \"GITHUB\" tab -> copy/paste GitHub URL)\n",
        "3. Connect to an instance with a GPU (Runtime -> Change runtime type -> select \"GPU\" for hardware accelerator)\n",
        "4. Run this cell to set up dependencies.\n",
        "\"\"\"\n",
        "# If you're using Google Colab and not running locally, run this cell.\n",
        "\n",
        "## Install dependencies\n",
        "!pip install wget\n",
        "!apt-get install sox libsndfile1 ffmpeg\n",
        "!pip install unidecode\n",
        "\n",
        "\n",
        "## Install TorchAudio\n",
        "!pip install torchaudio>=0.6.0 -f https://download.pytorch.org/whl/torch_stable.html\n"
      ],
      "execution_count": null,
      "outputs": []
    },
    {
      "cell_type": "code",
      "metadata": {
        "id": "e7_0XIHto5Wt"
      },
      "source": [
        "class SpeechEmbedder(nn.Module):\n",
        "    \n",
        "    def __init__(self):\n",
        "      # super avoid call the \n",
        "        super(SpeechEmbedder, self).__init__()    \n",
        "        self.LSTM_stack = nn.LSTM(hp.data.nmels, hp.model.hidden, num_layers=hp.model.num_layer, batch_first=True)\n",
        "        for name, param in self.LSTM_stack.named_parameters():\n",
        "          if 'bias' in name:\n",
        "             nn.init.constant_(param, 0.0)\n",
        "          elif 'weight' in name:\n",
        "            #Fills the input Tensor with values according to the method \n",
        "             nn.init.xavier_normal_(param)\n",
        "        self.projection = nn.Linear(hp.model.hidden, hp.model.proj)\n",
        "        \n",
        "    def forward(self, x):\n",
        "        x, _ = self.LSTM_stack(x.float()) #(batch, frames, n_mels)\n",
        "        #only use last frame\n",
        "        x = x[:,x.size(1)-1]\n",
        "        x = self.projection(x.float())\n",
        "        x = x / torch.norm(x, dim=1).unsqueeze(1)\n",
        "        return x\n",
        "\n",
        "## using Generalized end to end loss function. \n",
        "class GE2ELoss(nn.Module):\n",
        "    \n",
        "    def __init__(self, device):\n",
        "        super(GE2ELoss, self).__init__()\n",
        "        self.w = nn.Parameter(torch.tensor(10.0).to(device), requires_grad=True)\n",
        "        self.b = nn.Parameter(torch.tensor(-5.0).to(device), requires_grad=True)\n",
        "        self.device = device\n",
        "    \n",
        "    def forward(self, embeddings):\n",
        "        torch.clamp(self.w, 1e-6)\n",
        "        centroids = get_centroids(embeddings)\n",
        "        cossim = get_cossim(embeddings, centroids)\n",
        "        sim_matrix = self.w*cossim.to(self.device) + self.b\n",
        "        loss, _ = calc_loss(sim_matrix)\n",
        "        return loss\n"
      ],
      "execution_count": 14,
      "outputs": []
    },
    {
      "cell_type": "code",
      "metadata": {
        "id": "740o1IdKEA0g",
        "colab": {
          "base_uri": "https://localhost:8080/",
          "height": 231
        },
        "outputId": "c165aa98-3a1a-4dcd-e23f-505fbca8f989"
      },
      "source": [
        "\n",
        "## based on computer vision product\n",
        "device = torch.device(\"cuda:0\" if (torch.cuda.is_available() and ngpu > 0) else \"cpu\")\n",
        "# Create the generator\n",
        "netG = Generator(ngpu).to(device)\n",
        "\n",
        "# Handle multi-gpu if desired\n",
        "if (device.type == 'cuda') and (ngpu > 1):\n",
        "    netG = nn.DataParallel(netG, list(range(ngpu)))\n",
        "\n",
        "# Apply the weights_init function to randomly initialize all weights\n",
        "#  to mean=0, stdev=0.2.\n",
        "netG.apply(weights_init)\n",
        "\n",
        "# Print the model\n",
        "print(netG)"
      ],
      "execution_count": 15,
      "outputs": [
        {
          "output_type": "error",
          "ename": "NameError",
          "evalue": "ignored",
          "traceback": [
            "\u001b[0;31m---------------------------------------------------------------------------\u001b[0m",
            "\u001b[0;31mNameError\u001b[0m                                 Traceback (most recent call last)",
            "\u001b[0;32m<ipython-input-15-8cfcd0c85799>\u001b[0m in \u001b[0;36m<module>\u001b[0;34m()\u001b[0m\n\u001b[1;32m      3\u001b[0m \u001b[0mdevice\u001b[0m \u001b[0;34m=\u001b[0m \u001b[0mtorch\u001b[0m\u001b[0;34m.\u001b[0m\u001b[0mdevice\u001b[0m\u001b[0;34m(\u001b[0m\u001b[0;34m\"cuda:0\"\u001b[0m \u001b[0;32mif\u001b[0m \u001b[0;34m(\u001b[0m\u001b[0mtorch\u001b[0m\u001b[0;34m.\u001b[0m\u001b[0mcuda\u001b[0m\u001b[0;34m.\u001b[0m\u001b[0mis_available\u001b[0m\u001b[0;34m(\u001b[0m\u001b[0;34m)\u001b[0m \u001b[0;32mand\u001b[0m \u001b[0mngpu\u001b[0m \u001b[0;34m>\u001b[0m \u001b[0;36m0\u001b[0m\u001b[0;34m)\u001b[0m \u001b[0;32melse\u001b[0m \u001b[0;34m\"cpu\"\u001b[0m\u001b[0;34m)\u001b[0m\u001b[0;34m\u001b[0m\u001b[0;34m\u001b[0m\u001b[0m\n\u001b[1;32m      4\u001b[0m \u001b[0;31m# Create the generator\u001b[0m\u001b[0;34m\u001b[0m\u001b[0;34m\u001b[0m\u001b[0;34m\u001b[0m\u001b[0m\n\u001b[0;32m----> 5\u001b[0;31m \u001b[0mnetG\u001b[0m \u001b[0;34m=\u001b[0m \u001b[0mGenerator\u001b[0m\u001b[0;34m(\u001b[0m\u001b[0mngpu\u001b[0m\u001b[0;34m)\u001b[0m\u001b[0;34m.\u001b[0m\u001b[0mto\u001b[0m\u001b[0;34m(\u001b[0m\u001b[0mdevice\u001b[0m\u001b[0;34m)\u001b[0m\u001b[0;34m\u001b[0m\u001b[0;34m\u001b[0m\u001b[0m\n\u001b[0m\u001b[1;32m      6\u001b[0m \u001b[0;34m\u001b[0m\u001b[0m\n\u001b[1;32m      7\u001b[0m \u001b[0;31m# Handle multi-gpu if desired\u001b[0m\u001b[0;34m\u001b[0m\u001b[0;34m\u001b[0m\u001b[0;34m\u001b[0m\u001b[0m\n",
            "\u001b[0;31mNameError\u001b[0m: name 'Generator' is not defined"
          ]
        }
      ]
    },
    {
      "cell_type": "markdown",
      "metadata": {
        "id": "HgXl8HPIe26U"
      },
      "source": [
        "# Fresh Start "
      ]
    },
    {
      "cell_type": "markdown",
      "metadata": {
        "id": "vHiBxDP9fZWR"
      },
      "source": [
        "Here I use the pytorch lighting model"
      ]
    },
    {
      "cell_type": "code",
      "metadata": {
        "id": "7pxeittLfAap"
      },
      "source": [
        "class SpeechEmbedder(pl.LightningModule):\n",
        "    \n",
        "    def __init__(self):\n",
        "      # super avoid call the \n",
        "        super(SpeechEmbedder, self).__init__()    \n",
        "        self.LSTM_stack = nn.LSTM(hp.data.nmels, hp.model.hidden, num_layers=hp.model.num_layer, batch_first=True)\n",
        "        for name, param in self.LSTM_stack.named_parameters():\n",
        "          if 'bias' in name:\n",
        "             nn.init.constant_(param, 0.0)\n",
        "          elif 'weight' in name:\n",
        "            #Fills the input Tensor with values according to the method \n",
        "             nn.init.xavier_normal_(param)\n",
        "        self.projection = nn.Linear(hp.model.hidden, hp.model.proj)\n",
        "        \n",
        "    def forward(self, x):\n",
        "        x, _ = self.LSTM_stack(x.float()) #(batch, frames, n_mels)\n",
        "        #only use last frame\n",
        "        x = x[:,x.size(1)-1]\n",
        "        x = self.projection(x.float())\n",
        "        x = x / torch.norm(x, dim=1).unsqueeze(1)\n",
        "        return x"
      ],
      "execution_count": 16,
      "outputs": []
    },
    {
      "cell_type": "code",
      "metadata": {
        "id": "18w0bqp3gIPa"
      },
      "source": [
        "## using Generalized end to end loss function. \n",
        "class GE2ELoss(pl.LightningModule):\n",
        "    \n",
        "    def __init__(self, device):\n",
        "        super(GE2ELoss, self).__init__()\n",
        "        self.w = nn.Parameter(torch.tensor(10.0).to(device), requires_grad=True)\n",
        "        self.b = nn.Parameter(torch.tensor(-5.0).to(device), requires_grad=True)\n",
        "        self.device = device\n",
        "    \n",
        "    def forward(self, embeddings):\n",
        "        torch.clamp(self.w, 1e-6)\n",
        "        centroids = get_centroids(embeddings)\n",
        "        cossim = get_cossim(embeddings, centroids)\n",
        "        sim_matrix = self.w*cossim.to(self.device) + self.b\n",
        "        loss, _ = calc_loss(sim_matrix)\n",
        "        return loss"
      ],
      "execution_count": 17,
      "outputs": []
    },
    {
      "cell_type": "markdown",
      "metadata": {
        "id": "j9T1rBGUGOay"
      },
      "source": [
        "DataLoad"
      ]
    },
    {
      "cell_type": "code",
      "metadata": {
        "id": "pe5W_JBQZYFg"
      },
      "source": [
        "class ConcatDataset(torch.utils.data.Dataset):\n",
        "    def __init__(self, *datasets):\n",
        "        self.datasets = datasets\n",
        "\n",
        "    def __getitem__(self, i):\n",
        "        return tuple(d[i] for d in self.datasets)\n",
        "\n",
        "    def __len__(self):\n",
        "        return min(len(d) for d in self.datasets)\n",
        "\n",
        "class LitModel(LightningModule):\n",
        "\n",
        "    def train_dataloader(self):\n",
        "        concat_dataset = ConcatDataset(\n",
        "            datasets.ImageFolder(traindir_A),\n",
        "            datasets.ImageFolder(traindir_B)\n",
        "        )\n",
        "\n",
        "        loader = torch.utils.data.DataLoader(\n",
        "            concat_dataset,\n",
        "            batch_size=args.batch_size,\n",
        "            shuffle=True,\n",
        "            num_workers=args.workers,\n",
        "            pin_memory=True\n",
        "        )\n",
        "        return loader\n",
        "\n",
        "    def val_dataloader(self):\n",
        "        # SAME\n",
        "        ...\n",
        "\n",
        "    def test_dataloader(self):\n",
        "        # SAME\n",
        "        ..."
      ],
      "execution_count": null,
      "outputs": []
    },
    {
      "cell_type": "code",
      "metadata": {
        "id": "GraRCW-dmpWN"
      },
      "source": [
        "class MyDataModule(LightningDataModule):\n",
        "\n",
        "    def __init__(self):\n",
        "        super().__init__()\n",
        "        self.train_dims = None\n",
        "        self.vocab_size = 0\n",
        "\n",
        "    def prepare_data(self):\n",
        "        # called only on 1 GPU\n",
        "        download_dataset()\n",
        "        tokenize()\n",
        "        build_vocab()\n",
        "\n",
        "    def setup(self):\n",
        "        # called on every GPU\n",
        "        vocab = load_vocab()\n",
        "        self.vocab_size = len(vocab)\n",
        "\n",
        "        self.train, self.val, self.test = load_datasets()\n",
        "        self.train_dims = self.train.next_batch.size()\n",
        "\n",
        "    def train_dataloader(self):\n",
        "        transforms = ...\n",
        "        return DataLoader(self.train, batch_size=64)\n",
        "\n",
        "    def val_dataloader(self):\n",
        "        transforms = ...\n",
        "        return DataLoader(self.val, batch_size=64)\n",
        "\n",
        "    def test_dataloader(self):\n",
        "        transforms = ...\n",
        "        return DataLoader(self.test, batch_size=64)"
      ],
      "execution_count": null,
      "outputs": []
    },
    {
      "cell_type": "code",
      "metadata": {
        "id": "8GuRqugZGQhm"
      },
      "source": [
        "libri_train\n",
        "libri_val\n",
        "libri_test"
      ],
      "execution_count": null,
      "outputs": []
    },
    {
      "cell_type": "code",
      "metadata": {
        "id": "i3aAewzPGg7h"
      },
      "source": [
        "def prepare_data(self):\n",
        "  ##prepare transform to dataset\n",
        "  "
      ],
      "execution_count": null,
      "outputs": []
    },
    {
      "cell_type": "markdown",
      "metadata": {
        "id": "4wR5-i6PgA10"
      },
      "source": [
        "## training"
      ]
    },
    {
      "cell_type": "markdown",
      "metadata": {
        "id": "gI6_Duf7FGoA"
      },
      "source": [
        "code"
      ]
    },
    {
      "cell_type": "code",
      "metadata": {
        "id": "6-L83NleiW6_"
      },
      "source": [
        "# defining global variable path\n",
        "# Location of my dataset on My Google Drive\n",
        "file_path = \"/content/drive/MyDrive/TIMIT/TRAIN\"\n",
        "import tensorflow as tf\n",
        "\n",
        "def loadFiles(path):\n",
        "    '''Put files into lists and return them as one list with all files \n",
        "     in the folder'''\n",
        "    wav_files = sorted([os.path.join(path, 'train', file)\n",
        "                          for file in os.listdir(path + \"/train\")\n",
        "                          if file.endswith('.wav')])\n",
        "    return file_path\n"
      ],
      "execution_count": null,
      "outputs": []
    },
    {
      "cell_type": "markdown",
      "metadata": {
        "id": "MaNdNIz1qB50"
      },
      "source": [
        ""
      ]
    },
    {
      "cell_type": "code",
      "metadata": {
        "id": "2skZKltCpzSI"
      },
      "source": [
        "### example \n",
        "'''\n",
        "learning_rate = 5e-4\n",
        "batch_size = 10\n",
        "epochs = 10\n",
        "libri_train_set = \"train-clean-100\"\n",
        "libri_test_set = \"test-clean\"\n",
        "\n",
        "main(learning_rate, batch_size, epochs, libri_train_set, libri_test_set, experiment)\n",
        "\n",
        "'''"
      ],
      "execution_count": null,
      "outputs": []
    },
    {
      "cell_type": "code",
      "metadata": {
        "id": "iHr4t9CSCB6N"
      },
      "source": [
        ""
      ],
      "execution_count": null,
      "outputs": []
    },
    {
      "cell_type": "code",
      "metadata": {
        "id": "SL13Ro-dxUn3",
        "colab": {
          "base_uri": "https://localhost:8080/",
          "height": 367
        },
        "outputId": "9bc1f3ce-ff7c-4ec1-debc-228f9828c7c9"
      },
      "source": [
        "from torch.utils.data import DataLoader\n",
        "\n",
        "from data_load import SpeakerDatasetTIMIT, SpeakerDatasetTIMITPreprocessed\n",
        "from speech_embedder_net import SpeechEmbedder, GE2ELoss, get_centroids, get_cossim\n",
        "\n",
        "def train(model_path):\n",
        "    device = torch.device(hp.device)\n",
        "    \n",
        "    if hp.data.data_preprocessed:\n",
        "        train_dataset = SpeakerDatasetTIMITPreprocessed()\n",
        "    else:\n",
        "        train_dataset = SpeakerDatasetTIMIT()\n",
        "    train_loader = DataLoader(train_dataset, batch_size=hp.train.N, shuffle=True, num_workers=hp.train.num_workers, drop_last=True) \n",
        "    \n",
        "    embedder_net = SpeechEmbedder().to(device)\n",
        "    if hp.train.restore:\n",
        "        embedder_net.load_state_dict(torch.load(model_path))\n",
        "    ge2e_loss = GE2ELoss(device)\n",
        "    #Both net and loss have trainable parameters\n",
        "    optimizer = torch.optim.SGD([\n",
        "                    {'params': embedder_net.parameters()},\n",
        "                    {'params': ge2e_loss.parameters()}\n",
        "                ], lr=hp.train.lr)\n",
        "    \n",
        "    os.makedirs(hp.train.checkpoint_dir, exist_ok=True)\n",
        "    \n",
        "    embedder_net.train()\n",
        "    iteration = 0\n",
        "    for e in range(hp.train.epochs):\n",
        "        total_loss = 0\n",
        "        for batch_id, mel_db_batch in enumerate(train_loader): \n",
        "            mel_db_batch = mel_db_batch.to(device)\n",
        "            \n",
        "            mel_db_batch = torch.reshape(mel_db_batch, (hp.train.N*hp.train.M, mel_db_batch.size(2), mel_db_batch.size(3)))\n",
        "            perm = random.sample(range(0, hp.train.N*hp.train.M), hp.train.N*hp.train.M)\n",
        "            unperm = list(perm)\n",
        "            for i,j in enumerate(perm):\n",
        "                unperm[j] = i\n",
        "            mel_db_batch = mel_db_batch[perm]\n",
        "            #gradient accumulates\n",
        "            optimizer.zero_grad()\n",
        "            \n",
        "            embeddings = embedder_net(mel_db_batch)\n",
        "            embeddings = embeddings[unperm]\n",
        "            embeddings = torch.reshape(embeddings, (hp.train.N, hp.train.M, embeddings.size(1)))\n",
        "            \n",
        "            #get loss, call backward, step optimizer\n",
        "            loss = ge2e_loss(embeddings) #wants (Speaker, Utterances, embedding)\n",
        "            loss.backward()\n",
        "            torch.nn.utils.clip_grad_norm_(embedder_net.parameters(), 3.0)\n",
        "            torch.nn.utils.clip_grad_norm_(ge2e_loss.parameters(), 1.0)\n",
        "            optimizer.step()\n",
        "            \n",
        "            total_loss = total_loss + loss\n",
        "            iteration += 1\n",
        "            if (batch_id + 1) % hp.train.log_interval == 0:\n",
        "                mesg = \"{0}\\tEpoch:{1}[{2}/{3}],Iteration:{4}\\tLoss:{5:.4f}\\tTLoss:{6:.4f}\\t\\n\".format(time.ctime(), e+1,\n",
        "                        batch_id+1, len(train_dataset)//hp.train.N, iteration,loss, total_loss / (batch_id + 1))\n",
        "                print(mesg)\n",
        "                if hp.train.log_file is not None:\n",
        "                    with open(hp.train.log_file,'a') as f:\n",
        "                        f.write(mesg)\n",
        "                    \n",
        "        if hp.train.checkpoint_dir is not None and (e + 1) % hp.train.checkpoint_interval == 0:\n",
        "            embedder_net.eval().cpu()\n",
        "            ckpt_model_filename = \"ckpt_epoch_\" + str(e+1) + \"_batch_id_\" + str(batch_id+1) + \".pth\"\n",
        "            ckpt_model_path = os.path.join(hp.train.checkpoint_dir, ckpt_model_filename)\n",
        "            torch.save(embedder_net.state_dict(), ckpt_model_path)\n",
        "            embedder_net.to(device).train()\n",
        "\n",
        "    #save model\n",
        "    embedder_net.eval().cpu()\n",
        "    save_model_filename = \"final_epoch_\" + str(e + 1) + \"_batch_id_\" + str(batch_id + 1) + \".model\"\n",
        "    save_model_path = os.path.join(hp.train.checkpoint_dir, save_model_filename)\n",
        "    torch.save(embedder_net.state_dict(), save_model_path)\n",
        "    \n",
        "    print(\"\\nDone, trained model saved at\", save_model_path)\n",
        "\n",
        "def test(model_path):\n",
        "    \n",
        "    if hp.data.data_preprocessed:\n",
        "        test_dataset = SpeakerDatasetTIMITPreprocessed()\n",
        "    else:\n",
        "        test_dataset = SpeakerDatasetTIMIT()\n",
        "    test_loader = DataLoader(test_dataset, batch_size=hp.test.N, shuffle=True, num_workers=hp.test.num_workers, drop_last=True)\n",
        "    \n",
        "    embedder_net = SpeechEmbedder()\n",
        "    embedder_net.load_state_dict(torch.load(model_path))\n",
        "    embedder_net.eval()\n",
        "    \n",
        "    avg_EER = 0\n",
        "    for e in range(hp.test.epochs):\n",
        "        batch_avg_EER = 0\n",
        "        for batch_id, mel_db_batch in enumerate(test_loader):\n",
        "            assert hp.test.M % 2 == 0\n",
        "            enrollment_batch, verification_batch = torch.split(mel_db_batch, int(mel_db_batch.size(1)/2), dim=1)\n",
        "            \n",
        "            enrollment_batch = torch.reshape(enrollment_batch, (hp.test.N*hp.test.M//2, enrollment_batch.size(2), enrollment_batch.size(3)))\n",
        "            verification_batch = torch.reshape(verification_batch, (hp.test.N*hp.test.M//2, verification_batch.size(2), verification_batch.size(3)))\n",
        "            \n",
        "            perm = random.sample(range(0,verification_batch.size(0)), verification_batch.size(0))\n",
        "            unperm = list(perm)\n",
        "            for i,j in enumerate(perm):\n",
        "                unperm[j] = i\n",
        "                \n",
        "            verification_batch = verification_batch[perm]\n",
        "            enrollment_embeddings = embedder_net(enrollment_batch)\n",
        "            verification_embeddings = embedder_net(verification_batch)\n",
        "            verification_embeddings = verification_embeddings[unperm]\n",
        "            \n",
        "            enrollment_embeddings = torch.reshape(enrollment_embeddings, (hp.test.N, hp.test.M//2, enrollment_embeddings.size(1)))\n",
        "            verification_embeddings = torch.reshape(verification_embeddings, (hp.test.N, hp.test.M//2, verification_embeddings.size(1)))\n",
        "            \n",
        "            enrollment_centroids = get_centroids(enrollment_embeddings)\n",
        "            \n",
        "            sim_matrix = get_cossim(verification_embeddings, enrollment_centroids)\n",
        "            \n",
        "            # calculating EER\n",
        "            diff = 1; EER=0; EER_thresh = 0; EER_FAR=0; EER_FRR=0\n",
        "            \n",
        "            for thres in [0.01*i+0.5 for i in range(50)]:\n",
        "                sim_matrix_thresh = sim_matrix>thres\n",
        "                \n",
        "                FAR = (sum([sim_matrix_thresh[i].float().sum()-sim_matrix_thresh[i,:,i].float().sum() for i in range(int(hp.test.N))])\n",
        "                /(hp.test.N-1.0)/(float(hp.test.M/2))/hp.test.N)\n",
        "    \n",
        "                FRR = (sum([hp.test.M/2-sim_matrix_thresh[i,:,i].float().sum() for i in range(int(hp.test.N))])\n",
        "                /(float(hp.test.M/2))/hp.test.N)\n",
        "                \n",
        "                # Save threshold when FAR = FRR (=EER)\n",
        "                if diff> abs(FAR-FRR):\n",
        "                    diff = abs(FAR-FRR)\n",
        "                    EER = (FAR+FRR)/2\n",
        "                    EER_thresh = thres\n",
        "                    EER_FAR = FAR\n",
        "                    EER_FRR = FRR\n",
        "            batch_avg_EER += EER\n",
        "            print(\"\\nEER : %0.2f (thres:%0.2f, FAR:%0.2f, FRR:%0.2f)\"%(EER,EER_thresh,EER_FAR,EER_FRR))\n",
        "        avg_EER += batch_avg_EER/(batch_id+1)\n",
        "    avg_EER = avg_EER / hp.test.epochs\n",
        "    print(\"\\n EER across {0} epochs: {1:.4f}\".format(hp.test.epochs, avg_EER))\n",
        "        \n",
        "if __name__==\"__main__\":\n",
        "    if hp.training:\n",
        "        train(hp.model.model_path)\n",
        "    else:\n",
        "        test(hp.model.model_path)"
      ],
      "execution_count": null,
      "outputs": [
        {
          "output_type": "error",
          "ename": "ModuleNotFoundError",
          "evalue": "ignored",
          "traceback": [
            "\u001b[0;31m---------------------------------------------------------------------------\u001b[0m",
            "\u001b[0;31mModuleNotFoundError\u001b[0m                       Traceback (most recent call last)",
            "\u001b[0;32m<ipython-input-18-b67adf267fa2>\u001b[0m in \u001b[0;36m<module>\u001b[0;34m()\u001b[0m\n\u001b[1;32m      1\u001b[0m \u001b[0;32mfrom\u001b[0m \u001b[0mtorch\u001b[0m\u001b[0;34m.\u001b[0m\u001b[0mutils\u001b[0m\u001b[0;34m.\u001b[0m\u001b[0mdata\u001b[0m \u001b[0;32mimport\u001b[0m \u001b[0mDataLoader\u001b[0m\u001b[0;34m\u001b[0m\u001b[0;34m\u001b[0m\u001b[0m\n\u001b[1;32m      2\u001b[0m \u001b[0;34m\u001b[0m\u001b[0m\n\u001b[0;32m----> 3\u001b[0;31m \u001b[0;32mfrom\u001b[0m \u001b[0mdata_load\u001b[0m \u001b[0;32mimport\u001b[0m \u001b[0mSpeakerDatasetTIMIT\u001b[0m\u001b[0;34m,\u001b[0m \u001b[0mSpeakerDatasetTIMITPreprocessed\u001b[0m\u001b[0;34m\u001b[0m\u001b[0;34m\u001b[0m\u001b[0m\n\u001b[0m\u001b[1;32m      4\u001b[0m \u001b[0;32mfrom\u001b[0m \u001b[0mspeech_embedder_net\u001b[0m \u001b[0;32mimport\u001b[0m \u001b[0mSpeechEmbedder\u001b[0m\u001b[0;34m,\u001b[0m \u001b[0mGE2ELoss\u001b[0m\u001b[0;34m,\u001b[0m \u001b[0mget_centroids\u001b[0m\u001b[0;34m,\u001b[0m \u001b[0mget_cossim\u001b[0m\u001b[0;34m\u001b[0m\u001b[0;34m\u001b[0m\u001b[0m\n\u001b[1;32m      5\u001b[0m \u001b[0;34m\u001b[0m\u001b[0m\n",
            "\u001b[0;31mModuleNotFoundError\u001b[0m: No module named 'data_load'",
            "",
            "\u001b[0;31m---------------------------------------------------------------------------\u001b[0;32m\nNOTE: If your import is failing due to a missing package, you can\nmanually install dependencies using either !pip or !apt.\n\nTo view examples of installing some common dependencies, click the\n\"Open Examples\" button below.\n\u001b[0;31m---------------------------------------------------------------------------\u001b[0m\n"
          ]
        }
      ]
    },
    {
      "cell_type": "markdown",
      "metadata": {
        "id": "_Xqg882PY5Vh"
      },
      "source": [
        "## saving model"
      ]
    },
    {
      "cell_type": "markdown",
      "metadata": {
        "id": "LaRn81QrZDOv"
      },
      "source": [
        "check: https://pytorch-lightning.readthedocs.io/en/stable/weights_loading.html"
      ]
    },
    {
      "cell_type": "code",
      "metadata": {
        "id": "MMwhavS8Y7oJ"
      },
      "source": [
        "# saves checkpoints to '/your/path/to/save/checkpoints' at every epoch end\n",
        "trainer = Trainer(default_root_dir='/your/path/to/save/checkpoints')"
      ],
      "execution_count": null,
      "outputs": []
    },
    {
      "cell_type": "code",
      "metadata": {
        "id": "rqxOuCq5ZAfh"
      },
      "source": [
        "from pytorch_lightning.callbacks import ModelCheckpoint\n",
        "\n",
        "class LitAutoEncoder(pl.LightningModule):\n",
        "    def validation_step(self, batch, batch_idx):\n",
        "        x, y = batch\n",
        "        y_hat = self.backbone(x)\n",
        "\n",
        "        # 1. calculate loss\n",
        "        loss = F.cross_entropy(y_hat, y)\n",
        "\n",
        "        # 2. log `val_loss`\n",
        "        self.log('val_loss', loss)\n",
        "\n",
        "# 3. Init ModelCheckpoint callback, monitoring 'val_loss'\n",
        "checkpoint_callback = ModelCheckpoint(monitor='val_loss')\n",
        "\n",
        "# 4. Add your callback to the callbacks list\n",
        "trainer = Trainer(callbacks=[checkpoint_callback])"
      ],
      "execution_count": null,
      "outputs": []
    },
    {
      "cell_type": "markdown",
      "metadata": {
        "id": "x-oRIlRvtbqW"
      },
      "source": [
        "# Performance Check"
      ]
    },
    {
      "cell_type": "markdown",
      "metadata": {
        "id": "tkvfT01Ftei3"
      },
      "source": [
        "Plan to use a goodgle dataset"
      ]
    },
    {
      "cell_type": "code",
      "metadata": {
        "id": "MnnQ3VM1tiNP"
      },
      "source": [
        "!wget -O speech_commands_v0.01.tar.gz http://download.tensorflow.org/data/speech_commands_v0.01.tar.gz\n",
        "!tar xzf speech_commands_v0.01.tar.gz \n",
        "!ls"
      ],
      "execution_count": null,
      "outputs": []
    }
  ]
}